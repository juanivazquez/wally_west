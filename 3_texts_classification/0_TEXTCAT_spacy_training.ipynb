{
 "cells": [
  {
   "cell_type": "markdown",
   "id": "b697ed13-8cd9-4ab3-8a12-6c2f86d17d4f",
   "metadata": {},
   "source": [
    "# SETTINGS"
   ]
  },
  {
   "cell_type": "markdown",
   "id": "0d1d0731-1340-4909-a709-782ebaaa54af",
   "metadata": {},
   "source": [
    "## Importamos Librerías"
   ]
  },
  {
   "cell_type": "code",
   "execution_count": 1,
   "id": "be6230f5-7ea0-42bc-8919-b438ee1f905e",
   "metadata": {},
   "outputs": [
    {
     "name": "stdout",
     "output_type": "stream",
     "text": [
      "C:\\Users\\juani\\Documents\\3_My_Jupiter_Notebooks\\0_github\\ner\n"
     ]
    }
   ],
   "source": [
    "import pandas as pd\n",
    "import numpy as np\n",
    "import spacy\n",
    "from spacy.tokens import DocBin\n",
    "from tqdm import tqdm\n",
    "import json\n",
    "import os\n",
    "print(os.getcwd())\n",
    "# spacy.__version__\n",
    "# Check GPU information\n",
    "# !nvidia-smi"
   ]
  },
  {
   "cell_type": "markdown",
   "id": "2c9c5bd5-b56d-47bf-8fbd-fa2e179c5a6b",
   "metadata": {},
   "source": [
    "## Creamos una carpeta para entrenar el modelo"
   ]
  },
  {
   "cell_type": "code",
   "execution_count": 15,
   "id": "fc01d75c-8835-4cde-ba7e-df92e4132311",
   "metadata": {},
   "outputs": [
    {
     "name": "stdout",
     "output_type": "stream",
     "text": [
      "Created folder: textcat_model_1\n",
      "new path is : C:\\Users\\juani\\Documents\\3_My_Jupiter_Notebooks\\0_github\\ner\\textcat_model_1\n"
     ]
    }
   ],
   "source": [
    "def generate_model_folder(base_folder='textcat_model_', start_index=1):\n",
    "    index = start_index\n",
    "    while True:\n",
    "        folder_name = f\"{base_folder}{index}\"\n",
    "        if not os.path.exists(folder_name):\n",
    "            os.makedirs(folder_name)\n",
    "            ner_model_path = os.path.abspath(folder_name)\n",
    "\n",
    "            yield folder_name,ner_model_path\n",
    "        index += 1\n",
    "\n",
    "# Invocamos al generador\n",
    "folder_generator = generate_model_folder()\n",
    "\n",
    "# Get the next available folder\n",
    "model_folder, model_path = next(folder_generator)\n",
    "\n",
    "print(f\"Created folder: {model_folder}\")\n",
    "print(f'new path is : {model_path}')"
   ]
  },
  {
   "cell_type": "markdown",
   "id": "ca2bcdb7-aa64-4b7f-a012-8e0f0802bc72",
   "metadata": {},
   "source": [
    "## levantamos los datos y los guardamos con formato spacy en la carpeta del modelo"
   ]
  },
  {
   "cell_type": "code",
   "execution_count": 10,
   "id": "b60ffe62-96c2-4bd5-bdd3-a32d47cd0eaf",
   "metadata": {},
   "outputs": [],
   "source": [
    "import spacy\n",
    "from spacy.lang.es.stop_words import STOP_WORDS\n",
    "import string\n",
    "from unidecode import unidecode\n",
    "import os"
   ]
  },
  {
   "cell_type": "code",
   "execution_count": 7,
   "id": "6eabdaa0-f3d4-4428-a0b7-8b0f065f5054",
   "metadata": {},
   "outputs": [],
   "source": [
    "path = r'C:\\\\Users\\\\juani\\\\Documents\\\\3_My_Jupiter_Notebooks\\\\0_github\\\\ner'\n",
    "\n",
    "anotados = pd.read_pickle(os.path.join(path,'anotados.pkl'))"
   ]
  },
  {
   "cell_type": "code",
   "execution_count": 11,
   "id": "9dec7c72-af53-4c3a-b968-a50dbccda8b3",
   "metadata": {},
   "outputs": [
    {
     "name": "stdout",
     "output_type": "stream",
     "text": [
      "Original Text: Este es un ejemplo de ,texto en español que queremos procesar.\n",
      "Preprocessed Tokens: ejemplo texto espanol procesar\n"
     ]
    }
   ],
   "source": [
    "# Load the spaCy model for Spanish\n",
    "nlp = spacy.load('es_core_news_sm')\n",
    "\n",
    "def preprocess(text):\n",
    "    # Step 1: Lowercasing\n",
    "    text = text.lower()\n",
    "    text = unidecode(text)\n",
    "    \n",
    "    # Step 2: Tokenization\n",
    "    doc = nlp(text)\n",
    "\n",
    "    # Step 3: Stopword removal\n",
    "    # tokens = [token.text for token in doc if token.text not in STOP_WORDS]\n",
    "    #tokens = [token.text for token in doc if token.text not in STOP_WORDS and token.text not in string.punctuation]\n",
    "    \n",
    "    # Step 4: Lemmatization\n",
    "    #lemmatized_tokens = [token.lemma_ for token in doc if token.text not in STOP_WORDS]\n",
    "    lemmatized_tokens = [token.lemma_ for token in doc if token.text not in STOP_WORDS and token.text not in string.punctuation]\n",
    "\n",
    "\n",
    "    return \" \".join(lemmatized_tokens)\n",
    "\n",
    "# Example usage:\n",
    "text_example = \"Este es un ejemplo de ,texto en español que queremos procesar.\"\n",
    "preprocessed_tokens = preprocess(text_example)\n",
    "\n",
    "print(\"Original Text:\", text_example)\n",
    "print(\"Preprocessed Tokens:\", preprocessed_tokens)"
   ]
  },
  {
   "cell_type": "code",
   "execution_count": 12,
   "id": "fb04df2d-eecf-48c5-9084-267d90788bad",
   "metadata": {},
   "outputs": [
    {
     "data": {
      "text/html": [
       "<div>\n",
       "<style scoped>\n",
       "    .dataframe tbody tr th:only-of-type {\n",
       "        vertical-align: middle;\n",
       "    }\n",
       "\n",
       "    .dataframe tbody tr th {\n",
       "        vertical-align: top;\n",
       "    }\n",
       "\n",
       "    .dataframe thead th {\n",
       "        text-align: right;\n",
       "    }\n",
       "</style>\n",
       "<table border=\"1\" class=\"dataframe\">\n",
       "  <thead>\n",
       "    <tr style=\"text-align: right;\">\n",
       "      <th></th>\n",
       "      <th>Letters</th>\n",
       "      <th>tokens</th>\n",
       "      <th>Numbers</th>\n",
       "    </tr>\n",
       "  </thead>\n",
       "  <tbody>\n",
       "    <tr>\n",
       "      <th>0</th>\n",
       "      <td>\\nFLORIAN S.A.\\n1) Daniel Mario Marquez DNI 10...</td>\n",
       "      <td>\\n floriar s.a \\n 1 daniel mario marquez dni 1...</td>\n",
       "      <td>1</td>\n",
       "    </tr>\n",
       "    <tr>\n",
       "      <th>1</th>\n",
       "      <td>\\nSOLUCIONES DE SEGURIDAD VIAL S.A.\\nPor Asamb...</td>\n",
       "      <td>\\n solución seguridad vial s.a \\n asamblea gen...</td>\n",
       "      <td>0</td>\n",
       "    </tr>\n",
       "    <tr>\n",
       "      <th>2</th>\n",
       "      <td>\\nAVAPYME S.A.S.\\nCONSTITUCIÓN: 17/10/2018. 1....</td>\n",
       "      <td>\\n avapymir s.a.s \\n constitucion 17/10/2018 1...</td>\n",
       "      <td>1</td>\n",
       "    </tr>\n",
       "    <tr>\n",
       "      <th>3</th>\n",
       "      <td>\\nSHABBA FARMA S.R.L.\\nEsc. 269 del 29-3-22 Re...</td>\n",
       "      <td>\\n shabba farmar s.r.l \\n esc 269 29-3-22 regi...</td>\n",
       "      <td>1</td>\n",
       "    </tr>\n",
       "    <tr>\n",
       "      <th>4</th>\n",
       "      <td>\\nGADA GROUP S.A.\\nCUIT 30-71583994-2. Por Act...</td>\n",
       "      <td>\\n gado group s.a \\n cuit 30-71583994-2 acta a...</td>\n",
       "      <td>0</td>\n",
       "    </tr>\n",
       "  </tbody>\n",
       "</table>\n",
       "</div>"
      ],
      "text/plain": [
       "                                             Letters  \\\n",
       "0  \\nFLORIAN S.A.\\n1) Daniel Mario Marquez DNI 10...   \n",
       "1  \\nSOLUCIONES DE SEGURIDAD VIAL S.A.\\nPor Asamb...   \n",
       "2  \\nAVAPYME S.A.S.\\nCONSTITUCIÓN: 17/10/2018. 1....   \n",
       "3  \\nSHABBA FARMA S.R.L.\\nEsc. 269 del 29-3-22 Re...   \n",
       "4  \\nGADA GROUP S.A.\\nCUIT 30-71583994-2. Por Act...   \n",
       "\n",
       "                                              tokens Numbers  \n",
       "0  \\n floriar s.a \\n 1 daniel mario marquez dni 1...       1  \n",
       "1  \\n solución seguridad vial s.a \\n asamblea gen...       0  \n",
       "2  \\n avapymir s.a.s \\n constitucion 17/10/2018 1...       1  \n",
       "3  \\n shabba farmar s.r.l \\n esc 269 29-3-22 regi...       1  \n",
       "4  \\n gado group s.a \\n cuit 30-71583994-2 acta a...       0  "
      ]
     },
     "execution_count": 12,
     "metadata": {},
     "output_type": "execute_result"
    }
   ],
   "source": [
    "anotados['tokens'] = [preprocess(l) for l in anotados['Letters'] ]\n",
    "anotados = anotados[['Letters', 'tokens', 'Numbers']]\n",
    "anotados.head()"
   ]
  },
  {
   "cell_type": "code",
   "execution_count": 13,
   "id": "50aa7a2d-5e61-42a4-a3ee-82dc51dc3a10",
   "metadata": {},
   "outputs": [
    {
     "data": {
      "text/plain": [
       "('\\n floriar s.a \\n 1 daniel mario marquez dni 10788314 argentino divorciado comerciante 23/02/53 guillermo rawson 2715 \\n localidad olivo partido vicente lopez pcia bs as suscribir 95 acción alberto rivera luna dni \\n 18820133 argentino divorciado comerciante 06/01/68 av cobir 1581 car suscribir 5 acción \\n nominativa endosabl 4000 valor nominal 1 voto accion 2 10/02/22 4 junin 1715 car \\n 5 restaurante cafe bar salon evento 6 30 ano 7 400000 8) direccion administracion 1 7 director \\n 3 ejercicio sindico 9 presidente presidente daniel mario marquez vicepresidente alberto rivera \\n luna suplente gustavo marcelo graieb dni 14157635 argentino soltero productor seguro 14/05/60 av \\n cabildo 1695 piso 8 depto 26 car domicilio especial sede social 10 30/06 autorizado \\n instrumento publico esc 16 fecha 10/02/2022 reg 412 \\n pablo damiar rodriguez tdeg 69 fdeg 84 c.p.a.c.f \\n',\n",
       " 1)"
      ]
     },
     "execution_count": 13,
     "metadata": {},
     "output_type": "execute_result"
    }
   ],
   "source": [
    "texts = anotados['tokens'].values\n",
    "# train_labels = [{'cats': label}  for label in anotados['Numbers']]\n",
    "labels = anotados['Numbers'].values\n",
    "\n",
    "data = list(zip(texts, labels))\n",
    "data[0]"
   ]
  },
  {
   "cell_type": "code",
   "execution_count": 14,
   "id": "a67dc723-c16c-4d7a-b6db-7690152a14b3",
   "metadata": {},
   "outputs": [
    {
     "data": {
      "text/plain": [
       "(504, 126, 70)"
      ]
     },
     "execution_count": 14,
     "metadata": {},
     "output_type": "execute_result"
    }
   ],
   "source": [
    "# Split the annotated data into training and testing sets\n",
    "from sklearn.model_selection import train_test_split\n",
    "training, dev = train_test_split(data, test_size=0.1, random_state=42)\n",
    "train, test = train_test_split(training, test_size=0.2, random_state=42)\n",
    "\n",
    "# Display the number of items in the training and testing sets\n",
    "len(train), len(test), len(dev)"
   ]
  },
  {
   "cell_type": "code",
   "execution_count": 21,
   "id": "7f461bc5-292f-4452-ba79-a7feac42cd69",
   "metadata": {},
   "outputs": [],
   "source": [
    "from spacy.tokens import DocBin\n",
    "import spacy\n",
    "\n",
    "\n",
    "def convert(data, outfile):\n",
    "    # spacy_model = 'es_core_news_sm'\n",
    "    nlp = spacy.load(\"es_core_news_sm\")  # es_core_news_sm /  es_dep_news_trf\n",
    "    db = spacy.tokens.DocBin()\n",
    "    docs = []\n",
    "    for doc, label in nlp.pipe(data, as_tuples=True):\n",
    "        doc.cats[\"POS\"] = label == 1\n",
    "        doc.cats[\"NEG\"] = label == 0\n",
    "        db.add(doc)\n",
    "    \n",
    "    db.to_disk(outfile)\n",
    "file = open(os.path.join(model_path,'train_file.txt'),'w')\n",
    "\n",
    "convert(train, os.path.join(model_path,'train.spacy'))\n",
    "convert(test, os.path.join(model_path,'test.spacy'))\n",
    "convert(dev, os.path.join(model_path,'dev.spacy'))\n",
    "\n",
    "file.close()"
   ]
  },
  {
   "cell_type": "code",
   "execution_count": 24,
   "id": "9e64dc0a-525e-4dbd-9e61-ca0d28e9248f",
   "metadata": {},
   "outputs": [
    {
     "data": {
      "text/plain": [
       "['dev.spacy', 'test.spacy', 'train.spacy', 'train_file.txt']"
      ]
     },
     "execution_count": 24,
     "metadata": {},
     "output_type": "execute_result"
    }
   ],
   "source": [
    "os.listdir(model_path)"
   ]
  },
  {
   "cell_type": "markdown",
   "id": "1e582681-3ec1-48b3-832a-7d60ff76bc4c",
   "metadata": {},
   "source": [
    "## generamos el archivo config.cfg"
   ]
  },
  {
   "cell_type": "markdown",
   "id": "1db9a01a-60f5-49f7-b5d1-80e1102734f7",
   "metadata": {},
   "source": [
    "Generamos el archivo base_config y lo dejamos en la carpeta nueva que creamos."
   ]
  },
  {
   "cell_type": "markdown",
   "id": "0ef3bafb-73e8-462c-995d-d2bcb1b16a23",
   "metadata": {},
   "source": [
    "https://spacy.io/usage/training"
   ]
  },
  {
   "cell_type": "code",
   "execution_count": 27,
   "id": "0597f87e-f6c2-40e8-aa98-4b8e9751d474",
   "metadata": {},
   "outputs": [
    {
     "name": "stdout",
     "output_type": "stream",
     "text": [
      "!python -m spacy init fill-config C:\\Users\\juani\\Documents\\3_My_Jupiter_Notebooks\\0_github\\ner\\textcat_model_1/base_config.cfg C:\\Users\\juani\\Documents\\3_My_Jupiter_Notebooks\\0_github\\ner\\textcat_model_1/config/config.cfg\n"
     ]
    }
   ],
   "source": [
    "def generate_spacy_init_command(base_path, config_filename = \"config.cfg\"):\n",
    "    \"\"\"\n",
    "    Generate a string for running the 'spacy init fill-config' command.\n",
    "\n",
    "    Args:\n",
    "    - base_path (str): The base path where the files are located.\n",
    "    - config_filename (str): The name of the configuration file.\n",
    "\n",
    "    Returns:\n",
    "    - str: The generated command string.\n",
    "    \"\"\"\n",
    "    if base_path is None:\n",
    "        \n",
    "        base_path = os.getcwd()\n",
    "        \n",
    "    command = f\"!python -m spacy init fill-config {base_path}/base_config.cfg {base_path}/config/{config_filename}\"\n",
    "    return command\n",
    "\n",
    "# Example usage:\n",
    "# model_path = \"/your_file_path\"\n",
    "config_filename = \"config.cfg\"\n",
    "\n",
    "spacy_init_command = generate_spacy_init_command(model_path, config_filename)\n",
    "print(spacy_init_command)"
   ]
  },
  {
   "cell_type": "code",
   "execution_count": 28,
   "id": "d20e6648-360b-40ee-a8e1-7bebf6314f36",
   "metadata": {},
   "outputs": [
    {
     "name": "stdout",
     "output_type": "stream",
     "text": [
      "\u001b[38;5;2m[+] Auto-filled config with all values\u001b[0m\n",
      "\u001b[38;5;2m[+] Saved config\u001b[0m\n",
      "C:\\Users\\juani\\Documents\\3_My_Jupiter_Notebooks\\0_github\\ner\\textcat_model_1\\config\\config.cfg\n",
      "You can now add your data and train your pipeline:\n",
      "python -m spacy train config.cfg --paths.train ./train.spacy --paths.dev ./dev.spacy\n"
     ]
    }
   ],
   "source": [
    "!python -m spacy init fill-config C:\\Users\\juani\\Documents\\3_My_Jupiter_Notebooks\\0_github\\ner\\textcat_model_1/base_config.cfg C:\\Users\\juani\\Documents\\3_My_Jupiter_Notebooks\\0_github\\ner\\textcat_model_1/config/config.cfg"
   ]
  },
  {
   "cell_type": "markdown",
   "id": "2dd8c7e8-d735-496b-8d25-bb5467144cbc",
   "metadata": {},
   "source": [
    "# TRAINING"
   ]
  },
  {
   "cell_type": "markdown",
   "id": "e4d6c486-f8bb-4e79-a5a8-14f88940e031",
   "metadata": {},
   "source": [
    "Vamos a la ruta"
   ]
  },
  {
   "cell_type": "code",
   "execution_count": 29,
   "id": "16c498eb-508a-4e4a-9da5-184ed9e4d91a",
   "metadata": {},
   "outputs": [
    {
     "data": {
      "text/plain": [
       "'C:\\\\Users\\\\juani\\\\Documents\\\\3_My_Jupiter_Notebooks\\\\0_github\\\\ner\\\\textcat_model_1'"
      ]
     },
     "execution_count": 29,
     "metadata": {},
     "output_type": "execute_result"
    }
   ],
   "source": [
    "# vamos a la carpeta donde vamos a entrenar:\n",
    "os.chdir(model_path)\n",
    "os.getcwd()"
   ]
  },
  {
   "cell_type": "markdown",
   "id": "2a120bc4-ae0d-4c1d-b8af-98687634feb8",
   "metadata": {},
   "source": [
    "¡y entrenamos!\n",
    "\n",
    "Recorda que spacy tiene su lenguaje: \n",
    "\n",
    "spacy ---- mundo\n",
    "\n",
    "train ---- train\n",
    "\n",
    "dev   ---- test\n",
    "\n",
    "eval  ---- dev"
   ]
  },
  {
   "cell_type": "code",
   "execution_count": 30,
   "id": "d438d6e0-d41e-4123-b243-909e529aaf8f",
   "metadata": {},
   "outputs": [
    {
     "name": "stdout",
     "output_type": "stream",
     "text": [
      "\u001b[38;5;4m[i] Saving to output directory: .\u001b[0m\n",
      "\u001b[38;5;4m[i] Using CPU\u001b[0m\n",
      "\u001b[1m\n",
      "=========================== Initializing pipeline ===========================\u001b[0m\n",
      "\u001b[38;5;2m[+] Initialized pipeline\u001b[0m\n",
      "\u001b[1m\n",
      "============================= Training pipeline =============================\u001b[0m\n",
      "\u001b[38;5;4m[i] Pipeline: ['tok2vec', 'textcat']\u001b[0m\n",
      "\u001b[38;5;4m[i] Initial learn rate: 0.001\u001b[0m\n",
      "E    #       LOSS TOK2VEC  LOSS TEXTCAT  CATS_SCORE  SCORE \n",
      "---  ------  ------------  ------------  ----------  ------\n",
      "  0       0          0.00          0.25       33.33    0.33\n",
      "  0     200         20.00         54.69       84.57    0.85\n",
      "  0     400         88.13         28.50       95.23    0.95\n",
      "  1     600         89.63         31.53       38.42    0.38\n",
      "  1     800        201.95         49.56       78.51    0.79\n",
      "  2    1000        550.80         58.62       74.19    0.74\n",
      "  2    1200        442.19         30.36       90.42    0.90\n",
      "  2    1400        448.76         37.21       89.67    0.90\n",
      "  3    1600       1744.95         27.66       92.03    0.92\n",
      "  3    1800       1169.70         31.87       92.03    0.92\n",
      "  4    2000       2488.39         28.11       90.42    0.90\n",
      "\u001b[38;5;2m[+] Saved pipeline to output directory\u001b[0m\n",
      "model-last\n"
     ]
    },
    {
     "name": "stderr",
     "output_type": "stream",
     "text": [
      "[2024-02-08 15:10:24,006] [DEBUG] Config overrides from CLI: ['paths.train', 'paths.dev', 'paths.eval']\n",
      "[2024-02-08 15:10:24,161] [INFO] Set up nlp object from config\n",
      "[2024-02-08 15:10:24,173] [DEBUG] Loading corpus from path: test.spacy\n",
      "[2024-02-08 15:10:24,174] [DEBUG] Loading corpus from path: train.spacy\n",
      "[2024-02-08 15:10:24,175] [INFO] Pipeline: ['tok2vec', 'textcat']\n",
      "[2024-02-08 15:10:24,179] [INFO] Created vocabulary\n",
      "[2024-02-08 15:10:25,525] [INFO] Added vectors: es_core_news_lg\n",
      "[2024-02-08 15:10:25,525] [INFO] Finished initializing nlp object\n",
      "[2024-02-08 15:10:28,939] [INFO] Initialized pipeline components: ['tok2vec', 'textcat']\n",
      "[2024-02-08 15:10:28,951] [DEBUG] Loading corpus from path: test.spacy\n",
      "[2024-02-08 15:10:28,952] [DEBUG] Loading corpus from path: train.spacy\n"
     ]
    }
   ],
   "source": [
    "# Train a spaCy NER model using the provided configuration and data\n",
    "!python -m spacy train ./config/config.cfg --output ./ --paths.train ./train.spacy --paths.dev ./test.spacy --paths.eval ./dev.spacy --verbose"
   ]
  },
  {
   "cell_type": "markdown",
   "id": "419cf8fe-e2ab-454d-be22-2ddf826e850d",
   "metadata": {},
   "source": [
    "# PERFORMANCE"
   ]
  },
  {
   "cell_type": "code",
   "execution_count": 31,
   "id": "25c32b6b-95f8-450b-b444-67bdeadf6e6a",
   "metadata": {},
   "outputs": [],
   "source": [
    "import matplotlib.pyplot as plt\n",
    "import warnings"
   ]
  },
  {
   "cell_type": "code",
   "execution_count": 32,
   "id": "aff0ae04-efaf-4bf0-8c1f-1371c0df6718",
   "metadata": {},
   "outputs": [],
   "source": [
    "nlp = spacy.load(os.path.join(model_path,'model-best'))"
   ]
  },
  {
   "cell_type": "code",
   "execution_count": 33,
   "id": "84200126-29cb-414a-9f65-c07dae02d51c",
   "metadata": {},
   "outputs": [
    {
     "data": {
      "text/html": [
       "<div>\n",
       "<style scoped>\n",
       "    .dataframe tbody tr th:only-of-type {\n",
       "        vertical-align: middle;\n",
       "    }\n",
       "\n",
       "    .dataframe tbody tr th {\n",
       "        vertical-align: top;\n",
       "    }\n",
       "\n",
       "    .dataframe thead th {\n",
       "        text-align: right;\n",
       "    }\n",
       "</style>\n",
       "<table border=\"1\" class=\"dataframe\">\n",
       "  <thead>\n",
       "    <tr style=\"text-align: right;\">\n",
       "      <th></th>\n",
       "      <th>POS</th>\n",
       "      <th>NEG</th>\n",
       "    </tr>\n",
       "  </thead>\n",
       "  <tbody>\n",
       "    <tr>\n",
       "      <th>p</th>\n",
       "      <td>0.93</td>\n",
       "      <td>0.98</td>\n",
       "    </tr>\n",
       "    <tr>\n",
       "      <th>r</th>\n",
       "      <td>0.98</td>\n",
       "      <td>0.92</td>\n",
       "    </tr>\n",
       "    <tr>\n",
       "      <th>f</th>\n",
       "      <td>0.95</td>\n",
       "      <td>0.95</td>\n",
       "    </tr>\n",
       "  </tbody>\n",
       "</table>\n",
       "</div>"
      ],
      "text/plain": [
       "    POS   NEG\n",
       "p  0.93  0.98\n",
       "r  0.98  0.92\n",
       "f  0.95  0.95"
      ]
     },
     "execution_count": 33,
     "metadata": {},
     "output_type": "execute_result"
    }
   ],
   "source": [
    "warnings.simplefilter(action='ignore', category=FutureWarning)\n",
    "# leavntamos los datos de performance:\n",
    "d = nlp.__dict__['_meta']['performance']\n",
    "# armamos un dataframe por variable:\n",
    "cats_per_type = pd.DataFrame(d['cats_f_per_type'])\n",
    "cats_per_type.round(2)"
   ]
  },
  {
   "cell_type": "code",
   "execution_count": 34,
   "id": "94579ec4-2936-4a70-989a-201f96287ec9",
   "metadata": {},
   "outputs": [
    {
     "name": "stderr",
     "output_type": "stream",
     "text": [
      "C:\\Users\\juani\\AppData\\Local\\Temp\\ipykernel_25528\\3507992440.py:10: SettingWithCopyWarning: \n",
      "A value is trying to be set on a copy of a slice from a DataFrame.\n",
      "Try using .loc[row_indexer,col_indexer] = value instead\n",
      "\n",
      "See the caveats in the documentation: https://pandas.pydata.org/pandas-docs/stable/user_guide/indexing.html#returning-a-view-versus-a-copy\n",
      "  anotados['prob'] = proba_ls.copy()\n"
     ]
    },
    {
     "data": {
      "image/png": "[encoded data removed]",
      "text/plain": [
       "<Figure size 640x480 with 1 Axes>"
      ]
     },
     "metadata": {},
     "output_type": "display_data"
    }
   ],
   "source": [
    "def get_proba(text=str):\n",
    "    doc = nlp(text)\n",
    "    return doc.cats['POS']\n",
    "\n",
    "\n",
    "test = anotados.tokens.tolist()\n",
    "\n",
    "proba_ls = [*map(get_proba, test)]\n",
    "\n",
    "anotados['prob'] = proba_ls.copy()\n",
    "\n",
    "_, bins = pd.cut(proba_ls, bins=25, retbins=True)\n",
    "plt.hist(proba_ls, bins);"
   ]
  },
  {
   "cell_type": "code",
   "execution_count": 36,
   "id": "ce0970de-7b67-4c85-b9d5-b03cbf64904b",
   "metadata": {},
   "outputs": [
    {
     "name": "stderr",
     "output_type": "stream",
     "text": [
      "C:\\Users\\juani\\AppData\\Local\\Temp\\ipykernel_25528\\1592397077.py:10: SettingWithCopyWarning: \n",
      "A value is trying to be set on a copy of a slice from a DataFrame.\n",
      "Try using .loc[row_indexer,col_indexer] = value instead\n",
      "\n",
      "See the caveats in the documentation: https://pandas.pydata.org/pandas-docs/stable/user_guide/indexing.html#returning-a-view-versus-a-copy\n",
      "  anotados['pred'] = discretize_ls.copy()\n"
     ]
    },
    {
     "data": {
      "image/png": "[encoded data removed]",
      "text/plain": [
       "<Figure size 640x480 with 1 Axes>"
      ]
     },
     "metadata": {},
     "output_type": "display_data"
    }
   ],
   "source": [
    "def discretize(p):\n",
    "    if p<0.2:\n",
    "        return 0\n",
    "    elif p<0.8:\n",
    "        return -1\n",
    "    else:\n",
    "        return 1\n",
    "\n",
    "discretize_ls = [*map(discretize, proba_ls)]\n",
    "anotados['pred'] = discretize_ls.copy()\n",
    "_, bins = pd.cut(discretize_ls, bins=3, retbins=True)\n",
    "plt.hist(discretize_ls, bins);"
   ]
  },
  {
   "cell_type": "code",
   "execution_count": 37,
   "id": "80f518b3-dc2f-40dd-8f5d-02e90380ead7",
   "metadata": {},
   "outputs": [
    {
     "name": "stderr",
     "output_type": "stream",
     "text": [
      "C:\\Users\\juani\\AppData\\Local\\Temp\\ipykernel_25528\\3258463554.py:1: SettingWithCopyWarning: \n",
      "A value is trying to be set on a copy of a slice from a DataFrame.\n",
      "Try using .loc[row_indexer,col_indexer] = value instead\n",
      "\n",
      "See the caveats in the documentation: https://pandas.pydata.org/pandas-docs/stable/user_guide/indexing.html#returning-a-view-versus-a-copy\n",
      "  anotados['control'] = [ int(a==b) for a,b in zip( discretize_ls, anotados.Numbers.tolist())]\n"
     ]
    }
   ],
   "source": [
    "anotados['control'] = [ int(a==b) for a,b in zip( discretize_ls, anotados.Numbers.tolist())]"
   ]
  },
  {
   "cell_type": "markdown",
   "id": "057b9f6e-b585-4e43-b934-7ad49a40ba79",
   "metadata": {},
   "source": [
    "# EXAMPLE"
   ]
  },
  {
   "cell_type": "code",
   "execution_count": 38,
   "id": "df413c7e-f9eb-4592-9bfa-613183cfc36f",
   "metadata": {},
   "outputs": [],
   "source": [
    "text = '''\n",
    "KEYBOARD S.A.\n",
    "Escritura Nº 362 de fecha 27/06/2023. Orlando DI FONZO, argentino, empresario, casado en primeras nupcias con \n",
    "Amalia Rinaldi, DNI 8.609.671, CUIT Nº 20-08609671-5; y Gonzalo Gastón DI FONZO, argentino, empresario, soltero, \n",
    "DNI 33.689.504, CUIT 23-33689504-9, ambos domiciliados en Carmen Puch Nº 1000, de la Localidad y Partido de \n",
    "Pilar, Provincia de Buenos Aires: Resuelven que la sociedad se adecúe voluntariamente a las disposiciones del art. \n",
    "124 de la ley 19.550 y aprueban todas las estipulaciones del estatuto: 1) Keyboard S.A. 2) Duración: 30 años desde \n",
    "inscripción. 3) Objeto: Compra, venta, hipoteca, arrendamiento y toda clase de operaciones con bienes inmuebles. \n",
    "Realizar y/o administrar inversiones. Importaciones, exportaciones, comisiones, representaciones y mandatos. \n",
    "Operaciones financieras relacionadas con sus actividades principales. 4) Capital: $  1.000.000.-, representado \n",
    "por diez mil acciones ordinarias, nominativas no endosables, de v/n $ 100.- cada una y derecho a un voto por \n",
    "acción. 5) Dirección y administración: a cargo del directorio compuesto del número de miembros que determine \n",
    "la asamblea, entre un mínimo de uno y un máximo de cinco, por tres ejercicios. 6) Prescindencia de Sindicatura. \n",
    "7) Suscripción: Orlando DI FONZO y Gonzalo Gastón DI FONZO suscriben la cantidad de cinco mil acciones \n",
    "cada uno, lo que representa el 50% del capital social. Directorio: PRESIDENTE: Orlando DI FONZO; y DIRECTOR \n",
    "SUPLENTE: Gonzalo Gastón DI FONZO, quienes constituyen domicilio especial en la sede social, fijada en la calle \n",
    "Lavalle Nº 643, Piso 5º, Oficina “D”, C.A.B.A. Cierre ejercicio social: 30 de junio de cada año. Autorizado según \n",
    "instrumento público Esc. Nº 362 de fecha 27/06/2023 Reg. Nº 1017.\n",
    "Lucía Agundez - T°: 114 F°: 540 C.P.A.C.F.\n",
    "'''"
   ]
  },
  {
   "cell_type": "code",
   "execution_count": 39,
   "id": "4df44dd2-0c59-4076-be82-5bc044755add",
   "metadata": {},
   "outputs": [
    {
     "name": "stdout",
     "output_type": "stream",
     "text": [
      "0.9994329810142517\n"
     ]
    }
   ],
   "source": [
    "doc = nlp(text)\n",
    "print(doc.cats['POS'])"
   ]
  },
  {
   "cell_type": "code",
   "execution_count": 42,
   "id": "e7ce06aa-489a-422f-b1b9-75d23bd2c654",
   "metadata": {},
   "outputs": [
    {
     "name": "stdout",
     "output_type": "stream",
     "text": [
      "0.9978819489479065\n"
     ]
    }
   ],
   "source": [
    "text_2 = '''\n",
    "GRUPO LAS NACIONES S.A.S.\n",
    "CONSTITUCIÓN: 18/09/2019. 1.- PABLO BARBERO, 01/04/1987, Casado/a, Argentina, VENTA AL POR MENOR \n",
    "NO REALIZADA EN ESTABLECIMIENTOS N.C.P., PERU 1087 piso -- CIUDAD DE BUENOS AIRES, DNI \n",
    "Nº 32629804, CUIL/CUIT/CDI Nº 20326298043, DARIO BARBERO, 25/09/1963, Casado/a, Argentina, SERVICIOS \n",
    "DE CONTABILIDAD, AUDITORÍA Y ASESORÍA FISCAL, PERU 1087 piso -- CIUDAD DE BUENOS AIRES, DNI \n",
    "Nº 16432964, CUIL/CUIT/CDI Nº 20164329640, . 2.- “Grupo Las Naciones SAS”. 3.- PERU 1087 piso --, CABA. 4.- \n",
    "La sociedad tiene por objeto dedicarse, por cuenta propia o ajena o asociada con terceros, ya sea dentro o fuera \n",
    "del país, a la creación, producción, intercambio, fabricación, transformación, industrialización, comercialización, \n",
    "intermediación, representación, importación y exportación de toda clase de bienes materiales, incluso recursos \n",
    "naturales, e inmateriales y la prestación de toda clase de servicios, relacionados directa o indirectamente con \n",
    "las siguientes actividades: (a) Agropecuarias, avícolas, ganaderas, pesqueras, tamberas y vitivinícolas; (b) \n",
    "Comunicaciones, espectáculos, editoriales y gráficas en cualquier soporte; (c) Industrias manufactureras de \n",
    "todo tipo; (d) Culturales y educativas; (e) Desarrollo de tecnologías, investigación e innovación y software; (f) \n",
    "Gastronómicas, hoteleras y turísticas; (g) Inmobiliarias y constructoras; (h) Inversoras, financieras y fideicomisos; (i) \n",
    "Petroleras, gasíferas, forestales, mineras y energéticas en todas sus formas; (j) Salud, y (k) Transporte. La sociedad \n",
    "tiene plena capacidad de derecho para realizar cualquier acto jurídico en el país o en el extranjero, realizar toda \n",
    "actividad lícita, adquirir derechos y contraer obligaciones. Para la ejecución de las actividades enumeradas en su \n",
    "objeto, la sociedad puede realizar inversiones y aportes de capitales a personas humanas y/o jurídicas, actuar como \n",
    "fiduciario y celebrar contratos de colaboración; comprar, vender y/o permutar toda clase de títulos y valores; tomar \n",
    "y otorgar créditos y realizar toda clase de operaciones financieras, excluidas las reguladas por la Ley de Entidades \n",
    "Financieras y toda otra que requiera el concurso y/o ahorro público.. 5.- 99 años. 6.- $ 31250. 7.- Administrador \n",
    "titular: PABLO BARBERO con domicilio especial en Argentina, Ciudad de Buenos Aires, Ciudad de Buenos Aires, \n",
    "PERU 1087 piso --, CPA 1068 , Administrador suplente: DARIO BARBERO, con domicilio especial en Argentina, \n",
    "Ciudad de Buenos Aires, Ciudad de Buenos Aires, PERU 1087 piso --, CPA 1068; todos por plazo de 99 años . \n",
    "8.- Prescinde del órgano de fiscalización Fiscalizador titular: ; ; . 9.- 31 de Diciembre de cada año.\n",
    "Trámites a Distancia, Delegación Administrativa, Inspección General de Justicia\n",
    "'''\n",
    "doc = nlp(text_2)\n",
    "print(doc.cats['POS'])"
   ]
  }
 ],
 "metadata": {
  "kernelspec": {
   "display_name": "Python 3 (ipykernel)",
   "language": "python",
   "name": "python3"
  },
  "language_info": {
   "codemirror_mode": {
    "name": "ipython",
    "version": 3
   },
   "file_extension": ".py",
   "mimetype": "text/x-python",
   "name": "python",
   "nbconvert_exporter": "python",
   "pygments_lexer": "ipython3",
   "version": "3.8.19"
  }
 },
 "nbformat": 4,
 "nbformat_minor": 5
}
