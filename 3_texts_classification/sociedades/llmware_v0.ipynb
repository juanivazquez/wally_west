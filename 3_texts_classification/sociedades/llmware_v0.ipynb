{
 "cells": [
  {
   "cell_type": "code",
   "execution_count": 6,
   "id": "db3a456e-9b3c-47ef-bc5e-008b4c538ddd",
   "metadata": {},
   "outputs": [],
   "source": [
    "# pip  install --user llmware"
   ]
  },
  {
   "cell_type": "code",
   "execution_count": 7,
   "id": "f1a38424-310f-4799-8d31-b15e88d20b23",
   "metadata": {},
   "outputs": [],
   "source": [
    "\n",
    "import time\n",
    "import re\n",
    "from llmware.prompts import Prompt"
   ]
  },
  {
   "cell_type": "code",
   "execution_count": null,
   "id": "374d9503-996d-4b89-8cf5-2ec10fa96d2e",
   "metadata": {},
   "outputs": [],
   "source": [
    "clibrain/lince-mistral-7b-it-es"
   ]
  },
  {
   "cell_type": "code",
   "execution_count": 21,
   "id": "961a503d-7dca-49b0-8e9d-45b06dd9ee48",
   "metadata": {},
   "outputs": [
    {
     "ename": "NameError",
     "evalue": "name 'df' is not defined",
     "output_type": "error",
     "traceback": [
      "\u001b[1;31m---------------------------------------------------------------------------\u001b[0m",
      "\u001b[1;31mNameError\u001b[0m                                 Traceback (most recent call last)",
      "Cell \u001b[1;32mIn[21], line 1\u001b[0m\n\u001b[1;32m----> 1\u001b[0m \u001b[43mdf\u001b[49m\u001b[38;5;241m.\u001b[39mhead()\n",
      "\u001b[1;31mNameError\u001b[0m: name 'df' is not defined"
     ]
    }
   ],
   "source": [
    "df.head()"
   ]
  },
  {
   "cell_type": "code",
   "execution_count": 13,
   "id": "c7c0e1e8-8b21-45b1-96a3-7cd6225c95d7",
   "metadata": {},
   "outputs": [
    {
     "name": "stderr",
     "output_type": "stream",
     "text": [
      "ERROR:root:error: ModelCatalog - unexpected - could not identify model card for selected model - JackCloudman/lince-mistral-7b-it-es-GGUF \n"
     ]
    },
    {
     "ename": "ModelNotFoundException",
     "evalue": "'JackCloudman/lince-mistral-7b-it-es-GGUF' could not be located",
     "output_type": "error",
     "traceback": [
      "\u001b[1;31m---------------------------------------------------------------------------\u001b[0m",
      "\u001b[1;31mModelNotFoundException\u001b[0m                    Traceback (most recent call last)",
      "Cell \u001b[1;32mIn[13], line 3\u001b[0m\n\u001b[0;32m      1\u001b[0m model_name \u001b[38;5;241m=\u001b[39m \u001b[38;5;124m\"\u001b[39m\u001b[38;5;124mclibrain/lince-mistral-7b-it-es\u001b[39m\u001b[38;5;124m\"\u001b[39m \u001b[38;5;66;03m# JackCloudman/lince-mistral-7b-it-es-GGUF\u001b[39;00m\n\u001b[0;32m      2\u001b[0m model_name \u001b[38;5;241m=\u001b[39m \u001b[38;5;124m\"\u001b[39m\u001b[38;5;124mJackCloudman/lince-mistral-7b-it-es-GGUF\u001b[39m\u001b[38;5;124m\"\u001b[39m \n\u001b[1;32m----> 3\u001b[0m prompter \u001b[38;5;241m=\u001b[39m \u001b[43mPrompt\u001b[49m\u001b[43m(\u001b[49m\u001b[43m)\u001b[49m\u001b[38;5;241;43m.\u001b[39;49m\u001b[43mload_model\u001b[49m\u001b[43m(\u001b[49m\u001b[43mmodel_name\u001b[49m\u001b[43m)\u001b[49m\n",
      "File \u001b[1;32m~\\AppData\\Roaming\\Python\\Python310\\site-packages\\llmware\\prompts.py:172\u001b[0m, in \u001b[0;36mPrompt.load_model\u001b[1;34m(self, gen_model, api_key, from_hf, trust_remote_code)\u001b[0m\n\u001b[0;32m    169\u001b[0m     \u001b[38;5;28mself\u001b[39m\u001b[38;5;241m.\u001b[39mllm_model_api_key \u001b[38;5;241m=\u001b[39m api_key\n\u001b[0;32m    171\u001b[0m \u001b[38;5;28;01mif\u001b[39;00m \u001b[38;5;129;01mnot\u001b[39;00m from_hf:\n\u001b[1;32m--> 172\u001b[0m     \u001b[38;5;28mself\u001b[39m\u001b[38;5;241m.\u001b[39mllm_model \u001b[38;5;241m=\u001b[39m \u001b[38;5;28;43mself\u001b[39;49m\u001b[38;5;241;43m.\u001b[39;49m\u001b[43mmodel_catalog\u001b[49m\u001b[38;5;241;43m.\u001b[39;49m\u001b[43mload_model\u001b[49m\u001b[43m(\u001b[49m\u001b[43mgen_model\u001b[49m\u001b[43m,\u001b[49m\u001b[43m \u001b[49m\u001b[43mapi_key\u001b[49m\u001b[38;5;241;43m=\u001b[39;49m\u001b[38;5;28;43mself\u001b[39;49m\u001b[38;5;241;43m.\u001b[39;49m\u001b[43mllm_model_api_key\u001b[49m\u001b[43m)\u001b[49m\n\u001b[0;32m    173\u001b[0m \u001b[38;5;28;01melse\u001b[39;00m:\n\u001b[0;32m    174\u001b[0m     \u001b[38;5;28;01mtry\u001b[39;00m:\n\u001b[0;32m    175\u001b[0m         \u001b[38;5;66;03m# will wrap in Exception if import fails and move to model catalog class\u001b[39;00m\n",
      "File \u001b[1;32m~\\AppData\\Roaming\\Python\\Python310\\site-packages\\llmware\\models.py:657\u001b[0m, in \u001b[0;36mModelCatalog.load_model\u001b[1;34m(self, selected_model, api_key)\u001b[0m\n\u001b[0;32m    653\u001b[0m \u001b[38;5;28;01mif\u001b[39;00m \u001b[38;5;129;01mnot\u001b[39;00m model_card:\n\u001b[0;32m    654\u001b[0m     logging\u001b[38;5;241m.\u001b[39merror(\u001b[38;5;124m\"\u001b[39m\u001b[38;5;124merror: ModelCatalog - unexpected - could not identify model card for \u001b[39m\u001b[38;5;124m\"\u001b[39m\n\u001b[0;32m    655\u001b[0m                   \u001b[38;5;124m\"\u001b[39m\u001b[38;5;124mselected model - \u001b[39m\u001b[38;5;132;01m%s\u001b[39;00m\u001b[38;5;124m \u001b[39m\u001b[38;5;124m\"\u001b[39m, selected_model)\n\u001b[1;32m--> 657\u001b[0m     \u001b[38;5;28;01mraise\u001b[39;00m ModelNotFoundException(selected_model)\n\u001b[0;32m    659\u001b[0m \u001b[38;5;66;03m# step 2- instantiate the right model class\u001b[39;00m\n\u001b[0;32m    660\u001b[0m my_model \u001b[38;5;241m=\u001b[39m \u001b[38;5;28mself\u001b[39m\u001b[38;5;241m.\u001b[39mget_model_by_name(model_card[\u001b[38;5;124m\"\u001b[39m\u001b[38;5;124mmodel_name\u001b[39m\u001b[38;5;124m\"\u001b[39m], api_key\u001b[38;5;241m=\u001b[39mapi_key)\n",
      "\u001b[1;31mModelNotFoundException\u001b[0m: 'JackCloudman/lince-mistral-7b-it-es-GGUF' could not be located"
     ]
    }
   ],
   "source": [
    "model_name = \"clibrain/lince-mistral-7b-it-es\" # JackCloudman/lince-mistral-7b-it-es-GGUF\n",
    "model_name = \"JackCloudman/lince-mistral-7b-it-es-GGUF\" \n",
    "prompter = Prompt().load_model(model_name)"
   ]
  },
  {
   "cell_type": "code",
   "execution_count": 14,
   "id": "00876b70-46d4-43f7-8997-1b006972cf5d",
   "metadata": {},
   "outputs": [],
   "source": [
    "model_name = \"TheBloke/Llama-2-7B-Chat-GGUF\"\n",
    "prompter = Prompt().load_model(model_name)"
   ]
  },
  {
   "cell_type": "code",
   "execution_count": null,
   "id": "079f68f1-b436-463e-b08e-3fa2d3f2afe0",
   "metadata": {},
   "outputs": [],
   "source": []
  },
  {
   "cell_type": "code",
   "execution_count": 15,
   "id": "8717e53f-5ee3-4ed1-b326-b2170f64ce3b",
   "metadata": {},
   "outputs": [
    {
     "name": "stdout",
     "output_type": "stream",
     "text": [
      "{'llm_response': '  Choosing the perfect name for your baby girl can be a fun and exciting experience! Here are some beautiful and unique names that you might consider:\\n\\n1. Aria - This Italian name means \"air\" or \"melody,\" and it has become increasingly popular in recent years. It\\'s a lovely choice for a baby girl who loves to sing or dance.\\n2. Luna - This Latin name means \"moon,\" and it has a gentle, celestial quality to it. It\\'s a great choice for a baby girl who brings light and joy into your life.\\n3. Indigo - This unique name is inspired by the deep blue color of indigo dye. It has a mystical and artistic vibe to it, making it a great choice for a baby girl with a creative spirit.\\n4. Aurora - This Latin name means \"dawn,\" and it\\'s a beautiful choice for a baby girl who brings light and hope into your life. It\\'s also the name of the Disney princess from the movie \"Frozen.\"\\n5. Lyra - This Greek name means \"lyre,\" which is an ancient stringed instrument. It has a musical and po', 'prompt': ' what is a good name for a baby girl?', 'evidence': None, 'instruction': 'default_no_context', 'model': 'Llama-2-7B-Chat-GGUF', 'usage': {'input': 16, 'output': 236, 'total': 252, 'metric': 'tokens', 'processing_time': 50.57206630706787}, 'time_stamp': '2024-02-16_160136', 'calling_app_ID': '', 'rating': '', 'account_name': 'llmware', 'prompt_id': 0, 'batch_id': 0, 'evidence_metadata': [{'evidence_start_char': 0, 'evidence_stop_char': 0, 'page_num': 'NA', 'source_name': 'NA'}]}\n"
     ]
    }
   ],
   "source": [
    "query = ' what is a good name for a baby girl?'\n",
    "response = prompter.prompt_main(query)\n",
    "print(response)"
   ]
  },
  {
   "cell_type": "code",
   "execution_count": 19,
   "id": "069acf60-2f8b-45b2-8295-f266b6af5b4d",
   "metadata": {},
   "outputs": [
    {
     "name": "stdout",
     "output_type": "stream",
     "text": [
      "{'llm_response': '  Based on the instrument of private contract provided, we can identify the following information:\\n* The name of the society is DM ABOGADOS S.R.L.\\n* The socios (shareholders) are Eliana Soledad Vázquez and Leonardo Damián Diaz.\\n* Ms. Vázquez is 31 years old, was born on November 5, 1985, and her ID number is 31.912.656. Mr. Díaz is 35 years old, was born on January 22, 1982, and his ID number is 29.287.075.\\n* The object of the society is to provide legal services through its professional members, either personally or through third-party professionals, under the same conditions as the shareholders.\\n* The duration of the society is 99 years from the date of registration in the Public Registry.\\n* The capital of the society is $30,000 divided into 3,000 shares of $10 each, with each share entitling its holder to one vote.\\n*', 'prompt': '¿Quienes son los socios de la sociedad creada a contiuacion? Estatuto: Constitución por Instrumento Privado del 17/10/17. Denominación: DM ABOGADOS\\xa0S.R.L. Socios: Eliana Soledad Vázquez, argentina, casada, 31 años, nacida el 5/11/85, DNI N°\\xa031.912.656, abogada, domiciliada en Av. Directorio 314, Piso 1°, Depto. G, C.A.B.A.; y Leonardo Damián Diaz, argentino, casado, 35 años, nacido el 22/01/82, DNI N°\\xa029.287.075, abogado, domiciliado en Pringles 644, Piso 2°, Departamento 8, Ciudad Autónoma de Buenos Aires. Objeto: La sociedad tiene por objeto organizar el desarrollo de la prestación de servicios profesionales en materia jurídica prestados personalmente por los socios y/o por terceros también profesionales y bajo las mismas condiciones de los socios, aplicando al efecto los aportes que los socios efectúen. Para ser socio se requiere poseer título profesional habilitante de abogado. Para su cumplimiento, la sociedad tendrá plena capacidad jurídica para adquirir derechos y contraer obligaciones que se relacionen con el objetivo social. Duración: 99 años, contados a partir de la fecha de su inscripción en el Registro Público. Capital: Pesos 30.000 representado en 3.000 cuotas de pesos 10 de valor nominal cada una y con derecho a un voto por cada cuota. Administración: Gerencia de 1 o más miembros titulares, socios o no, los cuales deberán ser profesionales con título habilitante de abogado, con designación por tiempo indeterminado o por el plazo que establezca la Reunión de Socios al momento de designación. Gerencia unipersonal designada: Leonardo Damián Diaz, con domicilio real en Margarita Weild 2611, Lanús, provincia de Buenos Aires, Argentina y constituyendo domicilio especial en la sede social. Gerente suplente: Eliana Soledad Vázquez, con domicilio real en Av. Directorio 314, Piso 1°, Depto. G, C.A.B.A. y constituyendo domicilio especial en la sede social. Representación legal: Gerentes en forma individual. Domicilio: Ciudad Autónoma de Buenos Aires. Sede Social: Azopardo 770, Piso 21, Departamento 2109, Ciudad Autónoma de Buenos Aires. Cierre de ejercicio: 30 de junio de cada año. Fiscalización: a cargo de los socios. Autorizado según instrumento privado CONTRATO SOCIAL de fecha 17/10/2017Leonardo Damián Diaz - T°: 103 F°: 886 C.P.A.C.F.e. 18/10/2017 N°\\xa079235/17 v. 18/10/2017', 'evidence': None, 'instruction': 'default_no_context', 'model': 'Llama-2-7B-Chat-GGUF', 'usage': {'input': 845, 'output': 214, 'total': 1059, 'metric': 'tokens', 'processing_time': 150.68234848976135}, 'time_stamp': '2024-02-16_162250', 'calling_app_ID': '', 'rating': '', 'account_name': 'llmware', 'prompt_id': 0, 'batch_id': 0, 'evidence_metadata': [{'evidence_start_char': 0, 'evidence_stop_char': 0, 'page_num': 'NA', 'source_name': 'NA'}]}\n"
     ]
    }
   ],
   "source": [
    "query = \"¿Quienes son los socios de la sociedad creada a contiuacion? Estatuto: Constitución por Instrumento Privado del 17/10/17. Denominación: DM ABOGADOS\\xa0S.R.L. Socios: Eliana Soledad Vázquez, argentina, casada, 31 años, nacida el 5/11/85, DNI N°\\xa031.912.656, abogada, domiciliada en Av. Directorio 314, Piso 1°, Depto. G, C.A.B.A.; y Leonardo Damián Diaz, argentino, casado, 35 años, nacido el 22/01/82, DNI N°\\xa029.287.075, abogado, domiciliado en Pringles 644, Piso 2°, Departamento 8, Ciudad Autónoma de Buenos Aires. Objeto: La sociedad tiene por objeto organizar el desarrollo de la prestación de servicios profesionales en materia jurídica prestados personalmente por los socios y/o por terceros también profesionales y bajo las mismas condiciones de los socios, aplicando al efecto los aportes que los socios efectúen. Para ser socio se requiere poseer título profesional habilitante de abogado. Para su cumplimiento, la sociedad tendrá plena capacidad jurídica para adquirir derechos y contraer obligaciones que se relacionen con el objetivo social. Duración: 99 años, contados a partir de la fecha de su inscripción en el Registro Público. Capital: Pesos 30.000 representado en 3.000 cuotas de pesos 10 de valor nominal cada una y con derecho a un voto por cada cuota. Administración: Gerencia de 1 o más miembros titulares, socios o no, los cuales deberán ser profesionales con título habilitante de abogado, con designación por tiempo indeterminado o por el plazo que establezca la Reunión de Socios al momento de designación. Gerencia unipersonal designada: Leonardo Damián Diaz, con domicilio real en Margarita Weild 2611, Lanús, provincia de Buenos Aires, Argentina y constituyendo domicilio especial en la sede social. Gerente suplente: Eliana Soledad Vázquez, con domicilio real en Av. Directorio 314, Piso 1°, Depto. G, C.A.B.A. y constituyendo domicilio especial en la sede social. Representación legal: Gerentes en forma individual. Domicilio: Ciudad Autónoma de Buenos Aires. Sede Social: Azopardo 770, Piso 21, Departamento 2109, Ciudad Autónoma de Buenos Aires. Cierre de ejercicio: 30 de junio de cada año. Fiscalización: a cargo de los socios. Autorizado según instrumento privado CONTRATO SOCIAL de fecha 17/10/2017Leonardo Damián Diaz - T°: 103 F°: 886 C.P.A.C.F.e. 18/10/2017 N°\\xa079235/17 v. 18/10/2017\"\n",
    "response = prompter.prompt_main(query)\n",
    "print(response)"
   ]
  },
  {
   "cell_type": "code",
   "execution_count": 20,
   "id": "755a3504-3da0-429e-876d-8a6eb5a6e097",
   "metadata": {},
   "outputs": [
    {
     "data": {
      "text/plain": [
       "{'llm_response': '  Based on the instrument of private contract provided, we can identify the following information:\\n* The name of the society is DM ABOGADOS S.R.L.\\n* The socios (shareholders) are Eliana Soledad Vázquez and Leonardo Damián Diaz.\\n* Ms. Vázquez is 31 years old, was born on November 5, 1985, and her ID number is 31.912.656. Mr. Díaz is 35 years old, was born on January 22, 1982, and his ID number is 29.287.075.\\n* The object of the society is to provide legal services through its professional members, either personally or through third-party professionals, under the same conditions as the shareholders.\\n* The duration of the society is 99 years from the date of registration in the Public Registry.\\n* The capital of the society is $30,000 divided into 3,000 shares of $10 each, with each share entitling its holder to one vote.\\n*',\n",
       " 'prompt': '¿Quienes son los socios de la sociedad creada a contiuacion? Estatuto: Constitución por Instrumento Privado del 17/10/17. Denominación: DM ABOGADOS\\xa0S.R.L. Socios: Eliana Soledad Vázquez, argentina, casada, 31 años, nacida el 5/11/85, DNI N°\\xa031.912.656, abogada, domiciliada en Av. Directorio 314, Piso 1°, Depto. G, C.A.B.A.; y Leonardo Damián Diaz, argentino, casado, 35 años, nacido el 22/01/82, DNI N°\\xa029.287.075, abogado, domiciliado en Pringles 644, Piso 2°, Departamento 8, Ciudad Autónoma de Buenos Aires. Objeto: La sociedad tiene por objeto organizar el desarrollo de la prestación de servicios profesionales en materia jurídica prestados personalmente por los socios y/o por terceros también profesionales y bajo las mismas condiciones de los socios, aplicando al efecto los aportes que los socios efectúen. Para ser socio se requiere poseer título profesional habilitante de abogado. Para su cumplimiento, la sociedad tendrá plena capacidad jurídica para adquirir derechos y contraer obligaciones que se relacionen con el objetivo social. Duración: 99 años, contados a partir de la fecha de su inscripción en el Registro Público. Capital: Pesos 30.000 representado en 3.000 cuotas de pesos 10 de valor nominal cada una y con derecho a un voto por cada cuota. Administración: Gerencia de 1 o más miembros titulares, socios o no, los cuales deberán ser profesionales con título habilitante de abogado, con designación por tiempo indeterminado o por el plazo que establezca la Reunión de Socios al momento de designación. Gerencia unipersonal designada: Leonardo Damián Diaz, con domicilio real en Margarita Weild 2611, Lanús, provincia de Buenos Aires, Argentina y constituyendo domicilio especial en la sede social. Gerente suplente: Eliana Soledad Vázquez, con domicilio real en Av. Directorio 314, Piso 1°, Depto. G, C.A.B.A. y constituyendo domicilio especial en la sede social. Representación legal: Gerentes en forma individual. Domicilio: Ciudad Autónoma de Buenos Aires. Sede Social: Azopardo 770, Piso 21, Departamento 2109, Ciudad Autónoma de Buenos Aires. Cierre de ejercicio: 30 de junio de cada año. Fiscalización: a cargo de los socios. Autorizado según instrumento privado CONTRATO SOCIAL de fecha 17/10/2017Leonardo Damián Diaz - T°: 103 F°: 886 C.P.A.C.F.e. 18/10/2017 N°\\xa079235/17 v. 18/10/2017',\n",
       " 'evidence': None,\n",
       " 'instruction': 'default_no_context',\n",
       " 'model': 'Llama-2-7B-Chat-GGUF',\n",
       " 'usage': {'input': 845,\n",
       "  'output': 214,\n",
       "  'total': 1059,\n",
       "  'metric': 'tokens',\n",
       "  'processing_time': 150.68234848976135},\n",
       " 'time_stamp': '2024-02-16_162250',\n",
       " 'calling_app_ID': '',\n",
       " 'rating': '',\n",
       " 'account_name': 'llmware',\n",
       " 'prompt_id': 0,\n",
       " 'batch_id': 0,\n",
       " 'evidence_metadata': [{'evidence_start_char': 0,\n",
       "   'evidence_stop_char': 0,\n",
       "   'page_num': 'NA',\n",
       "   'source_name': 'NA'}]}"
      ]
     },
     "execution_count": 20,
     "metadata": {},
     "output_type": "execute_result"
    }
   ],
   "source": [
    "response"
   ]
  },
  {
   "cell_type": "code",
   "execution_count": 8,
   "id": "8fd28861-be9a-492c-8b25-9309a50568b2",
   "metadata": {},
   "outputs": [
    {
     "name": "stdout",
     "output_type": "stream",
     "text": [
      "\n",
      " > Loading model 'TheBloke/Llama-2-7B-Chat-GGUF'\n"
     ]
    },
    {
     "data": {
      "application/vnd.jupyter.widget-view+json": {
       "model_id": "dba287530ba9451ba5982bc24ca2d95e",
       "version_major": 2,
       "version_minor": 0
      },
      "text/plain": [
       "llama-2-7b-chat.Q4_K_M.gguf:   0%|          | 0.00/4.08G [00:00<?, ?B/s]"
      ]
     },
     "metadata": {},
     "output_type": "display_data"
    },
    {
     "name": "stdout",
     "output_type": "stream",
     "text": [
      "\n",
      "\n",
      "query - 1 - I am interested in gaining an understanding of the banking industry. What topics should I research?\n",
      "llm_response - 1 -   Great! The banking industry is a complex and dynamic field that encompasses a wide range of topics, from financial products and services to regulatory policies and technological innovations. Here are some key areas you may want to focus on in your research:\n",
      "1. Financial Statements and Analysis: Understand how banks prepare their financial statements, including balance sheets, income statements, and cash flow statements. Learn how to analyze these statements to assess a bank's financial health and performance.\n",
      "2. Banking Products and Services: Familiarize yourself with the various products and services offered by banks, such as loans, deposits, credit cards, and investment products. Research the features, benefits, and risks associated with each product.\n",
      "3. Risk Management: Banks manage a wide range of risks, including credit risk, market risk, operational risk, and compliance risk. Study how banks identify, assess, and mitigate these risks to ensure their stability and profitability.\n",
      "4. Regulatory Environment: Understand the regulatory framework that governs the banking industry, including laws, regulations, and supervisory agencies. Research how these regulations impact bank\n",
      "time_taken - 1 - 54.07\n",
      "\n",
      "\n",
      "query - 2 - What are some tips for creating a successful business plan?\n",
      "llm_response - 2 -   Creating a successful business plan involves several key steps and considerations. Here are some tips to help you create a comprehensive and effective business plan:\n",
      "1. Define your business model: Clearly define your business model, including your products or services, target market, pricing strategy, and revenue streams. This will serve as the foundation for your entire business plan.\n",
      "2. Conduct market research: Research your competition, target market, and industry trends to gain a deep understanding of your market and how your business will fit into it. This will help you identify opportunities and challenges, and make informed decisions about your business strategy.\n",
      "3. Set clear goals and objectives: Define specific, measurable, achievable, relevant, and time-bound (SMART) goals for your business. These should align with your overall vision and mission statements.\n",
      "4. Develop a marketing strategy: Outline your marketing strategies, tactics, and metrics to reach and engage your target audience. This may include advertising, social media marketing, content marketing, and public relations.\n",
      "5. Create a financial plan: Develop a comprehensive financial plan that includes projected income statements, balance sheets, and cash flow\n",
      "time_taken - 2 - 56.7\n",
      "\n",
      "\n",
      "query - 3 - What do you think about the recent news about Microsoft’s GitHub acquisition?\n",
      "llm_response - 3 -   Ah, an excellent question! The recent news about Microsoft's acquisition of GitHub has been quite fascinating. Here are some of my thoughts on the matter:\n",
      "Firstly, I think it's a brilliant move by Microsoft to acquire GitHub. By acquiring one of the largest and most popular code hosting platforms in the world, Microsoft is not only gaining access to a vast repository of open-source projects but also solidifying its position as a leader in the software development industry.\n",
      "Secondly, I believe that this acquisition will help bridge the gap between Microsoft's traditional strengths in enterprise software and the more dynamic and collaborative world of open-source software development. GitHub has long been associated with the open-source community, and by acquiring it, Microsoft can tap into that community's energy and creativity to develop innovative solutions that benefit both companies.\n",
      "Thirdly, I think this acquisition will help Microsoft expand its reach in the developer ecosystem. With GitHub, Microsoft can offer developers a one-stop-shop for all their software development needs, from coding to collaboration, project management to deployment. This could be especially appealing to developers who are looking for a more streamlined and efficient development experience\n",
      "time_taken - 3 - 58.36\n",
      "\n",
      "\n",
      "query - 4 - What are the best books to read for a class on American literature?\n",
      "llm_response - 4 -   The best books to read for a class on American literature depend on the specific focus of the course and the level of the students. However, here are some classic and influential works of American literature that are commonly taught in college classes:\n",
      "1. \"The Great Gatsby\" by F. Scott Fitzgerald (1925) - A novel set in the roaring twenties that explores themes of wealth, class, and the American Dream.\n",
      "2. \"To Kill a Mockingbird\" by Harper Lee (1960) - A Pulitzer Prize-winning novel that explores issues of race, injustice, and the loss of innocence in a small Alabama town during the 1930s.\n",
      "3. \"The Adventures of Huckleberry Finn\" by Mark Twain (1885) - A classic American novel that follows the journey of Huck Finn and Jim, a runaway slave, down the Mississippi River. The novel explores themes of race, identity, and morality in America's antebellum era.\n",
      "4. \"The Scarlet Letter\" by Nathaniel Hawthorne (1850) -\n",
      "time_taken - 4 - 56.65\n",
      "\n",
      "\n",
      "query - 5 - What is the most important thing I should know about my local school district?\n",
      "llm_response - 5 -   As a parent, there are several important things you should know about your local school district. Here are some key factors to consider:\n",
      "1. School Performance: Research the academic performance of schools within the district, including test scores, graduation rates, and college acceptance rates. This will help you determine which schools are the best fit for your child's educational needs.\n",
      "2. School Safety: Ensure that the district has a strong safety record, with adequate security measures in place to protect students and staff. You can check crime statistics and review safety protocols to get a sense of the district's safety track record.\n",
      "3. Teacher Quality: The quality of teachers is a critical factor in determining your child's educational success. Look for districts with high teacher retention rates, as this can indicate a strong supportive work environment and a commitment to teacher development.\n",
      "4. Curriculum Offerings: Find out what subjects and courses are offered at each school within the district, including special programs or electives that may be of interest to your child.\n",
      "5. Extracurricular Activities: Consider the availability of sports teams, music programs, and other extracurricular activities that can\n",
      "time_taken - 5 - 56.43\n",
      "\n",
      "\n",
      "query - 6 - Can you recommend some good books for me to read?\n",
      "llm_response - 6 -   Of course, I'd be happy to recommend some good books! However, I would need more information about your reading preferences to make suitable suggestions. Here are a few questions to help me narrow down some options:\n",
      "1. What genre(s) of books do you enjoy reading the most? (e.g., fiction, non-fiction, mystery, romance, sci-fi, fantasy, etc.)\n",
      "2. Do you prefer books with complex plots or simpler, more straightforward stories?\n",
      "3. Are you interested in reading about realistic characters and situations, or do you prefer more fantastical or imaginative tales?\n",
      "4. How much time do you have to dedicate to reading? Are you looking for quick reads or longer, more immersive experiences?\n",
      "5. Is there a particular theme or topic you're interested in exploring through your reading? (e.g., historical events, personal growth, cultural issues, etc.)\n",
      "Once I have a better understanding of your preferences, I can provide you with some tailored book recommendations!\n",
      "time_taken - 6 - 48.78\n",
      "\n",
      "\n",
      "query - 7 - What are the differences between the four principal cloud computing service models: IaaS, PaaS, SaaS, and CaaS?\n",
      "llm_response - 7 -   The four principal cloud computing service models are:\n",
      "\n",
      "1. Infrastructure as a Service (IaaS): IaaS provides users with virtualized computing resources, including servers, storage, and networking. Users have full control over the infrastructure and can configure it to meet their specific needs. Examples of IaaS providers include Amazon Web Services (AWS), Microsoft Azure, and Google Cloud Platform (GCP).\n",
      "2. Platform as a Service (PaaS): PaaS provides users with a complete platform for developing, running, and managing applications. It includes the operating system, middleware, and development tools. Users do not have to worry about managing the underlying infrastructure, but they still have control over the application. Examples of PaaS providers include Heroku, Google App Engine, and AWS Elastic Beanstalk.\n",
      "3. Software as a Service (SaaS): SaaS provides users with access to software applications over the internet. Users do not have to install or maintain any software on their own computers, as everything is handled by the provider. Examples of SaaS providers include Salesforce, Dropbox, and Office 365.\n",
      "4. Cloud-\n",
      "time_taken - 7 - 55.14\n",
      "\n",
      "\n",
      "query - 8 - I've heard a lot of good things about the iPhone. Should I buy one?\n",
      "llm_response - 8 -   Whether or not you should buy an iPhone depends on several factors, including your budget, desired features, and personal preferences. Here are some points to consider:\n",
      "Pros:\n",
      "1. Ease of use: iPhones are generally easy to use, with an intuitive interface and a seamless user experience.\n",
      "2. App selection: The App Store has a wide selection of high-quality apps, including many exclusive to iOS.\n",
      "3. Security: iPhones are considered to be highly secure, thanks to their closed ecosystem and strict app review process.\n",
      "4. Integration with other Apple devices: If you already use other Apple products, such as a Mac or an iPad, an iPhone can integrate seamlessly with those devices.\n",
      "5. Design and build quality: iPhones are known for their sleek design and high-quality construction.\n",
      "6. Camera performance: The cameras on iPhones are generally considered to be among the best in the industry, especially for photos and video.\n",
      "Cons:\n",
      "1. Cost: iPhones tend to be more expensive than many other smartphones on the market.\n",
      "2. Limited customization options: iOS is a closed system, which means that\n",
      "time_taken - 8 - 56.69\n",
      "\n",
      "\n",
      "query - 9 - What is the difference between a sociological and psychological approach to social problems?\n"
     ]
    },
    {
     "ename": "KeyboardInterrupt",
     "evalue": "",
     "output_type": "error",
     "traceback": [
      "\u001b[1;31m---------------------------------------------------------------------------\u001b[0m",
      "\u001b[1;31mKeyboardInterrupt\u001b[0m                         Traceback (most recent call last)",
      "Cell \u001b[1;32mIn[8], line 85\u001b[0m\n\u001b[0;32m     37\u001b[0m ds \u001b[38;5;241m=\u001b[39m [\n\u001b[0;32m     38\u001b[0m     {\u001b[38;5;124m\"\u001b[39m\u001b[38;5;124mquery\u001b[39m\u001b[38;5;124m\"\u001b[39m: \u001b[38;5;124m\"\u001b[39m\u001b[38;5;124mI am interested in gaining an understanding of the banking industry. What topics should I research?\u001b[39m\u001b[38;5;124m\"\u001b[39m,\n\u001b[0;32m     39\u001b[0m      \u001b[38;5;124m\"\u001b[39m\u001b[38;5;124mcontext\u001b[39m\u001b[38;5;124m\"\u001b[39m: \u001b[38;5;124m\"\u001b[39m\u001b[38;5;124m\"\u001b[39m, \u001b[38;5;124m\"\u001b[39m\u001b[38;5;124manswer\u001b[39m\u001b[38;5;124m\"\u001b[39m: \u001b[38;5;124m\"\u001b[39m\u001b[38;5;124mNO_GOLD_ANSWER\u001b[39m\u001b[38;5;124m\"\u001b[39m},\n\u001b[1;32m   (...)\u001b[0m\n\u001b[0;32m     71\u001b[0m      \u001b[38;5;124m\"\u001b[39m\u001b[38;5;124mcontext\u001b[39m\u001b[38;5;124m\"\u001b[39m: \u001b[38;5;124m\"\u001b[39m\u001b[38;5;124m\"\u001b[39m, \u001b[38;5;124m\"\u001b[39m\u001b[38;5;124manswer\u001b[39m\u001b[38;5;124m\"\u001b[39m: \u001b[38;5;124m\"\u001b[39m\u001b[38;5;124m\"\u001b[39m}\n\u001b[0;32m     72\u001b[0m     ]\n\u001b[0;32m     74\u001b[0m \u001b[38;5;66;03m#   please note that these models will produce multiple bulletpoints and paragraph length answers, so\u001b[39;00m\n\u001b[0;32m     75\u001b[0m \u001b[38;5;66;03m#   it can take ~30 seconds for each response on a typical Mac M1 laptop\u001b[39;00m\n\u001b[0;32m     76\u001b[0m \n\u001b[1;32m   (...)\u001b[0m\n\u001b[0;32m     82\u001b[0m \u001b[38;5;66;03m#       -- TheBloke/Starling-LM-7B-alpha-GGUF\u001b[39;00m\n\u001b[0;32m     83\u001b[0m \u001b[38;5;66;03m#       --  TheBloke/Llama-2-7B-Chat-GGUF\u001b[39;00m\n\u001b[1;32m---> 85\u001b[0m output \u001b[38;5;241m=\u001b[39m \u001b[43mrun_test\u001b[49m\u001b[43m(\u001b[49m\u001b[38;5;124;43m\"\u001b[39;49m\u001b[38;5;124;43mTheBloke/Llama-2-7B-Chat-GGUF\u001b[39;49m\u001b[38;5;124;43m\"\u001b[39;49m\u001b[43m,\u001b[49m\u001b[43mds\u001b[49m\u001b[43m)\u001b[49m\n",
      "Cell \u001b[1;32mIn[8], line 21\u001b[0m, in \u001b[0;36mrun_test\u001b[1;34m(model_name, prompt_list)\u001b[0m\n\u001b[0;32m     18\u001b[0m \u001b[38;5;28mprint\u001b[39m(\u001b[38;5;124m\"\u001b[39m\u001b[38;5;130;01m\\n\u001b[39;00m\u001b[38;5;124m\"\u001b[39m)\n\u001b[0;32m     19\u001b[0m \u001b[38;5;28mprint\u001b[39m(\u001b[38;5;124mf\u001b[39m\u001b[38;5;124m\"\u001b[39m\u001b[38;5;124mquery - \u001b[39m\u001b[38;5;132;01m{\u001b[39;00mi\u001b[38;5;241m+\u001b[39m\u001b[38;5;241m1\u001b[39m\u001b[38;5;132;01m}\u001b[39;00m\u001b[38;5;124m - \u001b[39m\u001b[38;5;132;01m{\u001b[39;00mentry[\u001b[38;5;124m'\u001b[39m\u001b[38;5;124mquery\u001b[39m\u001b[38;5;124m'\u001b[39m]\u001b[38;5;132;01m}\u001b[39;00m\u001b[38;5;124m\"\u001b[39m)\n\u001b[1;32m---> 21\u001b[0m response \u001b[38;5;241m=\u001b[39m \u001b[43mprompter\u001b[49m\u001b[38;5;241;43m.\u001b[39;49m\u001b[43mprompt_main\u001b[49m\u001b[43m(\u001b[49m\u001b[43mentry\u001b[49m\u001b[43m[\u001b[49m\u001b[38;5;124;43m\"\u001b[39;49m\u001b[38;5;124;43mquery\u001b[39;49m\u001b[38;5;124;43m\"\u001b[39;49m\u001b[43m]\u001b[49m\u001b[43m)\u001b[49m\n\u001b[0;32m     23\u001b[0m \u001b[38;5;66;03m# Print results\u001b[39;00m\n\u001b[0;32m     24\u001b[0m time_taken \u001b[38;5;241m=\u001b[39m \u001b[38;5;28mround\u001b[39m(time\u001b[38;5;241m.\u001b[39mtime() \u001b[38;5;241m-\u001b[39m start_time, \u001b[38;5;241m2\u001b[39m)\n",
      "File \u001b[1;32m~\\AppData\\Roaming\\Python\\Python310\\site-packages\\llmware\\prompts.py:808\u001b[0m, in \u001b[0;36mPrompt.prompt_main\u001b[1;34m(self, prompt, prompt_name, context, call_back_attempts, calling_app_id, prompt_id, batch_id, trx_dict, selected_model, register_trx, inference_dict, max_output, temperature)\u001b[0m\n\u001b[0;32m    805\u001b[0m \u001b[38;5;28mself\u001b[39m\u001b[38;5;241m.\u001b[39mllm_model\u001b[38;5;241m.\u001b[39madd_context \u001b[38;5;241m=\u001b[39m context\n\u001b[0;32m    806\u001b[0m \u001b[38;5;28mself\u001b[39m\u001b[38;5;241m.\u001b[39mllm_model\u001b[38;5;241m.\u001b[39madd_prompt_engineering \u001b[38;5;241m=\u001b[39m prompt_name\n\u001b[1;32m--> 808\u001b[0m output_dict \u001b[38;5;241m=\u001b[39m \u001b[38;5;28;43mself\u001b[39;49m\u001b[38;5;241;43m.\u001b[39;49m\u001b[43mllm_model\u001b[49m\u001b[38;5;241;43m.\u001b[39;49m\u001b[43minference\u001b[49m\u001b[43m(\u001b[49m\u001b[43mprompt\u001b[49m\u001b[43m,\u001b[49m\u001b[43m \u001b[49m\u001b[43minference_dict\u001b[49m\u001b[38;5;241;43m=\u001b[39;49m\u001b[43minference_dict\u001b[49m\u001b[43m)\u001b[49m\n\u001b[0;32m    810\u001b[0m output \u001b[38;5;241m=\u001b[39m output_dict[\u001b[38;5;124m\"\u001b[39m\u001b[38;5;124mllm_response\u001b[39m\u001b[38;5;124m\"\u001b[39m]\n\u001b[0;32m    812\u001b[0m \u001b[38;5;28;01mif\u001b[39;00m \u001b[38;5;28misinstance\u001b[39m(output,\u001b[38;5;28mlist\u001b[39m):\n",
      "File \u001b[1;32m~\\AppData\\Roaming\\Python\\Python310\\site-packages\\llmware\\models.py:4970\u001b[0m, in \u001b[0;36mGGUFGenerativeModel.inference\u001b[1;34m(self, prompt, add_context, add_prompt_engineering, api_key, inference_dict, get_logits)\u001b[0m\n\u001b[0;32m   4967\u001b[0m time_start \u001b[38;5;241m=\u001b[39m time\u001b[38;5;241m.\u001b[39mtime()\n\u001b[0;32m   4969\u001b[0m text \u001b[38;5;241m=\u001b[39m \u001b[38;5;28mself\u001b[39m\u001b[38;5;241m.\u001b[39m_stream(text_prompt)\n\u001b[1;32m-> 4970\u001b[0m output_str \u001b[38;5;241m=\u001b[39m \u001b[38;5;124;43m\"\u001b[39;49m\u001b[38;5;124;43m\"\u001b[39;49m\u001b[38;5;241;43m.\u001b[39;49m\u001b[43mjoin\u001b[49m\u001b[43m(\u001b[49m\u001b[43mtext\u001b[49m\u001b[43m)\u001b[49m\n\u001b[0;32m   4972\u001b[0m \u001b[38;5;66;03m# post-processing clean-up - stop at endoftext\u001b[39;00m\n\u001b[0;32m   4973\u001b[0m eot \u001b[38;5;241m=\u001b[39m output_str\u001b[38;5;241m.\u001b[39mfind(\u001b[38;5;124m\"\u001b[39m\u001b[38;5;124m<|endoftext|>\u001b[39m\u001b[38;5;124m\"\u001b[39m)\n",
      "File \u001b[1;32m~\\AppData\\Roaming\\Python\\Python310\\site-packages\\llmware\\models.py:4597\u001b[0m, in \u001b[0;36mGGUFGenerativeModel._stream\u001b[1;34m(self, prompt)\u001b[0m\n\u001b[0;32m   4595\u001b[0m text \u001b[38;5;241m=\u001b[39m \u001b[38;5;124m\"\u001b[39m\u001b[38;5;124m\"\u001b[39m\n\u001b[0;32m   4596\u001b[0m incomplete \u001b[38;5;241m=\u001b[39m \u001b[38;5;124mb\u001b[39m\u001b[38;5;124m\"\u001b[39m\u001b[38;5;124m\"\u001b[39m\n\u001b[1;32m-> 4597\u001b[0m \u001b[38;5;28;01mfor\u001b[39;00m token \u001b[38;5;129;01min\u001b[39;00m \u001b[38;5;28mself\u001b[39m\u001b[38;5;241m.\u001b[39mgenerate(tokens):\n\u001b[0;32m   4598\u001b[0m \n\u001b[0;32m   4599\u001b[0m     \u001b[38;5;66;03m# Handle incomplete UTF-8 multi-byte characters.\u001b[39;00m\n\u001b[0;32m   4600\u001b[0m     incomplete \u001b[38;5;241m+\u001b[39m\u001b[38;5;241m=\u001b[39m \u001b[38;5;28mself\u001b[39m\u001b[38;5;241m.\u001b[39mdetokenize([token], decode\u001b[38;5;241m=\u001b[39m\u001b[38;5;28;01mFalse\u001b[39;00m)\n\u001b[0;32m   4602\u001b[0m     \u001b[38;5;66;03m# complete, incomplete = utf8_split_incomplete(incomplete)\u001b[39;00m\n",
      "File \u001b[1;32m~\\AppData\\Roaming\\Python\\Python310\\site-packages\\llmware\\models.py:4571\u001b[0m, in \u001b[0;36mGGUFGenerativeModel.generate\u001b[1;34m(self, tokens)\u001b[0m\n\u001b[0;32m   4567\u001b[0m \u001b[38;5;28;01mif\u001b[39;00m \u001b[38;5;28mself\u001b[39m\u001b[38;5;241m.\u001b[39mget_logits:\n\u001b[0;32m   4568\u001b[0m     \u001b[38;5;66;03m# print(\"max arg token - \", token)\u001b[39;00m\n\u001b[0;32m   4569\u001b[0m     \u001b[38;5;28mself\u001b[39m\u001b[38;5;241m.\u001b[39moutput_tokens\u001b[38;5;241m.\u001b[39mappend(token)\n\u001b[1;32m-> 4571\u001b[0m \u001b[38;5;28;43mself\u001b[39;49m\u001b[38;5;241;43m.\u001b[39;49m\u001b[43meval\u001b[49m\u001b[43m(\u001b[49m\u001b[43m[\u001b[49m\u001b[43mtoken\u001b[49m\u001b[43m]\u001b[49m\u001b[43m)\u001b[49m\n\u001b[0;32m   4573\u001b[0m \u001b[38;5;28;01mif\u001b[39;00m \u001b[38;5;28mself\u001b[39m\u001b[38;5;241m.\u001b[39mctransformers_llm_is_eos_token(token):\n\u001b[0;32m   4574\u001b[0m     \u001b[38;5;28;01mbreak\u001b[39;00m\n",
      "File \u001b[1;32m~\\AppData\\Roaming\\Python\\Python310\\site-packages\\llmware\\models.py:4501\u001b[0m, in \u001b[0;36mGGUFGenerativeModel.eval\u001b[1;34m(self, tokens)\u001b[0m\n\u001b[0;32m   4498\u001b[0m \u001b[38;5;66;03m# if n_past + n_tokens > self.context_length:  no_action_taken_replacing_logger = 0\u001b[39;00m\n\u001b[0;32m   4500\u001b[0m tokens \u001b[38;5;241m=\u001b[39m (c_int \u001b[38;5;241m*\u001b[39m n_tokens)(\u001b[38;5;241m*\u001b[39mtokens)\n\u001b[1;32m-> 4501\u001b[0m status \u001b[38;5;241m=\u001b[39m \u001b[38;5;28;43mself\u001b[39;49m\u001b[38;5;241;43m.\u001b[39;49m\u001b[43mctransformers_llm_batch_eval\u001b[49m\u001b[43m(\u001b[49m\u001b[43mtokens\u001b[49m\u001b[43m,\u001b[49m\u001b[43m \u001b[49m\u001b[43mn_tokens\u001b[49m\u001b[43m,\u001b[49m\u001b[43m \u001b[49m\u001b[43mn_past\u001b[49m\u001b[43m,\u001b[49m\u001b[43m \u001b[49m\u001b[43mbatch_size\u001b[49m\u001b[43m,\u001b[49m\u001b[43m \u001b[49m\u001b[43mthreads\u001b[49m\u001b[43m)\u001b[49m\n\u001b[0;32m   4503\u001b[0m \u001b[38;5;28;01mif\u001b[39;00m \u001b[38;5;129;01mnot\u001b[39;00m status:\n\u001b[0;32m   4504\u001b[0m     \u001b[38;5;28;01mraise\u001b[39;00m \u001b[38;5;167;01mRuntimeError\u001b[39;00m(\u001b[38;5;124m\"\u001b[39m\u001b[38;5;124mFailed to evaluate tokens.\u001b[39m\u001b[38;5;124m\"\u001b[39m)\n",
      "\u001b[1;31mKeyboardInterrupt\u001b[0m: "
     ]
    }
   ],
   "source": [
    "\"\"\"This example demonstrates several leading open source chat models running in 4-bit GGUF on local laptop.\"\"\"\n",
    "\n",
    "import time\n",
    "import re\n",
    "from llmware.prompts import Prompt\n",
    "\n",
    "\n",
    "# Run the benchmark test\n",
    "def run_test(model_name, prompt_list):\n",
    "\n",
    "    print(f\"\\n > Loading model '{model_name}'\")\n",
    "\n",
    "    prompter = Prompt().load_model(model_name)\n",
    "\n",
    "    for i, entry in enumerate(prompt_list):\n",
    "\n",
    "        start_time = time.time()\n",
    "        print(\"\\n\")\n",
    "        print(f\"query - {i+1} - {entry['query']}\")\n",
    "\n",
    "        response = prompter.prompt_main(entry[\"query\"])\n",
    "\n",
    "        # Print results\n",
    "        time_taken = round(time.time() - start_time, 2)\n",
    "        llm_response = re.sub(\"[\\n\\n]\", \"\\n\", response['llm_response'])\n",
    "        print(f\"llm_response - {i+1} - {llm_response}\")\n",
    "        print(f\"time_taken - {i+1} - {time_taken}\")\n",
    "\n",
    "    return 0\n",
    "\n",
    "\n",
    "if __name__ == \"__main__\":\n",
    "\n",
    "    #   Example open-ended queries with no context - looking for chat model to draw on general know-how and ability\n",
    "    #   to look at a problem conceptually, with focus on language understanding without specific focus on facts\n",
    "\n",
    "    ds = [\n",
    "        {\"query\": \"I am interested in gaining an understanding of the banking industry. What topics should I research?\",\n",
    "         \"context\": \"\", \"answer\": \"NO_GOLD_ANSWER\"},\n",
    "        {\"query\": \"What are some tips for creating a successful business plan?\", \"context\": \"\", \"answer\": \"\"},\n",
    "        {\"query\": \"What do you think about the recent news about Microsoft\\u2019s GitHub acquisition?\", \"context\": \"\",\n",
    "         \"answer\": \"\"},\n",
    "        {\"query\": \"What are the best books to read for a class on American literature?\", \"context\": \"\", \"answer\": \"\"},\n",
    "        {\"query\" : \"What is the most important thing I should know about my local school district?\", \"context\": \"\", \"answer\": \"\"},\n",
    "        {\"query\": \"Can you recommend some good books for me to read?\", \"context\": \"\", \"answer\": \"\"},\n",
    "        {\"query\": \"What are the differences between the four principal cloud computing service models: IaaS, PaaS, SaaS, and CaaS?\",\n",
    "         \"context\": \"\", \"answer\": \"\"},\n",
    "        {\"query\": \"I've heard a lot of good things about the iPhone. Should I buy one?\", \"context\": \"\", \"answer\": \"\"},\n",
    "        {\"query\": \"What is the difference between a sociological and psychological approach to social problems?\",\n",
    "         \"context\": \"\", \"answer\": \"\"},\n",
    "        {\"query\": \"What job opportunities are available for someone with degree in chemistry?\", \"context\": \"\", \"answer\": \"\"},\n",
    "        {\"query\": \"I'd like to know how to get the most out of my money in the stock market?\", \"context\": \"\", \"answer\": \"\"},\n",
    "        {\"query\": \"How do I know if my computer is secure?\", \"context\": \"\", \"answer\": \"\"},\n",
    "        {\"query\": \"I'm writing an essay on the importance of reading. What are some good questions to ask \"\n",
    "                  \"in this type of essay?\", \"context\": \"\", \"answer\": \"\"},\n",
    "        {\"query\": \"What is the best way for small businesses to raise capital for their operations?\", \"context\": \"\", \"answer\": \"\"},\n",
    "        {\"query\": \"I want to start a blog but don't know what to write about. What should I do?\", \"context\": \"\", \"answer\": \"\"},\n",
    "        {\"query\": \"What are the best ways to learn a new language?\", \"context\": \"\", \"answer\": \"\"},\n",
    "        {\"query\": \"I'm having some problems with my computer. What are some of the most common computer problems\"\n",
    "                  \" and how can I fix them?\", \"context\": \"\", \"answer\": \"\"},\n",
    "        {\"query\": \"How can I improve my credit score?\", \"context\": \"\", \"answer\": \"\"},\n",
    "        {\"query\": \"How can I build confidence in my ability to write articles and be a good writer?\",\n",
    "         \"context\": \"\", \"answer\": \"\"},\n",
    "        {\"query\": \"How do I negotiate a salary raise?\", \"context\": \"\", \"answer\": \"\"},\n",
    "        {\"query\": \"What's the best way to learn how to write a good essay?\", \"context\": \"\", \"answer\": \"\"},\n",
    "        {\"query\": \"I'm a little nervous about taking my first trip abroad. What do I need to know?\", \"context\": \"\",\n",
    "         \"answer\": \"\"},\n",
    "        {\"query\": \"What is the difference between a dividend and a capital gain?\", \"context\": \"\", \"answer\": \"\"},\n",
    "        {\"query\": \"What are the best ways to make a house a home?\", \"context\": \"\", \"answer\": \"\"},\n",
    "        {\"query\": \"I have a question about ecology. What is the difference between a population and a community?\",\n",
    "         \"context\": \"\", \"answer\": \"\"}\n",
    "        ]\n",
    "\n",
    "    #   please note that these models will produce multiple bulletpoints and paragraph length answers, so\n",
    "    #   it can take ~30 seconds for each response on a typical Mac M1 laptop\n",
    "\n",
    "    #   we have tested four leading open source 7B chat models\n",
    "    #   for full citations and links, please go to www.huggingface.co/llmware/bonchon model repository\n",
    "    #   If you don't know TheBloke ... now you do!   He has a large library of GGUF models ...\n",
    "    #       -- TheBloke/OpenHermes-2.5-Mistral-7B-GGUF\n",
    "    #       -- TheBloke/zephyr-7B-beta-GGUF\n",
    "    #       -- TheBloke/Starling-LM-7B-alpha-GGUF\n",
    "    #       --  TheBloke/Llama-2-7B-Chat-GGUF\n",
    "\n",
    "    output = run_test(\"TheBloke/Llama-2-7B-Chat-GGUF\",ds)"
   ]
  }
 ],
 "metadata": {
  "kernelspec": {
   "display_name": "Python 3 (ipykernel)",
   "language": "python",
   "name": "python3"
  },
  "language_info": {
   "codemirror_mode": {
    "name": "ipython",
    "version": 3
   },
   "file_extension": ".py",
   "mimetype": "text/x-python",
   "name": "python",
   "nbconvert_exporter": "python",
   "pygments_lexer": "ipython3",
   "version": "3.10.4"
  }
 },
 "nbformat": 4,
 "nbformat_minor": 5
}
