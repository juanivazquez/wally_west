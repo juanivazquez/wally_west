{
 "cells": [
  {
   "cell_type": "code",
   "execution_count": 1,
   "id": "d7ef0636-8251-4edb-9d50-c015009fd642",
   "metadata": {},
   "outputs": [],
   "source": [
    "import pandas as pd\n",
    "import numpy as np\n",
    "import os"
   ]
  },
  {
   "cell_type": "code",
   "execution_count": 4,
   "id": "d63b39d5-2d45-48d0-b0fd-e2ebf8e0f114",
   "metadata": {},
   "outputs": [
    {
     "data": {
      "text/plain": [
       "(565400, 3)"
      ]
     },
     "execution_count": 4,
     "metadata": {},
     "output_type": "execute_result"
    }
   ],
   "source": [
    "df = pd.read_pickle('../data/dataframes/df3.pkl')\n",
    "df.shape"
   ]
  },
  {
   "cell_type": "code",
   "execution_count": 5,
   "id": "ea4f928c-25f8-4c24-a984-bac36a6c9538",
   "metadata": {},
   "outputs": [
    {
     "data": {
      "text/html": [
       "<div>\n",
       "<style scoped>\n",
       "    .dataframe tbody tr th:only-of-type {\n",
       "        vertical-align: middle;\n",
       "    }\n",
       "\n",
       "    .dataframe tbody tr th {\n",
       "        vertical-align: top;\n",
       "    }\n",
       "\n",
       "    .dataframe thead th {\n",
       "        text-align: right;\n",
       "    }\n",
       "</style>\n",
       "<table border=\"1\" class=\"dataframe\">\n",
       "  <thead>\n",
       "    <tr style=\"text-align: right;\">\n",
       "      <th></th>\n",
       "      <th>chapter</th>\n",
       "      <th>escrito</th>\n",
       "      <th>texto</th>\n",
       "    </tr>\n",
       "  </thead>\n",
       "  <tbody>\n",
       "    <tr>\n",
       "      <th>0</th>\n",
       "      <td>CONTRATOS SOBRE PERSONAS JURÍDICAS</td>\n",
       "      <td>e. 19/07/2023 N° 55783/23 v. 19/07/2023</td>\n",
       "      <td>SOCIEDADES ANÓNIMAS\\nACEGO S.A.\\nEscritura Nº ...</td>\n",
       "    </tr>\n",
       "    <tr>\n",
       "      <th>1</th>\n",
       "      <td>CONTRATOS SOBRE PERSONAS JURÍDICAS</td>\n",
       "      <td>e. 19/07/2023 N° 55773/23 v. 19/07/2023</td>\n",
       "      <td>\\nAGROQUIM NORTE S.A.\\nEsc 52 del 03/07/2023 F...</td>\n",
       "    </tr>\n",
       "    <tr>\n",
       "      <th>2</th>\n",
       "      <td>CONTRATOS SOBRE PERSONAS JURÍDICAS</td>\n",
       "      <td>e. 19/07/2023 N° 55779/23 v. 19/07/2023</td>\n",
       "      <td>\\n\\n\\n \\nALCARI S.A.\\nNúmero Correlativo 1.707...</td>\n",
       "    </tr>\n",
       "    <tr>\n",
       "      <th>3</th>\n",
       "      <td>CONTRATOS SOBRE PERSONAS JURÍDICAS</td>\n",
       "      <td>e. 19/07/2023 N° 55528/23 v. 19/07/2023</td>\n",
       "      <td>\\nB2FI S.A.\\n1) 17/07/2023. 2) Francisco LEVIS...</td>\n",
       "    </tr>\n",
       "    <tr>\n",
       "      <th>4</th>\n",
       "      <td>CONTRATOS SOBRE PERSONAS JURÍDICAS</td>\n",
       "      <td>e. 19/07/2023 N° 55539/23 v. 19/07/2023</td>\n",
       "      <td>\\nCMIX ARGENTINA S.A.\\nCUIT: 30-71088679-9.Com...</td>\n",
       "    </tr>\n",
       "  </tbody>\n",
       "</table>\n",
       "</div>"
      ],
      "text/plain": [
       "                              chapter  \\\n",
       "0  CONTRATOS SOBRE PERSONAS JURÍDICAS   \n",
       "1  CONTRATOS SOBRE PERSONAS JURÍDICAS   \n",
       "2  CONTRATOS SOBRE PERSONAS JURÍDICAS   \n",
       "3  CONTRATOS SOBRE PERSONAS JURÍDICAS   \n",
       "4  CONTRATOS SOBRE PERSONAS JURÍDICAS   \n",
       "\n",
       "                                   escrito  \\\n",
       "0  e. 19/07/2023 N° 55783/23 v. 19/07/2023   \n",
       "1  e. 19/07/2023 N° 55773/23 v. 19/07/2023   \n",
       "2  e. 19/07/2023 N° 55779/23 v. 19/07/2023   \n",
       "3  e. 19/07/2023 N° 55528/23 v. 19/07/2023   \n",
       "4  e. 19/07/2023 N° 55539/23 v. 19/07/2023   \n",
       "\n",
       "                                               texto  \n",
       "0  SOCIEDADES ANÓNIMAS\\nACEGO S.A.\\nEscritura Nº ...  \n",
       "1  \\nAGROQUIM NORTE S.A.\\nEsc 52 del 03/07/2023 F...  \n",
       "2  \\n\\n\\n \\nALCARI S.A.\\nNúmero Correlativo 1.707...  \n",
       "3  \\nB2FI S.A.\\n1) 17/07/2023. 2) Francisco LEVIS...  \n",
       "4  \\nCMIX ARGENTINA S.A.\\nCUIT: 30-71088679-9.Com...  "
      ]
     },
     "execution_count": 5,
     "metadata": {},
     "output_type": "execute_result"
    }
   ],
   "source": [
    "df.head()"
   ]
  },
  {
   "cell_type": "code",
   "execution_count": 8,
   "id": "0edfd177-de85-4361-944a-a0f015304a02",
   "metadata": {},
   "outputs": [
    {
     "name": "stdout",
     "output_type": "stream",
     "text": [
      "SOCIEDADES ANÓNIMAS\n",
      "ACEGO S.A.\n",
      "Escritura Nº 757 F° 2011 Reg. 553 de fecha 5/7/2023. Federico Gastón GOÑI, nacido el 21/5/1986, DNI 32.257.649, \n",
      "arquitecto, domiciliado en Calle 9, Nro 1521, Piso 2, Depto A, La Plata, Pcia Bs As, y Gabriel Sebastian GRAU, \n",
      "nacido el 17/6/1984, DNI 30.923.019, empresario, domiciliada en Calle 49 Nro 339, Planta Baja, Depto B, La Plata, \n",
      "Pcia Bs As; ambos argentinos y solteros. Objeto: A) Realización de obras públicas y/o privadas, por contratación \n",
      "directa, licitación pública y/o privada y cualquier sistema vigente y/o a crearse, ejecución de proyecto, dirección, \n",
      "administración, construcción, reparación y reformación de todo tipo de obras de ingeniería y arquitectura de \n",
      "inmuebles, incluyendo las actividades de la albañilería, herrería, electricidad y afines.- B) Compra, venta, \n",
      "importación, exportación, y comercialización de todo tipo de materiales, artículos e insumos para la construcción, \n",
      "incluyendo materiales de corralón, materiales eléctricos, maquinarias de construcción y afines.- C) Realización de \n",
      "operaciones inmobiliarias, compraventa, permuta, alquiler, arrendamiento de propiedades inmuebles, inclusive las \n",
      "comprendidas bajo el régimen de propiedad horizontal, así como también toda clase de operaciones inmobiliarias \n",
      "incluyendo el fraccionamiento y posterior loteo de parcelas destinadas a la vivienda, urbanización, clubes de \n",
      "Campo y parques industriales, pudiendo tomar la venta o comercialización de operaciones inmobiliarias de \n",
      "terceros. Podrá inclusive realizar todas las operaciones sobre inmuebles que autoricen las leyes comprendidas en \n",
      "las disposiciones de la ley de propiedad horizontal.. Cierre de Ejercicio 31/12. Capital $ 200.000 representado por \n",
      "200.000 acciones ordinarias, nominativas no endosables de un (1) peso cada una que se suscriben en un 100% y se \n",
      "integran en un 25%. Suscriben 100.000 acciones c/u. Duración 30 años. Directorio por 3 ejercicios: PRESIDENTE: \n",
      "Federico Gastón GOÑI; DIRECTOR SUPLENTE: Gabriel Sebastian GRAU; todos con domicilio especial y sede \n",
      "social en Avenida Entre Ríos 1241, Piso 7, Unidad 47, CABA Autorizado según instrumento público Esc. Nº 757 de \n",
      "fecha 05/07/2023 Reg. Nº 553\n",
      "VERONICA PAOLA ZAZZALI - T°: 358 F°: 235 C.P.C.E.C.A.B.A.\n",
      "\n"
     ]
    }
   ],
   "source": [
    "print(df.texto.iloc[0])"
   ]
  },
  {
   "cell_type": "code",
   "execution_count": 9,
   "id": "87f51e3c-1563-4b24-9262-50b2645892ec",
   "metadata": {},
   "outputs": [
    {
     "data": {
      "text/plain": [
       "array(['CONTRATOS SOBRE PERSONAS JURÍDICAS',\n",
       "       'CONVOCATORIAS Y AVISOS COMERCIALES', 'EDICTOS JUDICIALES'],\n",
       "      dtype=object)"
      ]
     },
     "execution_count": 9,
     "metadata": {},
     "output_type": "execute_result"
    }
   ],
   "source": [
    "df.chapter.unique()"
   ]
  }
 ],
 "metadata": {
  "kernelspec": {
   "display_name": "Python 3 (ipykernel)",
   "language": "python",
   "name": "python3"
  },
  "language_info": {
   "codemirror_mode": {
    "name": "ipython",
    "version": 3
   },
   "file_extension": ".py",
   "mimetype": "text/x-python",
   "name": "python",
   "nbconvert_exporter": "python",
   "pygments_lexer": "ipython3",
   "version": "3.8.20"
  }
 },
 "nbformat": 4,
 "nbformat_minor": 5
}
