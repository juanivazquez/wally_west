{
 "cells": [
  {
   "cell_type": "markdown",
   "id": "3899c67e-8d76-412c-9f15-afdb5643faa3",
   "metadata": {},
   "source": [
    "# SETTINGS"
   ]
  },
  {
   "cell_type": "code",
   "execution_count": 147,
   "id": "7b4d4fce-6a15-4c48-be2d-ac5314f574e7",
   "metadata": {},
   "outputs": [],
   "source": [
    "from selenium import webdriver\n",
    "from selenium.webdriver.common.keys import Keys\n",
    "from selenium.webdriver.support import expected_conditions as EC\n",
    "from selenium.webdriver.common.by import By\n",
    "from selenium.webdriver.support.wait import WebDriverWait\n",
    "from webdriver_manager.chrome import ChromeDriverManager\n",
    "from bs4 import BeautifulSoup\n",
    "import time\n",
    "ID = \"id\"\n",
    "NAME = \"name\"\n",
    "XPATH = \"xpath\"\n",
    "LINK_TEXT = \"link text\"\n",
    "PARTIAL_LINK_TEXT = \"partial link text\"\n",
    "TAG_NAME = \"tag name\"\n",
    "CLASS_NAME = \"class name\"\n",
    "CSS_SELECTOR = \"css selector\""
   ]
  },
  {
   "cell_type": "code",
   "execution_count": 150,
   "id": "82c3e0f5-8818-44b0-add4-088128352ab7",
   "metadata": {},
   "outputs": [],
   "source": [
    "import random\n",
    "from time import sleep\n",
    "from selenium import webdriver\n",
    "from webdriver_manager.chrome import ChromeDriverManager\n",
    "\n",
    "driver = webdriver.Chrome(ChromeDriverManager().install())\n",
    "# driver.get('https://www.olx.com.ar/autos_c378')"
   ]
  },
  {
   "cell_type": "markdown",
   "id": "676f01d9-bdb7-4cbe-bbef-fe313133382d",
   "metadata": {},
   "source": [
    "# SCRAPPING"
   ]
  },
  {
   "cell_type": "markdown",
   "id": "06c8fb97-bf0f-4c66-a4e6-f9ae41ec78a8",
   "metadata": {},
   "source": [
    "## Connection"
   ]
  },
  {
   "cell_type": "code",
   "execution_count": 151,
   "id": "8c0c701d-3764-46ce-bb8c-e48dcea91e19",
   "metadata": {},
   "outputs": [],
   "source": [
    "driver.get(\"https://linkedin.com\")\n",
    "\n",
    "time.sleep(4)\n",
    "\n",
    "username = driver.find_element_by_xpath(\"//input[@name='session_key']\")\n",
    "password = driver.find_element_by_xpath(\"//input[@name='session_password']\")\n",
    "\n",
    "username.send_keys(\"juanivazquez@gmail.com\")\n",
    "password.send_keys(\"#Ulises01\")\n",
    "\n",
    "time.sleep(4)\n",
    "\n",
    "driver.find_element_by_xpath(\"/html/body/main/section[1]/div/div/form/div[2]/button\").click()\n",
    "# # saltar ingreso celu:\n",
    "# driver.find_element(By.XPATH,\"/html/body/div[2]/div[1]/section/div[2]/div/article/footer/div/div/button\").click()\n",
    "\n",
    "time.sleep(4)"
   ]
  },
  {
   "cell_type": "code",
   "execution_count": 77,
   "id": "bd62b914-9a2f-421d-b0c5-51dd5924e0cc",
   "metadata": {},
   "outputs": [],
   "source": [
    "driver.find_element_by_xpath(\"/html/body/main/section[1]/div/div/form/div[2]/button\").click()"
   ]
  },
  {
   "cell_type": "code",
   "execution_count": 108,
   "id": "36838e0a-3a9b-4c17-811a-78dd8231ce73",
   "metadata": {},
   "outputs": [],
   "source": [
    "# buttons = driver.find_elements_by_xpath('//button[@aria-label=\"Ver más. Haz clic para ver todo el contenido.\" and contains(@class, \"reusable-search-show-more-link t-black--light link-without-visited-state t-14\")]')\n",
    "\n",
    "# # Click on each button\n",
    "# for button in buttons:\n",
    "#     button.click()"
   ]
  },
  {
   "cell_type": "markdown",
   "id": "3b86f954-02a1-4e60-8e0e-5d53c3dfa830",
   "metadata": {},
   "source": [
    "## Saved Posts"
   ]
  },
  {
   "cell_type": "code",
   "execution_count": 129,
   "id": "709cddae-0abc-4c7b-b4bb-bff86ae83d45",
   "metadata": {},
   "outputs": [],
   "source": [
    "def collect_data(ruta=\"https://www.linkedin.com/my-items/saved-posts/\",n=100):\n",
    "    driver.get(ruta)\n",
    "    \n",
    "    for i in range(n):\n",
    "        driver.execute_script(\"window.scrollTo(0, document.body.scrollHeight);\")\n",
    "        time.sleep(0.25)\n",
    "        \n",
    "    # Find the buttons\n",
    "    buttons = driver.find_elements_by_xpath('//button[@aria-label=\"Ver más. Haz clic para ver todo el contenido.\" and contains(@class, \"reusable-search-show-more-link t-black--light link-without-visited-state t-14\")]')\n",
    "\n",
    "    # Click on each button\n",
    "    for button in buttons:\n",
    "        # button.click()\n",
    "        driver.execute_script(\"arguments[0].click();\", button)\n",
    "    html = driver.page_source\n",
    "\n",
    "    return html"
   ]
  },
  {
   "cell_type": "code",
   "execution_count": 109,
   "id": "2ade9659-c8ad-4b81-8da7-f7c8948a4a7b",
   "metadata": {},
   "outputs": [],
   "source": [
    "# vamos a páginas guardadas:\n",
    "driver.get(\"https://www.linkedin.com/my-items/saved-posts/\")"
   ]
  },
  {
   "cell_type": "code",
   "execution_count": 112,
   "id": "3af36ad9-bccf-4882-bdae-2af1929b1205",
   "metadata": {},
   "outputs": [],
   "source": [
    "# cargamos bien toda la página:\n",
    "for i in range(1000):\n",
    "    driver.execute_script(\"window.scrollTo(0, document.body.scrollHeight);\")\n",
    "    time.sleep(0.25)"
   ]
  },
  {
   "cell_type": "code",
   "execution_count": 113,
   "id": "2ec0799e-2832-4d7f-bd87-7c50b5c759e8",
   "metadata": {},
   "outputs": [],
   "source": [
    "# Find the buttons\n",
    "buttons = driver.find_elements_by_xpath('//button[@aria-label=\"Ver más. Haz clic para ver todo el contenido.\" and contains(@class, \"reusable-search-show-more-link t-black--light link-without-visited-state t-14\")]')\n",
    "\n",
    "# Click on each button\n",
    "for button in buttons:\n",
    "    # button.click()\n",
    "    driver.execute_script(\"arguments[0].click();\", button)"
   ]
  },
  {
   "cell_type": "markdown",
   "id": "47a780cb-0af8-4472-92a0-51deb7527802",
   "metadata": {},
   "source": [
    "## Editting"
   ]
  },
  {
   "cell_type": "code",
   "execution_count": 69,
   "id": "90c07e78-4bb2-4fff-9c02-b561ef6676bc",
   "metadata": {},
   "outputs": [],
   "source": [
    "def get_name(post):\n",
    "    name_elements = post.find_all('span', class_='entity-result__title-text')\n",
    "    names = [name.text.strip() for name in name_elements]\n",
    "    return names\n",
    "\n",
    "def get_description(post):\n",
    "    description_elements = post.find_all('div', class_='entity-result__primary-subtitle')\n",
    "    descriptions = [description.text.strip() for description in description_elements]\n",
    "    return descriptions\n",
    "def get_link(post):\n",
    "    link_elements = post.find_all('a', class_='app-aware-link')\n",
    "    links = [link['href'] for link in link_elements]\n",
    "    return links"
   ]
  },
  {
   "cell_type": "code",
   "execution_count": 114,
   "id": "765658e6-9644-434f-9c4c-40f4766c9627",
   "metadata": {},
   "outputs": [],
   "source": [
    "# traemos el html:\n",
    "from bs4 import BeautifulSoup\n",
    "\n",
    "html = driver.page_source\n",
    "\n",
    "soup = BeautifulSoup(html)\n",
    "\n",
    "# for tag in soup.find_all('onclick'):\n",
    "#     print(tag.text)"
   ]
  },
  {
   "cell_type": "code",
   "execution_count": 134,
   "id": "123dfeb4-9deb-4c85-8e76-e000c3aef45b",
   "metadata": {},
   "outputs": [],
   "source": [
    "# post_elements[200]"
   ]
  },
  {
   "cell_type": "code",
   "execution_count": 116,
   "id": "3f5dd666-d802-4f6f-aa8d-bb5d207aeec3",
   "metadata": {},
   "outputs": [],
   "source": [
    "post_elements = soup.find_all('div', class_='entity-result__content-actor')\n",
    "\n",
    "p_dict = {}\n",
    "for n,post in enumerate(post_elements):\n",
    "    p_dict[n] = {}\n",
    "    p_dict[n]['name'] = get_name(post) \n",
    "    p_dict[n]['name'] = get_name(post) \n",
    "    p_dict[n]['desc'] = get_description(post) \n",
    "    p_dict[n]['link'] = get_link(post) "
   ]
  },
  {
   "cell_type": "code",
   "execution_count": 123,
   "id": "e5f7fca5-caf3-45c2-9c69-220cdd8cde6c",
   "metadata": {},
   "outputs": [
    {
     "data": {
      "text/plain": [
       "{'name': ['Matthew MayoVer el perfil de Matthew Mayo\\n\\n\\n\\n \\n• 2º'],\n",
       " 'desc': ['Editor-in-Chief & Data Scientist at KDnuggets • Data Science • Machine Learning • Algorithms • AI • Large Language Models • Python'],\n",
       " 'link': ['https://www.linkedin.com/in/ACoAAANN4g8BTzomVDxq-syI4PUPQYHMjv206_w?miniProfileUrn=urn%3Ali%3Afs_miniProfile%3AACoAAANN4g8BTzomVDxq-syI4PUPQYHMjv206_w']}"
      ]
     },
     "execution_count": 123,
     "metadata": {},
     "output_type": "execute_result"
    }
   ],
   "source": [
    "p_dict[1000]"
   ]
  },
  {
   "cell_type": "code",
   "execution_count": 47,
   "id": "9ff24ecd-9894-490d-8db0-16ff67ad3c77",
   "metadata": {},
   "outputs": [
    {
     "data": {
      "text/plain": [
       "'Head of Data Science'"
      ]
     },
     "execution_count": 47,
     "metadata": {},
     "output_type": "execute_result"
    }
   ],
   "source": [
    "post_element.find_all('div', class_='entity-result__primary-subtitle')[0].text.strip()"
   ]
  },
  {
   "cell_type": "code",
   "execution_count": 87,
   "id": "71f4e292-d07f-412e-965f-4acab0e1856b",
   "metadata": {},
   "outputs": [
    {
     "data": {
      "text/plain": [
       "[]"
      ]
     },
     "execution_count": 87,
     "metadata": {},
     "output_type": "execute_result"
    }
   ],
   "source": [
    "description_elements = post_element.find_all('button', class_='reusable-search-show-more-link.reusable-search-show-more-link')\n",
    "# descriptions = [description.text.strip() for description in description_elements]\n",
    "description_elements"
   ]
  },
  {
   "cell_type": "code",
   "execution_count": null,
   "id": "6eb8e404-c548-4338-965b-c6d65300ea06",
   "metadata": {},
   "outputs": [],
   "source": [
    "post_element.find_all('div', class_='entity-result__primary-subtitle')[0].text.strip()"
   ]
  },
  {
   "cell_type": "code",
   "execution_count": 48,
   "id": "ecceaa35-4438-4380-8da6-bec0a1402f6a",
   "metadata": {},
   "outputs": [],
   "source": [
    "name_elements = post_element.find_all('span', class_='entity-result__title-text')\n",
    "names = [name.text.strip() for name in name_elements]\n",
    "\n",
    "description_elements = post_element.find_all('div', class_='entity-result__primary-subtitle')\n",
    "descriptions = [description.text.strip() for description in description_elements]\n",
    "\n",
    "link_elements = post_element.find_all('a', class_='app-aware-link')\n",
    "links = [link['href'] for link in link_elements]"
   ]
  },
  {
   "cell_type": "code",
   "execution_count": 70,
   "id": "f1d2c9ef-255e-456f-a431-2750c07c8a38",
   "metadata": {},
   "outputs": [
    {
     "data": {
      "text/plain": [
       "['https://www.linkedin.com/in/ACoAABmbZvwB1AdVm9J8JcmX2AiAXWG6jgdJC3A?miniProfileUrn=urn%3Ali%3Afs_miniProfile%3AACoAABmbZvwB1AdVm9J8JcmX2AiAXWG6jgdJC3A']"
      ]
     },
     "execution_count": 70,
     "metadata": {},
     "output_type": "execute_result"
    }
   ],
   "source": [
    "get_link(post_elements[80])"
   ]
  },
  {
   "cell_type": "markdown",
   "id": "1b01822b-5b87-4a96-b166-fc55696b7ede",
   "metadata": {},
   "source": [
    "---"
   ]
  },
  {
   "cell_type": "code",
   "execution_count": 20,
   "id": "10674e15-4a46-40fc-a800-7da98588b513",
   "metadata": {},
   "outputs": [
    {
     "name": "stdout",
     "output_type": "stream",
     "text": [
      "Author: \n",
      "Text in Post: 2 horas •\n",
      "Link: Pasar a la búsqueda\n"
     ]
    }
   ],
   "source": [
    "author = soup.find('a').text.strip()\n",
    "text_in_post = soup.find('p').text.strip()\n",
    "link = soup.find('button').text.strip()\n",
    "\n",
    "print(\"Author:\", author)\n",
    "print(\"Text in Post:\", text_in_post)\n",
    "print(\"Link:\", link)"
   ]
  },
  {
   "cell_type": "code",
   "execution_count": 39,
   "id": "5b66d6f4-3013-4943-840b-3eee104e6dfa",
   "metadata": {},
   "outputs": [],
   "source": [
    "# soup = BeautifulSoup(html_code, 'html.parser')\n",
    "\n",
    "name = soup.find('span', class_='entity-result__title-text').text.strip()\n",
    "description = soup.find('div', class_='entity-result__primary-subtitle').text.strip()\n",
    "link = soup.find('a', class_='app-aware-link')['href']\n",
    "\n",
    "print('Name:', name)\n",
    "print('Description:', description)\n",
    "print('Link:', link)"
   ]
  },
  {
   "cell_type": "code",
   "execution_count": 27,
   "id": "555492bc-90f9-4b5c-b664-dd556e3c735f",
   "metadata": {},
   "outputs": [],
   "source": [
    "name_elements = soup.find_all('span', class_='entity-result__title-text')\n",
    "names = [name.text.strip() for name in name_elements]\n",
    "\n",
    "description_elements = soup.find_all('div', class_='entity-result__primary-subtitle')\n",
    "descriptions = [description.text.strip() for description in description_elements]\n",
    "\n",
    "link_elements = soup.find_all('a', class_='app-aware-link')\n",
    "links = [link['href'] for link in link_elements]\n",
    "\n",
    "# print('Names:', names)\n",
    "# print('Descriptions:', descriptions)\n",
    "# print('Links:', links)"
   ]
  },
  {
   "cell_type": "code",
   "execution_count": 40,
   "id": "aed00f7d-b809-447f-b000-449a80f8f3e2",
   "metadata": {},
   "outputs": [
    {
     "data": {
      "text/plain": [
       "{'source': <bs4.element.SoupStrainer at 0x1d63e2dbac0>}"
      ]
     },
     "execution_count": 40,
     "metadata": {},
     "output_type": "execute_result"
    }
   ],
   "source": [
    "post_elements.__dict__"
   ]
  },
  {
   "cell_type": "code",
   "execution_count": 131,
   "id": "067461f7-01bb-4eb0-a381-937d2f4eacb5",
   "metadata": {},
   "outputs": [],
   "source": [
    "# post_elements = soup.find_all('div', class_='entity-result__content-actor')\n",
    "\n",
    "# for post_element in post_elements:\n",
    "#     post_html = post_element.prettify()\n",
    "#     print('Post HTML:')\n",
    "#     print(post_html)\n",
    "#     print('----------------------')"
   ]
  },
  {
   "cell_type": "code",
   "execution_count": 17,
   "id": "dfc1c876-8633-466b-a29f-d229b9e0e7f0",
   "metadata": {},
   "outputs": [],
   "source": [
    "import pickle\n",
    "FILENAME = '2023_11_15_linkedin.pkl'\n",
    "fp = open(FILENAME, 'wb')\n",
    "pickle.dump(html, fp)"
   ]
  },
  {
   "cell_type": "code",
   "execution_count": null,
   "id": "91ad174a-731d-4a11-a291-f8459f6fc023",
   "metadata": {},
   "outputs": [],
   "source": [
    "# pendiente:\n",
    "cargar file, escrapear los elementos obteniendo nombre_autor,linkedin_autor, texto_posteo, link_elemento_posteado..\n",
    "hay qeu pensar porque hay posteos a secas y reposteos...cómo distinguirlos y a cáda uno aplicarle un método."
   ]
  },
  {
   "cell_type": "code",
   "execution_count": 14,
   "id": "43e03f7d-d5b9-4017-8c4f-ac25582c4e7e",
   "metadata": {},
   "outputs": [],
   "source": [
    "test = driver.find_elements(By.CLASS_NAME, \"entity-result\") # [0].get_attribute(\"title\")"
   ]
  },
  {
   "cell_type": "code",
   "execution_count": 130,
   "id": "6146fbaa-0f3a-47a1-95b5-9643ee17fcbc",
   "metadata": {},
   "outputs": [],
   "source": [
    "# test[0].get_attribute('innerHTML')\n"
   ]
  },
  {
   "cell_type": "code",
   "execution_count": null,
   "id": "1ba842f1-3d9d-4129-8e5d-ce467e7f25dc",
   "metadata": {},
   "outputs": [],
   "source": [
    "urlLink[4].get_attribute('innerHTML')\n",
    "urlLink[4].get_attribute('outerHTML')"
   ]
  },
  {
   "cell_type": "code",
   "execution_count": 33,
   "id": "84d66e50-a01d-4b9e-955e-8e62221c1310",
   "metadata": {},
   "outputs": [
    {
     "data": {
      "text/plain": [
       "'C:\\\\Users\\\\juani\\\\Documents\\\\3_My_Jupiter_Notebooks\\\\5_Galicia\\\\2_LLMs\\\\venv'"
      ]
     },
     "execution_count": 33,
     "metadata": {},
     "output_type": "execute_result"
    }
   ],
   "source": [
    "import os\n",
    "os.getcwd()"
   ]
  },
  {
   "cell_type": "code",
   "execution_count": 32,
   "id": "ef3eceec-e4b9-4a77-b672-3cdea33c0868",
   "metadata": {},
   "outputs": [],
   "source": [
    "# Save parsed HTML to a text file\n",
    "with open('parsed_html.txt', 'w', encoding='utf-8') as file:\n",
    "    file.write(soup.prettify())"
   ]
  },
  {
   "cell_type": "code",
   "execution_count": null,
   "id": "e38f0519-8646-4e64-be8f-967497aeda24",
   "metadata": {},
   "outputs": [],
   "source": [
    "\n",
    "boton = driver.find_element_by_xpath('//button[@data-aut-id=\"btnLoadMore\"]')\n",
    "for i in range(3): # Voy a darle click en cargar mas 3 veces\n",
    "    try:\n",
    "        # le doy click\n",
    "        boton.click()\n",
    "        # espero que cargue la informacion dinamica\n",
    "        sleep(random.uniform(8.0, 10.0))\n",
    "        # busco el boton nuevamente para darle click en la siguiente iteracion\n",
    "        boton = driver.find_element_by_xpath('//button[@data-aut-id=\"btnLoadMore\"]')\n",
    "    except:\n",
    "        # si hay algun error, rompo el lazo. No me complico.\n",
    "        break"
   ]
  },
  {
   "cell_type": "markdown",
   "id": "a366e970-a4a7-451f-8298-a55a50c00f1b",
   "metadata": {},
   "source": [
    "---"
   ]
  },
  {
   "cell_type": "markdown",
   "id": "f9ff235e-d520-4c09-894e-1b8bde21d575",
   "metadata": {},
   "source": [
    "# historico perfiles"
   ]
  },
  {
   "cell_type": "code",
   "execution_count": 132,
   "id": "9ef5b10a-0c6f-4532-99b5-bebb08ca7a5e",
   "metadata": {},
   "outputs": [],
   "source": [
    "def collect_data(ruta,n=100):\n",
    "    driver.get(ruta)\n",
    "    \n",
    "    for i in range(n):\n",
    "        driver.execute_script(\"window.scrollTo(0, document.body.scrollHeight);\")\n",
    "        time.sleep(0.25)\n",
    "        \n",
    "    # Find the buttons\n",
    "    buttons = driver.find_elements_by_xpath('//button[@aria-label=\"Ver más. Haz clic para ver todo el contenido.\" and contains(@class, \"reusable-search-show-more-link t-black--light link-without-visited-state t-14\")]')\n",
    "\n",
    "    # Click on each button\n",
    "    for button in buttons:\n",
    "        # button.click()\n",
    "        driver.execute_script(\"arguments[0].click();\", button)\n",
    "    html = driver.page_source\n",
    "\n",
    "    return html\n",
    "\n",
    "\n",
    "ruta = r'https://www.linkedin.com/in/chrisrocas/recent-activity/all/'\n",
    "test = collect_data(ruta)"
   ]
  },
  {
   "cell_type": "code",
   "execution_count": 133,
   "id": "d891a8d8-47ca-498a-bf27-2fa51a4526fc",
   "metadata": {},
   "outputs": [],
   "source": [
    "soup = BeautifulSoup(test)\n"
   ]
  },
  {
   "cell_type": "code",
   "execution_count": 135,
   "id": "1507392d-5e2f-4cf4-aa0b-53427d77d602",
   "metadata": {},
   "outputs": [],
   "source": [
    "post_elements = soup.find_all('div', class_='entity-result__content-actor')\n",
    "\n",
    "p_dict = {}\n",
    "for n,post in enumerate(post_elements):\n",
    "    p_dict[n] = {}\n",
    "    p_dict[n]['name'] = get_name(post) \n",
    "    p_dict[n]['name'] = get_name(post) \n",
    "    p_dict[n]['desc'] = get_description(post) \n",
    "    p_dict[n]['link'] = get_link(post) "
   ]
  },
  {
   "cell_type": "code",
   "execution_count": 137,
   "id": "feb30279-ece9-425a-b5e0-8d13663bd0a4",
   "metadata": {},
   "outputs": [
    {
     "data": {
      "text/plain": [
       "[]"
      ]
     },
     "execution_count": 137,
     "metadata": {},
     "output_type": "execute_result"
    }
   ],
   "source": [
    "post_elements = soup.find_all('div', class_='entity-result__content-actor')\n",
    "post_elements"
   ]
  },
  {
   "cell_type": "markdown",
   "id": "6a510f10-9509-41c6-9bfd-09f76cd9eb7b",
   "metadata": {},
   "source": [
    "---"
   ]
  },
  {
   "cell_type": "markdown",
   "id": "d3a925d1-e338-402b-be57-f037cd2b065e",
   "metadata": {},
   "source": [
    "# EXPERIMENT"
   ]
  },
  {
   "cell_type": "code",
   "execution_count": 154,
   "id": "f06ee97d-ca5e-40a5-869e-ab037f7c4e99",
   "metadata": {},
   "outputs": [],
   "source": [
    "def collect_data(ruta,n=100):\n",
    "    driver.get(ruta)\n",
    "    time.sleep(4)\n",
    "    for i in range(n):\n",
    "        driver.execute_script(\"window.scrollTo(0, document.body.scrollHeight);\")\n",
    "        time.sleep(0.25)\n",
    "        \n",
    "    # Find the buttons\n",
    "    buttons = driver.find_elements_by_xpath('//button[@aria-label=\"Ver más. Haz clic para ver todo el contenido.\" and contains(@class, \"reusable-search-show-more-link t-black--light link-without-visited-state t-14\")]')\n",
    "\n",
    "    # Click on each button\n",
    "    for button in buttons:\n",
    "        # button.click()\n",
    "        driver.execute_script(\"arguments[0].click();\", button)\n",
    "    html = driver.page_source\n",
    "\n",
    "    return html\n",
    "\n",
    "\n",
    "ruta = \"https://www.linkedin.com/my-items/saved-posts/\"\n",
    "dummy = collect_data(ruta,n=2)\n"
   ]
  },
  {
   "cell_type": "code",
   "execution_count": 163,
   "id": "fed25904-d999-4cb4-a01e-20e5f1c8f1ee",
   "metadata": {},
   "outputs": [],
   "source": [
    "soup = BeautifulSoup(dummy)\n",
    "# soup"
   ]
  },
  {
   "cell_type": "code",
   "execution_count": 164,
   "id": "969ebddb-7ef0-4075-bc40-bc98dc119882",
   "metadata": {},
   "outputs": [
    {
     "data": {
      "text/plain": [
       "10"
      ]
     },
     "execution_count": 164,
     "metadata": {},
     "output_type": "execute_result"
    }
   ],
   "source": [
    "posts = soup.find_all('div', class_='entity-result')\n",
    "len(posts)"
   ]
  },
  {
   "cell_type": "code",
   "execution_count": null,
   "id": "7c926368-f461-4fa4-bc53-d01578aec7d6",
   "metadata": {},
   "outputs": [],
   "source": [
    "def get_link(post):\n",
    "    link_elements = post.find_all('a', class_='app-aware-link')\n",
    "    links = [link['href'] for link in link_elements]\n",
    "    links = list( dict.fromkeys(links) )\n",
    "    return links"
   ]
  },
  {
   "cell_type": "code",
   "execution_count": 166,
   "id": "e11a04cb-4cc6-48db-a13d-155359e3b35b",
   "metadata": {},
   "outputs": [
    {
     "data": {
      "text/plain": [
       "['https://www.linkedin.com/in/ACoAABRr6bcBeNKKOULohu05Bu_ivPE7lKI981c?miniProfileUrn=urn%3Ali%3Afs_miniProfile%3AACoAABRr6bcBeNKKOULohu05Bu_ivPE7lKI981c',\n",
       " 'https://www.linkedin.com/in/ACoAABRr6bcBeNKKOULohu05Bu_ivPE7lKI981c?miniProfileUrn=urn%3Ali%3Afs_miniProfile%3AACoAABRr6bcBeNKKOULohu05Bu_ivPE7lKI981c',\n",
       " 'https://www.linkedin.com/feed/update/urn:li:activity:7130585251843637248?updateEntityUrn=urn%3Ali%3Afs_updateV2%3A%28urn%3Ali%3Aactivity%3A7130585251843637248%2CFEED_DETAIL%2CEMPTY%2CDEFAULT%2Cfalse%29']"
      ]
     },
     "execution_count": 166,
     "metadata": {},
     "output_type": "execute_result"
    }
   ],
   "source": [
    "l = get_link(posts[0])\n",
    "l"
   ]
  },
  {
   "cell_type": "code",
   "execution_count": 202,
   "id": "66531743-de7a-4e1c-bf0a-158bfa517b16",
   "metadata": {},
   "outputs": [
    {
     "data": {
      "text/plain": [
       "['https://www.linkedin.com/in/ACoAABRr6bcBeNKKOULohu05Bu_ivPE7lKI981c?miniProfileUrn=urn%3Ali%3Afs_miniProfile%3AACoAABRr6bcBeNKKOULohu05Bu_ivPE7lKI981c',\n",
       " 'https://www.linkedin.com/in/ACoAABRr6bcBeNKKOULohu05Bu_ivPE7lKI981c?miniProfileUrn=urn%3Ali%3Afs_miniProfile%3AACoAABRr6bcBeNKKOULohu05Bu_ivPE7lKI981c',\n",
       " 'https://www.linkedin.com/feed/update/urn:li:activity:7130585251843637248?updateEntityUrn=urn%3Ali%3Afs_updateV2%3A%28urn%3Ali%3Aactivity%3A7130585251843637248%2CFEED_DETAIL%2CEMPTY%2CDEFAULT%2Cfalse%29']"
      ]
     },
     "execution_count": 202,
     "metadata": {},
     "output_type": "execute_result"
    }
   ],
   "source": [
    "l"
   ]
  },
  {
   "cell_type": "code",
   "execution_count": 203,
   "id": "f225978e-8bfb-418f-8358-52472d530502",
   "metadata": {},
   "outputs": [
    {
     "data": {
      "text/plain": [
       "['https://www.linkedin.com/in/ACoAABRr6bcBeNKKOULohu05Bu_ivPE7lKI981c?miniProfileUrn=urn%3Ali%3Afs_miniProfile%3AACoAABRr6bcBeNKKOULohu05Bu_ivPE7lKI981c',\n",
       " 'https://www.linkedin.com/feed/update/urn:li:activity:7130585251843637248?updateEntityUrn=urn%3Ali%3Afs_updateV2%3A%28urn%3Ali%3Aactivity%3A7130585251843637248%2CFEED_DETAIL%2CEMPTY%2CDEFAULT%2Cfalse%29']"
      ]
     },
     "execution_count": 203,
     "metadata": {},
     "output_type": "execute_result"
    }
   ],
   "source": [
    "mylist"
   ]
  },
  {
   "cell_type": "code",
   "execution_count": 182,
   "id": "8ee9cc15-19cf-4201-a1c0-0f63cac7bf78",
   "metadata": {},
   "outputs": [
    {
     "name": "stdout",
     "output_type": "stream",
     "text": [
      "\n",
      "CEO Jerry Liu's talk at the AI.engineer summit is out now! Check out his awesome bucket hat, and also hear about:⭐️ problems with basic approaches to Retrieval-Augmented Generation (RAG)⭐️ the importance of evaluation to understand the performance of your app and how to improve it⭐️ techniques for improving your RAG app's performance, including ◦ chunk sizes ◦ metadata filtering ◦ small-to-big retrieval ◦ multi-document agents ◦ fine-tuninghttps://lnkd.in/gvvcBiuP \n",
      " \n"
     ]
    }
   ],
   "source": [
    "# relative entity-result__summary entity-result--no-ellipsis mb2 t-14 t-black mh4\n",
    "# relative entity-result__content-summary entity-result--no-ellipsis t-14 mb2\n",
    "# linked-area flex-1 cursor-pointer\n",
    "print(posts[1].find_all('p', class_='relative entity-result__summary entity-result--no-ellipsis mb2 t-14 t-black mh4')[0].text)"
   ]
  },
  {
   "cell_type": "code",
   "execution_count": 184,
   "id": "d687b768-9f75-4040-a9c4-ab9c22a1c5fb",
   "metadata": {},
   "outputs": [
    {
     "name": "stdout",
     "output_type": "stream",
     "text": [
      "\n",
      "681+ engineering blogs that will help you improve at system design:1. Engineering @ Meta: https://lnkd.in/gc9xnZQ82. OpenAI Software Engineering: https://lnkd.in/g3wFsZk73. Nextflix Tech: https://lnkd.in/gq-SWapT4. Stripe Engineering: https://lnkd.in/g4JqgY395. Uber Engineering: https://lnkd.in/gvga-NEg 6. Airbnb Tech: https://lnkd.in/gy3RF5ih7. Figma Engineering: https://lnkd.in/gFbvV8Mk8. Dropbox Tech: https://dropbox.tech/9. LinkedIn Engineering: https://lnkd.in/g5eMavet10. Instagram Engineering: https://lnkd.in/grE9bRCy11. Spotify Engineering: https://lnkd.in/gje__jGu12. MongoDB Engineering: https://lnkd.in/grsAiuvS13. Twitter Engineering: https://lnkd.in/gVVcSYNf14. Engineering @ Ramp: https://lnkd.in/gw_kd2Vj15. Instacart Tech: https://lnkd.in/gdGN9SrY16. Stack Overflow Engineering: https://lnkd.in/gENW-7Wh17. Paypal Tech: https://lnkd.in/gxj9Mx6418. Rippling Engineering: https://lnkd.in/ge6K-UkG19. Notion Tech: https://lnkd.in/gCUUi2UC20. Pinterest Engineering: https://lnkd.in/gnfrme2Z21. Engineering @ Spotify: https://lnkd.in/gje__jGu22. Canva Engineering: https://lnkd.in/gRHZtDCa23. GitHub Blog: https://lnkd.in/gKNBpb7V24. Slack Engineering: https://slack.engineering/25. Lyft Engineering: https://eng.lyft.com/26. Yelp Engineering: https://lnkd.in/gBWEyaHK27. Gusto Engineering: https://lnkd.in/gyqBr_CW28. SoundCloud Backstage Blog: https://lnkd.in/gNDUUreD29. Medium Engineering: https://lnkd.in/g3ASQbbB30. Heroku Eng Blog: https://blog.heroku.com/31. Etsy Engineering: https://lnkd.in/gS6UwNN932. Grab Tech: https://lnkd.in/gfhcUM5y33. Longer List Here (remaining 600): https://lnkd.in/g3xqDpg6\n",
      " \n"
     ]
    }
   ],
   "source": [
    "print(posts[0].find_all('p', class_='relative entity-result__content-summary entity-result--no-ellipsis t-14 mb2')[0].text)\n"
   ]
  },
  {
   "cell_type": "code",
   "execution_count": null,
   "id": "bd34458d-502d-4e4a-b9e9-13f73d7b5f51",
   "metadata": {},
   "outputs": [],
   "source": [
    "print(posts[1].find_all('p', class_='relative entity-result__summary entity-result--no-ellipsis mb2 t-14 t-black mh4')[0].text)"
   ]
  },
  {
   "cell_type": "code",
   "execution_count": 200,
   "id": "d7807061-9a49-452c-b7c9-721c75ce47bb",
   "metadata": {},
   "outputs": [
    {
     "ename": "IndexError",
     "evalue": "list index out of range",
     "output_type": "error",
     "traceback": [
      "\u001b[1;31m---------------------------------------------------------------------------\u001b[0m",
      "\u001b[1;31mIndexError\u001b[0m                                Traceback (most recent call last)",
      "Cell \u001b[1;32mIn[200], line 2\u001b[0m\n\u001b[0;32m      1\u001b[0m class_prefix \u001b[38;5;241m=\u001b[39m \u001b[38;5;124m'\u001b[39m\u001b[38;5;124mrelative entity\u001b[39m\u001b[38;5;124m'\u001b[39m\n\u001b[1;32m----> 2\u001b[0m \u001b[38;5;28mprint\u001b[39m(\u001b[43mposts\u001b[49m\u001b[43m[\u001b[49m\u001b[38;5;241;43m10\u001b[39;49m\u001b[43m]\u001b[49m\u001b[38;5;241m.\u001b[39mfind_all(\u001b[38;5;124m'\u001b[39m\u001b[38;5;124mp\u001b[39m\u001b[38;5;124m'\u001b[39m, class_\u001b[38;5;241m=\u001b[39m\u001b[38;5;28;01mlambda\u001b[39;00m x: x \u001b[38;5;129;01mand\u001b[39;00m x\u001b[38;5;241m.\u001b[39mstartswith(class_prefix))[\u001b[38;5;241m0\u001b[39m]\u001b[38;5;241m.\u001b[39mtext)\n",
      "\u001b[1;31mIndexError\u001b[0m: list index out of range"
     ]
    }
   ],
   "source": [
    "class_prefix = 'relative entity'\n",
    "print(posts[10].find_all('p', class_=lambda x: x and x.startswith(class_prefix))[0].text)"
   ]
  },
  {
   "cell_type": "code",
   "execution_count": 196,
   "id": "b753ff7d-bfc8-4492-9e7f-e60e954fdadb",
   "metadata": {},
   "outputs": [
    {
     "data": {
      "text/plain": [
       "<div class=\"entity-result\" data-chameleon-result-urn=\"urn:li:activity:7130570176722280448\" data-view-name=\"search-entity-result-content-b-template\">\n",
       "<div class=\"entity-result__content-container\">\n",
       "<div class=\"display-flex mb3 ml4\">\n",
       "<div class=\"entity-result__content-image entity-result__content-image--with-content\">\n",
       "<a aria-hidden=\"true\" class=\"app-aware-link scale-down\" data-test-app-aware-link=\"\" href=\"https://www.linkedin.com/in/ACoAAAB_FScBY8Sj8rrklQ-luyqmMxkPj5MstKU?miniProfileUrn=urn%3Ali%3Afs_miniProfile%3AACoAAAB_FScBY8Sj8rrklQ-luyqmMxkPj5MstKU\" tabindex=\"-1\">\n",
       "<div class=\"ivm-image-view-model\">\n",
       "<div class=\"ivm-view-attr__img-wrapper display-flex\">\n",
       "<!-- -->\n",
       "<div class=\"presence-entity presence-entity--size-3\">\n",
       "<img alt=\"Konrad Banachewicz\" class=\"presence-entity__image ivm-view-attr__img--centered EntityPhoto-circle-3 EntityPhoto-circle-3 evi-image lazy-image ember-view\" id=\"ember100\" loading=\"lazy\" src=\"https://media.licdn.com/dms/image/D4E03AQFWm3_1bwbkAA/profile-displayphoto-shrink_100_100/0/1686484406028?e=1705536000&amp;v=beta&amp;t=8ty13hGQ4BBCe7x_GQrZpGLtkqdHIuZw3t1cB4mihI4\"/>\n",
       "<div class=\"presence-entity__indicator presence-entity__indicator--size-3 presence-indicator hidden presence-indicator--size-3\">\n",
       "<span class=\"visually-hidden\">\n",
       "          Estado: sin conexión\n",
       "              </span>\n",
       "</div>\n",
       "</div>\n",
       "</div>\n",
       "</div>\n",
       "</a>\n",
       "</div>\n",
       "<div class=\"entity-result__content-actor pt0 t-12 t-black--light\">\n",
       "<div class=\"t-roman t-sans\">\n",
       "<div class=\"display-flex\">\n",
       "<span class=\"entity-result__title-line entity-result__title-line--2-lines\">\n",
       "<span class=\"entity-result__title-text t-16\">\n",
       "<a class=\"app-aware-link\" data-test-app-aware-link=\"\" href=\"https://www.linkedin.com/in/ACoAAAB_FScBY8Sj8rrklQ-luyqmMxkPj5MstKU?miniProfileUrn=urn%3Ali%3Afs_miniProfile%3AACoAAAB_FScBY8Sj8rrklQ-luyqmMxkPj5MstKU\">\n",
       "<span dir=\"ltr\"><span aria-hidden=\"true\"><!-- -->Konrad Banachewicz<!-- --></span><span class=\"visually-hidden\"><!-- -->Ver el perfil de Konrad Banachewicz<!-- --></span></span>\n",
       "</a>\n",
       "<span class=\"entity-result__badge t-14 t-normal t-black--light\">\n",
       "<div class=\"display-flex flex-row-reverse align-items-baseline\">\n",
       "<!-- --> <span class=\"image-text-lockup__text entity-result__badge-text\">\n",
       "<!-- -->• 1er<!-- -->\n",
       "</span>\n",
       "</div>\n",
       "</span>\n",
       "</span>\n",
       "</span>\n",
       "<span aria-hidden=\"true\" class=\"entity-result__badge-overflow align-self-flex-end t-14 t-normal t-black--light flex-shrink-zero\">\n",
       "<div class=\"display-flex flex-row-reverse align-items-baseline\">\n",
       "<!-- --> <span class=\"image-text-lockup__text entity-result__badge-text\">\n",
       "<!-- -->• 1er<!-- -->\n",
       "</span>\n",
       "</div>\n",
       "</span>\n",
       "</div>\n",
       "</div>\n",
       "<div class=\"linked-area flex-1 cursor-pointer\">\n",
       "<div class=\"entity-result__primary-subtitle t-14 t-black t-normal\">\n",
       "<!-- -->Principal Data Scientist | Kaggle Grandmaster<!-- -->\n",
       "</div>\n",
       "<!-- -->\n",
       "<p class=\"t-black--light t-12\">\n",
       "<!-- -->20 horas •<span class=\"white-space-pre\"> </span><li-icon aria-hidden=\"true\" class=\"v-align-bottom\" size=\"small\" type=\"globe-americas\"><svg class=\"mercado-match\" data-supported-dps=\"16x16\" fill=\"currentColor\" focusable=\"false\" height=\"16\" viewbox=\"0 0 16 16\" width=\"16\" xmlns=\"http://www.w3.org/2000/svg\">\n",
       "<path d=\"M8 1a7 7 0 107 7 7 7 0 00-7-7zM3 8a5 5 0 011-3l.55.55A1.5 1.5 0 015 6.62v1.07a.75.75 0 00.22.53l.56.56a.75.75 0 00.53.22H7v.69a.75.75 0 00.22.53l.56.56a.75.75 0 01.22.53V13a5 5 0 01-5-5zm6.24 4.83l2-2.46a.75.75 0 00.09-.8l-.58-1.16A.76.76 0 0010 8H7v-.19a.51.51 0 01.28-.45l.38-.19a.74.74 0 01.68 0L9 7.5l.38-.7a1 1 0 00.12-.48v-.85a.78.78 0 01.21-.53l1.07-1.09a5 5 0 01-1.54 9z\"></path>\n",
       "</svg></li-icon>\n",
       "</p>\n",
       "</div>\n",
       "</div>\n",
       "<div class=\"entity-result__actions pt0\">\n",
       "<!-- --> <div class=\"entity-result__actions-overflow-menu-dropdown\">\n",
       "<div class=\"artdeco-dropdown artdeco-dropdown--placement-bottom artdeco-dropdown--justification-right ember-view\" id=\"ember75\">\n",
       "<button aria-expanded=\"false\" class=\"artdeco-dropdown__trigger artdeco-dropdown__trigger--placement-bottom ember-view entity-result__overflow-actions-trigger-ember74 artdeco-button artdeco-button--2 artdeco-button--tertiary artdeco-button--circle artdeco-button--muted\" id=\"ember76\" tabindex=\"0\" type=\"button\">\n",
       "<svg aria-hidden=\"false\" aria-label=\"Haz clic para llevar a cabo más acciones en \" data-supported-dps=\"24x24\" data-test-icon=\"overflow-web-ios-medium\" height=\"24\" role=\"img\" viewbox=\"0 0 24 24\" width=\"24\" xmlns=\"http://www.w3.org/2000/svg\">\n",
       "<!-- -->\n",
       "<use height=\"24\" href=\"#overflow-web-ios-medium\" width=\"24\"></use>\n",
       "</svg>\n",
       "<!-- --></button>\n",
       "<div aria-hidden=\"true\" aria-label=\"Haz clic para llevar a cabo más acciones en \" class=\"artdeco-dropdown__content artdeco-dropdown--is-dropdown-element artdeco-dropdown__content--has-arrow artdeco-dropdown__content--arrow-right artdeco-dropdown__content--justification-right artdeco-dropdown__content--placement-bottom ember-view entity-result__overflow-actions-menu\" id=\"ember77\" tabindex=\"-1\"><!-- --></div>\n",
       "</div>\n",
       "<div>\n",
       "<!-- -->\n",
       "</div>\n",
       "<!-- -->\n",
       "<!-- -->\n",
       "<!-- -->\n",
       "<!-- -->\n",
       "</div>\n",
       "</div>\n",
       "</div>\n",
       "<div class=\"entity-result__content-inner-container entity-result__content-inner-container--right-padding\">\n",
       "<div class=\"linked-area flex-1 cursor-pointer\">\n",
       "<p class=\"relative entity-result__content-summary--3-lines entity-result__summary entity-result--no-ellipsis mb2 t-14 t-black mh4\">\n",
       "<!-- -->The ever growing pile of stuff in the \"to read\" folder? It might start shrinking :-)<!-- -->\n",
       "<!-- --> </p>\n",
       "</div>\n",
       "<a class=\"app-aware-link link-without-hover-state entity-result__content-embedded-object\" data-test-app-aware-link=\"\" href=\"https://www.linkedin.com/feed/update/urn:li:activity:7130570176722280448?updateEntityUrn=urn%3Ali%3Afs_updateV2%3A%28urn%3Ali%3Aactivity%3A7130570176722280448%2CFEED_DETAIL%2CEMPTY%2CDEFAULT%2Cfalse%29\" target=\"_self\">\n",
       "<span class=\"entity-result__embedded-object entity-result__embedded-object--with-image mh4\">\n",
       "<div class=\"mr4\">\n",
       "<div class=\"ivm-image-view-model relative entity-result__embedded-object-image-wrapper\">\n",
       "<div class=\"ivm-view-attr__img-wrapper display-flex\">\n",
       "<!-- --> <img alt=\"Vista previa de la imagen\" class=\"ivm-view-attr__img--centered ivm-view-attr__img--aspect-fill entity-result__embedded-object-image entity-result__embedded-object-image--article evi-image lazy-image ember-view\" height=\"80\" id=\"ember78\" loading=\"lazy\" src=\"https://media.licdn.com/dms/image/sync/D4E10AQGtaEzSQDGaMA/image-shrink_800/0/1700060405760?e=1700740800&amp;v=beta&amp;t=fS7REsD6mEH1D8cT7aCLlTiAvVatQIBmQ_UOlXY33Bo\" width=\"80\"/>\n",
       "</div>\n",
       "</div>\n",
       "</div>\n",
       "<div class=\"entity-result__embedded-object-content\">\n",
       "<p class=\"entity-result__embedded-object-title entity-result__embedded-object-title--two-lines t-14\">\n",
       "<span dir=\"ltr\"><!-- -->GitHub - StanGirard/quivr: 🧠 Dump all your files and chat with it using your Generative AI Second Brain using LLMs ( GPT 3.5/4, Private, Anthropic, VertexAI ) &amp; Embeddings 🧠<!-- --></span>\n",
       "</p>\n",
       "<!-- --> <p class=\"entity-result__embedded-object-sub-title t-12 t-black--light mv1\">\n",
       "<!-- -->github.com • 1 min de lectura<!-- -->\n",
       "</p>\n",
       "</div>\n",
       "</span>\n",
       "</a>\n",
       "</div>\n",
       "<div class=\"entity-result__insights entity-result__insights--content t-12\">\n",
       "<div class=\"workflow-posted-jobs__jobs-insight\">\n",
       "<!-- -->\n",
       "<!-- --> </div>\n",
       "</div>\n",
       "</div>\n",
       "</div>"
      ]
     },
     "execution_count": 196,
     "metadata": {},
     "output_type": "execute_result"
    }
   ],
   "source": [
    "posts[7]"
   ]
  },
  {
   "cell_type": "code",
   "execution_count": 156,
   "id": "372d8878-3e49-43cb-a6d8-b73efc0d9e89",
   "metadata": {},
   "outputs": [
    {
     "data": {
      "text/plain": [
       "10"
      ]
     },
     "execution_count": 156,
     "metadata": {},
     "output_type": "execute_result"
    }
   ],
   "source": [
    "posts = soup.find_all('div', class_='entity-result__content-actor')\n",
    "len(posts)"
   ]
  },
  {
   "cell_type": "code",
   "execution_count": null,
   "id": "b188a6cf-36c9-4073-a179-2a6b8edabdb8",
   "metadata": {},
   "outputs": [],
   "source": [
    "def get_name(post):\n",
    "    name_elements = post.find_all('span', class_='entity-result__title-text')\n",
    "    names = [name.text.strip() for name in name_elements]\n",
    "    return names\n",
    "\n",
    "def get_description(post):\n",
    "    description_elements = post.find_all('div', class_='entity-result__primary-subtitle')\n",
    "    descriptions = [description.text.strip() for description in description_elements]\n",
    "    return descriptions\n",
    "def get_link(post):\n",
    "    link_elements = post.find_all('a', class_='app-aware-link')\n",
    "    links = [link['href'] for link in link_elements]\n",
    "    return links"
   ]
  },
  {
   "cell_type": "code",
   "execution_count": null,
   "id": "116318c1-c615-439f-afbb-40c6af32af16",
   "metadata": {},
   "outputs": [],
   "source": [
    "\"https://www.linkedin.com/feed/update"
   ]
  },
  {
   "cell_type": "code",
   "execution_count": 162,
   "id": "d9d5105c-ca11-41c3-b76b-0ce07a82f686",
   "metadata": {},
   "outputs": [
    {
     "ename": "AttributeError",
     "evalue": "'str' object has no attribute 'find_all'",
     "output_type": "error",
     "traceback": [
      "\u001b[1;31m---------------------------------------------------------------------------\u001b[0m",
      "\u001b[1;31mAttributeError\u001b[0m                            Traceback (most recent call last)",
      "Cell \u001b[1;32mIn[162], line 1\u001b[0m\n\u001b[1;32m----> 1\u001b[0m description_elements \u001b[38;5;241m=\u001b[39m \u001b[43mdummy\u001b[49m\u001b[38;5;241;43m.\u001b[39;49m\u001b[43mfind_all\u001b[49m(\u001b[38;5;124m'\u001b[39m\u001b[38;5;124mdiv\u001b[39m\u001b[38;5;124m'\u001b[39m, class_\u001b[38;5;241m=\u001b[39m\u001b[38;5;124m'\u001b[39m\u001b[38;5;124mentity-result__primary-subtitle\u001b[39m\u001b[38;5;124m'\u001b[39m)\n",
      "\u001b[1;31mAttributeError\u001b[0m: 'str' object has no attribute 'find_all'"
     ]
    }
   ],
   "source": [
    "description_elements = dummy.find_all('div', class_='entity-result__primary-subtitle')"
   ]
  },
  {
   "cell_type": "markdown",
   "id": "b4f87d86-9d46-41e8-8fe9-903e98436502",
   "metadata": {},
   "source": [
    "# NUEVA VERSION"
   ]
  },
  {
   "cell_type": "code",
   "execution_count": 267,
   "id": "182e4492-ce16-4d2c-85ce-e4b3c9c8315e",
   "metadata": {},
   "outputs": [],
   "source": [
    "driver = webdriver.Chrome(ChromeDriverManager().install())"
   ]
  },
  {
   "cell_type": "code",
   "execution_count": 269,
   "id": "45c19547-1175-4864-aab9-5328538c6bcf",
   "metadata": {},
   "outputs": [],
   "source": [
    "driver.get(\"https://linkedin.com\")\n",
    "\n",
    "time.sleep(4)\n",
    "\n",
    "username = driver.find_element_by_xpath(\"//input[@name='session_key']\")\n",
    "password = driver.find_element_by_xpath(\"//input[@name='session_password']\")\n",
    "\n",
    "username.send_keys(\"juanivazquez@gmail.com\")\n",
    "password.send_keys(\"#Ulises01\")\n",
    "\n",
    "time.sleep(4)\n",
    "\n",
    "driver.find_element_by_xpath(\"/html/body/main/section[1]/div/div/form/div[2]/button\").click()\n",
    "# # saltar ingreso celu:\n",
    "# driver.find_element(By.XPATH,\"/html/body/div[2]/div[1]/section/div[2]/div/article/footer/div/div/button\").click()\n",
    "\n",
    "time.sleep(4)"
   ]
  },
  {
   "cell_type": "code",
   "execution_count": 270,
   "id": "e5fc4e46-0d9c-4603-90e9-75459d4e8278",
   "metadata": {},
   "outputs": [],
   "source": [
    "html = collect_data()"
   ]
  },
  {
   "cell_type": "code",
   "execution_count": 272,
   "id": "0973e30c-be10-4daf-9e26-a63ef78e7e09",
   "metadata": {},
   "outputs": [
    {
     "name": "stdout",
     "output_type": "stream",
     "text": [
      "# posts: 80\n"
     ]
    }
   ],
   "source": [
    "soup = BeautifulSoup(html)\n",
    "posts = get_posts(soup)"
   ]
  },
  {
   "cell_type": "code",
   "execution_count": 260,
   "id": "4b2eaa59-5d46-4d49-affd-aa1496962254",
   "metadata": {},
   "outputs": [],
   "source": [
    "import pandas as pd"
   ]
  },
  {
   "cell_type": "code",
   "execution_count": 273,
   "id": "f8b26431-90a8-4953-baba-3afee191828a",
   "metadata": {},
   "outputs": [
    {
     "data": {
      "text/html": [
       "<div>\n",
       "<style scoped>\n",
       "    .dataframe tbody tr th:only-of-type {\n",
       "        vertical-align: middle;\n",
       "    }\n",
       "\n",
       "    .dataframe tbody tr th {\n",
       "        vertical-align: top;\n",
       "    }\n",
       "\n",
       "    .dataframe thead th {\n",
       "        text-align: right;\n",
       "    }\n",
       "</style>\n",
       "<table border=\"1\" class=\"dataframe\">\n",
       "  <thead>\n",
       "    <tr style=\"text-align: right;\">\n",
       "      <th></th>\n",
       "      <th>posts</th>\n",
       "      <th>names</th>\n",
       "      <th>links</th>\n",
       "      <th>texts</th>\n",
       "    </tr>\n",
       "  </thead>\n",
       "  <tbody>\n",
       "    <tr>\n",
       "      <th>0</th>\n",
       "      <td>[\\n, [\\n, [\\n, &lt;div class=\"entity-result__cont...</td>\n",
       "      <td>[Michele F.Ver el perfil de Michele F.\\n\\n\\n\\n...</td>\n",
       "      <td>[https://www.linkedin.com/in/ACoAACqXeSMBSoBna...</td>\n",
       "      <td>\\nSampling Theory represents the most importan...</td>\n",
       "    </tr>\n",
       "    <tr>\n",
       "      <th>1</th>\n",
       "      <td>[\\n, [\\n, [\\n, &lt;div class=\"entity-result__cont...</td>\n",
       "      <td>[Travis OliphantVer el perfil de Travis Olipha...</td>\n",
       "      <td>[https://www.linkedin.com/in/ACoAAACOHgYBT-RIK...</td>\n",
       "      <td>\\nLanguage enables abstract thought.  This is ...</td>\n",
       "    </tr>\n",
       "    <tr>\n",
       "      <th>2</th>\n",
       "      <td>[\\n, [\\n, [\\n, &lt;div class=\"entity-result__cont...</td>\n",
       "      <td>[Daniel van StrienVer el perfil de Daniel van ...</td>\n",
       "      <td>[https://www.linkedin.com/in/ACoAABWhaCIB2ZxwY...</td>\n",
       "      <td>\\nLarge Language Models don't always perform w...</td>\n",
       "    </tr>\n",
       "    <tr>\n",
       "      <th>3</th>\n",
       "      <td>[\\n, [\\n, [\\n, &lt;div class=\"entity-result__cont...</td>\n",
       "      <td>[PyQuant News 🐍Ver empresa: PyQuant News 🐍]</td>\n",
       "      <td>[https://www.linkedin.com/company/pyquant-news...</td>\n",
       "      <td>\\nThe net worth of Jim Simons founder of Renai...</td>\n",
       "    </tr>\n",
       "    <tr>\n",
       "      <th>4</th>\n",
       "      <td>[\\n, [\\n, [\\n, &lt;div class=\"entity-result__cont...</td>\n",
       "      <td>[Sankar SrinivasanVer el perfil de Sankar Srin...</td>\n",
       "      <td>[https://www.linkedin.com/in/ACoAABCxBX8BaLqcE...</td>\n",
       "      <td>\\nHere's a killer of projects that many data s...</td>\n",
       "    </tr>\n",
       "  </tbody>\n",
       "</table>\n",
       "</div>"
      ],
      "text/plain": [
       "                                               posts   \n",
       "0  [\\n, [\\n, [\\n, <div class=\"entity-result__cont...  \\\n",
       "1  [\\n, [\\n, [\\n, <div class=\"entity-result__cont...   \n",
       "2  [\\n, [\\n, [\\n, <div class=\"entity-result__cont...   \n",
       "3  [\\n, [\\n, [\\n, <div class=\"entity-result__cont...   \n",
       "4  [\\n, [\\n, [\\n, <div class=\"entity-result__cont...   \n",
       "\n",
       "                                               names   \n",
       "0  [Michele F.Ver el perfil de Michele F.\\n\\n\\n\\n...  \\\n",
       "1  [Travis OliphantVer el perfil de Travis Olipha...   \n",
       "2  [Daniel van StrienVer el perfil de Daniel van ...   \n",
       "3        [PyQuant News 🐍Ver empresa: PyQuant News 🐍]   \n",
       "4  [Sankar SrinivasanVer el perfil de Sankar Srin...   \n",
       "\n",
       "                                               links   \n",
       "0  [https://www.linkedin.com/in/ACoAACqXeSMBSoBna...  \\\n",
       "1  [https://www.linkedin.com/in/ACoAAACOHgYBT-RIK...   \n",
       "2  [https://www.linkedin.com/in/ACoAABWhaCIB2ZxwY...   \n",
       "3  [https://www.linkedin.com/company/pyquant-news...   \n",
       "4  [https://www.linkedin.com/in/ACoAABCxBX8BaLqcE...   \n",
       "\n",
       "                                               texts  \n",
       "0  \\nSampling Theory represents the most importan...  \n",
       "1  \\nLanguage enables abstract thought.  This is ...  \n",
       "2  \\nLarge Language Models don't always perform w...  \n",
       "3  \\nThe net worth of Jim Simons founder of Renai...  \n",
       "4  \\nHere's a killer of projects that many data s...  "
      ]
     },
     "execution_count": 273,
     "metadata": {},
     "output_type": "execute_result"
    }
   ],
   "source": [
    "df = get_frame(posts)\n",
    "df.head()"
   ]
  },
  {
   "cell_type": "code",
   "execution_count": 276,
   "id": "8466bf22-6019-4654-a8a7-5650402eca3d",
   "metadata": {},
   "outputs": [
    {
     "name": "stdout",
     "output_type": "stream",
     "text": [
      "['https://www.linkedin.com/company/llamaindex/', 'https://www.linkedin.com/feed/update/urn:li:activity:7130839683860742145?updateEntityUrn=urn%3Ali%3Afs_updateV2%3A%28urn%3Ali%3Aactivity%3A7130839683860742145%2CFEED_DETAIL%2CEMPTY%2CDEFAULT%2Cfalse%29']\n"
     ]
    }
   ],
   "source": [
    "print(df.links.tolist()[5])"
   ]
  },
  {
   "cell_type": "code",
   "execution_count": 265,
   "id": "cda935dc-499f-4e2c-a06f-a863ef0f7c56",
   "metadata": {},
   "outputs": [
    {
     "name": "stdout",
     "output_type": "stream",
     "text": [
      "\n",
      "CEO Jerry Liu's talk at the AI.engineer summit is out now! Check out his awesome bucket hat, and also hear about:⭐️ problems with basic approaches to Retrieval-Augmented Generation (RAG)⭐️ the importance of evaluation to understand the performance of your app and how to improve it⭐️ techniques for improving your RAG app's performance, including ◦ chunk sizes ◦ metadata filtering ◦ small-to-big retrieval ◦ multi-document agents ◦ fine-tuninghttps://lnkd.in/gvvcBiuP \n",
      " \n"
     ]
    }
   ],
   "source": [
    "print(df.texts[1])"
   ]
  },
  {
   "cell_type": "code",
   "execution_count": 257,
   "id": "271be172-a604-46ff-a4d2-bf7bdfd19e16",
   "metadata": {},
   "outputs": [],
   "source": [
    "def get_frame(posts):\n",
    "    names = [ get_name(post) for post in posts]\n",
    "    links = [ get_link(post) for post in posts]\n",
    "    texts = [ get_text(post) for post in posts]\n",
    "    df = pd.DataFrame({'posts':posts,'names':names,'links':links,'texts':texts})\n",
    "    return df\n",
    "\n",
    "\n",
    "def get_posts(soup):\n",
    "    posts = soup.find_all('div', class_='entity-result')\n",
    "    print(f'# posts: {len(posts)}')\n",
    "    return posts\n",
    "\n",
    "def get_name(post):\n",
    "    name_elements = post.find_all('span', class_='entity-result__title-text')\n",
    "    names = [name.text.strip() for name in name_elements]\n",
    "    return names\n",
    "\n",
    "def get_link(post):\n",
    "    link_elements = post.find_all('a', class_='app-aware-link')\n",
    "    links = [link['href'] for link in link_elements]\n",
    "    links = list( dict.fromkeys(links) )\n",
    "    return links\n",
    "\n",
    "def get_text(post):\n",
    "    '''\n",
    "    def: obtiene el texto de los posts\n",
    "    '''\n",
    "    class_prefix = 'relative entity'\n",
    "    text = post.find_all('p', class_=lambda x: x and x.startswith(class_prefix))\n",
    "    if len(text)==1:\n",
    "        return text[0].text\n",
    "    else:\n",
    "        return text\n",
    "    \n",
    "def collect_data(ruta=\"https://www.linkedin.com/my-items/saved-posts/\",n=100):\n",
    "    driver.get(ruta)\n",
    "    \n",
    "    for i in range(n):\n",
    "        driver.execute_script(\"window.scrollTo(0, document.body.scrollHeight);\")\n",
    "        time.sleep(0.25)\n",
    "        \n",
    "    # Find the buttons\n",
    "    buttons = driver.find_elements_by_xpath('//button[@aria-label=\"Ver más. Haz clic para ver todo el contenido.\" and contains(@class, \"reusable-search-show-more-link t-black--light link-without-visited-state t-14\")]')\n",
    "\n",
    "    # Click on each button\n",
    "    for button in buttons:\n",
    "        # button.click()\n",
    "        driver.execute_script(\"arguments[0].click();\", button)\n",
    "    html = driver.page_source\n",
    "\n",
    "    return html"
   ]
  },
  {
   "cell_type": "code",
   "execution_count": 209,
   "id": "04662d0f-0079-439e-b3c3-1ffa3736ba69",
   "metadata": {},
   "outputs": [],
   "source": [
    "names = [ get_name(post) for post in posts]\n",
    "links = [ get_link(post) for post in posts]\n",
    "texts = [ get_text(post) for post in posts]"
   ]
  },
  {
   "cell_type": "code",
   "execution_count": 220,
   "id": "5c021bf0-8edb-4a43-880d-b3a809c04e42",
   "metadata": {},
   "outputs": [
    {
     "name": "stdout",
     "output_type": "stream",
     "text": [
      "['https://www.linkedin.com/in/ACoAAAB_FScBY8Sj8rrklQ-luyqmMxkPj5MstKU?miniProfileUrn=urn%3Ali%3Afs_miniProfile%3AACoAAAB_FScBY8Sj8rrklQ-luyqmMxkPj5MstKU', 'https://www.linkedin.com/feed/update/urn:li:activity:7130570176722280448?updateEntityUrn=urn%3Ali%3Afs_updateV2%3A%28urn%3Ali%3Aactivity%3A7130570176722280448%2CFEED_DETAIL%2CEMPTY%2CDEFAULT%2Cfalse%29']\n"
     ]
    }
   ],
   "source": [
    "print(links[7])"
   ]
  },
  {
   "cell_type": "code",
   "execution_count": null,
   "id": "555ba639-a0ce-41f4-871c-037489bea0a7",
   "metadata": {},
   "outputs": [],
   "source": [
    "class_prefix = 'relative entity'\n",
    "print(posts[10].find_all('p', class_=lambda x: x and x.startswith(class_prefix))[0].text)"
   ]
  },
  {
   "cell_type": "code",
   "execution_count": null,
   "id": "49cf5b8c-a3ae-4a40-b6b1-d2b98b220d53",
   "metadata": {},
   "outputs": [],
   "source": [
    "https://buff.ly/40IOb5db"
   ]
  },
  {
   "cell_type": "code",
   "execution_count": null,
   "id": "c2069893-0459-4f82-9ebc-a38f11ea2c09",
   "metadata": {},
   "outputs": [],
   "source": [
    "StanGirard"
   ]
  },
  {
   "cell_type": "code",
   "execution_count": 224,
   "id": "a69ee2aa-545e-4a82-a3fa-3e5bb6a4324c",
   "metadata": {},
   "outputs": [
    {
     "name": "stdout",
     "output_type": "stream",
     "text": [
      "\n",
      "The ever growing pile of stuff in the \"to read\" folder? It might start shrinking :-)\n",
      " \n"
     ]
    }
   ],
   "source": [
    "print(texts[7])"
   ]
  },
  {
   "cell_type": "code",
   "execution_count": 225,
   "id": "585223ec-4494-40f6-a838-c554d5e9fc1d",
   "metadata": {},
   "outputs": [
    {
     "name": "stdout",
     "output_type": "stream",
     "text": [
      "['https://www.linkedin.com/in/ACoAAAB_FScBY8Sj8rrklQ-luyqmMxkPj5MstKU?miniProfileUrn=urn%3Ali%3Afs_miniProfile%3AACoAAAB_FScBY8Sj8rrklQ-luyqmMxkPj5MstKU', 'https://www.linkedin.com/feed/update/urn:li:activity:7130570176722280448?updateEntityUrn=urn%3Ali%3Afs_updateV2%3A%28urn%3Ali%3Aactivity%3A7130570176722280448%2CFEED_DETAIL%2CEMPTY%2CDEFAULT%2Cfalse%29']\n"
     ]
    }
   ],
   "source": [
    "print(links[7])"
   ]
  },
  {
   "cell_type": "code",
   "execution_count": 230,
   "id": "940ea03d-af2e-4332-9ab6-c05504c0587d",
   "metadata": {},
   "outputs": [
    {
     "data": {
      "text/plain": [
       "'https://www.linkedin.com/feed/update/urn:li:activity:7130570176722280448?updateEntityUrn=urn%3Ali%3Afs_updateV2%3A%28urn%3Ali%3Aactivity%3A7130570176722280448%2CFEED_DETAIL%2CEMPTY%2CDEFAULT%2Cfalse%29'"
      ]
     },
     "execution_count": 230,
     "metadata": {},
     "output_type": "execute_result"
    }
   ],
   "source": [
    "links[7][1]"
   ]
  },
  {
   "cell_type": "code",
   "execution_count": 231,
   "id": "80355df9-ba78-4972-b853-3b1850ebb869",
   "metadata": {},
   "outputs": [],
   "source": [
    "driver.get(links[7][1])"
   ]
  },
  {
   "cell_type": "code",
   "execution_count": 251,
   "id": "c6544df4-6ed6-4445-9522-ff9db079cc4c",
   "metadata": {},
   "outputs": [],
   "source": [
    "def collect_post(ruta,n=2):\n",
    "    driver.get(ruta)\n",
    "    \n",
    "    for i in range(n):\n",
    "        driver.execute_script(\"window.scrollTo(0, document.body.scrollHeight);\")\n",
    "        time.sleep(0.25)\n",
    "        \n",
    "    # Find the buttons\n",
    "    buttons = driver.find_elements_by_xpath('//button[@aria-label=\"Ver más. Haz clic para ver todo el contenido.\" and contains(@class, \"reusable-search-show-more-link t-black--light link-without-visited-state t-14\")]')\n",
    "\n",
    "    # Click on each button\n",
    "    try:\n",
    "        for button in buttons:\n",
    "            # button.click()\n",
    "            driver.execute_script(\"arguments[0].click();\", button)\n",
    "        html = driver.page_source\n",
    "    except:\n",
    "        pass\n",
    "    \n",
    "    \n",
    "    return html"
   ]
  },
  {
   "cell_type": "code",
   "execution_count": 254,
   "id": "fd3efc71-a24a-4b30-89bc-a8e8017e0f86",
   "metadata": {},
   "outputs": [],
   "source": [
    "# ruta = 'https://www.linkedin.com/posts/teddy-mitrosilis_a-powerful-idea-worth-thinking-about-small-activity-7130915102785953792-hj9d/?utm_source=share&utm_medium=member_desktop'\n",
    "# test_post = collect_post(ruta)\n",
    "# test_post "
   ]
  },
  {
   "cell_type": "code",
   "execution_count": null,
   "id": "e5f5e8d5-7edd-483e-88ca-3c552230f055",
   "metadata": {},
   "outputs": [],
   "source": []
  },
  {
   "cell_type": "code",
   "execution_count": 238,
   "id": "40fa74b5-02d9-48ef-b607-95ddb2717a22",
   "metadata": {},
   "outputs": [],
   "source": [
    "# test = collect_data(links[7][1],n=1)\n",
    "soup_test = BeautifulSoup(test)"
   ]
  },
  {
   "cell_type": "code",
   "execution_count": 242,
   "id": "26c59660-17db-46d6-8d27-6e88b87cc3ce",
   "metadata": {},
   "outputs": [],
   "source": [
    "black_list = ['https://www.linkedin.com/feed/?nis=true',\n",
    " 'https://www.linkedin.com/feed/?nis=true&',\n",
    " 'https://www.linkedin.com/mynetwork/?',\n",
    " 'https://www.linkedin.com/jobs/?',\n",
    " 'https://www.linkedin.com/messaging/?',\n",
    " 'https://www.linkedin.com/notifications/?']"
   ]
  },
  {
   "cell_type": "code",
   "execution_count": 245,
   "id": "238567b7-4b71-4280-bd74-7da71baabc47",
   "metadata": {},
   "outputs": [
    {
     "data": {
      "text/plain": [
       "['https://github.com/StanGirard/quivr']"
      ]
     },
     "execution_count": 245,
     "metadata": {},
     "output_type": "execute_result"
    }
   ],
   "source": [
    "links = get_link(soup_test)\n",
    "filtered_links = [ link for link in links if link not in black_list and not link.startswith('https://www.linkedin.com/in/')]\n",
    "filtered_links"
   ]
  },
  {
   "cell_type": "code",
   "execution_count": null,
   "id": "674d9f61-8241-4ea3-b21d-ddb02117cd2c",
   "metadata": {},
   "outputs": [],
   "source": [
    "https://media.licdn.com/dms/image/D4E22AQEs150QE0I-cA/feedshare-shrink_1280/0/1700142645403?e=1703116800&v=beta&t=-76GUr-L1HY7OVVbRnxZT8OLm9uyrXJ6TbMQ_bbpDMY"
   ]
  },
  {
   "cell_type": "code",
   "execution_count": 248,
   "id": "f1a40a66-57f9-4901-8709-f368cb0f618f",
   "metadata": {},
   "outputs": [
    {
     "data": {
      "text/plain": [
       "'https://www.linkedin.com/in/ACoAAA23fiwBhbba-bWwgZ6N7AVNvBgsPC7sRSc'"
      ]
     },
     "execution_count": 248,
     "metadata": {},
     "output_type": "execute_result"
    }
   ],
   "source": [
    "links[7]"
   ]
  },
  {
   "cell_type": "code",
   "execution_count": 253,
   "id": "5a37ad0b-7b1c-4a96-a0b7-aee08c4fa791",
   "metadata": {},
   "outputs": [],
   "source": [
    "# posts[8]"
   ]
  }
 ],
 "metadata": {
  "kernelspec": {
   "display_name": "Python 3 (ipykernel)",
   "language": "python",
   "name": "python3"
  },
  "language_info": {
   "codemirror_mode": {
    "name": "ipython",
    "version": 3
   },
   "file_extension": ".py",
   "mimetype": "text/x-python",
   "name": "python",
   "nbconvert_exporter": "python",
   "pygments_lexer": "ipython3",
   "version": "3.10.4"
  },
  "toc-autonumbering": true
 },
 "nbformat": 4,
 "nbformat_minor": 5
}
