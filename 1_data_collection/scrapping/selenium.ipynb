{
 "cells": [
  {
   "cell_type": "code",
   "execution_count": 167,
   "id": "5df517c0-d24b-4e77-9245-ba82a206bf41",
   "metadata": {},
   "outputs": [],
   "source": [
    "# pip install webdriver-manager"
   ]
  },
  {
   "cell_type": "code",
   "execution_count": null,
   "id": "74eada1e-d14e-4fe0-afb4-2cacb04bb651",
   "metadata": {},
   "outputs": [],
   "source": [
    "import random\n",
    "from time import sleep\n",
    "from selenium import webdriver\n",
    "from webdriver_manager.chrome import ChromeDriverManager\n",
    "\n",
    "driver = webdriver.Chrome(ChromeDriverManager().install())\n",
    "driver.get('https://www.olx.com.ar/autos_c378')"
   ]
  },
  {
   "cell_type": "code",
   "execution_count": 7,
   "id": "dc37c400-8f3b-42db-b5e5-8caeb9321a68",
   "metadata": {},
   "outputs": [
    {
     "name": "stderr",
     "output_type": "stream",
     "text": [
      "[WDM] - Downloading: 100%|██████████| 6.81M/6.81M [00:00<00:00, 27.3MB/s]\n"
     ]
    }
   ],
   "source": [
    "from selenium import webdriver\n",
    "from webdriver_manager.chrome import ChromeDriverManager\n",
    "\n",
    "driver = webdriver.Chrome(ChromeDriverManager().install())"
   ]
  },
  {
   "cell_type": "code",
   "execution_count": 9,
   "id": "691f9487-7e25-4774-8652-8cd844f4921d",
   "metadata": {},
   "outputs": [],
   "source": [
    "# Instancio el driver de selenium que va a controlar el navegador\n",
    "# A partir de este objeto voy a realizar el web scraping e interacciones\n",
    "# driver = webdriver.Chrome(r'C:\\Users\\juani\\anaconda3\\envs\\chatgpt\\Lib\\site-packages\\selenium_profiles\\files\\chromedriver.exe')\n",
    "\n",
    "# Voy a la pagina que requiero\n",
    "driver.get('https://www.olx.com.ar/autos_c378')"
   ]
  },
  {
   "cell_type": "markdown",
   "id": "e34eb7df-5113-43e9-bccd-ede13cfba09a",
   "metadata": {
    "tags": []
   },
   "source": [
    "# EJEMPLO BASE"
   ]
  },
  {
   "cell_type": "code",
   "execution_count": 10,
   "id": "aac41f46-932a-455d-af88-1ed7881068f1",
   "metadata": {},
   "outputs": [
    {
     "name": "stdout",
     "output_type": "stream",
     "text": [
      "$ 600.000\n",
      "Vendo Ford falcon mod 71\n",
      "$ 3.800.000\n",
      "Cruze LTZ 2011 - 83000KM - Gomas Nuevas!\n",
      "$ 2.500.000\n",
      "VW SURAN 1.6 CONFORTLINE\n",
      "$ 8.000.000\n",
      "TOYOTA COROLLA XEI PACK 1.8 CUERO\n",
      "$ 7.950.000\n",
      "FORD RANGER CAB/DOBLE XLT 3.2 4X2 2016 VENDO PERMUTO FINANCIO\n",
      "$ 1.400.000\n",
      "Honda Civic EX 1.7\n",
      "$ 4.200.000\n",
      "CHEVROLET TRACKER LTZ\n",
      "$ 2.400.000\n",
      "CHEVROLET ÁGILE\n",
      "$ 1.900.000\n",
      "PEUGEOT 206 DIESEL\n",
      "$ 3.000.000\n",
      "PEUGEOT 408 HDI\n",
      "$ 2.400.000\n",
      "CHEVROLET PRISMA 1.4\n",
      "$ 4.300.000\n",
      "RENAULT KANGOO 1.6\n",
      "$ 3.100.000\n",
      "PEUGEOT PARTNER PATAGÓNICA 1.6HDI\n",
      "$ 6.700.000\n",
      "VW GLF 1.4TSI\n",
      "$ 3.300.000\n",
      "VW BORA 1.8T\n",
      "$ 3.800.000\n",
      "TOYOTA COROLLA XRS\n",
      "$ 2.450.000\n",
      "VW BORA NAFTA\n",
      "$ 2.550.000\n",
      "VW VOYAGE 1.6\n",
      "$ 9.100.000\n",
      "KIA SPORTAGE\n",
      "$ 2.700.000\n",
      "VW BORA 2.0\n",
      "$ 2.800.000\n",
      "FIAT GRAN SIENA\n",
      "$ 2.900.000\n",
      "VW CROSSFOX 1.6\n",
      "$ 2.500.000\n",
      "VW VOYAGE HIGLINE\n",
      "$ 3.900.000\n",
      "FORD ECOSPORT 1.6\n",
      "$ 3.350.000\n",
      "Etios xls 1.5 sedan\n",
      "$ 111.111.111\n",
      "Vendó gol 1,6 muy lindo anda muy bien con todo los papeles\n",
      "$ 15.500.000\n",
      "TOYOTA SW4 SRX 4X4 2016 MANUAL 7 ASIENTOS CON CUERO VENDO PERMUTO FINANCII\n",
      "$ 2.700.000\n",
      "Ford EcoSport 1.6 xls\n",
      "$ 1.450.000\n",
      "Volkswagen Passat 1.8T\n",
      "$ 4.700.000\n",
      "corolla XEI impecable\n",
      "$ 5.400.000\n",
      "fox connect NUEVO\n",
      "$ 2.300.000\n",
      "megane II impecable\n",
      "$ 2.200.000\n",
      "Peugeot 206 2012 generation plus\n",
      "USD 63.000\n",
      "Toyota Sw4 srx Automatica 7 asientos 2023 0km patentada, lista para transferir. Acepto permuta\n",
      "$ 1.900.000\n",
      "Kangoo1.6 con gnc de 5ta generacion\n",
      "$ 850.000\n",
      "Peugeot 306 xrdt\n",
      "$ 950.000\n",
      "Ford Falcon Deluxe Modelo 83 Nafta/GNC Caja de 4ta. Direccion Hidraulica En Cordoba\n",
      "$ 4.900.000\n",
      "FORD focus 2017\n",
      "$ 2.400.000\n",
      "Chebrolet balzer\n",
      "$ 3.000.000\n",
      "VENDO Gol trend pack1 con Gnc de quinta\n",
      "$ 1.800.000\n",
      "Citroen Berlingo multispace\n",
      "$ 6.000.000\n",
      "Vendo Focus Impecable!\n",
      "$ 2.900.000\n",
      "Peugeot 207 1.4 HDi XT premiun\n",
      "$ 2.590.000\n",
      "voyage con gnc 131000 km\n",
      "$ 3.900.000\n",
      "Peugeot 208 Feline Pack Cuir\n",
      "$ 1.800.000\n",
      "Vendo citroen c3\n",
      "$ 2.550.000\n",
      "Ranger 2.8 límite 4*4\n",
      "$ 2.050.000\n",
      "Vendo Suzuki Fun\n",
      "$ 8.200.000\n",
      "Toyota Corolla 2018 XEI CVT PACK\n",
      "$ 1.100.000\n",
      "Vendo palio 2000\n",
      "$ 4.900.000\n",
      "Renault Duster PRIVILEGE\n",
      "$ 1.490.000\n",
      "MEGANE EXPRESION TD PLUS 1.9 IMPECABLE\n",
      "$ 4.300.000\n",
      "Renault Kangoo Confort 5Plazas c/GNC\n",
      "$ 1\n",
      "Vendo Toyota etios xls sedan at 2020\n",
      "$ 3.800.000\n",
      "Vendo Vw Fox\n",
      "$ 1.111.111\n",
      "Vendo fiat toro freedom 2017 mt 4x2\n",
      "$ 4.650.000\n",
      "Saveiro Cabina Doble\n",
      "$ 2.950.000\n",
      "Vendo Ford Explorer 98\n",
      "$ 6.900.000\n",
      "Saveiro Cross doble cabina 1.6\n",
      "$ 7.800.000\n",
      "Renault Máster 2012\n",
      "$ 6.500.000\n",
      "VW Amarok Highline 4×4\n",
      "$ 3.800.000\n",
      "Toyota corolla xei manual 2012\n",
      "$ 3.400.000\n",
      "Fiat Cubo Dynamic 2014\n",
      "$ 3.890.000\n",
      "Chery Tiggo 3\n",
      "$ 10.500.000\n",
      "S10 LS 4X4 EN REMATE\n",
      "$ 1.620.000\n",
      "Vendo Renault megane 2008 nafta titular\n"
     ]
    },
    {
     "ename": "NoSuchElementException",
     "evalue": "Message: no such element: Unable to locate element: {\"method\":\"xpath\",\"selector\":\".//span[@data-aut-id=\"itemPrice\"]\"}\n  (Session info: chrome=113.0.5672.63)\n",
     "output_type": "error",
     "traceback": [
      "\u001b[1;31m---------------------------------------------------------------------------\u001b[0m",
      "\u001b[1;31mNoSuchElementException\u001b[0m                    Traceback (most recent call last)",
      "Cell \u001b[1;32mIn[10], line 23\u001b[0m\n\u001b[0;32m     20\u001b[0m \u001b[38;5;66;03m# Recorro cada uno de los anuncios que he encontrado\u001b[39;00m\n\u001b[0;32m     21\u001b[0m \u001b[38;5;28;01mfor\u001b[39;00m auto \u001b[38;5;129;01min\u001b[39;00m autos:\n\u001b[0;32m     22\u001b[0m     \u001b[38;5;66;03m# Por cada anuncio hallo el preico\u001b[39;00m\n\u001b[1;32m---> 23\u001b[0m     precio \u001b[38;5;241m=\u001b[39m \u001b[43mauto\u001b[49m\u001b[38;5;241;43m.\u001b[39;49m\u001b[43mfind_element_by_xpath\u001b[49m\u001b[43m(\u001b[49m\u001b[38;5;124;43m'\u001b[39;49m\u001b[38;5;124;43m.//span[@data-aut-id=\u001b[39;49m\u001b[38;5;124;43m\"\u001b[39;49m\u001b[38;5;124;43mitemPrice\u001b[39;49m\u001b[38;5;124;43m\"\u001b[39;49m\u001b[38;5;124;43m]\u001b[39;49m\u001b[38;5;124;43m'\u001b[39;49m\u001b[43m)\u001b[49m\u001b[38;5;241m.\u001b[39mtext\n\u001b[0;32m     24\u001b[0m     \u001b[38;5;28mprint\u001b[39m (precio)\n\u001b[0;32m     25\u001b[0m     \u001b[38;5;66;03m# Por cada anuncio hallo la descripcion\u001b[39;00m\n",
      "File \u001b[1;32m~\\anaconda3\\envs\\llm\\lib\\site-packages\\selenium\\webdriver\\remote\\webelement.py:351\u001b[0m, in \u001b[0;36mWebElement.find_element_by_xpath\u001b[1;34m(self, xpath)\u001b[0m\n\u001b[0;32m    322\u001b[0m \u001b[38;5;28;01mdef\u001b[39;00m \u001b[38;5;21mfind_element_by_xpath\u001b[39m(\u001b[38;5;28mself\u001b[39m, xpath):\n\u001b[0;32m    323\u001b[0m \u001b[38;5;250m    \u001b[39m\u001b[38;5;124;03m\"\"\"Finds element by xpath.\u001b[39;00m\n\u001b[0;32m    324\u001b[0m \n\u001b[0;32m    325\u001b[0m \u001b[38;5;124;03m    :Args:\u001b[39;00m\n\u001b[1;32m   (...)\u001b[0m\n\u001b[0;32m    349\u001b[0m \u001b[38;5;124;03m        element = element.find_element_by_xpath('//div/td[1]')\u001b[39;00m\n\u001b[0;32m    350\u001b[0m \u001b[38;5;124;03m    \"\"\"\u001b[39;00m\n\u001b[1;32m--> 351\u001b[0m     \u001b[38;5;28;01mreturn\u001b[39;00m \u001b[38;5;28;43mself\u001b[39;49m\u001b[38;5;241;43m.\u001b[39;49m\u001b[43mfind_element\u001b[49m\u001b[43m(\u001b[49m\u001b[43mby\u001b[49m\u001b[38;5;241;43m=\u001b[39;49m\u001b[43mBy\u001b[49m\u001b[38;5;241;43m.\u001b[39;49m\u001b[43mXPATH\u001b[49m\u001b[43m,\u001b[49m\u001b[43m \u001b[49m\u001b[43mvalue\u001b[49m\u001b[38;5;241;43m=\u001b[39;49m\u001b[43mxpath\u001b[49m\u001b[43m)\u001b[49m\n",
      "File \u001b[1;32m~\\anaconda3\\envs\\llm\\lib\\site-packages\\selenium\\webdriver\\remote\\webelement.py:658\u001b[0m, in \u001b[0;36mWebElement.find_element\u001b[1;34m(self, by, value)\u001b[0m\n\u001b[0;32m    655\u001b[0m         by \u001b[38;5;241m=\u001b[39m By\u001b[38;5;241m.\u001b[39mCSS_SELECTOR\n\u001b[0;32m    656\u001b[0m         value \u001b[38;5;241m=\u001b[39m \u001b[38;5;124m'\u001b[39m\u001b[38;5;124m[name=\u001b[39m\u001b[38;5;124m\"\u001b[39m\u001b[38;5;132;01m%s\u001b[39;00m\u001b[38;5;124m\"\u001b[39m\u001b[38;5;124m]\u001b[39m\u001b[38;5;124m'\u001b[39m \u001b[38;5;241m%\u001b[39m value\n\u001b[1;32m--> 658\u001b[0m \u001b[38;5;28;01mreturn\u001b[39;00m \u001b[38;5;28;43mself\u001b[39;49m\u001b[38;5;241;43m.\u001b[39;49m\u001b[43m_execute\u001b[49m\u001b[43m(\u001b[49m\u001b[43mCommand\u001b[49m\u001b[38;5;241;43m.\u001b[39;49m\u001b[43mFIND_CHILD_ELEMENT\u001b[49m\u001b[43m,\u001b[49m\n\u001b[0;32m    659\u001b[0m \u001b[43m                     \u001b[49m\u001b[43m{\u001b[49m\u001b[38;5;124;43m\"\u001b[39;49m\u001b[38;5;124;43musing\u001b[39;49m\u001b[38;5;124;43m\"\u001b[39;49m\u001b[43m:\u001b[49m\u001b[43m \u001b[49m\u001b[43mby\u001b[49m\u001b[43m,\u001b[49m\u001b[43m \u001b[49m\u001b[38;5;124;43m\"\u001b[39;49m\u001b[38;5;124;43mvalue\u001b[39;49m\u001b[38;5;124;43m\"\u001b[39;49m\u001b[43m:\u001b[49m\u001b[43m \u001b[49m\u001b[43mvalue\u001b[49m\u001b[43m}\u001b[49m\u001b[43m)\u001b[49m[\u001b[38;5;124m'\u001b[39m\u001b[38;5;124mvalue\u001b[39m\u001b[38;5;124m'\u001b[39m]\n",
      "File \u001b[1;32m~\\anaconda3\\envs\\llm\\lib\\site-packages\\selenium\\webdriver\\remote\\webelement.py:633\u001b[0m, in \u001b[0;36mWebElement._execute\u001b[1;34m(self, command, params)\u001b[0m\n\u001b[0;32m    631\u001b[0m     params \u001b[38;5;241m=\u001b[39m {}\n\u001b[0;32m    632\u001b[0m params[\u001b[38;5;124m'\u001b[39m\u001b[38;5;124mid\u001b[39m\u001b[38;5;124m'\u001b[39m] \u001b[38;5;241m=\u001b[39m \u001b[38;5;28mself\u001b[39m\u001b[38;5;241m.\u001b[39m_id\n\u001b[1;32m--> 633\u001b[0m \u001b[38;5;28;01mreturn\u001b[39;00m \u001b[38;5;28;43mself\u001b[39;49m\u001b[38;5;241;43m.\u001b[39;49m\u001b[43m_parent\u001b[49m\u001b[38;5;241;43m.\u001b[39;49m\u001b[43mexecute\u001b[49m\u001b[43m(\u001b[49m\u001b[43mcommand\u001b[49m\u001b[43m,\u001b[49m\u001b[43m \u001b[49m\u001b[43mparams\u001b[49m\u001b[43m)\u001b[49m\n",
      "File \u001b[1;32m~\\anaconda3\\envs\\llm\\lib\\site-packages\\selenium\\webdriver\\remote\\webdriver.py:321\u001b[0m, in \u001b[0;36mWebDriver.execute\u001b[1;34m(self, driver_command, params)\u001b[0m\n\u001b[0;32m    319\u001b[0m response \u001b[38;5;241m=\u001b[39m \u001b[38;5;28mself\u001b[39m\u001b[38;5;241m.\u001b[39mcommand_executor\u001b[38;5;241m.\u001b[39mexecute(driver_command, params)\n\u001b[0;32m    320\u001b[0m \u001b[38;5;28;01mif\u001b[39;00m response:\n\u001b[1;32m--> 321\u001b[0m     \u001b[38;5;28;43mself\u001b[39;49m\u001b[38;5;241;43m.\u001b[39;49m\u001b[43merror_handler\u001b[49m\u001b[38;5;241;43m.\u001b[39;49m\u001b[43mcheck_response\u001b[49m\u001b[43m(\u001b[49m\u001b[43mresponse\u001b[49m\u001b[43m)\u001b[49m\n\u001b[0;32m    322\u001b[0m     response[\u001b[38;5;124m'\u001b[39m\u001b[38;5;124mvalue\u001b[39m\u001b[38;5;124m'\u001b[39m] \u001b[38;5;241m=\u001b[39m \u001b[38;5;28mself\u001b[39m\u001b[38;5;241m.\u001b[39m_unwrap_value(\n\u001b[0;32m    323\u001b[0m         response\u001b[38;5;241m.\u001b[39mget(\u001b[38;5;124m'\u001b[39m\u001b[38;5;124mvalue\u001b[39m\u001b[38;5;124m'\u001b[39m, \u001b[38;5;28;01mNone\u001b[39;00m))\n\u001b[0;32m    324\u001b[0m     \u001b[38;5;28;01mreturn\u001b[39;00m response\n",
      "File \u001b[1;32m~\\anaconda3\\envs\\llm\\lib\\site-packages\\selenium\\webdriver\\remote\\errorhandler.py:242\u001b[0m, in \u001b[0;36mErrorHandler.check_response\u001b[1;34m(self, response)\u001b[0m\n\u001b[0;32m    240\u001b[0m         alert_text \u001b[38;5;241m=\u001b[39m value[\u001b[38;5;124m'\u001b[39m\u001b[38;5;124malert\u001b[39m\u001b[38;5;124m'\u001b[39m]\u001b[38;5;241m.\u001b[39mget(\u001b[38;5;124m'\u001b[39m\u001b[38;5;124mtext\u001b[39m\u001b[38;5;124m'\u001b[39m)\n\u001b[0;32m    241\u001b[0m     \u001b[38;5;28;01mraise\u001b[39;00m exception_class(message, screen, stacktrace, alert_text)\n\u001b[1;32m--> 242\u001b[0m \u001b[38;5;28;01mraise\u001b[39;00m exception_class(message, screen, stacktrace)\n",
      "\u001b[1;31mNoSuchElementException\u001b[0m: Message: no such element: Unable to locate element: {\"method\":\"xpath\",\"selector\":\".//span[@data-aut-id=\"itemPrice\"]\"}\n  (Session info: chrome=113.0.5672.63)\n"
     ]
    }
   ],
   "source": [
    "# Busco el boton para cargar mas informacion\n",
    "boton = driver.find_element_by_xpath('//button[@data-aut-id=\"btnLoadMore\"]')\n",
    "for i in range(3): # Voy a darle click en cargar mas 3 veces\n",
    "    try:\n",
    "        # le doy click\n",
    "        boton.click()\n",
    "        # espero que cargue la informacion dinamica\n",
    "        sleep(random.uniform(8.0, 10.0))\n",
    "        # busco el boton nuevamente para darle click en la siguiente iteracion\n",
    "        boton = driver.find_element_by_xpath('//button[@data-aut-id=\"btnLoadMore\"]')\n",
    "    except:\n",
    "        # si hay algun error, rompo el lazo. No me complico.\n",
    "        break\n",
    "\n",
    "# Encuentro cual es el XPATH de cada elemento donde esta la informacion que quiero extraer\n",
    "# Esto es una LISTA. Por eso el metodo esta en plural\n",
    "autos = driver.find_elements_by_xpath('//li[@data-aut-id=\"itemBox\"]')\n",
    "\n",
    "\n",
    "# Recorro cada uno de los anuncios que he encontrado\n",
    "for auto in autos:\n",
    "    # Por cada anuncio hallo el preico\n",
    "    precio = auto.find_element_by_xpath('.//span[@data-aut-id=\"itemPrice\"]').text\n",
    "    print (precio)\n",
    "    # Por cada anuncio hallo la descripcion\n",
    "    descripcion = auto.find_element_by_xpath('.//span[@data-aut-id=\"itemTitle\"]').text\n",
    "    print (descripcion)"
   ]
  },
  {
   "cell_type": "markdown",
   "id": "3fe33c8c-d6ab-4300-baac-50a438dd4096",
   "metadata": {},
   "source": [
    "# BOLETIN EXP 0"
   ]
  },
  {
   "cell_type": "code",
   "execution_count": 11,
   "id": "7d8ade64-4ef5-4fd5-8dab-fc1d25b13808",
   "metadata": {},
   "outputs": [],
   "source": [
    "import random\n",
    "from time import sleep\n",
    "from selenium import webdriver\n",
    "from selenium import webdriver\n",
    "from webdriver_manager.chrome import ChromeDriverManager\n",
    "\n",
    "driver = webdriver.Chrome(ChromeDriverManager().install())\n",
    "driver.get('https://www.boletinoficial.gob.ar/')"
   ]
  },
  {
   "cell_type": "code",
   "execution_count": null,
   "id": "2393c885-64d4-48d1-818c-e301a0187f7e",
   "metadata": {},
   "outputs": [],
   "source": [
    "# Busco el boton para cargar mas informacion\n",
    "boton = driver.find_element_by_xpath('//button[@data-aut-id=\"btnLoadMore\"]')\n",
    "for i in range(3): # Voy a darle click en cargar mas 3 veces\n",
    "    try:\n",
    "        # le doy click\n",
    "        boton.click()\n",
    "        # espero que cargue la informacion dinamica\n",
    "        sleep(random.uniform(8.0, 10.0))\n",
    "        # busco el boton nuevamente para darle click en la siguiente iteracion\n",
    "        boton = driver.find_element_by_xpath('//button[@data-aut-id=\"btnLoadMore\"]')\n",
    "    except:\n",
    "        # si hay algun error, rompo el lazo. No me complico.\n",
    "        break\n",
    "\n",
    "# Encuentro cual es el XPATH de cada elemento donde esta la informacion que quiero extraer\n",
    "# Esto es una LISTA. Por eso el metodo esta en plural\n",
    "autos = driver.find_elements_by_xpath('//li[@data-aut-id=\"itemBox\"]')\n",
    "\n",
    "\n",
    "# Recorro cada uno de los anuncios que he encontrado\n",
    "for auto in autos:\n",
    "    # Por cada anuncio hallo el preico\n",
    "    precio = auto.find_element_by_xpath('.//span[@data-aut-id=\"itemPrice\"]').text\n",
    "    print (precio)\n",
    "    # Por cada anuncio hallo la descripcion\n",
    "    descripcion = auto.find_element_by_xpath('.//span[@data-aut-id=\"itemTitle\"]').text\n",
    "    print (descripcion)"
   ]
  },
  {
   "cell_type": "markdown",
   "id": "28e6e6ca-8303-4ce7-af6d-9a1a0dd39b50",
   "metadata": {},
   "source": [
    "----"
   ]
  },
  {
   "cell_type": "code",
   "execution_count": 73,
   "id": "a70d920a-462b-4e89-808a-a88ecacbb1c2",
   "metadata": {},
   "outputs": [],
   "source": [
    "import requests\n",
    "import time\n",
    "from bs4 import BeautifulSoup\n",
    "from selenium import webdriver\n",
    "driver = webdriver.Chrome(ChromeDriverManager().install())\n",
    "url = \"https://www.boletinoficial.gob.ar/\"\n",
    "response = requests.get(url)"
   ]
  },
  {
   "cell_type": "code",
   "execution_count": 116,
   "id": "5de9e9e6-e7ef-4e2f-9c60-41e742956c8d",
   "metadata": {},
   "outputs": [
    {
     "data": {
      "text/plain": [
       "<selenium.webdriver.chrome.webdriver.WebDriver (session=\"afe89b3eeeec73eea031fbe589285343\")>"
      ]
     },
     "execution_count": 116,
     "metadata": {},
     "output_type": "execute_result"
    }
   ],
   "source": [
    "driver"
   ]
  },
  {
   "cell_type": "code",
   "execution_count": 74,
   "id": "5046db79-321e-4065-a6a5-89b9f22d0297",
   "metadata": {},
   "outputs": [],
   "source": [
    "driver.get(url)"
   ]
  },
  {
   "cell_type": "code",
   "execution_count": null,
   "id": "441fe743-1207-41f4-9700-2725bc8ffc23",
   "metadata": {},
   "outputs": [],
   "source": [
    "//*[@id=\"divCalendario\"]/div/div[1]/table/tbody/tr[2]/td[4]"
   ]
  },
  {
   "cell_type": "code",
   "execution_count": 59,
   "id": "5336e67f-ab17-4692-8791-38d6e3fdec39",
   "metadata": {},
   "outputs": [
    {
     "data": {
      "text/plain": [
       "<selenium.webdriver.remote.webelement.WebElement (session=\"655c3be59d1ae83f1861398e2636b0fe\", element=\"3674C5010ACCCED39DF335B4126719F7_element_27\")>"
      ]
     },
     "execution_count": 59,
     "metadata": {},
     "output_type": "execute_result"
    }
   ],
   "source": [
    "\n",
    "calendar = driver.find_element_by_xpath('/html/body/content/div/div[2]/div[3]/div/div/div[2]/div/div[7]/div')\n",
    "calendar"
   ]
  },
  {
   "cell_type": "code",
   "execution_count": 66,
   "id": "99d673b7-51e6-4dd4-a431-9ecc532045ad",
   "metadata": {},
   "outputs": [
    {
     "data": {
      "text/plain": [
       "[]"
      ]
     },
     "execution_count": 66,
     "metadata": {},
     "output_type": "execute_result"
    }
   ],
   "source": [
    "td = calendar.find_elements_by_tag_name(\"disabled day disabled\") # disabled day disabled day disabled\n",
    "td"
   ]
  },
  {
   "cell_type": "code",
   "execution_count": 75,
   "id": "7f243c23-a1a4-486e-90ff-8d736eaad7a3",
   "metadata": {},
   "outputs": [
    {
     "data": {
      "text/plain": [
       "<selenium.webdriver.remote.webelement.WebElement (session=\"afe89b3eeeec73eea031fbe589285343\", element=\"D4FEEAF265637988DB596E025697DFD6_element_1\")>"
      ]
     },
     "execution_count": 75,
     "metadata": {},
     "output_type": "execute_result"
    }
   ],
   "source": [
    "calendar = driver.find_element_by_xpath('/html/body/content/div/div[2]/div[3]/div/div/div[2]/div/div[7]/div/div/div[1]/table/tbody')\n",
    "calendar"
   ]
  },
  {
   "cell_type": "code",
   "execution_count": null,
   "id": "fb20dd30-b1a3-4cd6-ba63-eba64a90be81",
   "metadata": {},
   "outputs": [],
   "source": [
    "//*[@id=\"divCalendario\"]/div/div[1]/table/tbody/tr[1]/td[1]"
   ]
  },
  {
   "cell_type": "code",
   "execution_count": 76,
   "id": "cf820485-9be4-43da-a6a3-ed094517e192",
   "metadata": {},
   "outputs": [],
   "source": [
    "autos = calendar.find_elements_by_xpath('//*[@id=\"divCalendario\"]/div/div[1]/table/tbody/tr[1]')"
   ]
  },
  {
   "cell_type": "code",
   "execution_count": 80,
   "id": "43e228e6-171f-4f0e-b29e-776bb77948c4",
   "metadata": {},
   "outputs": [],
   "source": [
    "autos = calendar.find_elements_by_xpath('//*[@id=\"divCalendario\"]/div/div[1]/table/tbody')"
   ]
  },
  {
   "cell_type": "code",
   "execution_count": 151,
   "id": "37e7d29e-b4c9-4d29-928f-e63e77dc63f1",
   "metadata": {},
   "outputs": [
    {
     "data": {
      "text/plain": [
       "'28 29 30 31 1 2 3'"
      ]
     },
     "execution_count": 151,
     "metadata": {},
     "output_type": "execute_result"
    }
   ],
   "source": [
    "precio"
   ]
  },
  {
   "cell_type": "code",
   "execution_count": 150,
   "id": "61c48db2-f718-41a3-8ebb-c2946549ed08",
   "metadata": {},
   "outputs": [
    {
     "name": "stdout",
     "output_type": "stream",
     "text": [
      "28 29 30 31 1 2 3\n"
     ]
    }
   ],
   "source": [
    "# Recorro cada uno de los anuncios que he encontrado\n",
    "for auto in autos:\n",
    "    # Por cada anuncio hallo el preico\n",
    "    precio = auto.find_element_by_xpath('//*[@id=\"divCalendario\"]/div/div[1]/table/tbody/tr[5]').text\n",
    "    print (precio)"
   ]
  },
  {
   "cell_type": "code",
   "execution_count": 160,
   "id": "9f068d12-1d6f-4a33-9524-9762a937e8a6",
   "metadata": {},
   "outputs": [
    {
     "name": "stdout",
     "output_type": "stream",
     "text": [
      "['2', '3', '4', '5']\n"
     ]
    }
   ],
   "source": [
    "precio = auto.find_element_by_xpath('//*[@id=\"divCalendario\"]/div/div[1]/table/tbody/tr[1]')\n",
    "days_ls = []\n",
    "for row in range(1,31):\n",
    "    try:\n",
    "        days_ls.append(precio.find_element_by_xpath(f\"//td[@class='day'][{row}]\").text)\n",
    "    except:\n",
    "        pass\n",
    "print(days_ls)"
   ]
  },
  {
   "cell_type": "code",
   "execution_count": null,
   "id": "82b51cfb-3e6f-48d3-a883-bd9840d30c85",
   "metadata": {},
   "outputs": [],
   "source": [
    "//*[@id=\"divCalendario\"]/div/div[1]/table/tbody/tr[1]/td[3]"
   ]
  },
  {
   "cell_type": "code",
   "execution_count": 166,
   "id": "ec60a0b0-281e-472b-9a52-100127003318",
   "metadata": {},
   "outputs": [],
   "source": [
    "driver.find_element_by_xpath('/html/body/content/div/div[2]/div[3]/div/div/div[2]/div/div[7]/div/div/div[1]/table/tbody/tr[1]/td[4]').click()\n"
   ]
  },
  {
   "cell_type": "code",
   "execution_count": 164,
   "id": "c294eef5-09ef-431d-9c75-02fa6b69a0c1",
   "metadata": {},
   "outputs": [
    {
     "data": {
      "text/plain": [
       "<selenium.webdriver.remote.webelement.WebElement (session=\"afe89b3eeeec73eea031fbe589285343\", element=\"D4FEEAF265637988DB596E025697DFD6_element_11\")>"
      ]
     },
     "execution_count": 164,
     "metadata": {},
     "output_type": "execute_result"
    }
   ],
   "source": [
    "boton"
   ]
  },
  {
   "cell_type": "code",
   "execution_count": null,
   "id": "9a05f1c0-0529-4f26-aa55-06d43dab574e",
   "metadata": {},
   "outputs": [],
   "source": [
    "boton = driver.find_element_by_xpath('/html/body/content/div/div[2]/div[3]/div/div/div[2]/div/div[7]/div/div/div[1]/table/tbody/tr[1]/td[1]')\n",
    "try:\n",
    "    boton.click()\n",
    "except:\n",
    "    pass"
   ]
  },
  {
   "cell_type": "code",
   "execution_count": 162,
   "id": "4e76addc-2c9a-4955-bf88-d4ba721d9621",
   "metadata": {},
   "outputs": [
    {
     "data": {
      "text/plain": [
       "'6'"
      ]
     },
     "execution_count": 162,
     "metadata": {},
     "output_type": "execute_result"
    }
   ],
   "source": [
    "for row in range(1,3):\n",
    "    driver.find_element_by_xpath('/html/body/content/div/div[2]/div[3]/div/div/div[2]/div/div[7]/div/div/div[1]/table/tbody/tr[1]/td[1]')\n",
    "    boton.click()"
   ]
  },
  {
   "cell_type": "code",
   "execution_count": null,
   "id": "14797c91-27fd-4066-ac95-e091bc3513f1",
   "metadata": {},
   "outputs": [],
   "source": []
  },
  {
   "cell_type": "code",
   "execution_count": 154,
   "id": "98a1d18b-fc07-4947-9cbc-b6a4d87bf84f",
   "metadata": {},
   "outputs": [
    {
     "data": {
      "text/plain": [
       "'28 29 30 31 1 2 3'"
      ]
     },
     "execution_count": 154,
     "metadata": {},
     "output_type": "execute_result"
    }
   ],
   "source": [
    "precio"
   ]
  },
  {
   "cell_type": "code",
   "execution_count": 120,
   "id": "4a5eb330-b779-4040-8bf3-04996467955a",
   "metadata": {},
   "outputs": [],
   "source": [
    "from selenium.webdriver.common.by import By\n",
    "ID = \"id\"\n",
    "NAME = \"name\"\n",
    "XPATH = \"xpath\"\n",
    "LINK_TEXT = \"link text\"\n",
    "PARTIAL_LINK_TEXT = \"partial link text\"\n",
    "TAG_NAME = \"tag name\"\n",
    "CLASS_NAME = \"class name\"\n",
    "CSS_SELECTOR = \"css selector\""
   ]
  },
  {
   "cell_type": "code",
   "execution_count": 126,
   "id": "208f5844-514d-4343-9187-4c7d934f1fb2",
   "metadata": {},
   "outputs": [
    {
     "data": {
      "text/plain": [
       "<selenium.webdriver.remote.webelement.WebElement (session=\"afe89b3eeeec73eea031fbe589285343\", element=\"D4FEEAF265637988DB596E025697DFD6_element_18\")>"
      ]
     },
     "execution_count": 126,
     "metadata": {},
     "output_type": "execute_result"
    }
   ],
   "source": [
    "login_form = driver.find_element(By.ID, 'divCalendario')\n",
    "login_form"
   ]
  },
  {
   "cell_type": "code",
   "execution_count": 153,
   "id": "5a4475c7-74da-478e-8e72-80ec84d2884e",
   "metadata": {},
   "outputs": [
    {
     "name": "stdout",
     "output_type": "stream",
     "text": [
      "['2', '3', '4', '5']\n"
     ]
    }
   ],
   "source": [
    "days_ls = []\n",
    "for row in range(1,7):\n",
    "    try:\n",
    "        days_ls.append(login_form.find_element_by_xpath(f\"//td[@class='day'][{row}]\").text)\n",
    "    except:\n",
    "        pass\n",
    "print(days_ls)"
   ]
  },
  {
   "cell_type": "code",
   "execution_count": 141,
   "id": "9e18ca2d-e3b3-4f2c-9d5b-0ea233972f28",
   "metadata": {},
   "outputs": [
    {
     "ename": "TypeError",
     "evalue": "object of type 'WebElement' has no len()",
     "output_type": "error",
     "traceback": [
      "\u001b[1;31m---------------------------------------------------------------------------\u001b[0m",
      "\u001b[1;31mTypeError\u001b[0m                                 Traceback (most recent call last)",
      "Cell \u001b[1;32mIn[141], line 1\u001b[0m\n\u001b[1;32m----> 1\u001b[0m \u001b[38;5;28;43mlen\u001b[39;49m\u001b[43m(\u001b[49m\u001b[43mlogin_form\u001b[49m\u001b[43m)\u001b[49m\n",
      "\u001b[1;31mTypeError\u001b[0m: object of type 'WebElement' has no len()"
     ]
    }
   ],
   "source": [
    "len(login_form)"
   ]
  },
  {
   "cell_type": "code",
   "execution_count": 140,
   "id": "9748055b-d46c-4197-8377-6a140de2170b",
   "metadata": {},
   "outputs": [
    {
     "data": {
      "text/plain": [
       "'3'"
      ]
     },
     "execution_count": 140,
     "metadata": {},
     "output_type": "execute_result"
    }
   ],
   "source": [
    "test = login_form.find_element_by_xpath(\"//td[@class='day'][2]\")\n",
    "test.text"
   ]
  },
  {
   "cell_type": "code",
   "execution_count": 138,
   "id": "3b32552c-3291-4d2d-8ddc-12db3ce04117",
   "metadata": {},
   "outputs": [
    {
     "data": {
      "text/plain": [
       "'10'"
      ]
     },
     "execution_count": 138,
     "metadata": {},
     "output_type": "execute_result"
    }
   ],
   "source": [
    "test = login_form.find_element_by_xpath(\"//td[@class='disabled day disabled'][1]\")\n",
    "test.text\n"
   ]
  },
  {
   "cell_type": "code",
   "execution_count": 146,
   "id": "fadbc16f-f045-415a-a6fb-dc83f62d64c5",
   "metadata": {},
   "outputs": [
    {
     "ename": "AttributeError",
     "evalue": "'WebElement' object has no attribute 'findElements'",
     "output_type": "error",
     "traceback": [
      "\u001b[1;31m---------------------------------------------------------------------------\u001b[0m",
      "\u001b[1;31mAttributeError\u001b[0m                            Traceback (most recent call last)",
      "Cell \u001b[1;32mIn[146], line 2\u001b[0m\n\u001b[0;32m      1\u001b[0m xPath1 \u001b[38;5;241m=\u001b[39m \u001b[38;5;124m\"\u001b[39m\u001b[38;5;124m//td[text()=\u001b[39m\u001b[38;5;124m'\u001b[39m\u001b[38;5;124mdisabled day disabled\u001b[39m\u001b[38;5;124m'\u001b[39m\u001b[38;5;124m]\u001b[39m\u001b[38;5;124m\"\u001b[39m;\n\u001b[1;32m----> 2\u001b[0m allElements1 \u001b[38;5;241m=\u001b[39m \u001b[43mauto\u001b[49m\u001b[38;5;241;43m.\u001b[39;49m\u001b[43mfindElements\u001b[49m(By\u001b[38;5;241m.\u001b[39mxpath(xPath1))\n\u001b[0;32m      3\u001b[0m allElements1\n",
      "\u001b[1;31mAttributeError\u001b[0m: 'WebElement' object has no attribute 'findElements'"
     ]
    }
   ],
   "source": [
    "xPath1 = \"//td[text()='disabled day disabled']\";\n",
    "allElements1 = auto.findElements(By.xpath(xPath1))\n",
    "allElements1"
   ]
  },
  {
   "cell_type": "code",
   "execution_count": null,
   "id": "938dc3ee-389d-4ce3-84a4-57551e6ea0cd",
   "metadata": {},
   "outputs": [],
   "source": []
  },
  {
   "cell_type": "code",
   "execution_count": null,
   "id": "ed0063f0-c2fd-41a8-bbd7-a2c9176319aa",
   "metadata": {},
   "outputs": [],
   "source": [
    "//td[text()]"
   ]
  },
  {
   "cell_type": "code",
   "execution_count": 93,
   "id": "2632d95e-fed6-4e1c-a492-9116204aed9b",
   "metadata": {},
   "outputs": [
    {
     "data": {
      "text/plain": [
       "['28', '29', '30', '31', '1', '2', '3']"
      ]
     },
     "execution_count": 93,
     "metadata": {},
     "output_type": "execute_result"
    }
   ],
   "source": [
    "precio.split(' ')"
   ]
  },
  {
   "cell_type": "code",
   "execution_count": 68,
   "id": "7fb94e45-4c44-4012-a3cb-3127bcbcb48f",
   "metadata": {},
   "outputs": [
    {
     "data": {
      "text/plain": [
       "<selenium.webdriver.remote.webelement.WebElement (session=\"655c3be59d1ae83f1861398e2636b0fe\", element=\"3674C5010ACCCED39DF335B4126719F7_element_31\")>"
      ]
     },
     "execution_count": 68,
     "metadata": {},
     "output_type": "execute_result"
    }
   ],
   "source": [
    "tabla = calendar.find_element_by_xpath('//*[@id=\"divCalendario\"]/div/div[1]/table/tbody')\n",
    "tabla"
   ]
  },
  {
   "cell_type": "code",
   "execution_count": 147,
   "id": "ef70ae82-8e3b-4001-b803-4084f04a9991",
   "metadata": {},
   "outputs": [],
   "source": [
    "# tabla.find_element_by_id(\"disabled day disabled\")"
   ]
  },
  {
   "cell_type": "code",
   "execution_count": 148,
   "id": "cc6b50de-c057-43a9-89c2-9554e47f8b32",
   "metadata": {},
   "outputs": [],
   "source": [
    "# calendar.find_element_by_id(\"disabled day disabled\")"
   ]
  },
  {
   "cell_type": "code",
   "execution_count": 64,
   "id": "3984efdb-4360-4251-9125-625c977e0bee",
   "metadata": {},
   "outputs": [
    {
     "data": {
      "text/plain": [
       "('Mayo 2023', '8', '10')"
      ]
     },
     "execution_count": 64,
     "metadata": {},
     "output_type": "execute_result"
    }
   ],
   "source": [
    "mes = calendar.find_element_by_xpath('//*[@id=\"divCalendario\"]/div/div[1]/table/thead/tr[2]/th[2]').text \n",
    "\n",
    "dia = calendar.find_element_by_xpath('//*[@id=\"divCalendario\"]/div/div[1]/table/tbody/tr[2]/td[2]').text \n",
    "disabled = calendar.find_element_by_xpath('//*[@id=\"divCalendario\"]/div/div[1]/table/tbody/tr[2]/td[4]').text \n",
    "\n",
    "\n",
    "mes,dia,disabled\n"
   ]
  },
  {
   "cell_type": "markdown",
   "id": "7ab8224f-d1c9-4aac-82ed-0cd635c39522",
   "metadata": {},
   "source": [
    "DESCARGA DE PDF"
   ]
  },
  {
   "cell_type": "code",
   "execution_count": 55,
   "id": "6442e7fd-854a-44f3-ac19-42f56ea3646b",
   "metadata": {},
   "outputs": [
    {
     "data": {
      "text/plain": [
       "<Response [200]>"
      ]
     },
     "execution_count": 55,
     "metadata": {},
     "output_type": "execute_result"
    }
   ],
   "source": [
    "# SCRIPT PARA DESCARGAR PDF\n",
    "driver.find_element_by_xpath('/html/body/content/div/div[2]/div[1]/div[1]/div[2]/a[2]').click()\n",
    "# Wait for the new tab to open\n",
    "time.sleep(5)  # Increase or decrease the time if needed\n",
    "# Switch to the new tab\n",
    "driver.switch_to.window(driver.window_handles[1])\n",
    "pdf_url = driver.current_url\n",
    "pdf_response = requests.get(pdf_url)\n",
    "with open(\"output.pdf\", \"wb\") as f:\n",
    "    f.write(pdf_response.content)"
   ]
  },
  {
   "cell_type": "code",
   "execution_count": 177,
   "id": "cf31ebd8-9e29-4c73-a8b0-052ad20c796b",
   "metadata": {},
   "outputs": [
    {
     "data": {
      "text/plain": [
       "<selenium.webdriver.chrome.webdriver.WebDriver (session=\"afe89b3eeeec73eea031fbe589285343\")>"
      ]
     },
     "execution_count": 177,
     "metadata": {},
     "output_type": "execute_result"
    }
   ],
   "source": [
    "driver"
   ]
  },
  {
   "cell_type": "markdown",
   "id": "1cd62981-ef0d-4e87-8ed7-e0785177844d",
   "metadata": {},
   "source": [
    "# PROTOTIPO 1"
   ]
  },
  {
   "cell_type": "code",
   "execution_count": 257,
   "id": "b4024820-6068-47b7-940c-37ea89ef1f0d",
   "metadata": {},
   "outputs": [],
   "source": [
    "# LIBRERIAS\n",
    "import random\n",
    "from time import sleep\n",
    "from selenium import webdriver\n",
    "from webdriver_manager.chrome import ChromeDriverManager\n",
    "driver = webdriver.Chrome(ChromeDriverManager().install())"
   ]
  },
  {
   "cell_type": "code",
   "execution_count": 258,
   "id": "09beddcf-a8ca-40e6-a93c-a5c218967aff",
   "metadata": {},
   "outputs": [],
   "source": [
    "# CARGAMOS PAGINA\n",
    "url = \"https://www.boletinoficial.gob.ar/\"\n",
    "driver.get(url)"
   ]
  },
  {
   "cell_type": "code",
   "execution_count": 191,
   "id": "369e65e9-a46f-401d-9e77-bed1e012a666",
   "metadata": {},
   "outputs": [
    {
     "data": {
      "text/plain": [
       "'mayo_2023_8_segunda_seccion.pdf'"
      ]
     },
     "execution_count": 191,
     "metadata": {},
     "output_type": "execute_result"
    }
   ],
   "source": [
    "# OBTENEMOS REFERENCIAS PARA FECHA\n",
    "calendar = driver.find_element_by_xpath('/html/body/content/div/div[2]/div[3]/div/div/div[2]/div/div[7]/div')\n",
    "mes = calendar.find_element_by_xpath('//*[@id=\"divCalendario\"]/div/div[1]/table/thead/tr[2]/th[2]').text \n",
    "dia = calendar.find_element_by_xpath('//*[@id=\"divCalendario\"]/div/div[1]/table/tbody/tr[2]/td[2]').text \n",
    "doc_name = mes.replace(' ','_').lower()+'_'+dia+'_segunda_seccion.pdf'\n",
    "doc_name"
   ]
  },
  {
   "cell_type": "code",
   "execution_count": 195,
   "id": "4af8cff7-d3ea-4952-8fb4-fb198eefac68",
   "metadata": {},
   "outputs": [],
   "source": [
    "# OBTENEMOS REFERENCIAS PARA FECHA\n",
    "calendar = driver.find_element_by_xpath('/html/body/content/div/div[2]/div[3]/div/div/div[2]/div/div[7]/div')\n",
    "mes = calendar.find_element_by_xpath('//*[@id=\"divCalendario\"]/div/div[1]/table/thead/tr[2]/th[2]').text \n",
    "dia = calendar.find_element_by_xpath('//*[@id=\"divCalendario\"]/div/div[1]/table/tbody/tr[2]/td[2]').text \n",
    "doc_name = mes.replace(' ','_').lower()+'_'+dia+'_segunda_seccion.pdf'\n",
    "# SCRIPT PARA DESCARGAR PDF\n",
    "driver.find_element_by_xpath('/html/body/content/div/div[2]/div[1]/div[1]/div[2]/a[2]').click()\n",
    "# Wait for the new tab to open\n",
    "time.sleep(5)  # Increase or decrease the time if needed\n",
    "# Switch to the new tab\n",
    "last = len(driver.window_handles)\n",
    "driver.switch_to.window(driver.window_handles[last-1])\n",
    "pdf_url = driver.current_url\n",
    "pdf_response = requests.get(pdf_url)\n",
    "with open(doc_name, \"wb\") as f:\n",
    "    f.write(pdf_response.content)"
   ]
  },
  {
   "cell_type": "code",
   "execution_count": 188,
   "id": "f31bb331-b469-41fe-a1d4-e5eb8e448ed0",
   "metadata": {},
   "outputs": [],
   "source": [
    "driver.find_element_by_xpath(f'/html/body/content/div/div[2]/div[3]/div/div/div[2]/div/div[7]/div/div/div[1]/table/tbody/tr[1]/td[1]').click()"
   ]
  },
  {
   "cell_type": "code",
   "execution_count": 216,
   "id": "9991335d-ee28-4f8e-8dbb-8a685bd3e829",
   "metadata": {},
   "outputs": [],
   "source": [
    "driver.switch_to.window(driver.window_handles[0])\n"
   ]
  },
  {
   "cell_type": "code",
   "execution_count": 203,
   "id": "4a7b31c5-64f2-49da-9313-c77bc2ec136f",
   "metadata": {},
   "outputs": [],
   "source": [
    "driver.find_element_by_xpath(f'/html/body/content/div/div[2]/div[3]/div/div/div[2]/div/div[7]/div/div/div[1]/table/tbody/tr[{row}]/td[1]').click()\n",
    "driver.find_element_by_xpath('/html/body/content/div/div[2]/div[1]/div[1]/div[2]/a[2]').click()"
   ]
  },
  {
   "cell_type": "code",
   "execution_count": 272,
   "id": "7fc52055-d77b-4ed7-b203-82ddcd48c33c",
   "metadata": {},
   "outputs": [],
   "source": [
    "import numpy as np"
   ]
  },
  {
   "cell_type": "code",
   "execution_count": 317,
   "id": "9dcc4f5c-09d3-4b96-b6e9-3bf36e02babe",
   "metadata": {},
   "outputs": [],
   "source": [
    "def get_active(driver):\n",
    "    try:\n",
    "        return driver.find_element(By.XPATH,\"//td[@class='active day']\").text\n",
    "    except:\n",
    "        try:\n",
    "            return driver.find_element(By.XPATH,\"//td[@class='new active day']\").text\n",
    "        except:\n",
    "            return np.nan"
   ]
  },
  {
   "cell_type": "code",
   "execution_count": null,
   "id": "917f5dc5-5ff1-4871-9eb0-8f03af9aaf8c",
   "metadata": {},
   "outputs": [],
   "source": []
  },
  {
   "cell_type": "code",
   "execution_count": 362,
   "id": "a47bed79-e71c-438d-a880-004b8e321932",
   "metadata": {},
   "outputs": [],
   "source": [
    "# FUNCIONA ITERA POR TODOS LOS DIAS DEL MES CON CRITERIO\n",
    "def loop_calendar(get_pdf=True):\n",
    "    rows = list(range(1,7))\n",
    "    cols = list(range(1,8))\n",
    "    for row in rows:\n",
    "        for col in cols:\n",
    "            time.sleep(1)\n",
    "            driver.switch_to.window(driver.window_handles[0])\n",
    "            dia = driver.find_element_by_xpath(f'//*[@id=\"divCalendario\"]/div/div[1]/table/tbody/tr[{row}]/td[{col}]').text \n",
    "            if (row ==1) and (int(dia)>10):\n",
    "                print(f'dia_mes_previo:{dia}',end=\"\\r\")\n",
    "                next\n",
    "            elif (row >4) and (int(dia)<10):\n",
    "                print(f'dia_mes_siguiente:{dia}',end=\"\\r\")\n",
    "                next\n",
    "            else:\n",
    "                pre = get_active(driver) # pre = driver.find_element(By.XPATH,\"//td[@class='active day']\").text   \n",
    "                driver.find_element_by_xpath(f'/html/body/content/div/div[2]/div[3]/div/div/div[2]/div/div[7]/div/div/div[1]/table/tbody/tr[{row}]/td[{col}]').click()\n",
    "                post = get_active(driver) # driver.find_element(By.XPATH,\"//td[@class='active day']\").text\n",
    "                if pre!=post:\n",
    "                    # OBTENEMOS REFERENCIAS PARA FECHA\n",
    "                    # calendar = driver.find_element_by_xpath('/html/body/content/div/div[2]/div[3]/div/div/div[2]/div/div[7]/div')\n",
    "                    mes = driver.find_element_by_xpath(f'//*[@id=\"divCalendario\"]/div/div[1]/table/thead/tr[2]/th[2]').text \n",
    "                    print(f'dia_ok:{dia}',end=\"\\r\")\n",
    "                    if get_pdf==True:\n",
    "                        get_pdf()"
   ]
  },
  {
   "cell_type": "code",
   "execution_count": 357,
   "id": "3f431822-a4c3-474b-802b-f877dd1f7734",
   "metadata": {},
   "outputs": [],
   "source": [
    "def get_pdf(driver=driver,dia=dia,mes=mes):\n",
    "    name_pdf = f\"2DA_{mes.replace(' ','_').lower()}_{dia}.pdf\"\n",
    "    driver.find_element_by_xpath('/html/body/content/div/div[2]/div[1]/div[1]/div[2]/a[2]').click()\n",
    "    # Wait for the new tab to open\n",
    "    time.sleep(5)  # Increase or decrease the time if needed\n",
    "    # Switch to the new tab\n",
    "    last = len(driver.window_handles)\n",
    "    driver.switch_to.window(driver.window_handles[last-1])\n",
    "    pdf_url = driver.current_url\n",
    "    pdf_response = requests.get(pdf_url)\n",
    "    with open(name_pdf, \"wb\") as f:\n",
    "        f.write(pdf_response.content)"
   ]
  },
  {
   "cell_type": "code",
   "execution_count": 364,
   "id": "86432613-02b2-4a6b-bdc1-f509644e7e31",
   "metadata": {},
   "outputs": [],
   "source": [
    "def mes_previo(driver = driver):\n",
    "    '''\n",
    "    ir al mes previo\n",
    "    '''\n",
    "    driver.find_element_by_xpath('/html/body/content/div/div[2]/div[3]/div/div/div[2]/div/div[7]/div/div/div[1]/table/thead/tr[2]/th[1]/i').click()\n",
    "    mes = driver.find_element_by_xpath(f'//*[@id=\"divCalendario\"]/div/div[1]/table/thead/tr[2]/th[2]').text \n",
    "    print(f'nuevo mes:{mes}',end=\"\\r\")\n",
    "    \n",
    "def mes_siguiente(driver = driver):\n",
    "    '''\n",
    "    ir al mes siguiente\n",
    "    '''\n",
    "    driver.find_element_by_xpath('/html/body/content/div/div[2]/div[3]/div/div/div[2]/div/div[7]/div/div/div[1]/table/thead/tr[2]/th[3]/i').click()\n",
    "    mes = driver.find_element_by_xpath(f'//*[@id=\"divCalendario\"]/div/div[1]/table/thead/tr[2]/th[2]').text \n",
    "    print(f'nuevo mes:{mes}',end=\"\\r\")"
   ]
  },
  {
   "cell_type": "code",
   "execution_count": 379,
   "id": "46b66249-d07d-4f61-b2a2-1f430ca37403",
   "metadata": {},
   "outputs": [
    {
     "name": "stdout",
     "output_type": "stream",
     "text": [
      "nuevo mes:Diciembre 2022\r"
     ]
    }
   ],
   "source": [
    "mes_previo()"
   ]
  },
  {
   "cell_type": "code",
   "execution_count": 374,
   "id": "d0cf3dc8-df7b-4ffd-a3f9-696a7df2a2c4",
   "metadata": {},
   "outputs": [
    {
     "ename": "ElementNotInteractableException",
     "evalue": "Message: element not interactable\n  (Session info: chrome=113.0.5672.63)\n",
     "output_type": "error",
     "traceback": [
      "\u001b[1;31m---------------------------------------------------------------------------\u001b[0m",
      "\u001b[1;31mElementNotInteractableException\u001b[0m           Traceback (most recent call last)",
      "Cell \u001b[1;32mIn[374], line 1\u001b[0m\n\u001b[1;32m----> 1\u001b[0m \u001b[43mmes_siguiente\u001b[49m\u001b[43m(\u001b[49m\u001b[43m)\u001b[49m\n",
      "Cell \u001b[1;32mIn[364], line 13\u001b[0m, in \u001b[0;36mmes_siguiente\u001b[1;34m(driver)\u001b[0m\n\u001b[0;32m      9\u001b[0m \u001b[38;5;28;01mdef\u001b[39;00m \u001b[38;5;21mmes_siguiente\u001b[39m(driver \u001b[38;5;241m=\u001b[39m driver):\n\u001b[0;32m     10\u001b[0m \u001b[38;5;250m    \u001b[39m\u001b[38;5;124;03m'''\u001b[39;00m\n\u001b[0;32m     11\u001b[0m \u001b[38;5;124;03m    ir al mes siguiente\u001b[39;00m\n\u001b[0;32m     12\u001b[0m \u001b[38;5;124;03m    '''\u001b[39;00m\n\u001b[1;32m---> 13\u001b[0m     \u001b[43mdriver\u001b[49m\u001b[38;5;241;43m.\u001b[39;49m\u001b[43mfind_element_by_xpath\u001b[49m\u001b[43m(\u001b[49m\u001b[38;5;124;43m'\u001b[39;49m\u001b[38;5;124;43m/html/body/content/div/div[2]/div[3]/div/div/div[2]/div/div[7]/div/div/div[1]/table/thead/tr[2]/th[3]/i\u001b[39;49m\u001b[38;5;124;43m'\u001b[39;49m\u001b[43m)\u001b[49m\u001b[38;5;241;43m.\u001b[39;49m\u001b[43mclick\u001b[49m\u001b[43m(\u001b[49m\u001b[43m)\u001b[49m\n\u001b[0;32m     14\u001b[0m     mes \u001b[38;5;241m=\u001b[39m driver\u001b[38;5;241m.\u001b[39mfind_element_by_xpath(\u001b[38;5;124mf\u001b[39m\u001b[38;5;124m'\u001b[39m\u001b[38;5;124m//*[@id=\u001b[39m\u001b[38;5;124m\"\u001b[39m\u001b[38;5;124mdivCalendario\u001b[39m\u001b[38;5;124m\"\u001b[39m\u001b[38;5;124m]/div/div[1]/table/thead/tr[2]/th[2]\u001b[39m\u001b[38;5;124m'\u001b[39m)\u001b[38;5;241m.\u001b[39mtext \n\u001b[0;32m     15\u001b[0m     \u001b[38;5;28mprint\u001b[39m(\u001b[38;5;124mf\u001b[39m\u001b[38;5;124m'\u001b[39m\u001b[38;5;124mnuevo mes:\u001b[39m\u001b[38;5;132;01m{\u001b[39;00mmes\u001b[38;5;132;01m}\u001b[39;00m\u001b[38;5;124m'\u001b[39m,end\u001b[38;5;241m=\u001b[39m\u001b[38;5;124m\"\u001b[39m\u001b[38;5;130;01m\\r\u001b[39;00m\u001b[38;5;124m\"\u001b[39m)\n",
      "File \u001b[1;32m~\\anaconda3\\envs\\llm\\lib\\site-packages\\selenium\\webdriver\\remote\\webelement.py:80\u001b[0m, in \u001b[0;36mWebElement.click\u001b[1;34m(self)\u001b[0m\n\u001b[0;32m     78\u001b[0m \u001b[38;5;28;01mdef\u001b[39;00m \u001b[38;5;21mclick\u001b[39m(\u001b[38;5;28mself\u001b[39m):\n\u001b[0;32m     79\u001b[0m \u001b[38;5;250m    \u001b[39m\u001b[38;5;124;03m\"\"\"Clicks the element.\"\"\"\u001b[39;00m\n\u001b[1;32m---> 80\u001b[0m     \u001b[38;5;28;43mself\u001b[39;49m\u001b[38;5;241;43m.\u001b[39;49m\u001b[43m_execute\u001b[49m\u001b[43m(\u001b[49m\u001b[43mCommand\u001b[49m\u001b[38;5;241;43m.\u001b[39;49m\u001b[43mCLICK_ELEMENT\u001b[49m\u001b[43m)\u001b[49m\n",
      "File \u001b[1;32m~\\anaconda3\\envs\\llm\\lib\\site-packages\\selenium\\webdriver\\remote\\webelement.py:633\u001b[0m, in \u001b[0;36mWebElement._execute\u001b[1;34m(self, command, params)\u001b[0m\n\u001b[0;32m    631\u001b[0m     params \u001b[38;5;241m=\u001b[39m {}\n\u001b[0;32m    632\u001b[0m params[\u001b[38;5;124m'\u001b[39m\u001b[38;5;124mid\u001b[39m\u001b[38;5;124m'\u001b[39m] \u001b[38;5;241m=\u001b[39m \u001b[38;5;28mself\u001b[39m\u001b[38;5;241m.\u001b[39m_id\n\u001b[1;32m--> 633\u001b[0m \u001b[38;5;28;01mreturn\u001b[39;00m \u001b[38;5;28;43mself\u001b[39;49m\u001b[38;5;241;43m.\u001b[39;49m\u001b[43m_parent\u001b[49m\u001b[38;5;241;43m.\u001b[39;49m\u001b[43mexecute\u001b[49m\u001b[43m(\u001b[49m\u001b[43mcommand\u001b[49m\u001b[43m,\u001b[49m\u001b[43m \u001b[49m\u001b[43mparams\u001b[49m\u001b[43m)\u001b[49m\n",
      "File \u001b[1;32m~\\anaconda3\\envs\\llm\\lib\\site-packages\\selenium\\webdriver\\remote\\webdriver.py:321\u001b[0m, in \u001b[0;36mWebDriver.execute\u001b[1;34m(self, driver_command, params)\u001b[0m\n\u001b[0;32m    319\u001b[0m response \u001b[38;5;241m=\u001b[39m \u001b[38;5;28mself\u001b[39m\u001b[38;5;241m.\u001b[39mcommand_executor\u001b[38;5;241m.\u001b[39mexecute(driver_command, params)\n\u001b[0;32m    320\u001b[0m \u001b[38;5;28;01mif\u001b[39;00m response:\n\u001b[1;32m--> 321\u001b[0m     \u001b[38;5;28;43mself\u001b[39;49m\u001b[38;5;241;43m.\u001b[39;49m\u001b[43merror_handler\u001b[49m\u001b[38;5;241;43m.\u001b[39;49m\u001b[43mcheck_response\u001b[49m\u001b[43m(\u001b[49m\u001b[43mresponse\u001b[49m\u001b[43m)\u001b[49m\n\u001b[0;32m    322\u001b[0m     response[\u001b[38;5;124m'\u001b[39m\u001b[38;5;124mvalue\u001b[39m\u001b[38;5;124m'\u001b[39m] \u001b[38;5;241m=\u001b[39m \u001b[38;5;28mself\u001b[39m\u001b[38;5;241m.\u001b[39m_unwrap_value(\n\u001b[0;32m    323\u001b[0m         response\u001b[38;5;241m.\u001b[39mget(\u001b[38;5;124m'\u001b[39m\u001b[38;5;124mvalue\u001b[39m\u001b[38;5;124m'\u001b[39m, \u001b[38;5;28;01mNone\u001b[39;00m))\n\u001b[0;32m    324\u001b[0m     \u001b[38;5;28;01mreturn\u001b[39;00m response\n",
      "File \u001b[1;32m~\\anaconda3\\envs\\llm\\lib\\site-packages\\selenium\\webdriver\\remote\\errorhandler.py:242\u001b[0m, in \u001b[0;36mErrorHandler.check_response\u001b[1;34m(self, response)\u001b[0m\n\u001b[0;32m    240\u001b[0m         alert_text \u001b[38;5;241m=\u001b[39m value[\u001b[38;5;124m'\u001b[39m\u001b[38;5;124malert\u001b[39m\u001b[38;5;124m'\u001b[39m]\u001b[38;5;241m.\u001b[39mget(\u001b[38;5;124m'\u001b[39m\u001b[38;5;124mtext\u001b[39m\u001b[38;5;124m'\u001b[39m)\n\u001b[0;32m    241\u001b[0m     \u001b[38;5;28;01mraise\u001b[39;00m exception_class(message, screen, stacktrace, alert_text)\n\u001b[1;32m--> 242\u001b[0m \u001b[38;5;28;01mraise\u001b[39;00m exception_class(message, screen, stacktrace)\n",
      "\u001b[1;31mElementNotInteractableException\u001b[0m: Message: element not interactable\n  (Session info: chrome=113.0.5672.63)\n"
     ]
    }
   ],
   "source": [
    "mes_siguiente()"
   ]
  },
  {
   "cell_type": "code",
   "execution_count": null,
   "id": "410396d4-f9cd-4084-917f-4e554c3772c7",
   "metadata": {},
   "outputs": [],
   "source": []
  },
  {
   "cell_type": "code",
   "execution_count": 345,
   "id": "235716de-e9bd-4e17-bfb8-89338fc7a458",
   "metadata": {},
   "outputs": [
    {
     "name": "stdout",
     "output_type": "stream",
     "text": [
      "enero_2023_2_segunda_seccion.pdf\n",
      "enero_2023_2_segunda_seccion.pdf\n"
     ]
    },
    {
     "ename": "KeyboardInterrupt",
     "evalue": "",
     "output_type": "error",
     "traceback": [
      "\u001b[1;31m---------------------------------------------------------------------------\u001b[0m",
      "\u001b[1;31mKeyboardInterrupt\u001b[0m                         Traceback (most recent call last)",
      "Cell \u001b[1;32mIn[345], line 28\u001b[0m\n\u001b[0;32m     26\u001b[0m driver\u001b[38;5;241m.\u001b[39mfind_element_by_xpath(\u001b[38;5;124m'\u001b[39m\u001b[38;5;124m/html/body/content/div/div[2]/div[1]/div[1]/div[2]/a[2]\u001b[39m\u001b[38;5;124m'\u001b[39m)\u001b[38;5;241m.\u001b[39mclick()\n\u001b[0;32m     27\u001b[0m \u001b[38;5;66;03m# Wait for the new tab to open\u001b[39;00m\n\u001b[1;32m---> 28\u001b[0m \u001b[43mtime\u001b[49m\u001b[38;5;241;43m.\u001b[39;49m\u001b[43msleep\u001b[49m\u001b[43m(\u001b[49m\u001b[38;5;241;43m5\u001b[39;49m\u001b[43m)\u001b[49m  \u001b[38;5;66;03m# Increase or decrease the time if needed\u001b[39;00m\n\u001b[0;32m     29\u001b[0m \u001b[38;5;66;03m# Switch to the new tab\u001b[39;00m\n\u001b[0;32m     30\u001b[0m last \u001b[38;5;241m=\u001b[39m \u001b[38;5;28mlen\u001b[39m(driver\u001b[38;5;241m.\u001b[39mwindow_handles)\n",
      "\u001b[1;31mKeyboardInterrupt\u001b[0m: "
     ]
    }
   ],
   "source": [
    "# DESCARGAMOS PDF\n",
    "for row in range(1,7):\n",
    "    for col in range(1,8):\n",
    "        time.sleep(1)\n",
    "        driver.switch_to.window(driver.window_handles[0])\n",
    "        pre = get_active(driver) # pre = driver.find_element(By.XPATH,\"//td[@class='active day']\").text   \n",
    "        driver.find_element_by_xpath(f'/html/body/content/div/div[2]/div[3]/div/div/div[2]/div/div[7]/div/div/div[1]/table/tbody/tr[{row}]/td[{col}]').click()\n",
    "        post = get_active(driver) # driver.find_element(By.XPATH,\"//td[@class='active day']\").text\n",
    "        if pre!=post:\n",
    "            # OBTENEMOS REFERENCIAS PARA FECHA\n",
    "            # calendar = driver.find_element_by_xpath('/html/body/content/div/div[2]/div[3]/div/div/div[2]/div/div[7]/div')\n",
    "            mes = driver.find_element_by_xpath('//*[@id=\"divCalendario\"]/div/div[1]/table/thead/tr[2]/th[2]').text \n",
    "            dia = driver.find_element_by_xpath('//*[@id=\"divCalendario\"]/div/div[1]/table/tbody/tr[2]/td[2]').text \n",
    "            if row ==1 & int(dia)>10:\n",
    "                print(f'dia_mes_previo:{dia}')\n",
    "                continue\n",
    "                \n",
    "            if (row >6) & (int(dia)<10):\n",
    "                \n",
    "                print(f'dia_mes_siguiente:{dia}')\n",
    "                continue\n",
    "                \n",
    "            doc_name = mes.replace(' ','_').lower()+'_'+dia+'_segunda_seccion.pdf'\n",
    "            print(doc_name)\n",
    "            # SCRIPT PARA DESCARGAR PDF\n",
    "            driver.find_element_by_xpath('/html/body/content/div/div[2]/div[1]/div[1]/div[2]/a[2]').click()\n",
    "            # Wait for the new tab to open\n",
    "            time.sleep(5)  # Increase or decrease the time if needed\n",
    "            # Switch to the new tab\n",
    "            last = len(driver.window_handles)\n",
    "            driver.switch_to.window(driver.window_handles[last-1])\n",
    "            pdf_url = driver.current_url\n",
    "            pdf_response = requests.get(pdf_url)\n",
    "            with open(doc_name, \"wb\") as f:\n",
    "                f.write(pdf_response.content)"
   ]
  },
  {
   "cell_type": "code",
   "execution_count": 186,
   "id": "62ac0e73-13f8-42b9-88f0-66086a5182a8",
   "metadata": {},
   "outputs": [],
   "source": [
    "# DESCARGAMOS PDF\n",
    "for row in range(1,3):\n",
    "    pre = len(driver.window_handles)\n",
    "    driver.find_element_by_xpath(f'/html/body/content/div/div[2]/div[3]/div/div/div[2]/div/div[7]/div/div/div[1]/table/tbody/tr[{row}]/td[1]').click()\n",
    "    post = len(driver.window_handles)\n",
    "    if pre!=post:\n",
    "        # try:\n",
    "            # OBTENEMOS REFERENCIAS PARA FECHA\n",
    "            calendar = driver.find_element_by_xpath('/html/body/content/div/div[2]/div[3]/div/div/div[2]/div/div[7]/div')\n",
    "            mes = calendar.find_element_by_xpath('//*[@id=\"divCalendario\"]/div/div[1]/table/thead/tr[2]/th[2]').text \n",
    "            dia = calendar.find_element_by_xpath('//*[@id=\"divCalendario\"]/div/div[1]/table/tbody/tr[2]/td[2]').text \n",
    "            doc_name = mes.replace(' ','_').lower()+'_'+dia+'_segunda_seccion.pdf'\n",
    "            # SCRIPT PARA DESCARGAR PDF\n",
    "            driver.find_element_by_xpath('/html/body/content/div/div[2]/div[1]/div[1]/div[2]/a[2]').click()\n",
    "            # Wait for the new tab to open\n",
    "            time.sleep(5)  # Increase or decrease the time if needed\n",
    "            # Switch to the new tab\n",
    "            last = len(driver.window_handles)\n",
    "            driver.switch_to.window(driver.window_handles[last])\n",
    "            pdf_url = driver.current_url\n",
    "            pdf_response = requests.get(pdf_url)\n",
    "            with open(doc_name, \"wb\") as f:\n",
    "                f.write(pdf_response.content)\n",
    "        # except:\n",
    "        #     pass"
   ]
  },
  {
   "cell_type": "markdown",
   "id": "26651b8e-3364-487f-81ba-f3f995d7029b",
   "metadata": {},
   "source": [
    "---"
   ]
  },
  {
   "cell_type": "code",
   "execution_count": null,
   "id": "3e7c607c-6bb1-4938-8605-18c34d480005",
   "metadata": {},
   "outputs": [],
   "source": [
    "# REPETIMOS OPERACIÓN"
   ]
  },
  {
   "cell_type": "code",
   "execution_count": 293,
   "id": "5945b114-1b55-4d8b-a7cf-569c9bfaa85f",
   "metadata": {},
   "outputs": [],
   "source": []
  },
  {
   "cell_type": "code",
   "execution_count": 311,
   "id": "d23e29ad-d1d3-450a-9413-7b4f9eebf1d6",
   "metadata": {},
   "outputs": [],
   "source": [
    "mes_siguiente()"
   ]
  },
  {
   "cell_type": "code",
   "execution_count": 301,
   "id": "55e8037d-b857-428c-9b12-68e316583b5c",
   "metadata": {},
   "outputs": [],
   "source": [
    "mes_previo()"
   ]
  }
 ],
 "metadata": {
  "kernelspec": {
   "display_name": "Python 3 (ipykernel)",
   "language": "python",
   "name": "python3"
  },
  "language_info": {
   "codemirror_mode": {
    "name": "ipython",
    "version": 3
   },
   "file_extension": ".py",
   "mimetype": "text/x-python",
   "name": "python",
   "nbconvert_exporter": "python",
   "pygments_lexer": "ipython3",
   "version": "3.10.4"
  }
 },
 "nbformat": 4,
 "nbformat_minor": 5
}
