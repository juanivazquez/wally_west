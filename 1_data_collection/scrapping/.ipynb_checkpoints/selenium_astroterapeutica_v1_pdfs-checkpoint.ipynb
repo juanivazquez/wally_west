{
 "cells": [
  {
   "cell_type": "code",
   "execution_count": null,
   "id": "45d0a03f-b31f-4536-ba0c-8477441b07ce",
   "metadata": {},
   "outputs": [],
   "source": [
    "Thsi notebook iterates over a course and retrieves the data from each page as an html.\n",
    "Then, by parsing it with B.Soup it collects the title of each class and the video link.\n",
    "Finally, with Pytube it iterates over a list with links and stores the videos as mp4 to a local folder."
   ]
  },
  {
   "cell_type": "markdown",
   "id": "3899c67e-8d76-412c-9f15-afdb5643faa3",
   "metadata": {},
   "source": [
    "# SETTINGS"
   ]
  },
  {
   "cell_type": "code",
   "execution_count": 1,
   "id": "7b4d4fce-6a15-4c48-be2d-ac5314f574e7",
   "metadata": {},
   "outputs": [],
   "source": [
    "from selenium import webdriver\n",
    "from selenium.webdriver.common.keys import Keys\n",
    "from selenium.webdriver.support import expected_conditions as EC\n",
    "from selenium.webdriver.common.by import By\n",
    "from selenium.webdriver.support.wait import WebDriverWait\n",
    "from webdriver_manager.chrome import ChromeDriverManager\n",
    "from bs4 import BeautifulSoup\n",
    "import time\n",
    "ID = \"id\"\n",
    "NAME = \"name\"\n",
    "XPATH = \"xpath\"\n",
    "LINK_TEXT = \"link text\"\n",
    "PARTIAL_LINK_TEXT = \"partial link text\"\n",
    "TAG_NAME = \"tag name\"\n",
    "CLASS_NAME = \"class name\"\n",
    "CSS_SELECTOR = \"css selector\""
   ]
  },
  {
   "cell_type": "code",
   "execution_count": 22,
   "id": "82c3e0f5-8818-44b0-add4-088128352ab7",
   "metadata": {},
   "outputs": [],
   "source": [
    "import random\n",
    "from time import sleep\n",
    "from selenium import webdriver\n",
    "from webdriver_manager.chrome import ChromeDriverManager\n",
    "\n",
    "driver = webdriver.Chrome(ChromeDriverManager().install())\n",
    "# driver.get('https://www.olx.com.ar/autos_c378')"
   ]
  },
  {
   "cell_type": "markdown",
   "id": "676f01d9-bdb7-4cbe-bbef-fe313133382d",
   "metadata": {},
   "source": [
    "# SCRAPPING"
   ]
  },
  {
   "cell_type": "markdown",
   "id": "06c8fb97-bf0f-4c66-a4e6-f9ae41ec78a8",
   "metadata": {},
   "source": [
    "## Connection"
   ]
  },
  {
   "cell_type": "code",
   "execution_count": 23,
   "id": "125dc89b-5d42-474e-8058-1c080a180bcc",
   "metadata": {},
   "outputs": [],
   "source": [
    "url_login= 'https://www.astroterapeutica.com/login'\n",
    "driver.get(url_login)\n"
   ]
  },
  {
   "cell_type": "code",
   "execution_count": 24,
   "id": "1fad5add-4e72-4f8d-b82a-1bdc2b633973",
   "metadata": {},
   "outputs": [],
   "source": [
    "username = driver.find_element_by_xpath(\"//*[@id=\\\"member_email\\\"]\")\n",
    "password = driver.find_element_by_xpath(\"//*[@id=\\\"member_password\\\"]\")\n",
    "remember = driver.find_element_by_xpath(\"//*[@id=\\\"member_remember_me\\\"]\")\n",
    "enter = driver.find_element_by_xpath(\"//*[@id=\\\"form-button\\\"]\") \n"
   ]
  },
  {
   "cell_type": "code",
   "execution_count": 25,
   "id": "bfabb9c4-aa0b-48eb-8902-d53b3ba24a30",
   "metadata": {},
   "outputs": [],
   "source": [
    "username.send_keys(\"vanesaplauck@hotmail.com\")\n",
    "password.send_keys(\"+gE4HJKLV9\")\n",
    "remember.click()\n",
    "enter.click()"
   ]
  },
  {
   "cell_type": "code",
   "execution_count": null,
   "id": "8c62ff89-6b8c-489b-be44-1e360800ae1b",
   "metadata": {},
   "outputs": [],
   "source": [
    "//*[@id=\"block-1555988487706\"]/div/div[1]/div/span[1]/a"
   ]
  },
  {
   "cell_type": "code",
   "execution_count": 31,
   "id": "2a2cf29b-5964-4f4c-b5bb-6ca9ca458151",
   "metadata": {},
   "outputs": [],
   "source": [
    "user_avatar = driver.find_element_by_xpath(\"//*[@id=\\\"block-1555988487706\\\"]/div/div[1]/a/img\")\n",
    "user_avatar.click()\n",
    "\n",
    "\n",
    "mis_cursos = driver.find_element_by_xpath(\"//*[@id=\\\"block-1555988487706\\\"]/div/div[1]/div/span[1]/a\")\n",
    "mis_cursos.click()"
   ]
  },
  {
   "cell_type": "code",
   "execution_count": 32,
   "id": "4473b347-7562-4ff2-9f3a-8d5847e870e0",
   "metadata": {},
   "outputs": [],
   "source": [
    "ver_curso = driver.find_element_by_xpath(\"//*[@id=\\\"section-1596053467662\\\"]/section/div/div/div/div[2]/div/div/div[2]/a\")\n",
    "ver_curso.click()"
   ]
  },
  {
   "cell_type": "code",
   "execution_count": null,
   "id": "b57d7e65-b911-40c1-863b-5195ec50555a",
   "metadata": {},
   "outputs": [],
   "source": [
    "ver_curso = driver.find_element_by_xpath(\"//*[@id=\\\"section-1596053467662\\\"]/section/div/div/div/div[2]/div/div/div[2]/a\")\n",
    "ver_curso.click()\n",
    "# https://www.astroterapeutica.com/products/formacion-online-completa\n"
   ]
  },
  {
   "cell_type": "code",
   "execution_count": 33,
   "id": "9e8c1f23-e137-44ed-8b01-eb454e08a41f",
   "metadata": {},
   "outputs": [],
   "source": [
    "bienvenida_a_la_Formacion = driver.find_element_by_xpath(\"//*[@id=\\\"category-2151544260\\\"]/div\")\n",
    "bienvenida_a_la_Formacion.click()"
   ]
  },
  {
   "cell_type": "code",
   "execution_count": 34,
   "id": "7c86fc7c-049a-49c3-84a8-ca56314aa7f3",
   "metadata": {},
   "outputs": [],
   "source": [
    "bienvenida_a_la_Formacion = driver.find_element_by_xpath(\"//*[@id=\\\"post-2162490456\\\"]/a/div\")\n",
    "bienvenida_a_la_Formacion.click()"
   ]
  },
  {
   "cell_type": "markdown",
   "id": "b4eda3bd-8a44-4f3f-b9b6-09095b7fd466",
   "metadata": {},
   "source": [
    "---"
   ]
  },
  {
   "cell_type": "markdown",
   "id": "20561035-0860-49a6-af2e-18d909af55bc",
   "metadata": {},
   "source": [
    "### Scrapping"
   ]
  },
  {
   "cell_type": "markdown",
   "id": "38c409fa-271f-4128-8142-b98e9b38be6b",
   "metadata": {},
   "source": [
    "Link to first video:\n",
    "    \n",
    " -    https://www.astroterapeutica.com/products/formacion-online-completa/categories/2151544260/posts/2162490456"
   ]
  },
  {
   "cell_type": "code",
   "execution_count": null,
   "id": "6f2ba5d1-d747-4043-afa7-8fe8ad14397b",
   "metadata": {},
   "outputs": [],
   "source": [
    "from bs4 import BeautifulSoup\n",
    "import json\n",
    "import pandas as pd\n",
    "import time\n",
    "time.sleep(1)"
   ]
  },
  {
   "cell_type": "code",
   "execution_count": 178,
   "id": "53fd1c95-b5c4-4b3b-8271-78c82913ac74",
   "metadata": {},
   "outputs": [],
   "source": [
    "def get_vids(n=3):\n",
    "    url_ls = []\n",
    "    title_ls = []\n",
    "    n_ls = []\n",
    "    \n",
    "    for _ in range(n):\n",
    "        \n",
    "        # get html:\n",
    "        html = driver.page_source\n",
    "        soup = BeautifulSoup(html)\n",
    "            \n",
    "        # get number:\n",
    "        n_ls.append(_)\n",
    "        # get title:\n",
    "        div_element = soup.find('div', class_='breadcrumbs__crumb', attrs={'kjb-settings-id': 'sections_breadcrumbs_settings_color_active'})       \n",
    "        if div_element:\n",
    "            text = div_element.get_text(strip=True)\n",
    "            # print(\"Title:\", text)\n",
    "        else:\n",
    "            text = None\n",
    "        \n",
    "        title_ls.append(text)\n",
    "        \n",
    "        # get vids:\n",
    "        json_ld_script = soup.find('script', type='application/ld+json')\n",
    "        if json_ld_script:\n",
    "            json_data = json.loads(json_ld_script.string)\n",
    "            # Extract the contentUrl\n",
    "            content_url = json_data.get('contentUrl')\n",
    "        else:\n",
    "            content_url = None\n",
    "        \n",
    "        url_ls.append(content_url)\n",
    "        \n",
    "        print(f\"N°{_} - Title: {text} : url:{content_url}\")\n",
    "        \n",
    "        # go to next\n",
    "        try:\n",
    "            siguiente = driver.find_element_by_xpath(\"//*[@id=\\\"section-post_player\\\"]/div/div/div[3]/div/div[3]/a\")\n",
    "            siguiente.click()          \n",
    "        except:\n",
    "            print(f'exception during {_} - test refresh')\n",
    "            driver.refresh()\n",
    "            time.sleep(60)\n",
    "            try:\n",
    "                siguiente = driver.find_element_by_xpath(\"//*[@id=\\\"section-post_player\\\"]/div/div/div[3]/div/div[3]/a\")\n",
    "                siguiente.click()  \n",
    "            except:                \n",
    "                print(f'exception during {_} - refresh failed')\n",
    "                pass\n",
    "    temp = pd.DataFrame({'n':range(n),'title':title_ls,'url':url_ls})\n",
    "    return     temp"
   ]
  },
  {
   "cell_type": "code",
   "execution_count": 169,
   "id": "b17ab0d7-82f6-4b57-bc71-72d029601bb9",
   "metadata": {},
   "outputs": [],
   "source": [
    "# get html:\n",
    "html = driver.page_source\n",
    "soup = BeautifulSoup(html)\n",
    "\n",
    "\n",
    "# get number:\n",
    "\n",
    "# get title:\n",
    "div_element = soup.find('div', class_='breadcrumbs__crumb', attrs={'kjb-settings-id': 'sections_breadcrumbs_settings_color_active'})\n",
    "\n",
    "if div_element:\n",
    "    text = div_element.get_text(strip=True)\n",
    "    # print(\"Title:\", text)\n",
    "else:\n",
    "    text = None\n",
    "\n",
    "title_ls.append(text)\n",
    "\n",
    "# get vids:\n",
    "json_ld_script = soup.find('script', type='application/ld+json')\n",
    "if json_ld_script:\n",
    "    json_data = json.loads(json_ld_script.string)\n",
    "    # Extract the contentUrl\n",
    "    content_url = json_data.get('contentUrl')\n",
    "    if content_url:\n",
    "        print(\"URL:\", content_url)    \n",
    "    else:\n",
    "        content_url = None"
   ]
  },
  {
   "cell_type": "code",
   "execution_count": 175,
   "id": "d66a56bd-2db0-44de-801a-c64251d309b1",
   "metadata": {},
   "outputs": [
    {
     "data": {
      "text/plain": [
       "'https://embed-ssl.wistia.com/deliveries/94f964e01717c651dea4090e898f6c139f2935f0.m3u8'"
      ]
     },
     "execution_count": 175,
     "metadata": {},
     "output_type": "execute_result"
    }
   ],
   "source": [
    "content_url"
   ]
  },
  {
   "cell_type": "code",
   "execution_count": 176,
   "id": "544390c8-2bff-4338-aa2f-c4dab33cae4f",
   "metadata": {},
   "outputs": [],
   "source": [
    "driver.refresh()"
   ]
  },
  {
   "cell_type": "code",
   "execution_count": 181,
   "id": "061d121d-b81b-4131-a9af-60b781e64468",
   "metadata": {},
   "outputs": [
    {
     "data": {
      "text/plain": [
       "'https://embed-ssl.wistia.com/deliveries/affd999bfaf9d577c72e4fa8cec9c0e19e884867.m3u8'"
      ]
     },
     "execution_count": 181,
     "metadata": {},
     "output_type": "execute_result"
    }
   ],
   "source": [
    "df_2.url[1]"
   ]
  },
  {
   "cell_type": "code",
   "execution_count": 179,
   "id": "6a9150e8-6bd5-4ced-b23d-5f24673d5be7",
   "metadata": {},
   "outputs": [
    {
     "name": "stdout",
     "output_type": "stream",
     "text": [
      "N°0 - Title: Test Módulo XII : url:None\n",
      "N°1 - Title: Cápsula: Plutón en las Relaciones : url:https://embed-ssl.wistia.com/deliveries/affd999bfaf9d577c72e4fa8cec9c0e19e884867.m3u8\n",
      "N°2 - Title: Módulo XIII – pt.1 : Sagitario : url:https://embed-ssl.wistia.com/deliveries/43a529bd21ef4f737774e47bc2383e2a3bc0ebb7.m3u8\n",
      "N°3 - Title: Módulo XIII – pt.2 : Júpiter : url:https://embed-ssl.wistia.com/deliveries/d23b1940e24011b60eb9f03abdde5064b1268952.m3u8\n",
      "N°4 - Title: Módulo XIII – pt.3 : Sol en Sagitario : url:https://embed-ssl.wistia.com/deliveries/a6d8e1cb5eebe0bb1e2200409e7377c93cddaddf.m3u8\n",
      "N°5 - Title: Módulo XIII – pt.4 : Luna en Sagitario e Instrucción Luna – Júpiter : url:https://embed-ssl.wistia.com/deliveries/61b504064035b9c4f72872b6612f9f8d19744de3.m3u8\n",
      "N°6 - Title: Test Módulo XIII : url:None\n",
      "exception during 6 - test refresh\n",
      "N°7 - Title: Módulo XIV – pt.1 : Capricornio : url:https://embed-ssl.wistia.com/deliveries/c1cc0b3a9b40cf0f4483c01820c06060296e7a65.m3u8\n",
      "N°8 - Title: Módulo XIV – pt.2 : Saturno : url:https://embed-ssl.wistia.com/deliveries/dce3b12135bcc32af811bf80ab470eec7ef8599c.m3u8\n",
      "N°9 - Title: Módulo XIV – pt.3 : Sol en Capricornio : url:https://embed-ssl.wistia.com/deliveries/47c19586c64bd8fb2bdeba492bdd83009cbfd273.m3u8\n",
      "N°10 - Title: Módulo XIV – pt.4 : Luna en Capricornio e Instrucción Luna – Saturno : url:https://embed-ssl.wistia.com/deliveries/6bceaf47e20ef6d8eada9e2eebf75d4dd42b8b34.m3u8\n",
      "N°11 - Title: Test Módulo XIV : url:None\n",
      "exception during 11 - test refresh\n",
      "N°12 - Title: Cápsula: Ciclos Saturninos del Tiempo : url:https://embed-ssl.wistia.com/deliveries/222b2faea32c16776efbb1d856d65b6e50b8dd17.m3u8\n",
      "N°13 - Title: Cápsula: Primer Septenio – 7 a 8 años de edad : url:https://embed-ssl.wistia.com/deliveries/b61c72625ce7352f391222801292acf961d4bad7.m3u8\n",
      "N°14 - Title: Cápsula: Saturno en las Relaciones : url:https://embed-ssl.wistia.com/deliveries/d7b2d6b4daabfa4bc15e981b16dc3024cbdaeef8.m3u8\n",
      "N°15 - Title: Módulo XV – pt.1 : Acuario : url:https://embed-ssl.wistia.com/deliveries/de5091ae7fcb80d4b44c56b4156148bd80a4c1af.m3u8\n",
      "N°16 - Title: Módulo XV – pt.2 : Urano : url:https://embed-ssl.wistia.com/deliveries/01a9777379bb1aff6d1aae18bfea4b00a1990953.m3u8\n",
      "N°17 - Title: Módulo XV – pt.3 : Sol en Acuario : url:https://embed-ssl.wistia.com/deliveries/8b2968b147d850746dbbb5ef86192cf4981414bf.m3u8\n",
      "N°18 - Title: Módulo XV – pt.4 : Luna en Acuario e Instrucción Luna – Urano : url:https://embed-ssl.wistia.com/deliveries/02f09e97c29998659182ed2ca7e67f7eaa034942.m3u8\n",
      "N°19 - Title: Test Módulo XV : url:None\n",
      "exception during 19 - test refresh\n",
      "N°20 - Title: Cápsula: Urano en las Relaciones : url:https://embed-ssl.wistia.com/deliveries/8dede9fb8d2a3159d318a79d7e3bbf28ef1b44b8.m3u8\n",
      "N°21 - Title: Módulo XVI – pt.1 : Piscis : url:https://embed-ssl.wistia.com/deliveries/10717300db6e31ffd8b1405f8b7cf8991554140b.m3u8\n",
      "N°22 - Title: Módulo XVI – pt.2 : Neptuno : url:https://embed-ssl.wistia.com/deliveries/c71819cbd394b29eb70e237d054bd3649200fc3f.m3u8\n",
      "N°23 - Title: Módulo XVI – pt.3 : Sol en Piscis : url:https://embed-ssl.wistia.com/deliveries/7be776bf57c61ed2c02a2bb1f0f259462db03d38.m3u8\n",
      "N°24 - Title: Módulo XVI – pt.4 : Luna en Piscis e Instrucción Luna – Neptuno : url:https://embed-ssl.wistia.com/deliveries/8ffe3b8fd3c8cd83c04132b15c3ac9bc93090245.m3u8\n",
      "N°25 - Title: Test Módulo XVI : url:None\n",
      "exception during 25 - test refresh\n",
      "N°26 - Title: Dignidades planetarias (Planetas en Domicilio, Exilio, Exaltación y Caída) : url:https://embed-ssl.wistia.com/deliveries/e87ca8d4cb35ebdade48ad343d43ee1803f26c1e.m3u8\n",
      "N°27 - Title: Sol y Luna: Domicilio, Exaltación, Exilio, Caída : url:https://embed-ssl.wistia.com/deliveries/507aea814eca51a6e4493fc5c83ec1d1262574fa.m3u8\n",
      "N°28 - Title: Dignidades planetarias – Mercurio: Domicilio, Exaltación, Exilio, Caída : url:https://embed-ssl.wistia.com/deliveries/96b34e159091b983a314afcfb53fcdbb0c01826f.m3u8\n",
      "N°29 - Title: Dignidades planetarias – Venus y Marte: Domicilio, Exaltación, Exilio, Caída : url:https://embed-ssl.wistia.com/deliveries/6561b5c81caabb34fd894d079806c98cfefededf.m3u8\n",
      "N°30 - Title: Dignidades planetarias – Saturno: Domicilio, Exaltación, Exilio, Caída : url:https://embed-ssl.wistia.com/deliveries/70b89d95dfdb0ff93ac6cef72520ed1d1dde4292.m3u8\n",
      "N°31 - Title: Dignidades planetarias – Júpiter: Domicilio, Exaltación, Exilio, Caída : url:https://embed-ssl.wistia.com/deliveries/a8a751beddc87af43f6f052bf96e13aaaebf560f.m3u8\n",
      "N°32 - Title: Síntesis del Proceso Evolutivo que representa cada signo Parte I (de Aries a Virgo) : url:https://embed-ssl.wistia.com/deliveries/35bc02c7344a573535ff75413b073b05f06edd04.m3u8\n",
      "N°33 - Title: Síntesis del Proceso Evolutivo que representa cada signo Parte II (de Libra a Piscis) : url:https://embed-ssl.wistia.com/deliveries/3b6964d464269046f15703e47643805536fa5766.m3u8\n",
      "N°34 - Title: Bienvenida a la Parte III : url:https://embed-ssl.wistia.com/deliveries/42396cef168ff7fbccb99ee285df02067c9322c4.m3u8\n",
      "N°35 - Title: Programa Parte III : url:None\n",
      "N°36 - Title: Material de Apoyo y Contenido para el Estudiante Parte III : url:None\n",
      "N°37 - Title: Módulo XVII: Exceso o Déficit de los 4 Elementos en la Carta Natal : url:https://embed-ssl.wistia.com/deliveries/cb7f252129dcc2b8eecf1179a484bb5bd77aa93a.m3u8\n",
      "N°38 - Title: Módulo XVII: Interpretación práctica de cartas natales, enfocada en la distribución de los 4 elementos : url:https://embed-ssl.wistia.com/deliveries/f7592b183ed210746d3fdec07659e48b2dfe3bd6.m3u8\n",
      "N°39 - Title: Test Módulo XVII : url:None\n",
      "exception during 39 - test refresh\n",
      "N°40 - Title: Módulo XVIII: Interpretación centrada en el Mecanismo Lunar: Signo Lunar y Planetas aspectados a Luna. : url:https://embed-ssl.wistia.com/deliveries/bf64a47c35e6ecaf51fe485e3fc06bfda733ffb0.m3u8\n",
      "N°41 - Title: Módulo XVIII: Estudio de casos de niños y adultos : url:https://embed-ssl.wistia.com/deliveries/68d1db836d4d6673ef82adc035da5f7ab190f8a2.m3u8\n",
      "N°42 - Title: Test Módulo XVIII : url:None\n",
      "exception during 42 - test refresh\n",
      "N°43 - Title: Módulo XIX: Aspectos Astrológicos : url:https://embed-ssl.wistia.com/deliveries/3352b828fd5c89a136190510033adaa293a7b681.m3u8\n",
      "N°44 - Title: Cápsula: Consejos para interpretar Aspectos Astrológicos- : url:https://embed-ssl.wistia.com/deliveries/da9e720653eac9e922056b27013c5cc4739129bc.m3u8\n",
      "N°45 - Title: Cápsula: Repaso Detallado De Aspectos – Parte I : url:https://embed-ssl.wistia.com/deliveries/a9c5dd44727dfdb17c8bee454a029f3b9e1e3843.m3u8\n",
      "N°46 - Title: Cápsula: Repaso Detallado De Aspectos – Parte II- Conjunción : url:https://embed-ssl.wistia.com/deliveries/cf0f619a32b04fd1f788686af6e8a74bc538080b.m3u8\n",
      "N°47 - Title: Cápsula: Repaso Detallado De Aspectos – Parte III-Oposición y Cuadratura : url:https://embed-ssl.wistia.com/deliveries/e84c313fe7f6dde3d1a84b8c0f215f2d60f68f18.m3u8\n",
      "N°48 - Title: Cápsula: Repaso Detallado De Aspectos – Parte IV : url:https://embed-ssl.wistia.com/deliveries/d16512e27729d5de09bf1c1699861c0b2a6f56e2.m3u8\n",
      "N°49 - Title: Test Módulo XIX : url:None\n",
      "exception during 49 - test refresh\n",
      "N°50 - Title: Módulo XX: Quirón, el Sanador Herido : url:https://embed-ssl.wistia.com/deliveries/f7e799e19648ee9c079b65b2de62bdf93ce94b40.m3u8\n",
      "N°51 - Title: Módulo XX: Estudio de Quirón aspectado con planetas Personales y Sociales : url:https://embed-ssl.wistia.com/deliveries/881166fc4445d957e641a9e9d46ded586d901598.m3u8\n",
      "N°52 - Title: Test Módulo XX : url:None\n",
      "exception during 52 - test refresh\n",
      "N°53 - Title: Módulo XXI: Aspectos al Sol – Parte 1 : url:https://embed-ssl.wistia.com/deliveries/19ccf0956b758952062d56d0fbb9d037b9fa9b45.m3u8\n",
      "N°54 - Title: Módulo XXI: Aspectos al Sol – Parte 2 : url:https://embed-ssl.wistia.com/deliveries/33fa6762b42763ea9f12d2574a5285044564dab8.m3u8\n",
      "N°55 - Title: Test Módulo XXI : url:None\n",
      "exception during 55 - test refresh\n",
      "N°56 - Title: Bienvenida a la Parte IV : url:https://embed-ssl.wistia.com/deliveries/b54ec85335090c0c353a85db2a58d4f53679795f.m3u8\n",
      "N°57 - Title: Programa Parte IV : url:None\n",
      "N°58 - Title: Material de Apoyo y Contenido para el Estudiante Parte IV : url:None\n",
      "N°59 - Title: Módulo XXII – Introducción a las Casas : url:https://embed-ssl.wistia.com/deliveries/fa443f969e131fdb8b08d49f105e27b37e78818a.m3u8\n",
      "N°60 - Title: Módulo XXII – Casa I a IV : url:https://embed-ssl.wistia.com/deliveries/cb91c47ccebec5b54be543bb979473729c832411.m3u8\n",
      "N°61 - Title: Módulo XXII – Casa V a VIII : url:https://embed-ssl.wistia.com/deliveries/9edbc17f8f0ca3d2e080e6e3e810b47447ebe5b9.m3u8\n",
      "N°62 - Title: Módulo XXII – Casa IX a XII : url:https://embed-ssl.wistia.com/deliveries/28701b8bfcbf58b5646ff3fe390b951859e66ecb.m3u8\n",
      "N°63 - Title: Módulo XXII – Cápsula: Casas de Agua (CASA IV) - Parte 1 : url:https://embed-ssl.wistia.com/deliveries/86a4f31178c2d4aa4219e2b3d3b803e3884a1bf1.m3u8\n",
      "N°64 - Title: Módulo XXII – Cápsula: Casas de Agua (CASA IV) - Parte 2 : url:https://embed-ssl.wistia.com/deliveries/34e21fd2156dd6e90d03d990459e791856ee27ad.m3u8\n",
      "N°65 - Title: Módulo XXII – Cápsula: Casas de Agua (CASA IV) - Parte 3 : url:https://embed-ssl.wistia.com/deliveries/39267e92a064fbe57e51e7105512b71fd600e606.m3u8\n",
      "N°66 - Title: Módulo XXII – Cápsula: Casas de Agua (CASA IV) - Parte 4 : url:https://embed-ssl.wistia.com/deliveries/29898757487fa69a994c07f3e0b021580889aa96.m3u8\n",
      "N°67 - Title: Módulo XXII – Cápsula: Casas de Agua (CASA IV) - Parte 5 : url:https://embed-ssl.wistia.com/deliveries/434094bf3e33d23be2cc91508a413db11c89821f.m3u8\n",
      "N°68 - Title: Módulo XXII – Cápsula: Casas de Agua (CASA IV) - Parte 6 : url:https://embed-ssl.wistia.com/deliveries/1221bf93ff0f6e85047975b5dc995b358568b35e.m3u8\n",
      "N°69 - Title: Módulo XXII – Cápsula Casas de Agua (CASA VIII) : url:https://embed-ssl.wistia.com/deliveries/c9a9b031fc3de558cec729012b109ba63464b252.m3u8\n",
      "N°70 - Title: Módulo XXII – Cápsula: Casas de Agua (CASA XII) -Disertación Pablo : url:https://embed-ssl.wistia.com/deliveries/57cb77a301e1c6fe5275f897150a844f936c80c5.m3u8\n",
      "N°71 - Title: Módulo XXII – Cápsula: Casas de Agua (CASA XII) - Webinar Temático-Pablo : url:https://embed-ssl.wistia.com/deliveries/fa279ff45dc9eb3f6a069d5cf315b5514b16e2dc.m3u8\n",
      "N°72 - Title: Módulo XXII – Cápsula: Casas de Agua (CASA XII) - Planetas en casa XII-Pilar : url:https://embed-ssl.wistia.com/deliveries/335f82a75260277c585ddc10957c6ad7ba3bd76e.m3u8\n",
      "N°73 - Title: Test Módulo XXII : url:None\n",
      "exception during 73 - test refresh\n",
      "N°74 - Title: Módulo XXIII Luna por Casas parte 1 : url:https://embed-ssl.wistia.com/deliveries/34b291d3a206065e28be7e3fb730b3f060e663aa.m3u8\n",
      "N°75 - Title: Módulo XXIII Luna por Casas parte 2 : url:https://embed-ssl.wistia.com/deliveries/16a719868e639c466b138b57753004a26fd1b8a8.m3u8\n",
      "N°76 - Title: Módulo XXIII Luna por Casas parte 3 : url:https://embed-ssl.wistia.com/deliveries/706483b320d1de89186abae601cfe4e2856515cf.m3u8\n",
      "N°77 - Title: Módulo XXIII Clase Práctica 1 : url:https://embed-ssl.wistia.com/deliveries/be472e1773af1ab1dede7448c443f69f002953dc.m3u8\n",
      "N°78 - Title: Módulo XXIII Clase Práctica 2 : url:https://embed-ssl.wistia.com/deliveries/7148f8ef5a3a94bf4bcd737647a80340419d5244.m3u8\n",
      "N°79 - Title: Test Módulo XXIII : url:None\n",
      "exception during 79 - test refresh\n",
      "N°80 - Title: Módulo XXIV Ascendente Parte 1 : url:https://embed-ssl.wistia.com/deliveries/ad3004beafe197dbfeab2ec1a6197219f358a505.m3u8\n",
      "N°81 - Title: Módulo XXIV Ascendente Parte 2 : url:https://embed-ssl.wistia.com/deliveries/ed58246888d6f26b251e9602e969892952b963ce.m3u8\n",
      "N°82 - Title: Módulo XXIV Ascendente Parte 3 : url:https://embed-ssl.wistia.com/deliveries/ffed98982eadccf39d32d51d736ef7006cc81b9b.m3u8\n",
      "N°83 - Title: Módulo XXIV Estudio Práctico : url:https://embed-ssl.wistia.com/deliveries/de418f29affe94cb666515271812963ca0fad3e5.m3u8\n",
      "N°84 - Title: Módulo XXIV Cápsulas: Ascendentes - ARIES : url:https://embed-ssl.wistia.com/deliveries/52308e4f04c6a2af173a8255d73588bc8a3f2f2b.m3u8\n",
      "N°85 - Title: Módulo XXIV Cápsulas: Ascendentes - TAURO : url:https://embed-ssl.wistia.com/deliveries/dbf2ab22296291fb5a71431362777579bcbcaff9.m3u8\n",
      "N°86 - Title: Módulo XXIV Cápsulas: Ascendentes - GEMINIS : url:https://embed-ssl.wistia.com/deliveries/ceb5eb33d9cada233891aec2b664b28b03650789.m3u8\n",
      "N°87 - Title: Módulo XXIV Cápsulas: Ascendentes - CÁNCER : url:https://embed-ssl.wistia.com/deliveries/b1a13486e17f854810f5eb1e6b80c14d5ff5881f.m3u8\n",
      "N°88 - Title: Módulo XXIV Cápsulas: Ascendentes - LEO : url:https://embed-ssl.wistia.com/deliveries/21e24cc2ab6c51cb9c25b6cb8ad9efd83411f2c2.m3u8\n",
      "N°89 - Title: Módulo XXIV Cápsulas: Ascendentes - VIRGO : url:https://embed-ssl.wistia.com/deliveries/0183f2949e7fa6c916613cdd3ea4483eff4363c7.m3u8\n",
      "N°90 - Title: Módulo XXIV Cápsulas: Ascendentes - LIBRA : url:https://embed-ssl.wistia.com/deliveries/2388994a99125e4de909b49aca31e64373631bdd.m3u8\n",
      "N°91 - Title: Módulo XXIV Cápsulas: Ascendentes - ESCORPIO : url:https://embed-ssl.wistia.com/deliveries/3231ea91c0456666000cd1e6e02cef4699f3fe49.m3u8\n",
      "N°92 - Title: Módulo XXIV Cápsulas: Ascendentes - SAGITARIO : url:https://embed-ssl.wistia.com/deliveries/37d11d825bd300efd5fedf6c2f75f1ea8a71b29d.m3u8\n",
      "N°93 - Title: Módulo XXIV Cápsulas: Ascendentes - CAPRICORNIO : url:https://embed-ssl.wistia.com/deliveries/ca5573f3b99a0cd13529696b016cffca5075706f.m3u8\n",
      "N°94 - Title: Módulo XXIV Cápsulas: Ascendentes - ACUARIO : url:https://embed-ssl.wistia.com/deliveries/33c3ca41b7304d1e8ae42e7f10bdcaa89b8d2216.m3u8\n",
      "N°95 - Title: Módulo XXIV Cápsulas: Ascendentes - PISCIS : url:https://embed-ssl.wistia.com/deliveries/333a315e7e3b4658dd82658cb1913b86a14f3d01.m3u8\n",
      "N°96 - Title: Test Módulo XXIV : url:None\n",
      "exception during 96 - test refresh\n",
      "N°97 - Title: Módulo XXV – Quirón por Casas Parte I : url:https://embed-ssl.wistia.com/deliveries/b4d2b22cdd6eebf7c4cfabfef9d4bea6421b168f.m3u8\n",
      "N°98 - Title: Módulo XXV – Quirón por Casas Parte II : url:https://embed-ssl.wistia.com/deliveries/c69b90a7824b0a9ab12ffbfa1d9a7e5c72b6bb74.m3u8\n",
      "N°99 - Title: Módulo XXV – Clase Práctica Quirón : url:https://embed-ssl.wistia.com/deliveries/221a2b393bd4ef7eed3d9b7b80dd8197dfbe689f.m3u8\n",
      "N°100 - Title: Test Módulo XXV : url:None\n",
      "exception during 100 - test refresh\n",
      "N°101 - Title: Saturno (Introducción) : url:https://embed-ssl.wistia.com/deliveries/85e5edad9c06fa937a53bc9231ecb3f5fd1e790e.m3u8\n",
      "N°102 - Title: Saturno en Casa I y II : url:https://embed-ssl.wistia.com/deliveries/5141daa6abe45d047b68ee3894c41f90e569b05f.m3u8\n",
      "N°103 - Title: Saturno en Casa III, IV, V, VI, VII y VIII : url:https://embed-ssl.wistia.com/deliveries/5a3cee3039bc2ace502c93ba68724bcdfe9603a3.m3u8\n",
      "N°104 - Title: Saturno en Casa IX, X y XI : url:https://embed-ssl.wistia.com/deliveries/63b1a1269d8300d15c41fb37ae99a208f3a83f34.m3u8\n",
      "N°105 - Title: Saturno en Casa XII : url:https://embed-ssl.wistia.com/deliveries/d2a2faea6ac913f82099a2bf1226a5bb1bfaca32.m3u8\n",
      "N°106 - Title: Estudio de Neptuno por Casas -Parte I (casa I a VI) : url:https://embed-ssl.wistia.com/deliveries/9acbcd2974450115c4affc5ea27cad3fd8798055.m3u8\n",
      "N°107 - Title: Estudio de Neptuno por Casas -Parte II (casa VII a XII) : url:https://embed-ssl.wistia.com/deliveries/ece7f4f840c6c75f394269f622c1ac0c7db1516c.m3u8\n",
      "N°108 - Title: Módulo XXVI – Clase práctica avanzada Parte I : url:https://embed-ssl.wistia.com/deliveries/ebbbb08b388d1eb08afce70ee510c1b488f68b5d.m3u8\n",
      "N°109 - Title: Módulo XXVI – Clase práctica avanzada Parte II : url:https://embed-ssl.wistia.com/deliveries/c3a3fd31bcebb7966a69f712ec80a348358ef28b.m3u8\n",
      "N°110 - Title: Test Módulo XXVI : url:None\n",
      "exception during 110 - test refresh\n",
      "N°111 - Title: Módulo XXVI Estudio Test : url:None\n",
      "N°112 - Title: Módulo XXVII – Sanación Mecanismo Lunar en Niños : url:https://embed-ssl.wistia.com/deliveries/63f04e8419cf279f90c754857820de7e510621ea.m3u8\n",
      "N°113 - Title: Módulo XXVII – Sanación Mecanismo Lunar en Adultos Parte I : url:https://embed-ssl.wistia.com/deliveries/072c24bf098311a9925444140f56fbfa30b34354.m3u8\n",
      "N°114 - Title: Módulo XXVII – Sanación Mecanismo Lunar en Adultos Parte II : url:https://embed-ssl.wistia.com/deliveries/328aa319da70f00e5b6d5b5aa84342425df1a2b0.m3u8\n",
      "N°115 - Title: Test Módulo XXVII : url:None\n",
      "exception during 115 - test refresh\n",
      "N°116 - Title: Módulo XXVII Estudio Test : url:None\n",
      "N°117 - Title: Módulo XXVIII : url:None\n",
      "N°118 - Title: Masterclass: Maria Blaquier - “Carta Dracónica\" : url:https://embed-ssl.wistia.com/deliveries/a00421bbd399f16e2aa84663cd8487468ba4fb83.m3u8\n",
      "N°119 - Title: Masterclass: Koldo Santiago - “Quirón la identidad en una herida que no somos\" : url:https://embed-ssl.wistia.com/deliveries/9908865efe0cb1725c7e5e1102ed41f69d0865c7.m3u8\n",
      "N°120 - Title: Masterclass: Terapia Floral - \"Astrología y Terapia Floral\" : url:https://embed-ssl.wistia.com/deliveries/9f57ff7579a1c0f8b98d106676fd4e6518a41eb5.m3u8\n",
      "N°121 - Title: Masterclass: Lilith Zaira García - “Lilith – la Luna Negra” : url:https://embed-ssl.wistia.com/deliveries/52c51e82d108fbc2737f9b8ec759776aa40f5201.m3u8\n",
      "N°122 - Title: Masterclass: Sol Millán - \"La mente subconsciente y su efecto sobre aspectos condicionantes\" : url:https://embed-ssl.wistia.com/deliveries/fac5a29d8fa6f0180f6196f3c6108d8c9266c6ee.m3u8\n",
      "N°123 - Title: Masterclass: Sergio Barreiro - “Vinculando la Carta Natal con el Cielo y la Tierra, Introducción al programa Stellarium” : url:https://embed-ssl.wistia.com/deliveries/9c3a0a0ac4e985d64ac15abbf53ca24d395c7dfa.m3u8\n",
      "N°124 - Title: Masterclass: Sofía Vera - “Protección y limpieza energética en la consulta” : url:https://embed-ssl.wistia.com/deliveries/aaf78a5938011059a7f6de84043d3d0bfc3db8cc.m3u8\n",
      "N°125 - Title: Masterclass: Doctor Rodrigo Alcázar - “Astrología y Medicina” : url:https://embed-ssl.wistia.com/deliveries/24441b610173c6ce12219a22187f0a03cd700142.m3u8\n",
      "N°126 - Title: Masterclass: Verónica Correa - “Padres e hijos” : url:https://embed-ssl.wistia.com/deliveries/bcbd6d6676f3efcde15e787342e28ac121d3b678.m3u8\n",
      "N°127 - Title: Masterclass: Jordi Puertas - “La secuencia del Nacimiento: improntas tempranas” : url:https://embed-ssl.wistia.com/deliveries/eafd09ec773ba450635a25729822aa3bc0e9bf7d.m3u8\n",
      "N°128 - Title: Masterclass: Jordi Puertas - \"La experiencia pre-natal desde la perspectiva del bebé\" : url:https://embed-ssl.wistia.com/deliveries/2ce552417217da42dcd3a37be969e932677dc943.m3u8\n",
      "N°129 - Title: Masterclass: Vilma Bustos - \"Herramientas que permiten sanar traumas\" : url:https://embed-ssl.wistia.com/deliveries/41703afa99cc958260edb6b3c890c6c2d6d4e740.m3u8\n",
      "N°130 - Title: Presentación de Facundo Manes recomendada por Vilma Bustos : url:https://embed-ssl.wistia.com/deliveries/8706a75cac900cd4560a4e75863e4e2869d81bb7.m3u8\n",
      "N°131 - Title: Masterclass: Vilma Bustos - “Reparando las heridas traumáticas e invitando al alma a retornar al cuerpo” : url:https://embed-ssl.wistia.com/deliveries/412190482d1aa8104be09fc85de75f4f87bb8c17.m3u8\n",
      "N°132 - Title: Masterclass: Manam - \"La paz más allá de la ansiedad mental, guía para la quietud mental\" : url:https://embed-ssl.wistia.com/deliveries/138a05da332f39bccde266d2aac304a8db86b588.m3u8\n",
      "N°133 - Title: Masterclass: Manam - \"La Voluntad: enraizamiento y estabilidad, el antídoto al estrés\" : url:https://embed-ssl.wistia.com/deliveries/846703941b3db51c0ffd66ef446613a86f2f2bdf.m3u8\n",
      "N°134 - Title: T cuadrada y cruz cósmica- Octubre 2022 : url:https://embed-ssl.wistia.com/deliveries/95a10d10f21741ee61e4d27e0d328b9be77cd1ce.m3u8\n",
      "N°135 - Title: Gran Trígono y Cometa- Noviembre 2022 : url:https://embed-ssl.wistia.com/deliveries/eb8e2f899823ccb006dd41bf36bc70e29f7d7f1a.m3u8\n",
      "N°136 - Title: Yod y stellium-Enero 2023 : url:https://embed-ssl.wistia.com/deliveries/c425da0e5c6422ded951ea16e6fd35233d912f58.m3u8\n",
      "N°137 - Title: Clase práctica: T cuadrada y Cruz cósmica-Marzo 2023 : url:https://embed-ssl.wistia.com/deliveries/ca56578baef45a334adf374f46a12d4c7dcf182a.m3u8\n",
      "N°138 - Title: Clase práctica: Gran trígono y cometa- Abril 2023 : url:https://embed-ssl.wistia.com/deliveries/5d9e2b0c07a98439394ad6c475408337696abe11.m3u8\n",
      "N°139 - Title: Clase práctica: Yod y Stellium- Mayo 2023 : url:https://embed-ssl.wistia.com/deliveries/956d59a08a6364692a030fe977b81c73f56602b0.m3u8\n",
      "N°140 - Title: Calendario Webinar Mes Abril Parte I y II : url:None\n",
      "N°141 - Title: Preguntas históricas – Webinars Parte I y II : url:None\n",
      "N°142 - Title: Webinar I y II - ABRIL - 2024 : url:https://embed-ssl.wistia.com/deliveries/d1b0fa624723c2caaaa855a6c9b135e54a8d32a0.m3u8\n",
      "N°143 - Title: Webinar I y II - MARZO - 2024 : url:https://embed-ssl.wistia.com/deliveries/fdc0afe2df73dd2420644632b22543cc53045bcb.m3u8\n",
      "N°144 - Title: Webinar I y II - FEBRERO - 2024 : url:https://embed-ssl.wistia.com/deliveries/2b4034de837478a31f258e62f73ef43c51c46a35.m3u8\n",
      "N°145 - Title: Webinar I y II - ENERO - 2024 : url:https://embed-ssl.wistia.com/deliveries/53c48f008e13d8a55f356677c57beef949a26931.m3u8\n",
      "N°146 - Title: Webinars I y II - DICIEMBRE - 2023 : url:https://embed-ssl.wistia.com/deliveries/ffa69539641e48314db463bd1b66eea126a12557.m3u8\n",
      "N°147 - Title: Webinars I y II - NOVIEMBRE- 2023 : url:https://embed-ssl.wistia.com/deliveries/40ab52c2999cd78f308a733c4ec8d0d985b0efab.m3u8\n",
      "N°148 - Title: Webinars I y II - OCTUBRE - 2023 : url:https://embed-ssl.wistia.com/deliveries/3ba057b3517d62a0cd1514a10c94e8748d552370.m3u8\n",
      "N°149 - Title: Webinar I y II - SEPTIEMBRE 2023 : url:https://embed-ssl.wistia.com/deliveries/4cbebac455f447c70f46813b8aeae77ffab816c0.m3u8\n"
     ]
    }
   ],
   "source": [
    "df_2 = get_vids(n=150)"
   ]
  },
  {
   "cell_type": "code",
   "execution_count": 133,
   "id": "d5f4bb6a-f48f-432d-80c1-608ff74dbd24",
   "metadata": {},
   "outputs": [
    {
     "name": "stdout",
     "output_type": "stream",
     "text": [
      "N°0 - Title: Bienvenida a la Formación : url:https://embed-ssl.wistia.com/deliveries/352815767cd2506a1ecfd3d96925286a4e5bd23d.m3u8\n",
      "N°1 - Title: Como utilizar la plataforma : url:https://embed-ssl.wistia.com/deliveries/94f964e01717c651dea4090e898f6c139f2935f0.m3u8\n",
      "N°2 - Title: Descarga los apuntes del curso : url:https://embed-ssl.wistia.com/deliveries/94f964e01717c651dea4090e898f6c139f2935f0.m3u8\n",
      "N°3 - Title: ¿Cómo ver los webinars? : url:https://embed-ssl.wistia.com/deliveries/d9e795173bb1eab9a16a1404f87d2e868f4a0282.m3u8\n",
      "N°4 - Title: ¿Cómo ver las Clases Extras? : url:https://embed-ssl.wistia.com/deliveries/53e117ebe06506ab7f8971e59f04b8622ce2ba52.m3u8\n",
      "N°5 - Title: ¿Cómo descargar apuntes de los cursos? : url:https://embed-ssl.wistia.com/deliveries/e9141c767e46ad1d0b94a5e8dd182f2d21ac7ff8.m3u8\n",
      "N°6 - Title: Bienvenida a la Parte I : url:https://embed-ssl.wistia.com/deliveries/99534008a6dcf066bf00186df96302dfeb544522.m3u8\n",
      "N°7 - Title: Programa Parte I : url:https://embed-ssl.wistia.com/deliveries/99534008a6dcf066bf00186df96302dfeb544522.m3u8\n",
      "N°8 - Title: Material de Apoyo y Contenido para el Estudiante Parte I : url:https://embed-ssl.wistia.com/deliveries/99534008a6dcf066bf00186df96302dfeb544522.m3u8\n",
      "N°9 - Title: Preguntas Frecuentes de Contenido : url:https://embed-ssl.wistia.com/deliveries/99534008a6dcf066bf00186df96302dfeb544522.m3u8\n",
      "N°10 - Title: Pregunta 1 ¿De qué depende que la energía de un planeta esté activada o desactivada en una carta? : url:https://embed-ssl.wistia.com/deliveries/8340cc8bcf9c12376be5c0b3d21bbed52d3e8449.m3u8\n",
      "N°11 - Title: Pregunta 2 ¿Qué pasa cuando un planeta se encuentra en el grado 29° o 30° de un signo?, ¿y cuando está en el grado 0º? : url:https://embed-ssl.wistia.com/deliveries/d66e9132f623a80f6c72657777b404b045d38a35.m3u8\n",
      "N°12 - Title: Pregunta 3 ¿Qué significan los planetas retrógrados? : url:https://embed-ssl.wistia.com/deliveries/6115a14d6eeef89523d64b0a5e780536e1439f78.m3u8\n",
      "N°13 - Title: Pregunta 4 ¿Qué es un signo interceptado? : url:https://embed-ssl.wistia.com/deliveries/0a86eff35792f61bb57f5e10dd6dfbccd45c32cb.m3u8\n",
      "N°14 - Title: Pregunta 5 ¿Qué significa sanar la Luna para llegar al Sol? : url:https://embed-ssl.wistia.com/deliveries/9a6e3807bb8d3440f30a0a42f9f9e1c028cb2d89.m3u8\n",
      "N°15 - Title: Pregunta 6 ¿Qué diferencia hay entre los puntos evolutivos: Ascendente, Sol y Nodo Norte? : url:https://embed-ssl.wistia.com/deliveries/fd1a5cbe5a6ab188426c54b495c918e39319fdc5.m3u8\n",
      "N°16 - Title: Pregunta 7 ¿Qué pasa cuando el Sol y el Ascendente están en el mismo signo?, ¿cuando la Luna y Sol están en el mismo Signo?, ¿y cuando la Luna y el Ascendente están en el mismo signo?. : url:https://embed-ssl.wistia.com/deliveries/555c6ca85ed1bb8fff8679f6aef4a7eff252356e.m3u8\n",
      "N°17 - Title: Pregunta 8 ¿Qué pasa cuando la Luna y el Ascendente están en el mismo signo? : url:https://embed-ssl.wistia.com/deliveries/a024159c2dcdc6860b318667492b6f5e02d9d75a.m3u8\n",
      "N°18 - Title: Pregunta 9 ¿Qué pasa cuando el Sol y la Luna están en el mismo signo? : url:https://embed-ssl.wistia.com/deliveries/315405af656561e911c67e105ec62954ce4d5c9d.m3u8\n",
      "N°19 - Title: Pregunta 10 ¿Por qué hay personas que no se sienten identificadas con su Sol? : url:https://embed-ssl.wistia.com/deliveries/b6874ebdc528bb19d15480e33891bca64e32df3f.m3u8\n",
      "N°20 - Title: Pregunta 11 ¿Qué pasa cuando una persona se siente más identificada con un aspecto lunar que con su Luna principal, se le debe sugerir algo? : url:https://embed-ssl.wistia.com/deliveries/c78c34eefb16c546f047a515432545f66c2dd286.m3u8\n",
      "N°21 - Title: Pregunta 12 ¿Qué pasa cuando alguien no tiene un elemento en su Carta Natal? : url:https://embed-ssl.wistia.com/deliveries/1d85fb1b7fe4937607e3539c18c4944c53e65b69.m3u8\n",
      "N°22 - Title: Preguntas 13 ¿Cómo funciona el Sol en oposición a la Luna? : url:https://embed-ssl.wistia.com/deliveries/a50826bc7b1a7ccbc5167153e66c9bf5b00a0a3e.m3u8\n",
      "N°23 - Title: Pregunta 14 ¿Cómo se interpreta una instrucción lunar cuando un planeta hace aspectos armónicos o disarmónicos a través de conjunciones con la Luna?, ¿qué aspectos tienen prioridad? : url:https://embed-ssl.wistia.com/deliveries/bfa8ef11bae60bfc98824bd44ec75be9c3f9d205.m3u8\n",
      "N°24 - Title: Pregunta 15 ¿Qué significa que una carta sea muy saturnina o muy plutoniana? : url:https://embed-ssl.wistia.com/deliveries/0fd5aec610dc31f4e595a4a1887f9ddcbfece918.m3u8\n",
      "N°25 - Title: Pregunta 16 ¿Qué diferencia hay entre la rabia de Escorpio/Plutón y la de Marte/Aries? : url:https://embed-ssl.wistia.com/deliveries/0af4323ee70857b8897d14704ebb401b712d9acc.m3u8\n",
      "N°26 - Title: Pregunta 17 ¿Cómo interpretar las cartas de los gemelos? : url:https://embed-ssl.wistia.com/deliveries/98d80cb0d46654c8ca52c0ec97af5b239c05732e.m3u8\n",
      "N°27 - Title: Pregunta 18 ¿Por qué hay Astrólogos que consideran más válida la carta desde el punto de vista Sideral, contraposición al Tropical?, ¿el Zodiaco Tropical es más exacto que el Sideral? : url:https://embed-ssl.wistia.com/deliveries/7b9a1b9615fcdbd537804722c127e43083405a59.m3u8\n",
      "N°28 - Title: Pregunta 19 ¿Qué datos personales se necesitan para conocer la información lunar de una persona? : url:https://embed-ssl.wistia.com/deliveries/7b9a1b9615fcdbd537804722c127e43083405a59.m3u8\n",
      "N°29 - Title: Pregunta 20 ¿Qué pasa si no tengo la hora de nacimiento exacta? : url:https://embed-ssl.wistia.com/deliveries/9ed2dfc6f15220278bdcaa73b7572f35c3268138.m3u8\n",
      "N°30 - Title: Pregunta 21 ¿Se puede calcular la carta natal de alguien sin tener la fecha de nacimiento? : url:https://embed-ssl.wistia.com/deliveries/9ed2dfc6f15220278bdcaa73b7572f35c3268138.m3u8\n",
      "N°31 - Title: Pregunta 22 ¿Qué pasa si la persona nació por cesárea? : url:https://embed-ssl.wistia.com/deliveries/9ed2dfc6f15220278bdcaa73b7572f35c3268138.m3u8\n",
      "N°32 - Title: Pregunta 23 Cuando hablo de mi signo, ¿a qué me refiero? : url:https://embed-ssl.wistia.com/deliveries/9ed2dfc6f15220278bdcaa73b7572f35c3268138.m3u8\n",
      "N°33 - Title: Pregunta 24 ¿Qué diferencia hay entra la Luna y la Casa IV? : url:https://embed-ssl.wistia.com/deliveries/9ed2dfc6f15220278bdcaa73b7572f35c3268138.m3u8\n",
      "N°34 - Title: Pregunta 25 ¿Qué pasa si la Luna no tiene aspectos? : url:https://embed-ssl.wistia.com/deliveries/9ed2dfc6f15220278bdcaa73b7572f35c3268138.m3u8\n",
      "N°35 - Title: Pregunta 26 ¿Qué ocurre si la Luna solo tiene aspectos armónicos? : url:https://embed-ssl.wistia.com/deliveries/9ed2dfc6f15220278bdcaa73b7572f35c3268138.m3u8\n",
      "N°36 - Title: Pregunta 27 ¿Qué pasa si la Luna solo tiene instrucciones disarmónicas? : url:https://embed-ssl.wistia.com/deliveries/9ed2dfc6f15220278bdcaa73b7572f35c3268138.m3u8\n",
      "N°37 - Title: Pregunta 28 ¿Qué pasa si una carta astral tiene muchas instrucciones lunares? : url:https://embed-ssl.wistia.com/deliveries/9ed2dfc6f15220278bdcaa73b7572f35c3268138.m3u8\n",
      "N°38 - Title: Pregunta 29 ¿Qué son los planetas regentes? : url:https://embed-ssl.wistia.com/deliveries/9ed2dfc6f15220278bdcaa73b7572f35c3268138.m3u8\n",
      "N°39 - Title: Pregunta 30 ¿Cuáles son las diferencias entre planetas personales, sociales y transpersonales? : url:https://embed-ssl.wistia.com/deliveries/9ed2dfc6f15220278bdcaa73b7572f35c3268138.m3u8\n",
      "N°40 - Title: Preguntas 31 ¿Qué representan las líneas en una carta astral? : url:https://embed-ssl.wistia.com/deliveries/9ed2dfc6f15220278bdcaa73b7572f35c3268138.m3u8\n",
      "N°41 - Title: Pregunta 32 ¿Qué representan las líneas verdes en la carta astral? : url:https://embed-ssl.wistia.com/deliveries/9ed2dfc6f15220278bdcaa73b7572f35c3268138.m3u8\n",
      "N°42 - Title: Pregunta 33 ¿A cuántos grados se considera que existe conjunción entre la Luna y otro planeta? : url:https://embed-ssl.wistia.com/deliveries/9ed2dfc6f15220278bdcaa73b7572f35c3268138.m3u8\n",
      "N°43 - Title: Pregunta 34 Las conjunciones con la Luna, ¿son instrucciones armónicas o disarmónicas? : url:https://embed-ssl.wistia.com/deliveries/9ed2dfc6f15220278bdcaa73b7572f35c3268138.m3u8\n",
      "N°44 - Title: Pregunta 35 ¿Cuál es la diferencia entre la Luna en un signo y la Luna aspectada con el planeta regente de ese mismo signo? : url:https://embed-ssl.wistia.com/deliveries/9ed2dfc6f15220278bdcaa73b7572f35c3268138.m3u8\n",
      "N°45 - Title: Módulo I : Introducción a Astrología Psicológica : url:https://embed-ssl.wistia.com/deliveries/bf18a666524b17e69feb75293f54df3f0a5808b5.m3u8\n",
      "N°46 - Title: Módulo II : Introducción a la Carta Natal pt.1: Planetas : url:https://embed-ssl.wistia.com/deliveries/ef5f0f7f37fc72952a97e1de0e2cb1c9812bd455.m3u8\n",
      "N°47 - Title: Módulo II : Introducción a la Carta Natal pt.2: Signos : url:https://embed-ssl.wistia.com/deliveries/04ae0e713cd69acd003ee6c6f94a2a479ba6ecf5.m3u8\n",
      "N°48 - Title: Módulo II : Introducción a la Carta Natal pt.3: Casas : url:https://embed-ssl.wistia.com/deliveries/7e8f4cfa9738e4cf37dfa838b9179f37705f0b2f.m3u8\n",
      "N°49 - Title: Test Módulo II : url:https://embed-ssl.wistia.com/deliveries/7e8f4cfa9738e4cf37dfa838b9179f37705f0b2f.m3u8\n",
      "N°50 - Title: Cápsula : Terapias Florales y su relación con la Astrologí : url:https://embed-ssl.wistia.com/deliveries/4935212fb4a7b61000970f653e98261186137902.m3u8\n",
      "N°51 - Title: Módulo III : Sol y Luna pt.1: Sol : url:https://embed-ssl.wistia.com/deliveries/2498a77d27760a6daea08cfc64257e5d603cf7b0.m3u8\n",
      "N°52 - Title: Módulo III : Sol y Luna pt.2: Luna : url:https://embed-ssl.wistia.com/deliveries/cf91877121c15f65aa1f2ca29c16d30ee2f58321.m3u8\n",
      "N°53 - Title: Módulo III : Sol y Luna pt.3: Elemento de la Luna : url:https://embed-ssl.wistia.com/deliveries/0e17b413d7621c958873a403df41d66c660e8f06.m3u8\n",
      "N°54 - Title: Test Módulo III : url:https://embed-ssl.wistia.com/deliveries/0e17b413d7621c958873a403df41d66c660e8f06.m3u8\n",
      "N°55 - Title: Cápsula : Trabajo del signo Lunar en niños : url:https://embed-ssl.wistia.com/deliveries/3e2c39956215a0c71f1ac573303cbcf251340210.m3u8\n",
      "N°56 - Title: Cápsula : Regentes planetarios : url:https://embed-ssl.wistia.com/deliveries/e024ef0e9164986c99626db7a833d67acb4018cf.m3u8\n",
      "N°57 - Title: Cápsula : Efectos Instrucciones dolorosas Lunares en niños : url:https://embed-ssl.wistia.com/deliveries/fd0cd63712649db3e2ddaa5b4895640fa4dbd56c.m3u8\n",
      "N°58 - Title: Módulo IV : Mecanismo Lunar – Luna y planetas asociados a la Luna pt. 1 : url:https://embed-ssl.wistia.com/deliveries/129e1d8c0b1edeac6f45f414222ff29fee8325d9.m3u8\n",
      "N°59 - Title: Módulo IV : Mecanismo Lunar – Luna y planetas asociados a la Luna pt. 2 : url:https://embed-ssl.wistia.com/deliveries/8bc16df66a7aaa8d8ee50b146b29dce771798edd.m3u8\n",
      "N°60 - Title: Test Módulo IV : url:https://embed-ssl.wistia.com/deliveries/8bc16df66a7aaa8d8ee50b146b29dce771798edd.m3u8\n",
      "N°61 - Title: Cápsula: Instrucciones Lunares dolorosas y el don Lunar : url:https://embed-ssl.wistia.com/deliveries/513d6faf8da30f6ca7f337b56d9ef00c584383ea.m3u8\n",
      "N°62 - Title: Cápsula : Auto indagación de Esencias Florales para Alumnos : url:https://embed-ssl.wistia.com/deliveries/9f515bd7f756bcc7a1ac0f3355c168b70bc62c90.m3u8\n",
      "N°63 - Title: Cápsula: Fórmulas para Instrucciones lunares : url:https://embed-ssl.wistia.com/deliveries/e4810676848fd4edbfcfa8483343e138129dfc4d.m3u8\n",
      "N°64 - Title: Cápsula: Pasos para levantar e identificar los elementos básicos de la Carta : url:https://embed-ssl.wistia.com/deliveries/26f421fe79f6a2c557e627e8b6bf0ce789bc56d9.m3u8\n",
      "N°65 - Title: Bienvenida a la Parte II : url:https://embed-ssl.wistia.com/deliveries/cc1d2180e48558bf096807006ae84e44860040bc.m3u8\n",
      "N°66 - Title: Programa Parte II : url:https://embed-ssl.wistia.com/deliveries/cc1d2180e48558bf096807006ae84e44860040bc.m3u8\n",
      "N°67 - Title: Material de Apoyo para el Estudiante Parte II : url:https://embed-ssl.wistia.com/deliveries/cc1d2180e48558bf096807006ae84e44860040bc.m3u8\n",
      "N°68 - Title: Módulo V – pt 1 : Aries y Marte : url:https://embed-ssl.wistia.com/deliveries/9b72a963d01df3c95fe3e64b066c2a991bc0f6f2.m3u8\n",
      "N°69 - Title: Módulo V – pt 2 : Sol en Aries : url:https://embed-ssl.wistia.com/deliveries/3a06b43c9e278f3e109f5d6a2ff18373ee552c64.m3u8\n",
      "N°70 - Title: Módulo V – pt 3 : Luna en Aries e Instrucción Luna – Marte : url:https://embed-ssl.wistia.com/deliveries/951b83660acdc8e52abfbc17a8b139ea393879ea.m3u8\n",
      "N°71 - Title: Test Módulo V : url:https://embed-ssl.wistia.com/deliveries/951b83660acdc8e52abfbc17a8b139ea393879ea.m3u8\n",
      "N°72 - Title: Módulo VI – pt.1 : Tauro y Venus : url:https://embed-ssl.wistia.com/deliveries/b1b1a5400ba6a77717a4795dfd4b65ec52391590.m3u8\n",
      "N°73 - Title: Módulo VI – pt.2 : Sol en Tauro : url:https://embed-ssl.wistia.com/deliveries/1b21a09a780d0ab2e3cf508954a7f4d6f7a7e016.m3u8\n",
      "N°74 - Title: Módulo VI – pt.3 : Luna Tauro e Instrucción Luna – Venus : url:https://embed-ssl.wistia.com/deliveries/cfb7ece67940a40df34421989ee285384e65fc87.m3u8\n",
      "N°75 - Title: Test Módulo VI : url:https://embed-ssl.wistia.com/deliveries/cfb7ece67940a40df34421989ee285384e65fc87.m3u8\n",
      "N°76 - Title: Cápsula – Venus, Valor Propio y Romance : url:https://embed-ssl.wistia.com/deliveries/9da482b502878c4b298990824875ae362852d797.m3u8\n",
      "N°77 - Title: Módulo VII – pt.1 : Géminis y Mercurio : url:https://embed-ssl.wistia.com/deliveries/aa1c6e86591253fd843f1a04465c25483fc14d21.m3u8\n",
      "N°78 - Title: Módulo VII – pt.2 : Sol en Géminis : url:https://embed-ssl.wistia.com/deliveries/ac5a7ba9f85ae6202156321482ba583ff2ac2250.m3u8\n",
      "N°79 - Title: Módulo VII – pt.3 : Luna en Géminis e Instrucción Luna – Mercurio : url:https://embed-ssl.wistia.com/deliveries/a72b57f555daf3533090e2eadc5789a03d4dda41.m3u8\n",
      "N°80 - Title: Test Módulo VII : url:https://embed-ssl.wistia.com/deliveries/a72b57f555daf3533090e2eadc5789a03d4dda41.m3u8\n",
      "N°81 - Title: Módulo VIII – pt.1 : Cáncer : url:https://embed-ssl.wistia.com/deliveries/b129565e00a82b39b18e357f4fa05942401e4a42.m3u8\n",
      "N°82 - Title: Módulo VIII – pt.2 : Sol en Cáncer : url:https://embed-ssl.wistia.com/deliveries/ac046ead326f9d46c93c5285e2cab6b459f88b80.m3u8\n",
      "N°83 - Title: Módulo VIII – pt.3 : Luna en Cáncer : url:https://embed-ssl.wistia.com/deliveries/fe8f35e9b72ffcf156280cb52ba741403fd56472.m3u8\n",
      "N°84 - Title: Test Módulo VIII : url:https://embed-ssl.wistia.com/deliveries/fe8f35e9b72ffcf156280cb52ba741403fd56472.m3u8\n",
      "N°85 - Title: Módulo IX – pt.1 : Leo : url:https://embed-ssl.wistia.com/deliveries/b0550266f65c4d18c99e3f6247bf0032e649ac1f.m3u8\n",
      "N°86 - Title: Módulo IX – pt.2 : Sol en Leo : url:https://embed-ssl.wistia.com/deliveries/ba2084199c6049f279904e6bd4bb558ee64f9ec3.m3u8\n",
      "N°87 - Title: Módulo IX – pt.3 : Luna en Leo e Instrucción Luna – Sol : url:https://embed-ssl.wistia.com/deliveries/827950413a77ff5ea40f35a4daa2279c091fe089.m3u8\n",
      "N°88 - Title: Test Módulo IX : url:https://embed-ssl.wistia.com/deliveries/827950413a77ff5ea40f35a4daa2279c091fe089.m3u8\n",
      "N°89 - Title: Módulo X – pt.1 : Virgo : url:https://embed-ssl.wistia.com/deliveries/26f33738e6bf5f431574baa7daa89d3611a1e7ce.m3u8\n",
      "N°90 - Title: Módulo X – pt.2 : Sol en Virgo : url:https://embed-ssl.wistia.com/deliveries/0ad60b35b7baeefadce4852e4a1563909bf3657d.m3u8\n",
      "N°91 - Title: Módulo X – pt.3 : Luna en Virgo : url:https://embed-ssl.wistia.com/deliveries/b23e6f8d9ff7fe6ff49faee93309cf482975d913.m3u8\n",
      "N°92 - Title: Test Módulo X : url:https://embed-ssl.wistia.com/deliveries/b23e6f8d9ff7fe6ff49faee93309cf482975d913.m3u8\n",
      "N°93 - Title: Cápsula: Signos y Polaridades : url:https://embed-ssl.wistia.com/deliveries/658651dbb83eb7a8fad8f00a2c6801983c93c671.m3u8\n",
      "N°94 - Title: Módulo XI – pt.1 : Libra : url:https://embed-ssl.wistia.com/deliveries/5d32b404f5495b81654dde59236194361e886110.m3u8\n",
      "N°95 - Title: Módulo XI – pt.2 : Sol en Libra : url:https://embed-ssl.wistia.com/deliveries/f8d037b8364496d938014210f0b4dfbff4018e92.m3u8\n",
      "N°96 - Title: Módulo XI – pt.3 : Luna en Libra : url:https://embed-ssl.wistia.com/deliveries/f96485903f2b18a225857c5b884c96d561c09327.m3u8\n",
      "N°97 - Title: Test Módulo XI : url:https://embed-ssl.wistia.com/deliveries/f96485903f2b18a225857c5b884c96d561c09327.m3u8\n",
      "N°98 - Title: Módulo XII – pt.1 : Escorpio : url:https://embed-ssl.wistia.com/deliveries/3de83e764c72cc6c858ae0906d146983bfd32e6b.m3u8\n",
      "N°99 - Title: Módulo XII – pt.2 : Plutón : url:https://embed-ssl.wistia.com/deliveries/b015a0fa22faebd159874b6d8c134eec77f7da25.m3u8\n",
      "N°100 - Title: Módulo XII – pt.3 : Sol en Escorpio : url:https://embed-ssl.wistia.com/deliveries/8003b6e27f1e1951cde9c7b6b245139fb26b63fe.m3u8\n",
      "N°101 - Title: Módulo XII – pt.4 : Luna en Escorpio e Instrucción Luna – Plutón : url:https://embed-ssl.wistia.com/deliveries/7eb5d437add21aedf416958e36bec2ced9d20086.m3u8\n",
      "N°102 - Title: Test Módulo XII : url:https://embed-ssl.wistia.com/deliveries/7eb5d437add21aedf416958e36bec2ced9d20086.m3u8\n"
     ]
    },
    {
     "ename": "ElementClickInterceptedException",
     "evalue": "Message: element click intercepted: Element is not clickable at point (1244, 885)\n  (Session info: chrome=124.0.6367.61)\n",
     "output_type": "error",
     "traceback": [
      "\u001b[1;31m---------------------------------------------------------------------------\u001b[0m",
      "\u001b[1;31mElementClickInterceptedException\u001b[0m          Traceback (most recent call last)",
      "Cell \u001b[1;32mIn[133], line 1\u001b[0m\n\u001b[1;32m----> 1\u001b[0m df \u001b[38;5;241m=\u001b[39m \u001b[43mget_vids\u001b[49m\u001b[43m(\u001b[49m\u001b[43mn\u001b[49m\u001b[38;5;241;43m=\u001b[39;49m\u001b[38;5;241;43m150\u001b[39;49m\u001b[43m)\u001b[49m\n",
      "Cell \u001b[1;32mIn[128], line 41\u001b[0m, in \u001b[0;36mget_vids\u001b[1;34m(n)\u001b[0m\n\u001b[0;32m     39\u001b[0m     \u001b[38;5;66;03m# go to next\u001b[39;00m\n\u001b[0;32m     40\u001b[0m     siguiente \u001b[38;5;241m=\u001b[39m driver\u001b[38;5;241m.\u001b[39mfind_element_by_xpath(\u001b[38;5;124m\"\u001b[39m\u001b[38;5;124m//*[@id=\u001b[39m\u001b[38;5;130;01m\\\"\u001b[39;00m\u001b[38;5;124msection-post_player\u001b[39m\u001b[38;5;130;01m\\\"\u001b[39;00m\u001b[38;5;124m]/div/div/div[3]/div/div[3]/a\u001b[39m\u001b[38;5;124m\"\u001b[39m)\n\u001b[1;32m---> 41\u001b[0m     \u001b[43msiguiente\u001b[49m\u001b[38;5;241;43m.\u001b[39;49m\u001b[43mclick\u001b[49m\u001b[43m(\u001b[49m\u001b[43m)\u001b[49m          \n\u001b[0;32m     42\u001b[0m     \u001b[38;5;66;03m# time.sleep(1)\u001b[39;00m\n\u001b[0;32m     44\u001b[0m temp \u001b[38;5;241m=\u001b[39m pd\u001b[38;5;241m.\u001b[39mDataFrame({\u001b[38;5;124m'\u001b[39m\u001b[38;5;124mn\u001b[39m\u001b[38;5;124m'\u001b[39m:\u001b[38;5;28mrange\u001b[39m(n),\u001b[38;5;124m'\u001b[39m\u001b[38;5;124mtitle\u001b[39m\u001b[38;5;124m'\u001b[39m:title_ls,\u001b[38;5;124m'\u001b[39m\u001b[38;5;124murl\u001b[39m\u001b[38;5;124m'\u001b[39m:url_ls})\n",
      "File \u001b[1;32m~\\anaconda3\\envs\\llm\\lib\\site-packages\\selenium\\webdriver\\remote\\webelement.py:80\u001b[0m, in \u001b[0;36mWebElement.click\u001b[1;34m(self)\u001b[0m\n\u001b[0;32m     78\u001b[0m \u001b[38;5;28;01mdef\u001b[39;00m \u001b[38;5;21mclick\u001b[39m(\u001b[38;5;28mself\u001b[39m):\n\u001b[0;32m     79\u001b[0m \u001b[38;5;250m    \u001b[39m\u001b[38;5;124;03m\"\"\"Clicks the element.\"\"\"\u001b[39;00m\n\u001b[1;32m---> 80\u001b[0m     \u001b[38;5;28;43mself\u001b[39;49m\u001b[38;5;241;43m.\u001b[39;49m\u001b[43m_execute\u001b[49m\u001b[43m(\u001b[49m\u001b[43mCommand\u001b[49m\u001b[38;5;241;43m.\u001b[39;49m\u001b[43mCLICK_ELEMENT\u001b[49m\u001b[43m)\u001b[49m\n",
      "File \u001b[1;32m~\\anaconda3\\envs\\llm\\lib\\site-packages\\selenium\\webdriver\\remote\\webelement.py:633\u001b[0m, in \u001b[0;36mWebElement._execute\u001b[1;34m(self, command, params)\u001b[0m\n\u001b[0;32m    631\u001b[0m     params \u001b[38;5;241m=\u001b[39m {}\n\u001b[0;32m    632\u001b[0m params[\u001b[38;5;124m'\u001b[39m\u001b[38;5;124mid\u001b[39m\u001b[38;5;124m'\u001b[39m] \u001b[38;5;241m=\u001b[39m \u001b[38;5;28mself\u001b[39m\u001b[38;5;241m.\u001b[39m_id\n\u001b[1;32m--> 633\u001b[0m \u001b[38;5;28;01mreturn\u001b[39;00m \u001b[38;5;28;43mself\u001b[39;49m\u001b[38;5;241;43m.\u001b[39;49m\u001b[43m_parent\u001b[49m\u001b[38;5;241;43m.\u001b[39;49m\u001b[43mexecute\u001b[49m\u001b[43m(\u001b[49m\u001b[43mcommand\u001b[49m\u001b[43m,\u001b[49m\u001b[43m \u001b[49m\u001b[43mparams\u001b[49m\u001b[43m)\u001b[49m\n",
      "File \u001b[1;32m~\\anaconda3\\envs\\llm\\lib\\site-packages\\selenium\\webdriver\\remote\\webdriver.py:321\u001b[0m, in \u001b[0;36mWebDriver.execute\u001b[1;34m(self, driver_command, params)\u001b[0m\n\u001b[0;32m    319\u001b[0m response \u001b[38;5;241m=\u001b[39m \u001b[38;5;28mself\u001b[39m\u001b[38;5;241m.\u001b[39mcommand_executor\u001b[38;5;241m.\u001b[39mexecute(driver_command, params)\n\u001b[0;32m    320\u001b[0m \u001b[38;5;28;01mif\u001b[39;00m response:\n\u001b[1;32m--> 321\u001b[0m     \u001b[38;5;28;43mself\u001b[39;49m\u001b[38;5;241;43m.\u001b[39;49m\u001b[43merror_handler\u001b[49m\u001b[38;5;241;43m.\u001b[39;49m\u001b[43mcheck_response\u001b[49m\u001b[43m(\u001b[49m\u001b[43mresponse\u001b[49m\u001b[43m)\u001b[49m\n\u001b[0;32m    322\u001b[0m     response[\u001b[38;5;124m'\u001b[39m\u001b[38;5;124mvalue\u001b[39m\u001b[38;5;124m'\u001b[39m] \u001b[38;5;241m=\u001b[39m \u001b[38;5;28mself\u001b[39m\u001b[38;5;241m.\u001b[39m_unwrap_value(\n\u001b[0;32m    323\u001b[0m         response\u001b[38;5;241m.\u001b[39mget(\u001b[38;5;124m'\u001b[39m\u001b[38;5;124mvalue\u001b[39m\u001b[38;5;124m'\u001b[39m, \u001b[38;5;28;01mNone\u001b[39;00m))\n\u001b[0;32m    324\u001b[0m     \u001b[38;5;28;01mreturn\u001b[39;00m response\n",
      "File \u001b[1;32m~\\anaconda3\\envs\\llm\\lib\\site-packages\\selenium\\webdriver\\remote\\errorhandler.py:242\u001b[0m, in \u001b[0;36mErrorHandler.check_response\u001b[1;34m(self, response)\u001b[0m\n\u001b[0;32m    240\u001b[0m         alert_text \u001b[38;5;241m=\u001b[39m value[\u001b[38;5;124m'\u001b[39m\u001b[38;5;124malert\u001b[39m\u001b[38;5;124m'\u001b[39m]\u001b[38;5;241m.\u001b[39mget(\u001b[38;5;124m'\u001b[39m\u001b[38;5;124mtext\u001b[39m\u001b[38;5;124m'\u001b[39m)\n\u001b[0;32m    241\u001b[0m     \u001b[38;5;28;01mraise\u001b[39;00m exception_class(message, screen, stacktrace, alert_text)\n\u001b[1;32m--> 242\u001b[0m \u001b[38;5;28;01mraise\u001b[39;00m exception_class(message, screen, stacktrace)\n",
      "\u001b[1;31mElementClickInterceptedException\u001b[0m: Message: element click intercepted: Element is not clickable at point (1244, 885)\n  (Session info: chrome=124.0.6367.61)\n"
     ]
    }
   ],
   "source": [
    "df = get_vids(n=150)"
   ]
  },
  {
   "cell_type": "code",
   "execution_count": 144,
   "id": "ec1493b3-c0a6-4e42-baf5-86003c79a64a",
   "metadata": {},
   "outputs": [],
   "source": [
    "output = '''N°0 - Title: Bienvenida a la Formación : url:https://embed-ssl.wistia.com/deliveries/352815767cd2506a1ecfd3d96925286a4e5bd23d.m3u8\n",
    "N°1 - Title: Como utilizar la plataforma : url:https://embed-ssl.wistia.com/deliveries/94f964e01717c651dea4090e898f6c139f2935f0.m3u8\n",
    "N°2 - Title: Descarga los apuntes del curso : url:https://embed-ssl.wistia.com/deliveries/94f964e01717c651dea4090e898f6c139f2935f0.m3u8\n",
    "N°3 - Title: ¿Cómo ver los webinars? : url:https://embed-ssl.wistia.com/deliveries/d9e795173bb1eab9a16a1404f87d2e868f4a0282.m3u8\n",
    "N°4 - Title: ¿Cómo ver las Clases Extras? : url:https://embed-ssl.wistia.com/deliveries/53e117ebe06506ab7f8971e59f04b8622ce2ba52.m3u8\n",
    "N°5 - Title: ¿Cómo descargar apuntes de los cursos? : url:https://embed-ssl.wistia.com/deliveries/e9141c767e46ad1d0b94a5e8dd182f2d21ac7ff8.m3u8\n",
    "N°6 - Title: Bienvenida a la Parte I : url:https://embed-ssl.wistia.com/deliveries/99534008a6dcf066bf00186df96302dfeb544522.m3u8\n",
    "N°7 - Title: Programa Parte I : url:https://embed-ssl.wistia.com/deliveries/99534008a6dcf066bf00186df96302dfeb544522.m3u8\n",
    "N°8 - Title: Material de Apoyo y Contenido para el Estudiante Parte I : url:https://embed-ssl.wistia.com/deliveries/99534008a6dcf066bf00186df96302dfeb544522.m3u8\n",
    "N°9 - Title: Preguntas Frecuentes de Contenido : url:https://embed-ssl.wistia.com/deliveries/99534008a6dcf066bf00186df96302dfeb544522.m3u8\n",
    "N°10 - Title: Pregunta 1 ¿De qué depende que la energía de un planeta esté activada o desactivada en una carta? : url:https://embed-ssl.wistia.com/deliveries/8340cc8bcf9c12376be5c0b3d21bbed52d3e8449.m3u8\n",
    "N°11 - Title: Pregunta 2 ¿Qué pasa cuando un planeta se encuentra en el grado 29° o 30° de un signo?, ¿y cuando está en el grado 0º? : url:https://embed-ssl.wistia.com/deliveries/d66e9132f623a80f6c72657777b404b045d38a35.m3u8\n",
    "N°12 - Title: Pregunta 3 ¿Qué significan los planetas retrógrados? : url:https://embed-ssl.wistia.com/deliveries/6115a14d6eeef89523d64b0a5e780536e1439f78.m3u8\n",
    "N°13 - Title: Pregunta 4 ¿Qué es un signo interceptado? : url:https://embed-ssl.wistia.com/deliveries/0a86eff35792f61bb57f5e10dd6dfbccd45c32cb.m3u8\n",
    "N°14 - Title: Pregunta 5 ¿Qué significa sanar la Luna para llegar al Sol? : url:https://embed-ssl.wistia.com/deliveries/9a6e3807bb8d3440f30a0a42f9f9e1c028cb2d89.m3u8\n",
    "N°15 - Title: Pregunta 6 ¿Qué diferencia hay entre los puntos evolutivos: Ascendente, Sol y Nodo Norte? : url:https://embed-ssl.wistia.com/deliveries/fd1a5cbe5a6ab188426c54b495c918e39319fdc5.m3u8\n",
    "N°16 - Title: Pregunta 7 ¿Qué pasa cuando el Sol y el Ascendente están en el mismo signo?, ¿cuando la Luna y Sol están en el mismo Signo?, ¿y cuando la Luna y el Ascendente están en el mismo signo?. : url:https://embed-ssl.wistia.com/deliveries/555c6ca85ed1bb8fff8679f6aef4a7eff252356e.m3u8\n",
    "N°17 - Title: Pregunta 8 ¿Qué pasa cuando la Luna y el Ascendente están en el mismo signo? : url:https://embed-ssl.wistia.com/deliveries/a024159c2dcdc6860b318667492b6f5e02d9d75a.m3u8\n",
    "N°18 - Title: Pregunta 9 ¿Qué pasa cuando el Sol y la Luna están en el mismo signo? : url:https://embed-ssl.wistia.com/deliveries/315405af656561e911c67e105ec62954ce4d5c9d.m3u8\n",
    "N°19 - Title: Pregunta 10 ¿Por qué hay personas que no se sienten identificadas con su Sol? : url:https://embed-ssl.wistia.com/deliveries/b6874ebdc528bb19d15480e33891bca64e32df3f.m3u8\n",
    "N°20 - Title: Pregunta 11 ¿Qué pasa cuando una persona se siente más identificada con un aspecto lunar que con su Luna principal, se le debe sugerir algo? : url:https://embed-ssl.wistia.com/deliveries/c78c34eefb16c546f047a515432545f66c2dd286.m3u8\n",
    "N°21 - Title: Pregunta 12 ¿Qué pasa cuando alguien no tiene un elemento en su Carta Natal? : url:https://embed-ssl.wistia.com/deliveries/1d85fb1b7fe4937607e3539c18c4944c53e65b69.m3u8\n",
    "N°22 - Title: Preguntas 13 ¿Cómo funciona el Sol en oposición a la Luna? : url:https://embed-ssl.wistia.com/deliveries/a50826bc7b1a7ccbc5167153e66c9bf5b00a0a3e.m3u8\n",
    "N°23 - Title: Pregunta 14 ¿Cómo se interpreta una instrucción lunar cuando un planeta hace aspectos armónicos o disarmónicos a través de conjunciones con la Luna?, ¿qué aspectos tienen prioridad? : url:https://embed-ssl.wistia.com/deliveries/bfa8ef11bae60bfc98824bd44ec75be9c3f9d205.m3u8\n",
    "N°24 - Title: Pregunta 15 ¿Qué significa que una carta sea muy saturnina o muy plutoniana? : url:https://embed-ssl.wistia.com/deliveries/0fd5aec610dc31f4e595a4a1887f9ddcbfece918.m3u8\n",
    "N°25 - Title: Pregunta 16 ¿Qué diferencia hay entre la rabia de Escorpio/Plutón y la de Marte/Aries? : url:https://embed-ssl.wistia.com/deliveries/0af4323ee70857b8897d14704ebb401b712d9acc.m3u8\n",
    "N°26 - Title: Pregunta 17 ¿Cómo interpretar las cartas de los gemelos? : url:https://embed-ssl.wistia.com/deliveries/98d80cb0d46654c8ca52c0ec97af5b239c05732e.m3u8\n",
    "N°27 - Title: Pregunta 18 ¿Por qué hay Astrólogos que consideran más válida la carta desde el punto de vista Sideral, contraposición al Tropical?, ¿el Zodiaco Tropical es más exacto que el Sideral? : url:https://embed-ssl.wistia.com/deliveries/7b9a1b9615fcdbd537804722c127e43083405a59.m3u8\n",
    "N°28 - Title: Pregunta 19 ¿Qué datos personales se necesitan para conocer la información lunar de una persona? : url:https://embed-ssl.wistia.com/deliveries/7b9a1b9615fcdbd537804722c127e43083405a59.m3u8\n",
    "N°29 - Title: Pregunta 20 ¿Qué pasa si no tengo la hora de nacimiento exacta? : url:https://embed-ssl.wistia.com/deliveries/9ed2dfc6f15220278bdcaa73b7572f35c3268138.m3u8\n",
    "N°30 - Title: Pregunta 21 ¿Se puede calcular la carta natal de alguien sin tener la fecha de nacimiento? : url:https://embed-ssl.wistia.com/deliveries/9ed2dfc6f15220278bdcaa73b7572f35c3268138.m3u8\n",
    "N°31 - Title: Pregunta 22 ¿Qué pasa si la persona nació por cesárea? : url:https://embed-ssl.wistia.com/deliveries/9ed2dfc6f15220278bdcaa73b7572f35c3268138.m3u8\n",
    "N°32 - Title: Pregunta 23 Cuando hablo de mi signo, ¿a qué me refiero? : url:https://embed-ssl.wistia.com/deliveries/9ed2dfc6f15220278bdcaa73b7572f35c3268138.m3u8\n",
    "N°33 - Title: Pregunta 24 ¿Qué diferencia hay entra la Luna y la Casa IV? : url:https://embed-ssl.wistia.com/deliveries/9ed2dfc6f15220278bdcaa73b7572f35c3268138.m3u8\n",
    "N°34 - Title: Pregunta 25 ¿Qué pasa si la Luna no tiene aspectos? : url:https://embed-ssl.wistia.com/deliveries/9ed2dfc6f15220278bdcaa73b7572f35c3268138.m3u8\n",
    "N°35 - Title: Pregunta 26 ¿Qué ocurre si la Luna solo tiene aspectos armónicos? : url:https://embed-ssl.wistia.com/deliveries/9ed2dfc6f15220278bdcaa73b7572f35c3268138.m3u8\n",
    "N°36 - Title: Pregunta 27 ¿Qué pasa si la Luna solo tiene instrucciones disarmónicas? : url:https://embed-ssl.wistia.com/deliveries/9ed2dfc6f15220278bdcaa73b7572f35c3268138.m3u8\n",
    "N°37 - Title: Pregunta 28 ¿Qué pasa si una carta astral tiene muchas instrucciones lunares? : url:https://embed-ssl.wistia.com/deliveries/9ed2dfc6f15220278bdcaa73b7572f35c3268138.m3u8\n",
    "N°38 - Title: Pregunta 29 ¿Qué son los planetas regentes? : url:https://embed-ssl.wistia.com/deliveries/9ed2dfc6f15220278bdcaa73b7572f35c3268138.m3u8\n",
    "N°39 - Title: Pregunta 30 ¿Cuáles son las diferencias entre planetas personales, sociales y transpersonales? : url:https://embed-ssl.wistia.com/deliveries/9ed2dfc6f15220278bdcaa73b7572f35c3268138.m3u8\n",
    "N°40 - Title: Preguntas 31 ¿Qué representan las líneas en una carta astral? : url:https://embed-ssl.wistia.com/deliveries/9ed2dfc6f15220278bdcaa73b7572f35c3268138.m3u8\n",
    "N°41 - Title: Pregunta 32 ¿Qué representan las líneas verdes en la carta astral? : url:https://embed-ssl.wistia.com/deliveries/9ed2dfc6f15220278bdcaa73b7572f35c3268138.m3u8\n",
    "N°42 - Title: Pregunta 33 ¿A cuántos grados se considera que existe conjunción entre la Luna y otro planeta? : url:https://embed-ssl.wistia.com/deliveries/9ed2dfc6f15220278bdcaa73b7572f35c3268138.m3u8\n",
    "N°43 - Title: Pregunta 34 Las conjunciones con la Luna, ¿son instrucciones armónicas o disarmónicas? : url:https://embed-ssl.wistia.com/deliveries/9ed2dfc6f15220278bdcaa73b7572f35c3268138.m3u8\n",
    "N°44 - Title: Pregunta 35 ¿Cuál es la diferencia entre la Luna en un signo y la Luna aspectada con el planeta regente de ese mismo signo? : url:https://embed-ssl.wistia.com/deliveries/9ed2dfc6f15220278bdcaa73b7572f35c3268138.m3u8\n",
    "N°45 - Title: Módulo I : Introducción a Astrología Psicológica : url:https://embed-ssl.wistia.com/deliveries/bf18a666524b17e69feb75293f54df3f0a5808b5.m3u8\n",
    "N°46 - Title: Módulo II : Introducción a la Carta Natal pt.1: Planetas : url:https://embed-ssl.wistia.com/deliveries/ef5f0f7f37fc72952a97e1de0e2cb1c9812bd455.m3u8\n",
    "N°47 - Title: Módulo II : Introducción a la Carta Natal pt.2: Signos : url:https://embed-ssl.wistia.com/deliveries/04ae0e713cd69acd003ee6c6f94a2a479ba6ecf5.m3u8\n",
    "N°48 - Title: Módulo II : Introducción a la Carta Natal pt.3: Casas : url:https://embed-ssl.wistia.com/deliveries/7e8f4cfa9738e4cf37dfa838b9179f37705f0b2f.m3u8\n",
    "N°49 - Title: Test Módulo II : url:https://embed-ssl.wistia.com/deliveries/7e8f4cfa9738e4cf37dfa838b9179f37705f0b2f.m3u8\n",
    "N°50 - Title: Cápsula : Terapias Florales y su relación con la Astrologí : url:https://embed-ssl.wistia.com/deliveries/4935212fb4a7b61000970f653e98261186137902.m3u8\n",
    "N°51 - Title: Módulo III : Sol y Luna pt.1: Sol : url:https://embed-ssl.wistia.com/deliveries/2498a77d27760a6daea08cfc64257e5d603cf7b0.m3u8\n",
    "N°52 - Title: Módulo III : Sol y Luna pt.2: Luna : url:https://embed-ssl.wistia.com/deliveries/cf91877121c15f65aa1f2ca29c16d30ee2f58321.m3u8\n",
    "N°53 - Title: Módulo III : Sol y Luna pt.3: Elemento de la Luna : url:https://embed-ssl.wistia.com/deliveries/0e17b413d7621c958873a403df41d66c660e8f06.m3u8\n",
    "N°54 - Title: Test Módulo III : url:https://embed-ssl.wistia.com/deliveries/0e17b413d7621c958873a403df41d66c660e8f06.m3u8\n",
    "N°55 - Title: Cápsula : Trabajo del signo Lunar en niños : url:https://embed-ssl.wistia.com/deliveries/3e2c39956215a0c71f1ac573303cbcf251340210.m3u8\n",
    "N°56 - Title: Cápsula : Regentes planetarios : url:https://embed-ssl.wistia.com/deliveries/e024ef0e9164986c99626db7a833d67acb4018cf.m3u8\n",
    "N°57 - Title: Cápsula : Efectos Instrucciones dolorosas Lunares en niños : url:https://embed-ssl.wistia.com/deliveries/fd0cd63712649db3e2ddaa5b4895640fa4dbd56c.m3u8\n",
    "N°58 - Title: Módulo IV : Mecanismo Lunar – Luna y planetas asociados a la Luna pt. 1 : url:https://embed-ssl.wistia.com/deliveries/129e1d8c0b1edeac6f45f414222ff29fee8325d9.m3u8\n",
    "N°59 - Title: Módulo IV : Mecanismo Lunar – Luna y planetas asociados a la Luna pt. 2 : url:https://embed-ssl.wistia.com/deliveries/8bc16df66a7aaa8d8ee50b146b29dce771798edd.m3u8\n",
    "N°60 - Title: Test Módulo IV : url:https://embed-ssl.wistia.com/deliveries/8bc16df66a7aaa8d8ee50b146b29dce771798edd.m3u8\n",
    "N°61 - Title: Cápsula: Instrucciones Lunares dolorosas y el don Lunar : url:https://embed-ssl.wistia.com/deliveries/513d6faf8da30f6ca7f337b56d9ef00c584383ea.m3u8\n",
    "N°62 - Title: Cápsula : Auto indagación de Esencias Florales para Alumnos : url:https://embed-ssl.wistia.com/deliveries/9f515bd7f756bcc7a1ac0f3355c168b70bc62c90.m3u8\n",
    "N°63 - Title: Cápsula: Fórmulas para Instrucciones lunares : url:https://embed-ssl.wistia.com/deliveries/e4810676848fd4edbfcfa8483343e138129dfc4d.m3u8\n",
    "N°64 - Title: Cápsula: Pasos para levantar e identificar los elementos básicos de la Carta : url:https://embed-ssl.wistia.com/deliveries/26f421fe79f6a2c557e627e8b6bf0ce789bc56d9.m3u8\n",
    "N°65 - Title: Bienvenida a la Parte II : url:https://embed-ssl.wistia.com/deliveries/cc1d2180e48558bf096807006ae84e44860040bc.m3u8\n",
    "N°66 - Title: Programa Parte II : url:https://embed-ssl.wistia.com/deliveries/cc1d2180e48558bf096807006ae84e44860040bc.m3u8\n",
    "N°67 - Title: Material de Apoyo para el Estudiante Parte II : url:https://embed-ssl.wistia.com/deliveries/cc1d2180e48558bf096807006ae84e44860040bc.m3u8\n",
    "N°68 - Title: Módulo V – pt 1 : Aries y Marte : url:https://embed-ssl.wistia.com/deliveries/9b72a963d01df3c95fe3e64b066c2a991bc0f6f2.m3u8\n",
    "N°69 - Title: Módulo V – pt 2 : Sol en Aries : url:https://embed-ssl.wistia.com/deliveries/3a06b43c9e278f3e109f5d6a2ff18373ee552c64.m3u8\n",
    "N°70 - Title: Módulo V – pt 3 : Luna en Aries e Instrucción Luna – Marte : url:https://embed-ssl.wistia.com/deliveries/951b83660acdc8e52abfbc17a8b139ea393879ea.m3u8\n",
    "N°71 - Title: Test Módulo V : url:https://embed-ssl.wistia.com/deliveries/951b83660acdc8e52abfbc17a8b139ea393879ea.m3u8\n",
    "N°72 - Title: Módulo VI – pt.1 : Tauro y Venus : url:https://embed-ssl.wistia.com/deliveries/b1b1a5400ba6a77717a4795dfd4b65ec52391590.m3u8\n",
    "N°73 - Title: Módulo VI – pt.2 : Sol en Tauro : url:https://embed-ssl.wistia.com/deliveries/1b21a09a780d0ab2e3cf508954a7f4d6f7a7e016.m3u8\n",
    "N°74 - Title: Módulo VI – pt.3 : Luna Tauro e Instrucción Luna – Venus : url:https://embed-ssl.wistia.com/deliveries/cfb7ece67940a40df34421989ee285384e65fc87.m3u8\n",
    "N°75 - Title: Test Módulo VI : url:https://embed-ssl.wistia.com/deliveries/cfb7ece67940a40df34421989ee285384e65fc87.m3u8\n",
    "N°76 - Title: Cápsula – Venus, Valor Propio y Romance : url:https://embed-ssl.wistia.com/deliveries/9da482b502878c4b298990824875ae362852d797.m3u8\n",
    "N°77 - Title: Módulo VII – pt.1 : Géminis y Mercurio : url:https://embed-ssl.wistia.com/deliveries/aa1c6e86591253fd843f1a04465c25483fc14d21.m3u8\n",
    "N°78 - Title: Módulo VII – pt.2 : Sol en Géminis : url:https://embed-ssl.wistia.com/deliveries/ac5a7ba9f85ae6202156321482ba583ff2ac2250.m3u8\n",
    "N°79 - Title: Módulo VII – pt.3 : Luna en Géminis e Instrucción Luna – Mercurio : url:https://embed-ssl.wistia.com/deliveries/a72b57f555daf3533090e2eadc5789a03d4dda41.m3u8\n",
    "N°80 - Title: Test Módulo VII : url:https://embed-ssl.wistia.com/deliveries/a72b57f555daf3533090e2eadc5789a03d4dda41.m3u8\n",
    "N°81 - Title: Módulo VIII – pt.1 : Cáncer : url:https://embed-ssl.wistia.com/deliveries/b129565e00a82b39b18e357f4fa05942401e4a42.m3u8\n",
    "N°82 - Title: Módulo VIII – pt.2 : Sol en Cáncer : url:https://embed-ssl.wistia.com/deliveries/ac046ead326f9d46c93c5285e2cab6b459f88b80.m3u8\n",
    "N°83 - Title: Módulo VIII – pt.3 : Luna en Cáncer : url:https://embed-ssl.wistia.com/deliveries/fe8f35e9b72ffcf156280cb52ba741403fd56472.m3u8\n",
    "N°84 - Title: Test Módulo VIII : url:https://embed-ssl.wistia.com/deliveries/fe8f35e9b72ffcf156280cb52ba741403fd56472.m3u8\n",
    "N°85 - Title: Módulo IX – pt.1 : Leo : url:https://embed-ssl.wistia.com/deliveries/b0550266f65c4d18c99e3f6247bf0032e649ac1f.m3u8\n",
    "N°86 - Title: Módulo IX – pt.2 : Sol en Leo : url:https://embed-ssl.wistia.com/deliveries/ba2084199c6049f279904e6bd4bb558ee64f9ec3.m3u8\n",
    "N°87 - Title: Módulo IX – pt.3 : Luna en Leo e Instrucción Luna – Sol : url:https://embed-ssl.wistia.com/deliveries/827950413a77ff5ea40f35a4daa2279c091fe089.m3u8\n",
    "N°88 - Title: Test Módulo IX : url:https://embed-ssl.wistia.com/deliveries/827950413a77ff5ea40f35a4daa2279c091fe089.m3u8\n",
    "N°89 - Title: Módulo X – pt.1 : Virgo : url:https://embed-ssl.wistia.com/deliveries/26f33738e6bf5f431574baa7daa89d3611a1e7ce.m3u8\n",
    "N°90 - Title: Módulo X – pt.2 : Sol en Virgo : url:https://embed-ssl.wistia.com/deliveries/0ad60b35b7baeefadce4852e4a1563909bf3657d.m3u8\n",
    "N°91 - Title: Módulo X – pt.3 : Luna en Virgo : url:https://embed-ssl.wistia.com/deliveries/b23e6f8d9ff7fe6ff49faee93309cf482975d913.m3u8\n",
    "N°92 - Title: Test Módulo X : url:https://embed-ssl.wistia.com/deliveries/b23e6f8d9ff7fe6ff49faee93309cf482975d913.m3u8\n",
    "N°93 - Title: Cápsula: Signos y Polaridades : url:https://embed-ssl.wistia.com/deliveries/658651dbb83eb7a8fad8f00a2c6801983c93c671.m3u8\n",
    "N°94 - Title: Módulo XI – pt.1 : Libra : url:https://embed-ssl.wistia.com/deliveries/5d32b404f5495b81654dde59236194361e886110.m3u8\n",
    "N°95 - Title: Módulo XI – pt.2 : Sol en Libra : url:https://embed-ssl.wistia.com/deliveries/f8d037b8364496d938014210f0b4dfbff4018e92.m3u8\n",
    "N°96 - Title: Módulo XI – pt.3 : Luna en Libra : url:https://embed-ssl.wistia.com/deliveries/f96485903f2b18a225857c5b884c96d561c09327.m3u8\n",
    "N°97 - Title: Test Módulo XI : url:https://embed-ssl.wistia.com/deliveries/f96485903f2b18a225857c5b884c96d561c09327.m3u8\n",
    "N°98 - Title: Módulo XII – pt.1 : Escorpio : url:https://embed-ssl.wistia.com/deliveries/3de83e764c72cc6c858ae0906d146983bfd32e6b.m3u8\n",
    "N°99 - Title: Módulo XII – pt.2 : Plutón : url:https://embed-ssl.wistia.com/deliveries/b015a0fa22faebd159874b6d8c134eec77f7da25.m3u8\n",
    "N°100 - Title: Módulo XII – pt.3 : Sol en Escorpio : url:https://embed-ssl.wistia.com/deliveries/8003b6e27f1e1951cde9c7b6b245139fb26b63fe.m3u8\n",
    "N°101 - Title: Módulo XII – pt.4 : Luna en Escorpio e Instrucción Luna – Plutón : url:https://embed-ssl.wistia.com/deliveries/7eb5d437add21aedf416958e36bec2ced9d20086.m3u8\n",
    "N°102 - Title: Test Módulo XII : url:https://embed-ssl.wistia.com/deliveries/7eb5d437add21aedf416958e36bec2ced9d20086.m3u8\n",
    "'''"
   ]
  },
  {
   "cell_type": "code",
   "execution_count": 147,
   "id": "a2ba5f8c-1491-40b9-9d08-f36d1bc23f7d",
   "metadata": {},
   "outputs": [],
   "source": [
    "out_ls= output.split('\\n')\n",
    "# .split('url:')\n",
    "end_ls = [ r.split('url:') for r in out_ls]\n",
    "df = pd.DataFrame(end_ls,columns=['id','url'])"
   ]
  },
  {
   "cell_type": "markdown",
   "id": "b0f411d8-acc6-46ce-a8ac-fca55d26e241",
   "metadata": {},
   "source": [
    "## Downloading Videos:"
   ]
  },
  {
   "cell_type": "code",
   "execution_count": 182,
   "id": "e82080c1-e65e-47f2-a76b-94eabeeaf7b0",
   "metadata": {},
   "outputs": [
    {
     "data": {
      "text/plain": [
       "'C:\\\\Users\\\\juani\\\\Documents\\\\3_My_Jupiter_Notebooks\\\\5_Galicia\\\\7_boletines\\\\scrapping'"
      ]
     },
     "execution_count": 182,
     "metadata": {},
     "output_type": "execute_result"
    }
   ],
   "source": [
    "import os\n",
    "from pytube import Stream\n",
    "os.getcwd()"
   ]
  },
  {
   "cell_type": "code",
   "execution_count": 188,
   "id": "b68bb1ee-e8cb-498c-b92f-2be3f2f8fdb9",
   "metadata": {},
   "outputs": [],
   "source": [
    "urls = [i for i in df.url.tolist() if i]\n",
    "# url"
   ]
  },
  {
   "cell_type": "code",
   "execution_count": 189,
   "id": "bfeff077-d217-44b9-b73b-73d1e49d780f",
   "metadata": {},
   "outputs": [
    {
     "data": {
      "text/plain": [
       "'https://embed-ssl.wistia.com/deliveries/352815767cd2506a1ecfd3d96925286a4e5bd23d.m3u8'"
      ]
     },
     "execution_count": 189,
     "metadata": {},
     "output_type": "execute_result"
    }
   ],
   "source": [
    "urls[0]"
   ]
  },
  {
   "cell_type": "code",
   "execution_count": 206,
   "id": "bf6e09b9-a09a-44f5-b977-355205b9c1ec",
   "metadata": {},
   "outputs": [],
   "source": [
    "df_.to_pickle('df_1.pkl')"
   ]
  },
  {
   "cell_type": "code",
   "execution_count": 208,
   "id": "cef99345-e5e7-4796-a8d5-8eb0b4ab0a72",
   "metadata": {},
   "outputs": [],
   "source": [
    "df_2.to_pickle('df_2.pkl')"
   ]
  },
  {
   "cell_type": "code",
   "execution_count": 224,
   "id": "18b0b5c2-ddf1-42b9-bf9c-b93ff137dd73",
   "metadata": {},
   "outputs": [
    {
     "data": {
      "text/plain": [
       "253"
      ]
     },
     "execution_count": 224,
     "metadata": {},
     "output_type": "execute_result"
    }
   ],
   "source": [
    "urls = [i for i in df.url.tolist() if i]\n",
    "urls = urls + df_2.url.tolist()\n",
    "len(urls)"
   ]
  },
  {
   "cell_type": "code",
   "execution_count": null,
   "id": "40c6e247-3457-4635-99eb-85d913d380a0",
   "metadata": {},
   "outputs": [],
   "source": [
    "import os\n",
    "from pytube import Stream"
   ]
  },
  {
   "cell_type": "code",
   "execution_count": null,
   "id": "8e6e8050-b341-4644-bca3-95c49c27999f",
   "metadata": {},
   "outputs": [
    {
     "name": "stdout",
     "output_type": "stream",
     "text": [
      "Video downloaded: downloads\\0_352815767cd2506a1ecfd3d96925286a4e5bd23d.mp4\n",
      "Video downloaded: downloads\\1_94f964e01717c651dea4090e898f6c139f2935f0.mp4\n",
      "Video downloaded: downloads\\2_94f964e01717c651dea4090e898f6c139f2935f0.mp4\n",
      "Video downloaded: downloads\\3_d9e795173bb1eab9a16a1404f87d2e868f4a0282.mp4\n",
      "Video downloaded: downloads\\4_53e117ebe06506ab7f8971e59f04b8622ce2ba52.mp4\n",
      "Video downloaded: downloads\\5_e9141c767e46ad1d0b94a5e8dd182f2d21ac7ff8.mp4\n",
      "Video downloaded: downloads\\6_99534008a6dcf066bf00186df96302dfeb544522.mp4\n",
      "Video downloaded: downloads\\7_99534008a6dcf066bf00186df96302dfeb544522.mp4\n",
      "Video downloaded: downloads\\8_99534008a6dcf066bf00186df96302dfeb544522.mp4\n",
      "Video downloaded: downloads\\9_99534008a6dcf066bf00186df96302dfeb544522.mp4\n",
      "Video downloaded: downloads\\10_8340cc8bcf9c12376be5c0b3d21bbed52d3e8449.mp4\n",
      "Video downloaded: downloads\\11_d66e9132f623a80f6c72657777b404b045d38a35.mp4\n",
      "Video downloaded: downloads\\12_6115a14d6eeef89523d64b0a5e780536e1439f78.mp4\n",
      "Video downloaded: downloads\\13_0a86eff35792f61bb57f5e10dd6dfbccd45c32cb.mp4\n",
      "Video downloaded: downloads\\14_9a6e3807bb8d3440f30a0a42f9f9e1c028cb2d89.mp4\n",
      "Video downloaded: downloads\\15_fd1a5cbe5a6ab188426c54b495c918e39319fdc5.mp4\n",
      "Video downloaded: downloads\\16_555c6ca85ed1bb8fff8679f6aef4a7eff252356e.mp4\n",
      "Video downloaded: downloads\\17_a024159c2dcdc6860b318667492b6f5e02d9d75a.mp4\n",
      "Video downloaded: downloads\\18_315405af656561e911c67e105ec62954ce4d5c9d.mp4\n",
      "Video downloaded: downloads\\19_b6874ebdc528bb19d15480e33891bca64e32df3f.mp4\n",
      "Video downloaded: downloads\\20_c78c34eefb16c546f047a515432545f66c2dd286.mp4\n",
      "Video downloaded: downloads\\21_1d85fb1b7fe4937607e3539c18c4944c53e65b69.mp4\n",
      "Video downloaded: downloads\\22_a50826bc7b1a7ccbc5167153e66c9bf5b00a0a3e.mp4\n",
      "Video downloaded: downloads\\23_bfa8ef11bae60bfc98824bd44ec75be9c3f9d205.mp4\n",
      "Video downloaded: downloads\\24_0fd5aec610dc31f4e595a4a1887f9ddcbfece918.mp4\n",
      "Video downloaded: downloads\\25_0af4323ee70857b8897d14704ebb401b712d9acc.mp4\n",
      "Video downloaded: downloads\\26_98d80cb0d46654c8ca52c0ec97af5b239c05732e.mp4\n",
      "Video downloaded: downloads\\27_7b9a1b9615fcdbd537804722c127e43083405a59.mp4\n",
      "Video downloaded: downloads\\28_7b9a1b9615fcdbd537804722c127e43083405a59.mp4\n",
      "Video downloaded: downloads\\29_9ed2dfc6f15220278bdcaa73b7572f35c3268138.mp4\n",
      "Video downloaded: downloads\\30_9ed2dfc6f15220278bdcaa73b7572f35c3268138.mp4\n",
      "Video downloaded: downloads\\31_9ed2dfc6f15220278bdcaa73b7572f35c3268138.mp4\n",
      "Video downloaded: downloads\\32_9ed2dfc6f15220278bdcaa73b7572f35c3268138.mp4\n",
      "Video downloaded: downloads\\33_9ed2dfc6f15220278bdcaa73b7572f35c3268138.mp4\n",
      "Video downloaded: downloads\\34_9ed2dfc6f15220278bdcaa73b7572f35c3268138.mp4\n",
      "Video downloaded: downloads\\35_9ed2dfc6f15220278bdcaa73b7572f35c3268138.mp4\n",
      "Video downloaded: downloads\\36_9ed2dfc6f15220278bdcaa73b7572f35c3268138.mp4\n",
      "Video downloaded: downloads\\37_9ed2dfc6f15220278bdcaa73b7572f35c3268138.mp4\n",
      "Video downloaded: downloads\\38_9ed2dfc6f15220278bdcaa73b7572f35c3268138.mp4\n",
      "Video downloaded: downloads\\39_9ed2dfc6f15220278bdcaa73b7572f35c3268138.mp4\n",
      "Video downloaded: downloads\\40_9ed2dfc6f15220278bdcaa73b7572f35c3268138.mp4\n",
      "Video downloaded: downloads\\41_9ed2dfc6f15220278bdcaa73b7572f35c3268138.mp4\n",
      "Video downloaded: downloads\\42_9ed2dfc6f15220278bdcaa73b7572f35c3268138.mp4\n",
      "Video downloaded: downloads\\43_9ed2dfc6f15220278bdcaa73b7572f35c3268138.mp4\n",
      "Video downloaded: downloads\\44_9ed2dfc6f15220278bdcaa73b7572f35c3268138.mp4\n",
      "Video downloaded: downloads\\45_bf18a666524b17e69feb75293f54df3f0a5808b5.mp4\n",
      "Video downloaded: downloads\\46_ef5f0f7f37fc72952a97e1de0e2cb1c9812bd455.mp4\n",
      "Video downloaded: downloads\\47_04ae0e713cd69acd003ee6c6f94a2a479ba6ecf5.mp4\n",
      "Video downloaded: downloads\\48_7e8f4cfa9738e4cf37dfa838b9179f37705f0b2f.mp4\n",
      "Video downloaded: downloads\\49_7e8f4cfa9738e4cf37dfa838b9179f37705f0b2f.mp4\n",
      "Video downloaded: downloads\\50_4935212fb4a7b61000970f653e98261186137902.mp4\n",
      "Video downloaded: downloads\\51_2498a77d27760a6daea08cfc64257e5d603cf7b0.mp4\n",
      "Video downloaded: downloads\\52_cf91877121c15f65aa1f2ca29c16d30ee2f58321.mp4\n",
      "Video downloaded: downloads\\53_0e17b413d7621c958873a403df41d66c660e8f06.mp4\n",
      "Video downloaded: downloads\\54_0e17b413d7621c958873a403df41d66c660e8f06.mp4\n",
      "Video downloaded: downloads\\55_3e2c39956215a0c71f1ac573303cbcf251340210.mp4\n",
      "Video downloaded: downloads\\56_e024ef0e9164986c99626db7a833d67acb4018cf.mp4\n",
      "Video downloaded: downloads\\57_fd0cd63712649db3e2ddaa5b4895640fa4dbd56c.mp4\n",
      "Video downloaded: downloads\\58_129e1d8c0b1edeac6f45f414222ff29fee8325d9.mp4\n",
      "Video downloaded: downloads\\59_8bc16df66a7aaa8d8ee50b146b29dce771798edd.mp4\n",
      "Video downloaded: downloads\\60_8bc16df66a7aaa8d8ee50b146b29dce771798edd.mp4\n",
      "Video downloaded: downloads\\61_513d6faf8da30f6ca7f337b56d9ef00c584383ea.mp4\n",
      "Video downloaded: downloads\\62_9f515bd7f756bcc7a1ac0f3355c168b70bc62c90.mp4\n",
      "Video downloaded: downloads\\63_e4810676848fd4edbfcfa8483343e138129dfc4d.mp4\n",
      "Video downloaded: downloads\\64_26f421fe79f6a2c557e627e8b6bf0ce789bc56d9.mp4\n",
      "Video downloaded: downloads\\65_cc1d2180e48558bf096807006ae84e44860040bc.mp4\n",
      "Video downloaded: downloads\\66_cc1d2180e48558bf096807006ae84e44860040bc.mp4\n",
      "Video downloaded: downloads\\67_cc1d2180e48558bf096807006ae84e44860040bc.mp4\n",
      "Video downloaded: downloads\\68_9b72a963d01df3c95fe3e64b066c2a991bc0f6f2.mp4\n",
      "Video downloaded: downloads\\69_3a06b43c9e278f3e109f5d6a2ff18373ee552c64.mp4\n",
      "Video downloaded: downloads\\70_951b83660acdc8e52abfbc17a8b139ea393879ea.mp4\n",
      "Video downloaded: downloads\\71_951b83660acdc8e52abfbc17a8b139ea393879ea.mp4\n",
      "Video downloaded: downloads\\72_b1b1a5400ba6a77717a4795dfd4b65ec52391590.mp4\n",
      "Video downloaded: downloads\\73_1b21a09a780d0ab2e3cf508954a7f4d6f7a7e016.mp4\n",
      "Video downloaded: downloads\\74_cfb7ece67940a40df34421989ee285384e65fc87.mp4\n",
      "Video downloaded: downloads\\75_cfb7ece67940a40df34421989ee285384e65fc87.mp4\n",
      "Video downloaded: downloads\\76_9da482b502878c4b298990824875ae362852d797.mp4\n",
      "Video downloaded: downloads\\77_aa1c6e86591253fd843f1a04465c25483fc14d21.mp4\n",
      "Video downloaded: downloads\\78_ac5a7ba9f85ae6202156321482ba583ff2ac2250.mp4\n",
      "Video downloaded: downloads\\79_a72b57f555daf3533090e2eadc5789a03d4dda41.mp4\n",
      "Video downloaded: downloads\\80_a72b57f555daf3533090e2eadc5789a03d4dda41.mp4\n",
      "Video downloaded: downloads\\81_b129565e00a82b39b18e357f4fa05942401e4a42.mp4\n",
      "Video downloaded: downloads\\82_ac046ead326f9d46c93c5285e2cab6b459f88b80.mp4\n",
      "Video downloaded: downloads\\83_fe8f35e9b72ffcf156280cb52ba741403fd56472.mp4\n",
      "Video downloaded: downloads\\84_fe8f35e9b72ffcf156280cb52ba741403fd56472.mp4\n",
      "Video downloaded: downloads\\85_b0550266f65c4d18c99e3f6247bf0032e649ac1f.mp4\n",
      "Video downloaded: downloads\\86_ba2084199c6049f279904e6bd4bb558ee64f9ec3.mp4\n",
      "Video downloaded: downloads\\87_827950413a77ff5ea40f35a4daa2279c091fe089.mp4\n",
      "Video downloaded: downloads\\88_827950413a77ff5ea40f35a4daa2279c091fe089.mp4\n",
      "Video downloaded: downloads\\89_26f33738e6bf5f431574baa7daa89d3611a1e7ce.mp4\n",
      "Video downloaded: downloads\\90_0ad60b35b7baeefadce4852e4a1563909bf3657d.mp4\n",
      "Video downloaded: downloads\\91_b23e6f8d9ff7fe6ff49faee93309cf482975d913.mp4\n",
      "Video downloaded: downloads\\92_b23e6f8d9ff7fe6ff49faee93309cf482975d913.mp4\n",
      "Video downloaded: downloads\\93_658651dbb83eb7a8fad8f00a2c6801983c93c671.mp4\n",
      "Video downloaded: downloads\\94_5d32b404f5495b81654dde59236194361e886110.mp4\n",
      "Video downloaded: downloads\\95_f8d037b8364496d938014210f0b4dfbff4018e92.mp4\n",
      "Video downloaded: downloads\\96_f96485903f2b18a225857c5b884c96d561c09327.mp4\n",
      "Video downloaded: downloads\\97_f96485903f2b18a225857c5b884c96d561c09327.mp4\n",
      "Video downloaded: downloads\\98_3de83e764c72cc6c858ae0906d146983bfd32e6b.mp4\n",
      "Video downloaded: downloads\\99_b015a0fa22faebd159874b6d8c134eec77f7da25.mp4\n",
      "Video downloaded: downloads\\100_8003b6e27f1e1951cde9c7b6b245139fb26b63fe.mp4\n",
      "Video downloaded: downloads\\101_7eb5d437add21aedf416958e36bec2ced9d20086.mp4\n",
      "Video downloaded: downloads\\102_7eb5d437add21aedf416958e36bec2ced9d20086.mp4\n"
     ]
    }
   ],
   "source": [
    "def download_m3u8_video_as_mp4(url, iteration, output_folder='downloads'):\n",
    "    \n",
    "    os.makedirs(output_folder, exist_ok=True)\n",
    "\n",
    "    # Extract the video ID from the URL\n",
    "    video_id = url.split('/')[-1].split('.')[0]\n",
    "\n",
    "    \n",
    "    # Construct the output filename with the iteration number\n",
    "    output_file = os.path.join(output_folder, f'{iteration}_{video_id}.mp4')\n",
    "    command = f'ffmpeg -i \"{url}\" -c copy \"{output_file}\"'   \n",
    "    os.system(command)\n",
    "    \n",
    "    \n",
    "    print(f'Video downloaded: {output_file}')\n",
    "\n",
    "\n",
    "for i, url in enumerate(urls):\n",
    "    if url==None:\n",
    "        pass\n",
    "    else:\n",
    "        download_m3u8_video_as_mp4(url, i, output_folder='downloads')"
   ]
  },
  {
   "cell_type": "code",
   "execution_count": null,
   "id": "ceaec2ef-1c2e-4123-91bc-854b29a4c39a",
   "metadata": {},
   "outputs": [],
   "source": [
    "import os\n",
    "import requests\n",
    "\n",
    "# List of URLs to download\n",
    "urls = [i for i in df_2.url.tolist() if i]\n",
    "\n",
    "# Function to download an M3U8 video file\n",
    "def download_m3u8_video(url, iteration, output_folder='downloads'):\n",
    "    # Create the output folder if it doesn't exist\n",
    "    os.makedirs(output_folder, exist_ok=True)\n",
    "    \n",
    "    # Construct the output filename with the iteration number and the .m3u8 extension\n",
    "    output_file = os.path.join(output_folder, f'{iteration}_{os.path.basename(url)}')\n",
    "    \n",
    "    # Download the video using requests\n",
    "    response = requests.get(url)\n",
    "    \n",
    "    # Save the video file as .m3u8\n",
    "    with open(output_file, 'wb') as file:\n",
    "        file.write(response.content)\n",
    "    \n",
    "    # Print a message indicating the video was downloaded\n",
    "    print(f'Video downloaded: {output_file}')\n",
    "\n",
    "# Download all M3U8 videos from the list of URLs\n",
    "for i, url in enumerate(urls):\n",
    "    download_m3u8_video(url, i, output_folder='downloads')"
   ]
  },
  {
   "cell_type": "code",
   "execution_count": 209,
   "id": "8f3b7c06-ce53-4e64-a9ec-333c1ac96a97",
   "metadata": {},
   "outputs": [
    {
     "name": "stdout",
     "output_type": "stream",
     "text": [
      "Video downloaded: downloads\\0_352815767cd2506a1ecfd3d96925286a4e5bd23d.m3u8\n",
      "Video downloaded: downloads\\1_94f964e01717c651dea4090e898f6c139f2935f0.m3u8\n",
      "Video downloaded: downloads\\2_94f964e01717c651dea4090e898f6c139f2935f0.m3u8\n",
      "Video downloaded: downloads\\3_d9e795173bb1eab9a16a1404f87d2e868f4a0282.m3u8\n",
      "Video downloaded: downloads\\4_53e117ebe06506ab7f8971e59f04b8622ce2ba52.m3u8\n",
      "Video downloaded: downloads\\5_e9141c767e46ad1d0b94a5e8dd182f2d21ac7ff8.m3u8\n",
      "Video downloaded: downloads\\6_99534008a6dcf066bf00186df96302dfeb544522.m3u8\n",
      "Video downloaded: downloads\\7_99534008a6dcf066bf00186df96302dfeb544522.m3u8\n",
      "Video downloaded: downloads\\8_99534008a6dcf066bf00186df96302dfeb544522.m3u8\n",
      "Video downloaded: downloads\\9_99534008a6dcf066bf00186df96302dfeb544522.m3u8\n",
      "Video downloaded: downloads\\10_8340cc8bcf9c12376be5c0b3d21bbed52d3e8449.m3u8\n",
      "Video downloaded: downloads\\11_d66e9132f623a80f6c72657777b404b045d38a35.m3u8\n",
      "Video downloaded: downloads\\12_6115a14d6eeef89523d64b0a5e780536e1439f78.m3u8\n",
      "Video downloaded: downloads\\13_0a86eff35792f61bb57f5e10dd6dfbccd45c32cb.m3u8\n",
      "Video downloaded: downloads\\14_9a6e3807bb8d3440f30a0a42f9f9e1c028cb2d89.m3u8\n",
      "Video downloaded: downloads\\15_fd1a5cbe5a6ab188426c54b495c918e39319fdc5.m3u8\n",
      "Video downloaded: downloads\\16_555c6ca85ed1bb8fff8679f6aef4a7eff252356e.m3u8\n",
      "Video downloaded: downloads\\17_a024159c2dcdc6860b318667492b6f5e02d9d75a.m3u8\n",
      "Video downloaded: downloads\\18_315405af656561e911c67e105ec62954ce4d5c9d.m3u8\n",
      "Video downloaded: downloads\\19_b6874ebdc528bb19d15480e33891bca64e32df3f.m3u8\n",
      "Video downloaded: downloads\\20_c78c34eefb16c546f047a515432545f66c2dd286.m3u8\n",
      "Video downloaded: downloads\\21_1d85fb1b7fe4937607e3539c18c4944c53e65b69.m3u8\n",
      "Video downloaded: downloads\\22_a50826bc7b1a7ccbc5167153e66c9bf5b00a0a3e.m3u8\n",
      "Video downloaded: downloads\\23_bfa8ef11bae60bfc98824bd44ec75be9c3f9d205.m3u8\n",
      "Video downloaded: downloads\\24_0fd5aec610dc31f4e595a4a1887f9ddcbfece918.m3u8\n",
      "Video downloaded: downloads\\25_0af4323ee70857b8897d14704ebb401b712d9acc.m3u8\n",
      "Video downloaded: downloads\\26_98d80cb0d46654c8ca52c0ec97af5b239c05732e.m3u8\n",
      "Video downloaded: downloads\\27_7b9a1b9615fcdbd537804722c127e43083405a59.m3u8\n",
      "Video downloaded: downloads\\28_7b9a1b9615fcdbd537804722c127e43083405a59.m3u8\n",
      "Video downloaded: downloads\\29_9ed2dfc6f15220278bdcaa73b7572f35c3268138.m3u8\n",
      "Video downloaded: downloads\\30_9ed2dfc6f15220278bdcaa73b7572f35c3268138.m3u8\n",
      "Video downloaded: downloads\\31_9ed2dfc6f15220278bdcaa73b7572f35c3268138.m3u8\n",
      "Video downloaded: downloads\\32_9ed2dfc6f15220278bdcaa73b7572f35c3268138.m3u8\n",
      "Video downloaded: downloads\\33_9ed2dfc6f15220278bdcaa73b7572f35c3268138.m3u8\n",
      "Video downloaded: downloads\\34_9ed2dfc6f15220278bdcaa73b7572f35c3268138.m3u8\n",
      "Video downloaded: downloads\\35_9ed2dfc6f15220278bdcaa73b7572f35c3268138.m3u8\n",
      "Video downloaded: downloads\\36_9ed2dfc6f15220278bdcaa73b7572f35c3268138.m3u8\n",
      "Video downloaded: downloads\\37_9ed2dfc6f15220278bdcaa73b7572f35c3268138.m3u8\n",
      "Video downloaded: downloads\\38_9ed2dfc6f15220278bdcaa73b7572f35c3268138.m3u8\n",
      "Video downloaded: downloads\\39_9ed2dfc6f15220278bdcaa73b7572f35c3268138.m3u8\n",
      "Video downloaded: downloads\\40_9ed2dfc6f15220278bdcaa73b7572f35c3268138.m3u8\n",
      "Video downloaded: downloads\\41_9ed2dfc6f15220278bdcaa73b7572f35c3268138.m3u8\n",
      "Video downloaded: downloads\\42_9ed2dfc6f15220278bdcaa73b7572f35c3268138.m3u8\n",
      "Video downloaded: downloads\\43_9ed2dfc6f15220278bdcaa73b7572f35c3268138.m3u8\n",
      "Video downloaded: downloads\\44_9ed2dfc6f15220278bdcaa73b7572f35c3268138.m3u8\n",
      "Video downloaded: downloads\\45_bf18a666524b17e69feb75293f54df3f0a5808b5.m3u8\n",
      "Video downloaded: downloads\\46_ef5f0f7f37fc72952a97e1de0e2cb1c9812bd455.m3u8\n",
      "Video downloaded: downloads\\47_04ae0e713cd69acd003ee6c6f94a2a479ba6ecf5.m3u8\n",
      "Video downloaded: downloads\\48_7e8f4cfa9738e4cf37dfa838b9179f37705f0b2f.m3u8\n",
      "Video downloaded: downloads\\49_7e8f4cfa9738e4cf37dfa838b9179f37705f0b2f.m3u8\n",
      "Video downloaded: downloads\\50_4935212fb4a7b61000970f653e98261186137902.m3u8\n",
      "Video downloaded: downloads\\51_2498a77d27760a6daea08cfc64257e5d603cf7b0.m3u8\n",
      "Video downloaded: downloads\\52_cf91877121c15f65aa1f2ca29c16d30ee2f58321.m3u8\n",
      "Video downloaded: downloads\\53_0e17b413d7621c958873a403df41d66c660e8f06.m3u8\n",
      "Video downloaded: downloads\\54_0e17b413d7621c958873a403df41d66c660e8f06.m3u8\n",
      "Video downloaded: downloads\\55_3e2c39956215a0c71f1ac573303cbcf251340210.m3u8\n",
      "Video downloaded: downloads\\56_e024ef0e9164986c99626db7a833d67acb4018cf.m3u8\n",
      "Video downloaded: downloads\\57_fd0cd63712649db3e2ddaa5b4895640fa4dbd56c.m3u8\n",
      "Video downloaded: downloads\\58_129e1d8c0b1edeac6f45f414222ff29fee8325d9.m3u8\n",
      "Video downloaded: downloads\\59_8bc16df66a7aaa8d8ee50b146b29dce771798edd.m3u8\n",
      "Video downloaded: downloads\\60_8bc16df66a7aaa8d8ee50b146b29dce771798edd.m3u8\n",
      "Video downloaded: downloads\\61_513d6faf8da30f6ca7f337b56d9ef00c584383ea.m3u8\n",
      "Video downloaded: downloads\\62_9f515bd7f756bcc7a1ac0f3355c168b70bc62c90.m3u8\n",
      "Video downloaded: downloads\\63_e4810676848fd4edbfcfa8483343e138129dfc4d.m3u8\n",
      "Video downloaded: downloads\\64_26f421fe79f6a2c557e627e8b6bf0ce789bc56d9.m3u8\n",
      "Video downloaded: downloads\\65_cc1d2180e48558bf096807006ae84e44860040bc.m3u8\n",
      "Video downloaded: downloads\\66_cc1d2180e48558bf096807006ae84e44860040bc.m3u8\n",
      "Video downloaded: downloads\\67_cc1d2180e48558bf096807006ae84e44860040bc.m3u8\n",
      "Video downloaded: downloads\\68_9b72a963d01df3c95fe3e64b066c2a991bc0f6f2.m3u8\n",
      "Video downloaded: downloads\\69_3a06b43c9e278f3e109f5d6a2ff18373ee552c64.m3u8\n",
      "Video downloaded: downloads\\70_951b83660acdc8e52abfbc17a8b139ea393879ea.m3u8\n",
      "Video downloaded: downloads\\71_951b83660acdc8e52abfbc17a8b139ea393879ea.m3u8\n",
      "Video downloaded: downloads\\72_b1b1a5400ba6a77717a4795dfd4b65ec52391590.m3u8\n",
      "Video downloaded: downloads\\73_1b21a09a780d0ab2e3cf508954a7f4d6f7a7e016.m3u8\n",
      "Video downloaded: downloads\\74_cfb7ece67940a40df34421989ee285384e65fc87.m3u8\n",
      "Video downloaded: downloads\\75_cfb7ece67940a40df34421989ee285384e65fc87.m3u8\n",
      "Video downloaded: downloads\\76_9da482b502878c4b298990824875ae362852d797.m3u8\n",
      "Video downloaded: downloads\\77_aa1c6e86591253fd843f1a04465c25483fc14d21.m3u8\n",
      "Video downloaded: downloads\\78_ac5a7ba9f85ae6202156321482ba583ff2ac2250.m3u8\n",
      "Video downloaded: downloads\\79_a72b57f555daf3533090e2eadc5789a03d4dda41.m3u8\n",
      "Video downloaded: downloads\\80_a72b57f555daf3533090e2eadc5789a03d4dda41.m3u8\n",
      "Video downloaded: downloads\\81_b129565e00a82b39b18e357f4fa05942401e4a42.m3u8\n",
      "Video downloaded: downloads\\82_ac046ead326f9d46c93c5285e2cab6b459f88b80.m3u8\n",
      "Video downloaded: downloads\\83_fe8f35e9b72ffcf156280cb52ba741403fd56472.m3u8\n",
      "Video downloaded: downloads\\84_fe8f35e9b72ffcf156280cb52ba741403fd56472.m3u8\n",
      "Video downloaded: downloads\\85_b0550266f65c4d18c99e3f6247bf0032e649ac1f.m3u8\n",
      "Video downloaded: downloads\\86_ba2084199c6049f279904e6bd4bb558ee64f9ec3.m3u8\n",
      "Video downloaded: downloads\\87_827950413a77ff5ea40f35a4daa2279c091fe089.m3u8\n",
      "Video downloaded: downloads\\88_827950413a77ff5ea40f35a4daa2279c091fe089.m3u8\n",
      "Video downloaded: downloads\\89_26f33738e6bf5f431574baa7daa89d3611a1e7ce.m3u8\n",
      "Video downloaded: downloads\\90_0ad60b35b7baeefadce4852e4a1563909bf3657d.m3u8\n",
      "Video downloaded: downloads\\91_b23e6f8d9ff7fe6ff49faee93309cf482975d913.m3u8\n",
      "Video downloaded: downloads\\92_b23e6f8d9ff7fe6ff49faee93309cf482975d913.m3u8\n",
      "Video downloaded: downloads\\93_658651dbb83eb7a8fad8f00a2c6801983c93c671.m3u8\n",
      "Video downloaded: downloads\\94_5d32b404f5495b81654dde59236194361e886110.m3u8\n",
      "Video downloaded: downloads\\95_f8d037b8364496d938014210f0b4dfbff4018e92.m3u8\n",
      "Video downloaded: downloads\\96_f96485903f2b18a225857c5b884c96d561c09327.m3u8\n",
      "Video downloaded: downloads\\97_f96485903f2b18a225857c5b884c96d561c09327.m3u8\n",
      "Video downloaded: downloads\\98_3de83e764c72cc6c858ae0906d146983bfd32e6b.m3u8\n",
      "Video downloaded: downloads\\99_b015a0fa22faebd159874b6d8c134eec77f7da25.m3u8\n",
      "Video downloaded: downloads\\100_8003b6e27f1e1951cde9c7b6b245139fb26b63fe.m3u8\n",
      "Video downloaded: downloads\\101_7eb5d437add21aedf416958e36bec2ced9d20086.m3u8\n",
      "Video downloaded: downloads\\102_7eb5d437add21aedf416958e36bec2ced9d20086.m3u8\n"
     ]
    }
   ],
   "source": [
    "import os\n",
    "import requests\n",
    "\n",
    "# List of URLs to download\n",
    "urls = [i for i in df.url.tolist() if i]\n",
    "\n",
    "# Function to download an M3U8 video file\n",
    "def download_m3u8_video(url, iteration, output_folder='downloads'):\n",
    "    # Create the output folder if it doesn't exist\n",
    "    os.makedirs(output_folder, exist_ok=True)\n",
    "    \n",
    "    # Construct the output filename with the iteration number and the .m3u8 extension\n",
    "    output_file = os.path.join(output_folder, f'{iteration}_{os.path.basename(url)}')\n",
    "    \n",
    "    # Download the video using requests\n",
    "    response = requests.get(url)\n",
    "    \n",
    "    # Save the video file as .m3u8\n",
    "    with open(output_file, 'wb') as file:\n",
    "        file.write(response.content)\n",
    "    \n",
    "    # Print a message indicating the video was downloaded\n",
    "    print(f'Video downloaded: {output_file}')\n",
    "\n",
    "# Download all M3U8 videos from the list of URLs\n",
    "for i, url in enumerate(urls):\n",
    "    download_m3u8_video(url, i, output_folder='downloads')"
   ]
  },
  {
   "cell_type": "code",
   "execution_count": 205,
   "id": "7af25aef-eb4a-40a9-b1c5-ca2270fd5fb7",
   "metadata": {},
   "outputs": [
    {
     "name": "stdout",
     "output_type": "stream",
     "text": [
      "Video downloaded: downloads\\352815767cd2506a1ecfd3d96925286a4e5bd23d.mp4\n",
      "Video downloaded: downloads\\94f964e01717c651dea4090e898f6c139f2935f0.mp4\n",
      "Video downloaded: downloads\\94f964e01717c651dea4090e898f6c139f2935f0.mp4\n",
      "Video downloaded: downloads\\d9e795173bb1eab9a16a1404f87d2e868f4a0282.mp4\n",
      "Video downloaded: downloads\\53e117ebe06506ab7f8971e59f04b8622ce2ba52.mp4\n",
      "Video downloaded: downloads\\e9141c767e46ad1d0b94a5e8dd182f2d21ac7ff8.mp4\n",
      "Video downloaded: downloads\\99534008a6dcf066bf00186df96302dfeb544522.mp4\n",
      "Video downloaded: downloads\\99534008a6dcf066bf00186df96302dfeb544522.mp4\n",
      "Video downloaded: downloads\\99534008a6dcf066bf00186df96302dfeb544522.mp4\n",
      "Video downloaded: downloads\\99534008a6dcf066bf00186df96302dfeb544522.mp4\n",
      "Video downloaded: downloads\\8340cc8bcf9c12376be5c0b3d21bbed52d3e8449.mp4\n",
      "Video downloaded: downloads\\d66e9132f623a80f6c72657777b404b045d38a35.mp4\n"
     ]
    },
    {
     "ename": "KeyboardInterrupt",
     "evalue": "",
     "output_type": "error",
     "traceback": [
      "\u001b[1;31m---------------------------------------------------------------------------\u001b[0m",
      "\u001b[1;31mKeyboardInterrupt\u001b[0m                         Traceback (most recent call last)",
      "Cell \u001b[1;32mIn[205], line 28\u001b[0m\n\u001b[0;32m     26\u001b[0m \u001b[38;5;66;03m# Download all M3U8 videos from the list of URLs\u001b[39;00m\n\u001b[0;32m     27\u001b[0m \u001b[38;5;28;01mfor\u001b[39;00m i,url \u001b[38;5;129;01min\u001b[39;00m \u001b[38;5;28menumerate\u001b[39m(urls):\n\u001b[1;32m---> 28\u001b[0m     \u001b[43mdownload_m3u8_video\u001b[49m\u001b[43m(\u001b[49m\u001b[43murl\u001b[49m\u001b[43m)\u001b[49m\n",
      "Cell \u001b[1;32mIn[205], line 19\u001b[0m, in \u001b[0;36mdownload_m3u8_video\u001b[1;34m(url, output_folder)\u001b[0m\n\u001b[0;32m     15\u001b[0m output_file \u001b[38;5;241m=\u001b[39m os\u001b[38;5;241m.\u001b[39mpath\u001b[38;5;241m.\u001b[39mjoin(output_folder, \u001b[38;5;124mf\u001b[39m\u001b[38;5;124m'\u001b[39m\u001b[38;5;132;01m{\u001b[39;00mvideo_id\u001b[38;5;132;01m}\u001b[39;00m\u001b[38;5;124m.mp4\u001b[39m\u001b[38;5;124m'\u001b[39m)\n\u001b[0;32m     18\u001b[0m command \u001b[38;5;241m=\u001b[39m \u001b[38;5;124mf\u001b[39m\u001b[38;5;124m'\u001b[39m\u001b[38;5;124mffmpeg -i \u001b[39m\u001b[38;5;124m\"\u001b[39m\u001b[38;5;132;01m{\u001b[39;00murl\u001b[38;5;132;01m}\u001b[39;00m\u001b[38;5;124m\"\u001b[39m\u001b[38;5;124m -c copy \u001b[39m\u001b[38;5;124m\"\u001b[39m\u001b[38;5;132;01m{\u001b[39;00moutput_file\u001b[38;5;132;01m}\u001b[39;00m\u001b[38;5;124m\"\u001b[39m\u001b[38;5;124m'\u001b[39m\n\u001b[1;32m---> 19\u001b[0m \u001b[43mos\u001b[49m\u001b[38;5;241;43m.\u001b[39;49m\u001b[43msystem\u001b[49m\u001b[43m(\u001b[49m\u001b[43mcommand\u001b[49m\u001b[43m)\u001b[49m\n\u001b[0;32m     21\u001b[0m \u001b[38;5;28mprint\u001b[39m(\u001b[38;5;124mf\u001b[39m\u001b[38;5;124m'\u001b[39m\u001b[38;5;124mVideo downloaded: \u001b[39m\u001b[38;5;132;01m{\u001b[39;00moutput_file\u001b[38;5;132;01m}\u001b[39;00m\u001b[38;5;124m'\u001b[39m)\n",
      "\u001b[1;31mKeyboardInterrupt\u001b[0m: "
     ]
    }
   ],
   "source": [
    "import os\n",
    "from pytube import Stream\n",
    "\n",
    "urls = [i for i in df.url.tolist() if i]\n",
    "\n",
    "# Function to download an M3U8 video file\n",
    "def download_m3u8_video(url, output_folder='downloads'):\n",
    "\n",
    "    os.makedirs(output_folder, exist_ok=True)\n",
    "    \n",
    "\n",
    "    video_id = url.split('/')[-1].split('.')[0]\n",
    "    \n",
    "\n",
    "    output_file = os.path.join(output_folder, f'{video_id}.mp4')\n",
    "    \n",
    "\n",
    "    command = f'ffmpeg -i \"{url}\" -c copy \"{output_file}\"'\n",
    "    os.system(command)\n",
    "    \n",
    "    print(f'Video downloaded: {output_file}')\n",
    "\n",
    "    \n",
    "    \n",
    "    \n",
    "# Download all M3U8 videos from the list of URLs\n",
    "for i,url in enumerate(urls):\n",
    "    download_m3u8_video(url)\n",
    "    "
   ]
  },
  {
   "cell_type": "code",
   "execution_count": 196,
   "id": "bd207be8-4da9-4e15-8407-8c7213ac7a67",
   "metadata": {},
   "outputs": [
    {
     "data": {
      "text/html": [
       "<div>\n",
       "<style scoped>\n",
       "    .dataframe tbody tr th:only-of-type {\n",
       "        vertical-align: middle;\n",
       "    }\n",
       "\n",
       "    .dataframe tbody tr th {\n",
       "        vertical-align: top;\n",
       "    }\n",
       "\n",
       "    .dataframe thead th {\n",
       "        text-align: right;\n",
       "    }\n",
       "</style>\n",
       "<table border=\"1\" class=\"dataframe\">\n",
       "  <thead>\n",
       "    <tr style=\"text-align: right;\">\n",
       "      <th></th>\n",
       "      <th>url</th>\n",
       "      <th>n</th>\n",
       "      <th>title</th>\n",
       "    </tr>\n",
       "  </thead>\n",
       "  <tbody>\n",
       "    <tr>\n",
       "      <th>0</th>\n",
       "      <td>https://embed-ssl.wistia.com/deliveries/352815...</td>\n",
       "      <td>N°0</td>\n",
       "      <td>Bienvenida a la Formación :</td>\n",
       "    </tr>\n",
       "    <tr>\n",
       "      <th>1</th>\n",
       "      <td>https://embed-ssl.wistia.com/deliveries/94f964...</td>\n",
       "      <td>N°1</td>\n",
       "      <td>Como utilizar la plataforma :</td>\n",
       "    </tr>\n",
       "    <tr>\n",
       "      <th>2</th>\n",
       "      <td>https://embed-ssl.wistia.com/deliveries/94f964...</td>\n",
       "      <td>N°2</td>\n",
       "      <td>Descarga los apuntes del curso :</td>\n",
       "    </tr>\n",
       "    <tr>\n",
       "      <th>3</th>\n",
       "      <td>https://embed-ssl.wistia.com/deliveries/d9e795...</td>\n",
       "      <td>N°3</td>\n",
       "      <td>¿Cómo ver los webinars? :</td>\n",
       "    </tr>\n",
       "    <tr>\n",
       "      <th>4</th>\n",
       "      <td>https://embed-ssl.wistia.com/deliveries/53e117...</td>\n",
       "      <td>N°4</td>\n",
       "      <td>¿Cómo ver las Clases Extras? :</td>\n",
       "    </tr>\n",
       "  </tbody>\n",
       "</table>\n",
       "</div>"
      ],
      "text/plain": [
       "                                                 url    n  \\\n",
       "0  https://embed-ssl.wistia.com/deliveries/352815...  N°0   \n",
       "1  https://embed-ssl.wistia.com/deliveries/94f964...  N°1   \n",
       "2  https://embed-ssl.wistia.com/deliveries/94f964...  N°2   \n",
       "3  https://embed-ssl.wistia.com/deliveries/d9e795...  N°3   \n",
       "4  https://embed-ssl.wistia.com/deliveries/53e117...  N°4   \n",
       "\n",
       "                               title  \n",
       "0       Bienvenida a la Formación :   \n",
       "1     Como utilizar la plataforma :   \n",
       "2  Descarga los apuntes del curso :   \n",
       "3         ¿Cómo ver los webinars? :   \n",
       "4    ¿Cómo ver las Clases Extras? :   "
      ]
     },
     "execution_count": 196,
     "metadata": {},
     "output_type": "execute_result"
    }
   ],
   "source": [
    "df_ = pd.concat([df,pd.DataFrame([i.split(' - Title: ') for i in df.id.tolist()],columns=['n','title'])],axis=1).drop(columns=['id'])\n",
    "df_.head()"
   ]
  },
  {
   "cell_type": "code",
   "execution_count": 204,
   "id": "8ba65a30-ccf6-4a57-a8b4-63c06811298d",
   "metadata": {},
   "outputs": [],
   "source": [
    "def esplitear(x):\n",
    "    try:\n",
    "        return x.split('/')[-1].split('.')[0]\n",
    "    except:\n",
    "        return None\n",
    "    \n",
    "df_['id'] = [ esplitear(i) for i in df_.url]"
   ]
  },
  {
   "cell_type": "code",
   "execution_count": null,
   "id": "a2be3fab-acae-4f1f-b842-1ab19fdb645d",
   "metadata": {},
   "outputs": [],
   "source": [
    " url.split('/')[-1].split('.')[0]"
   ]
  },
  {
   "cell_type": "code",
   "execution_count": null,
   "id": "4161738b-97e0-4df2-b0e7-3b9009bb3120",
   "metadata": {},
   "outputs": [],
   "source": []
  },
  {
   "cell_type": "code",
   "execution_count": null,
   "id": "75f1054c-8d86-4464-9edf-8128f9bb7c09",
   "metadata": {},
   "outputs": [],
   "source": []
  },
  {
   "cell_type": "code",
   "execution_count": null,
   "id": "37368f6a-1fde-4835-8732-320867d52ee1",
   "metadata": {},
   "outputs": [],
   "source": []
  },
  {
   "cell_type": "markdown",
   "id": "3b86f954-02a1-4e60-8e0e-5d53c3dfa830",
   "metadata": {},
   "source": [
    "## Saved Posts"
   ]
  },
  {
   "cell_type": "code",
   "execution_count": 129,
   "id": "709cddae-0abc-4c7b-b4bb-bff86ae83d45",
   "metadata": {},
   "outputs": [],
   "source": [
    "def collect_data(ruta=\"https://www.linkedin.com/my-items/saved-posts/\",n=100):\n",
    "    driver.get(ruta)\n",
    "    \n",
    "    for i in range(n):\n",
    "        driver.execute_script(\"window.scrollTo(0, document.body.scrollHeight);\")\n",
    "        time.sleep(0.25)\n",
    "        \n",
    "    # Find the buttons\n",
    "    buttons = driver.find_elements_by_xpath('//button[@aria-label=\"Ver más. Haz clic para ver todo el contenido.\" and contains(@class, \"reusable-search-show-more-link t-black--light link-without-visited-state t-14\")]')\n",
    "\n",
    "    # Click on each button\n",
    "    for button in buttons:\n",
    "        # button.click()\n",
    "        driver.execute_script(\"arguments[0].click();\", button)\n",
    "    html = driver.page_source\n",
    "\n",
    "    return html"
   ]
  },
  {
   "cell_type": "code",
   "execution_count": 109,
   "id": "2ade9659-c8ad-4b81-8da7-f7c8948a4a7b",
   "metadata": {},
   "outputs": [],
   "source": [
    "# vamos a páginas guardadas:\n",
    "driver.get(\"https://www.linkedin.com/my-items/saved-posts/\")"
   ]
  },
  {
   "cell_type": "code",
   "execution_count": 112,
   "id": "3af36ad9-bccf-4882-bdae-2af1929b1205",
   "metadata": {},
   "outputs": [],
   "source": [
    "# cargamos bien toda la página:\n",
    "for i in range(1000):\n",
    "    driver.execute_script(\"window.scrollTo(0, document.body.scrollHeight);\")\n",
    "    time.sleep(0.25)"
   ]
  },
  {
   "cell_type": "code",
   "execution_count": 113,
   "id": "2ec0799e-2832-4d7f-bd87-7c50b5c759e8",
   "metadata": {},
   "outputs": [],
   "source": [
    "# Find the buttons\n",
    "buttons = driver.find_elements_by_xpath('//button[@aria-label=\"Ver más. Haz clic para ver todo el contenido.\" and contains(@class, \"reusable-search-show-more-link t-black--light link-without-visited-state t-14\")]')\n",
    "\n",
    "# Click on each button\n",
    "for button in buttons:\n",
    "    # button.click()\n",
    "    driver.execute_script(\"arguments[0].click();\", button)"
   ]
  },
  {
   "cell_type": "markdown",
   "id": "47a780cb-0af8-4472-92a0-51deb7527802",
   "metadata": {},
   "source": [
    "## Editting"
   ]
  },
  {
   "cell_type": "code",
   "execution_count": 69,
   "id": "90c07e78-4bb2-4fff-9c02-b561ef6676bc",
   "metadata": {},
   "outputs": [],
   "source": [
    "def get_name(post):\n",
    "    name_elements = post.find_all('span', class_='entity-result__title-text')\n",
    "    names = [name.text.strip() for name in name_elements]\n",
    "    return names\n",
    "\n",
    "def get_description(post):\n",
    "    description_elements = post.find_all('div', class_='entity-result__primary-subtitle')\n",
    "    descriptions = [description.text.strip() for description in description_elements]\n",
    "    return descriptions\n",
    "def get_link(post):\n",
    "    link_elements = post.find_all('a', class_='app-aware-link')\n",
    "    links = [link['href'] for link in link_elements]\n",
    "    return links"
   ]
  },
  {
   "cell_type": "code",
   "execution_count": 114,
   "id": "765658e6-9644-434f-9c4c-40f4766c9627",
   "metadata": {},
   "outputs": [],
   "source": [
    "# traemos el html:\n",
    "from bs4 import BeautifulSoup\n",
    "\n",
    "html = driver.page_source\n",
    "\n",
    "soup = BeautifulSoup(html)\n",
    "\n",
    "# for tag in soup.find_all('onclick'):\n",
    "#     print(tag.text)"
   ]
  },
  {
   "cell_type": "code",
   "execution_count": 134,
   "id": "123dfeb4-9deb-4c85-8e76-e000c3aef45b",
   "metadata": {},
   "outputs": [],
   "source": [
    "# post_elements[200]"
   ]
  },
  {
   "cell_type": "code",
   "execution_count": 116,
   "id": "3f5dd666-d802-4f6f-aa8d-bb5d207aeec3",
   "metadata": {},
   "outputs": [],
   "source": [
    "post_elements = soup.find_all('div', class_='entity-result__content-actor')\n",
    "\n",
    "p_dict = {}\n",
    "for n,post in enumerate(post_elements):\n",
    "    p_dict[n] = {}\n",
    "    p_dict[n]['name'] = get_name(post) \n",
    "    p_dict[n]['name'] = get_name(post) \n",
    "    p_dict[n]['desc'] = get_description(post) \n",
    "    p_dict[n]['link'] = get_link(post) "
   ]
  },
  {
   "cell_type": "code",
   "execution_count": 123,
   "id": "e5f7fca5-caf3-45c2-9c69-220cdd8cde6c",
   "metadata": {},
   "outputs": [
    {
     "data": {
      "text/plain": [
       "{'name': ['Matthew MayoVer el perfil de Matthew Mayo\\n\\n\\n\\n \\n• 2º'],\n",
       " 'desc': ['Editor-in-Chief & Data Scientist at KDnuggets • Data Science • Machine Learning • Algorithms • AI • Large Language Models • Python'],\n",
       " 'link': ['https://www.linkedin.com/in/ACoAAANN4g8BTzomVDxq-syI4PUPQYHMjv206_w?miniProfileUrn=urn%3Ali%3Afs_miniProfile%3AACoAAANN4g8BTzomVDxq-syI4PUPQYHMjv206_w']}"
      ]
     },
     "execution_count": 123,
     "metadata": {},
     "output_type": "execute_result"
    }
   ],
   "source": [
    "p_dict[1000]"
   ]
  },
  {
   "cell_type": "code",
   "execution_count": 47,
   "id": "9ff24ecd-9894-490d-8db0-16ff67ad3c77",
   "metadata": {},
   "outputs": [
    {
     "data": {
      "text/plain": [
       "'Head of Data Science'"
      ]
     },
     "execution_count": 47,
     "metadata": {},
     "output_type": "execute_result"
    }
   ],
   "source": [
    "post_element.find_all('div', class_='entity-result__primary-subtitle')[0].text.strip()"
   ]
  },
  {
   "cell_type": "code",
   "execution_count": 87,
   "id": "71f4e292-d07f-412e-965f-4acab0e1856b",
   "metadata": {},
   "outputs": [
    {
     "data": {
      "text/plain": [
       "[]"
      ]
     },
     "execution_count": 87,
     "metadata": {},
     "output_type": "execute_result"
    }
   ],
   "source": [
    "description_elements = post_element.find_all('button', class_='reusable-search-show-more-link.reusable-search-show-more-link')\n",
    "# descriptions = [description.text.strip() for description in description_elements]\n",
    "description_elements"
   ]
  },
  {
   "cell_type": "code",
   "execution_count": null,
   "id": "6eb8e404-c548-4338-965b-c6d65300ea06",
   "metadata": {},
   "outputs": [],
   "source": [
    "post_element.find_all('div', class_='entity-result__primary-subtitle')[0].text.strip()"
   ]
  },
  {
   "cell_type": "code",
   "execution_count": 48,
   "id": "ecceaa35-4438-4380-8da6-bec0a1402f6a",
   "metadata": {},
   "outputs": [],
   "source": [
    "name_elements = post_element.find_all('span', class_='entity-result__title-text')\n",
    "names = [name.text.strip() for name in name_elements]\n",
    "\n",
    "description_elements = post_element.find_all('div', class_='entity-result__primary-subtitle')\n",
    "descriptions = [description.text.strip() for description in description_elements]\n",
    "\n",
    "link_elements = post_element.find_all('a', class_='app-aware-link')\n",
    "links = [link['href'] for link in link_elements]"
   ]
  },
  {
   "cell_type": "code",
   "execution_count": 70,
   "id": "f1d2c9ef-255e-456f-a431-2750c07c8a38",
   "metadata": {},
   "outputs": [
    {
     "data": {
      "text/plain": [
       "['https://www.linkedin.com/in/ACoAABmbZvwB1AdVm9J8JcmX2AiAXWG6jgdJC3A?miniProfileUrn=urn%3Ali%3Afs_miniProfile%3AACoAABmbZvwB1AdVm9J8JcmX2AiAXWG6jgdJC3A']"
      ]
     },
     "execution_count": 70,
     "metadata": {},
     "output_type": "execute_result"
    }
   ],
   "source": [
    "get_link(post_elements[80])"
   ]
  },
  {
   "cell_type": "markdown",
   "id": "1b01822b-5b87-4a96-b166-fc55696b7ede",
   "metadata": {},
   "source": [
    "---"
   ]
  },
  {
   "cell_type": "code",
   "execution_count": 20,
   "id": "10674e15-4a46-40fc-a800-7da98588b513",
   "metadata": {},
   "outputs": [
    {
     "name": "stdout",
     "output_type": "stream",
     "text": [
      "Author: \n",
      "Text in Post: 2 horas •\n",
      "Link: Pasar a la búsqueda\n"
     ]
    }
   ],
   "source": [
    "author = soup.find('a').text.strip()\n",
    "text_in_post = soup.find('p').text.strip()\n",
    "link = soup.find('button').text.strip()\n",
    "\n",
    "print(\"Author:\", author)\n",
    "print(\"Text in Post:\", text_in_post)\n",
    "print(\"Link:\", link)"
   ]
  },
  {
   "cell_type": "code",
   "execution_count": 39,
   "id": "5b66d6f4-3013-4943-840b-3eee104e6dfa",
   "metadata": {},
   "outputs": [],
   "source": [
    "# soup = BeautifulSoup(html_code, 'html.parser')\n",
    "\n",
    "name = soup.find('span', class_='entity-result__title-text').text.strip()\n",
    "description = soup.find('div', class_='entity-result__primary-subtitle').text.strip()\n",
    "link = soup.find('a', class_='app-aware-link')['href']\n",
    "\n",
    "print('Name:', name)\n",
    "print('Description:', description)\n",
    "print('Link:', link)"
   ]
  },
  {
   "cell_type": "code",
   "execution_count": 27,
   "id": "555492bc-90f9-4b5c-b664-dd556e3c735f",
   "metadata": {},
   "outputs": [],
   "source": [
    "name_elements = soup.find_all('span', class_='entity-result__title-text')\n",
    "names = [name.text.strip() for name in name_elements]\n",
    "\n",
    "description_elements = soup.find_all('div', class_='entity-result__primary-subtitle')\n",
    "descriptions = [description.text.strip() for description in description_elements]\n",
    "\n",
    "link_elements = soup.find_all('a', class_='app-aware-link')\n",
    "links = [link['href'] for link in link_elements]\n",
    "\n",
    "# print('Names:', names)\n",
    "# print('Descriptions:', descriptions)\n",
    "# print('Links:', links)"
   ]
  },
  {
   "cell_type": "code",
   "execution_count": 40,
   "id": "aed00f7d-b809-447f-b000-449a80f8f3e2",
   "metadata": {},
   "outputs": [
    {
     "data": {
      "text/plain": [
       "{'source': <bs4.element.SoupStrainer at 0x1d63e2dbac0>}"
      ]
     },
     "execution_count": 40,
     "metadata": {},
     "output_type": "execute_result"
    }
   ],
   "source": [
    "post_elements.__dict__"
   ]
  },
  {
   "cell_type": "code",
   "execution_count": 131,
   "id": "067461f7-01bb-4eb0-a381-937d2f4eacb5",
   "metadata": {},
   "outputs": [],
   "source": [
    "# post_elements = soup.find_all('div', class_='entity-result__content-actor')\n",
    "\n",
    "# for post_element in post_elements:\n",
    "#     post_html = post_element.prettify()\n",
    "#     print('Post HTML:')\n",
    "#     print(post_html)\n",
    "#     print('----------------------')"
   ]
  },
  {
   "cell_type": "code",
   "execution_count": 17,
   "id": "dfc1c876-8633-466b-a29f-d229b9e0e7f0",
   "metadata": {},
   "outputs": [],
   "source": [
    "import pickle\n",
    "FILENAME = '2023_11_15_linkedin.pkl'\n",
    "fp = open(FILENAME, 'wb')\n",
    "pickle.dump(html, fp)"
   ]
  },
  {
   "cell_type": "code",
   "execution_count": null,
   "id": "91ad174a-731d-4a11-a291-f8459f6fc023",
   "metadata": {},
   "outputs": [],
   "source": [
    "# pendiente:\n",
    "cargar file, escrapear los elementos obteniendo nombre_autor,linkedin_autor, texto_posteo, link_elemento_posteado..\n",
    "hay qeu pensar porque hay posteos a secas y reposteos...cómo distinguirlos y a cáda uno aplicarle un método."
   ]
  },
  {
   "cell_type": "code",
   "execution_count": 14,
   "id": "43e03f7d-d5b9-4017-8c4f-ac25582c4e7e",
   "metadata": {},
   "outputs": [],
   "source": [
    "test = driver.find_elements(By.CLASS_NAME, \"entity-result\") # [0].get_attribute(\"title\")"
   ]
  },
  {
   "cell_type": "code",
   "execution_count": 130,
   "id": "6146fbaa-0f3a-47a1-95b5-9643ee17fcbc",
   "metadata": {},
   "outputs": [],
   "source": [
    "# test[0].get_attribute('innerHTML')\n"
   ]
  },
  {
   "cell_type": "code",
   "execution_count": null,
   "id": "1ba842f1-3d9d-4129-8e5d-ce467e7f25dc",
   "metadata": {},
   "outputs": [],
   "source": [
    "urlLink[4].get_attribute('innerHTML')\n",
    "urlLink[4].get_attribute('outerHTML')"
   ]
  },
  {
   "cell_type": "code",
   "execution_count": 33,
   "id": "84d66e50-a01d-4b9e-955e-8e62221c1310",
   "metadata": {},
   "outputs": [
    {
     "data": {
      "text/plain": [
       "'C:\\\\Users\\\\juani\\\\Documents\\\\3_My_Jupiter_Notebooks\\\\5_Galicia\\\\2_LLMs\\\\venv'"
      ]
     },
     "execution_count": 33,
     "metadata": {},
     "output_type": "execute_result"
    }
   ],
   "source": [
    "import os\n",
    "os.getcwd()"
   ]
  },
  {
   "cell_type": "code",
   "execution_count": 32,
   "id": "ef3eceec-e4b9-4a77-b672-3cdea33c0868",
   "metadata": {},
   "outputs": [],
   "source": [
    "# Save parsed HTML to a text file\n",
    "with open('parsed_html.txt', 'w', encoding='utf-8') as file:\n",
    "    file.write(soup.prettify())"
   ]
  },
  {
   "cell_type": "code",
   "execution_count": null,
   "id": "e38f0519-8646-4e64-be8f-967497aeda24",
   "metadata": {},
   "outputs": [],
   "source": [
    "\n",
    "boton = driver.find_element_by_xpath('//button[@data-aut-id=\"btnLoadMore\"]')\n",
    "for i in range(3): # Voy a darle click en cargar mas 3 veces\n",
    "    try:\n",
    "        # le doy click\n",
    "        boton.click()\n",
    "        # espero que cargue la informacion dinamica\n",
    "        sleep(random.uniform(8.0, 10.0))\n",
    "        # busco el boton nuevamente para darle click en la siguiente iteracion\n",
    "        boton = driver.find_element_by_xpath('//button[@data-aut-id=\"btnLoadMore\"]')\n",
    "    except:\n",
    "        # si hay algun error, rompo el lazo. No me complico.\n",
    "        break"
   ]
  },
  {
   "cell_type": "markdown",
   "id": "a366e970-a4a7-451f-8298-a55a50c00f1b",
   "metadata": {},
   "source": [
    "---"
   ]
  },
  {
   "cell_type": "markdown",
   "id": "f9ff235e-d520-4c09-894e-1b8bde21d575",
   "metadata": {},
   "source": [
    "# historico perfiles"
   ]
  },
  {
   "cell_type": "code",
   "execution_count": 132,
   "id": "9ef5b10a-0c6f-4532-99b5-bebb08ca7a5e",
   "metadata": {},
   "outputs": [],
   "source": [
    "def collect_data(ruta,n=100):\n",
    "    driver.get(ruta)\n",
    "    \n",
    "    for i in range(n):\n",
    "        driver.execute_script(\"window.scrollTo(0, document.body.scrollHeight);\")\n",
    "        time.sleep(0.25)\n",
    "        \n",
    "    # Find the buttons\n",
    "    buttons = driver.find_elements_by_xpath('//button[@aria-label=\"Ver más. Haz clic para ver todo el contenido.\" and contains(@class, \"reusable-search-show-more-link t-black--light link-without-visited-state t-14\")]')\n",
    "\n",
    "    # Click on each button\n",
    "    for button in buttons:\n",
    "        # button.click()\n",
    "        driver.execute_script(\"arguments[0].click();\", button)\n",
    "    html = driver.page_source\n",
    "\n",
    "    return html\n",
    "\n",
    "\n",
    "ruta = r'https://www.linkedin.com/in/chrisrocas/recent-activity/all/'\n",
    "test = collect_data(ruta)"
   ]
  },
  {
   "cell_type": "code",
   "execution_count": 133,
   "id": "d891a8d8-47ca-498a-bf27-2fa51a4526fc",
   "metadata": {},
   "outputs": [],
   "source": [
    "soup = BeautifulSoup(test)\n"
   ]
  },
  {
   "cell_type": "code",
   "execution_count": 135,
   "id": "1507392d-5e2f-4cf4-aa0b-53427d77d602",
   "metadata": {},
   "outputs": [],
   "source": [
    "post_elements = soup.find_all('div', class_='entity-result__content-actor')\n",
    "\n",
    "p_dict = {}\n",
    "for n,post in enumerate(post_elements):\n",
    "    p_dict[n] = {}\n",
    "    p_dict[n]['name'] = get_name(post) \n",
    "    p_dict[n]['name'] = get_name(post) \n",
    "    p_dict[n]['desc'] = get_description(post) \n",
    "    p_dict[n]['link'] = get_link(post) "
   ]
  },
  {
   "cell_type": "code",
   "execution_count": 137,
   "id": "feb30279-ece9-425a-b5e0-8d13663bd0a4",
   "metadata": {},
   "outputs": [
    {
     "data": {
      "text/plain": [
       "[]"
      ]
     },
     "execution_count": 137,
     "metadata": {},
     "output_type": "execute_result"
    }
   ],
   "source": [
    "post_elements = soup.find_all('div', class_='entity-result__content-actor')\n",
    "post_elements"
   ]
  },
  {
   "cell_type": "markdown",
   "id": "6a510f10-9509-41c6-9bfd-09f76cd9eb7b",
   "metadata": {},
   "source": [
    "---"
   ]
  },
  {
   "cell_type": "markdown",
   "id": "d3a925d1-e338-402b-be57-f037cd2b065e",
   "metadata": {},
   "source": [
    "# EXPERIMENT"
   ]
  },
  {
   "cell_type": "code",
   "execution_count": 154,
   "id": "f06ee97d-ca5e-40a5-869e-ab037f7c4e99",
   "metadata": {},
   "outputs": [],
   "source": [
    "def collect_data(ruta,n=100):\n",
    "    driver.get(ruta)\n",
    "    time.sleep(4)\n",
    "    for i in range(n):\n",
    "        driver.execute_script(\"window.scrollTo(0, document.body.scrollHeight);\")\n",
    "        time.sleep(0.25)\n",
    "        \n",
    "    # Find the buttons\n",
    "    buttons = driver.find_elements_by_xpath('//button[@aria-label=\"Ver más. Haz clic para ver todo el contenido.\" and contains(@class, \"reusable-search-show-more-link t-black--light link-without-visited-state t-14\")]')\n",
    "\n",
    "    # Click on each button\n",
    "    for button in buttons:\n",
    "        # button.click()\n",
    "        driver.execute_script(\"arguments[0].click();\", button)\n",
    "    html = driver.page_source\n",
    "\n",
    "    return html\n",
    "\n",
    "\n",
    "ruta = \"https://www.linkedin.com/my-items/saved-posts/\"\n",
    "dummy = collect_data(ruta,n=2)\n"
   ]
  },
  {
   "cell_type": "code",
   "execution_count": 163,
   "id": "fed25904-d999-4cb4-a01e-20e5f1c8f1ee",
   "metadata": {},
   "outputs": [],
   "source": [
    "soup = BeautifulSoup(dummy)\n",
    "# soup"
   ]
  },
  {
   "cell_type": "code",
   "execution_count": 164,
   "id": "969ebddb-7ef0-4075-bc40-bc98dc119882",
   "metadata": {},
   "outputs": [
    {
     "data": {
      "text/plain": [
       "10"
      ]
     },
     "execution_count": 164,
     "metadata": {},
     "output_type": "execute_result"
    }
   ],
   "source": [
    "posts = soup.find_all('div', class_='entity-result')\n",
    "len(posts)"
   ]
  },
  {
   "cell_type": "code",
   "execution_count": null,
   "id": "7c926368-f461-4fa4-bc53-d01578aec7d6",
   "metadata": {},
   "outputs": [],
   "source": [
    "def get_link(post):\n",
    "    link_elements = post.find_all('a', class_='app-aware-link')\n",
    "    links = [link['href'] for link in link_elements]\n",
    "    links = list( dict.fromkeys(links) )\n",
    "    return links"
   ]
  },
  {
   "cell_type": "code",
   "execution_count": 166,
   "id": "e11a04cb-4cc6-48db-a13d-155359e3b35b",
   "metadata": {},
   "outputs": [
    {
     "data": {
      "text/plain": [
       "['https://www.linkedin.com/in/ACoAABRr6bcBeNKKOULohu05Bu_ivPE7lKI981c?miniProfileUrn=urn%3Ali%3Afs_miniProfile%3AACoAABRr6bcBeNKKOULohu05Bu_ivPE7lKI981c',\n",
       " 'https://www.linkedin.com/in/ACoAABRr6bcBeNKKOULohu05Bu_ivPE7lKI981c?miniProfileUrn=urn%3Ali%3Afs_miniProfile%3AACoAABRr6bcBeNKKOULohu05Bu_ivPE7lKI981c',\n",
       " 'https://www.linkedin.com/feed/update/urn:li:activity:7130585251843637248?updateEntityUrn=urn%3Ali%3Afs_updateV2%3A%28urn%3Ali%3Aactivity%3A7130585251843637248%2CFEED_DETAIL%2CEMPTY%2CDEFAULT%2Cfalse%29']"
      ]
     },
     "execution_count": 166,
     "metadata": {},
     "output_type": "execute_result"
    }
   ],
   "source": [
    "l = get_link(posts[0])\n",
    "l"
   ]
  },
  {
   "cell_type": "code",
   "execution_count": 202,
   "id": "66531743-de7a-4e1c-bf0a-158bfa517b16",
   "metadata": {},
   "outputs": [
    {
     "data": {
      "text/plain": [
       "['https://www.linkedin.com/in/ACoAABRr6bcBeNKKOULohu05Bu_ivPE7lKI981c?miniProfileUrn=urn%3Ali%3Afs_miniProfile%3AACoAABRr6bcBeNKKOULohu05Bu_ivPE7lKI981c',\n",
       " 'https://www.linkedin.com/in/ACoAABRr6bcBeNKKOULohu05Bu_ivPE7lKI981c?miniProfileUrn=urn%3Ali%3Afs_miniProfile%3AACoAABRr6bcBeNKKOULohu05Bu_ivPE7lKI981c',\n",
       " 'https://www.linkedin.com/feed/update/urn:li:activity:7130585251843637248?updateEntityUrn=urn%3Ali%3Afs_updateV2%3A%28urn%3Ali%3Aactivity%3A7130585251843637248%2CFEED_DETAIL%2CEMPTY%2CDEFAULT%2Cfalse%29']"
      ]
     },
     "execution_count": 202,
     "metadata": {},
     "output_type": "execute_result"
    }
   ],
   "source": [
    "l"
   ]
  },
  {
   "cell_type": "code",
   "execution_count": 203,
   "id": "f225978e-8bfb-418f-8358-52472d530502",
   "metadata": {},
   "outputs": [
    {
     "data": {
      "text/plain": [
       "['https://www.linkedin.com/in/ACoAABRr6bcBeNKKOULohu05Bu_ivPE7lKI981c?miniProfileUrn=urn%3Ali%3Afs_miniProfile%3AACoAABRr6bcBeNKKOULohu05Bu_ivPE7lKI981c',\n",
       " 'https://www.linkedin.com/feed/update/urn:li:activity:7130585251843637248?updateEntityUrn=urn%3Ali%3Afs_updateV2%3A%28urn%3Ali%3Aactivity%3A7130585251843637248%2CFEED_DETAIL%2CEMPTY%2CDEFAULT%2Cfalse%29']"
      ]
     },
     "execution_count": 203,
     "metadata": {},
     "output_type": "execute_result"
    }
   ],
   "source": [
    "mylist"
   ]
  },
  {
   "cell_type": "code",
   "execution_count": 182,
   "id": "8ee9cc15-19cf-4201-a1c0-0f63cac7bf78",
   "metadata": {},
   "outputs": [
    {
     "name": "stdout",
     "output_type": "stream",
     "text": [
      "\n",
      "CEO Jerry Liu's talk at the AI.engineer summit is out now! Check out his awesome bucket hat, and also hear about:⭐️ problems with basic approaches to Retrieval-Augmented Generation (RAG)⭐️ the importance of evaluation to understand the performance of your app and how to improve it⭐️ techniques for improving your RAG app's performance, including ◦ chunk sizes ◦ metadata filtering ◦ small-to-big retrieval ◦ multi-document agents ◦ fine-tuninghttps://lnkd.in/gvvcBiuP \n",
      " \n"
     ]
    }
   ],
   "source": [
    "# relative entity-result__summary entity-result--no-ellipsis mb2 t-14 t-black mh4\n",
    "# relative entity-result__content-summary entity-result--no-ellipsis t-14 mb2\n",
    "# linked-area flex-1 cursor-pointer\n",
    "print(posts[1].find_all('p', class_='relative entity-result__summary entity-result--no-ellipsis mb2 t-14 t-black mh4')[0].text)"
   ]
  },
  {
   "cell_type": "code",
   "execution_count": 184,
   "id": "d687b768-9f75-4040-a9c4-ab9c22a1c5fb",
   "metadata": {},
   "outputs": [
    {
     "name": "stdout",
     "output_type": "stream",
     "text": [
      "\n",
      "681+ engineering blogs that will help you improve at system design:1. Engineering @ Meta: https://lnkd.in/gc9xnZQ82. OpenAI Software Engineering: https://lnkd.in/g3wFsZk73. Nextflix Tech: https://lnkd.in/gq-SWapT4. Stripe Engineering: https://lnkd.in/g4JqgY395. Uber Engineering: https://lnkd.in/gvga-NEg 6. Airbnb Tech: https://lnkd.in/gy3RF5ih7. Figma Engineering: https://lnkd.in/gFbvV8Mk8. Dropbox Tech: https://dropbox.tech/9. LinkedIn Engineering: https://lnkd.in/g5eMavet10. Instagram Engineering: https://lnkd.in/grE9bRCy11. Spotify Engineering: https://lnkd.in/gje__jGu12. MongoDB Engineering: https://lnkd.in/grsAiuvS13. Twitter Engineering: https://lnkd.in/gVVcSYNf14. Engineering @ Ramp: https://lnkd.in/gw_kd2Vj15. Instacart Tech: https://lnkd.in/gdGN9SrY16. Stack Overflow Engineering: https://lnkd.in/gENW-7Wh17. Paypal Tech: https://lnkd.in/gxj9Mx6418. Rippling Engineering: https://lnkd.in/ge6K-UkG19. Notion Tech: https://lnkd.in/gCUUi2UC20. Pinterest Engineering: https://lnkd.in/gnfrme2Z21. Engineering @ Spotify: https://lnkd.in/gje__jGu22. Canva Engineering: https://lnkd.in/gRHZtDCa23. GitHub Blog: https://lnkd.in/gKNBpb7V24. Slack Engineering: https://slack.engineering/25. Lyft Engineering: https://eng.lyft.com/26. Yelp Engineering: https://lnkd.in/gBWEyaHK27. Gusto Engineering: https://lnkd.in/gyqBr_CW28. SoundCloud Backstage Blog: https://lnkd.in/gNDUUreD29. Medium Engineering: https://lnkd.in/g3ASQbbB30. Heroku Eng Blog: https://blog.heroku.com/31. Etsy Engineering: https://lnkd.in/gS6UwNN932. Grab Tech: https://lnkd.in/gfhcUM5y33. Longer List Here (remaining 600): https://lnkd.in/g3xqDpg6\n",
      " \n"
     ]
    }
   ],
   "source": [
    "print(posts[0].find_all('p', class_='relative entity-result__content-summary entity-result--no-ellipsis t-14 mb2')[0].text)\n"
   ]
  },
  {
   "cell_type": "code",
   "execution_count": null,
   "id": "bd34458d-502d-4e4a-b9e9-13f73d7b5f51",
   "metadata": {},
   "outputs": [],
   "source": [
    "print(posts[1].find_all('p', class_='relative entity-result__summary entity-result--no-ellipsis mb2 t-14 t-black mh4')[0].text)"
   ]
  },
  {
   "cell_type": "code",
   "execution_count": 200,
   "id": "d7807061-9a49-452c-b7c9-721c75ce47bb",
   "metadata": {},
   "outputs": [
    {
     "ename": "IndexError",
     "evalue": "list index out of range",
     "output_type": "error",
     "traceback": [
      "\u001b[1;31m---------------------------------------------------------------------------\u001b[0m",
      "\u001b[1;31mIndexError\u001b[0m                                Traceback (most recent call last)",
      "Cell \u001b[1;32mIn[200], line 2\u001b[0m\n\u001b[0;32m      1\u001b[0m class_prefix \u001b[38;5;241m=\u001b[39m \u001b[38;5;124m'\u001b[39m\u001b[38;5;124mrelative entity\u001b[39m\u001b[38;5;124m'\u001b[39m\n\u001b[1;32m----> 2\u001b[0m \u001b[38;5;28mprint\u001b[39m(\u001b[43mposts\u001b[49m\u001b[43m[\u001b[49m\u001b[38;5;241;43m10\u001b[39;49m\u001b[43m]\u001b[49m\u001b[38;5;241m.\u001b[39mfind_all(\u001b[38;5;124m'\u001b[39m\u001b[38;5;124mp\u001b[39m\u001b[38;5;124m'\u001b[39m, class_\u001b[38;5;241m=\u001b[39m\u001b[38;5;28;01mlambda\u001b[39;00m x: x \u001b[38;5;129;01mand\u001b[39;00m x\u001b[38;5;241m.\u001b[39mstartswith(class_prefix))[\u001b[38;5;241m0\u001b[39m]\u001b[38;5;241m.\u001b[39mtext)\n",
      "\u001b[1;31mIndexError\u001b[0m: list index out of range"
     ]
    }
   ],
   "source": [
    "class_prefix = 'relative entity'\n",
    "print(posts[10].find_all('p', class_=lambda x: x and x.startswith(class_prefix))[0].text)"
   ]
  },
  {
   "cell_type": "code",
   "execution_count": 48,
   "id": "b753ff7d-bfc8-4492-9e7f-e60e954fdadb",
   "metadata": {},
   "outputs": [],
   "source": [
    "# posts[7]"
   ]
  },
  {
   "cell_type": "code",
   "execution_count": 156,
   "id": "372d8878-3e49-43cb-a6d8-b73efc0d9e89",
   "metadata": {},
   "outputs": [
    {
     "data": {
      "text/plain": [
       "10"
      ]
     },
     "execution_count": 156,
     "metadata": {},
     "output_type": "execute_result"
    }
   ],
   "source": [
    "posts = soup.find_all('div', class_='entity-result__content-actor')\n",
    "len(posts)"
   ]
  },
  {
   "cell_type": "code",
   "execution_count": null,
   "id": "b188a6cf-36c9-4073-a179-2a6b8edabdb8",
   "metadata": {},
   "outputs": [],
   "source": [
    "def get_name(post):\n",
    "    name_elements = post.find_all('span', class_='entity-result__title-text')\n",
    "    names = [name.text.strip() for name in name_elements]\n",
    "    return names\n",
    "\n",
    "def get_description(post):\n",
    "    description_elements = post.find_all('div', class_='entity-result__primary-subtitle')\n",
    "    descriptions = [description.text.strip() for description in description_elements]\n",
    "    return descriptions\n",
    "def get_link(post):\n",
    "    link_elements = post.find_all('a', class_='app-aware-link')\n",
    "    links = [link['href'] for link in link_elements]\n",
    "    return links"
   ]
  },
  {
   "cell_type": "code",
   "execution_count": null,
   "id": "116318c1-c615-439f-afbb-40c6af32af16",
   "metadata": {},
   "outputs": [],
   "source": [
    "\"https://www.linkedin.com/feed/update"
   ]
  },
  {
   "cell_type": "code",
   "execution_count": 162,
   "id": "d9d5105c-ca11-41c3-b76b-0ce07a82f686",
   "metadata": {},
   "outputs": [
    {
     "ename": "AttributeError",
     "evalue": "'str' object has no attribute 'find_all'",
     "output_type": "error",
     "traceback": [
      "\u001b[1;31m---------------------------------------------------------------------------\u001b[0m",
      "\u001b[1;31mAttributeError\u001b[0m                            Traceback (most recent call last)",
      "Cell \u001b[1;32mIn[162], line 1\u001b[0m\n\u001b[1;32m----> 1\u001b[0m description_elements \u001b[38;5;241m=\u001b[39m \u001b[43mdummy\u001b[49m\u001b[38;5;241;43m.\u001b[39;49m\u001b[43mfind_all\u001b[49m(\u001b[38;5;124m'\u001b[39m\u001b[38;5;124mdiv\u001b[39m\u001b[38;5;124m'\u001b[39m, class_\u001b[38;5;241m=\u001b[39m\u001b[38;5;124m'\u001b[39m\u001b[38;5;124mentity-result__primary-subtitle\u001b[39m\u001b[38;5;124m'\u001b[39m)\n",
      "\u001b[1;31mAttributeError\u001b[0m: 'str' object has no attribute 'find_all'"
     ]
    }
   ],
   "source": [
    "description_elements = dummy.find_all('div', class_='entity-result__primary-subtitle')"
   ]
  },
  {
   "cell_type": "markdown",
   "id": "b4f87d86-9d46-41e8-8fe9-903e98436502",
   "metadata": {
    "tags": []
   },
   "source": [
    "# NUEVA VERSION"
   ]
  },
  {
   "cell_type": "code",
   "execution_count": 282,
   "id": "6dd161eb-8822-4c09-8d20-38d2ed38f859",
   "metadata": {},
   "outputs": [],
   "source": [
    "def get_frame(posts):\n",
    "    names = [ get_name(post) for post in posts]\n",
    "    links = [ get_link(post) for post in posts]\n",
    "    texts = [ get_text(post) for post in posts]\n",
    "    df = pd.DataFrame({'posts':posts,'names':names,'links':links,'texts':texts})\n",
    "    return df\n",
    "\n",
    "\n",
    "def get_posts(soup):\n",
    "    posts = soup.find_all('div', class_='entity-result')\n",
    "    print(f'# posts: {len(posts)}')\n",
    "    return posts\n",
    "\n",
    "def get_name(post):\n",
    "    name_elements = post.find_all('span', class_='entity-result__title-text')\n",
    "    names = [name.text.strip() for name in name_elements]\n",
    "    return names\n",
    "\n",
    "def get_link(post):\n",
    "    link_elements = post.find_all('a', class_='app-aware-link')\n",
    "    links = [link['href'] for link in link_elements]\n",
    "    links = list( dict.fromkeys(links) )\n",
    "    return links\n",
    "\n",
    "def get_text(post):\n",
    "    '''\n",
    "    def: obtiene el texto de los posts\n",
    "    '''\n",
    "    class_prefix = 'relative entity'\n",
    "    text = post.find_all('p', class_=lambda x: x and x.startswith(class_prefix))\n",
    "    if len(text)==1:\n",
    "        return text[0].text\n",
    "    else:\n",
    "        return text\n",
    "    \n",
    "def collect_data(ruta=\"https://www.linkedin.com/my-items/saved-posts/\",n=100,secs=0.25):\n",
    "    driver.get(ruta)\n",
    "    time.sleep(4)\n",
    "    for i in range(n):\n",
    "        driver.execute_script(\"window.scrollTo(0, document.body.scrollHeight);\")\n",
    "        time.sleep(secs)\n",
    "        \n",
    "    # Find the buttons\n",
    "    buttons = driver.find_elements_by_xpath('//button[@aria-label=\"Ver más. Haz clic para ver todo el contenido.\" and contains(@class, \"reusable-search-show-more-link t-black--light link-without-visited-state t-14\")]')\n",
    "\n",
    "    # Click on each button\n",
    "    for button in buttons:\n",
    "        # button.click()\n",
    "        driver.execute_script(\"arguments[0].click();\", button)\n",
    "    html = driver.page_source\n",
    "\n",
    "    return html"
   ]
  },
  {
   "cell_type": "code",
   "execution_count": 277,
   "id": "5042e62d-1eb4-477f-8d00-09e16054dd61",
   "metadata": {},
   "outputs": [],
   "source": [
    "from selenium import webdriver\n",
    "from selenium.webdriver.common.keys import Keys\n",
    "from selenium.webdriver.support import expected_conditions as EC\n",
    "from selenium.webdriver.common.by import By\n",
    "from selenium.webdriver.support.wait import WebDriverWait\n",
    "from webdriver_manager.chrome import ChromeDriverManager\n",
    "from bs4 import BeautifulSoup\n",
    "import time\n",
    "\n",
    "import pandas as pd\n",
    "\n",
    "ID = \"id\"\n",
    "NAME = \"name\"\n",
    "XPATH = \"xpath\"\n",
    "LINK_TEXT = \"link text\"\n",
    "PARTIAL_LINK_TEXT = \"partial link text\"\n",
    "TAG_NAME = \"tag name\"\n",
    "CLASS_NAME = \"class name\"\n",
    "CSS_SELECTOR = \"css selector\"\n",
    "\n",
    "import random\n",
    "from time import sleep\n",
    "from selenium import webdriver\n",
    "from webdriver_manager.chrome import ChromeDriverManager\n",
    "\n",
    "driver = webdriver.Chrome(ChromeDriverManager().install())\n",
    "# driver.get('https://www.olx.com.ar/autos_c378')"
   ]
  },
  {
   "cell_type": "code",
   "execution_count": 279,
   "id": "45c19547-1175-4864-aab9-5328538c6bcf",
   "metadata": {},
   "outputs": [],
   "source": [
    "driver.get(\"https://linkedin.com\")\n",
    "\n",
    "time.sleep(4)\n",
    "\n",
    "username = driver.find_element_by_xpath(\"//input[@name='session_key']\")\n",
    "password = driver.find_element_by_xpath(\"//input[@name='session_password']\")\n",
    "\n",
    "username.send_keys(\"juanivazquez@gmail.com\")\n",
    "password.send_keys(\"#Ulises01\")\n",
    "\n",
    "time.sleep(4)\n",
    "\n",
    "driver.find_element_by_xpath(\"/html/body/main/section[1]/div/div/form/div[2]/button\").click()\n",
    "# # saltar ingreso celu:\n",
    "# driver.find_element(By.XPATH,\"/html/body/div[2]/div[1]/section/div[2]/div/article/footer/div/div/button\").click()\n",
    "\n",
    "time.sleep(4)"
   ]
  },
  {
   "cell_type": "code",
   "execution_count": 286,
   "id": "5cb0a1ba-24e5-4ab3-a759-b176430b7c25",
   "metadata": {},
   "outputs": [],
   "source": [
    "# html = collect_data(n=10000)\n",
    "\n",
    "html = driver.page_source"
   ]
  },
  {
   "cell_type": "code",
   "execution_count": 295,
   "id": "67b27d5b-3f36-4029-91be-82d8cefbb8fa",
   "metadata": {},
   "outputs": [],
   "source": [
    "# Find the buttons\n",
    "buttons = driver.find_elements_by_xpath('//button[@aria-label=\"Ver más. Haz clic para ver todo el contenido.\" and contains(@class, \"reusable-search-show-more-link t-black--light link-without-visited-state t-14\")]')\n",
    "\n",
    "# Click on each button\n",
    "for button in buttons:\n",
    "    # button.click()\n",
    "    driver.execute_script(\"arguments[0].click();\", button)\n",
    "html = driver.page_source"
   ]
  },
  {
   "cell_type": "code",
   "execution_count": 287,
   "id": "e5fc4e46-0d9c-4603-90e9-75459d4e8278",
   "metadata": {},
   "outputs": [
    {
     "name": "stdout",
     "output_type": "stream",
     "text": [
      "# posts: 4263\n"
     ]
    }
   ],
   "source": [
    "# html = collect_data(n=10000)\n",
    "soup = BeautifulSoup(html)\n",
    "posts = get_posts(soup)"
   ]
  },
  {
   "cell_type": "code",
   "execution_count": 296,
   "id": "8684cf8b-af5f-42eb-a5eb-f9726bda4443",
   "metadata": {},
   "outputs": [
    {
     "data": {
      "text/plain": [
       "bs4.element.ResultSet"
      ]
     },
     "execution_count": 296,
     "metadata": {},
     "output_type": "execute_result"
    }
   ],
   "source": [
    "type(posts)"
   ]
  },
  {
   "cell_type": "code",
   "execution_count": 288,
   "id": "f8b26431-90a8-4953-baba-3afee191828a",
   "metadata": {},
   "outputs": [
    {
     "data": {
      "text/html": [
       "<div>\n",
       "<style scoped>\n",
       "    .dataframe tbody tr th:only-of-type {\n",
       "        vertical-align: middle;\n",
       "    }\n",
       "\n",
       "    .dataframe tbody tr th {\n",
       "        vertical-align: top;\n",
       "    }\n",
       "\n",
       "    .dataframe thead th {\n",
       "        text-align: right;\n",
       "    }\n",
       "</style>\n",
       "<table border=\"1\" class=\"dataframe\">\n",
       "  <thead>\n",
       "    <tr style=\"text-align: right;\">\n",
       "      <th></th>\n",
       "      <th>posts</th>\n",
       "      <th>names</th>\n",
       "      <th>links</th>\n",
       "      <th>texts</th>\n",
       "    </tr>\n",
       "  </thead>\n",
       "  <tbody>\n",
       "    <tr>\n",
       "      <th>0</th>\n",
       "      <td>[\\n, [\\n, [\\n, &lt;div class=\"entity-result__cont...</td>\n",
       "      <td>[Valeriy Manokhin, PhD, MBA, CQFVer el perfil ...</td>\n",
       "      <td>[https://www.linkedin.com/in/ACoAADrXMbQB9bMdp...</td>\n",
       "      <td>\\nWhen it comes to #tabulardata CatBoost rules...</td>\n",
       "    </tr>\n",
       "    <tr>\n",
       "      <th>1</th>\n",
       "      <td>[\\n, [\\n, [\\n, &lt;div class=\"entity-result__cont...</td>\n",
       "      <td>[Valeriy Manokhin, PhD, MBA, CQFVer el perfil ...</td>\n",
       "      <td>[https://www.linkedin.com/in/ACoAADrXMbQB9bMdp...</td>\n",
       "      <td>\\nPretty nice one line line proof of one of th...</td>\n",
       "    </tr>\n",
       "    <tr>\n",
       "      <th>2</th>\n",
       "      <td>[\\n, [\\n, [\\n, &lt;div class=\"entity-result__cont...</td>\n",
       "      <td>[Marcelo C. MedeirosVer el perfil de Marcelo C...</td>\n",
       "      <td>[https://www.linkedin.com/in/ACoAAAv_vSkB8gcsU...</td>\n",
       "      <td>\\nInterested in Quantitative Finance and Finan...</td>\n",
       "    </tr>\n",
       "    <tr>\n",
       "      <th>3</th>\n",
       "      <td>[\\n, [\\n, [\\n, &lt;div class=\"entity-result__cont...</td>\n",
       "      <td>[Carlos RuizVer el perfil de Carlos Ruiz\\n\\n\\n...</td>\n",
       "      <td>[https://www.linkedin.com/in/ACoAACvL7ogBIxw6I...</td>\n",
       "      <td>\\nEn unos minutos más estaré con la comunidad ...</td>\n",
       "    </tr>\n",
       "    <tr>\n",
       "      <th>4</th>\n",
       "      <td>[\\n, [\\n, [\\n, &lt;div class=\"entity-result__cont...</td>\n",
       "      <td>[Michele F.Ver el perfil de Michele F.\\n\\n\\n\\n...</td>\n",
       "      <td>[https://www.linkedin.com/in/ACoAACqXeSMBSoBna...</td>\n",
       "      <td>\\nSampling Theory represents the most importan...</td>\n",
       "    </tr>\n",
       "  </tbody>\n",
       "</table>\n",
       "</div>"
      ],
      "text/plain": [
       "                                               posts   \n",
       "0  [\\n, [\\n, [\\n, <div class=\"entity-result__cont...  \\\n",
       "1  [\\n, [\\n, [\\n, <div class=\"entity-result__cont...   \n",
       "2  [\\n, [\\n, [\\n, <div class=\"entity-result__cont...   \n",
       "3  [\\n, [\\n, [\\n, <div class=\"entity-result__cont...   \n",
       "4  [\\n, [\\n, [\\n, <div class=\"entity-result__cont...   \n",
       "\n",
       "                                               names   \n",
       "0  [Valeriy Manokhin, PhD, MBA, CQFVer el perfil ...  \\\n",
       "1  [Valeriy Manokhin, PhD, MBA, CQFVer el perfil ...   \n",
       "2  [Marcelo C. MedeirosVer el perfil de Marcelo C...   \n",
       "3  [Carlos RuizVer el perfil de Carlos Ruiz\\n\\n\\n...   \n",
       "4  [Michele F.Ver el perfil de Michele F.\\n\\n\\n\\n...   \n",
       "\n",
       "                                               links   \n",
       "0  [https://www.linkedin.com/in/ACoAADrXMbQB9bMdp...  \\\n",
       "1  [https://www.linkedin.com/in/ACoAADrXMbQB9bMdp...   \n",
       "2  [https://www.linkedin.com/in/ACoAAAv_vSkB8gcsU...   \n",
       "3  [https://www.linkedin.com/in/ACoAACvL7ogBIxw6I...   \n",
       "4  [https://www.linkedin.com/in/ACoAACqXeSMBSoBna...   \n",
       "\n",
       "                                               texts  \n",
       "0  \\nWhen it comes to #tabulardata CatBoost rules...  \n",
       "1  \\nPretty nice one line line proof of one of th...  \n",
       "2  \\nInterested in Quantitative Finance and Finan...  \n",
       "3  \\nEn unos minutos más estaré con la comunidad ...  \n",
       "4  \\nSampling Theory represents the most importan...  "
      ]
     },
     "execution_count": 288,
     "metadata": {},
     "output_type": "execute_result"
    }
   ],
   "source": [
    "df = get_frame(posts)\n",
    "df.head()"
   ]
  },
  {
   "cell_type": "code",
   "execution_count": 301,
   "id": "c0e0e748-f9f3-4223-9a73-41f6baca98c2",
   "metadata": {},
   "outputs": [],
   "source": [
    "# Convert them to strings\n",
    "df['posts'] = df['posts'].apply(lambda tag: str(tag))\n",
    "\n",
    "# Now, save the DataFrame to parquet or pickle:\n",
    "df.to_parquet('2023_11_16_df.parquet.gzip',compression='gzip')\n",
    "df.to_pickle('2023_11_16_df.pkl')"
   ]
  },
  {
   "cell_type": "markdown",
   "id": "03abaf55-0094-4105-9c7b-e96c7c2953b4",
   "metadata": {},
   "source": [
    "### levantamos la data:"
   ]
  },
  {
   "cell_type": "code",
   "execution_count": 302,
   "id": "ad82ff8d-344d-4bd1-8aed-70185fbc5888",
   "metadata": {},
   "outputs": [],
   "source": [
    "# pd.read_parquet('2023_11_16_df.parquet.gzip')\n",
    "# pd.read_pickle('2023_11_16_df.pkl')"
   ]
  },
  {
   "cell_type": "code",
   "execution_count": 251,
   "id": "c6544df4-6ed6-4445-9522-ff9db079cc4c",
   "metadata": {},
   "outputs": [],
   "source": [
    "def collect_post(ruta,n=2):\n",
    "    driver.get(ruta)\n",
    "    \n",
    "    for i in range(n):\n",
    "        driver.execute_script(\"window.scrollTo(0, document.body.scrollHeight);\")\n",
    "        time.sleep(0.25)\n",
    "        \n",
    "    # Find the buttons\n",
    "    buttons = driver.find_elements_by_xpath('//button[@aria-label=\"Ver más. Haz clic para ver todo el contenido.\" and contains(@class, \"reusable-search-show-more-link t-black--light link-without-visited-state t-14\")]')\n",
    "\n",
    "    # Click on each button\n",
    "    try:\n",
    "        for button in buttons:\n",
    "            # button.click()\n",
    "            driver.execute_script(\"arguments[0].click();\", button)\n",
    "        html = driver.page_source\n",
    "    except:\n",
    "        pass\n",
    "    \n",
    "    \n",
    "    return html"
   ]
  },
  {
   "cell_type": "code",
   "execution_count": 254,
   "id": "fd3efc71-a24a-4b30-89bc-a8e8017e0f86",
   "metadata": {},
   "outputs": [],
   "source": [
    "# ruta = 'https://www.linkedin.com/posts/teddy-mitrosilis_a-powerful-idea-worth-thinking-about-small-activity-7130915102785953792-hj9d/?utm_source=share&utm_medium=member_desktop'\n",
    "# test_post = collect_post(ruta)\n",
    "# test_post "
   ]
  },
  {
   "cell_type": "code",
   "execution_count": null,
   "id": "e5f5e8d5-7edd-483e-88ca-3c552230f055",
   "metadata": {},
   "outputs": [],
   "source": []
  },
  {
   "cell_type": "code",
   "execution_count": 238,
   "id": "40fa74b5-02d9-48ef-b607-95ddb2717a22",
   "metadata": {},
   "outputs": [],
   "source": [
    "# test = collect_data(links[7][1],n=1)\n",
    "soup_test = BeautifulSoup(test)"
   ]
  },
  {
   "cell_type": "code",
   "execution_count": 242,
   "id": "26c59660-17db-46d6-8d27-6e88b87cc3ce",
   "metadata": {},
   "outputs": [],
   "source": [
    "black_list = ['https://www.linkedin.com/feed/?nis=true',\n",
    " 'https://www.linkedin.com/feed/?nis=true&',\n",
    " 'https://www.linkedin.com/mynetwork/?',\n",
    " 'https://www.linkedin.com/jobs/?',\n",
    " 'https://www.linkedin.com/messaging/?',\n",
    " 'https://www.linkedin.com/notifications/?']"
   ]
  },
  {
   "cell_type": "code",
   "execution_count": 245,
   "id": "238567b7-4b71-4280-bd74-7da71baabc47",
   "metadata": {},
   "outputs": [
    {
     "data": {
      "text/plain": [
       "['https://github.com/StanGirard/quivr']"
      ]
     },
     "execution_count": 245,
     "metadata": {},
     "output_type": "execute_result"
    }
   ],
   "source": [
    "links = get_link(soup_test)\n",
    "filtered_links = [ link for link in links if link not in black_list and not link.startswith('https://www.linkedin.com/in/')]\n",
    "filtered_links"
   ]
  },
  {
   "cell_type": "code",
   "execution_count": null,
   "id": "674d9f61-8241-4ea3-b21d-ddb02117cd2c",
   "metadata": {},
   "outputs": [],
   "source": [
    "https://media.licdn.com/dms/image/D4E22AQEs150QE0I-cA/feedshare-shrink_1280/0/1700142645403?e=1703116800&v=beta&t=-76GUr-L1HY7OVVbRnxZT8OLm9uyrXJ6TbMQ_bbpDMY"
   ]
  },
  {
   "cell_type": "code",
   "execution_count": 248,
   "id": "f1a40a66-57f9-4901-8709-f368cb0f618f",
   "metadata": {},
   "outputs": [
    {
     "data": {
      "text/plain": [
       "'https://www.linkedin.com/in/ACoAAA23fiwBhbba-bWwgZ6N7AVNvBgsPC7sRSc'"
      ]
     },
     "execution_count": 248,
     "metadata": {},
     "output_type": "execute_result"
    }
   ],
   "source": [
    "links[7]"
   ]
  },
  {
   "cell_type": "code",
   "execution_count": 253,
   "id": "5a37ad0b-7b1c-4a96-a0b7-aee08c4fa791",
   "metadata": {},
   "outputs": [],
   "source": [
    "# posts[8]"
   ]
  },
  {
   "cell_type": "markdown",
   "id": "718ac6ad-f0e5-4654-946d-195860011cfc",
   "metadata": {},
   "source": [
    "# EDA"
   ]
  },
  {
   "cell_type": "code",
   "execution_count": 304,
   "id": "452870bf-4005-4220-bd2c-f89a48ffaac4",
   "metadata": {},
   "outputs": [
    {
     "data": {
      "text/plain": [
       "4263"
      ]
     },
     "execution_count": 304,
     "metadata": {},
     "output_type": "execute_result"
    }
   ],
   "source": [
    "len(df)"
   ]
  },
  {
   "cell_type": "code",
   "execution_count": 306,
   "id": "3526f63d-aa67-48a3-b289-dab8f4b0a385",
   "metadata": {},
   "outputs": [
    {
     "data": {
      "text/plain": [
       "Index(['posts', 'names', 'links', 'texts'], dtype='object')"
      ]
     },
     "execution_count": 306,
     "metadata": {},
     "output_type": "execute_result"
    }
   ],
   "source": [
    "df.columns"
   ]
  },
  {
   "cell_type": "code",
   "execution_count": 313,
   "id": "1115fb4c-1cd4-46d3-acd0-3aa47a6c1e2d",
   "metadata": {},
   "outputs": [],
   "source": [
    "# names = [ l[0] for l in df.names]\n",
    "# names = list(set(names))"
   ]
  },
  {
   "cell_type": "code",
   "execution_count": 315,
   "id": "df688200-fb56-4cfc-b25b-e4ee1915424d",
   "metadata": {},
   "outputs": [],
   "source": [
    "df['names'] = [ l[0] for l in df.names]"
   ]
  },
  {
   "cell_type": "code",
   "execution_count": 317,
   "id": "cfb8cbc5-8d91-4361-a18a-c7c9621916ba",
   "metadata": {},
   "outputs": [
    {
     "data": {
      "text/html": [
       "<div>\n",
       "<style scoped>\n",
       "    .dataframe tbody tr th:only-of-type {\n",
       "        vertical-align: middle;\n",
       "    }\n",
       "\n",
       "    .dataframe tbody tr th {\n",
       "        vertical-align: top;\n",
       "    }\n",
       "\n",
       "    .dataframe thead th {\n",
       "        text-align: right;\n",
       "    }\n",
       "</style>\n",
       "<table border=\"1\" class=\"dataframe\">\n",
       "  <thead>\n",
       "    <tr style=\"text-align: right;\">\n",
       "      <th></th>\n",
       "      <th>names</th>\n",
       "      <th>texts</th>\n",
       "      <th>Count</th>\n",
       "    </tr>\n",
       "  </thead>\n",
       "  <tbody>\n",
       "    <tr>\n",
       "      <th>0</th>\n",
       "      <td>ABHISHEK MISHRAVer el perfil de ABHISHEK MISHR...</td>\n",
       "      <td>\\n🕒 Describe about #matplotlib in #pythonprogr...</td>\n",
       "      <td>1</td>\n",
       "    </tr>\n",
       "    <tr>\n",
       "      <th>1</th>\n",
       "      <td>AI EvolutionVer empresa: AI Evolution</td>\n",
       "      <td>\\n28 ChatGPT prompts to help you master mental...</td>\n",
       "      <td>1</td>\n",
       "    </tr>\n",
       "    <tr>\n",
       "      <th>2</th>\n",
       "      <td>AI EvolutionVer empresa: AI Evolution</td>\n",
       "      <td>\\n25 in-depth ChatGPT prompts to help you scal...</td>\n",
       "      <td>1</td>\n",
       "    </tr>\n",
       "    <tr>\n",
       "      <th>3</th>\n",
       "      <td>AI MakerspaceVer empresa: AI Makerspace</td>\n",
       "      <td>\\nThinking about reskilling yourself or your o...</td>\n",
       "      <td>1</td>\n",
       "    </tr>\n",
       "    <tr>\n",
       "      <th>4</th>\n",
       "      <td>AI MakerspaceVer empresa: AI Makerspace</td>\n",
       "      <td>\\n📣 Join us Nov. 1 at 10 AM PST for the LLM En...</td>\n",
       "      <td>1</td>\n",
       "    </tr>\n",
       "    <tr>\n",
       "      <th>...</th>\n",
       "      <td>...</td>\n",
       "      <td>...</td>\n",
       "      <td>...</td>\n",
       "    </tr>\n",
       "    <tr>\n",
       "      <th>4228</th>\n",
       "      <td>🤖 Ali KadhimVer el perfil de 🤖 Ali Kadhim\\n\\n\\...</td>\n",
       "      <td>\\nMost data scientists and machine learning en...</td>\n",
       "      <td>1</td>\n",
       "    </tr>\n",
       "    <tr>\n",
       "      <th>4229</th>\n",
       "      <td>🤖 Ali KadhimVer el perfil de 🤖 Ali Kadhim\\n\\n\\...</td>\n",
       "      <td>\\n🤯 I generated these QR codes in 1 min! 💥Crea...</td>\n",
       "      <td>1</td>\n",
       "    </tr>\n",
       "    <tr>\n",
       "      <th>4230</th>\n",
       "      <td>🤖 Ali KadhimVer el perfil de 🤖 Ali Kadhim\\n\\n\\...</td>\n",
       "      <td>\\n🤯 Stable Diffusion XL will be Open-source in...</td>\n",
       "      <td>1</td>\n",
       "    </tr>\n",
       "    <tr>\n",
       "      <th>4231</th>\n",
       "      <td>🥸Hakim ElakhrassVer el perfil de 🥸Hakim Elakhr...</td>\n",
       "      <td>\\none of the big changes in Data Science I see...</td>\n",
       "      <td>1</td>\n",
       "    </tr>\n",
       "    <tr>\n",
       "      <th>4232</th>\n",
       "      <td>🪷 Nico EssiVer el perfil de 🪷 Nico Essi\\n\\n\\n\\...</td>\n",
       "      <td>\\n💰 I was offered several hundred dollars for ...</td>\n",
       "      <td>1</td>\n",
       "    </tr>\n",
       "  </tbody>\n",
       "</table>\n",
       "<p>4233 rows × 3 columns</p>\n",
       "</div>"
      ],
      "text/plain": [
       "                                                  names   \n",
       "0     ABHISHEK MISHRAVer el perfil de ABHISHEK MISHR...  \\\n",
       "1                 AI EvolutionVer empresa: AI Evolution   \n",
       "2                 AI EvolutionVer empresa: AI Evolution   \n",
       "3               AI MakerspaceVer empresa: AI Makerspace   \n",
       "4               AI MakerspaceVer empresa: AI Makerspace   \n",
       "...                                                 ...   \n",
       "4228  🤖 Ali KadhimVer el perfil de 🤖 Ali Kadhim\\n\\n\\...   \n",
       "4229  🤖 Ali KadhimVer el perfil de 🤖 Ali Kadhim\\n\\n\\...   \n",
       "4230  🤖 Ali KadhimVer el perfil de 🤖 Ali Kadhim\\n\\n\\...   \n",
       "4231  🥸Hakim ElakhrassVer el perfil de 🥸Hakim Elakhr...   \n",
       "4232  🪷 Nico EssiVer el perfil de 🪷 Nico Essi\\n\\n\\n\\...   \n",
       "\n",
       "                                                  texts  Count  \n",
       "0     \\n🕒 Describe about #matplotlib in #pythonprogr...      1  \n",
       "1     \\n28 ChatGPT prompts to help you master mental...      1  \n",
       "2     \\n25 in-depth ChatGPT prompts to help you scal...      1  \n",
       "3     \\nThinking about reskilling yourself or your o...      1  \n",
       "4     \\n📣 Join us Nov. 1 at 10 AM PST for the LLM En...      1  \n",
       "...                                                 ...    ...  \n",
       "4228  \\nMost data scientists and machine learning en...      1  \n",
       "4229  \\n🤯 I generated these QR codes in 1 min! 💥Crea...      1  \n",
       "4230  \\n🤯 Stable Diffusion XL will be Open-source in...      1  \n",
       "4231  \\none of the big changes in Data Science I see...      1  \n",
       "4232  \\n💰 I was offered several hundred dollars for ...      1  \n",
       "\n",
       "[4233 rows x 3 columns]"
      ]
     },
     "execution_count": 317,
     "metadata": {},
     "output_type": "execute_result"
    }
   ],
   "source": [
    "result.sorte"
   ]
  },
  {
   "cell_type": "code",
   "execution_count": 319,
   "id": "723253eb-88fa-478a-8e1a-a489e16ce6a4",
   "metadata": {},
   "outputs": [
    {
     "data": {
      "text/html": [
       "<div>\n",
       "<style scoped>\n",
       "    .dataframe tbody tr th:only-of-type {\n",
       "        vertical-align: middle;\n",
       "    }\n",
       "\n",
       "    .dataframe tbody tr th {\n",
       "        vertical-align: top;\n",
       "    }\n",
       "\n",
       "    .dataframe thead th {\n",
       "        text-align: right;\n",
       "    }\n",
       "</style>\n",
       "<table border=\"1\" class=\"dataframe\">\n",
       "  <thead>\n",
       "    <tr style=\"text-align: right;\">\n",
       "      <th></th>\n",
       "      <th>names</th>\n",
       "      <th>texts</th>\n",
       "      <th>Count</th>\n",
       "    </tr>\n",
       "  </thead>\n",
       "  <tbody>\n",
       "    <tr>\n",
       "      <th>251</th>\n",
       "      <td>Andrei Lopatenko 🇺🇦Ver el perfil de Andrei Lop...</td>\n",
       "      <td>\\n\\n</td>\n",
       "      <td>5</td>\n",
       "    </tr>\n",
       "    <tr>\n",
       "      <th>99</th>\n",
       "      <td>Aleksander MolakVer el perfil de Aleksander Mo...</td>\n",
       "      <td>\\nCausal Foundation Models?This brand new pape...</td>\n",
       "      <td>3</td>\n",
       "    </tr>\n",
       "    <tr>\n",
       "      <th>3614</th>\n",
       "      <td>Valeriy Manokhin, PhD, MBA, CQFVer el perfil d...</td>\n",
       "      <td>\\nWhen it comes to forecasting MAPE is the abs...</td>\n",
       "      <td>3</td>\n",
       "    </tr>\n",
       "    <tr>\n",
       "      <th>4045</th>\n",
       "      <td>Vinija JainVer el perfil de Vinija Jain\\n\\n\\n\\...</td>\n",
       "      <td>\\n 🪷 Large Language Model, Prompt Engineering,...</td>\n",
       "      <td>2</td>\n",
       "    </tr>\n",
       "    <tr>\n",
       "      <th>1871</th>\n",
       "      <td>Konrad BanachewiczVer el perfil de Konrad Bana...</td>\n",
       "      <td>\\nRob Hyndman is one of *the* people in #times...</td>\n",
       "      <td>2</td>\n",
       "    </tr>\n",
       "    <tr>\n",
       "      <th>...</th>\n",
       "      <td>...</td>\n",
       "      <td>...</td>\n",
       "      <td>...</td>\n",
       "    </tr>\n",
       "    <tr>\n",
       "      <th>1424</th>\n",
       "      <td>Gapingvoid Culture Design GroupVer empresa: Ga...</td>\n",
       "      <td>\\nAccording to Ray Dalio, every time we solve ...</td>\n",
       "      <td>1</td>\n",
       "    </tr>\n",
       "    <tr>\n",
       "      <th>1425</th>\n",
       "      <td>Gapingvoid Culture Design GroupVer empresa: Ga...</td>\n",
       "      <td>\\nIn the 'air-race,' the Wright Brothers and S...</td>\n",
       "      <td>1</td>\n",
       "    </tr>\n",
       "    <tr>\n",
       "      <th>1426</th>\n",
       "      <td>Gapingvoid Culture Design GroupVer empresa: Ga...</td>\n",
       "      <td>\\nThe famous beat writer, William S Burroughs,...</td>\n",
       "      <td>1</td>\n",
       "    </tr>\n",
       "    <tr>\n",
       "      <th>1427</th>\n",
       "      <td>Gapingvoid Culture Design GroupVer empresa: Ga...</td>\n",
       "      <td>\\nThe most effective interrogator of WW2, Hann...</td>\n",
       "      <td>1</td>\n",
       "    </tr>\n",
       "    <tr>\n",
       "      <th>4232</th>\n",
       "      <td>🪷 Nico EssiVer el perfil de 🪷 Nico Essi\\n\\n\\n\\...</td>\n",
       "      <td>\\n💰 I was offered several hundred dollars for ...</td>\n",
       "      <td>1</td>\n",
       "    </tr>\n",
       "  </tbody>\n",
       "</table>\n",
       "<p>4233 rows × 3 columns</p>\n",
       "</div>"
      ],
      "text/plain": [
       "                                                  names   \n",
       "251   Andrei Lopatenko 🇺🇦Ver el perfil de Andrei Lop...  \\\n",
       "99    Aleksander MolakVer el perfil de Aleksander Mo...   \n",
       "3614  Valeriy Manokhin, PhD, MBA, CQFVer el perfil d...   \n",
       "4045  Vinija JainVer el perfil de Vinija Jain\\n\\n\\n\\...   \n",
       "1871  Konrad BanachewiczVer el perfil de Konrad Bana...   \n",
       "...                                                 ...   \n",
       "1424  Gapingvoid Culture Design GroupVer empresa: Ga...   \n",
       "1425  Gapingvoid Culture Design GroupVer empresa: Ga...   \n",
       "1426  Gapingvoid Culture Design GroupVer empresa: Ga...   \n",
       "1427  Gapingvoid Culture Design GroupVer empresa: Ga...   \n",
       "4232  🪷 Nico EssiVer el perfil de 🪷 Nico Essi\\n\\n\\n\\...   \n",
       "\n",
       "                                                  texts  Count  \n",
       "251                                               \\n\\n       5  \n",
       "99    \\nCausal Foundation Models?This brand new pape...      3  \n",
       "3614  \\nWhen it comes to forecasting MAPE is the abs...      3  \n",
       "4045  \\n 🪷 Large Language Model, Prompt Engineering,...      2  \n",
       "1871  \\nRob Hyndman is one of *the* people in #times...      2  \n",
       "...                                                 ...    ...  \n",
       "1424  \\nAccording to Ray Dalio, every time we solve ...      1  \n",
       "1425  \\nIn the 'air-race,' the Wright Brothers and S...      1  \n",
       "1426  \\nThe famous beat writer, William S Burroughs,...      1  \n",
       "1427  \\nThe most effective interrogator of WW2, Hann...      1  \n",
       "4232  \\n💰 I was offered several hundred dollars for ...      1  \n",
       "\n",
       "[4233 rows x 3 columns]"
      ]
     },
     "execution_count": 319,
     "metadata": {},
     "output_type": "execute_result"
    }
   ],
   "source": [
    "# Group by 'Column_Name' and count the number of elements for each 'Column_Text'\n",
    "result = df.groupby('names')['texts'].value_counts().reset_index(name='Count')\n",
    "\n",
    "result = result.sort_values(by=['Count'], ascending=False)\n",
    "# Display the result\n",
    "result"
   ]
  },
  {
   "cell_type": "code",
   "execution_count": 328,
   "id": "b24e391c-bfc1-4cfa-9925-3cc0830e74b8",
   "metadata": {},
   "outputs": [
    {
     "data": {
      "text/plain": [
       "409"
      ]
     },
     "execution_count": 328,
     "metadata": {},
     "output_type": "execute_result"
    }
   ],
   "source": [
    "len(df[df['names'].str.contains(\"Valeriy\")])"
   ]
  },
  {
   "cell_type": "markdown",
   "id": "920a173c-2792-4e08-9e7a-87d39f9982cc",
   "metadata": {},
   "source": [
    "## Clasificación No Supervisada de Textos"
   ]
  },
  {
   "cell_type": "code",
   "execution_count": 339,
   "id": "ec53910b-6a16-4083-a929-95f053c9e651",
   "metadata": {},
   "outputs": [
    {
     "name": "stderr",
     "output_type": "stream",
     "text": [
      "C:\\Users\\juani\\anaconda3\\envs\\llm\\lib\\site-packages\\sklearn\\cluster\\_kmeans.py:870: FutureWarning: The default value of `n_init` will change from 10 to 'auto' in 1.4. Set the value of `n_init` explicitly to suppress the warning\n",
      "  warnings.warn(\n"
     ]
    },
    {
     "data": {
      "text/plain": [
       "array([8, 0, 3, 6, 2, 1, 5, 9, 4, 7])"
      ]
     },
     "execution_count": 339,
     "metadata": {},
     "output_type": "execute_result"
    }
   ],
   "source": [
    "import pandas as pd\n",
    "from sklearn.feature_extraction.text import TfidfVectorizer\n",
    "from sklearn.cluster import KMeans\n",
    "\n",
    "# Assuming your DataFrame is df and the column is 'text_column'\n",
    "# Replace 'text_column' and 'df' with your actual column name and DataFrame\n",
    "\n",
    "# Create a TF-IDF vectorizer\n",
    "tfidf_vectorizer = TfidfVectorizer(stop_words='english')\n",
    "\n",
    "# Fit and transform the text data\n",
    "tfidf_matrix = tfidf_vectorizer.fit_transform(df['texts'])\n",
    "\n",
    "# Apply KMeans clustering\n",
    "num_clusters = 10  # You can adjust the number of clusters\n",
    "kmeans = KMeans(n_clusters=num_clusters)\n",
    "kmeans.fit(tfidf_matrix)\n",
    "\n",
    "# Add the cluster labels to the DataFrame\n",
    "df['cluster_label'] = kmeans.labels_\n",
    "\n",
    "# Display the result\n",
    "# print(df[['texts', 'cluster_label']])\n",
    "df['cluster_label'].unique()"
   ]
  },
  {
   "cell_type": "code",
   "execution_count": 350,
   "id": "79456d43-ea48-4e13-9073-aaa9663b1e6c",
   "metadata": {},
   "outputs": [
    {
     "data": {
      "text/plain": [
       "names\n",
       "Valeriy Manokhin, PhD, MBA, CQFVer el perfil de Valeriy Manokhin, PhD, MBA, CQF\\n\\n\\n\\n \\n• 2º              409\n",
       "PyQuant News 🐍Ver empresa: PyQuant News 🐍                                                                   112\n",
       "LlamaIndexVer empresa: LlamaIndex                                                                            63\n",
       "Christopher RocasVer el perfil de Christopher Rocas\\n\\n\\n\\n \\n• 3er+                                         56\n",
       "Towards Data ScienceVer empresa: Towards Data Science                                                        55\n",
       "Aleksander MolakVer el perfil de Aleksander Molak\\n\\n\\n\\n \\n• 2º                                             46\n",
       "Eric VyacheslavVer el perfil de Eric Vyacheslav\\n\\n\\n\\n \\n• 2º                                               42\n",
       "Konrad BanachewiczVer el perfil de Konrad Banachewicz\\n\\n\\n\\n \\n• 1er                                        42\n",
       "Khuyen TranVer el perfil de Khuyen Tran\\n\\n\\n\\n \\n• 2º                                                       41\n",
       "Youssef HosniVer el perfil de Youssef Hosni\\n\\n\\n\\n \\n• 2º                                                   41\n",
       "Elvis S.Ver el perfil de Elvis S.\\n\\n\\n\\n \\n• 2º                                                             41\n",
       "Bhagirath Kumar Lader 🇮🇳⛪️🕊️🎄🧡⚖️🔭🧬🧪🔬Ver el perfil de Bhagirath Kumar Lader 🇮🇳⛪️🕊️🎄🧡⚖️🔭🧬🧪🔬\\n\\n\\n\\n \\n• 2º     37\n",
       "Banias BaabeVer el perfil de Banias Baabe\\n\\n\\n\\n \\n• 2º                                                     35\n",
       "Frédéric BarbarescoVer el perfil de Frédéric Barbaresco\\n\\n\\n\\n \\n• 2º                                       34\n",
       "Philipp SchmidVer el perfil de Philipp Schmid\\n\\n\\n\\n \\n• 2º                                                 33\n",
       "Pascal BieseVer el perfil de Pascal Biese\\n\\n\\n\\n \\n• 2º                                                     33\n",
       "Ben MeerVer el perfil de Ben Meer\\n\\n\\n\\n \\n• 3er+                                                           32\n",
       "Milan Janosov, Ph.D.Ver el perfil de Milan Janosov, Ph.D.\\n\\n\\n\\n \\n• 2º                                     31\n",
       "Rami KrispinVer el perfil de Rami Krispin\\n\\n\\n\\n \\n• 2º                                                     31\n",
       "Eduardo César Garrido MerchánVer el perfil de Eduardo César Garrido Merchán\\n\\n\\n\\n \\n• 2º                   29\n",
       "Jonathan KinlayVer el perfil de Jonathan Kinlay\\n\\n\\n\\n \\n• 2º                                               28\n",
       "Michael (Mike) Erlihson, PhDVer el perfil de Michael (Mike) Erlihson, PhD\\n\\n\\n\\n \\n• 2º                     27\n",
       "Mehmet S.Ver el perfil de Mehmet S.\\n\\n\\n\\n \\n• 2º                                                           27\n",
       "Qiusheng WuVer el perfil de Qiusheng Wu\\n\\n\\n\\n \\n• 2º                                                       27\n",
       "Matt DanchoVer el perfil de Matt Dancho\\n\\n\\n\\n \\n• 2º                                                       27\n",
       "Lior S.Ver el perfil de Lior S.\\n\\n\\n\\n \\n• 2º                                                               26\n",
       "Avi ChawlaVer el perfil de Avi Chawla\\n\\n\\n\\n \\n• 3er+                                                       23\n",
       "Chris DonnellyVer el perfil de Chris Donnelly\\n\\n\\n\\n \\n• 2º                                                 23\n",
       "Machine Learning MasteryVer empresa: Machine Learning Mastery                                                23\n",
       "Naren CastellonVer el perfil de Naren Castellon\\n\\n\\n\\n \\n• 2º                                               23\n",
       "Itamar GolanVer el perfil de Itamar Golan\\n\\n\\n\\n \\n• 2º                                                     22\n",
       "Carlos RuizVer el perfil de Carlos Ruiz\\n\\n\\n\\n \\n• 1er                                                      22\n",
       "Sophia Yang, Ph.D.Ver el perfil de Sophia Yang, Ph.D.\\n\\n\\n\\n \\n• 2º                                         21\n",
       "Santa Fe InstituteVer empresa: Santa Fe Institute                                                            19\n",
       "Damien Benveniste, PhDVer el perfil de Damien Benveniste, PhD\\n\\n\\n\\n \\n• 2º                                 19\n",
       "Colby KultgenVer el perfil de Colby Kultgen\\n\\n\\n\\n \\n• 3er+                                                 18\n",
       "Santiago ValdarramaVer el perfil de Santiago Valdarrama\\n\\n\\n\\n \\n• 3er+                                     18\n",
       "Michele F.Ver el perfil de Michele F.\\n\\n\\n\\n \\n• 2º                                                         18\n",
       "Frank NielsenVer el perfil de Frank Nielsen\\n\\n\\n\\n \\n• 2º                                                   17\n",
       "Prithivi DaVer el perfil de Prithivi Da\\n\\n\\n\\n \\n• 2º                                                       17\n",
       "Charles H. Martin, PhDVer el perfil de Charles H. Martin, PhD\\n\\n\\n\\n \\n• 2º                                 17\n",
       "Andrei Lopatenko 🇺🇦Ver el perfil de Andrei Lopatenko 🇺🇦\\n\\n\\n\\n \\n• 2º                                       16\n",
       "Giuseppe CavaliereVer el perfil de Giuseppe Cavaliere\\n\\n\\n\\n \\n• 2º                                         16\n",
       "Andrej BaranovskijVer el perfil de Andrej Baranovskij\\n\\n\\n\\n \\n• 2º                                         15\n",
       "Sebastian Raschka, PhDVer el perfil de Sebastian Raschka, PhD\\n\\n\\n\\n \\n• 3er+                               15\n",
       "Aman ChadhaVer el perfil de Aman Chadha\\n\\n\\n\\n \\n• 2º                                                       15\n",
       "Adrian OlszewskiVer el perfil de Adrian Olszewski\\n\\n\\n\\n \\n• 2º                                             14\n",
       "👨‍🏫🤖 Greg LoughnaneVer el perfil de 👨‍🏫🤖 Greg Loughnane\\n\\n\\n\\n \\n• 3er+                                     14\n",
       "Pau Labarta BajoVer el perfil de Pau Labarta Bajo\\n\\n\\n\\n \\n• 2º                                             14\n",
       "Colegio de Matemáticas BourbakiVer empresa: Colegio de Matemáticas Bourbaki                                  13\n",
       "Name: count, dtype: int64"
      ]
     },
     "execution_count": 350,
     "metadata": {},
     "output_type": "execute_result"
    }
   ],
   "source": [
    "df['names'].value_counts()[0:50]"
   ]
  },
  {
   "cell_type": "code",
   "execution_count": 344,
   "id": "8b657099-c9bd-4d27-8f21-2f5348612e16",
   "metadata": {},
   "outputs": [
    {
     "data": {
      "text/plain": [
       "cluster_label\n",
       "8    1623\n",
       "2     637\n",
       "6     550\n",
       "4     312\n",
       "0     275\n",
       "7     228\n",
       "9     212\n",
       "1     180\n",
       "5     128\n",
       "3     118\n",
       "Name: count, dtype: int64"
      ]
     },
     "execution_count": 344,
     "metadata": {},
     "output_type": "execute_result"
    }
   ],
   "source": [
    "df['cluster_label'].value_counts()"
   ]
  },
  {
   "cell_type": "code",
   "execution_count": 343,
   "id": "63605ef1-39b2-45bb-ac6d-9644515ba988",
   "metadata": {},
   "outputs": [
    {
     "data": {
      "text/html": [
       "<div>\n",
       "<style scoped>\n",
       "    .dataframe tbody tr th:only-of-type {\n",
       "        vertical-align: middle;\n",
       "    }\n",
       "\n",
       "    .dataframe tbody tr th {\n",
       "        vertical-align: top;\n",
       "    }\n",
       "\n",
       "    .dataframe thead th {\n",
       "        text-align: right;\n",
       "    }\n",
       "</style>\n",
       "<table border=\"1\" class=\"dataframe\">\n",
       "  <thead>\n",
       "    <tr style=\"text-align: right;\">\n",
       "      <th></th>\n",
       "      <th>cluster_label</th>\n",
       "      <th>texts</th>\n",
       "      <th>Count</th>\n",
       "    </tr>\n",
       "  </thead>\n",
       "  <tbody>\n",
       "    <tr>\n",
       "      <th>2414</th>\n",
       "      <td>8</td>\n",
       "      <td>\\n\\n</td>\n",
       "      <td>25</td>\n",
       "    </tr>\n",
       "    <tr>\n",
       "      <th>453</th>\n",
       "      <td>2</td>\n",
       "      <td>\\nCausal Foundation Models?This brand new pape...</td>\n",
       "      <td>3</td>\n",
       "    </tr>\n",
       "    <tr>\n",
       "      <th>4009</th>\n",
       "      <td>9</td>\n",
       "      <td>\\nWhen it comes to forecasting MAPE is the abs...</td>\n",
       "      <td>3</td>\n",
       "    </tr>\n",
       "    <tr>\n",
       "      <th>0</th>\n",
       "      <td>0</td>\n",
       "      <td>\\nWant to get started with Python for quant fi...</td>\n",
       "      <td>2</td>\n",
       "    </tr>\n",
       "    <tr>\n",
       "      <th>1518</th>\n",
       "      <td>5</td>\n",
       "      <td>\\n7 hard-to-answer questions that will reshape...</td>\n",
       "      <td>2</td>\n",
       "    </tr>\n",
       "    <tr>\n",
       "      <th>...</th>\n",
       "      <td>...</td>\n",
       "      <td>...</td>\n",
       "      <td>...</td>\n",
       "    </tr>\n",
       "    <tr>\n",
       "      <th>1410</th>\n",
       "      <td>4</td>\n",
       "      <td>\\nMathematics plays a pivotal role in data sci...</td>\n",
       "      <td>1</td>\n",
       "    </tr>\n",
       "    <tr>\n",
       "      <th>1411</th>\n",
       "      <td>4</td>\n",
       "      <td>\\nMeta is hiring data scientists again. Here's...</td>\n",
       "      <td>1</td>\n",
       "    </tr>\n",
       "    <tr>\n",
       "      <th>1412</th>\n",
       "      <td>4</td>\n",
       "      <td>\\nMeta is hiring data scientists again. Here's...</td>\n",
       "      <td>1</td>\n",
       "    </tr>\n",
       "    <tr>\n",
       "      <th>1413</th>\n",
       "      <td>4</td>\n",
       "      <td>\\nMidjourney, Stable Diffusion, DALL-E, and ot...</td>\n",
       "      <td>1</td>\n",
       "    </tr>\n",
       "    <tr>\n",
       "      <th>4215</th>\n",
       "      <td>9</td>\n",
       "      <td>\\n🤩 Super excited for today! I'm introducing P...</td>\n",
       "      <td>1</td>\n",
       "    </tr>\n",
       "  </tbody>\n",
       "</table>\n",
       "<p>4216 rows × 3 columns</p>\n",
       "</div>"
      ],
      "text/plain": [
       "      cluster_label                                              texts  Count\n",
       "2414              8                                              \\n\\n      25\n",
       "453               2  \\nCausal Foundation Models?This brand new pape...      3\n",
       "4009              9  \\nWhen it comes to forecasting MAPE is the abs...      3\n",
       "0                 0  \\nWant to get started with Python for quant fi...      2\n",
       "1518              5  \\n7 hard-to-answer questions that will reshape...      2\n",
       "...             ...                                                ...    ...\n",
       "1410              4  \\nMathematics plays a pivotal role in data sci...      1\n",
       "1411              4  \\nMeta is hiring data scientists again. Here's...      1\n",
       "1412              4  \\nMeta is hiring data scientists again. Here's...      1\n",
       "1413              4  \\nMidjourney, Stable Diffusion, DALL-E, and ot...      1\n",
       "4215              9  \\n🤩 Super excited for today! I'm introducing P...      1\n",
       "\n",
       "[4216 rows x 3 columns]"
      ]
     },
     "execution_count": 343,
     "metadata": {},
     "output_type": "execute_result"
    }
   ],
   "source": [
    "df.groupby('cluster_label')['texts'].value_counts().reset_index(name='Count').sort_values(by=['Count'], ascending=False)"
   ]
  },
  {
   "cell_type": "code",
   "execution_count": 341,
   "id": "2f0cc334-541b-4786-be22-ea9957cdf5bd",
   "metadata": {},
   "outputs": [
    {
     "data": {
      "text/html": [
       "<div>\n",
       "<style scoped>\n",
       "    .dataframe tbody tr th:only-of-type {\n",
       "        vertical-align: middle;\n",
       "    }\n",
       "\n",
       "    .dataframe tbody tr th {\n",
       "        vertical-align: top;\n",
       "    }\n",
       "\n",
       "    .dataframe thead th {\n",
       "        text-align: right;\n",
       "    }\n",
       "</style>\n",
       "<table border=\"1\" class=\"dataframe\">\n",
       "  <thead>\n",
       "    <tr style=\"text-align: right;\">\n",
       "      <th></th>\n",
       "      <th>cluster_label</th>\n",
       "      <th>texts</th>\n",
       "      <th>Count</th>\n",
       "    </tr>\n",
       "  </thead>\n",
       "  <tbody>\n",
       "    <tr>\n",
       "      <th>2414</th>\n",
       "      <td>8</td>\n",
       "      <td>\\n\\n</td>\n",
       "      <td>25</td>\n",
       "    </tr>\n",
       "    <tr>\n",
       "      <th>453</th>\n",
       "      <td>2</td>\n",
       "      <td>\\nCausal Foundation Models?This brand new pape...</td>\n",
       "      <td>3</td>\n",
       "    </tr>\n",
       "    <tr>\n",
       "      <th>4009</th>\n",
       "      <td>9</td>\n",
       "      <td>\\nWhen it comes to forecasting MAPE is the abs...</td>\n",
       "      <td>3</td>\n",
       "    </tr>\n",
       "    <tr>\n",
       "      <th>0</th>\n",
       "      <td>0</td>\n",
       "      <td>\\nWant to get started with Python for quant fi...</td>\n",
       "      <td>2</td>\n",
       "    </tr>\n",
       "    <tr>\n",
       "      <th>1518</th>\n",
       "      <td>5</td>\n",
       "      <td>\\n7 hard-to-answer questions that will reshape...</td>\n",
       "      <td>2</td>\n",
       "    </tr>\n",
       "    <tr>\n",
       "      <th>...</th>\n",
       "      <td>...</td>\n",
       "      <td>...</td>\n",
       "      <td>...</td>\n",
       "    </tr>\n",
       "    <tr>\n",
       "      <th>1410</th>\n",
       "      <td>4</td>\n",
       "      <td>\\nMathematics plays a pivotal role in data sci...</td>\n",
       "      <td>1</td>\n",
       "    </tr>\n",
       "    <tr>\n",
       "      <th>1411</th>\n",
       "      <td>4</td>\n",
       "      <td>\\nMeta is hiring data scientists again. Here's...</td>\n",
       "      <td>1</td>\n",
       "    </tr>\n",
       "    <tr>\n",
       "      <th>1412</th>\n",
       "      <td>4</td>\n",
       "      <td>\\nMeta is hiring data scientists again. Here's...</td>\n",
       "      <td>1</td>\n",
       "    </tr>\n",
       "    <tr>\n",
       "      <th>1413</th>\n",
       "      <td>4</td>\n",
       "      <td>\\nMidjourney, Stable Diffusion, DALL-E, and ot...</td>\n",
       "      <td>1</td>\n",
       "    </tr>\n",
       "    <tr>\n",
       "      <th>4215</th>\n",
       "      <td>9</td>\n",
       "      <td>\\n🤩 Super excited for today! I'm introducing P...</td>\n",
       "      <td>1</td>\n",
       "    </tr>\n",
       "  </tbody>\n",
       "</table>\n",
       "<p>4216 rows × 3 columns</p>\n",
       "</div>"
      ],
      "text/plain": [
       "      cluster_label                                              texts  Count\n",
       "2414              8                                              \\n\\n      25\n",
       "453               2  \\nCausal Foundation Models?This brand new pape...      3\n",
       "4009              9  \\nWhen it comes to forecasting MAPE is the abs...      3\n",
       "0                 0  \\nWant to get started with Python for quant fi...      2\n",
       "1518              5  \\n7 hard-to-answer questions that will reshape...      2\n",
       "...             ...                                                ...    ...\n",
       "1410              4  \\nMathematics plays a pivotal role in data sci...      1\n",
       "1411              4  \\nMeta is hiring data scientists again. Here's...      1\n",
       "1412              4  \\nMeta is hiring data scientists again. Here's...      1\n",
       "1413              4  \\nMidjourney, Stable Diffusion, DALL-E, and ot...      1\n",
       "4215              9  \\n🤩 Super excited for today! I'm introducing P...      1\n",
       "\n",
       "[4216 rows x 3 columns]"
      ]
     },
     "execution_count": 341,
     "metadata": {},
     "output_type": "execute_result"
    }
   ],
   "source": [
    "# Group by 'Column_Name' and count the number of elements for each 'Column_Text'\n",
    "result = df.groupby('cluster_label')['texts'].value_counts().reset_index(name='Count')\n",
    "\n",
    "result = result.sort_values(by=['Count'], ascending=False)\n",
    "# Display the result\n",
    "result"
   ]
  }
 ],
 "metadata": {
  "kernelspec": {
   "display_name": "Python 3 (ipykernel)",
   "language": "python",
   "name": "python3"
  },
  "language_info": {
   "codemirror_mode": {
    "name": "ipython",
    "version": 3
   },
   "file_extension": ".py",
   "mimetype": "text/x-python",
   "name": "python",
   "nbconvert_exporter": "python",
   "pygments_lexer": "ipython3",
   "version": "3.10.4"
  },
  "toc-autonumbering": true
 },
 "nbformat": 4,
 "nbformat_minor": 5
}
