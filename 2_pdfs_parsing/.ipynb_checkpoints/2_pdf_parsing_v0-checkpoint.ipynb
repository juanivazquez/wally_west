{
 "cells": [
  {
   "cell_type": "markdown",
   "id": "a531a10b-68f5-40a7-8b74-5b936d377b38",
   "metadata": {},
   "source": [
    "# SETTINGS"
   ]
  },
  {
   "cell_type": "markdown",
   "id": "43c9df4f-6acd-420e-a434-3e737f873ecd",
   "metadata": {},
   "source": [
    "Esta nb genera una base de datos con boletines oficiales nacionales entre junio 2017 y fines de 2022."
   ]
  },
  {
   "cell_type": "markdown",
   "id": "f31a0c50-b97b-4d4c-b754-eff7fcc9cf22",
   "metadata": {},
   "source": [
    "## Libraries"
   ]
  },
  {
   "cell_type": "code",
   "execution_count": 2,
   "id": "8e6bc6b5-34be-41c6-8ffe-43921fb06e33",
   "metadata": {},
   "outputs": [
    {
     "data": {
      "text/plain": [
       "'C:\\\\Users\\\\juani\\\\Documents\\\\3_My_Jupiter_Notebooks\\\\0_github\\\\1_2024\\\\projects\\\\wally_west\\\\2_pdfs_parsing'"
      ]
     },
     "execution_count": 2,
     "metadata": {},
     "output_type": "execute_result"
    }
   ],
   "source": [
    "import fitz\n",
    "import os\n",
    "import shutil\n",
    "import re\n",
    "import pandas as pd\n",
    "import numpy as np\n",
    "from functools import wraps\n",
    "import time\n",
    "import re\n",
    "def timeit(func):\n",
    "    @wraps(func)\n",
    "    def timeit_wrapper(*args, **kwargs):\n",
    "        start_time = time.perf_counter()\n",
    "        result = func(*args, **kwargs)\n",
    "        end_time = time.perf_counter()\n",
    "        total_time = end_time - start_time\n",
    "        # print(f'Function {func.__name__}{args} {kwargs} Took {total_time:.4f} seconds')\n",
    "        print(f'Function {func.__name__} Took {total_time:.4f} seconds',end='\\r')\n",
    "        return result\n",
    "    return timeit_wrapper\n",
    "\n",
    "def is_valid_path(path):\n",
    "    try:\n",
    "        # If the path is absolute or can be made absolute, it's considered a valid path\n",
    "        absolute_path = os.path.abspath(path)\n",
    "        return os.path.exists(absolute_path)\n",
    "    except OSError:\n",
    "        return False\n",
    "\n",
    "    \n",
    "os.getcwd()"
   ]
  },
  {
   "cell_type": "markdown",
   "id": "4d4bffd4-f72d-4dfa-aa08-e539b94c1bc3",
   "metadata": {},
   "source": [
    "## Eliminamos archivos duplicados"
   ]
  },
  {
   "cell_type": "code",
   "execution_count": 6,
   "id": "2dbe2b7b-4acb-40cd-a869-646672b7be92",
   "metadata": {},
   "outputs": [
    {
     "data": {
      "text/plain": [
       "(28, 52)"
      ]
     },
     "execution_count": 6,
     "metadata": {},
     "output_type": "execute_result"
    }
   ],
   "source": [
    "len('seccion_segunda_20170601.pdf'), len('seccion_segunda_20220202 - 2023-05-10T053927.729.pdf')"
   ]
  },
  {
   "cell_type": "code",
   "execution_count": 5,
   "id": "19a64010-e4a6-41af-a856-88e473e7f487",
   "metadata": {},
   "outputs": [
    {
     "data": {
      "text/plain": [
       "(1200, 0)"
      ]
     },
     "execution_count": 5,
     "metadata": {},
     "output_type": "execute_result"
    }
   ],
   "source": [
    "# buscamos los archivos duplicados (tienen un largo de titulo excepcional)\n",
    "path = r'C:\\\\Users\\\\juani\\\\Documents\\\\3_My_Jupiter_Notebooks\\\\0_github\\\\1_2024\\\\projects\\\\wally_west\\\\0_data\\\\boletines'\n",
    "files = os.listdir(path)\n",
    "files_to_delete = [file for file in files if len(file)>28]\n",
    "len(files), len(files_to_delete)"
   ]
  },
  {
   "cell_type": "code",
   "execution_count": 8,
   "id": "0be342ee-9c7f-4656-8852-a571360469c6",
   "metadata": {},
   "outputs": [
    {
     "data": {
      "text/plain": [
       "1198"
      ]
     },
     "execution_count": 8,
     "metadata": {},
     "output_type": "execute_result"
    }
   ],
   "source": [
    "os.chdir(path)\n",
    "os.getcwd()\n",
    "\n",
    "files = [f for f in files if '.pdf' in f]\n",
    "files = [f for f in files if len(f) <30]\n",
    "\n",
    "len(files)"
   ]
  },
  {
   "cell_type": "code",
   "execution_count": 9,
   "id": "e1e04cb3-5ac7-4284-aa6e-e0e07695168c",
   "metadata": {},
   "outputs": [
    {
     "name": "stdout",
     "output_type": "stream",
     "text": [
      "1200\n",
      "1200\n"
     ]
    }
   ],
   "source": [
    "# creamos lista de rutas:\n",
    "paths_to_files_to_delete = [*map(os.path.join,np.repeat(path, len(files_to_delete)),files_to_delete)]\n",
    "\n",
    "# eliminamos los archivos:\n",
    "print(len(os.listdir(path)))\n",
    "# map(os.remove,paths_to_files_to_delete)\n",
    "for file in paths_to_files_to_delete:\n",
    "    os.remove(file)\n",
    "print(len(os.listdir(path)))"
   ]
  },
  {
   "cell_type": "markdown",
   "id": "f637db1a-20eb-4aa5-99e5-bfa5ac3b1712",
   "metadata": {
    "tags": []
   },
   "source": [
    "# Extracción de Datos de Boletines"
   ]
  },
  {
   "cell_type": "code",
   "execution_count": 12,
   "id": "176f75d5-434f-45ac-b709-ffeebe1f7df8",
   "metadata": {},
   "outputs": [],
   "source": [
    "@timeit\n",
    "def generamos_df(path):\n",
    "    '''\n",
    "    \n",
    "    '''\n",
    "    if is_valid_path(path):\n",
    "        doc = fitz.open(path)\n",
    "    \n",
    "    else:\n",
    "        doc = path\n",
    "\n",
    "    data = []\n",
    "\n",
    "    for n, page in enumerate(doc):\n",
    "        blocks = page.get_text(\"dict\", flags=11)[\"blocks\"]\n",
    "        for block in blocks:\n",
    "            font = block['lines'][0]['spans'][0]['font']\n",
    "            size = block['lines'][0]['spans'][0]['size']\n",
    "            \n",
    "            text = ''\n",
    "            for i in block['lines']:\n",
    "                for j in i['spans']:\n",
    "                    try:\n",
    "                        text += j['text']\n",
    "                    except:\n",
    "                        pass\n",
    "            # text = block['lines'][0]['spans'][0]['text']\n",
    "            \n",
    "            page_num = n\n",
    "\n",
    "            if size != 8.5:\n",
    "                data.append((path,page_num, font, size, text))\n",
    "\n",
    "    columns = ['file','page', 'font', 'size', 'text']\n",
    "    df = pd.DataFrame(data, columns=columns)\n",
    "\n",
    "    df['chapter'] = df.loc[df['size'] == 17, 'text']\n",
    "    df['subchapter'] = df.loc[df['size'] == 14, 'text']\n",
    "    df['title'] = df.loc[df['size'] == 11, 'text']\n",
    "    \n",
    "    \n",
    "    df['chapter'] = df['chapter'].fillna(method='ffill')\n",
    "    df['subchapter'] = df['subchapter'].fillna(method='ffill')\n",
    "    df['title'] = df['title'].fillna(method='ffill')\n",
    "    \n",
    "    return df.reset_index()"
   ]
  },
  {
   "cell_type": "code",
   "execution_count": 15,
   "id": "6563eb76-55b8-44f3-b345-352dfe59304c",
   "metadata": {},
   "outputs": [
    {
     "name": "stdout",
     "output_type": "stream",
     "text": [
      "CPU times: total: 3.06 sok 0.3078 seconds\n",
      "Wall time: 3.02 s\n"
     ]
    }
   ],
   "source": [
    "%%time\n",
    "df_ls = [generamos_df(doc) for doc in files[0:10]]\n",
    "# df_ls = [generamos_df(doc) for doc in files]"
   ]
  },
  {
   "cell_type": "code",
   "execution_count": 16,
   "id": "221cb780-19f9-4002-9a02-e633fa522bc7",
   "metadata": {},
   "outputs": [
    {
     "name": "stdout",
     "output_type": "stream",
     "text": [
      "CPU times: total: 15.6 ms\n",
      "Wall time: 4 ms\n"
     ]
    },
    {
     "data": {
      "text/html": [
       "<div>\n",
       "<style scoped>\n",
       "    .dataframe tbody tr th:only-of-type {\n",
       "        vertical-align: middle;\n",
       "    }\n",
       "\n",
       "    .dataframe tbody tr th {\n",
       "        vertical-align: top;\n",
       "    }\n",
       "\n",
       "    .dataframe thead th {\n",
       "        text-align: right;\n",
       "    }\n",
       "</style>\n",
       "<table border=\"1\" class=\"dataframe\">\n",
       "  <thead>\n",
       "    <tr style=\"text-align: right;\">\n",
       "      <th></th>\n",
       "      <th>index</th>\n",
       "      <th>file</th>\n",
       "      <th>page</th>\n",
       "      <th>font</th>\n",
       "      <th>size</th>\n",
       "      <th>text</th>\n",
       "      <th>chapter</th>\n",
       "      <th>subchapter</th>\n",
       "      <th>title</th>\n",
       "    </tr>\n",
       "  </thead>\n",
       "  <tbody>\n",
       "    <tr>\n",
       "      <th>0</th>\n",
       "      <td>0</td>\n",
       "      <td>seccion_segunda_20170601.pdf</td>\n",
       "      <td>0</td>\n",
       "      <td>HelveticaNeueLTStd-LtCn</td>\n",
       "      <td>10.550829</td>\n",
       "      <td>1. Contratos sobre Personas Jurídicas2. Convoc...</td>\n",
       "      <td>NaN</td>\n",
       "      <td>NaN</td>\n",
       "      <td>NaN</td>\n",
       "    </tr>\n",
       "    <tr>\n",
       "      <th>1</th>\n",
       "      <td>1</td>\n",
       "      <td>seccion_segunda_20170601.pdf</td>\n",
       "      <td>0</td>\n",
       "      <td>HelveticaNeueLTStd-LtCn</td>\n",
       "      <td>10.550829</td>\n",
       "      <td>3. Edictos Judiciales4. Partidos Políticos5. I...</td>\n",
       "      <td>NaN</td>\n",
       "      <td>NaN</td>\n",
       "      <td>NaN</td>\n",
       "    </tr>\n",
       "    <tr>\n",
       "      <th>2</th>\n",
       "      <td>2</td>\n",
       "      <td>seccion_segunda_20170601.pdf</td>\n",
       "      <td>0</td>\n",
       "      <td>HelveticaNeueLTStd-BdCn</td>\n",
       "      <td>21.000000</td>\n",
       "      <td>Segunda Sección</td>\n",
       "      <td>NaN</td>\n",
       "      <td>NaN</td>\n",
       "      <td>NaN</td>\n",
       "    </tr>\n",
       "    <tr>\n",
       "      <th>3</th>\n",
       "      <td>3</td>\n",
       "      <td>seccion_segunda_20170601.pdf</td>\n",
       "      <td>0</td>\n",
       "      <td>HelveticaNeueLTStd-Roman</td>\n",
       "      <td>7.750000</td>\n",
       "      <td>Los documentos que aparecen en el BOLETÍN OFIC...</td>\n",
       "      <td>NaN</td>\n",
       "      <td>NaN</td>\n",
       "      <td>NaN</td>\n",
       "    </tr>\n",
       "    <tr>\n",
       "      <th>4</th>\n",
       "      <td>4</td>\n",
       "      <td>seccion_segunda_20170601.pdf</td>\n",
       "      <td>0</td>\n",
       "      <td>HelveticaNeueLTStd-BdCn</td>\n",
       "      <td>13.000000</td>\n",
       "      <td>PRESIDENCIA DE LA NACIÓNSecretarÍa Legal y TÉc...</td>\n",
       "      <td>NaN</td>\n",
       "      <td>NaN</td>\n",
       "      <td>NaN</td>\n",
       "    </tr>\n",
       "  </tbody>\n",
       "</table>\n",
       "</div>"
      ],
      "text/plain": [
       "   index                          file  page                      font  \\\n",
       "0      0  seccion_segunda_20170601.pdf     0   HelveticaNeueLTStd-LtCn   \n",
       "1      1  seccion_segunda_20170601.pdf     0   HelveticaNeueLTStd-LtCn   \n",
       "2      2  seccion_segunda_20170601.pdf     0   HelveticaNeueLTStd-BdCn   \n",
       "3      3  seccion_segunda_20170601.pdf     0  HelveticaNeueLTStd-Roman   \n",
       "4      4  seccion_segunda_20170601.pdf     0   HelveticaNeueLTStd-BdCn   \n",
       "\n",
       "        size                                               text chapter  \\\n",
       "0  10.550829  1. Contratos sobre Personas Jurídicas2. Convoc...     NaN   \n",
       "1  10.550829  3. Edictos Judiciales4. Partidos Políticos5. I...     NaN   \n",
       "2  21.000000                                   Segunda Sección      NaN   \n",
       "3   7.750000  Los documentos que aparecen en el BOLETÍN OFIC...     NaN   \n",
       "4  13.000000  PRESIDENCIA DE LA NACIÓNSecretarÍa Legal y TÉc...     NaN   \n",
       "\n",
       "  subchapter title  \n",
       "0        NaN   NaN  \n",
       "1        NaN   NaN  \n",
       "2        NaN   NaN  \n",
       "3        NaN   NaN  \n",
       "4        NaN   NaN  "
      ]
     },
     "execution_count": 16,
     "metadata": {},
     "output_type": "execute_result"
    }
   ],
   "source": [
    "%%time\n",
    "result_df = pd.concat(df_ls, ignore_index=True)\n",
    "result_df.head()"
   ]
  },
  {
   "cell_type": "code",
   "execution_count": 22,
   "id": "3de4f48f-c55c-4927-80ae-4df37d372a49",
   "metadata": {},
   "outputs": [
    {
     "data": {
      "text/plain": [
       "index           0\n",
       "file            0\n",
       "page            0\n",
       "font            0\n",
       "size            0\n",
       "text            0\n",
       "chapter       306\n",
       "subchapter    110\n",
       "title          50\n",
       "word_count      0\n",
       "dtype: int64"
      ]
     },
     "execution_count": 22,
     "metadata": {},
     "output_type": "execute_result"
    }
   ],
   "source": [
    "# result_df[result_df['chapter']=='NaN']\n",
    "result_df.isna().sum()"
   ]
  },
  {
   "cell_type": "markdown",
   "id": "3699570d-2e94-4e6b-a9c1-857e20740d3d",
   "metadata": {},
   "source": [
    "## Guardamos"
   ]
  },
  {
   "cell_type": "code",
   "execution_count": 264,
   "id": "c4e8f8cc-b430-4cb7-ba09-38b9924ccb4d",
   "metadata": {},
   "outputs": [
    {
     "data": {
      "text/plain": [
       "True"
      ]
     },
     "execution_count": 264,
     "metadata": {},
     "output_type": "execute_result"
    }
   ],
   "source": [
    "base_path = r'C:\\Users\\juani\\Documents\\3_My_Jupiter_Notebooks\\0_github\\ner'\n",
    "if is_valid_path(base_path):\n",
    "    result_df.to_pickle(os.path.join(base_path,'result_df.pkl'))"
   ]
  },
  {
   "cell_type": "markdown",
   "id": "a551f017-e9c8-4f39-bf6c-2088a4acc55d",
   "metadata": {},
   "source": [
    "### Creamos Columnas"
   ]
  },
  {
   "cell_type": "code",
   "execution_count": 266,
   "id": "b4c34f53-96dc-47b6-bcf1-81c51c1e3d54",
   "metadata": {},
   "outputs": [
    {
     "data": {
      "text/plain": [
       "0.24243152668930334"
      ]
     },
     "execution_count": 266,
     "metadata": {},
     "output_type": "execute_result"
    }
   ],
   "source": [
    "len(result_df[result_df.chapter=='CONTRATOS SOBRE PERSONAS JURÍDICAS'])/len(result_df)"
   ]
  },
  {
   "cell_type": "code",
   "execution_count": 157,
   "id": "b77d333a-1135-420a-addd-edaececb36a0",
   "metadata": {},
   "outputs": [
    {
     "data": {
      "text/plain": [
       "241039"
      ]
     },
     "execution_count": 157,
     "metadata": {},
     "output_type": "execute_result"
    }
   ],
   "source": [
    "len(result_df[(result_df.chapter=='CONTRATOS SOBRE PERSONAS JURÍDICAS')])"
   ]
  },
  {
   "cell_type": "code",
   "execution_count": 65,
   "id": "9f80b4b2-92e2-426e-8dde-864668bca622",
   "metadata": {},
   "outputs": [],
   "source": [
    "result_df['chap_tit'] = result_df['chapter'] + result_df['title']"
   ]
  },
  {
   "cell_type": "code",
   "execution_count": 261,
   "id": "b1dd72aa-6052-4a9c-818c-c6118780a754",
   "metadata": {},
   "outputs": [],
   "source": [
    "result_df['word_count'] = [ len(re.split(r'[ \\.,]+', t)) for t in result_df['text']]"
   ]
  },
  {
   "cell_type": "code",
   "execution_count": 262,
   "id": "ab186d26-73e3-40c6-9f09-dfc98a52b501",
   "metadata": {},
   "outputs": [
    {
     "data": {
      "text/plain": [
       "<Axes: >"
      ]
     },
     "execution_count": 262,
     "metadata": {},
     "output_type": "execute_result"
    },
    {
     "data": {
      "image/png": "[encoded data removed]",
      "text/plain": [
       "<Figure size 640x480 with 1 Axes>"
      ]
     },
     "metadata": {},
     "output_type": "display_data"
    }
   ],
   "source": [
    "result_df['word_count'].hist()"
   ]
  },
  {
   "cell_type": "markdown",
   "id": "45031ee5-0a5f-4da8-a126-240a3a6a932c",
   "metadata": {},
   "source": [
    "## Simplificamos chapters y subchapters"
   ]
  },
  {
   "cell_type": "code",
   "execution_count": 284,
   "id": "38fb3468-4844-4bcf-84f5-3e81bdc24082",
   "metadata": {},
   "outputs": [
    {
     "name": "stdout",
     "output_type": "stream",
     "text": [
      "Similar pairs:\n",
      "('CONTRATOS SOBRE PERSONAS JURÍDICAS', 'COntRAtOS SObRe PeRSOnAS JURídICAS')\n",
      "('CONTRATOS SOBRE PERSONAS JURÍDICAS', 'CONTRTOS SOBRE PERSONAS JURÍDICAS')\n",
      "('CONTRATOS SOBRE PERSONAS JURÍDICAS', 'CONTRATOS SOBRE PERSONAS JURÍDICAS ')\n",
      "('CONVOCATORIAS Y AVISOS COMERCIALES', 'COnvOCAtORIAS y AvISOS COMErcIAleS')\n",
      "('CONVOCATORIAS Y AVISOS COMERCIALES', 'CONVOCATORIAS Y AVISOS COMERCIALES ')\n",
      "('EDICTOS JUDICIALES', 'EDICTOS JUDICIALES ')\n",
      "('PARTIDOS POLÍTICOS', 'PARtIdOS POlítICOS')\n",
      "('PARTIDOS POLÍTICOS', 'PARTIDOS POLÍTICOS ')\n",
      "('COntRAtOS SObRe PeRSOnAS JURídICAS', 'CONTRTOS SOBRE PERSONAS JURÍDICAS')\n",
      "('COntRAtOS SObRe PeRSOnAS JURídICAS', 'CONTRATOS SOBRE PERSONAS JURÍDICAS ')\n",
      "('COnvOCAtORIAS y AvISOS COMErcIAleS', 'CONVOCATORIAS Y AVISOS COMERCIALES ')\n",
      "('PARtIdOS POlítICOS', 'PARTIDOS POLÍTICOS ')\n",
      "('CONTRTOS SOBRE PERSONAS JURÍDICAS', 'CONTRATOS SOBRE PERSONAS JURÍDICAS ')\n"
     ]
    }
   ],
   "source": [
    "from difflib import SequenceMatcher\n",
    "from itertools import combinations\n",
    "\n",
    "def similar(a, b, threshold=0.8):\n",
    "    \"\"\"\n",
    "    Calculate the similarity ratio between two strings.\n",
    "\n",
    "    Parameters:\n",
    "    - a, b: The input strings.\n",
    "    - threshold: The minimum similarity ratio for considering them similar (default is 0.8).\n",
    "\n",
    "    Returns:\n",
    "    - A boolean indicating whether the strings are similar.\n",
    "    \"\"\"\n",
    "    return SequenceMatcher(None, a, b).ratio() >= threshold\n",
    "\n",
    "def find_similar_pairs(elements, threshold=0.8):\n",
    "    \"\"\"\n",
    "    Find all pairs of similar elements in a list.\n",
    "\n",
    "    Parameters:\n",
    "    - elements: The list of elements to compare.\n",
    "    - threshold: The minimum similarity ratio for considering elements similar (default is 0.8).\n",
    "\n",
    "    Returns:\n",
    "    - A list of tuples representing similar pairs.\n",
    "    \"\"\"\n",
    "    similar_pairs = []\n",
    "\n",
    "    for pair in combinations(elements, 2):\n",
    "        if similar(pair[0], pair[1], threshold):\n",
    "            similar_pairs.append(pair)\n",
    "\n",
    "    return similar_pairs\n",
    "\n",
    "# Example list of elements\n",
    "# element_list = original_list[\n",
    "#     'apple',\n",
    "#     'banana',\n",
    "#     'orange',\n",
    "#     'apples',\n",
    "#     'kiwi',\n",
    "#     'appl',\n",
    "#     'orangee'\n",
    "# ]\n",
    "element_list = original_list.copy()\n",
    "# Set the threshold for similarity\n",
    "similarity_threshold = 0.7\n",
    "\n",
    "# Find all pairs of similar elements in the list\n",
    "similar_pairs = find_similar_pairs(element_list, similarity_threshold)\n",
    "\n",
    "# Display the result\n",
    "print(\"Similar pairs:\")\n",
    "for pair in similar_pairs:\n",
    "    print(pair)"
   ]
  },
  {
   "cell_type": "markdown",
   "id": "6bbed94a-1904-40be-81a9-b27393609792",
   "metadata": {},
   "source": [
    "### chapters"
   ]
  },
  {
   "cell_type": "code",
   "execution_count": 307,
   "id": "334e9736-afc7-4c1f-9de1-6b8979abbb72",
   "metadata": {},
   "outputs": [],
   "source": [
    "chapter_ls = result_df.chapter.unique().tolist()\n",
    "chapter_ls = [l for l in chapter_ls if l is not np.nan]\n",
    "edited_ls = ['_'.join(l.lower().split(' ')) for l in chapter_ls]"
   ]
  },
  {
   "cell_type": "code",
   "execution_count": 308,
   "id": "2c24315a-f436-436c-8982-1d51eff5420e",
   "metadata": {},
   "outputs": [
    {
     "name": "stdout",
     "output_type": "stream",
     "text": [
      "Original: CONTRATOS SOBRE PERSONAS JURÍDICAS, Cleaned: contratos_sobre_personas_jurídicas\n",
      "Original: CONVOCATORIAS Y AVISOS COMERCIALES, Cleaned: convocatorias_y_avisos_comerciales\n",
      "Original: EDICTOS JUDICIALES, Cleaned: edictos_judiciales\n",
      "Original: PARTIDOS POLÍTICOS, Cleaned: partidos_políticos\n",
      "Original: COntRAtOS SObRe PeRSOnAS JURídICAS, Cleaned: contratos_sobre_personas_jurídicas\n",
      "Original: COnvOCAtORIAS y AvISOS COMeRCIAleS, Cleaned: convocatorias_y_avisos_comerciales\n",
      "Original: edICtOS JUdICIAleS, Cleaned: edictos_judiciales\n",
      "Original: PARtIdOS POlítICOS, Cleaned: partidos_políticos\n",
      "Original: BALANCES, Cleaned: balances\n",
      "Original: CONVOCATORIAS Y AVISOS COMERCIALES , Cleaned: convocatorias_y_avisos_comerciales\n",
      "Original: EDICTOS JUDICIALES , Cleaned: edictos_judiciales\n",
      "Original: PARTIDOS POLÍTICOS , Cleaned: partidos_políticos\n",
      "Original: CONTRTOS SOBRE PERSONAS JURÍDICAS, Cleaned: contratos_sobre_personas_jurídicas\n",
      "Original: CONTRATOS SOBRE PERSONAS JURÍDICAS , Cleaned: contratos_sobre_personas_jurídicas\n"
     ]
    }
   ],
   "source": [
    "# Set the threshold for similarity\n",
    "similarity_threshold = 0.8\n",
    "\n",
    "# Replace similar elements in the list\n",
    "cleaned_list = replace_similar(edited_ls, similarity_threshold)\n",
    "\n",
    "\n",
    "chapter_d = dict(zip(chapter_ls,cleaned_list))\n",
    "\n",
    "# Display the result\n",
    "for original, cleaned in zip(chapter_ls, cleaned_list):\n",
    "    print(f\"Original: {original}, Cleaned: {cleaned}\")"
   ]
  },
  {
   "cell_type": "code",
   "execution_count": 314,
   "id": "f2f85dcc-a8f9-4d2e-afed-e6a7d04fc74a",
   "metadata": {},
   "outputs": [
    {
     "data": {
      "text/plain": [
       "array([nan, 'contratos_sobre_personas_jurídicas',\n",
       "       'convocatorias_y_avisos_comerciales', 'edictos_judiciales',\n",
       "       'partidos_políticos', 'balances'], dtype=object)"
      ]
     },
     "execution_count": 314,
     "metadata": {},
     "output_type": "execute_result"
    }
   ],
   "source": [
    "result_df['chapter'] = result_df['chapter'].apply(\n",
    "    lambda x: next((value for key, value in chapter_d.items() if isinstance(x, str) and x in key), x)\n",
    ")\n",
    "result_df['chapter'].unique()"
   ]
  },
  {
   "cell_type": "markdown",
   "id": "2300949e-7df6-4d16-807a-6979a98694d6",
   "metadata": {},
   "source": [
    "### subchapters"
   ]
  },
  {
   "cell_type": "code",
   "execution_count": 315,
   "id": "89453846-c973-48ae-a7aa-473eeafb57e9",
   "metadata": {},
   "outputs": [],
   "source": [
    "chapter_ls = result_df.subchapter.unique().tolist()\n",
    "chapter_ls = [l for l in chapter_ls if l is not np.nan]\n",
    "edited_ls = ['_'.join(l.lower().split(' ')) for l in chapter_ls]"
   ]
  },
  {
   "cell_type": "code",
   "execution_count": 343,
   "id": "fd7cd538-70a2-4a37-b580-3fabba6ccce6",
   "metadata": {},
   "outputs": [],
   "source": [
    "chapter_ls = result_df.subchapter.unique().tolist()\n",
    "chapter_ls = [l for l in chapter_ls if l is not np.nan]\n",
    "\n",
    "chapter_ls = sorted(chapter_ls)"
   ]
  },
  {
   "cell_type": "code",
   "execution_count": 344,
   "id": "29bddcc9-7d69-40ad-8c03-a05f536e8027",
   "metadata": {},
   "outputs": [],
   "source": [
    "bue_ls = [l for l in chapter_ls if 'Buenos Aires,Año'  in l]\n",
    "chapter_ls = [l for l in chapter_ls if 'Buenos Aires,Año' not in l]\n",
    "edited_ls = ['_'.join(l.lower().split(' ')) for l in chapter_ls]"
   ]
  },
  {
   "cell_type": "code",
   "execution_count": 337,
   "id": "cdf9fa8d-4cad-479d-8c79-0fe994601331",
   "metadata": {},
   "outputs": [
    {
     "name": "stdout",
     "output_type": "stream",
     "text": [
      "Original: AVISOS COMERCIALES, Cleaned: avisos_comerciales\n",
      "Original: AVISOS COMERCIALES , Cleaned: avisos_comerciales\n",
      "Original: AvISOS COMeRCIAleS, Cleaned: avisos_comerciales\n",
      "Original: BALANCES, Cleaned: balances\n",
      "Original: BALANCES , Cleaned: balances\n",
      "Original: CITACIONES Y NOTIFICACIONES. CONCURSOS Y QUIEBRAS. OTROS, Cleaned: citaciones_y_notificaciones._concursos_y_quiebras._otros\n",
      "Original: CITACIONES Y NOTIFICACIONES. CONCURSOS Y QUIEBRAS. OTROS , Cleaned: citaciones_y_notificaciones._concursos_y_quiebras._otros\n",
      "Original: CItACIOneS y nOtIfICACIOneS. COnCURSOS y QUIebRAS. OtROS, Cleaned: citaciones_y_notificaciones._concursos_y_quiebras._otros\n",
      "Original: CONVOCATORIAS, Cleaned: convocatorias\n",
      "Original: CONVOCATORIAS , Cleaned: convocatorias\n",
      "Original: COnvOCAtORIAS, Cleaned: convocatorias\n",
      "Original: OTRAS SOCIEDADES, Cleaned: otras_sociedades\n",
      "Original: OTRAS SOCIEDADES , Cleaned: otras_sociedades\n",
      "Original: PARTIDOS POLÍTICOS, Cleaned: partidos_políticos\n",
      "Original: PARTIDOS POLÍTICOS , Cleaned: partidos_políticos\n",
      "Original: REMATES COMERCIALES, Cleaned: remates_comerciales\n",
      "Original: REMATES COMERCIALES , Cleaned: remates_comerciales\n",
      "Original: REMATES JUDICIALES, Cleaned: remates_judiciales\n",
      "Original: REMATES JUDICIALES , Cleaned: remates_judiciales\n",
      "Original: ReMAteS COMeRCIAleS, Cleaned: remates_comerciales\n",
      "Original: ReMAteS JUdICIAleS, Cleaned: remates_judiciales\n",
      "Original: SOCIEDADES ANÓNIMAS, Cleaned: sociedades_anónimas\n",
      "Original: SOCIEDADES ANÓNIMAS , Cleaned: sociedades_anónimas\n",
      "Original: SOCIEDADES DE RESPONSABILIDAD LIMITADA, Cleaned: sociedades_de_responsabilidad_limitada\n",
      "Original: SOCIEDADES DE RESPONSABILIDAD LIMITADA , Cleaned: sociedades_de_responsabilidad_limitada\n",
      "Original: SOCIEDADES EN COMANDITA POR ACCIONES, Cleaned: sociedades_en_comandita_por_acciones\n",
      "Original: SOCIEDADES POR ACCIÓN SIMPLIFICADA, Cleaned: sociedades_por_acción_simplificada\n",
      "Original: SOCIEDADES POR ACCIÓN SIMPLIFICADA , Cleaned: sociedades_por_acción_simplificada\n",
      "Original: SOCIedAdeS AnónIMAS, Cleaned: sociedades_anónimas\n",
      "Original: SOCIedAdeS POR ACCIón SIMPlIfICAdA, Cleaned: sociedades_por_acción_simplificada\n",
      "Original: SOCIedAdeS de ReSPOnSAbIlIdAd lIMItAdA, Cleaned: sociedades_de_responsabilidad_limitada\n",
      "Original: SUCESIONES, Cleaned: sucesiones\n",
      "Original: SUCESIONES , Cleaned: sucesiones\n",
      "Original: SUCeSIOneS, Cleaned: sucesiones\n",
      "Original: TRANSFERENCIAS DE  FONDO DE COMERCIO , Cleaned: transferencias_de__fondo_de_comercio_\n",
      "Original: TRANSFERENCIAS DE FONDO DE COMERCIO, Cleaned: transferencias_de__fondo_de_comercio_\n",
      "Original: TRANSFERENCIAS DE FONDO DE COMERCIO , Cleaned: transferencias_de__fondo_de_comercio_\n",
      "Original: bAlAnCeS, Cleaned: balances\n",
      "Original: tRAnSfeRenCIAS de fOndO de COMeRCIO, Cleaned: transferencias_de__fondo_de_comercio_\n"
     ]
    }
   ],
   "source": [
    "similarity_threshold = 0.8\n",
    "\n",
    "cleaned_list = replace_similar(edited_ls, similarity_threshold)\n",
    "\n",
    "chapter_d = dict(zip(chapter_ls,cleaned_list))\n",
    "\n",
    "for original, cleaned in zip(chapter_ls, cleaned_list):\n",
    "    print(f\"Original: {original}, Cleaned: {cleaned}\")"
   ]
  },
  {
   "cell_type": "code",
   "execution_count": 347,
   "id": "033d9645-d9f3-4034-984d-2ac1951e5b42",
   "metadata": {},
   "outputs": [],
   "source": [
    "bue_d = dict(zip(bue_ls,['buenos_aires' for l in bue_ls]))"
   ]
  },
  {
   "cell_type": "code",
   "execution_count": 350,
   "id": "e9c2082f-529e-4c00-87d9-93c3ce39a580",
   "metadata": {},
   "outputs": [],
   "source": [
    "def Merge(dict1, dict2):\n",
    "    res = {**dict1, **dict2}\n",
    "    return res\n",
    "\n",
    "new_chapter_d = Merge(chapter_d, bue_d)"
   ]
  },
  {
   "cell_type": "code",
   "execution_count": null,
   "id": "88c96977-aabb-4999-821f-9c12bb820aeb",
   "metadata": {},
   "outputs": [],
   "source": []
  },
  {
   "cell_type": "code",
   "execution_count": 352,
   "id": "d6e03ed5-be9e-4804-9702-804a71d0abb2",
   "metadata": {},
   "outputs": [
    {
     "data": {
      "text/plain": [
       "array([nan, 'buenos_aires', 'sociedades_anónimas',\n",
       "       'sociedades_de_responsabilidad_limitada', 'convocatorias',\n",
       "       'avisos_comerciales', 'remates_comerciales',\n",
       "       'citaciones_y_notificaciones._concursos_y_quiebras._otros',\n",
       "       'sucesiones', 'remates_judiciales',\n",
       "       'transferencias_de__fondo_de_comercio_',\n",
       "       'sociedades_en_comandita_por_acciones', 'otras_sociedades',\n",
       "       'balances', 'sociedades_por_acción_simplificada',\n",
       "       'partidos_políticos'], dtype=object)"
      ]
     },
     "execution_count": 352,
     "metadata": {},
     "output_type": "execute_result"
    }
   ],
   "source": [
    "result_df['subchapter'] = result_df['subchapter'].apply(\n",
    "    lambda x: next((value for key, value in new_chapter_d.items() if isinstance(x, str) and x in key), x)\n",
    ")\n",
    "result_df['subchapter'].unique()"
   ]
  },
  {
   "cell_type": "code",
   "execution_count": 294,
   "id": "0b774234-b7f2-44c6-a028-b5eb8cb351fd",
   "metadata": {},
   "outputs": [
    {
     "data": {
      "text/plain": [
       "56769"
      ]
     },
     "execution_count": 294,
     "metadata": {},
     "output_type": "execute_result"
    }
   ],
   "source": [
    "len(result_df[(result_df['chapter']=='CONTRATOS SOBRE PERSONAS JURÍDICAS')&(result_df['word_count']>180)])"
   ]
  },
  {
   "cell_type": "code",
   "execution_count": 355,
   "id": "08f668e2-a1d4-4a59-83e5-118e5ddd2606",
   "metadata": {},
   "outputs": [],
   "source": [
    "# result_df[(result_df['chapter']=='CONTRATOS SOBRE PERSONAS JURÍDICAS')&(result_df['word_count']>180)].text.tolist()[3]"
   ]
  },
  {
   "cell_type": "code",
   "execution_count": 356,
   "id": "2a7a0376-9da4-4159-a86b-4312ab63defc",
   "metadata": {},
   "outputs": [
    {
     "data": {
      "text/html": [
       "<div>\n",
       "<style scoped>\n",
       "    .dataframe tbody tr th:only-of-type {\n",
       "        vertical-align: middle;\n",
       "    }\n",
       "\n",
       "    .dataframe tbody tr th {\n",
       "        vertical-align: top;\n",
       "    }\n",
       "\n",
       "    .dataframe thead th {\n",
       "        text-align: right;\n",
       "    }\n",
       "</style>\n",
       "<table border=\"1\" class=\"dataframe\">\n",
       "  <thead>\n",
       "    <tr style=\"text-align: right;\">\n",
       "      <th></th>\n",
       "      <th>index</th>\n",
       "      <th>page</th>\n",
       "      <th>size</th>\n",
       "      <th>word_count</th>\n",
       "    </tr>\n",
       "    <tr>\n",
       "      <th>chapter</th>\n",
       "      <th></th>\n",
       "      <th></th>\n",
       "      <th></th>\n",
       "      <th></th>\n",
       "    </tr>\n",
       "  </thead>\n",
       "  <tbody>\n",
       "    <tr>\n",
       "      <th>partidos_políticos</th>\n",
       "      <td>781.0</td>\n",
       "      <td>85.0</td>\n",
       "      <td>11.0</td>\n",
       "      <td>128.0</td>\n",
       "    </tr>\n",
       "    <tr>\n",
       "      <th>balances</th>\n",
       "      <td>655.0</td>\n",
       "      <td>75.0</td>\n",
       "      <td>10.0</td>\n",
       "      <td>117.0</td>\n",
       "    </tr>\n",
       "    <tr>\n",
       "      <th>contratos_sobre_personas_jurídicas</th>\n",
       "      <td>146.0</td>\n",
       "      <td>16.0</td>\n",
       "      <td>10.0</td>\n",
       "      <td>102.0</td>\n",
       "    </tr>\n",
       "    <tr>\n",
       "      <th>convocatorias_y_avisos_comerciales</th>\n",
       "      <td>501.0</td>\n",
       "      <td>56.0</td>\n",
       "      <td>10.0</td>\n",
       "      <td>68.0</td>\n",
       "    </tr>\n",
       "    <tr>\n",
       "      <th>edictos_judiciales</th>\n",
       "      <td>718.0</td>\n",
       "      <td>79.0</td>\n",
       "      <td>9.0</td>\n",
       "      <td>66.0</td>\n",
       "    </tr>\n",
       "  </tbody>\n",
       "</table>\n",
       "</div>"
      ],
      "text/plain": [
       "                                    index  page  size  word_count\n",
       "chapter                                                          \n",
       "partidos_políticos                  781.0  85.0  11.0       128.0\n",
       "balances                            655.0  75.0  10.0       117.0\n",
       "contratos_sobre_personas_jurídicas  146.0  16.0  10.0       102.0\n",
       "convocatorias_y_avisos_comerciales  501.0  56.0  10.0        68.0\n",
       "edictos_judiciales                  718.0  79.0   9.0        66.0"
      ]
     },
     "execution_count": 356,
     "metadata": {},
     "output_type": "execute_result"
    }
   ],
   "source": [
    "result_df.groupby('chapter').mean('word_count').round(0).sort_values(by='word_count',ascending=False)"
   ]
  },
  {
   "cell_type": "code",
   "execution_count": 358,
   "id": "3ec843f9-7fb0-4c7c-abf0-ccb569ff9734",
   "metadata": {},
   "outputs": [
    {
     "data": {
      "text/plain": [
       "array([nan, 'buenos_aires', 'sociedades_anónimas',\n",
       "       'sociedades_de_responsabilidad_limitada', 'convocatorias',\n",
       "       'avisos_comerciales', 'remates_comerciales',\n",
       "       'citaciones_y_notificaciones._concursos_y_quiebras._otros',\n",
       "       'sucesiones', 'remates_judiciales',\n",
       "       'transferencias_de__fondo_de_comercio_',\n",
       "       'sociedades_en_comandita_por_acciones', 'otras_sociedades',\n",
       "       'balances', 'sociedades_por_acción_simplificada',\n",
       "       'partidos_políticos'], dtype=object)"
      ]
     },
     "execution_count": 358,
     "metadata": {},
     "output_type": "execute_result"
    }
   ],
   "source": [
    "result_df.subchapter.unique()"
   ]
  },
  {
   "cell_type": "markdown",
   "id": "4f46a3b6-00be-4236-ace6-39105b8d45a2",
   "metadata": {},
   "source": [
    "### elíminamos filas de títulos"
   ]
  },
  {
   "cell_type": "code",
   "execution_count": 368,
   "id": "6165afb6-a63a-4b83-aa23-0de9e4a6a91f",
   "metadata": {},
   "outputs": [
    {
     "name": "stdout",
     "output_type": "stream",
     "text": [
      "33.0 % de las filas se corresponden con títulos de documentos\n"
     ]
    }
   ],
   "source": [
    "ratio = len(result_df[result_df['text']==result_df['title']])/len(result_df)*100\n",
    "print(f'{np.round(ratio,0)} % de las filas se corresponden con títulos de documentos')"
   ]
  },
  {
   "cell_type": "code",
   "execution_count": 369,
   "id": "e3e67ea6-8337-4ebe-a44f-ff0af7e4fe38",
   "metadata": {},
   "outputs": [
    {
     "data": {
      "text/plain": [
       "664749"
      ]
     },
     "execution_count": 369,
     "metadata": {},
     "output_type": "execute_result"
    }
   ],
   "source": [
    "len(result_df[result_df['text']!=result_df['title']])"
   ]
  },
  {
   "cell_type": "code",
   "execution_count": 372,
   "id": "8a579610-9b58-45d1-9240-0671fcb853c4",
   "metadata": {},
   "outputs": [],
   "source": [
    "result_df2 = result_df[result_df['text']!=result_df['title']]"
   ]
  },
  {
   "cell_type": "code",
   "execution_count": 373,
   "id": "bf836f90-d4d1-47be-bc71-5bc1d138833b",
   "metadata": {},
   "outputs": [],
   "source": [
    "base_path = r'C:\\Users\\juani\\Documents\\3_My_Jupiter_Notebooks\\0_github\\ner'\n",
    "if is_valid_path(base_path):\n",
    "    result_df2.to_pickle(os.path.join(base_path,'result_df2.pkl'))"
   ]
  },
  {
   "cell_type": "markdown",
   "id": "15c15929-154a-480d-9482-035d65a41e6b",
   "metadata": {},
   "source": [
    "### mark for duplicates"
   ]
  },
  {
   "cell_type": "code",
   "execution_count": 390,
   "id": "0d22748e-57e3-4c7d-bd31-85d6c32632fe",
   "metadata": {},
   "outputs": [
    {
     "name": "stderr",
     "output_type": "stream",
     "text": [
      "C:\\Users\\juani\\AppData\\Local\\Temp\\ipykernel_6040\\1865820781.py:1: SettingWithCopyWarning: \n",
      "A value is trying to be set on a copy of a slice from a DataFrame.\n",
      "Try using .loc[row_indexer,col_indexer] = value instead\n",
      "\n",
      "See the caveats in the documentation: https://pandas.pydata.org/pandas-docs/stable/user_guide/indexing.html#returning-a-view-versus-a-copy\n",
      "  result_df2['mark'] = (result_df2['title'] == result_df2['title'].shift()).astype(int)\n"
     ]
    }
   ],
   "source": [
    "result_df2['mark'] = (result_df2['title'] == result_df2['title'].shift()).astype(int)"
   ]
  },
  {
   "cell_type": "code",
   "execution_count": 402,
   "id": "664d677c-239a-4081-a6e4-484464fcdd85",
   "metadata": {},
   "outputs": [],
   "source": [
    "ls = result_df2['mark'].tolist()\n",
    "\n",
    "updated_list = [\n",
    "    1 if ls[i+1] == 1 and ls[i ] == 0 else ls[i]\n",
    "    for i in range(len(ls) - 1)\n",
    "]"
   ]
  },
  {
   "cell_type": "code",
   "execution_count": 410,
   "id": "1204d171-364e-48fa-8a3c-756fb237c8bc",
   "metadata": {},
   "outputs": [
    {
     "name": "stderr",
     "output_type": "stream",
     "text": [
      "C:\\Users\\juani\\AppData\\Local\\Temp\\ipykernel_6040\\558092760.py:1: SettingWithCopyWarning: \n",
      "A value is trying to be set on a copy of a slice from a DataFrame.\n",
      "Try using .loc[row_indexer,col_indexer] = value instead\n",
      "\n",
      "See the caveats in the documentation: https://pandas.pydata.org/pandas-docs/stable/user_guide/indexing.html#returning-a-view-versus-a-copy\n",
      "  result_df2['mark'] = updated_list+[1]\n"
     ]
    }
   ],
   "source": [
    "result_df2['mark'] = updated_list+[1]"
   ]
  },
  {
   "cell_type": "code",
   "execution_count": 386,
   "id": "7b860547-af87-4f44-97c3-e75c4d9a8f5f",
   "metadata": {},
   "outputs": [
    {
     "data": {
      "text/plain": [
       "30597"
      ]
     },
     "execution_count": 386,
     "metadata": {},
     "output_type": "execute_result"
    }
   ],
   "source": [
    "len(result_df2[(result_df2['subchapter']=='buenos_aires')])"
   ]
  },
  {
   "cell_type": "markdown",
   "id": "d94d94c0-4e89-41af-a553-ae91e9062b52",
   "metadata": {},
   "source": [
    "# Back up"
   ]
  },
  {
   "cell_type": "code",
   "execution_count": 23,
   "id": "09eb0757-75d3-4af6-83f0-8f03b3e97cc5",
   "metadata": {},
   "outputs": [
    {
     "name": "stdout",
     "output_type": "stream",
     "text": [
      "\n",
      "Text: ' '\n",
      "Font: 'HelveticaNeueLTStd-LtCn' (serifed, proportional), size 10, color #000000\n",
      "\n",
      "Text: 'BOLETÍN OFICIAL Nº 35.214 - '\n",
      "Font: 'HelveticaNeueLTStd-Cn' (serifed, proportional), size 10, color #000000\n",
      "\n",
      "Text: 'Segunda Sección'\n",
      "Font: 'HelveticaNeueLTStd-BdCn' (serifed, proportional, bold), size 10, color #000000\n",
      "\n",
      "Text: ' '\n",
      "Font: 'HelveticaNeueLTStd-LtCn' (serifed, proportional), size 10, color #000000\n",
      "\n",
      "Text: '3'\n",
      "Font: 'HelveticaNeueLTStd-BdCn' (serifed, proportional, bold), size 14, color #000000\n",
      "\n",
      "Text: ' '\n",
      "Font: 'HelveticaNeueLTStd-LtCn' (serifed, proportional), size 10, color #000000\n",
      "\n",
      "Text: 'Miércoles 19 de julio de 2023'\n",
      "Font: 'HelveticaNeueLTStd-LtCn' (serifed, proportional), size 10, color #000000\n",
      "\n",
      "Text: 'CONTRATOS SOBRE PERSONAS JURÍDICAS'\n",
      "Font: 'HelveticaNeueLTStd-Bd' (serifed, proportional, bold), size 17, color #ffffff\n",
      "\n",
      "Text: 'SOCIEDADES ANÓNIMAS'\n",
      "Font: 'HelveticaNeueLTStd-Bd' (serifed, proportional, bold), size 14, color #000000\n",
      "\n",
      "Text: 'ACEGO S.A.'\n",
      "Font: 'HelveticaNeueLTStd-Bd' (serifed, proportional, bold), size 11, color #000000\n",
      "\n",
      "Text: 'Escritura Nº 757 F° 2011 Reg. 553 de fecha 5/7/2023. Federico Gastón GOÑI, nacido el 21/5/1986, DNI 32.257.649, '\n",
      "Font: 'HelveticaNeueLTStd-Roman' (serifed, proportional), size 10, color #000000\n",
      "\n",
      "Text: 'arquitecto, domiciliado en Calle 9, Nro 1521, Piso 2, Depto A, La Plata, Pcia Bs As, y Gabriel Sebastian GRAU, '\n",
      "Font: 'HelveticaNeueLTStd-Roman' (serifed, proportional), size 10, color #000000\n",
      "\n",
      "Text: 'nacido el 17/6/1984, DNI 30.923.019, empresario, domiciliada en Calle 49 Nro 339, Planta Baja, Depto B, La Plata, '\n",
      "Font: 'HelveticaNeueLTStd-Roman' (serifed, proportional), size 10, color #000000\n",
      "\n",
      "Text: 'Pcia Bs As; ambos argentinos y solteros. Objeto: A) Realización de obras públicas y/o privadas, por contratación '\n",
      "Font: 'HelveticaNeueLTStd-Roman' (serifed, proportional), size 10, color #000000\n",
      "\n",
      "Text: 'directa, licitación pública y/o privada y cualquier sistema vigente y/o a crearse, ejecución de proyecto, dirección, '\n",
      "Font: 'HelveticaNeueLTStd-Roman' (serifed, proportional), size 10, color #000000\n",
      "\n",
      "Text: 'administración, construcción, reparación y reformación de todo tipo de obras de ingeniería y arquitectura de '\n",
      "Font: 'HelveticaNeueLTStd-Roman' (serifed, proportional), size 10, color #000000\n",
      "\n",
      "Text: 'inmuebles, incluyendo las actividades de la albañilería, herrería, electricidad y afines.- B) Compra, venta, '\n",
      "Font: 'HelveticaNeueLTStd-Roman' (serifed, proportional), size 10, color #000000\n",
      "\n",
      "Text: 'importación, exportación, y comercialización de todo tipo de materiales, artículos e insumos para la construcción, '\n",
      "Font: 'HelveticaNeueLTStd-Roman' (serifed, proportional), size 10, color #000000\n",
      "\n",
      "Text: 'incluyendo materiales de corralón, materiales eléctricos, maquinarias de construcción y afines.- C) Realización de '\n",
      "Font: 'HelveticaNeueLTStd-Roman' (serifed, proportional), size 10, color #000000\n",
      "\n",
      "Text: 'operaciones inmobiliarias, compraventa, permuta, alquiler, arrendamiento de propiedades inmuebles, inclusive las '\n",
      "Font: 'HelveticaNeueLTStd-Roman' (serifed, proportional), size 10, color #000000\n",
      "\n",
      "Text: 'comprendidas bajo el régimen de propiedad horizontal, así como también toda clase de operaciones inmobiliarias '\n",
      "Font: 'HelveticaNeueLTStd-Roman' (serifed, proportional), size 10, color #000000\n",
      "\n",
      "Text: 'incluyendo el fraccionamiento y posterior loteo de parcelas destinadas a la vivienda, urbanización, clubes de '\n",
      "Font: 'HelveticaNeueLTStd-Roman' (serifed, proportional), size 10, color #000000\n",
      "\n",
      "Text: 'Campo y parques industriales, pudiendo tomar la venta o comercialización de operaciones inmobiliarias de '\n",
      "Font: 'HelveticaNeueLTStd-Roman' (serifed, proportional), size 10, color #000000\n",
      "\n",
      "Text: 'terceros. Podrá inclusive realizar todas las operaciones sobre inmuebles que autoricen las leyes comprendidas en '\n",
      "Font: 'HelveticaNeueLTStd-Roman' (serifed, proportional), size 10, color #000000\n",
      "\n",
      "Text: 'las disposiciones de la ley de propiedad horizontal.. Cierre de Ejercicio 31/12. Capital $ 200.000 representado por '\n",
      "Font: 'HelveticaNeueLTStd-Roman' (serifed, proportional), size 10, color #000000\n",
      "\n",
      "Text: '200.000 acciones ordinarias, nominativas no endosables de un (1) peso cada una que se suscriben en un 100% y se '\n",
      "Font: 'HelveticaNeueLTStd-Roman' (serifed, proportional), size 10, color #000000\n",
      "\n",
      "Text: 'integran en un 25%. Suscriben 100.000 acciones c/u. Duración 30 años. Directorio por 3 ejercicios: PRESIDENTE: '\n",
      "Font: 'HelveticaNeueLTStd-Roman' (serifed, proportional), size 10, color #000000\n",
      "\n",
      "Text: 'Federico Gastón GOÑI; DIRECTOR SUPLENTE: Gabriel Sebastian GRAU; todos con domicilio especial y sede '\n",
      "Font: 'HelveticaNeueLTStd-Roman' (serifed, proportional), size 10, color #000000\n",
      "\n",
      "Text: 'social en Avenida Entre Ríos 1241, Piso 7, Unidad 47, CABA Autorizado según instrumento público Esc. Nº 757 de '\n",
      "Font: 'HelveticaNeueLTStd-Roman' (serifed, proportional), size 10, color #000000\n",
      "\n",
      "Text: 'fecha 05/07/2023 Reg. Nº 553'\n",
      "Font: 'HelveticaNeueLTStd-Roman' (serifed, proportional), size 10, color #000000\n",
      "\n",
      "Text: 'VERONICA PAOLA ZAZZALI - T°: 358 F°: 235 C.P.C.E.C.A.B.A.'\n",
      "Font: 'HelveticaNeueLTStd-Roman' (serifed, proportional), size 10, color #000000\n",
      "\n",
      "Text: 'e. 19/07/2023 N° 55783/23 v. 19/07/2023'\n",
      "Font: 'HelveticaNeueLTStd-Roman' (serifed, proportional), size 9, color #000000\n",
      "\n",
      "Text: 'AGROQUIM NORTE S.A.'\n",
      "Font: 'HelveticaNeueLTStd-Bd' (serifed, proportional, bold), size 11, color #000000\n",
      "\n",
      "Text: 'Esc 52 del 03/07/2023 Fº 166 reg 1643 CABA, 2) SOCIOS: Esilda Lelia BARRAZA, argentina, soltera, hija de '\n",
      "Font: 'HelveticaNeueLTStd-Roman' (serifed, proportional), size 10, color #000000\n",
      "\n",
      "Text: 'Florencio Barraza y de Sofia Isabel Mendoza, nacida el 17/11/1945, comerciante, DNI 5.172.242, CUIL 27-05172242-'\n",
      "Font: 'HelveticaNeueLTStd-Roman' (serifed, proportional), size 10, color #000000\n",
      "\n",
      "Text: '1 con domicilio en la calle Valentin Gómez 3858 piso 6 35 CABA y Diego Leonel SALAZAR argentino, casado '\n",
      "Font: 'HelveticaNeueLTStd-Roman' (serifed, proportional), size 10, color #000000\n",
      "\n",
      "Text: 'en segundas nupcias con Daniela Marcia Winnik, nacido 07/09/1982, comerciante, DNI 29.600.805, CUIT 20-'\n",
      "Font: 'HelveticaNeueLTStd-Roman' (serifed, proportional), size 10, color #000000\n",
      "\n",
      "Text: '29600805-3 domiciliado en Santa Cruz 841, Almirante Brown, Prov de Bs As.- 3) Denominación: AGROQUIM '\n",
      "Font: 'HelveticaNeueLTStd-Roman' (serifed, proportional), size 10, color #000000\n",
      "\n",
      "Text: 'NORTE S.A. con domicilio social en Mario Bravo 299 primer piso oficina A CABA. 4) Duración: 30 años desde '\n",
      "Font: 'HelveticaNeueLTStd-Roman' (serifed, proportional), size 10, color #000000\n",
      "\n",
      "Text: 'su inscripción en la Inspección General de Justicia.- Aporte de capital: Esilda Lelia BARRAZA $ 90.000, y '\n",
      "Font: 'HelveticaNeueLTStd-Roman' (serifed, proportional), size 10, color #000000\n",
      "\n",
      "Text: 'Diego Leonel SALAZAR $ 10.000, 5) Objeto: Tiene por objeto dedicarse por cuenta propia o de terceros y/o '\n",
      "Font: 'HelveticaNeueLTStd-Roman' (serifed, proportional), size 10, color #000000\n",
      "\n",
      "Text: 'asociada a terceros ya sea en el país o en el exterior las siguientes actividades: Compra, venta, importación y '\n",
      "Font: 'HelveticaNeueLTStd-Roman' (serifed, proportional), size 10, color #000000\n",
      "\n",
      "Text: 'exportación, distribucion y acopio de materias primas derivadas de la explotación agroganadera, semovientes, '\n",
      "Font: 'HelveticaNeueLTStd-Roman' (serifed, proportional), size 10, color #000000\n",
      "\n",
      "Text: 'animales productos carneos, subproductos y sus derivados, fertilizantes, herbicidas, plaguicidas y agroquimicos, '\n",
      "Font: 'HelveticaNeueLTStd-Roman' (serifed, proportional), size 10, color #000000\n",
      "\n",
      "Text: 'alimentos balanceados semillas, cereales, oleaginosos, forrajes, y pasturas y demás productos agropecuarios.'\n",
      "Font: 'HelveticaNeueLTStd-Roman' (serifed, proportional), size 10, color #000000\n",
      "\n",
      "Text: 'Las actividades que asi lo requieran seran realizadas por profesionales con titulo habilitante que al efecto contrate '\n",
      "Font: 'HelveticaNeueLTStd-Roman' (serifed, proportional), size 10, color #000000\n",
      "\n",
      "Text: 'la sociedad. 6) Capital: $ 100.000, representado por mil acciones ordinarias, nominativas no endosables de cien '\n",
      "Font: 'HelveticaNeueLTStd-Roman' (serifed, proportional), size 10, color #000000\n",
      "\n",
      "Text: 'pesos valor nominal cada una y que confieren derecho a un voto por acción.- 7) Administración: Directorio de 1 '\n",
      "Font: 'HelveticaNeueLTStd-Roman' (serifed, proportional), size 10, color #000000\n",
      "\n",
      "Text: 'a 5 titulares. Se prescinde de sindicatura y la elección por la Asamblea de uno o más directores suplentes, será '\n",
      "Font: 'HelveticaNeueLTStd-Roman' (serifed, proportional), size 10, color #000000\n",
      "\n",
      "Text: 'obligatoria. El término de su elección es de 3 ejercicios. Representación: Presidente o Vicepresidente en caso de '\n",
      "Font: 'HelveticaNeueLTStd-Roman' (serifed, proportional), size 10, color #000000\n",
      "\n",
      "Text: 'ausencia o impedimento. Presidente: Esilda Lelia BARRAZA, Director Suplente: Diego Leonel SALAZAR quienes '\n",
      "Font: 'HelveticaNeueLTStd-Roman' (serifed, proportional), size 10, color #000000\n",
      "\n",
      "Text: 'aceptan los cargos y constituyen domicilio especial en Mario Bravo 299 primer piso oficina A CABA. Ejercicio cierra '\n",
      "Font: 'HelveticaNeueLTStd-Roman' (serifed, proportional), size 10, color #000000\n",
      "\n",
      "Text: 'el 30 de junio de cada año. Autorizado según instrumento público Esc. Nº 53 de fecha 03/07/2023 Reg. Nº 1643'\n",
      "Font: 'HelveticaNeueLTStd-Roman' (serifed, proportional), size 10, color #000000\n",
      "\n",
      "Text: 'Maria Zulema Garcia De Arana - Matrícula: 3516 C.E.C.B.A.'\n",
      "Font: 'HelveticaNeueLTStd-Roman' (serifed, proportional), size 10, color #000000\n",
      "\n",
      "Text: 'e. 19/07/2023 N° 55773/23 v. 19/07/2023'\n",
      "Font: 'HelveticaNeueLTStd-Roman' (serifed, proportional), size 9, color #000000\n",
      "\n",
      "Text: '#I6917090I#'\n",
      "Font: 'HelveticaNeueLTStd-Roman' (serifed, proportional), size 8.5, color #ffffff\n",
      "\n",
      "Text: '#F6917090F#'\n",
      "Font: 'HelveticaNeueLTStd-Roman' (serifed, proportional), size 8.5, color #ffffff\n",
      "\n",
      "Text: '#I6917080I#'\n",
      "Font: 'HelveticaNeueLTStd-Roman' (serifed, proportional), size 8.5, color #ffffff\n",
      "\n",
      "Text: '#F6917080F#'\n",
      "Font: 'HelveticaNeueLTStd-Roman' (serifed, proportional), size 8.5, color #ffffff\n"
     ]
    }
   ],
   "source": [
    "# doc = fitz.open(sys.argv[1])\n",
    "page = doc[2]\n",
    "\n",
    "import sys\n",
    "\n",
    "import fitz\n",
    "\n",
    "\n",
    "def flags_decomposer(flags):\n",
    "    \"\"\"Make font flags human readable.\"\"\"\n",
    "    l = []\n",
    "    if flags & 2 ** 0:\n",
    "        l.append(\"superscript\")\n",
    "    if flags & 2 ** 1:\n",
    "        l.append(\"italic\")\n",
    "    if flags & 2 ** 2:\n",
    "        l.append(\"serifed\")\n",
    "    else:\n",
    "        l.append(\"sans\")\n",
    "    if flags & 2 ** 3:\n",
    "        l.append(\"monospaced\")\n",
    "    else:\n",
    "        l.append(\"proportional\")\n",
    "    if flags & 2 ** 4:\n",
    "        l.append(\"bold\")\n",
    "    return \", \".join(l)\n",
    "\n",
    "\n",
    "\n",
    "\n",
    "# read page text as a dictionary, suppressing extra spaces in CJK fonts\n",
    "blocks = page.get_text(\"dict\", flags=11)[\"blocks\"]\n",
    "for b in blocks:  # iterate through the text blocks\n",
    "    for l in b[\"lines\"]:  # iterate through the text lines\n",
    "        for s in l[\"spans\"]:  # iterate through the text spans\n",
    "            print(\"\")\n",
    "            font_properties = \"Font: '%s' (%s), size %g, color #%06x\" % (\n",
    "                s[\"font\"],  # font name\n",
    "                flags_decomposer(s[\"flags\"]),  # readable font flags\n",
    "                s[\"size\"],  # font size\n",
    "                s[\"color\"],  # font color\n",
    "            )\n",
    "            print(\"Text: '%s'\" % s[\"text\"])  # simple print of text\n",
    "            print(font_properties)"
   ]
  }
 ],
 "metadata": {
  "kernelspec": {
   "display_name": "Python 3 (ipykernel)",
   "language": "python",
   "name": "python3"
  },
  "language_info": {
   "codemirror_mode": {
    "name": "ipython",
    "version": 3
   },
   "file_extension": ".py",
   "mimetype": "text/x-python",
   "name": "python",
   "nbconvert_exporter": "python",
   "pygments_lexer": "ipython3",
   "version": "3.8.20"
  },
  "toc-autonumbering": true
 },
 "nbformat": 4,
 "nbformat_minor": 5
}
