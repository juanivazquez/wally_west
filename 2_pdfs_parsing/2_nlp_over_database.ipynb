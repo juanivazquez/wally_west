{
 "cells": [
  {
   "cell_type": "code",
   "execution_count": 1,
   "id": "a6980c41-38a5-4840-acda-27847780beea",
   "metadata": {},
   "outputs": [
    {
     "data": {
      "text/plain": [
       "'C:\\\\Users\\\\juani\\\\Documents\\\\3_My_Jupiter_Notebooks\\\\0_github\\\\ner'"
      ]
     },
     "execution_count": 1,
     "metadata": {},
     "output_type": "execute_result"
    }
   ],
   "source": [
    "import fitz\n",
    "import os\n",
    "import json\n",
    "import shutil\n",
    "import re\n",
    "import pandas as pd\n",
    "import numpy as np\n",
    "from functools import wraps\n",
    "import time\n",
    "import re\n",
    "import matplotlib.pyplot as plt\n",
    "import warnings\n",
    "\n",
    "import pandas as pd\n",
    "import numpy as np\n",
    "import spacy\n",
    "from spacy.tokens import DocBin\n",
    "from tqdm import tqdm\n",
    "\n",
    "\n",
    "\n",
    "\n",
    "\n",
    "\n",
    "\n",
    "def timeit(func):\n",
    "    @wraps(func)\n",
    "    def timeit_wrapper(*args, **kwargs):\n",
    "        start_time = time.perf_counter()\n",
    "        result = func(*args, **kwargs)\n",
    "        end_time = time.perf_counter()\n",
    "        total_time = end_time - start_time\n",
    "        # print(f'Function {func.__name__}{args} {kwargs} Took {total_time:.4f} seconds')\n",
    "        print(f'Function {func.__name__} Took {total_time:.4f} seconds',end='\\r')\n",
    "        return result\n",
    "    return timeit_wrapper\n",
    "\n",
    "def is_valid_path(path):\n",
    "    try:\n",
    "        # If the path is absolute or can be made absolute, it's considered a valid path\n",
    "        absolute_path = os.path.abspath(path)\n",
    "        return os.path.exists(absolute_path)\n",
    "    except OSError:\n",
    "        return False\n",
    "\n",
    "    \n",
    "os.getcwd()"
   ]
  },
  {
   "cell_type": "code",
   "execution_count": null,
   "id": "3a075077-88cf-467d-89c7-ad69aa15e91d",
   "metadata": {},
   "outputs": [],
   "source": [
    "# !python -m spacy download es_dep_news_trf"
   ]
  },
  {
   "cell_type": "markdown",
   "id": "5c4453b1-b764-48d1-83cc-cc4e2e223c43",
   "metadata": {},
   "source": [
    "# load"
   ]
  },
  {
   "cell_type": "markdown",
   "id": "ef71fbfa-4c18-4d3f-b023-c31c012a6a3f",
   "metadata": {},
   "source": [
    "## data"
   ]
  },
  {
   "cell_type": "code",
   "execution_count": 7,
   "id": "4e18e423-0f50-4043-b370-489a52191947",
   "metadata": {},
   "outputs": [],
   "source": [
    "base_path = r'C:\\Users\\juani\\Documents\\3_My_Jupiter_Notebooks\\0_github\\ner'\n",
    "if is_valid_path(base_path):\n",
    "    df = pd.read_pickle(os.path.join(base_path,'result_df2.pkl'))"
   ]
  },
  {
   "cell_type": "code",
   "execution_count": 2,
   "id": "5b231ada-ac71-4ebb-adc5-f39ba3d6de35",
   "metadata": {},
   "outputs": [],
   "source": [
    "base_path = r'C:\\Users\\juani\\Documents\\3_My_Jupiter_Notebooks\\0_github\\ner'\n",
    "df = pd.read_pickle(os.path.join(base_path,'result_df4.pkl'))"
   ]
  },
  {
   "cell_type": "code",
   "execution_count": 31,
   "id": "10fccf37-6761-49b1-834b-6768051469fb",
   "metadata": {},
   "outputs": [
    {
     "data": {
      "text/plain": [
       "array(['contratos_sobre_personas_jurídicas',\n",
       "       'convocatorias_y_avisos_comerciales', 'edictos_judiciales',\n",
       "       'partidos_políticos', 'balances'], dtype=object)"
      ]
     },
     "execution_count": 31,
     "metadata": {},
     "output_type": "execute_result"
    }
   ],
   "source": [
    "df.chapter.unique()"
   ]
  },
  {
   "cell_type": "code",
   "execution_count": null,
   "id": "05e1a0e4-2075-4c95-bd49-4a4788646aca",
   "metadata": {},
   "outputs": [],
   "source": []
  },
  {
   "cell_type": "markdown",
   "id": "80f72819-e969-4361-ab7e-2f4c196212b4",
   "metadata": {},
   "source": [
    "Supuesto: los estatutos tienen que declararse en la sección 'contratos_sobre_personas_jurídicas' y llevan al menos 150 tokens. "
   ]
  },
  {
   "cell_type": "code",
   "execution_count": 4,
   "id": "6fcd8002-b3ca-4727-982d-70bf845f1cf1",
   "metadata": {},
   "outputs": [
    {
     "data": {
      "text/plain": [
       "59111"
      ]
     },
     "execution_count": 4,
     "metadata": {},
     "output_type": "execute_result"
    }
   ],
   "source": [
    "estatutos_ls = df[(df.chapter=='contratos_sobre_personas_jurídicas')&(df.word_count>=150)].text.tolist()\n",
    "len(estatutos_ls)"
   ]
  },
  {
   "cell_type": "markdown",
   "id": "9be894ae-37e5-403f-a3b2-d4371c849c0f",
   "metadata": {},
   "source": [
    "## modelo"
   ]
  },
  {
   "cell_type": "code",
   "execution_count": 5,
   "id": "22c093de-1a64-420f-91c9-870c17f63ffb",
   "metadata": {},
   "outputs": [],
   "source": [
    "ner_model_path = r'C:\\Users\\juani\\Documents\\3_My_Jupiter_Notebooks\\0_github\\ner\\ner_model_1' # ner_model_1\n",
    "# ner_model_path = r'C:\\Users\\juani\\Documents\\3_My_Jupiter_Notebooks\\0_github\\ner\\textcat_model_1'\n",
    "\n",
    "nlp_ner = spacy.load(os.path.join(ner_model_path,'model-best'))"
   ]
  },
  {
   "cell_type": "code",
   "execution_count": 6,
   "id": "5d5210f0-4ae4-42a0-8f58-b8c6124a1314",
   "metadata": {},
   "outputs": [],
   "source": [
    "@timeit\n",
    "def get_ner(text):\n",
    "    doc = nlp_ner(text)\n",
    "    res =[]\n",
    "    \n",
    "    for ent in doc.ents:\n",
    "        res.append((ent.label_,ent.text))\n",
    "        \n",
    "    # Initialize an empty dictionary\n",
    "    result_dict = {}\n",
    "\n",
    "    # Loop through the tuples and populate the dictionary\n",
    "    for key, value in res:\n",
    "        if key in result_dict:\n",
    "            # If the key already exists, append the value to the existing list\n",
    "            result_dict[key].append(value)\n",
    "        else:\n",
    "            # If the key is encountered for the first time, create a new list with the value\n",
    "            result_dict[key] = [value]     \n",
    "        \n",
    "    required_keys = ['SOCIO', 'DNI', 'ESCRIBANO']\n",
    "    for key in required_keys:\n",
    "        result_dict.setdefault(key, [])    \n",
    "    return result_dict"
   ]
  },
  {
   "cell_type": "code",
   "execution_count": 30,
   "id": "6625b9e4-53e9-41fd-8dbd-0aadf719eca0",
   "metadata": {},
   "outputs": [
    {
     "data": {
      "text/plain": [
       "'Constituida por Esc. Nº 348 del 13/10/2017 por ante el Registro 1177 de C.A.B.A.- Socios: Fabricio Mariano TKACZYK, argentino, nacido el 28/01/1986, D.N.I.: 32.037.644, soltero, abogado, con domicilio en Sanabria 3695, 3° Piso, de C.A.B.A.; y Daniel Guillermo D’ALMEIDA, argentino, nacido el 09/12/1954, D.N.I.: 11.488.391, divorciado de sus primeras nupcias de María Inés Álvarez, empresario, con domicilio en Olavarría 3679, Caseros, Pdo. Tres de Febrero, Pcia. de Bs. As.- 1) Denominación: “WORK CLOTHES\\xa0S.R.L.”.- 2) Duración: 99 años.- 3) Objeto: brindar por cuenta propia, y/o de terceros y/o asociada a terceros la confección, producción, venta, comercialización, importación y/o exportación de tejidos, ropa y uniformes para empresas y afines. A tal fin la sociedad tiene plena capacidad jurídica para adquirir derechos, contraer obligaciones y ejercer los actos que no sean prohibidos por las leyes o por este contrato.- 4) Capital: $\\xa0100.000 dividido en 1.000 de cuotas de 100 pesos valor nominal c/u.- 5) La administración, representación legal y uso de la firma social estará a cargo de un Socio Gerente cuya vigencia en el mandato es por toda la duración de la sociedad.- Prescinde de Sindicatura.- 6) Cierre de Ejercicio: 31/12.- 7) Gerencia: Fabricio Mariano TKACZYK, quien acepta el cargo y fija su domicilio especial en la sede social.- 8) Sede Social: Sanabria 3695, 3° Piso, de C.A.B.A.- Autorizado según instrumento público Esc. Nº 348 de fecha 13/10/2017 Reg. Nº 1177Reinaldo Omar Bogado - T°: 92 F°: 731 C.P.A.C.F.e. 24/10/2017 N° 80793/17 v. 24/10/2017'"
      ]
     },
     "execution_count": 30,
     "metadata": {},
     "output_type": "execute_result"
    }
   ],
   "source": [
    "estatutos_ls[5100]"
   ]
  },
  {
   "cell_type": "code",
   "execution_count": 35,
   "id": "3fbd9c62-2b30-45cf-a768-34708e1157f9",
   "metadata": {},
   "outputs": [
    {
     "name": "stdout",
     "output_type": "stream",
     "text": [
      "Function get_ner Took 0.2520 seconds\r"
     ]
    },
    {
     "data": {
      "text/plain": [
       "{'SOCIO': ['Rolando IRIARTE PIEDRA',\n",
       "  'Eduviges TICONA ALVAREZ',\n",
       "  'Karen Nilda NINAVIA VASQUEZ',\n",
       "  'Genaro MAMANI TITO',\n",
       "  'Lucy Celia AMAYA FERNANDEZ',\n",
       "  'Melanio Ramón SILVERO',\n",
       "  'Jhonny Eduardo MAMANI HEREDIA',\n",
       "  'Richard Ramón SEJAS FERNÁNDEZ',\n",
       "  'Juan Carlos VIGABRIEL CAMACHO',\n",
       "  'Néstor Alberto BARRA',\n",
       "  'Karina Ester CALERO',\n",
       "  'Wilder Rubén VIDAL FERNANDEZ',\n",
       "  'Ana María GARCÍA QUIROGA',\n",
       "  'Giovanna VILLCA ABREGO',\n",
       "  'Ulises Abel VELASQUEZ',\n",
       "  'Alejandro Fabián CALERO',\n",
       "  'Graciela Noemí CASTILLO',\n",
       "  'Nestor Osvaldo CALERO',\n",
       "  'Jesús VIGABRIEL CAMACHO',\n",
       "  'Héctor Alejandro CAGUASIRI',\n",
       "  'ROSSEL, Gustavo Sixto',\n",
       "  'Zacarías LIPA VEGA',\n",
       "  'Roberto Martin CAGUASIRI'],\n",
       " 'DNI': ['92.849.692',\n",
       "  '92.931.282',\n",
       "  '94.416.664',\n",
       "  '93.970.149',\n",
       "  '94.853.779',\n",
       "  '17.067.835',\n",
       "  '92.950.005',\n",
       "  '92.110.545',\n",
       "  '94.838.987',\n",
       "  '28.161.836',\n",
       "  '21.551.847',\n",
       "  '94.078.384',\n",
       "  '94.000.668',\n",
       "  '94.299.738',\n",
       "  '28.123.929',\n",
       "  '24.379.336',\n",
       "  '26.439.437',\n",
       "  '41.151.684',\n",
       "  '93.650.446',\n",
       "  '39.468.909',\n",
       "  '94.596.306',\n",
       "  '94.757.376',\n",
       "  '22.637.831'],\n",
       " 'ESCRIBANO': ['EDUARDO OLIVERA']}"
      ]
     },
     "execution_count": 35,
     "metadata": {},
     "output_type": "execute_result"
    }
   ],
   "source": [
    "get_ner(df[df.title=='BETHEL WORLD\\xa0S.A.'].text.tolist()[0])"
   ]
  },
  {
   "cell_type": "code",
   "execution_count": 29,
   "id": "e37059a5-c3b1-4180-a573-137775dcff20",
   "metadata": {},
   "outputs": [
    {
     "name": "stdout",
     "output_type": "stream",
     "text": [
      "Function get_ner Took 0.0630 seconds\r"
     ]
    },
    {
     "data": {
      "text/plain": [
       "{'SOCIO': ['Fabricio Mariano TKACZYK', 'Daniel Guillermo D’ALMEIDA'],\n",
       " 'DNI': ['32.037.644', '11.488.391'],\n",
       " 'ESCRIBANO': ['Omar Bogado']}"
      ]
     },
     "execution_count": 29,
     "metadata": {},
     "output_type": "execute_result"
    }
   ],
   "source": [
    "get_ner(estatutos_ls[5100])"
   ]
  },
  {
   "cell_type": "markdown",
   "id": "bbd5ce03-a015-41d9-8c7a-b69aaab917e5",
   "metadata": {},
   "source": [
    "# PREPROCESAMIENTO COMPLEMENTARIO"
   ]
  },
  {
   "cell_type": "code",
   "execution_count": null,
   "id": "6f79c521-77c3-49dc-8803-237dbd722f58",
   "metadata": {},
   "outputs": [],
   "source": []
  },
  {
   "cell_type": "code",
   "execution_count": 15,
   "id": "69e0dd67-b6f4-4efa-bd18-ede5151ee703",
   "metadata": {},
   "outputs": [
    {
     "data": {
      "text/html": [
       "<div>\n",
       "<style scoped>\n",
       "    .dataframe tbody tr th:only-of-type {\n",
       "        vertical-align: middle;\n",
       "    }\n",
       "\n",
       "    .dataframe tbody tr th {\n",
       "        vertical-align: top;\n",
       "    }\n",
       "\n",
       "    .dataframe thead th {\n",
       "        text-align: right;\n",
       "    }\n",
       "</style>\n",
       "<table border=\"1\" class=\"dataframe\">\n",
       "  <thead>\n",
       "    <tr style=\"text-align: right;\">\n",
       "      <th></th>\n",
       "      <th>index</th>\n",
       "      <th>file</th>\n",
       "      <th>page</th>\n",
       "      <th>font</th>\n",
       "      <th>size</th>\n",
       "      <th>text</th>\n",
       "      <th>chapter</th>\n",
       "      <th>subchapter</th>\n",
       "      <th>title</th>\n",
       "      <th>word_count</th>\n",
       "      <th>SOCIO</th>\n",
       "      <th>DNI</th>\n",
       "      <th>ESCRIBANO</th>\n",
       "      <th>SOCIEDAD</th>\n",
       "      <th>id</th>\n",
       "      <th>consecutive_count</th>\n",
       "      <th>consecutive_group</th>\n",
       "    </tr>\n",
       "  </thead>\n",
       "  <tbody>\n",
       "    <tr>\n",
       "      <th>341222</th>\n",
       "      <td>48</td>\n",
       "      <td>seccion_segunda_20181210.pdf</td>\n",
       "      <td>2</td>\n",
       "      <td>HelveticaNeueLTStd-Roman</td>\n",
       "      <td>10.0</td>\n",
       "      <td>Comunica que la Asamblea Extraordinaria de Acc...</td>\n",
       "      <td>contratos_sobre_personas_jurídicas</td>\n",
       "      <td>sociedades_anónimas</td>\n",
       "      <td>BANCO HIPOTECARIO S.A.</td>\n",
       "      <td>520</td>\n",
       "      <td>[]</td>\n",
       "      <td>[]</td>\n",
       "      <td>[]</td>\n",
       "      <td>NaN</td>\n",
       "      <td>seccion_segunda_20181210.pdfcontratos_sobre_pe...</td>\n",
       "      <td>1.0</td>\n",
       "      <td>129054</td>\n",
       "    </tr>\n",
       "    <tr>\n",
       "      <th>341224</th>\n",
       "      <td>50</td>\n",
       "      <td>seccion_segunda_20181210.pdf</td>\n",
       "      <td>3</td>\n",
       "      <td>HelveticaNeueLTStd-Roman</td>\n",
       "      <td>10.0</td>\n",
       "      <td>en el país o en el exterior, dentro de los lím...</td>\n",
       "      <td>contratos_sobre_personas_jurídicas</td>\n",
       "      <td>sociedades_anónimas</td>\n",
       "      <td>BANCO HIPOTECARIO S.A.</td>\n",
       "      <td>1096</td>\n",
       "      <td>[]</td>\n",
       "      <td>[]</td>\n",
       "      <td>[]</td>\n",
       "      <td>NaN</td>\n",
       "      <td>seccion_segunda_20181210.pdfcontratos_sobre_pe...</td>\n",
       "      <td>3.0</td>\n",
       "      <td>129054</td>\n",
       "    </tr>\n",
       "    <tr>\n",
       "      <th>341226</th>\n",
       "      <td>52</td>\n",
       "      <td>seccion_segunda_20181210.pdf</td>\n",
       "      <td>4</td>\n",
       "      <td>HelveticaNeueLTStd-Roman</td>\n",
       "      <td>10.0</td>\n",
       "      <td>que lo adquieran por encontrarse la Sociedad e...</td>\n",
       "      <td>contratos_sobre_personas_jurídicas</td>\n",
       "      <td>sociedades_anónimas</td>\n",
       "      <td>BANCO HIPOTECARIO S.A.</td>\n",
       "      <td>1094</td>\n",
       "      <td>[]</td>\n",
       "      <td>[]</td>\n",
       "      <td>[]</td>\n",
       "      <td>NaN</td>\n",
       "      <td>seccion_segunda_20181210.pdfcontratos_sobre_pe...</td>\n",
       "      <td>5.0</td>\n",
       "      <td>129054</td>\n",
       "    </tr>\n",
       "    <tr>\n",
       "      <th>341228</th>\n",
       "      <td>54</td>\n",
       "      <td>seccion_segunda_20181210.pdf</td>\n",
       "      <td>5</td>\n",
       "      <td>HelveticaNeueLTStd-Roman</td>\n",
       "      <td>10.0</td>\n",
       "      <td>(A) La identidad, nacionalidad, domicilio y nú...</td>\n",
       "      <td>contratos_sobre_personas_jurídicas</td>\n",
       "      <td>sociedades_anónimas</td>\n",
       "      <td>BANCO HIPOTECARIO S.A.</td>\n",
       "      <td>1164</td>\n",
       "      <td>[]</td>\n",
       "      <td>[]</td>\n",
       "      <td>[]</td>\n",
       "      <td>NaN</td>\n",
       "      <td>seccion_segunda_20181210.pdfcontratos_sobre_pe...</td>\n",
       "      <td>7.0</td>\n",
       "      <td>129054</td>\n",
       "    </tr>\n",
       "    <tr>\n",
       "      <th>341230</th>\n",
       "      <td>56</td>\n",
       "      <td>seccion_segunda_20181210.pdf</td>\n",
       "      <td>6</td>\n",
       "      <td>HelveticaNeueLTStd-Roman</td>\n",
       "      <td>10.0</td>\n",
       "      <td>régimen de la oferta pública de adquisición. S...</td>\n",
       "      <td>contratos_sobre_personas_jurídicas</td>\n",
       "      <td>sociedades_anónimas</td>\n",
       "      <td>BANCO HIPOTECARIO S.A.</td>\n",
       "      <td>1113</td>\n",
       "      <td>[]</td>\n",
       "      <td>[]</td>\n",
       "      <td>[]</td>\n",
       "      <td>NaN</td>\n",
       "      <td>seccion_segunda_20181210.pdfcontratos_sobre_pe...</td>\n",
       "      <td>9.0</td>\n",
       "      <td>129054</td>\n",
       "    </tr>\n",
       "    <tr>\n",
       "      <th>341232</th>\n",
       "      <td>58</td>\n",
       "      <td>seccion_segunda_20181210.pdf</td>\n",
       "      <td>7</td>\n",
       "      <td>HelveticaNeueLTStd-Roman</td>\n",
       "      <td>10.0</td>\n",
       "      <td>originales, por omisión de ejercicio o por ces...</td>\n",
       "      <td>contratos_sobre_personas_jurídicas</td>\n",
       "      <td>sociedades_anónimas</td>\n",
       "      <td>BANCO HIPOTECARIO S.A.</td>\n",
       "      <td>1096</td>\n",
       "      <td>[]</td>\n",
       "      <td>[]</td>\n",
       "      <td>[]</td>\n",
       "      <td>NaN</td>\n",
       "      <td>seccion_segunda_20181210.pdfcontratos_sobre_pe...</td>\n",
       "      <td>11.0</td>\n",
       "      <td>129054</td>\n",
       "    </tr>\n",
       "    <tr>\n",
       "      <th>341234</th>\n",
       "      <td>60</td>\n",
       "      <td>seccion_segunda_20181210.pdf</td>\n",
       "      <td>8</td>\n",
       "      <td>HelveticaNeueLTStd-Roman</td>\n",
       "      <td>10.0</td>\n",
       "      <td>aún dentro de la clase con arreglo a las previ...</td>\n",
       "      <td>contratos_sobre_personas_jurídicas</td>\n",
       "      <td>sociedades_anónimas</td>\n",
       "      <td>BANCO HIPOTECARIO S.A.</td>\n",
       "      <td>1087</td>\n",
       "      <td>[]</td>\n",
       "      <td>[]</td>\n",
       "      <td>[]</td>\n",
       "      <td>NaN</td>\n",
       "      <td>seccion_segunda_20181210.pdfcontratos_sobre_pe...</td>\n",
       "      <td>13.0</td>\n",
       "      <td>129054</td>\n",
       "    </tr>\n",
       "    <tr>\n",
       "      <th>341236</th>\n",
       "      <td>62</td>\n",
       "      <td>seccion_segunda_20181210.pdf</td>\n",
       "      <td>9</td>\n",
       "      <td>HelveticaNeueLTStd-Roman</td>\n",
       "      <td>10.0</td>\n",
       "      <td>Impuesto que haya arrojado el Ejercicio Económ...</td>\n",
       "      <td>contratos_sobre_personas_jurídicas</td>\n",
       "      <td>sociedades_anónimas</td>\n",
       "      <td>BANCO HIPOTECARIO S.A.</td>\n",
       "      <td>1051</td>\n",
       "      <td>[]</td>\n",
       "      <td>[]</td>\n",
       "      <td>[]</td>\n",
       "      <td>NaN</td>\n",
       "      <td>seccion_segunda_20181210.pdfcontratos_sobre_pe...</td>\n",
       "      <td>15.0</td>\n",
       "      <td>129054</td>\n",
       "    </tr>\n",
       "    <tr>\n",
       "      <th>341238</th>\n",
       "      <td>64</td>\n",
       "      <td>seccion_segunda_20181210.pdf</td>\n",
       "      <td>10</td>\n",
       "      <td>HelveticaNeueLTStd-Roman</td>\n",
       "      <td>10.0</td>\n",
       "      <td>judiciales y administrativas y asumir el papel...</td>\n",
       "      <td>contratos_sobre_personas_jurídicas</td>\n",
       "      <td>sociedades_anónimas</td>\n",
       "      <td>BANCO HIPOTECARIO S.A.</td>\n",
       "      <td>1073</td>\n",
       "      <td>[]</td>\n",
       "      <td>[]</td>\n",
       "      <td>[]</td>\n",
       "      <td>NaN</td>\n",
       "      <td>seccion_segunda_20181210.pdfcontratos_sobre_pe...</td>\n",
       "      <td>17.0</td>\n",
       "      <td>129054</td>\n",
       "    </tr>\n",
       "    <tr>\n",
       "      <th>341240</th>\n",
       "      <td>66</td>\n",
       "      <td>seccion_segunda_20181210.pdf</td>\n",
       "      <td>11</td>\n",
       "      <td>HelveticaNeueLTStd-Roman</td>\n",
       "      <td>10.0</td>\n",
       "      <td>Comité Ejecutivo: I) Conducir la gestión ordin...</td>\n",
       "      <td>contratos_sobre_personas_jurídicas</td>\n",
       "      <td>sociedades_anónimas</td>\n",
       "      <td>BANCO HIPOTECARIO S.A.</td>\n",
       "      <td>1079</td>\n",
       "      <td>[]</td>\n",
       "      <td>[]</td>\n",
       "      <td>[]</td>\n",
       "      <td>NaN</td>\n",
       "      <td>seccion_segunda_20181210.pdfcontratos_sobre_pe...</td>\n",
       "      <td>19.0</td>\n",
       "      <td>129054</td>\n",
       "    </tr>\n",
       "    <tr>\n",
       "      <th>341242</th>\n",
       "      <td>68</td>\n",
       "      <td>seccion_segunda_20181210.pdf</td>\n",
       "      <td>12</td>\n",
       "      <td>HelveticaNeueLTStd-Roman</td>\n",
       "      <td>10.0</td>\n",
       "      <td>quórum de la Asamblea extraordinaria en segund...</td>\n",
       "      <td>contratos_sobre_personas_jurídicas</td>\n",
       "      <td>sociedades_anónimas</td>\n",
       "      <td>BANCO HIPOTECARIO S.A.</td>\n",
       "      <td>1128</td>\n",
       "      <td>[]</td>\n",
       "      <td>[]</td>\n",
       "      <td>[]</td>\n",
       "      <td>NaN</td>\n",
       "      <td>seccion_segunda_20181210.pdfcontratos_sobre_pe...</td>\n",
       "      <td>21.0</td>\n",
       "      <td>129054</td>\n",
       "    </tr>\n",
       "    <tr>\n",
       "      <th>341244</th>\n",
       "      <td>70</td>\n",
       "      <td>seccion_segunda_20181210.pdf</td>\n",
       "      <td>13</td>\n",
       "      <td>HelveticaNeueLTStd-Roman</td>\n",
       "      <td>10.0</td>\n",
       "      <td>indirectamente efectúe el Estado Nacional, por...</td>\n",
       "      <td>contratos_sobre_personas_jurídicas</td>\n",
       "      <td>sociedades_anónimas</td>\n",
       "      <td>BANCO HIPOTECARIO S.A.</td>\n",
       "      <td>1099</td>\n",
       "      <td>[]</td>\n",
       "      <td>[]</td>\n",
       "      <td>[]</td>\n",
       "      <td>NaN</td>\n",
       "      <td>seccion_segunda_20181210.pdfcontratos_sobre_pe...</td>\n",
       "      <td>23.0</td>\n",
       "      <td>129054</td>\n",
       "    </tr>\n",
       "    <tr>\n",
       "      <th>341246</th>\n",
       "      <td>72</td>\n",
       "      <td>seccion_segunda_20181210.pdf</td>\n",
       "      <td>14</td>\n",
       "      <td>HelveticaNeueLTStd-Roman</td>\n",
       "      <td>10.0</td>\n",
       "      <td>exterior, se deberá comunicar en forma previa ...</td>\n",
       "      <td>contratos_sobre_personas_jurídicas</td>\n",
       "      <td>sociedades_anónimas</td>\n",
       "      <td>BANCO HIPOTECARIO S.A.</td>\n",
       "      <td>139</td>\n",
       "      <td>NN</td>\n",
       "      <td>NN</td>\n",
       "      <td>NN</td>\n",
       "      <td>NN</td>\n",
       "      <td>seccion_segunda_20181210.pdfcontratos_sobre_pe...</td>\n",
       "      <td>25.0</td>\n",
       "      <td>129054</td>\n",
       "    </tr>\n",
       "  </tbody>\n",
       "</table>\n",
       "</div>"
      ],
      "text/plain": [
       "        index                          file  page                      font  \\\n",
       "341222     48  seccion_segunda_20181210.pdf     2  HelveticaNeueLTStd-Roman   \n",
       "341224     50  seccion_segunda_20181210.pdf     3  HelveticaNeueLTStd-Roman   \n",
       "341226     52  seccion_segunda_20181210.pdf     4  HelveticaNeueLTStd-Roman   \n",
       "341228     54  seccion_segunda_20181210.pdf     5  HelveticaNeueLTStd-Roman   \n",
       "341230     56  seccion_segunda_20181210.pdf     6  HelveticaNeueLTStd-Roman   \n",
       "341232     58  seccion_segunda_20181210.pdf     7  HelveticaNeueLTStd-Roman   \n",
       "341234     60  seccion_segunda_20181210.pdf     8  HelveticaNeueLTStd-Roman   \n",
       "341236     62  seccion_segunda_20181210.pdf     9  HelveticaNeueLTStd-Roman   \n",
       "341238     64  seccion_segunda_20181210.pdf    10  HelveticaNeueLTStd-Roman   \n",
       "341240     66  seccion_segunda_20181210.pdf    11  HelveticaNeueLTStd-Roman   \n",
       "341242     68  seccion_segunda_20181210.pdf    12  HelveticaNeueLTStd-Roman   \n",
       "341244     70  seccion_segunda_20181210.pdf    13  HelveticaNeueLTStd-Roman   \n",
       "341246     72  seccion_segunda_20181210.pdf    14  HelveticaNeueLTStd-Roman   \n",
       "\n",
       "        size                                               text  \\\n",
       "341222  10.0  Comunica que la Asamblea Extraordinaria de Acc...   \n",
       "341224  10.0  en el país o en el exterior, dentro de los lím...   \n",
       "341226  10.0  que lo adquieran por encontrarse la Sociedad e...   \n",
       "341228  10.0  (A) La identidad, nacionalidad, domicilio y nú...   \n",
       "341230  10.0  régimen de la oferta pública de adquisición. S...   \n",
       "341232  10.0  originales, por omisión de ejercicio o por ces...   \n",
       "341234  10.0  aún dentro de la clase con arreglo a las previ...   \n",
       "341236  10.0  Impuesto que haya arrojado el Ejercicio Económ...   \n",
       "341238  10.0  judiciales y administrativas y asumir el papel...   \n",
       "341240  10.0  Comité Ejecutivo: I) Conducir la gestión ordin...   \n",
       "341242  10.0  quórum de la Asamblea extraordinaria en segund...   \n",
       "341244  10.0  indirectamente efectúe el Estado Nacional, por...   \n",
       "341246  10.0  exterior, se deberá comunicar en forma previa ...   \n",
       "\n",
       "                                   chapter           subchapter  \\\n",
       "341222  contratos_sobre_personas_jurídicas  sociedades_anónimas   \n",
       "341224  contratos_sobre_personas_jurídicas  sociedades_anónimas   \n",
       "341226  contratos_sobre_personas_jurídicas  sociedades_anónimas   \n",
       "341228  contratos_sobre_personas_jurídicas  sociedades_anónimas   \n",
       "341230  contratos_sobre_personas_jurídicas  sociedades_anónimas   \n",
       "341232  contratos_sobre_personas_jurídicas  sociedades_anónimas   \n",
       "341234  contratos_sobre_personas_jurídicas  sociedades_anónimas   \n",
       "341236  contratos_sobre_personas_jurídicas  sociedades_anónimas   \n",
       "341238  contratos_sobre_personas_jurídicas  sociedades_anónimas   \n",
       "341240  contratos_sobre_personas_jurídicas  sociedades_anónimas   \n",
       "341242  contratos_sobre_personas_jurídicas  sociedades_anónimas   \n",
       "341244  contratos_sobre_personas_jurídicas  sociedades_anónimas   \n",
       "341246  contratos_sobre_personas_jurídicas  sociedades_anónimas   \n",
       "\n",
       "                         title  word_count SOCIO DNI ESCRIBANO SOCIEDAD  \\\n",
       "341222  BANCO HIPOTECARIO S.A.         520    []  []        []      NaN   \n",
       "341224  BANCO HIPOTECARIO S.A.        1096    []  []        []      NaN   \n",
       "341226  BANCO HIPOTECARIO S.A.        1094    []  []        []      NaN   \n",
       "341228  BANCO HIPOTECARIO S.A.        1164    []  []        []      NaN   \n",
       "341230  BANCO HIPOTECARIO S.A.        1113    []  []        []      NaN   \n",
       "341232  BANCO HIPOTECARIO S.A.        1096    []  []        []      NaN   \n",
       "341234  BANCO HIPOTECARIO S.A.        1087    []  []        []      NaN   \n",
       "341236  BANCO HIPOTECARIO S.A.        1051    []  []        []      NaN   \n",
       "341238  BANCO HIPOTECARIO S.A.        1073    []  []        []      NaN   \n",
       "341240  BANCO HIPOTECARIO S.A.        1079    []  []        []      NaN   \n",
       "341242  BANCO HIPOTECARIO S.A.        1128    []  []        []      NaN   \n",
       "341244  BANCO HIPOTECARIO S.A.        1099    []  []        []      NaN   \n",
       "341246  BANCO HIPOTECARIO S.A.         139    NN  NN        NN       NN   \n",
       "\n",
       "                                                       id  consecutive_count  \\\n",
       "341222  seccion_segunda_20181210.pdfcontratos_sobre_pe...                1.0   \n",
       "341224  seccion_segunda_20181210.pdfcontratos_sobre_pe...                3.0   \n",
       "341226  seccion_segunda_20181210.pdfcontratos_sobre_pe...                5.0   \n",
       "341228  seccion_segunda_20181210.pdfcontratos_sobre_pe...                7.0   \n",
       "341230  seccion_segunda_20181210.pdfcontratos_sobre_pe...                9.0   \n",
       "341232  seccion_segunda_20181210.pdfcontratos_sobre_pe...               11.0   \n",
       "341234  seccion_segunda_20181210.pdfcontratos_sobre_pe...               13.0   \n",
       "341236  seccion_segunda_20181210.pdfcontratos_sobre_pe...               15.0   \n",
       "341238  seccion_segunda_20181210.pdfcontratos_sobre_pe...               17.0   \n",
       "341240  seccion_segunda_20181210.pdfcontratos_sobre_pe...               19.0   \n",
       "341242  seccion_segunda_20181210.pdfcontratos_sobre_pe...               21.0   \n",
       "341244  seccion_segunda_20181210.pdfcontratos_sobre_pe...               23.0   \n",
       "341246  seccion_segunda_20181210.pdfcontratos_sobre_pe...               25.0   \n",
       "\n",
       "        consecutive_group  \n",
       "341222             129054  \n",
       "341224             129054  \n",
       "341226             129054  \n",
       "341228             129054  \n",
       "341230             129054  \n",
       "341232             129054  \n",
       "341234             129054  \n",
       "341236             129054  \n",
       "341238             129054  \n",
       "341240             129054  \n",
       "341242             129054  \n",
       "341244             129054  \n",
       "341246             129054  "
      ]
     },
     "execution_count": 15,
     "metadata": {},
     "output_type": "execute_result"
    }
   ],
   "source": [
    "df[df.id=='seccion_segunda_20181210.pdfcontratos_sobre_personas_jurídicassociedades_anónimasBANCO HIPOTECARIO\\xa0S.A.']"
   ]
  },
  {
   "cell_type": "code",
   "execution_count": 50,
   "id": "31b1dc88-2b4a-48d8-a5bc-9c6612174fa9",
   "metadata": {},
   "outputs": [
    {
     "data": {
      "text/plain": [
       "array([nan, 'buenos_aires', 'sociedades_anónimas',\n",
       "       'sociedades_de_responsabilidad_limitada', 'convocatorias',\n",
       "       'avisos_comerciales', 'remates_comerciales',\n",
       "       'citaciones_y_notificaciones._concursos_y_quiebras._otros',\n",
       "       'sucesiones', 'remates_judiciales',\n",
       "       'transferencias_de__fondo_de_comercio_',\n",
       "       'sociedades_en_comandita_por_acciones', 'otras_sociedades',\n",
       "       'balances', 'sociedades_por_acción_simplificada',\n",
       "       'partidos_políticos'], dtype=object)"
      ]
     },
     "execution_count": 50,
     "metadata": {},
     "output_type": "execute_result"
    }
   ],
   "source": [
    "df.subchapter.unique()"
   ]
  },
  {
   "cell_type": "code",
   "execution_count": 49,
   "id": "29cf09ea-ac99-4347-9b1b-946af8a9530d",
   "metadata": {},
   "outputs": [
    {
     "data": {
      "text/html": [
       "<div>\n",
       "<style scoped>\n",
       "    .dataframe tbody tr th:only-of-type {\n",
       "        vertical-align: middle;\n",
       "    }\n",
       "\n",
       "    .dataframe tbody tr th {\n",
       "        vertical-align: top;\n",
       "    }\n",
       "\n",
       "    .dataframe thead th {\n",
       "        text-align: right;\n",
       "    }\n",
       "</style>\n",
       "<table border=\"1\" class=\"dataframe\">\n",
       "  <thead>\n",
       "    <tr style=\"text-align: right;\">\n",
       "      <th></th>\n",
       "      <th>index</th>\n",
       "      <th>file</th>\n",
       "      <th>page</th>\n",
       "      <th>font</th>\n",
       "      <th>size</th>\n",
       "      <th>text</th>\n",
       "      <th>chapter</th>\n",
       "      <th>subchapter</th>\n",
       "      <th>title</th>\n",
       "      <th>word_count</th>\n",
       "      <th>SOCIO</th>\n",
       "      <th>DNI</th>\n",
       "      <th>ESCRIBANO</th>\n",
       "      <th>SOCIEDAD</th>\n",
       "      <th>id</th>\n",
       "    </tr>\n",
       "  </thead>\n",
       "  <tbody>\n",
       "    <tr>\n",
       "      <th>613898</th>\n",
       "      <td>533</td>\n",
       "      <td>seccion_segunda_20200317.pdf</td>\n",
       "      <td>64</td>\n",
       "      <td>HelveticaNeueLTStd-Roman</td>\n",
       "      <td>10.00000</td>\n",
       "      <td>Domicilio Legal Reconquista 151 – Ciudad Autón...</td>\n",
       "      <td>convocatorias_y_avisos_comerciales</td>\n",
       "      <td>balances</td>\n",
       "      <td>BANCO HIPOTECARIO S.A.</td>\n",
       "      <td>41</td>\n",
       "      <td>NN</td>\n",
       "      <td>NN</td>\n",
       "      <td>NN</td>\n",
       "      <td>NN</td>\n",
       "      <td>seccion_segunda_20200317.pdfconvocatorias_y_av...</td>\n",
       "    </tr>\n",
       "    <tr>\n",
       "      <th>613899</th>\n",
       "      <td>534</td>\n",
       "      <td>seccion_segunda_20200317.pdf</td>\n",
       "      <td>64</td>\n",
       "      <td>HelveticaNeueLTStd-Roman</td>\n",
       "      <td>8.53815</td>\n",
       "      <td>En milesCantidad de AccionesSuscriptoIntegrado...</td>\n",
       "      <td>convocatorias_y_avisos_comerciales</td>\n",
       "      <td>balances</td>\n",
       "      <td>BANCO HIPOTECARIO S.A.</td>\n",
       "      <td>16</td>\n",
       "      <td>NN</td>\n",
       "      <td>NN</td>\n",
       "      <td>NN</td>\n",
       "      <td>NN</td>\n",
       "      <td>seccion_segunda_20200317.pdfconvocatorias_y_av...</td>\n",
       "    </tr>\n",
       "    <tr>\n",
       "      <th>613900</th>\n",
       "      <td>535</td>\n",
       "      <td>seccion_segunda_20200317.pdf</td>\n",
       "      <td>64</td>\n",
       "      <td>HelveticaNeueLTStd-Roman</td>\n",
       "      <td>10.00000</td>\n",
       "      <td>NOTA: La documentación que integra este Balanc...</td>\n",
       "      <td>convocatorias_y_avisos_comerciales</td>\n",
       "      <td>balances</td>\n",
       "      <td>BANCO HIPOTECARIO S.A.</td>\n",
       "      <td>20</td>\n",
       "      <td>NN</td>\n",
       "      <td>NN</td>\n",
       "      <td>NN</td>\n",
       "      <td>NN</td>\n",
       "      <td>seccion_segunda_20200317.pdfconvocatorias_y_av...</td>\n",
       "    </tr>\n",
       "    <tr>\n",
       "      <th>613901</th>\n",
       "      <td>536</td>\n",
       "      <td>seccion_segunda_20200317.pdf</td>\n",
       "      <td>65</td>\n",
       "      <td>HelveticaNeueLTStd-LtCn</td>\n",
       "      <td>10.00000</td>\n",
       "      <td>BOLETÍN OFICIAL Nº 34.331 - Segunda Sección 6...</td>\n",
       "      <td>convocatorias_y_avisos_comerciales</td>\n",
       "      <td>balances</td>\n",
       "      <td>BANCO HIPOTECARIO S.A.</td>\n",
       "      <td>16</td>\n",
       "      <td>NN</td>\n",
       "      <td>NN</td>\n",
       "      <td>NN</td>\n",
       "      <td>NN</td>\n",
       "      <td>seccion_segunda_20200317.pdfconvocatorias_y_av...</td>\n",
       "    </tr>\n",
       "    <tr>\n",
       "      <th>613902</th>\n",
       "      <td>537</td>\n",
       "      <td>seccion_segunda_20200317.pdf</td>\n",
       "      <td>65</td>\n",
       "      <td>HelveticaNeueLTStd-Bd</td>\n",
       "      <td>17.00000</td>\n",
       "      <td>EDICTOS JUDICIALES</td>\n",
       "      <td>edictos_judiciales</td>\n",
       "      <td>balances</td>\n",
       "      <td>BANCO HIPOTECARIO S.A.</td>\n",
       "      <td>2</td>\n",
       "      <td>NN</td>\n",
       "      <td>NN</td>\n",
       "      <td>NN</td>\n",
       "      <td>NN</td>\n",
       "      <td>seccion_segunda_20200317.pdfedictos_judiciales...</td>\n",
       "    </tr>\n",
       "    <tr>\n",
       "      <th>613903</th>\n",
       "      <td>538</td>\n",
       "      <td>seccion_segunda_20200317.pdf</td>\n",
       "      <td>65</td>\n",
       "      <td>HelveticaNeueLTStd-Bd</td>\n",
       "      <td>14.00000</td>\n",
       "      <td>CITACIONES Y NOTIFICACIONES. CONCURSOS Y QUIEB...</td>\n",
       "      <td>edictos_judiciales</td>\n",
       "      <td>citaciones_y_notificaciones._concursos_y_quieb...</td>\n",
       "      <td>BANCO HIPOTECARIO S.A.</td>\n",
       "      <td>7</td>\n",
       "      <td>NN</td>\n",
       "      <td>NN</td>\n",
       "      <td>NN</td>\n",
       "      <td>NN</td>\n",
       "      <td>seccion_segunda_20200317.pdfedictos_judiciales...</td>\n",
       "    </tr>\n",
       "    <tr>\n",
       "      <th>613904</th>\n",
       "      <td>539</td>\n",
       "      <td>seccion_segunda_20200317.pdf</td>\n",
       "      <td>65</td>\n",
       "      <td>HelveticaNeueLTStd-Bd</td>\n",
       "      <td>12.00000</td>\n",
       "      <td>NUEVOS</td>\n",
       "      <td>edictos_judiciales</td>\n",
       "      <td>citaciones_y_notificaciones._concursos_y_quieb...</td>\n",
       "      <td>BANCO HIPOTECARIO S.A.</td>\n",
       "      <td>1</td>\n",
       "      <td>NN</td>\n",
       "      <td>NN</td>\n",
       "      <td>NN</td>\n",
       "      <td>NN</td>\n",
       "      <td>seccion_segunda_20200317.pdfedictos_judiciales...</td>\n",
       "    </tr>\n",
       "  </tbody>\n",
       "</table>\n",
       "</div>"
      ],
      "text/plain": [
       "        index                          file  page                      font  \\\n",
       "613898    533  seccion_segunda_20200317.pdf    64  HelveticaNeueLTStd-Roman   \n",
       "613899    534  seccion_segunda_20200317.pdf    64  HelveticaNeueLTStd-Roman   \n",
       "613900    535  seccion_segunda_20200317.pdf    64  HelveticaNeueLTStd-Roman   \n",
       "613901    536  seccion_segunda_20200317.pdf    65   HelveticaNeueLTStd-LtCn   \n",
       "613902    537  seccion_segunda_20200317.pdf    65     HelveticaNeueLTStd-Bd   \n",
       "613903    538  seccion_segunda_20200317.pdf    65     HelveticaNeueLTStd-Bd   \n",
       "613904    539  seccion_segunda_20200317.pdf    65     HelveticaNeueLTStd-Bd   \n",
       "\n",
       "            size                                               text  \\\n",
       "613898  10.00000  Domicilio Legal Reconquista 151 – Ciudad Autón...   \n",
       "613899   8.53815  En milesCantidad de AccionesSuscriptoIntegrado...   \n",
       "613900  10.00000  NOTA: La documentación que integra este Balanc...   \n",
       "613901  10.00000   BOLETÍN OFICIAL Nº 34.331 - Segunda Sección 6...   \n",
       "613902  17.00000                                 EDICTOS JUDICIALES   \n",
       "613903  14.00000  CITACIONES Y NOTIFICACIONES. CONCURSOS Y QUIEB...   \n",
       "613904  12.00000                                             NUEVOS   \n",
       "\n",
       "                                   chapter  \\\n",
       "613898  convocatorias_y_avisos_comerciales   \n",
       "613899  convocatorias_y_avisos_comerciales   \n",
       "613900  convocatorias_y_avisos_comerciales   \n",
       "613901  convocatorias_y_avisos_comerciales   \n",
       "613902                  edictos_judiciales   \n",
       "613903                  edictos_judiciales   \n",
       "613904                  edictos_judiciales   \n",
       "\n",
       "                                               subchapter  \\\n",
       "613898                                           balances   \n",
       "613899                                           balances   \n",
       "613900                                           balances   \n",
       "613901                                           balances   \n",
       "613902                                           balances   \n",
       "613903  citaciones_y_notificaciones._concursos_y_quieb...   \n",
       "613904  citaciones_y_notificaciones._concursos_y_quieb...   \n",
       "\n",
       "                         title  word_count SOCIO DNI ESCRIBANO SOCIEDAD  \\\n",
       "613898  BANCO HIPOTECARIO S.A.          41    NN  NN        NN       NN   \n",
       "613899  BANCO HIPOTECARIO S.A.          16    NN  NN        NN       NN   \n",
       "613900  BANCO HIPOTECARIO S.A.          20    NN  NN        NN       NN   \n",
       "613901  BANCO HIPOTECARIO S.A.          16    NN  NN        NN       NN   \n",
       "613902  BANCO HIPOTECARIO S.A.           2    NN  NN        NN       NN   \n",
       "613903  BANCO HIPOTECARIO S.A.           7    NN  NN        NN       NN   \n",
       "613904  BANCO HIPOTECARIO S.A.           1    NN  NN        NN       NN   \n",
       "\n",
       "                                                       id  \n",
       "613898  seccion_segunda_20200317.pdfconvocatorias_y_av...  \n",
       "613899  seccion_segunda_20200317.pdfconvocatorias_y_av...  \n",
       "613900  seccion_segunda_20200317.pdfconvocatorias_y_av...  \n",
       "613901  seccion_segunda_20200317.pdfconvocatorias_y_av...  \n",
       "613902  seccion_segunda_20200317.pdfedictos_judiciales...  \n",
       "613903  seccion_segunda_20200317.pdfedictos_judiciales...  \n",
       "613904  seccion_segunda_20200317.pdfedictos_judiciales...  "
      ]
     },
     "execution_count": 49,
     "metadata": {},
     "output_type": "execute_result"
    }
   ],
   "source": [
    "df[df.title=='BANCO HIPOTECARIO S.A.']"
   ]
  },
  {
   "cell_type": "code",
   "execution_count": 14,
   "id": "60db109d-d127-45cd-99b8-61877acbc50c",
   "metadata": {},
   "outputs": [
    {
     "data": {
      "text/html": [
       "<div>\n",
       "<style scoped>\n",
       "    .dataframe tbody tr th:only-of-type {\n",
       "        vertical-align: middle;\n",
       "    }\n",
       "\n",
       "    .dataframe tbody tr th {\n",
       "        vertical-align: top;\n",
       "    }\n",
       "\n",
       "    .dataframe thead th {\n",
       "        text-align: right;\n",
       "    }\n",
       "</style>\n",
       "<table border=\"1\" class=\"dataframe\">\n",
       "  <thead>\n",
       "    <tr style=\"text-align: right;\">\n",
       "      <th></th>\n",
       "      <th>count</th>\n",
       "    </tr>\n",
       "    <tr>\n",
       "      <th>title</th>\n",
       "      <th></th>\n",
       "    </tr>\n",
       "  </thead>\n",
       "  <tbody>\n",
       "    <tr>\n",
       "      <th>BANCO HIPOTECARIO S.A.</th>\n",
       "      <td>17</td>\n",
       "    </tr>\n",
       "    <tr>\n",
       "      <th>TELECOM ARGENTINA S.A.</th>\n",
       "      <td>14</td>\n",
       "    </tr>\n",
       "    <tr>\n",
       "      <th>KLIMBER S.A.</th>\n",
       "      <td>12</td>\n",
       "    </tr>\n",
       "    <tr>\n",
       "      <th>IRSA INVERSIONES Y REPRESENTACIONES S.A.</th>\n",
       "      <td>12</td>\n",
       "    </tr>\n",
       "    <tr>\n",
       "      <th>AGUAS DANONE DE ARGENTINA S.A.</th>\n",
       "      <td>11</td>\n",
       "    </tr>\n",
       "    <tr>\n",
       "      <th>...</th>\n",
       "      <td>...</td>\n",
       "    </tr>\n",
       "    <tr>\n",
       "      <th>MUNDIAL ARGENTINA S.A.</th>\n",
       "      <td>2</td>\n",
       "    </tr>\n",
       "    <tr>\n",
       "      <th>UROBORO S.R.L.</th>\n",
       "      <td>2</td>\n",
       "    </tr>\n",
       "    <tr>\n",
       "      <th>WORKSPACES S.A.</th>\n",
       "      <td>2</td>\n",
       "    </tr>\n",
       "    <tr>\n",
       "      <th>NISSAN ARGENTINA S.A.</th>\n",
       "      <td>2</td>\n",
       "    </tr>\n",
       "    <tr>\n",
       "      <th>MAUS SOLUTIONS S.R.L.</th>\n",
       "      <td>2</td>\n",
       "    </tr>\n",
       "  </tbody>\n",
       "</table>\n",
       "<p>6370 rows × 1 columns</p>\n",
       "</div>"
      ],
      "text/plain": [
       "                                          count\n",
       "title                                          \n",
       "BANCO HIPOTECARIO S.A.                       17\n",
       "TELECOM ARGENTINA S.A.                       14\n",
       "KLIMBER S.A.                                 12\n",
       "IRSA INVERSIONES Y REPRESENTACIONES S.A.     12\n",
       "AGUAS DANONE DE ARGENTINA S.A.               11\n",
       "...                                         ...\n",
       "MUNDIAL ARGENTINA S.A.                        2\n",
       "UROBORO S.R.L.                                2\n",
       "WORKSPACES S.A.                               2\n",
       "NISSAN ARGENTINA S.A.                         2\n",
       "MAUS SOLUTIONS S.R.L.                         2\n",
       "\n",
       "[6370 rows x 1 columns]"
      ]
     },
     "execution_count": 14,
     "metadata": {},
     "output_type": "execute_result"
    }
   ],
   "source": [
    "condition = (df.chapter=='contratos_sobre_personas_jurídicas')&(df.word_count>=150)\n",
    "control_ls = pd.DataFrame(df[condition].title.value_counts())\n",
    "control_ls[control_ls['count']>1]"
   ]
  },
  {
   "cell_type": "code",
   "execution_count": 38,
   "id": "6a4cf4a8-bedc-4dd5-8295-998a58208ced",
   "metadata": {},
   "outputs": [
    {
     "data": {
      "text/plain": [
       "Index(['ABRUMARGA S.A.', 'SWAHILI BAMBU LATAM S.A.S.', 'TERCER SOLDADO S.R.L.',\n",
       "       'ELOVA S.A.', 'SARMIENTO 2302 S.A.', 'MUNDIAL ARGENTINA S.A.',\n",
       "       'UROBORO S.R.L.', 'WORKSPACES S.A.', 'NISSAN ARGENTINA S.A.',\n",
       "       'MAUS SOLUTIONS S.R.L.'],\n",
       "      dtype='object', name='title')"
      ]
     },
     "execution_count": 38,
     "metadata": {},
     "output_type": "execute_result"
    }
   ],
   "source": [
    "control_ls[control_ls['count']>1].index[-10:]"
   ]
  },
  {
   "cell_type": "code",
   "execution_count": 36,
   "id": "27d8bb69-a63b-48fa-85c7-f72c01a759ca",
   "metadata": {},
   "outputs": [
    {
     "data": {
      "text/plain": [
       "6370"
      ]
     },
     "execution_count": 36,
     "metadata": {},
     "output_type": "execute_result"
    }
   ],
   "source": [
    "len(control_ls[control_ls['count']>1])"
   ]
  },
  {
   "cell_type": "code",
   "execution_count": 13,
   "id": "25d49216-38ae-422e-916e-522558bbe72b",
   "metadata": {},
   "outputs": [
    {
     "data": {
      "text/html": [
       "<div>\n",
       "<style scoped>\n",
       "    .dataframe tbody tr th:only-of-type {\n",
       "        vertical-align: middle;\n",
       "    }\n",
       "\n",
       "    .dataframe tbody tr th {\n",
       "        vertical-align: top;\n",
       "    }\n",
       "\n",
       "    .dataframe thead th {\n",
       "        text-align: right;\n",
       "    }\n",
       "</style>\n",
       "<table border=\"1\" class=\"dataframe\">\n",
       "  <thead>\n",
       "    <tr style=\"text-align: right;\">\n",
       "      <th></th>\n",
       "      <th>count</th>\n",
       "    </tr>\n",
       "    <tr>\n",
       "      <th>title</th>\n",
       "      <th></th>\n",
       "    </tr>\n",
       "  </thead>\n",
       "  <tbody>\n",
       "    <tr>\n",
       "      <th>BANCO HIPOTECARIO S.A.</th>\n",
       "      <td>17</td>\n",
       "    </tr>\n",
       "    <tr>\n",
       "      <th>TELECOM ARGENTINA S.A.</th>\n",
       "      <td>14</td>\n",
       "    </tr>\n",
       "    <tr>\n",
       "      <th>KLIMBER S.A.</th>\n",
       "      <td>12</td>\n",
       "    </tr>\n",
       "    <tr>\n",
       "      <th>IRSA INVERSIONES Y REPRESENTACIONES S.A.</th>\n",
       "      <td>12</td>\n",
       "    </tr>\n",
       "    <tr>\n",
       "      <th>AGUAS DANONE DE ARGENTINA S.A.</th>\n",
       "      <td>11</td>\n",
       "    </tr>\n",
       "    <tr>\n",
       "      <th>...</th>\n",
       "      <td>...</td>\n",
       "    </tr>\n",
       "    <tr>\n",
       "      <th>DATAKI S.A.S.</th>\n",
       "      <td>1</td>\n",
       "    </tr>\n",
       "    <tr>\n",
       "      <th>DULCE Y SALADO BAVE S.A.S.</th>\n",
       "      <td>1</td>\n",
       "    </tr>\n",
       "    <tr>\n",
       "      <th>ELIFESTYLE S.A.S.</th>\n",
       "      <td>1</td>\n",
       "    </tr>\n",
       "    <tr>\n",
       "      <th>HALLARIZ S.A.S.</th>\n",
       "      <td>1</td>\n",
       "    </tr>\n",
       "    <tr>\n",
       "      <th>THE TOY STORE S.R.L.</th>\n",
       "      <td>1</td>\n",
       "    </tr>\n",
       "  </tbody>\n",
       "</table>\n",
       "<p>59235 rows × 1 columns</p>\n",
       "</div>"
      ],
      "text/plain": [
       "                                          count\n",
       "title                                          \n",
       "BANCO HIPOTECARIO S.A.                       17\n",
       "TELECOM ARGENTINA S.A.                       14\n",
       "KLIMBER S.A.                                 12\n",
       "IRSA INVERSIONES Y REPRESENTACIONES S.A.     12\n",
       "AGUAS DANONE DE ARGENTINA S.A.               11\n",
       "...                                         ...\n",
       "DATAKI S.A.S.                                 1\n",
       "DULCE Y SALADO BAVE S.A.S.                    1\n",
       "ELIFESTYLE S.A.S.                             1\n",
       "HALLARIZ S.A.S.                               1\n",
       "THE TOY STORE S.R.L.                          1\n",
       "\n",
       "[59235 rows x 1 columns]"
      ]
     },
     "execution_count": 13,
     "metadata": {},
     "output_type": "execute_result"
    }
   ],
   "source": [
    "pd.DataFrame(control_ls)"
   ]
  },
  {
   "cell_type": "code",
   "execution_count": 9,
   "id": "7ddf7502-8a11-4de7-8681-08e619433a94",
   "metadata": {},
   "outputs": [
    {
     "data": {
      "text/plain": [
       "title\n",
       "JUZGADOS NACIONALES EN LO CIVILPublicación extractada (Acordada Nº 41/74 C.S.J.N.)              96669\n",
       "e-mail: dnro@boletinoficial.gob.ar                                                              32035\n",
       "BANCO DE SAN JUAN S.A.                                                                          10133\n",
       "NUEVO BANCO DE ENTRE RIOS S.A.                                                                   5974\n",
       "e-mail: dnro@boletinoficial.gob.arRegistro Nacional de la Propiedad Intelectual Nº 5.218.874     5173\n",
       "                                                                                                ...  \n",
       "RECOLETA BREWPUB S.A.                                                                               1\n",
       "SENSOTEC S.A.                                                                                       1\n",
       "ROCABREN S.A.                                                                                       1\n",
       "SABOR MIX S.R.L.                                                                                    1\n",
       "JUZGADO FEDERAL DE CALETA OLIVIA – SECRETARÍA PENAL                                                 1\n",
       "Name: count, Length: 132643, dtype: int64"
      ]
     },
     "execution_count": 9,
     "metadata": {},
     "output_type": "execute_result"
    }
   ],
   "source": [
    "df.title.value_counts()"
   ]
  },
  {
   "cell_type": "code",
   "execution_count": 172,
   "id": "632cceb2-3fb3-4b73-9131-de235416760e",
   "metadata": {},
   "outputs": [],
   "source": [
    "# Identify rows where consecutive titles are the same\n",
    "mask = (df['title'] == df['title'].shift(1))&(df.chapter=='contratos_sobre_personas_jurídicas')&(df.word_count>=150)\n",
    "\n",
    "# Combine 'text' values for consecutive rows with the same title\n",
    "df.loc[mask, 'text'] = df['text'].shift(1) + ' ' + df['text']\n",
    "\n",
    "# Drop duplicated rows\n",
    "df = df[~mask]\n",
    "\n",
    "# Reset index if needed\n",
    "df = df.reset_index(drop=True)"
   ]
  },
  {
   "cell_type": "code",
   "execution_count": 44,
   "id": "9edbf802-f2bc-4ebe-9c96-961d8df9fcef",
   "metadata": {},
   "outputs": [
    {
     "data": {
      "text/plain": [
       "64939"
      ]
     },
     "execution_count": 44,
     "metadata": {},
     "output_type": "execute_result"
    }
   ],
   "source": [
    "condition = (df.chapter=='contratos_sobre_personas_jurídicas')&(df.word_count>=150)\n",
    "len(df[condition])"
   ]
  },
  {
   "cell_type": "code",
   "execution_count": 55,
   "id": "4ab11ced-9722-4796-961f-54e65a12ba3b",
   "metadata": {},
   "outputs": [
    {
     "data": {
      "text/plain": [
       "157303"
      ]
     },
     "execution_count": 55,
     "metadata": {},
     "output_type": "execute_result"
    }
   ],
   "source": [
    "len(df[df.word_count>150])"
   ]
  },
  {
   "cell_type": "code",
   "execution_count": 15,
   "id": "f77ad608-40d8-4450-b636-803ad3f85809",
   "metadata": {},
   "outputs": [],
   "source": [
    "# Create a new DataFrame with the first value in each group\n",
    "result_df = df.groupby('consecutive_group').first().reset_index()\n",
    "\n",
    "# Merge the 'text' values separated by whitespace within each group\n",
    "result_df['text'] = df.groupby('consecutive_group')['text'].agg('  '.join).reset_index()['text']\n",
    "\n",
    "# Drop the temporary column if not needed\n",
    "result_df = result_df.drop(columns=['consecutive_group'])"
   ]
  },
  {
   "cell_type": "code",
   "execution_count": 16,
   "id": "5a1c600a-0dad-4d35-8315-b28f853ded46",
   "metadata": {},
   "outputs": [
    {
     "data": {
      "text/plain": [
       "335016"
      ]
     },
     "execution_count": 16,
     "metadata": {},
     "output_type": "execute_result"
    }
   ],
   "source": [
    "len(result_df)"
   ]
  },
  {
   "cell_type": "code",
   "execution_count": 181,
   "id": "7831f40c-88e0-41c2-af1a-ed884ef80c52",
   "metadata": {},
   "outputs": [],
   "source": [
    "# result_df[result_df.chapter=='contratos_sobre_personas_jurídicas'].title.unique().tolist()"
   ]
  },
  {
   "cell_type": "code",
   "execution_count": 28,
   "id": "76d13a4b-81b9-4dd2-8142-b88eb03220db",
   "metadata": {},
   "outputs": [
    {
     "data": {
      "text/plain": [
       "array(['SOCIEDADES ANÓNIMAS', 'SOCIedAdeS AnónIMAS',\n",
       "       'SOCIEDADES ANÓNIMAS  NUEVOS', 'CONVOCATORIAS  NUEVOS',\n",
       "       'SOCIEDADES POR ACCIÓN SIMPLIFICADA',\n",
       "       'SOCIEDADES DE RESPONSABILIDAD LIMITADA',\n",
       "       'SOCIEDADES ANÓNIMAS   NUEVOS'], dtype=object)"
      ]
     },
     "execution_count": 28,
     "metadata": {},
     "output_type": "execute_result"
    }
   ],
   "source": [
    "result_df[result_df.title=='e-mail: dnro@boletinoficial.gob.ar'].text.unique()"
   ]
  },
  {
   "cell_type": "code",
   "execution_count": 17,
   "id": "5b951797-d0de-4bd5-9b32-4acdfd73f5d4",
   "metadata": {},
   "outputs": [],
   "source": [
    "len(result_df[result_df.title=='e-mail: dnro@boletinoficial.gob.ar'])\n",
    "result_df = result_df[result_df.title!='e-mail: dnro@boletinoficial.gob.ar']"
   ]
  },
  {
   "cell_type": "code",
   "execution_count": 30,
   "id": "97b2fae9-7a21-460b-adfe-db7db7e9b84d",
   "metadata": {},
   "outputs": [],
   "source": [
    "result_df['word_count'] = [ len(re.split(r'[ \\.,]+', t)) for t in result_df['text']]"
   ]
  },
  {
   "cell_type": "code",
   "execution_count": null,
   "id": "5e989555-b927-4d94-92de-b320a2d6b77b",
   "metadata": {},
   "outputs": [],
   "source": [
    "result_df['word_count'].hist()"
   ]
  },
  {
   "cell_type": "code",
   "execution_count": 187,
   "id": "c1ad30e8-b9fb-4f7c-89b4-055d65624b37",
   "metadata": {},
   "outputs": [
    {
     "data": {
      "text/plain": [
       "Index(['index', 'file', 'page', 'font', 'size', 'text', 'chapter',\n",
       "       'subchapter', 'title', 'word_count', 'SOCIO', 'DNI', 'ESCRIBANO',\n",
       "       'SOCIEDAD', 'id', 'consecutive_count'],\n",
       "      dtype='object')"
      ]
     },
     "execution_count": 187,
     "metadata": {},
     "output_type": "execute_result"
    }
   ],
   "source": [
    "result_df.columns"
   ]
  },
  {
   "cell_type": "code",
   "execution_count": 93,
   "id": "2104a129-fa64-4282-98bc-af5bfcb6dfd2",
   "metadata": {},
   "outputs": [],
   "source": [
    "# Identify the start of a new consecutive group\n",
    "mask = df['id'] != df['id'].shift(1)\n",
    "df['consecutive_group'] = mask.cumsum()"
   ]
  },
  {
   "cell_type": "code",
   "execution_count": 94,
   "id": "93958d96-7214-4824-9dad-4acd592be1d6",
   "metadata": {},
   "outputs": [
    {
     "data": {
      "text/plain": [
       "0"
      ]
     },
     "execution_count": 94,
     "metadata": {},
     "output_type": "execute_result"
    }
   ],
   "source": [
    "len(df[df['consecutive_group']==0])"
   ]
  },
  {
   "cell_type": "code",
   "execution_count": 92,
   "id": "3a0edf07-6e55-4961-8cca-88b4d5584b0c",
   "metadata": {},
   "outputs": [
    {
     "name": "stderr",
     "output_type": "stream",
     "text": [
      "C:\\Users\\juani\\AppData\\Local\\Temp\\ipykernel_6692\\4068162526.py:1: UserWarning: Boolean Series key will be reindexed to match DataFrame index.\n",
      "  control_ls = pd.DataFrame(df[condition].id.value_counts())\n"
     ]
    },
    {
     "data": {
      "text/html": [
       "<div>\n",
       "<style scoped>\n",
       "    .dataframe tbody tr th:only-of-type {\n",
       "        vertical-align: middle;\n",
       "    }\n",
       "\n",
       "    .dataframe tbody tr th {\n",
       "        vertical-align: top;\n",
       "    }\n",
       "\n",
       "    .dataframe thead th {\n",
       "        text-align: right;\n",
       "    }\n",
       "</style>\n",
       "<table border=\"1\" class=\"dataframe\">\n",
       "  <thead>\n",
       "    <tr style=\"text-align: right;\">\n",
       "      <th></th>\n",
       "      <th>count</th>\n",
       "    </tr>\n",
       "    <tr>\n",
       "      <th>id</th>\n",
       "      <th></th>\n",
       "    </tr>\n",
       "  </thead>\n",
       "  <tbody>\n",
       "    <tr>\n",
       "      <th>seccion_segunda_20181210.pdfcontratos_sobre_personas_jurídicassociedades_anónimasBANCO HIPOTECARIO S.A.</th>\n",
       "      <td>12</td>\n",
       "    </tr>\n",
       "    <tr>\n",
       "      <th>seccion_segunda_20220801.pdfcontratos_sobre_personas_jurídicassociedades_anónimasAGUAS DE ORIGEN S.A.</th>\n",
       "      <td>7</td>\n",
       "    </tr>\n",
       "    <tr>\n",
       "      <th>seccion_segunda_20190703.pdfcontratos_sobre_personas_jurídicassociedades_anónimasCT BARRAGAN S.A.</th>\n",
       "      <td>7</td>\n",
       "    </tr>\n",
       "    <tr>\n",
       "      <th>seccion_segunda_20180105.pdfcontratos_sobre_personas_jurídicassociedades_anónimasFUTUROS Y OPCIONES.COM S.A.</th>\n",
       "      <td>6</td>\n",
       "    </tr>\n",
       "    <tr>\n",
       "      <th>seccion_segunda_20220706.pdfcontratos_sobre_personas_jurídicassociedades_anónimasGLENCORE PACHON S.A.</th>\n",
       "      <td>6</td>\n",
       "    </tr>\n",
       "    <tr>\n",
       "      <th>...</th>\n",
       "      <td>...</td>\n",
       "    </tr>\n",
       "    <tr>\n",
       "      <th>seccion_segunda_20191120.pdfcontratos_sobre_personas_jurídicassociedades_anónimasPE EL CARRIZAL S.A.</th>\n",
       "      <td>2</td>\n",
       "    </tr>\n",
       "    <tr>\n",
       "      <th>seccion_segunda_20170602.pdfcontratos_sobre_personas_jurídicassociedades_anónimasTELECOM ARGENTINA S.A.</th>\n",
       "      <td>2</td>\n",
       "    </tr>\n",
       "    <tr>\n",
       "      <th>seccion_segunda_20191015.pdfcontratos_sobre_personas_jurídicassociedades_anónimasQUARK NETWORKS S.A.</th>\n",
       "      <td>2</td>\n",
       "    </tr>\n",
       "    <tr>\n",
       "      <th>seccion_segunda_20190801.pdfcontratos_sobre_personas_jurídicasotras_sociedadesKADABRA S.A.S.</th>\n",
       "      <td>2</td>\n",
       "    </tr>\n",
       "    <tr>\n",
       "      <th>seccion_segunda_20221212.pdfcontratos_sobre_personas_jurídicassociedades_anónimasCOMERCIALIZADORA E INVERSORA S.A.</th>\n",
       "      <td>2</td>\n",
       "    </tr>\n",
       "  </tbody>\n",
       "</table>\n",
       "<p>3844 rows × 1 columns</p>\n",
       "</div>"
      ],
      "text/plain": [
       "                                                    count\n",
       "id                                                       \n",
       "seccion_segunda_20181210.pdfcontratos_sobre_per...     12\n",
       "seccion_segunda_20220801.pdfcontratos_sobre_per...      7\n",
       "seccion_segunda_20190703.pdfcontratos_sobre_per...      7\n",
       "seccion_segunda_20180105.pdfcontratos_sobre_per...      6\n",
       "seccion_segunda_20220706.pdfcontratos_sobre_per...      6\n",
       "...                                                   ...\n",
       "seccion_segunda_20191120.pdfcontratos_sobre_per...      2\n",
       "seccion_segunda_20170602.pdfcontratos_sobre_per...      2\n",
       "seccion_segunda_20191015.pdfcontratos_sobre_per...      2\n",
       "seccion_segunda_20190801.pdfcontratos_sobre_per...      2\n",
       "seccion_segunda_20221212.pdfcontratos_sobre_per...      2\n",
       "\n",
       "[3844 rows x 1 columns]"
      ]
     },
     "execution_count": 92,
     "metadata": {},
     "output_type": "execute_result"
    }
   ],
   "source": [
    "control_ls = pd.DataFrame(df[condition].id.value_counts())\n",
    "control_ls[control_ls['count']>1]"
   ]
  },
  {
   "cell_type": "code",
   "execution_count": 59,
   "id": "bc6e1462-f583-4250-a969-853d6f8a1d53",
   "metadata": {},
   "outputs": [
    {
     "data": {
      "text/plain": [
       "'seccion_segunda_20181210.pdfcontratos_sobre_personas_jurídicassociedades_anónimasBANCO HIPOTECARIO\\xa0S.A.'"
      ]
     },
     "execution_count": 59,
     "metadata": {},
     "output_type": "execute_result"
    }
   ],
   "source": [
    "control_ls[control_ls['count']>1].index.tolist()[0]"
   ]
  },
  {
   "cell_type": "code",
   "execution_count": 57,
   "id": "0beaa53a-07a3-4825-bdb2-565481d8094a",
   "metadata": {},
   "outputs": [],
   "source": [
    "# df[(df.ESCRIBANO=='NN')&(df.word_count>150)].text.tolist()"
   ]
  },
  {
   "cell_type": "code",
   "execution_count": 46,
   "id": "33396b25-3978-4f91-befd-734dda577b51",
   "metadata": {},
   "outputs": [
    {
     "data": {
      "text/plain": [
       "ESCRIBANO\n",
       "[]                                                  31606\n",
       "[Trámites a Distancia]                              10726\n",
       "NN                                                   5828\n",
       "[Omar Bogado]                                         469\n",
       "[Daniel Ricoso]                                       275\n",
       "                                                    ...  \n",
       "[Carmen Spatola]                                        1\n",
       "[Luisa Rodenas Fernandez]                               1\n",
       "[JUAN SALAS, JUAN SALAS]                                1\n",
       "[catalina benavidez TIGRE, Trámites a Distancia]        1\n",
       "[JUAREZ DOVER]                                          1\n",
       "Name: count, Length: 2147, dtype: int64"
      ]
     },
     "execution_count": 46,
     "metadata": {},
     "output_type": "execute_result"
    }
   ],
   "source": [
    "df[condition].ESCRIBANO.value_counts()"
   ]
  },
  {
   "cell_type": "code",
   "execution_count": 56,
   "id": "0c076811-75d8-4c3d-947a-2c76fe79e47b",
   "metadata": {},
   "outputs": [],
   "source": [
    "# df[condition].text.tolist()[0:20]"
   ]
  },
  {
   "cell_type": "markdown",
   "id": "00f0ed40-28ba-4bf0-80f1-a7396189e7b2",
   "metadata": {},
   "source": [
    "# ejecucion"
   ]
  },
  {
   "cell_type": "markdown",
   "id": "30349841-1bad-48e7-aca9-2fcd5805c9ed",
   "metadata": {},
   "source": [
    "### time control"
   ]
  },
  {
   "cell_type": "code",
   "execution_count": 9,
   "id": "89f48d14-10ba-4797-97ca-d0082ca2e4be",
   "metadata": {},
   "outputs": [
    {
     "name": "stdout",
     "output_type": "stream",
     "text": [
      "final runtime execution for this:  65.1 seconds\n"
     ]
    }
   ],
   "source": [
    "start = time.time()\n",
    "r = [*map(get_ner,estatutos_ls[0:1000])]\n",
    "t = np.round(time.time()-start,1)\n",
    "print(f'final runtime execution for this:  {t} seconds' )"
   ]
  },
  {
   "cell_type": "code",
   "execution_count": 10,
   "id": "eb301dec-2a09-4657-b1b7-a4a9a3bb02a6",
   "metadata": {},
   "outputs": [
    {
     "data": {
      "text/plain": [
       "(59111, 333984)"
      ]
     },
     "execution_count": 10,
     "metadata": {},
     "output_type": "execute_result"
    }
   ],
   "source": [
    "len(estatutos_ls),len(df)"
   ]
  },
  {
   "cell_type": "code",
   "execution_count": 11,
   "id": "01aa1a96-ee46-46e0-96fc-1931c1e4ba79",
   "metadata": {},
   "outputs": [
    {
     "data": {
      "text/plain": [
       "'estimated runtime of 64.1 minutes'"
      ]
     },
     "execution_count": 11,
     "metadata": {},
     "output_type": "execute_result"
    }
   ],
   "source": [
    "f'estimated runtime of {np.round(len(estatutos_ls)*t/1000/60,1)} minutes'"
   ]
  },
  {
   "cell_type": "markdown",
   "id": "05ba38eb-3ada-4e96-95db-c335d3122b95",
   "metadata": {},
   "source": [
    "### real execution"
   ]
  },
  {
   "cell_type": "code",
   "execution_count": 12,
   "id": "9e60248c-0802-444a-bc34-b8273373631e",
   "metadata": {},
   "outputs": [
    {
     "name": "stdout",
     "output_type": "stream",
     "text": [
      "final runtime execution for this:  3956.4 seconds\n"
     ]
    }
   ],
   "source": [
    "start = time.time()\n",
    "r = [*map(get_ner,estatutos_ls)]\n",
    "t = np.round(time.time()-start,1)\n",
    "print(f'final runtime execution for this:  {t} seconds' )"
   ]
  },
  {
   "cell_type": "code",
   "execution_count": 37,
   "id": "d87f3a5f-eb0a-4ca1-81cc-a8986ab82d28",
   "metadata": {},
   "outputs": [
    {
     "data": {
      "text/plain": [
       "59111"
      ]
     },
     "execution_count": 37,
     "metadata": {},
     "output_type": "execute_result"
    }
   ],
   "source": [
    "len(r)"
   ]
  },
  {
   "cell_type": "code",
   "execution_count": 22,
   "id": "d3d28af9-e159-4b95-9a98-55ccb2ff179e",
   "metadata": {},
   "outputs": [
    {
     "data": {
      "text/plain": [
       "{'SOCIO': ['Santiago Nicolas SANCHEZ BUSTOS',\n",
       "  'Facundo Matias SANCHEZ BUSTOS',\n",
       "  'Carolina Alejandra BUSTOS'],\n",
       " 'DNI': ['40.010.290', '42.821.315', '27.085.928'],\n",
       " 'ESCRIBANO': []}"
      ]
     },
     "execution_count": 22,
     "metadata": {},
     "output_type": "execute_result"
    }
   ],
   "source": [
    "r[-1]"
   ]
  },
  {
   "cell_type": "code",
   "execution_count": 36,
   "id": "e12e5c48-1923-4bae-a47c-039a976aed76",
   "metadata": {},
   "outputs": [
    {
     "data": {
      "text/plain": [
       "'1) 14/07/2023. 2) Santiago Nicolas SANCHEZ BUSTOS, argentino, soltero, empresario, 04/11/1996, DNI 40.010.290, CUIT 20-40010290-3, Bermudez 1726, CABA; Facundo Matias SANCHEZ BUSTOS, argentino, soltero, empresario, 03/11/2000, DNI 42.821.315, CUIT 20-42821315-8; y Carolina Alejandra BUSTOS, argentina, casada, empresaria, 22/01/1979, DNI 27.085.928, CUIT. 27-27085928-9, ambos domiciliados en Bermudez 2113, CABA. 3) THE TOY STORE\\xa0S.R.L. 4) Sede Social: Bermúdez 1726, CABA. 5) 30 años a partir de su inscripción en R.P.C. 6) OBJETO: Fabricación, distribución y venta al por mayor y al por menor de artículos de indumentaria, calzado, marroquinería, juguetería, blanquería, librería y accesorios. 7) 1.000.000 Pesos. 100.000 cuotas de $\\xa010 pesos, valor nominal cada una. Suscripción: Santiago Nicolas SANCHEZ BUSTOS y Facundo Matias SANCHEZ BUSTOS: 33.333 cuotas ($\\xa0333.330.-) cada uno; y Carolina Alejandra BUSTOS, suscribe 33.334 cuotas ($\\xa0333.340.-). Integración: 25% de las respectivas suscripciones, en efectivo. 8) Gerencia: integrada por uno a cinco miembros, socios o no, por todo el término de duración de la sociedad. 9) el 31 de mayo de cada año. 10) Gerente: Carolina Alejandra BUSTOS quien acepta el cargo y constituye domicilio especial en Bermúdez 1726, CABA.Autorizado según instrumento público Esc. Nº\\xa0111 de fecha 14/07/2023 Reg. Nº\\xa0773Ezequiel Antonio Galarce - Matrícula: 5443 C.E.C.B.A.e. 19/07/2023 N°\\xa055527/23 v. 19/07/2023'"
      ]
     },
     "execution_count": 36,
     "metadata": {},
     "output_type": "execute_result"
    }
   ],
   "source": [
    "estatutos_ls[-1]"
   ]
  },
  {
   "cell_type": "code",
   "execution_count": 23,
   "id": "4066cf81-985c-42e0-a175-66dfeeb03678",
   "metadata": {},
   "outputs": [
    {
     "data": {
      "text/plain": [
       "[{'SOCIO': ['Emilio Adrián LEIVA', 'Daniel Horacio SÁNCHEZ', 'Majed MOHANNA'],\n",
       "  'DNI': ['26007027', '25747237', '18886526'],\n",
       "  'ESCRIBANO': ['María Cardoso']},\n",
       " {'SOCIO': ['Julián Pujol', 'Orlando Rubén Montanari'],\n",
       "  'DNI': ['26561990', '13266283'],\n",
       "  'ESCRIBANO': ['Martín Esposito']},\n",
       " {'SOCIO': ['Ana Mayra CATICHA', 'Martin NICOLA'],\n",
       "  'DNI': ['22.143.500', '22.888.888'],\n",
       "  'ESCRIBANO': []}]"
      ]
     },
     "execution_count": 23,
     "metadata": {},
     "output_type": "execute_result"
    }
   ],
   "source": [
    "r[0:3]"
   ]
  },
  {
   "cell_type": "code",
   "execution_count": 17,
   "id": "c38d0922-d451-400e-8f08-643a70669bbf",
   "metadata": {},
   "outputs": [
    {
     "data": {
      "text/html": [
       "<div>\n",
       "<style scoped>\n",
       "    .dataframe tbody tr th:only-of-type {\n",
       "        vertical-align: middle;\n",
       "    }\n",
       "\n",
       "    .dataframe tbody tr th {\n",
       "        vertical-align: top;\n",
       "    }\n",
       "\n",
       "    .dataframe thead th {\n",
       "        text-align: right;\n",
       "    }\n",
       "</style>\n",
       "<table border=\"1\" class=\"dataframe\">\n",
       "  <thead>\n",
       "    <tr style=\"text-align: right;\">\n",
       "      <th></th>\n",
       "      <th>SOCIO</th>\n",
       "      <th>DNI</th>\n",
       "      <th>ESCRIBANO</th>\n",
       "      <th>SOCIEDAD</th>\n",
       "    </tr>\n",
       "  </thead>\n",
       "  <tbody>\n",
       "    <tr>\n",
       "      <th>0</th>\n",
       "      <td>[Emilio Adrián LEIVA, Daniel Horacio SÁNCHEZ, ...</td>\n",
       "      <td>[26007027, 25747237, 18886526]</td>\n",
       "      <td>[María Cardoso]</td>\n",
       "      <td>NaN</td>\n",
       "    </tr>\n",
       "    <tr>\n",
       "      <th>1</th>\n",
       "      <td>[Julián Pujol, Orlando Rubén Montanari]</td>\n",
       "      <td>[26561990, 13266283]</td>\n",
       "      <td>[Martín Esposito]</td>\n",
       "      <td>NaN</td>\n",
       "    </tr>\n",
       "    <tr>\n",
       "      <th>2</th>\n",
       "      <td>[Ana Mayra CATICHA, Martin NICOLA]</td>\n",
       "      <td>[22.143.500, 22.888.888]</td>\n",
       "      <td>[]</td>\n",
       "      <td>NaN</td>\n",
       "    </tr>\n",
       "    <tr>\n",
       "      <th>3</th>\n",
       "      <td>[Rolando IRIARTE PIEDRA, Eduviges TICONA ALVAR...</td>\n",
       "      <td>[92.849.692, 92.931.282, 94.416.664, 93.970.14...</td>\n",
       "      <td>[EDUARDO OLIVERA]</td>\n",
       "      <td>NaN</td>\n",
       "    </tr>\n",
       "    <tr>\n",
       "      <th>4</th>\n",
       "      <td>[Sergio Francisco Schwarzkopf, Nelson Mario Lu...</td>\n",
       "      <td>[24142579]</td>\n",
       "      <td>[]</td>\n",
       "      <td>NaN</td>\n",
       "    </tr>\n",
       "  </tbody>\n",
       "</table>\n",
       "</div>"
      ],
      "text/plain": [
       "                                               SOCIO  \\\n",
       "0  [Emilio Adrián LEIVA, Daniel Horacio SÁNCHEZ, ...   \n",
       "1            [Julián Pujol, Orlando Rubén Montanari]   \n",
       "2                 [Ana Mayra CATICHA, Martin NICOLA]   \n",
       "3  [Rolando IRIARTE PIEDRA, Eduviges TICONA ALVAR...   \n",
       "4  [Sergio Francisco Schwarzkopf, Nelson Mario Lu...   \n",
       "\n",
       "                                                 DNI          ESCRIBANO  \\\n",
       "0                     [26007027, 25747237, 18886526]    [María Cardoso]   \n",
       "1                               [26561990, 13266283]  [Martín Esposito]   \n",
       "2                           [22.143.500, 22.888.888]                 []   \n",
       "3  [92.849.692, 92.931.282, 94.416.664, 93.970.14...  [EDUARDO OLIVERA]   \n",
       "4                                         [24142579]                 []   \n",
       "\n",
       "  SOCIEDAD  \n",
       "0      NaN  \n",
       "1      NaN  \n",
       "2      NaN  \n",
       "3      NaN  \n",
       "4      NaN  "
      ]
     },
     "execution_count": 17,
     "metadata": {},
     "output_type": "execute_result"
    }
   ],
   "source": [
    "df_to_add = pd.DataFrame(r)\n",
    "df_to_add.head()"
   ]
  },
  {
   "cell_type": "code",
   "execution_count": 18,
   "id": "28de401e-874c-4c5f-80ba-0f866510ede7",
   "metadata": {},
   "outputs": [],
   "source": [
    "# ASIGNAMOS LOS VALORES: \n",
    "\n",
    "df['SOCIO'] = 'NN'\n",
    "df['DNI'] = 'NN'\n",
    "df['ESCRIBANO'] = 'NN'\n",
    "df['SOCIEDAD'] = 'NN'\n",
    "\n",
    "condition = (df.chapter=='contratos_sobre_personas_jurídicas')&(df.word_count>=150)\n",
    "\n",
    "df.loc[condition,'SOCIO'] = df_to_add['SOCIO'].values\n",
    "df.loc[condition,'DNI'] = df_to_add['DNI'].values\n",
    "df.loc[condition,'ESCRIBANO'] = df_to_add['ESCRIBANO'].values\n",
    "df.loc[condition,'SOCIEDAD'] = df_to_add['SOCIEDAD'].values"
   ]
  },
  {
   "cell_type": "code",
   "execution_count": 116,
   "id": "9a13f50f-ab02-4186-833d-1ea0854dc5b4",
   "metadata": {},
   "outputs": [
    {
     "data": {
      "text/plain": [
       "66954"
      ]
     },
     "execution_count": 116,
     "metadata": {},
     "output_type": "execute_result"
    }
   ],
   "source": [
    "664749 - 597795"
   ]
  },
  {
   "cell_type": "code",
   "execution_count": 38,
   "id": "6a11bf2c-80bb-4a3b-9427-4b49038b64d8",
   "metadata": {},
   "outputs": [
    {
     "data": {
      "text/plain": [
       "[]"
      ]
     },
     "execution_count": 38,
     "metadata": {},
     "output_type": "execute_result"
    }
   ],
   "source": [
    "df[df.DNI!='NN'].ESCRIBANO.tolist()[2]"
   ]
  },
  {
   "cell_type": "code",
   "execution_count": 138,
   "id": "1e3233e0-a3bf-4deb-9290-386b09104f83",
   "metadata": {},
   "outputs": [
    {
     "data": {
      "text/plain": [
       "'Constitución: Por escritura 71 del 15/04/17 Rº 4 del Partido de Pehuajó: 1) Socios: Los cónyuges en primeras nupcias Ana Mayra CATICHA, 02/07/71, DNI 22.143.500, CUIT 27-22143500-7; y Martin NICOLA, 22/12/72, DNI 22.888.888, CUIT 20-22888888-6, ambos argentinos, comerciantes y domiciliados en Elizon 790 Localidad y Partido de Pehuajó, Prov. Bs As. 2) BAZAR MEGA\\xa0S.A. 3) 99 años. 4) $\\xa0100.000. 5) Objeto: a) Comerciales: Mediante la compra, venta, permuta, consignación, importación y exportación de todo tipo de productos de juguetería, cotillón, librería, kiosco, bazar, tienda, bijouterie, electrónica, relojería, óptica, iluminación, decoración, artículos para la caza y pesca deportiva y herramientas en general; comercialización de los mismos y de los frutos y productos derivados de ellos; b) Inmobiliaria: Mediante la compraventa, arrendamiento y administración de inmuebles urbanos y rurales, la subdivisión de tierras y su urbanización, como asimismo todas las operaciones comprendidas en las leyes y reglamentos de propiedad horizontal; c) Financieras: Mediante el aporte, asociación, o inversión de capitales a personas y/o empresas, la compra venta de títulos, acciones, debentures y toda clase de valores mobiliarios. Quedan expresamente excluidas las operaciones comprendidas en la Ley 21.526 de Entidades Financieras y cualquier otra actividad que requiera el concurso de ahorro público. Actuará con dinero propio. 6) Sede: Campichuelo 229 Piso 7 Departamento 36 CABA. 7) Directorio: 1 a 5 titulares por 3 ejercicios. 8) Presidente: Martín Nicola y Director Suplente: Ana Mayra Caticha, aceptan cargos y constituyen domicilio en la sede. 9) Cierre ejercicio: 31/03. Autorizado según instrumento público Esc. Nº\\xa071 de fecha 15/04/2017 Reg. Nº\\xa04maria constanza robledo - T°: 90 F°: 100 C.P.A.C.F.e. 01/06/2017 N°\\xa037101/17 v. 01/06/2017'"
      ]
     },
     "execution_count": 138,
     "metadata": {},
     "output_type": "execute_result"
    }
   ],
   "source": [
    "df[df.ESCRIBANO!='NN'].text.tolist()[2]"
   ]
  },
  {
   "cell_type": "code",
   "execution_count": 39,
   "id": "82bd2299-eb8e-46c5-808e-51ac4f85758c",
   "metadata": {},
   "outputs": [
    {
     "data": {
      "text/plain": [
       "59111"
      ]
     },
     "execution_count": 39,
     "metadata": {},
     "output_type": "execute_result"
    }
   ],
   "source": [
    "len(df)-len(df[df.SOCIO=='NN'])"
   ]
  },
  {
   "cell_type": "code",
   "execution_count": 40,
   "id": "0eedda9c-9b30-4110-827d-daea2650dc2b",
   "metadata": {},
   "outputs": [
    {
     "data": {
      "text/plain": [
       "ESCRIBANO\n",
       "NN                                                  274873\n",
       "[]                                                   31606\n",
       "[Trámites a Distancia]                               10726\n",
       "[Omar Bogado]                                          469\n",
       "[Daniel Ricoso]                                        275\n",
       "                                                     ...  \n",
       "[Carmen Spatola]                                         1\n",
       "[Luisa Rodenas Fernandez]                                1\n",
       "[JUAN SALAS, JUAN SALAS]                                 1\n",
       "[catalina benavidez TIGRE, Trámites a Distancia]         1\n",
       "[JUAREZ DOVER]                                           1\n",
       "Name: count, Length: 2147, dtype: int64"
      ]
     },
     "execution_count": 40,
     "metadata": {},
     "output_type": "execute_result"
    }
   ],
   "source": [
    "df.ESCRIBANO.value_counts()"
   ]
  },
  {
   "cell_type": "code",
   "execution_count": 25,
   "id": "44df03c8-00c0-4769-9465-648b2935ab3d",
   "metadata": {},
   "outputs": [],
   "source": [
    "esc_count = pd.DataFrame(df.ESCRIBANO.value_counts())"
   ]
  },
  {
   "cell_type": "code",
   "execution_count": 26,
   "id": "05ba1ad3-3e5f-4517-83b4-392d16edc57f",
   "metadata": {},
   "outputs": [
    {
     "data": {
      "text/plain": [
       "(2147, 1215, 965, 1215, 818)"
      ]
     },
     "execution_count": 26,
     "metadata": {},
     "output_type": "execute_result"
    }
   ],
   "source": [
    "len(esc_count),len(esc_count[esc_count['count']>1]),len(esc_count[esc_count['count']>2]),len(esc_count[esc_count['count']>1]),len(esc_count[esc_count['count']>3])"
   ]
  },
  {
   "cell_type": "code",
   "execution_count": 27,
   "id": "91cfded2-6d02-4435-b556-bc437bbc6f6f",
   "metadata": {},
   "outputs": [
    {
     "data": {
      "text/plain": [
       "['BETHEL WORLD\\xa0S.A.', 'BIGPAL\\xa0S.A.']"
      ]
     },
     "execution_count": 27,
     "metadata": {},
     "output_type": "execute_result"
    }
   ],
   "source": [
    "df[condition][3:5].title.tolist()"
   ]
  },
  {
   "cell_type": "code",
   "execution_count": 28,
   "id": "7e07edfb-e7e3-4f8d-acdd-8b632b472401",
   "metadata": {},
   "outputs": [
    {
     "name": "stdout",
     "output_type": "stream",
     "text": [
      "Por escritura 155 Folio 419 del 22/05/2017 se constituyó la sociedad. Socios: 1) Rolando IRIARTE PIEDRA, soltero, boliviano, 23/06/1978, DNI 92.849.692, domicilio real y especial en la calle Esteban Bonorino Edificio 26 S/N, Piso 1, departamento A, Barrio Rivadavia, CABA. 2) Eduviges TICONA ALVAREZ, soltera, boliviana, 17/10/1969, DNI 92.931.282, domicilio real en la Avenida Olivera 1463, Planta Baja, Unidad Funcional 2, CABA. 3) Karen Nilda NINAVIA VASQUEZ, soltera, boliviana, 14/04/1978, DNI 94.416.664, domicilio real en Barrio Rivadavia 1 N° 408, CABA; 4) Genaro MAMANI TITO, soltero, boliviano, 12/07/1976, DNI 93.970.149, domicilio real en la calle José Camilo Paz N° 3050, Planta Baja, departamento “C”, CABA. 5) Lucy Celia AMAYA FERNANDEZ, soltera, peruana, 10/07/1983, DNI 94.853.779, con domicilio real en la Manzana 29, Casa 268 S/N, Villa 1 11 14, CABA; 6) Melanio Ramón SILVERO, argentino, casado en primeras nupcias con Carmen Beatriz Rojas, 22/10/1963, DNI 17.067.835, con domicilio real en la calle Derqui N° 4139, CABA; 7) Jhonny Eduardo MAMANI HEREDIA, soltero, boliviano, 09/07/1978, DNI 92.950.005, con domicilio real en la Avenida Carabobo N° 1729, CABA; 8) Richard Ramón SEJAS FERNÁNDEZ, boliviano, casado en primeras nupcias con Nancy Catalina Leguizamón Méndez, 18/11/1968, DNI 92.110.545, con domicilio real y especial en la Avenida Olivera 1463, Planta Baja, Unidad Funcional 2, CABA; 9) Juan Carlos VIGABRIEL CAMACHO, soltero, boliviano, 29/11/1962, DNI 94.838.987, con domicilio real y especial en la calle Ana María Janer 2250, parcela 3, edificio 7, piso 1, departamento M, CABA; 10) Néstor Alberto BARRA, soltero, argentino, 30/08/1980, DNI 28.161.836, con domicilio real y especial en la calle Ana María Janer 2250, edificio 4, manzana 2 “R”, Planta baja G6, CABA; 11) Karina Ester CALERO, soltera, argentina, 23/04/1970, DNI 21.551.847, con domicilio real y especial en la calle Charrua 2730, Planta Baja, Casa 255, CABA; 12) Wilder Rubén VIDAL FERNANDEZ, soltero, peruano, 01/02/1974, DNI 94.078.384, con domicilio real en Barrio 1, 11, 14, S/N Manzana 29, Casa 88, CABA; 13) Ana María GARCÍA QUIROGA, soltera, boliviana, 27/04/1970, DNI 94.000.668, con domicilio real en la Manzana 29, Casa 35, S/N, Barrio Ilia, CABA; 14) Giovanna VILLCA ABREGO, soltera, boliviana, 06/10/1982, DNI 94.299.738, con domicilio real y especial en la calle Camilo Torres y Riestra S/N, Barrio Rivadavia, CABA; 15) Ulises Abel VELASQUEZ, soltero, argentino, 10/04/1980, DNI 28.123.929, con domicilio real y especial en Juan Bautista Alberdi 3088, CABA; 16) Alejandro Fabián CALERO, argentino, casado en primeras nupcias con Graciela Noemí Castillo, 23/04/1975, DNI 24.379.336, con domicilio real en la calle Charrua 2730, CABA. 17) Graciela Noemí CASTILLO, argentina, casada en primeras nupcias con Alejandro Fabián Calero, 01/03/1978, DNI 26.439.437, con domicilio real y especial en la calle Ana María Janer 2250, Parcela 8, Planta Baja, departamento “D”, CABA; 18) Nestor Osvaldo CALERO, soltero, argentino, 01/05/1998, DNI 41.151.684, con domicilio real y especial en la calle Charrua 2730, Casa 255, CABA; 19) Jesús VIGABRIEL CAMACHO, soltero, boliviano, 16/09/1964, DNI 93.650.446, con domicilio real y especial en la calle Zelarrayan 1353, CABA; 20) Héctor Alejandro CAGUASIRI, soltero, argentino, 18/01/1996, DNI 39.468.909, con domicilio real y especial en la calle Ana María Janer 2250, Piso 1, Departamento “M”, Edificio 7, Parcela 3, CABA; 21) SANCHEZ ROSSEL, Gustavo Sixto, soltero, boliviano, 10/05/1964, DNI 94.596.306, con domicilio real en la calle Pavón 1368, Piso 1, Dto. 1, La Matanza, Provincia de Buenos Aires. 22) Zacarías LIPA VEGA, soltero, boliviano, 04/07/1990, DNI 94.757.376, con domicilio real en la calle Olavarría 2367, La Matanza, Provincia de Buenos Aires; 23) Roberto Martin CAGUASIRI, soltero, argentino, 29/05/1972, DNI 22.637.831, con domicilio real en Ana María Janer 2250 edificio 7 parcela 3, primer piso departamento “M”, CABA; todos ellos de profesión empresario. Denominación: Bethel World S.A.   Domicilio social: CABA. Sede Social: Carhue 45, CABA. Plazo de duración: 99 años, desde su inscripción en el Registro Público. Capital: $ 3.000.000 Cierre de ejercicio: 30/04 OBJETO: La Sociedad tiene por objeto realizar por cuenta propia, de terceros, o asociada a terceros, en establecimientos propios o ajenos, las siguientes actividades: CONSTRUCTORA E INMOBILIARIA. Construcción y venta de edificios por el régimen de propiedad horizontal y en general la construcción y la compraventa de todo tipo de inmuebles. La compra, la venta, la permuta, explotación, alquiler, arrendamientos, usufructo, y administración de bienes inmuebles urbanos, rurales, urbanizaciones, loteos, fraccionamientos, y la realización de todas las tareas constructivas o de reciclado sobre inmuebles que autoricen las leyes vigentes, así como también toda clase de operaciones que autoricen las leyes vigentes, así como también toda clase de operaciones inmobiliarias, pudiendo tomar para la venta o comercialización operaciones inmobiliarias de terceros. FINANCIERA, INVERSORA, MANDATARIA Y FIDUCIARIA: Podrá realizar y/o recibir aportes de capital para operaciones de negocios realizados o a realizarse, financiamiento, préstamos hipotecarios, o créditos en general, con cualquiera de las garantías previstas en la legislación vigente, participar en negocios inmobiliarios o de construcción mediante la creación de sociedades por acciones, uniones transitorias de empresas, agrupaciones de colaboración, joint ventures, fideicomisos, consorcio, etc. Quedan totalmente excluidas las operaciones previstas en la Ley de Entidades Financieras y toda aquella que requiera el concurso del ahorro público. Asimismo, la Sociedad podrá ejercer como mandataria en mandatos vinculados a su objeto social, como así también actuar como fiduciante, fiduciaria, beneficiaria y fideicomisaria en todo tipo de negocios fiduciarios. IMPORTADORA Y EXPORTADORA: Importación y Exportación, Comercialización de los productos que se importan, asesoramiento e investigación sobre todos los temas vinculados de exportación e importación. Participar como comisionista de venta y/o como consignataria, organización de canales de distribución y oficinas de ventas o representaciones por cuenta de Industriales, comerciantes, productores argentinos y extranjeros, mandataria y ejecutante de servicios, tareas y operaciones inherentes al comercio de importación y exportación, designación de agentes. A tales fines, la sociedad tiene plena capacidad jurídica para adquirir derechos, contraer obligaciones y ejercer los actos necesarios que no sean prohibidos por la ley o sus estatutos. En el cumplimiento de su objeto social, podrá asimismo actuar como mandataria y/o representante de otras personas físicas y/o jurídicas. Todas las actividades que en virtud de la materia lo requieran por normativa, serán ejercidas por profesionales con título habilitante. Administración 1 a 5 Directores titulares, 1 suplente, 3 ejercicios, Representación Presidente o Vice en su caso. Sin sindicatura. Presidente: Jesús VIGABRIEL CAMACHO, Directora Titular y Vicepresidenta: Karina Ester CALERO, Directora Titular: Giovanna VILLCA ABREGO, Director Titular: Richard Ramón SEJAS FERNÁNDEZ, Director Titular: Néstor Alberto BARRA, Director Suplente: Rolando IRIARTE PIEDRA, con mandato por tres ejercicios. Autorizado según instrumento público Esc. Nº 155 de fecha 22/05/2017 Reg. Nº 492.FEDERICO EDUARDO OLIVERA - T°: 126 F°: 681 C.P.A.C.F.e. 01/06/2017 N° 37342/17 v. 01/06/2017\n",
      "---\n"
     ]
    }
   ],
   "source": [
    "for t in df[df.title=='BETHEL WORLD\\xa0S.A.'].text:\n",
    "    print(t)\n",
    "    print('---')"
   ]
  },
  {
   "cell_type": "markdown",
   "id": "872d3593-ac3d-465b-83e6-6c193c115b13",
   "metadata": {},
   "source": [
    "### limpiamos filas innecesarias"
   ]
  },
  {
   "cell_type": "code",
   "execution_count": 4,
   "id": "488cd5a4-66c9-4fff-9508-ce7ee15065e5",
   "metadata": {},
   "outputs": [
    {
     "name": "stdout",
     "output_type": "stream",
     "text": [
      "664749\n",
      "308\n",
      "112547\n",
      "11789\n",
      "28578\n",
      "511527\n"
     ]
    }
   ],
   "source": [
    "print(len(df))\n",
    "\n",
    "# eliminamos los encabezados:\n",
    "filtered_rows = df[df['text'].str.startswith('BOLETÍN OFICIAL Nº')]\n",
    "print(len(filtered_rows))\n",
    "df = df[~df['text'].str.startswith('BOLETÍN OFICIAL Nº')]\n",
    "\n",
    "\n",
    "# eliminamos los encabezados:\n",
    "filtered_rows = df[df['text'].str.startswith(' BOLETÍN OFICIAL Nº')]\n",
    "print(len(filtered_rows))\n",
    "df = df[~df['text'].str.startswith(' BOLETÍN OFICIAL Nº')]\n",
    "\n",
    "\n",
    "# eliminamos los pies de página:\n",
    "\n",
    "filtered_rows = df[df['subchapter'].isna()]\n",
    "print(len(filtered_rows))\n",
    "df = df[~df['subchapter'].isna()]\n",
    "\n",
    "df['subchapter'] = df.subchapter.astype(str)\n",
    "filtered_rows = df[df['subchapter']=='buenos_aires']\n",
    "print(len(filtered_rows))\n",
    "df = df[df['subchapter']!='buenos_aires']\n",
    "\n",
    "\n",
    "\n",
    "\n",
    "# Display the result\n",
    "print(len(df))"
   ]
  },
  {
   "cell_type": "markdown",
   "id": "b24aedf3-bdd5-43c8-8541-ed756f4a6294",
   "metadata": {},
   "source": [
    "### CORREGIMOS TEXTOS CORTADOS"
   ]
  },
  {
   "cell_type": "code",
   "execution_count": 5,
   "id": "20b29247-0964-4a18-b8d9-81f7de56116f",
   "metadata": {},
   "outputs": [],
   "source": [
    "# creamos columna con id unívoco:\n",
    "df['id'] =  df['file'] + df['chapter'] + df['subchapter'] + df['title']"
   ]
  },
  {
   "cell_type": "code",
   "execution_count": 6,
   "id": "9cdfe7da-1a28-4e16-a940-837ed41a6582",
   "metadata": {},
   "outputs": [],
   "source": [
    "df['consecutive_count'] = (df['id'] != df['id'].shift()).cumsum()\n",
    "# Count occurrences within each group\n",
    "df['consecutive_count'] = df.groupby(['id', 'consecutive_count']).cumcount() + 1"
   ]
  },
  {
   "cell_type": "code",
   "execution_count": 7,
   "id": "fac26fec-d782-4845-be15-034c0cf1c077",
   "metadata": {},
   "outputs": [],
   "source": [
    "# Identify the start of a new consecutive group\n",
    "mask = df['id'] != df['id'].shift(1)\n",
    "df['consecutive_group'] = mask.cumsum()"
   ]
  },
  {
   "cell_type": "code",
   "execution_count": 8,
   "id": "4de76549-a1ef-43c4-b591-c79acae52b1e",
   "metadata": {},
   "outputs": [
    {
     "data": {
      "text/plain": [
       "176511"
      ]
     },
     "execution_count": 8,
     "metadata": {},
     "output_type": "execute_result"
    }
   ],
   "source": [
    "len(df[df['consecutive_count']>1])"
   ]
  },
  {
   "cell_type": "code",
   "execution_count": 9,
   "id": "03ee6436-6303-4fdc-91a2-67abf06d1436",
   "metadata": {},
   "outputs": [
    {
     "data": {
      "text/plain": [
       "15782"
      ]
     },
     "execution_count": 9,
     "metadata": {},
     "output_type": "execute_result"
    }
   ],
   "source": [
    "condition = (df.chapter=='contratos_sobre_personas_jurídicas')&(df.consecutive_count>1)\n",
    "len(df[condition])"
   ]
  },
  {
   "cell_type": "code",
   "execution_count": 10,
   "id": "11fa270f-427b-4c39-a5f4-6a2d89e8ceab",
   "metadata": {},
   "outputs": [
    {
     "data": {
      "text/plain": [
       "43790"
      ]
     },
     "execution_count": 10,
     "metadata": {},
     "output_type": "execute_result"
    }
   ],
   "source": [
    "condition = (df.chapter!='contratos_sobre_personas_jurídicas')&(df.consecutive_count>1)\n",
    "len(df[condition])\n",
    "sel2_ls = df[condition].consecutive_group.unique().tolist()\n",
    "len(sel2_ls)"
   ]
  },
  {
   "cell_type": "code",
   "execution_count": 11,
   "id": "66a351b0-0f34-4fb1-a0bc-099b1516a2bd",
   "metadata": {},
   "outputs": [],
   "source": [
    "# for t in df[df.consecutive_group==sel2_ls[15]].text:\n",
    "#     print(t)\n",
    "#     print('---')"
   ]
  },
  {
   "cell_type": "code",
   "execution_count": 12,
   "id": "21cf0ed1-67ca-4126-88a0-7f3c840cdcf1",
   "metadata": {},
   "outputs": [],
   "source": [
    "sel_ls = df[condition].consecutive_group.unique().tolist()\n"
   ]
  },
  {
   "cell_type": "code",
   "execution_count": 13,
   "id": "b3d3a272-7072-4ca3-814e-de9a39398758",
   "metadata": {},
   "outputs": [
    {
     "name": "stdout",
     "output_type": "stream",
     "text": [
      "CONVOCATORIA A LAS ASAMBLEAS ELECTORALES DE DISTRITO DE GRAN COOPERATIVA DE CRÉDITO, VIVIENDA, CONSUMO Y SERVICIOS SOCIALES LIMITADA. En virtud de lo dispuesto por el 50 de la Ley 20.337, y según surge del Reglamento Electoral de Distrito de Gran Cooperativa de Crédito, Vivienda, Consumo y Servicios Sociales Limitada, que fuera aprobado por Resolución INAES Nº 4.984 del 14 de diciembre de 2.009 e inscripto al Folio 224 del Libro 7º bajo Acta Nº 4.050 con fecha 4 de enero de 2.010, el Consejo de Administración de GRAN COOPERATIVA DE CRÉDITO, VIVIENDA, CONSUMO Y SERVICIOS SOCIALES LIMITADA convoca a los asociados incluidos en el padrón correspondiente al último ejercicio cerrado al 31/03/2017, debidamente actualizado, a ejercer su derecho a voto a las Asambleas Electorales de Distrito de Gran Cooperativa de Crédito, Vivienda, Consumo y Servicios Sociales Limitada, a realizarse los días 14 y 15 de Junio de 2017 a fin de considerar el siguiente orden del día: “Orden del Día: 1.- Lectura y consideración del orden del día; 2.- Apertura del acto; 3.- Designación por la Asamblea de dos asociados que revestirán el carácter de autoridades de la asamblea siendo designados como presidente y secretario, y serán los encargados de firmar el acta; 4.- Designación por la Asamblea de la Comisión \n",
      "---\n",
      "Escrutadora compuesta de tres miembros; 5.- Elección y proclamación de los representantes a la asamblea general por delegados; 6.- Suscripción del Acta de asamblea electoral de distrito.” Artículo 7º del Reglamento Electoral de Distrito de GRAN COOPERATIVA DE CRÉDITO, VIVIENDA, CONSUMO Y SERVICIOS SOCIALES LIMITADA: La Asamblea electoral de distrito se celebrará en el lugar que se fije en la convocatoria, el que deberá estar ubicado dentro de la jurisdicción del distrito electoral. Se realizará a la hora fijada en la convocatoria si se hubieran reunido la mitad más uno de los asociados correspondientes al distrito. De no lograrse quórum en esa oportunidad serán válidas las asambleas que se celebren una hora después, cualquiera sea el número de asistentes”. Se han designado las siguientes sedes, días y horarios que en cada caso se indican, como lugar de celebración de cada una de las Asambleas Electorales de Distrito, a saber: Distrito Nro. 1 integrado por las provincias de Jujuy, Salta, Catamarca y Tucumán: Ayacucho 437, San Miguel de Tucumán, Provincia de Tucumán, el día 15 de Junio de 2017 a las 18.00 horas; Distrito Nro. 2 integrado por las provincias de Chaco, Misiones, Formosa, Santiago del Estero y Corrientes: French 66, Oficina 7, Torre “A”, Resistencia, Provincia de Chaco, el día 15 de Junio de 2017 a las 18.00 horas. Distrito Nro. 3 integrado por las provincias de Mendoza, San Juan, La Rioja, Córdoba, San Luis, y Santa Fe: Avda. Mendoza 4572, Rosario, Provincia de Santa Fe, el día 14 de Junio de 2017 a las 18.00 horas. Distrito Nro. 4 integrado por la Ciudad Autónoma de Buenos Aires y las provincias de La Pampa, Buenos Aires y Entre Ríos: en Paraguay 1307, Piso 5, oficina 45, Ciudad Autónoma de Buenos Aires, el día 15 de Junio de 2017 a las 18.00 horas. Distrito Nro. 5 integrado por las provincias de Neuquén, Río Negro, Chubut, Santa Cruz y Tierra del Fuego: en San Luis 227, Neuquén, Provincia de Neuquén, el día 15 de Junio de 2017 a las 18.00 horas. CONSEJO DE ADMINISTRACIÓN. GRAN COOPERATIVA DE CRÉDITO, VIVIENDA, CONSUMO Y SERVICIOS SOCIALES LIMITADADesignado según instrumento privado acta asamblea de fecha 29/7/2016 GONZALO AGUSTIN ETCHEVERRY - Presidentee. 01/06/2017 N° 37522/17 v. 01/06/2017\n",
      "---\n"
     ]
    }
   ],
   "source": [
    "for t in df[df.consecutive_group==sel_ls[2]].text:\n",
    "    print(t)\n",
    "    print('---')"
   ]
  },
  {
   "cell_type": "code",
   "execution_count": 24,
   "id": "a3641d44-48f1-494b-8392-85803332b02b",
   "metadata": {},
   "outputs": [
    {
     "data": {
      "text/plain": [
       "'WOOFI\\xa0S.R.L.'"
      ]
     },
     "execution_count": 24,
     "metadata": {},
     "output_type": "execute_result"
    }
   ],
   "source": [
    "df[condition].title.unique()[0]"
   ]
  },
  {
   "cell_type": "code",
   "execution_count": 14,
   "id": "b554c739-fb89-42db-867f-037c97f0f37a",
   "metadata": {},
   "outputs": [
    {
     "data": {
      "text/html": [
       "<div>\n",
       "<style scoped>\n",
       "    .dataframe tbody tr th:only-of-type {\n",
       "        vertical-align: middle;\n",
       "    }\n",
       "\n",
       "    .dataframe tbody tr th {\n",
       "        vertical-align: top;\n",
       "    }\n",
       "\n",
       "    .dataframe thead th {\n",
       "        text-align: right;\n",
       "    }\n",
       "</style>\n",
       "<table border=\"1\" class=\"dataframe\">\n",
       "  <thead>\n",
       "    <tr style=\"text-align: right;\">\n",
       "      <th></th>\n",
       "      <th>index</th>\n",
       "      <th>file</th>\n",
       "      <th>page</th>\n",
       "      <th>font</th>\n",
       "      <th>size</th>\n",
       "      <th>text</th>\n",
       "      <th>chapter</th>\n",
       "      <th>subchapter</th>\n",
       "      <th>title</th>\n",
       "      <th>word_count</th>\n",
       "      <th>SOCIO</th>\n",
       "      <th>DNI</th>\n",
       "      <th>ESCRIBANO</th>\n",
       "      <th>SOCIEDAD</th>\n",
       "      <th>id</th>\n",
       "      <th>consecutive_count</th>\n",
       "      <th>consecutive_group</th>\n",
       "    </tr>\n",
       "  </thead>\n",
       "  <tbody>\n",
       "    <tr>\n",
       "      <th>40</th>\n",
       "      <td>40</td>\n",
       "      <td>seccion_segunda_20170601.pdf</td>\n",
       "      <td>2</td>\n",
       "      <td>HelveticaNeueLTStd-Roman</td>\n",
       "      <td>10.0</td>\n",
       "      <td>Por escritura 155 Folio 419 del 22/05/2017 se ...</td>\n",
       "      <td>contratos_sobre_personas_jurídicas</td>\n",
       "      <td>sociedades_anónimas</td>\n",
       "      <td>BETHEL WORLD S.A.</td>\n",
       "      <td>648</td>\n",
       "      <td>[Rolando IRIARTE PIEDRA, Eduviges TICONA ALVAR...</td>\n",
       "      <td>[92.849.692, 92.931.282, 94.416.664, 93.970.14...</td>\n",
       "      <td>[]</td>\n",
       "      <td>NaN</td>\n",
       "      <td>seccion_segunda_20170601.pdfcontratos_sobre_pe...</td>\n",
       "      <td>1</td>\n",
       "      <td>6</td>\n",
       "    </tr>\n",
       "    <tr>\n",
       "      <th>42</th>\n",
       "      <td>42</td>\n",
       "      <td>seccion_segunda_20170601.pdf</td>\n",
       "      <td>3</td>\n",
       "      <td>HelveticaNeueLTStd-Roman</td>\n",
       "      <td>10.0</td>\n",
       "      <td>Domicilio social: CABA. Sede Social: Carhue 45...</td>\n",
       "      <td>contratos_sobre_personas_jurídicas</td>\n",
       "      <td>sociedades_anónimas</td>\n",
       "      <td>BETHEL WORLD S.A.</td>\n",
       "      <td>488</td>\n",
       "      <td>[]</td>\n",
       "      <td>[]</td>\n",
       "      <td>[EDUARDO OLIVERA]</td>\n",
       "      <td>NaN</td>\n",
       "      <td>seccion_segunda_20170601.pdfcontratos_sobre_pe...</td>\n",
       "      <td>2</td>\n",
       "      <td>6</td>\n",
       "    </tr>\n",
       "  </tbody>\n",
       "</table>\n",
       "</div>"
      ],
      "text/plain": [
       "    index                          file  page                      font  size  \\\n",
       "40     40  seccion_segunda_20170601.pdf     2  HelveticaNeueLTStd-Roman  10.0   \n",
       "42     42  seccion_segunda_20170601.pdf     3  HelveticaNeueLTStd-Roman  10.0   \n",
       "\n",
       "                                                 text  \\\n",
       "40  Por escritura 155 Folio 419 del 22/05/2017 se ...   \n",
       "42  Domicilio social: CABA. Sede Social: Carhue 45...   \n",
       "\n",
       "                               chapter           subchapter  \\\n",
       "40  contratos_sobre_personas_jurídicas  sociedades_anónimas   \n",
       "42  contratos_sobre_personas_jurídicas  sociedades_anónimas   \n",
       "\n",
       "                title  word_count  \\\n",
       "40  BETHEL WORLD S.A.         648   \n",
       "42  BETHEL WORLD S.A.         488   \n",
       "\n",
       "                                                SOCIO  \\\n",
       "40  [Rolando IRIARTE PIEDRA, Eduviges TICONA ALVAR...   \n",
       "42                                                 []   \n",
       "\n",
       "                                                  DNI          ESCRIBANO  \\\n",
       "40  [92.849.692, 92.931.282, 94.416.664, 93.970.14...                 []   \n",
       "42                                                 []  [EDUARDO OLIVERA]   \n",
       "\n",
       "   SOCIEDAD                                                 id  \\\n",
       "40      NaN  seccion_segunda_20170601.pdfcontratos_sobre_pe...   \n",
       "42      NaN  seccion_segunda_20170601.pdfcontratos_sobre_pe...   \n",
       "\n",
       "    consecutive_count  consecutive_group  \n",
       "40                  1                  6  \n",
       "42                  2                  6  "
      ]
     },
     "execution_count": 14,
     "metadata": {},
     "output_type": "execute_result"
    }
   ],
   "source": [
    "df[df.title=='BETHEL WORLD\\xa0S.A.']"
   ]
  },
  {
   "cell_type": "markdown",
   "id": "6ac7528d-1e52-4981-8dc0-809f727c8249",
   "metadata": {},
   "source": [
    "### agrupamos"
   ]
  },
  {
   "cell_type": "markdown",
   "id": "d9cc9acf-968d-43b3-8065-01e6964c0b7b",
   "metadata": {},
   "source": [
    "### GUARDAMOS"
   ]
  },
  {
   "cell_type": "code",
   "execution_count": 19,
   "id": "1441e6c4-e563-43d4-ab01-b787a548bc6e",
   "metadata": {},
   "outputs": [
    {
     "data": {
      "text/plain": [
       "333984"
      ]
     },
     "execution_count": 19,
     "metadata": {},
     "output_type": "execute_result"
    }
   ],
   "source": [
    "len(result_df)"
   ]
  },
  {
   "cell_type": "code",
   "execution_count": 144,
   "id": "e99f3542-8659-4292-9a3e-a63ad4bab510",
   "metadata": {},
   "outputs": [],
   "source": [
    "base_path = r'C:\\Users\\juani\\Documents\\3_My_Jupiter_Notebooks\\0_github\\ner'\n",
    "if is_valid_path(base_path):\n",
    "    df.to_pickle(os.path.join(base_path,'result_df3.pkl'))"
   ]
  },
  {
   "cell_type": "code",
   "execution_count": 155,
   "id": "845d4263-4436-4b6f-90b8-08e0acd90844",
   "metadata": {},
   "outputs": [],
   "source": [
    "base_path = r'C:\\Users\\juani\\Documents\\3_My_Jupiter_Notebooks\\0_github\\ner'\n",
    "if is_valid_path(base_path):\n",
    "    df[condition].to_pickle(os.path.join(base_path,'df_for_labeling.pkl'))"
   ]
  },
  {
   "cell_type": "code",
   "execution_count": 18,
   "id": "19b9b2a3-c4a0-4fbb-99cb-e8e03e031b5a",
   "metadata": {},
   "outputs": [],
   "source": [
    "base_path = r'C:\\Users\\juani\\Documents\\3_My_Jupiter_Notebooks\\0_github\\ner'\n",
    "if is_valid_path(base_path):\n",
    "    result_df.to_pickle(os.path.join(base_path,'result_df4.pkl'))"
   ]
  },
  {
   "cell_type": "code",
   "execution_count": 42,
   "id": "f269ecc6-57f9-4af8-8b89-924183115ede",
   "metadata": {},
   "outputs": [],
   "source": []
  },
  {
   "cell_type": "code",
   "execution_count": 43,
   "id": "15647902-3ab4-4265-b3fb-08c6db6ca98a",
   "metadata": {},
   "outputs": [],
   "source": [
    "base_path = r'C:\\Users\\juani\\Documents\\3_My_Jupiter_Notebooks\\0_github\\ner'\n",
    "if is_valid_path(base_path):\n",
    "    df.to_pickle(os.path.join(base_path,'result_df5.pkl'))"
   ]
  },
  {
   "cell_type": "markdown",
   "id": "90ac4020-3732-4620-80ea-060e7fb0d3b6",
   "metadata": {},
   "source": [
    "#### GUARDAMOS BASE PARA ANOTAR"
   ]
  },
  {
   "cell_type": "code",
   "execution_count": 71,
   "id": "6601caa2-ea12-4556-83bb-ea5b8b7e282e",
   "metadata": {},
   "outputs": [],
   "source": [
    "# generamos un dataset\n",
    "base_ls = df[condition].text[0:500].tolist()\n",
    "base_str = '---'.join(base_ls)\n",
    "# print(base_str)\n",
    "\n",
    "base_path = r'C:\\Users\\juani\\Documents\\3_My_Jupiter_Notebooks\\0_github\\ner'\n",
    "\n",
    "with open(os.path.join(base_path,'base_str_500.txt'), \"w\", encoding=\"utf-8\") as text_file:\n",
    "    text_file.write(base_str)"
   ]
  },
  {
   "cell_type": "code",
   "execution_count": 62,
   "id": "9e95f8fc-f732-4571-8725-8f8514d9f210",
   "metadata": {},
   "outputs": [],
   "source": [
    "base_ls = df[condition].text[0:500].tolist()"
   ]
  },
  {
   "cell_type": "code",
   "execution_count": 68,
   "id": "e450c8df-10e6-46d0-bb49-ff9363640afd",
   "metadata": {},
   "outputs": [
    {
     "data": {
      "text/plain": [
       "500"
      ]
     },
     "execution_count": 68,
     "metadata": {},
     "output_type": "execute_result"
    }
   ],
   "source": [
    "len(base_ls)"
   ]
  },
  {
   "cell_type": "markdown",
   "id": "4cf24520-c3d8-4389-95d9-39191b92f66b",
   "metadata": {},
   "source": [
    "# EDA SOCIEDADES"
   ]
  },
  {
   "cell_type": "code",
   "execution_count": 74,
   "id": "0f43edd7-6fef-4143-9c05-af937ba08e00",
   "metadata": {},
   "outputs": [],
   "source": [
    "path_file_sociedades = r'C:\\Users\\juani\\Documents\\3_My_Jupiter_Notebooks\\0_github\\ner\\001_Named_Entity_Recognition\\datos\\registro-nacional-sociedades-2022-semestre-2\\registro-nacional-sociedades-202211.csv'\n",
    "soc = pd.read_csv(path_file_sociedades)"
   ]
  },
  {
   "cell_type": "code",
   "execution_count": 100,
   "id": "0ca47f82-da0a-454b-9e32-8f4d61085cc1",
   "metadata": {},
   "outputs": [
    {
     "data": {
      "text/plain": [
       "Index(['cuit', 'razon_social', 'fecha_hora_contrato_social', 'tipo_societario',\n",
       "       'fecha_hora_actualizacion', 'numero_inscripcion',\n",
       "       'dom_fiscal_provincia', 'dom_fiscal_localidad', 'dom_fiscal_calle',\n",
       "       'dom_fiscal_numero', 'dom_fiscal_piso', 'dom_fiscal_departamento',\n",
       "       'dom_fiscal_cp', 'dom_fiscal_estado_domicilio', 'dom_legal_provincia',\n",
       "       'dom_legal_localidad', 'dom_legal_calle', 'dom_legal_numero',\n",
       "       'dom_legal_piso', 'dom_legal_departamento', 'dom_legal_cp',\n",
       "       'dom_legal_estado_domicilio'],\n",
       "      dtype='object')"
      ]
     },
     "execution_count": 100,
     "metadata": {},
     "output_type": "execute_result"
    }
   ],
   "source": [
    "soc.columns"
   ]
  },
  {
   "cell_type": "code",
   "execution_count": 154,
   "id": "b9629c5c-6295-4147-8868-695e5a03cafd",
   "metadata": {},
   "outputs": [
    {
     "data": {
      "text/plain": [
       "str"
      ]
     },
     "execution_count": 154,
     "metadata": {},
     "output_type": "execute_result"
    }
   ],
   "source": [
    "type(soc.fecha_hora_contrato_social[0])"
   ]
  },
  {
   "cell_type": "code",
   "execution_count": null,
   "id": "a38469aa-24c8-4d19-9a5c-83e864f1def5",
   "metadata": {},
   "outputs": [],
   "source": [
    "df[df['emails'].str.contains('gmail')]"
   ]
  },
  {
   "cell_type": "code",
   "execution_count": 98,
   "id": "030080f3-28a4-4c0b-8af4-a78c37b35a1d",
   "metadata": {},
   "outputs": [
    {
     "data": {
      "text/plain": [
       "(55, 13)"
      ]
     },
     "execution_count": 98,
     "metadata": {},
     "output_type": "execute_result"
    }
   ],
   "source": [
    "+2024-1969, +2024-2011"
   ]
  },
  {
   "cell_type": "code",
   "execution_count": 99,
   "id": "c3a67fb7-4324-4d91-8a93-b9a2a582e76f",
   "metadata": {},
   "outputs": [
    {
     "data": {
      "text/plain": [
       "42"
      ]
     },
     "execution_count": 99,
     "metadata": {},
     "output_type": "execute_result"
    }
   ],
   "source": [
    "55-13"
   ]
  },
  {
   "cell_type": "code",
   "execution_count": 97,
   "id": "0a3e1388-36c3-4b46-a520-a0e76948f638",
   "metadata": {},
   "outputs": [
    {
     "data": {
      "text/html": [
       "<div>\n",
       "<style scoped>\n",
       "    .dataframe tbody tr th:only-of-type {\n",
       "        vertical-align: middle;\n",
       "    }\n",
       "\n",
       "    .dataframe tbody tr th {\n",
       "        vertical-align: top;\n",
       "    }\n",
       "\n",
       "    .dataframe thead th {\n",
       "        text-align: right;\n",
       "    }\n",
       "</style>\n",
       "<table border=\"1\" class=\"dataframe\">\n",
       "  <thead>\n",
       "    <tr style=\"text-align: right;\">\n",
       "      <th></th>\n",
       "      <th>cuit</th>\n",
       "      <th>razon_social</th>\n",
       "      <th>fecha_hora_contrato_social</th>\n",
       "      <th>tipo_societario</th>\n",
       "      <th>fecha_hora_actualizacion</th>\n",
       "      <th>numero_inscripcion</th>\n",
       "      <th>dom_fiscal_provincia</th>\n",
       "      <th>dom_fiscal_localidad</th>\n",
       "      <th>dom_fiscal_calle</th>\n",
       "      <th>dom_fiscal_numero</th>\n",
       "      <th>...</th>\n",
       "      <th>dom_fiscal_cp</th>\n",
       "      <th>dom_fiscal_estado_domicilio</th>\n",
       "      <th>dom_legal_provincia</th>\n",
       "      <th>dom_legal_localidad</th>\n",
       "      <th>dom_legal_calle</th>\n",
       "      <th>dom_legal_numero</th>\n",
       "      <th>dom_legal_piso</th>\n",
       "      <th>dom_legal_departamento</th>\n",
       "      <th>dom_legal_cp</th>\n",
       "      <th>dom_legal_estado_domicilio</th>\n",
       "    </tr>\n",
       "  </thead>\n",
       "  <tbody>\n",
       "    <tr>\n",
       "      <th>702250</th>\n",
       "      <td>3.071205e+10</td>\n",
       "      <td>N. Y A. FIDUCIARIA SRL</td>\n",
       "      <td>2011-09-20-00:00</td>\n",
       "      <td>SOCIEDAD DE RESPONSABILIDAD LIMITADA</td>\n",
       "      <td>2022-09-22-08:05</td>\n",
       "      <td>NaN</td>\n",
       "      <td>CIUDAD AUTONOMA BUENOS AIRES</td>\n",
       "      <td>CAPITAL FEDERAL</td>\n",
       "      <td>NUEVA YORK</td>\n",
       "      <td>4074.0</td>\n",
       "      <td>...</td>\n",
       "      <td>1419.0</td>\n",
       "      <td>DECLARADO POR INTERNET</td>\n",
       "      <td>CIUDAD AUTONOMA BUENOS AIRES</td>\n",
       "      <td>CAPITAL FEDERAL</td>\n",
       "      <td>MAIPU</td>\n",
       "      <td>687.0</td>\n",
       "      <td>10</td>\n",
       "      <td>NaN</td>\n",
       "      <td>1006.0</td>\n",
       "      <td>DECLARADO</td>\n",
       "    </tr>\n",
       "  </tbody>\n",
       "</table>\n",
       "<p>1 rows × 22 columns</p>\n",
       "</div>"
      ],
      "text/plain": [
       "                cuit            razon_social fecha_hora_contrato_social  \\\n",
       "702250  3.071205e+10  N. Y A. FIDUCIARIA SRL           2011-09-20-00:00   \n",
       "\n",
       "                             tipo_societario fecha_hora_actualizacion  \\\n",
       "702250  SOCIEDAD DE RESPONSABILIDAD LIMITADA         2022-09-22-08:05   \n",
       "\n",
       "        numero_inscripcion          dom_fiscal_provincia dom_fiscal_localidad  \\\n",
       "702250                 NaN  CIUDAD AUTONOMA BUENOS AIRES      CAPITAL FEDERAL   \n",
       "\n",
       "       dom_fiscal_calle  dom_fiscal_numero  ... dom_fiscal_cp  \\\n",
       "702250       NUEVA YORK             4074.0  ...        1419.0   \n",
       "\n",
       "       dom_fiscal_estado_domicilio           dom_legal_provincia  \\\n",
       "702250      DECLARADO POR INTERNET  CIUDAD AUTONOMA BUENOS AIRES   \n",
       "\n",
       "       dom_legal_localidad dom_legal_calle dom_legal_numero dom_legal_piso  \\\n",
       "702250     CAPITAL FEDERAL           MAIPU            687.0             10   \n",
       "\n",
       "        dom_legal_departamento dom_legal_cp dom_legal_estado_domicilio  \n",
       "702250                     NaN       1006.0                  DECLARADO  \n",
       "\n",
       "[1 rows x 22 columns]"
      ]
     },
     "execution_count": 97,
     "metadata": {},
     "output_type": "execute_result"
    }
   ],
   "source": [
    "mask = soc.razon_social.str.contains('N. Y A. FIDUCIARIA ', na=False)\n",
    "soc[mask]"
   ]
  },
  {
   "cell_type": "code",
   "execution_count": 79,
   "id": "0bd6b386-1aa6-438d-abe1-fb9d428b2622",
   "metadata": {},
   "outputs": [
    {
     "ename": "ValueError",
     "evalue": "Cannot mask with non-boolean array containing NA / NaN values",
     "output_type": "error",
     "traceback": [
      "\u001b[1;31m---------------------------------------------------------------------------\u001b[0m",
      "\u001b[1;31mValueError\u001b[0m                                Traceback (most recent call last)",
      "Cell \u001b[1;32mIn[79], line 1\u001b[0m\n\u001b[1;32m----> 1\u001b[0m \u001b[43msoc\u001b[49m\u001b[43m[\u001b[49m\u001b[43msoc\u001b[49m\u001b[38;5;241;43m.\u001b[39;49m\u001b[43mrazon_social\u001b[49m\u001b[38;5;241;43m.\u001b[39;49m\u001b[43mstr\u001b[49m\u001b[38;5;241;43m.\u001b[39;49m\u001b[43mcontains\u001b[49m\u001b[43m(\u001b[49m\u001b[38;5;124;43m'\u001b[39;49m\u001b[38;5;124;43mSEGUROS \u001b[39;49m\u001b[38;5;124;43m'\u001b[39;49m\u001b[43m)\u001b[49m\u001b[43m]\u001b[49m\n",
      "File \u001b[1;32m~\\anaconda3\\envs\\llm\\lib\\site-packages\\pandas\\core\\frame.py:4080\u001b[0m, in \u001b[0;36mDataFrame.__getitem__\u001b[1;34m(self, key)\u001b[0m\n\u001b[0;32m   4077\u001b[0m     \u001b[38;5;28;01mreturn\u001b[39;00m \u001b[38;5;28mself\u001b[39m\u001b[38;5;241m.\u001b[39mwhere(key)\n\u001b[0;32m   4079\u001b[0m \u001b[38;5;66;03m# Do we have a (boolean) 1d indexer?\u001b[39;00m\n\u001b[1;32m-> 4080\u001b[0m \u001b[38;5;28;01mif\u001b[39;00m \u001b[43mcom\u001b[49m\u001b[38;5;241;43m.\u001b[39;49m\u001b[43mis_bool_indexer\u001b[49m\u001b[43m(\u001b[49m\u001b[43mkey\u001b[49m\u001b[43m)\u001b[49m:\n\u001b[0;32m   4081\u001b[0m     \u001b[38;5;28;01mreturn\u001b[39;00m \u001b[38;5;28mself\u001b[39m\u001b[38;5;241m.\u001b[39m_getitem_bool_array(key)\n\u001b[0;32m   4083\u001b[0m \u001b[38;5;66;03m# We are left with two options: a single key, and a collection of keys,\u001b[39;00m\n\u001b[0;32m   4084\u001b[0m \u001b[38;5;66;03m# We interpret tuples as collections only for non-MultiIndex\u001b[39;00m\n",
      "File \u001b[1;32m~\\anaconda3\\envs\\llm\\lib\\site-packages\\pandas\\core\\common.py:136\u001b[0m, in \u001b[0;36mis_bool_indexer\u001b[1;34m(key)\u001b[0m\n\u001b[0;32m    132\u001b[0m     na_msg \u001b[38;5;241m=\u001b[39m \u001b[38;5;124m\"\u001b[39m\u001b[38;5;124mCannot mask with non-boolean array containing NA / NaN values\u001b[39m\u001b[38;5;124m\"\u001b[39m\n\u001b[0;32m    133\u001b[0m     \u001b[38;5;28;01mif\u001b[39;00m lib\u001b[38;5;241m.\u001b[39mis_bool_array(key_array, skipna\u001b[38;5;241m=\u001b[39m\u001b[38;5;28;01mTrue\u001b[39;00m):\n\u001b[0;32m    134\u001b[0m         \u001b[38;5;66;03m# Don't raise on e.g. [\"A\", \"B\", np.nan], see\u001b[39;00m\n\u001b[0;32m    135\u001b[0m         \u001b[38;5;66;03m#  test_loc_getitem_list_of_labels_categoricalindex_with_na\u001b[39;00m\n\u001b[1;32m--> 136\u001b[0m         \u001b[38;5;28;01mraise\u001b[39;00m \u001b[38;5;167;01mValueError\u001b[39;00m(na_msg)\n\u001b[0;32m    137\u001b[0m     \u001b[38;5;28;01mreturn\u001b[39;00m \u001b[38;5;28;01mFalse\u001b[39;00m\n\u001b[0;32m    138\u001b[0m \u001b[38;5;28;01mreturn\u001b[39;00m \u001b[38;5;28;01mTrue\u001b[39;00m\n",
      "\u001b[1;31mValueError\u001b[0m: Cannot mask with non-boolean array containing NA / NaN values"
     ]
    }
   ],
   "source": [
    "soc[soc.razon_social.str.contains('SEGUROS ')]"
   ]
  },
  {
   "cell_type": "code",
   "execution_count": 75,
   "id": "9fd06a00-7f7b-4c80-a176-1549cbb5b61f",
   "metadata": {},
   "outputs": [
    {
     "data": {
      "text/html": [
       "<div>\n",
       "<style scoped>\n",
       "    .dataframe tbody tr th:only-of-type {\n",
       "        vertical-align: middle;\n",
       "    }\n",
       "\n",
       "    .dataframe tbody tr th {\n",
       "        vertical-align: top;\n",
       "    }\n",
       "\n",
       "    .dataframe thead th {\n",
       "        text-align: right;\n",
       "    }\n",
       "</style>\n",
       "<table border=\"1\" class=\"dataframe\">\n",
       "  <thead>\n",
       "    <tr style=\"text-align: right;\">\n",
       "      <th></th>\n",
       "      <th>cuit</th>\n",
       "      <th>razon_social</th>\n",
       "      <th>fecha_hora_contrato_social</th>\n",
       "      <th>tipo_societario</th>\n",
       "      <th>fecha_hora_actualizacion</th>\n",
       "      <th>numero_inscripcion</th>\n",
       "      <th>dom_fiscal_provincia</th>\n",
       "      <th>dom_fiscal_localidad</th>\n",
       "      <th>dom_fiscal_calle</th>\n",
       "      <th>dom_fiscal_numero</th>\n",
       "      <th>...</th>\n",
       "      <th>dom_fiscal_cp</th>\n",
       "      <th>dom_fiscal_estado_domicilio</th>\n",
       "      <th>dom_legal_provincia</th>\n",
       "      <th>dom_legal_localidad</th>\n",
       "      <th>dom_legal_calle</th>\n",
       "      <th>dom_legal_numero</th>\n",
       "      <th>dom_legal_piso</th>\n",
       "      <th>dom_legal_departamento</th>\n",
       "      <th>dom_legal_cp</th>\n",
       "      <th>dom_legal_estado_domicilio</th>\n",
       "    </tr>\n",
       "  </thead>\n",
       "  <tbody>\n",
       "    <tr>\n",
       "      <th>0</th>\n",
       "      <td>3.050000e+10</td>\n",
       "      <td>SEGUROS SURA S.A</td>\n",
       "      <td>1912-04-30-10:43</td>\n",
       "      <td>SOCIEDAD ANONIMA</td>\n",
       "      <td>2022-10-24-10:37</td>\n",
       "      <td>NaN</td>\n",
       "      <td>CIUDAD AUTONOMA BUENOS AIRES</td>\n",
       "      <td>CAPITAL FEDERAL</td>\n",
       "      <td>GRIERSON,CECILIA BOULEVARD</td>\n",
       "      <td>255.0</td>\n",
       "      <td>...</td>\n",
       "      <td>1107.0</td>\n",
       "      <td>CONFIRMADO</td>\n",
       "      <td>CIUDAD AUTONOMA BUENOS AIRES</td>\n",
       "      <td>CAPITAL FEDERAL</td>\n",
       "      <td>GRIERSON,CECILIA BOULEVARD</td>\n",
       "      <td>255.0</td>\n",
       "      <td>1</td>\n",
       "      <td>NaN</td>\n",
       "      <td>1107.0</td>\n",
       "      <td>DECLARADO</td>\n",
       "    </tr>\n",
       "    <tr>\n",
       "      <th>1</th>\n",
       "      <td>3.050000e+10</td>\n",
       "      <td>BANCO COMERCIAL DE TRES ARROYOS S A</td>\n",
       "      <td>1906-09-01-00:00</td>\n",
       "      <td>SOCIEDAD ANONIMA</td>\n",
       "      <td>2022-06-14-18:59</td>\n",
       "      <td>NaN</td>\n",
       "      <td>BUENOS AIRES</td>\n",
       "      <td>TRES ARROYOS</td>\n",
       "      <td>BETOLAZA</td>\n",
       "      <td>189.0</td>\n",
       "      <td>...</td>\n",
       "      <td>7500.0</td>\n",
       "      <td>INEXISTENTE - DESCONOCIDO</td>\n",
       "      <td>BUENOS AIRES</td>\n",
       "      <td>TRES ARROYOS</td>\n",
       "      <td>AV MORENO</td>\n",
       "      <td>300.0</td>\n",
       "      <td>NaN</td>\n",
       "      <td>NaN</td>\n",
       "      <td>7500.0</td>\n",
       "      <td>NO CONFIRMADO</td>\n",
       "    </tr>\n",
       "    <tr>\n",
       "      <th>2</th>\n",
       "      <td>3.050000e+10</td>\n",
       "      <td>BANCO COMERCIAL DEL TANDIL S A</td>\n",
       "      <td>1964-03-21-00:00</td>\n",
       "      <td>SOCIEDAD ANONIMA</td>\n",
       "      <td>2022-09-24-13:02</td>\n",
       "      <td>NaN</td>\n",
       "      <td>BUENOS AIRES</td>\n",
       "      <td>TANDIL</td>\n",
       "      <td>GRAL PINTO</td>\n",
       "      <td>602.0</td>\n",
       "      <td>...</td>\n",
       "      <td>7000.0</td>\n",
       "      <td>DECLARADO</td>\n",
       "      <td>BUENOS AIRES</td>\n",
       "      <td>TANDIL</td>\n",
       "      <td>GRAL PINTO</td>\n",
       "      <td>602.0</td>\n",
       "      <td>NaN</td>\n",
       "      <td>NaN</td>\n",
       "      <td>7000.0</td>\n",
       "      <td>NO CONFIRMADO</td>\n",
       "    </tr>\n",
       "    <tr>\n",
       "      <th>3</th>\n",
       "      <td>3.050000e+10</td>\n",
       "      <td>BOSTON COMPAÑIA ARGENTINA DE SEGUROS S A</td>\n",
       "      <td>1925-02-19-11:00</td>\n",
       "      <td>SOCIEDAD ANONIMA</td>\n",
       "      <td>2022-11-15-13:14</td>\n",
       "      <td>NaN</td>\n",
       "      <td>CIUDAD AUTONOMA BUENOS AIRES</td>\n",
       "      <td>CAPITAL FEDERAL</td>\n",
       "      <td>SUIPACHA</td>\n",
       "      <td>268.0</td>\n",
       "      <td>...</td>\n",
       "      <td>1008.0</td>\n",
       "      <td>CONFIRMADO</td>\n",
       "      <td>CIUDAD AUTONOMA BUENOS AIRES</td>\n",
       "      <td>CAPITAL FEDERAL</td>\n",
       "      <td>SUIPACHA</td>\n",
       "      <td>268.0</td>\n",
       "      <td>03</td>\n",
       "      <td>NaN</td>\n",
       "      <td>1008.0</td>\n",
       "      <td>DECLARADO</td>\n",
       "    </tr>\n",
       "    <tr>\n",
       "      <th>4</th>\n",
       "      <td>3.050000e+10</td>\n",
       "      <td>BANCO DE CREDITO COMERCIAL</td>\n",
       "      <td>1913-03-10-00:00</td>\n",
       "      <td>SOCIEDAD ANONIMA</td>\n",
       "      <td>2022-06-14-18:59</td>\n",
       "      <td>NaN</td>\n",
       "      <td>SANTA FE</td>\n",
       "      <td>SANTA FE</td>\n",
       "      <td>SAN MARTIN</td>\n",
       "      <td>2498.0</td>\n",
       "      <td>...</td>\n",
       "      <td>3000.0</td>\n",
       "      <td>INEXISTENTE - DESCONOCIDO</td>\n",
       "      <td>SANTA FE</td>\n",
       "      <td>SANTA FE</td>\n",
       "      <td>SAN MARTIN</td>\n",
       "      <td>2498.0</td>\n",
       "      <td>NaN</td>\n",
       "      <td>NaN</td>\n",
       "      <td>3000.0</td>\n",
       "      <td>NO CONFIRMADO</td>\n",
       "    </tr>\n",
       "  </tbody>\n",
       "</table>\n",
       "<p>5 rows × 22 columns</p>\n",
       "</div>"
      ],
      "text/plain": [
       "           cuit                              razon_social  \\\n",
       "0  3.050000e+10                          SEGUROS SURA S.A   \n",
       "1  3.050000e+10       BANCO COMERCIAL DE TRES ARROYOS S A   \n",
       "2  3.050000e+10            BANCO COMERCIAL DEL TANDIL S A   \n",
       "3  3.050000e+10  BOSTON COMPAÑIA ARGENTINA DE SEGUROS S A   \n",
       "4  3.050000e+10                BANCO DE CREDITO COMERCIAL   \n",
       "\n",
       "  fecha_hora_contrato_social   tipo_societario fecha_hora_actualizacion  \\\n",
       "0           1912-04-30-10:43  SOCIEDAD ANONIMA         2022-10-24-10:37   \n",
       "1           1906-09-01-00:00  SOCIEDAD ANONIMA         2022-06-14-18:59   \n",
       "2           1964-03-21-00:00  SOCIEDAD ANONIMA         2022-09-24-13:02   \n",
       "3           1925-02-19-11:00  SOCIEDAD ANONIMA         2022-11-15-13:14   \n",
       "4           1913-03-10-00:00  SOCIEDAD ANONIMA         2022-06-14-18:59   \n",
       "\n",
       "   numero_inscripcion          dom_fiscal_provincia dom_fiscal_localidad  \\\n",
       "0                 NaN  CIUDAD AUTONOMA BUENOS AIRES      CAPITAL FEDERAL   \n",
       "1                 NaN                  BUENOS AIRES         TRES ARROYOS   \n",
       "2                 NaN                  BUENOS AIRES               TANDIL   \n",
       "3                 NaN  CIUDAD AUTONOMA BUENOS AIRES      CAPITAL FEDERAL   \n",
       "4                 NaN                      SANTA FE             SANTA FE   \n",
       "\n",
       "             dom_fiscal_calle  dom_fiscal_numero  ... dom_fiscal_cp  \\\n",
       "0  GRIERSON,CECILIA BOULEVARD              255.0  ...        1107.0   \n",
       "1                    BETOLAZA              189.0  ...        7500.0   \n",
       "2                  GRAL PINTO              602.0  ...        7000.0   \n",
       "3                    SUIPACHA              268.0  ...        1008.0   \n",
       "4                  SAN MARTIN             2498.0  ...        3000.0   \n",
       "\n",
       "  dom_fiscal_estado_domicilio           dom_legal_provincia  \\\n",
       "0                  CONFIRMADO  CIUDAD AUTONOMA BUENOS AIRES   \n",
       "1   INEXISTENTE - DESCONOCIDO                  BUENOS AIRES   \n",
       "2                   DECLARADO                  BUENOS AIRES   \n",
       "3                  CONFIRMADO  CIUDAD AUTONOMA BUENOS AIRES   \n",
       "4   INEXISTENTE - DESCONOCIDO                      SANTA FE   \n",
       "\n",
       "  dom_legal_localidad             dom_legal_calle dom_legal_numero  \\\n",
       "0     CAPITAL FEDERAL  GRIERSON,CECILIA BOULEVARD            255.0   \n",
       "1        TRES ARROYOS                   AV MORENO            300.0   \n",
       "2              TANDIL                  GRAL PINTO            602.0   \n",
       "3     CAPITAL FEDERAL                    SUIPACHA            268.0   \n",
       "4            SANTA FE                  SAN MARTIN           2498.0   \n",
       "\n",
       "  dom_legal_piso  dom_legal_departamento dom_legal_cp  \\\n",
       "0              1                     NaN       1107.0   \n",
       "1            NaN                     NaN       7500.0   \n",
       "2            NaN                     NaN       7000.0   \n",
       "3             03                     NaN       1008.0   \n",
       "4            NaN                     NaN       3000.0   \n",
       "\n",
       "  dom_legal_estado_domicilio  \n",
       "0                  DECLARADO  \n",
       "1              NO CONFIRMADO  \n",
       "2              NO CONFIRMADO  \n",
       "3                  DECLARADO  \n",
       "4              NO CONFIRMADO  \n",
       "\n",
       "[5 rows x 22 columns]"
      ]
     },
     "execution_count": 75,
     "metadata": {},
     "output_type": "execute_result"
    }
   ],
   "source": [
    "soc.head()"
   ]
  },
  {
   "cell_type": "code",
   "execution_count": 45,
   "id": "09d2623b-43f0-4028-b65a-a715cc944d55",
   "metadata": {},
   "outputs": [
    {
     "data": {
      "text/html": [
       "<div>\n",
       "<style scoped>\n",
       "    .dataframe tbody tr th:only-of-type {\n",
       "        vertical-align: middle;\n",
       "    }\n",
       "\n",
       "    .dataframe tbody tr th {\n",
       "        vertical-align: top;\n",
       "    }\n",
       "\n",
       "    .dataframe thead th {\n",
       "        text-align: right;\n",
       "    }\n",
       "</style>\n",
       "<table border=\"1\" class=\"dataframe\">\n",
       "  <thead>\n",
       "    <tr style=\"text-align: right;\">\n",
       "      <th></th>\n",
       "      <th>cuit</th>\n",
       "      <th>cumulative_percentage</th>\n",
       "    </tr>\n",
       "    <tr>\n",
       "      <th>tipo_societario</th>\n",
       "      <th></th>\n",
       "      <th></th>\n",
       "    </tr>\n",
       "  </thead>\n",
       "  <tbody>\n",
       "    <tr>\n",
       "      <th>SOCIEDAD DE RESPONSABILIDAD LIMITADA</th>\n",
       "      <td>420259</td>\n",
       "      <td>38</td>\n",
       "    </tr>\n",
       "    <tr>\n",
       "      <th>SOCIEDAD ANONIMA</th>\n",
       "      <td>363875</td>\n",
       "      <td>72</td>\n",
       "    </tr>\n",
       "    <tr>\n",
       "      <th>ASOCIACION CIVIL</th>\n",
       "      <td>114779</td>\n",
       "      <td>82</td>\n",
       "    </tr>\n",
       "    <tr>\n",
       "      <th>SOCIEDAD POR ACCION SIMPLIFICADA</th>\n",
       "      <td>49655</td>\n",
       "      <td>87</td>\n",
       "    </tr>\n",
       "    <tr>\n",
       "      <th>COOPERATIVA</th>\n",
       "      <td>37474</td>\n",
       "      <td>90</td>\n",
       "    </tr>\n",
       "    <tr>\n",
       "      <th>SOCIEDAD LEY 19550 CAPITULO I SECCION IV</th>\n",
       "      <td>25362</td>\n",
       "      <td>93</td>\n",
       "    </tr>\n",
       "    <tr>\n",
       "      <th>FUNDACION</th>\n",
       "      <td>19263</td>\n",
       "      <td>94</td>\n",
       "    </tr>\n",
       "    <tr>\n",
       "      <th>ASOCIACION COOPERADORA</th>\n",
       "      <td>9744</td>\n",
       "      <td>95</td>\n",
       "    </tr>\n",
       "    <tr>\n",
       "      <th>COOPERATIVA EFECTORA</th>\n",
       "      <td>8520</td>\n",
       "      <td>96</td>\n",
       "    </tr>\n",
       "    <tr>\n",
       "      <th>SOCIEDAD EN COMANDITA POR ACCIONES</th>\n",
       "      <td>6699</td>\n",
       "      <td>97</td>\n",
       "    </tr>\n",
       "    <tr>\n",
       "      <th>SOCIEDAD EN COMANDITA SIMPLE</th>\n",
       "      <td>5849</td>\n",
       "      <td>97</td>\n",
       "    </tr>\n",
       "    <tr>\n",
       "      <th>SOCIEDAD COLECTIVA</th>\n",
       "      <td>5797</td>\n",
       "      <td>98</td>\n",
       "    </tr>\n",
       "    <tr>\n",
       "      <th>SOCIEDAD EXTRANJERA</th>\n",
       "      <td>5616</td>\n",
       "      <td>98</td>\n",
       "    </tr>\n",
       "    <tr>\n",
       "      <th>SUCURSAL EMPRESA EXTRANJERA</th>\n",
       "      <td>5412</td>\n",
       "      <td>99</td>\n",
       "    </tr>\n",
       "    <tr>\n",
       "      <th>ASOCIACION MUTUAL</th>\n",
       "      <td>4019</td>\n",
       "      <td>99</td>\n",
       "    </tr>\n",
       "    <tr>\n",
       "      <th>SIMPLE ASOCIACION</th>\n",
       "      <td>1911</td>\n",
       "      <td>99</td>\n",
       "    </tr>\n",
       "    <tr>\n",
       "      <th>SOCIEDAD ANONIMA UNIPERSONAL</th>\n",
       "      <td>876</td>\n",
       "      <td>99</td>\n",
       "    </tr>\n",
       "    <tr>\n",
       "      <th>INSTITUTO DE VIDA CONSAGRADA</th>\n",
       "      <td>763</td>\n",
       "      <td>99</td>\n",
       "    </tr>\n",
       "    <tr>\n",
       "      <th>SOCIEDAD DEL ESTADO</th>\n",
       "      <td>363</td>\n",
       "      <td>99</td>\n",
       "    </tr>\n",
       "    <tr>\n",
       "      <th>CAPITAL E INDUSTRIA</th>\n",
       "      <td>303</td>\n",
       "      <td>99</td>\n",
       "    </tr>\n",
       "    <tr>\n",
       "      <th>SOCIEDAD ANONIMA CON PARTICIPACION ESTATAL MAYORITARIA</th>\n",
       "      <td>108</td>\n",
       "      <td>99</td>\n",
       "    </tr>\n",
       "    <tr>\n",
       "      <th>GARANTIA RECIPROCA</th>\n",
       "      <td>70</td>\n",
       "      <td>99</td>\n",
       "    </tr>\n",
       "    <tr>\n",
       "      <th>ASOCIACION CIVIL EXTRANJERA</th>\n",
       "      <td>57</td>\n",
       "      <td>99</td>\n",
       "    </tr>\n",
       "    <tr>\n",
       "      <th>ECONOMIA MIXTA</th>\n",
       "      <td>51</td>\n",
       "      <td>99</td>\n",
       "    </tr>\n",
       "    <tr>\n",
       "      <th>SOCIEDAD BINACIONAL FUERA DE JURISDICCION</th>\n",
       "      <td>11</td>\n",
       "      <td>100</td>\n",
       "    </tr>\n",
       "    <tr>\n",
       "      <th>NaN</th>\n",
       "      <td>0</td>\n",
       "      <td>100</td>\n",
       "    </tr>\n",
       "  </tbody>\n",
       "</table>\n",
       "</div>"
      ],
      "text/plain": [
       "                                                      cuit  \\\n",
       "tipo_societario                                              \n",
       "SOCIEDAD DE RESPONSABILIDAD LIMITADA                420259   \n",
       "SOCIEDAD ANONIMA                                    363875   \n",
       "ASOCIACION CIVIL                                    114779   \n",
       "SOCIEDAD POR ACCION SIMPLIFICADA                     49655   \n",
       "COOPERATIVA                                          37474   \n",
       "SOCIEDAD LEY 19550 CAPITULO I SECCION IV             25362   \n",
       "FUNDACION                                            19263   \n",
       "ASOCIACION COOPERADORA                                9744   \n",
       "COOPERATIVA EFECTORA                                  8520   \n",
       "SOCIEDAD EN COMANDITA POR ACCIONES                    6699   \n",
       "SOCIEDAD EN COMANDITA SIMPLE                          5849   \n",
       "SOCIEDAD COLECTIVA                                    5797   \n",
       "SOCIEDAD EXTRANJERA                                   5616   \n",
       "SUCURSAL EMPRESA EXTRANJERA                           5412   \n",
       "ASOCIACION MUTUAL                                     4019   \n",
       "SIMPLE ASOCIACION                                     1911   \n",
       "SOCIEDAD ANONIMA UNIPERSONAL                           876   \n",
       "INSTITUTO DE VIDA CONSAGRADA                           763   \n",
       "SOCIEDAD DEL ESTADO                                    363   \n",
       "CAPITAL E INDUSTRIA                                    303   \n",
       "SOCIEDAD ANONIMA CON PARTICIPACION ESTATAL MAYO...     108   \n",
       "GARANTIA RECIPROCA                                      70   \n",
       "ASOCIACION CIVIL EXTRANJERA                             57   \n",
       "ECONOMIA MIXTA                                          51   \n",
       "SOCIEDAD BINACIONAL FUERA DE JURISDICCION               11   \n",
       "NaN                                                      0   \n",
       "\n",
       "                                                    cumulative_percentage  \n",
       "tipo_societario                                                            \n",
       "SOCIEDAD DE RESPONSABILIDAD LIMITADA                                   38  \n",
       "SOCIEDAD ANONIMA                                                       72  \n",
       "ASOCIACION CIVIL                                                       82  \n",
       "SOCIEDAD POR ACCION SIMPLIFICADA                                       87  \n",
       "COOPERATIVA                                                            90  \n",
       "SOCIEDAD LEY 19550 CAPITULO I SECCION IV                               93  \n",
       "FUNDACION                                                              94  \n",
       "ASOCIACION COOPERADORA                                                 95  \n",
       "COOPERATIVA EFECTORA                                                   96  \n",
       "SOCIEDAD EN COMANDITA POR ACCIONES                                     97  \n",
       "SOCIEDAD EN COMANDITA SIMPLE                                           97  \n",
       "SOCIEDAD COLECTIVA                                                     98  \n",
       "SOCIEDAD EXTRANJERA                                                    98  \n",
       "SUCURSAL EMPRESA EXTRANJERA                                            99  \n",
       "ASOCIACION MUTUAL                                                      99  \n",
       "SIMPLE ASOCIACION                                                      99  \n",
       "SOCIEDAD ANONIMA UNIPERSONAL                                           99  \n",
       "INSTITUTO DE VIDA CONSAGRADA                                           99  \n",
       "SOCIEDAD DEL ESTADO                                                    99  \n",
       "CAPITAL E INDUSTRIA                                                    99  \n",
       "SOCIEDAD ANONIMA CON PARTICIPACION ESTATAL MAYO...                     99  \n",
       "GARANTIA RECIPROCA                                                     99  \n",
       "ASOCIACION CIVIL EXTRANJERA                                            99  \n",
       "ECONOMIA MIXTA                                                         99  \n",
       "SOCIEDAD BINACIONAL FUERA DE JURISDICCION                             100  \n",
       "NaN                                                                   100  "
      ]
     },
     "execution_count": 45,
     "metadata": {},
     "output_type": "execute_result"
    }
   ],
   "source": [
    "all_provinces = soc.tipo_societario.unique().tolist()\n",
    "\n",
    "soc.groupby('tipo_societario')['cuit'].count().reindex(all_provinces, fill_value=0).sort_values(ascending=False).pipe(lambda df: pd.concat([df, (df.cumsum() / df.sum() * 100).rename('cumulative_percentage')], axis=1)).astype(int)\n"
   ]
  },
  {
   "cell_type": "code",
   "execution_count": 37,
   "id": "b671d547-9026-4919-b477-95a35dfa4c15",
   "metadata": {},
   "outputs": [],
   "source": [
    "# soc[['cuit','dom_legal_provincia']].groupby('dom_legal_provincia').count().sort_values(by='cuit',ascending=False)"
   ]
  },
  {
   "cell_type": "code",
   "execution_count": 42,
   "id": "8188a758-27bf-47c1-b172-11cf6c6db1bd",
   "metadata": {},
   "outputs": [
    {
     "data": {
      "text/html": [
       "<div>\n",
       "<style scoped>\n",
       "    .dataframe tbody tr th:only-of-type {\n",
       "        vertical-align: middle;\n",
       "    }\n",
       "\n",
       "    .dataframe tbody tr th {\n",
       "        vertical-align: top;\n",
       "    }\n",
       "\n",
       "    .dataframe thead th {\n",
       "        text-align: right;\n",
       "    }\n",
       "</style>\n",
       "<table border=\"1\" class=\"dataframe\">\n",
       "  <thead>\n",
       "    <tr style=\"text-align: right;\">\n",
       "      <th></th>\n",
       "      <th>cuit</th>\n",
       "      <th>cumulative_percentage</th>\n",
       "    </tr>\n",
       "    <tr>\n",
       "      <th>dom_legal_provincia</th>\n",
       "      <th></th>\n",
       "      <th></th>\n",
       "    </tr>\n",
       "  </thead>\n",
       "  <tbody>\n",
       "    <tr>\n",
       "      <th>CIUDAD AUTONOMA BUENOS AIRES</th>\n",
       "      <td>469473</td>\n",
       "      <td>42</td>\n",
       "    </tr>\n",
       "    <tr>\n",
       "      <th>BUENOS AIRES</th>\n",
       "      <td>228264</td>\n",
       "      <td>62</td>\n",
       "    </tr>\n",
       "    <tr>\n",
       "      <th>CORDOBA</th>\n",
       "      <td>81339</td>\n",
       "      <td>70</td>\n",
       "    </tr>\n",
       "    <tr>\n",
       "      <th>SANTA FE</th>\n",
       "      <td>79333</td>\n",
       "      <td>77</td>\n",
       "    </tr>\n",
       "    <tr>\n",
       "      <th>MENDOZA</th>\n",
       "      <td>45863</td>\n",
       "      <td>81</td>\n",
       "    </tr>\n",
       "    <tr>\n",
       "      <th>TUCUMAN</th>\n",
       "      <td>20601</td>\n",
       "      <td>83</td>\n",
       "    </tr>\n",
       "    <tr>\n",
       "      <th>ENTRE RIOS</th>\n",
       "      <td>16835</td>\n",
       "      <td>84</td>\n",
       "    </tr>\n",
       "    <tr>\n",
       "      <th>SALTA</th>\n",
       "      <td>16635</td>\n",
       "      <td>86</td>\n",
       "    </tr>\n",
       "    <tr>\n",
       "      <th>CHACO</th>\n",
       "      <td>15827</td>\n",
       "      <td>87</td>\n",
       "    </tr>\n",
       "    <tr>\n",
       "      <th>CORRIENTES</th>\n",
       "      <td>14388</td>\n",
       "      <td>88</td>\n",
       "    </tr>\n",
       "    <tr>\n",
       "      <th>RIO NEGRO</th>\n",
       "      <td>13885</td>\n",
       "      <td>90</td>\n",
       "    </tr>\n",
       "    <tr>\n",
       "      <th>MISIONES</th>\n",
       "      <td>13348</td>\n",
       "      <td>91</td>\n",
       "    </tr>\n",
       "    <tr>\n",
       "      <th>SAN JUAN</th>\n",
       "      <td>12181</td>\n",
       "      <td>92</td>\n",
       "    </tr>\n",
       "    <tr>\n",
       "      <th>CHUBUT</th>\n",
       "      <td>11696</td>\n",
       "      <td>93</td>\n",
       "    </tr>\n",
       "    <tr>\n",
       "      <th>NEUQUEN</th>\n",
       "      <td>11574</td>\n",
       "      <td>94</td>\n",
       "    </tr>\n",
       "    <tr>\n",
       "      <th>SAN LUIS</th>\n",
       "      <td>10887</td>\n",
       "      <td>95</td>\n",
       "    </tr>\n",
       "    <tr>\n",
       "      <th>SANTIAGO DEL ESTERO</th>\n",
       "      <td>9835</td>\n",
       "      <td>96</td>\n",
       "    </tr>\n",
       "    <tr>\n",
       "      <th>JUJUY</th>\n",
       "      <td>7900</td>\n",
       "      <td>97</td>\n",
       "    </tr>\n",
       "    <tr>\n",
       "      <th>LA PAMPA</th>\n",
       "      <td>7466</td>\n",
       "      <td>97</td>\n",
       "    </tr>\n",
       "    <tr>\n",
       "      <th>TIERRA DEL FUEGO</th>\n",
       "      <td>5097</td>\n",
       "      <td>98</td>\n",
       "    </tr>\n",
       "    <tr>\n",
       "      <th>LA RIOJA</th>\n",
       "      <td>5034</td>\n",
       "      <td>98</td>\n",
       "    </tr>\n",
       "    <tr>\n",
       "      <th>SANTA CRUZ</th>\n",
       "      <td>4999</td>\n",
       "      <td>99</td>\n",
       "    </tr>\n",
       "    <tr>\n",
       "      <th>FORMOSA</th>\n",
       "      <td>4880</td>\n",
       "      <td>99</td>\n",
       "    </tr>\n",
       "    <tr>\n",
       "      <th>CATAMARCA</th>\n",
       "      <td>4710</td>\n",
       "      <td>100</td>\n",
       "    </tr>\n",
       "    <tr>\n",
       "      <th>NaN</th>\n",
       "      <td>0</td>\n",
       "      <td>100</td>\n",
       "    </tr>\n",
       "  </tbody>\n",
       "</table>\n",
       "</div>"
      ],
      "text/plain": [
       "                                cuit  cumulative_percentage\n",
       "dom_legal_provincia                                        \n",
       "CIUDAD AUTONOMA BUENOS AIRES  469473                     42\n",
       "BUENOS AIRES                  228264                     62\n",
       "CORDOBA                        81339                     70\n",
       "SANTA FE                       79333                     77\n",
       "MENDOZA                        45863                     81\n",
       "TUCUMAN                        20601                     83\n",
       "ENTRE RIOS                     16835                     84\n",
       "SALTA                          16635                     86\n",
       "CHACO                          15827                     87\n",
       "CORRIENTES                     14388                     88\n",
       "RIO NEGRO                      13885                     90\n",
       "MISIONES                       13348                     91\n",
       "SAN JUAN                       12181                     92\n",
       "CHUBUT                         11696                     93\n",
       "NEUQUEN                        11574                     94\n",
       "SAN LUIS                       10887                     95\n",
       "SANTIAGO DEL ESTERO             9835                     96\n",
       "JUJUY                           7900                     97\n",
       "LA PAMPA                        7466                     97\n",
       "TIERRA DEL FUEGO                5097                     98\n",
       "LA RIOJA                        5034                     98\n",
       "SANTA CRUZ                      4999                     99\n",
       "FORMOSA                         4880                     99\n",
       "CATAMARCA                       4710                    100\n",
       "NaN                                0                    100"
      ]
     },
     "execution_count": 42,
     "metadata": {},
     "output_type": "execute_result"
    }
   ],
   "source": [
    "all_provinces = soc.dom_legal_provincia.unique().tolist()\n",
    "\n",
    "soc.groupby('dom_legal_provincia')['cuit'].count().reindex(all_provinces, fill_value=0).sort_values(ascending=False).pipe(lambda df: pd.concat([df, (df.cumsum() / df.sum() * 100).rename('cumulative_percentage')], axis=1)).astype(int)\n"
   ]
  },
  {
   "cell_type": "code",
   "execution_count": 36,
   "id": "681f93e2-c5d9-4bc4-957c-727c490b300d",
   "metadata": {},
   "outputs": [
    {
     "data": {
      "text/html": [
       "<div>\n",
       "<style scoped>\n",
       "    .dataframe tbody tr th:only-of-type {\n",
       "        vertical-align: middle;\n",
       "    }\n",
       "\n",
       "    .dataframe tbody tr th {\n",
       "        vertical-align: top;\n",
       "    }\n",
       "\n",
       "    .dataframe thead th {\n",
       "        text-align: right;\n",
       "    }\n",
       "</style>\n",
       "<table border=\"1\" class=\"dataframe\">\n",
       "  <thead>\n",
       "    <tr style=\"text-align: right;\">\n",
       "      <th></th>\n",
       "      <th>cuit</th>\n",
       "      <th>cumulative_percentage</th>\n",
       "    </tr>\n",
       "    <tr>\n",
       "      <th>dom_legal_provincia</th>\n",
       "      <th></th>\n",
       "      <th></th>\n",
       "    </tr>\n",
       "  </thead>\n",
       "  <tbody>\n",
       "    <tr>\n",
       "      <th>CIUDAD AUTONOMA BUENOS AIRES</th>\n",
       "      <td>469473</td>\n",
       "      <td>42.2</td>\n",
       "    </tr>\n",
       "    <tr>\n",
       "      <th>BUENOS AIRES</th>\n",
       "      <td>228264</td>\n",
       "      <td>62.7</td>\n",
       "    </tr>\n",
       "    <tr>\n",
       "      <th>CORDOBA</th>\n",
       "      <td>81339</td>\n",
       "      <td>70.1</td>\n",
       "    </tr>\n",
       "    <tr>\n",
       "      <th>SANTA FE</th>\n",
       "      <td>79333</td>\n",
       "      <td>77.2</td>\n",
       "    </tr>\n",
       "    <tr>\n",
       "      <th>MENDOZA</th>\n",
       "      <td>45863</td>\n",
       "      <td>81.3</td>\n",
       "    </tr>\n",
       "    <tr>\n",
       "      <th>TUCUMAN</th>\n",
       "      <td>20601</td>\n",
       "      <td>83.2</td>\n",
       "    </tr>\n",
       "    <tr>\n",
       "      <th>ENTRE RIOS</th>\n",
       "      <td>16835</td>\n",
       "      <td>84.7</td>\n",
       "    </tr>\n",
       "    <tr>\n",
       "      <th>SALTA</th>\n",
       "      <td>16635</td>\n",
       "      <td>86.2</td>\n",
       "    </tr>\n",
       "    <tr>\n",
       "      <th>CHACO</th>\n",
       "      <td>15827</td>\n",
       "      <td>87.6</td>\n",
       "    </tr>\n",
       "    <tr>\n",
       "      <th>CORRIENTES</th>\n",
       "      <td>14388</td>\n",
       "      <td>88.9</td>\n",
       "    </tr>\n",
       "    <tr>\n",
       "      <th>RIO NEGRO</th>\n",
       "      <td>13885</td>\n",
       "      <td>90.1</td>\n",
       "    </tr>\n",
       "    <tr>\n",
       "      <th>MISIONES</th>\n",
       "      <td>13348</td>\n",
       "      <td>91.3</td>\n",
       "    </tr>\n",
       "    <tr>\n",
       "      <th>SAN JUAN</th>\n",
       "      <td>12181</td>\n",
       "      <td>92.4</td>\n",
       "    </tr>\n",
       "    <tr>\n",
       "      <th>CHUBUT</th>\n",
       "      <td>11696</td>\n",
       "      <td>93.5</td>\n",
       "    </tr>\n",
       "    <tr>\n",
       "      <th>NEUQUEN</th>\n",
       "      <td>11574</td>\n",
       "      <td>94.5</td>\n",
       "    </tr>\n",
       "    <tr>\n",
       "      <th>SAN LUIS</th>\n",
       "      <td>10887</td>\n",
       "      <td>95.5</td>\n",
       "    </tr>\n",
       "    <tr>\n",
       "      <th>SANTIAGO DEL ESTERO</th>\n",
       "      <td>9835</td>\n",
       "      <td>96.4</td>\n",
       "    </tr>\n",
       "    <tr>\n",
       "      <th>JUJUY</th>\n",
       "      <td>7900</td>\n",
       "      <td>97.1</td>\n",
       "    </tr>\n",
       "    <tr>\n",
       "      <th>LA PAMPA</th>\n",
       "      <td>7466</td>\n",
       "      <td>97.8</td>\n",
       "    </tr>\n",
       "    <tr>\n",
       "      <th>TIERRA DEL FUEGO</th>\n",
       "      <td>5097</td>\n",
       "      <td>98.2</td>\n",
       "    </tr>\n",
       "    <tr>\n",
       "      <th>LA RIOJA</th>\n",
       "      <td>5034</td>\n",
       "      <td>98.7</td>\n",
       "    </tr>\n",
       "    <tr>\n",
       "      <th>SANTA CRUZ</th>\n",
       "      <td>4999</td>\n",
       "      <td>99.1</td>\n",
       "    </tr>\n",
       "    <tr>\n",
       "      <th>FORMOSA</th>\n",
       "      <td>4880</td>\n",
       "      <td>99.6</td>\n",
       "    </tr>\n",
       "    <tr>\n",
       "      <th>CATAMARCA</th>\n",
       "      <td>4710</td>\n",
       "      <td>100.0</td>\n",
       "    </tr>\n",
       "    <tr>\n",
       "      <th>NaN</th>\n",
       "      <td>0</td>\n",
       "      <td>100.0</td>\n",
       "    </tr>\n",
       "  </tbody>\n",
       "</table>\n",
       "</div>"
      ],
      "text/plain": [
       "                                cuit  cumulative_percentage\n",
       "dom_legal_provincia                                        \n",
       "CIUDAD AUTONOMA BUENOS AIRES  469473                   42.2\n",
       "BUENOS AIRES                  228264                   62.7\n",
       "CORDOBA                        81339                   70.1\n",
       "SANTA FE                       79333                   77.2\n",
       "MENDOZA                        45863                   81.3\n",
       "TUCUMAN                        20601                   83.2\n",
       "ENTRE RIOS                     16835                   84.7\n",
       "SALTA                          16635                   86.2\n",
       "CHACO                          15827                   87.6\n",
       "CORRIENTES                     14388                   88.9\n",
       "RIO NEGRO                      13885                   90.1\n",
       "MISIONES                       13348                   91.3\n",
       "SAN JUAN                       12181                   92.4\n",
       "CHUBUT                         11696                   93.5\n",
       "NEUQUEN                        11574                   94.5\n",
       "SAN LUIS                       10887                   95.5\n",
       "SANTIAGO DEL ESTERO             9835                   96.4\n",
       "JUJUY                           7900                   97.1\n",
       "LA PAMPA                        7466                   97.8\n",
       "TIERRA DEL FUEGO                5097                   98.2\n",
       "LA RIOJA                        5034                   98.7\n",
       "SANTA CRUZ                      4999                   99.1\n",
       "FORMOSA                         4880                   99.6\n",
       "CATAMARCA                       4710                  100.0\n",
       "NaN                                0                  100.0"
      ]
     },
     "execution_count": 36,
     "metadata": {},
     "output_type": "execute_result"
    }
   ],
   "source": [
    "# Assuming 'soc' is your DataFrame\n",
    "result_df = soc[['cuit', 'dom_legal_provincia']].groupby('dom_legal_provincia').count().sort_values(by='cuit', ascending=False)\n",
    "\n",
    "# List of all possible provinces\n",
    "all_provinces = soc.dom_legal_provincia.unique().tolist()\n",
    "\n",
    "# Reindex to include all provinces with counts, filling missing values with 0\n",
    "result_df = result_df.reindex(all_provinces, fill_value=0).sort_values(by='cuit', ascending=False)\n",
    "\n",
    "# Calculate cumulative percentage\n",
    "result_df['cumulative_percentage'] = np.round(result_df['cuit'].cumsum() / result_df['cuit'].sum() * 100,1)\n",
    "\n",
    "# Print the resulting DataFrame\n",
    "result_df"
   ]
  },
  {
   "cell_type": "code",
   "execution_count": 28,
   "id": "d75c5bf2-0834-45c0-84a0-e765181c8f88",
   "metadata": {},
   "outputs": [
    {
     "data": {
      "text/html": [
       "<div>\n",
       "<style scoped>\n",
       "    .dataframe tbody tr th:only-of-type {\n",
       "        vertical-align: middle;\n",
       "    }\n",
       "\n",
       "    .dataframe tbody tr th {\n",
       "        vertical-align: top;\n",
       "    }\n",
       "\n",
       "    .dataframe thead th {\n",
       "        text-align: right;\n",
       "    }\n",
       "</style>\n",
       "<table border=\"1\" class=\"dataframe\">\n",
       "  <thead>\n",
       "    <tr style=\"text-align: right;\">\n",
       "      <th></th>\n",
       "      <th>cuit</th>\n",
       "    </tr>\n",
       "    <tr>\n",
       "      <th>tipo_societario</th>\n",
       "      <th></th>\n",
       "    </tr>\n",
       "  </thead>\n",
       "  <tbody>\n",
       "    <tr>\n",
       "      <th>SOCIEDAD DE RESPONSABILIDAD LIMITADA</th>\n",
       "      <td>420259</td>\n",
       "    </tr>\n",
       "    <tr>\n",
       "      <th>SOCIEDAD ANONIMA</th>\n",
       "      <td>363875</td>\n",
       "    </tr>\n",
       "    <tr>\n",
       "      <th>ASOCIACION CIVIL</th>\n",
       "      <td>114779</td>\n",
       "    </tr>\n",
       "    <tr>\n",
       "      <th>SOCIEDAD POR ACCION SIMPLIFICADA</th>\n",
       "      <td>49655</td>\n",
       "    </tr>\n",
       "    <tr>\n",
       "      <th>COOPERATIVA</th>\n",
       "      <td>37474</td>\n",
       "    </tr>\n",
       "    <tr>\n",
       "      <th>SOCIEDAD LEY 19550 CAPITULO I SECCION IV</th>\n",
       "      <td>25362</td>\n",
       "    </tr>\n",
       "    <tr>\n",
       "      <th>FUNDACION</th>\n",
       "      <td>19263</td>\n",
       "    </tr>\n",
       "    <tr>\n",
       "      <th>ASOCIACION COOPERADORA</th>\n",
       "      <td>9744</td>\n",
       "    </tr>\n",
       "    <tr>\n",
       "      <th>COOPERATIVA EFECTORA</th>\n",
       "      <td>8520</td>\n",
       "    </tr>\n",
       "    <tr>\n",
       "      <th>SOCIEDAD EN COMANDITA POR ACCIONES</th>\n",
       "      <td>6699</td>\n",
       "    </tr>\n",
       "    <tr>\n",
       "      <th>SOCIEDAD EN COMANDITA SIMPLE</th>\n",
       "      <td>5849</td>\n",
       "    </tr>\n",
       "    <tr>\n",
       "      <th>SOCIEDAD COLECTIVA</th>\n",
       "      <td>5797</td>\n",
       "    </tr>\n",
       "    <tr>\n",
       "      <th>SOCIEDAD EXTRANJERA</th>\n",
       "      <td>5616</td>\n",
       "    </tr>\n",
       "    <tr>\n",
       "      <th>SUCURSAL EMPRESA EXTRANJERA</th>\n",
       "      <td>5412</td>\n",
       "    </tr>\n",
       "    <tr>\n",
       "      <th>ASOCIACION MUTUAL</th>\n",
       "      <td>4019</td>\n",
       "    </tr>\n",
       "    <tr>\n",
       "      <th>SIMPLE ASOCIACION</th>\n",
       "      <td>1911</td>\n",
       "    </tr>\n",
       "    <tr>\n",
       "      <th>SOCIEDAD ANONIMA UNIPERSONAL</th>\n",
       "      <td>876</td>\n",
       "    </tr>\n",
       "    <tr>\n",
       "      <th>INSTITUTO DE VIDA CONSAGRADA</th>\n",
       "      <td>763</td>\n",
       "    </tr>\n",
       "    <tr>\n",
       "      <th>SOCIEDAD DEL ESTADO</th>\n",
       "      <td>363</td>\n",
       "    </tr>\n",
       "    <tr>\n",
       "      <th>CAPITAL E INDUSTRIA</th>\n",
       "      <td>303</td>\n",
       "    </tr>\n",
       "    <tr>\n",
       "      <th>SOCIEDAD ANONIMA CON PARTICIPACION ESTATAL MAYORITARIA</th>\n",
       "      <td>108</td>\n",
       "    </tr>\n",
       "    <tr>\n",
       "      <th>GARANTIA RECIPROCA</th>\n",
       "      <td>70</td>\n",
       "    </tr>\n",
       "    <tr>\n",
       "      <th>ASOCIACION CIVIL EXTRANJERA</th>\n",
       "      <td>57</td>\n",
       "    </tr>\n",
       "    <tr>\n",
       "      <th>ECONOMIA MIXTA</th>\n",
       "      <td>51</td>\n",
       "    </tr>\n",
       "    <tr>\n",
       "      <th>SOCIEDAD BINACIONAL FUERA DE JURISDICCION</th>\n",
       "      <td>11</td>\n",
       "    </tr>\n",
       "  </tbody>\n",
       "</table>\n",
       "</div>"
      ],
      "text/plain": [
       "                                                      cuit\n",
       "tipo_societario                                           \n",
       "SOCIEDAD DE RESPONSABILIDAD LIMITADA                420259\n",
       "SOCIEDAD ANONIMA                                    363875\n",
       "ASOCIACION CIVIL                                    114779\n",
       "SOCIEDAD POR ACCION SIMPLIFICADA                     49655\n",
       "COOPERATIVA                                          37474\n",
       "SOCIEDAD LEY 19550 CAPITULO I SECCION IV             25362\n",
       "FUNDACION                                            19263\n",
       "ASOCIACION COOPERADORA                                9744\n",
       "COOPERATIVA EFECTORA                                  8520\n",
       "SOCIEDAD EN COMANDITA POR ACCIONES                    6699\n",
       "SOCIEDAD EN COMANDITA SIMPLE                          5849\n",
       "SOCIEDAD COLECTIVA                                    5797\n",
       "SOCIEDAD EXTRANJERA                                   5616\n",
       "SUCURSAL EMPRESA EXTRANJERA                           5412\n",
       "ASOCIACION MUTUAL                                     4019\n",
       "SIMPLE ASOCIACION                                     1911\n",
       "SOCIEDAD ANONIMA UNIPERSONAL                           876\n",
       "INSTITUTO DE VIDA CONSAGRADA                           763\n",
       "SOCIEDAD DEL ESTADO                                    363\n",
       "CAPITAL E INDUSTRIA                                    303\n",
       "SOCIEDAD ANONIMA CON PARTICIPACION ESTATAL MAYO...     108\n",
       "GARANTIA RECIPROCA                                      70\n",
       "ASOCIACION CIVIL EXTRANJERA                             57\n",
       "ECONOMIA MIXTA                                          51\n",
       "SOCIEDAD BINACIONAL FUERA DE JURISDICCION               11"
      ]
     },
     "execution_count": 28,
     "metadata": {},
     "output_type": "execute_result"
    }
   ],
   "source": [
    "soc[['cuit','tipo_societario']].groupby('tipo_societario').count().sort_values(by='cuit',ascending=False)"
   ]
  },
  {
   "cell_type": "code",
   "execution_count": 19,
   "id": "3970247c-7eac-4cf7-94a3-013dd7d9f07d",
   "metadata": {},
   "outputs": [
    {
     "data": {
      "text/plain": [
       "Index(['cuit', 'razon_social', 'fecha_hora_contrato_social', 'tipo_societario',\n",
       "       'fecha_hora_actualizacion', 'numero_inscripcion',\n",
       "       'dom_fiscal_provincia', 'dom_fiscal_localidad', 'dom_fiscal_calle',\n",
       "       'dom_fiscal_numero', 'dom_fiscal_piso', 'dom_fiscal_departamento',\n",
       "       'dom_fiscal_cp', 'dom_fiscal_estado_domicilio', 'dom_legal_provincia',\n",
       "       'dom_legal_localidad', 'dom_legal_calle', 'dom_legal_numero',\n",
       "       'dom_legal_piso', 'dom_legal_departamento', 'dom_legal_cp',\n",
       "       'dom_legal_estado_domicilio'],\n",
       "      dtype='object')"
      ]
     },
     "execution_count": 19,
     "metadata": {},
     "output_type": "execute_result"
    }
   ],
   "source": [
    "soc.columns"
   ]
  },
  {
   "cell_type": "code",
   "execution_count": 18,
   "id": "f05877db-dfdb-4639-b785-23597b1bf77f",
   "metadata": {},
   "outputs": [
    {
     "data": {
      "text/html": [
       "<div>\n",
       "<style scoped>\n",
       "    .dataframe tbody tr th:only-of-type {\n",
       "        vertical-align: middle;\n",
       "    }\n",
       "\n",
       "    .dataframe tbody tr th {\n",
       "        vertical-align: top;\n",
       "    }\n",
       "\n",
       "    .dataframe thead th {\n",
       "        text-align: right;\n",
       "    }\n",
       "</style>\n",
       "<table border=\"1\" class=\"dataframe\">\n",
       "  <thead>\n",
       "    <tr style=\"text-align: right;\">\n",
       "      <th></th>\n",
       "      <th>cuit</th>\n",
       "      <th>razon_social</th>\n",
       "      <th>fecha_hora_contrato_social</th>\n",
       "      <th>tipo_societario</th>\n",
       "      <th>fecha_hora_actualizacion</th>\n",
       "      <th>numero_inscripcion</th>\n",
       "      <th>dom_fiscal_provincia</th>\n",
       "      <th>dom_fiscal_localidad</th>\n",
       "      <th>dom_fiscal_calle</th>\n",
       "      <th>dom_fiscal_numero</th>\n",
       "      <th>...</th>\n",
       "      <th>dom_fiscal_cp</th>\n",
       "      <th>dom_fiscal_estado_domicilio</th>\n",
       "      <th>dom_legal_provincia</th>\n",
       "      <th>dom_legal_localidad</th>\n",
       "      <th>dom_legal_calle</th>\n",
       "      <th>dom_legal_numero</th>\n",
       "      <th>dom_legal_piso</th>\n",
       "      <th>dom_legal_departamento</th>\n",
       "      <th>dom_legal_cp</th>\n",
       "      <th>dom_legal_estado_domicilio</th>\n",
       "    </tr>\n",
       "  </thead>\n",
       "  <tbody>\n",
       "    <tr>\n",
       "      <th>0</th>\n",
       "      <td>3.050000e+10</td>\n",
       "      <td>SEGUROS SURA S.A</td>\n",
       "      <td>1912-04-30-10:43</td>\n",
       "      <td>SOCIEDAD ANONIMA</td>\n",
       "      <td>2022-10-24-10:37</td>\n",
       "      <td>NaN</td>\n",
       "      <td>CIUDAD AUTONOMA BUENOS AIRES</td>\n",
       "      <td>CAPITAL FEDERAL</td>\n",
       "      <td>GRIERSON,CECILIA BOULEVARD</td>\n",
       "      <td>255.0</td>\n",
       "      <td>...</td>\n",
       "      <td>1107.0</td>\n",
       "      <td>CONFIRMADO</td>\n",
       "      <td>CIUDAD AUTONOMA BUENOS AIRES</td>\n",
       "      <td>CAPITAL FEDERAL</td>\n",
       "      <td>GRIERSON,CECILIA BOULEVARD</td>\n",
       "      <td>255.0</td>\n",
       "      <td>1</td>\n",
       "      <td>NaN</td>\n",
       "      <td>1107.0</td>\n",
       "      <td>DECLARADO</td>\n",
       "    </tr>\n",
       "    <tr>\n",
       "      <th>1</th>\n",
       "      <td>3.050000e+10</td>\n",
       "      <td>BANCO COMERCIAL DE TRES ARROYOS S A</td>\n",
       "      <td>1906-09-01-00:00</td>\n",
       "      <td>SOCIEDAD ANONIMA</td>\n",
       "      <td>2022-06-14-18:59</td>\n",
       "      <td>NaN</td>\n",
       "      <td>BUENOS AIRES</td>\n",
       "      <td>TRES ARROYOS</td>\n",
       "      <td>BETOLAZA</td>\n",
       "      <td>189.0</td>\n",
       "      <td>...</td>\n",
       "      <td>7500.0</td>\n",
       "      <td>INEXISTENTE - DESCONOCIDO</td>\n",
       "      <td>BUENOS AIRES</td>\n",
       "      <td>TRES ARROYOS</td>\n",
       "      <td>AV MORENO</td>\n",
       "      <td>300.0</td>\n",
       "      <td>NaN</td>\n",
       "      <td>NaN</td>\n",
       "      <td>7500.0</td>\n",
       "      <td>NO CONFIRMADO</td>\n",
       "    </tr>\n",
       "    <tr>\n",
       "      <th>2</th>\n",
       "      <td>3.050000e+10</td>\n",
       "      <td>BANCO COMERCIAL DEL TANDIL S A</td>\n",
       "      <td>1964-03-21-00:00</td>\n",
       "      <td>SOCIEDAD ANONIMA</td>\n",
       "      <td>2022-09-24-13:02</td>\n",
       "      <td>NaN</td>\n",
       "      <td>BUENOS AIRES</td>\n",
       "      <td>TANDIL</td>\n",
       "      <td>GRAL PINTO</td>\n",
       "      <td>602.0</td>\n",
       "      <td>...</td>\n",
       "      <td>7000.0</td>\n",
       "      <td>DECLARADO</td>\n",
       "      <td>BUENOS AIRES</td>\n",
       "      <td>TANDIL</td>\n",
       "      <td>GRAL PINTO</td>\n",
       "      <td>602.0</td>\n",
       "      <td>NaN</td>\n",
       "      <td>NaN</td>\n",
       "      <td>7000.0</td>\n",
       "      <td>NO CONFIRMADO</td>\n",
       "    </tr>\n",
       "    <tr>\n",
       "      <th>3</th>\n",
       "      <td>3.050000e+10</td>\n",
       "      <td>BOSTON COMPAÑIA ARGENTINA DE SEGUROS S A</td>\n",
       "      <td>1925-02-19-11:00</td>\n",
       "      <td>SOCIEDAD ANONIMA</td>\n",
       "      <td>2022-11-15-13:14</td>\n",
       "      <td>NaN</td>\n",
       "      <td>CIUDAD AUTONOMA BUENOS AIRES</td>\n",
       "      <td>CAPITAL FEDERAL</td>\n",
       "      <td>SUIPACHA</td>\n",
       "      <td>268.0</td>\n",
       "      <td>...</td>\n",
       "      <td>1008.0</td>\n",
       "      <td>CONFIRMADO</td>\n",
       "      <td>CIUDAD AUTONOMA BUENOS AIRES</td>\n",
       "      <td>CAPITAL FEDERAL</td>\n",
       "      <td>SUIPACHA</td>\n",
       "      <td>268.0</td>\n",
       "      <td>03</td>\n",
       "      <td>NaN</td>\n",
       "      <td>1008.0</td>\n",
       "      <td>DECLARADO</td>\n",
       "    </tr>\n",
       "    <tr>\n",
       "      <th>4</th>\n",
       "      <td>3.050000e+10</td>\n",
       "      <td>BANCO DE CREDITO COMERCIAL</td>\n",
       "      <td>1913-03-10-00:00</td>\n",
       "      <td>SOCIEDAD ANONIMA</td>\n",
       "      <td>2022-06-14-18:59</td>\n",
       "      <td>NaN</td>\n",
       "      <td>SANTA FE</td>\n",
       "      <td>SANTA FE</td>\n",
       "      <td>SAN MARTIN</td>\n",
       "      <td>2498.0</td>\n",
       "      <td>...</td>\n",
       "      <td>3000.0</td>\n",
       "      <td>INEXISTENTE - DESCONOCIDO</td>\n",
       "      <td>SANTA FE</td>\n",
       "      <td>SANTA FE</td>\n",
       "      <td>SAN MARTIN</td>\n",
       "      <td>2498.0</td>\n",
       "      <td>NaN</td>\n",
       "      <td>NaN</td>\n",
       "      <td>3000.0</td>\n",
       "      <td>NO CONFIRMADO</td>\n",
       "    </tr>\n",
       "  </tbody>\n",
       "</table>\n",
       "<p>5 rows × 22 columns</p>\n",
       "</div>"
      ],
      "text/plain": [
       "           cuit                              razon_social  \\\n",
       "0  3.050000e+10                          SEGUROS SURA S.A   \n",
       "1  3.050000e+10       BANCO COMERCIAL DE TRES ARROYOS S A   \n",
       "2  3.050000e+10            BANCO COMERCIAL DEL TANDIL S A   \n",
       "3  3.050000e+10  BOSTON COMPAÑIA ARGENTINA DE SEGUROS S A   \n",
       "4  3.050000e+10                BANCO DE CREDITO COMERCIAL   \n",
       "\n",
       "  fecha_hora_contrato_social   tipo_societario fecha_hora_actualizacion  \\\n",
       "0           1912-04-30-10:43  SOCIEDAD ANONIMA         2022-10-24-10:37   \n",
       "1           1906-09-01-00:00  SOCIEDAD ANONIMA         2022-06-14-18:59   \n",
       "2           1964-03-21-00:00  SOCIEDAD ANONIMA         2022-09-24-13:02   \n",
       "3           1925-02-19-11:00  SOCIEDAD ANONIMA         2022-11-15-13:14   \n",
       "4           1913-03-10-00:00  SOCIEDAD ANONIMA         2022-06-14-18:59   \n",
       "\n",
       "   numero_inscripcion          dom_fiscal_provincia dom_fiscal_localidad  \\\n",
       "0                 NaN  CIUDAD AUTONOMA BUENOS AIRES      CAPITAL FEDERAL   \n",
       "1                 NaN                  BUENOS AIRES         TRES ARROYOS   \n",
       "2                 NaN                  BUENOS AIRES               TANDIL   \n",
       "3                 NaN  CIUDAD AUTONOMA BUENOS AIRES      CAPITAL FEDERAL   \n",
       "4                 NaN                      SANTA FE             SANTA FE   \n",
       "\n",
       "             dom_fiscal_calle  dom_fiscal_numero  ... dom_fiscal_cp  \\\n",
       "0  GRIERSON,CECILIA BOULEVARD              255.0  ...        1107.0   \n",
       "1                    BETOLAZA              189.0  ...        7500.0   \n",
       "2                  GRAL PINTO              602.0  ...        7000.0   \n",
       "3                    SUIPACHA              268.0  ...        1008.0   \n",
       "4                  SAN MARTIN             2498.0  ...        3000.0   \n",
       "\n",
       "  dom_fiscal_estado_domicilio           dom_legal_provincia  \\\n",
       "0                  CONFIRMADO  CIUDAD AUTONOMA BUENOS AIRES   \n",
       "1   INEXISTENTE - DESCONOCIDO                  BUENOS AIRES   \n",
       "2                   DECLARADO                  BUENOS AIRES   \n",
       "3                  CONFIRMADO  CIUDAD AUTONOMA BUENOS AIRES   \n",
       "4   INEXISTENTE - DESCONOCIDO                      SANTA FE   \n",
       "\n",
       "  dom_legal_localidad             dom_legal_calle dom_legal_numero  \\\n",
       "0     CAPITAL FEDERAL  GRIERSON,CECILIA BOULEVARD            255.0   \n",
       "1        TRES ARROYOS                   AV MORENO            300.0   \n",
       "2              TANDIL                  GRAL PINTO            602.0   \n",
       "3     CAPITAL FEDERAL                    SUIPACHA            268.0   \n",
       "4            SANTA FE                  SAN MARTIN           2498.0   \n",
       "\n",
       "  dom_legal_piso  dom_legal_departamento dom_legal_cp  \\\n",
       "0              1                     NaN       1107.0   \n",
       "1            NaN                     NaN       7500.0   \n",
       "2            NaN                     NaN       7000.0   \n",
       "3             03                     NaN       1008.0   \n",
       "4            NaN                     NaN       3000.0   \n",
       "\n",
       "  dom_legal_estado_domicilio  \n",
       "0                  DECLARADO  \n",
       "1              NO CONFIRMADO  \n",
       "2              NO CONFIRMADO  \n",
       "3                  DECLARADO  \n",
       "4              NO CONFIRMADO  \n",
       "\n",
       "[5 rows x 22 columns]"
      ]
     },
     "execution_count": 18,
     "metadata": {},
     "output_type": "execute_result"
    }
   ],
   "source": [
    "soc.head()"
   ]
  }
 ],
 "metadata": {
  "kernelspec": {
   "display_name": "Python 3 (ipykernel)",
   "language": "python",
   "name": "python3"
  },
  "language_info": {
   "codemirror_mode": {
    "name": "ipython",
    "version": 3
   },
   "file_extension": ".py",
   "mimetype": "text/x-python",
   "name": "python",
   "nbconvert_exporter": "python",
   "pygments_lexer": "ipython3",
   "version": "3.8.19"
  }
 },
 "nbformat": 4,
 "nbformat_minor": 5
}
