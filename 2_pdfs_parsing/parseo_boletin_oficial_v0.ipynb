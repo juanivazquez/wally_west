{
 "cells": [
  {
   "cell_type": "markdown",
   "id": "a531a10b-68f5-40a7-8b74-5b936d377b38",
   "metadata": {},
   "source": [
    "# SETTINGS"
   ]
  },
  {
   "cell_type": "markdown",
   "id": "f31a0c50-b97b-4d4c-b754-eff7fcc9cf22",
   "metadata": {},
   "source": [
    "## Libraries"
   ]
  },
  {
   "cell_type": "code",
   "execution_count": 1,
   "id": "8e6bc6b5-34be-41c6-8ffe-43921fb06e33",
   "metadata": {},
   "outputs": [
    {
     "data": {
      "text/plain": [
       "'C:\\\\Users\\\\juani\\\\Documents\\\\3_My_Jupiter_Notebooks\\\\5_Galicia\\\\7_boletines'"
      ]
     },
     "execution_count": 1,
     "metadata": {},
     "output_type": "execute_result"
    }
   ],
   "source": [
    "\n",
    "import fitz\n",
    "import os\n",
    "import shutil\n",
    "import re\n",
    "import pandas as pd\n",
    "import numpy as np\n",
    "os.getcwd()"
   ]
  },
  {
   "cell_type": "markdown",
   "id": "4d4bffd4-f72d-4dfa-aa08-e539b94c1bc3",
   "metadata": {},
   "source": [
    "## Loading Files"
   ]
  },
  {
   "cell_type": "code",
   "execution_count": 61,
   "id": "3b606101-96b8-4f40-a6f2-9d3a161212a4",
   "metadata": {},
   "outputs": [],
   "source": [
    "#levantamos el documento\n",
    "my_path = r'data/seccion_segunda_20230719.pdf'\n",
    "doc = fitz.open(my_path)"
   ]
  },
  {
   "cell_type": "code",
   "execution_count": 62,
   "id": "5fbcdc8c-a916-4946-852e-2c3c4fa2e3c3",
   "metadata": {},
   "outputs": [],
   "source": [
    "# juntamos las páginas:\n",
    "text = ''\n",
    "for n,page in enumerate(doc):\n",
    "    if n >1:\n",
    "        text += page.get_text()"
   ]
  },
  {
   "cell_type": "markdown",
   "id": "316993d7-c75c-4ed3-ac83-47b9fbf22cde",
   "metadata": {},
   "source": [
    "## Preprocessing"
   ]
  },
  {
   "cell_type": "code",
   "execution_count": null,
   "id": "e859a032-2f6c-419c-8876-c4a24ee87363",
   "metadata": {},
   "outputs": [],
   "source": [
    "def prepro(text):\n",
    "    ''' \n",
    "    Función de preprocesamiento.\n",
    "    '''\n",
    "    pattern = r'BOLETÍN OFICIAL Nº.*?de \\d{4}'\n",
    "    matches = re.findall(pattern, text, re.DOTALL)\n",
    "    # eliminamos las cabeceras con fecha y numero de boletín:\n",
    "    for match in matches:\n",
    "        text = text.replace(match, '')\n",
    "    # Eliminamos los #F6917090F#\n",
    "    pattern = r'#[IF]\\d+I#|#[IF]\\d+F#\\n'\n",
    "    text = re.sub(pattern, '', text)\n",
    "    return text"
   ]
  },
  {
   "cell_type": "code",
   "execution_count": 89,
   "id": "c122af7d-b3ec-472d-bb6f-8fc11f586c04",
   "metadata": {},
   "outputs": [
    {
     "data": {
      "text/plain": [
       "(82,\n",
       " 'BOLETÍN OFICIAL Nº 35.214 - Segunda Sección \\n3 \\nMiércoles 19 de julio de 2023')"
      ]
     },
     "execution_count": 89,
     "metadata": {},
     "output_type": "execute_result"
    }
   ],
   "source": [
    "# eliminamos el zócalo de\n",
    "pattern = r'BOLETÍN OFICIAL Nº.*?de \\d{4}'\n",
    "matches = re.findall(pattern, text, re.DOTALL)\n",
    "len(matches) , matches[0]"
   ]
  },
  {
   "cell_type": "code",
   "execution_count": 90,
   "id": "7d8733e6-7040-4f8b-bda0-bd0835ed8d09",
   "metadata": {},
   "outputs": [],
   "source": [
    "# Remove the matches from the original text\n",
    "for match in matches:\n",
    "    text = text.replace(match, '')\n",
    "    \n",
    "# Eliminamos los #F6917090F#\n",
    "pattern = r'#[IF]\\d+I#|#[IF]\\d+F#\\n'\n",
    "text = re.sub(pattern, '', text)"
   ]
  },
  {
   "cell_type": "markdown",
   "id": "e3cdf3dc-0458-4e10-a9fb-56caaf7c027b",
   "metadata": {},
   "source": [
    "----"
   ]
  },
  {
   "cell_type": "code",
   "execution_count": 91,
   "id": "b999e5c8-a9be-48dd-aff1-aa87791a530e",
   "metadata": {},
   "outputs": [
    {
     "data": {
      "text/plain": [
       "5"
      ]
     },
     "execution_count": 91,
     "metadata": {},
     "output_type": "execute_result"
    }
   ],
   "source": [
    "# separamos los títulos\n",
    "\n",
    "def split_by_chapter(text):\n",
    "    headers = ['CONTRATOS SOBRE PERSONAS JURÍDICAS', 'CONVOCATORIAS Y AVISOS COMERCIALES', 'EDICTOS JUDICIALES']\n",
    "    pattern = '|'.join(re.escape(header) for header in headers)\n",
    "    chapters = re.split(pattern, text)\n",
    "\n",
    "    # Remove empty strings from the result\n",
    "    chapters = [chapter.strip() for chapter in chapters if chapter.strip()]\n",
    "\n",
    "    return chapters\n",
    "\n",
    "\n",
    "chapters = split_by_chapter(text)\n",
    "len(chapters)"
   ]
  },
  {
   "cell_type": "code",
   "execution_count": 99,
   "id": "1f3660a1-a57b-4395-898c-2ef88da5d49b",
   "metadata": {},
   "outputs": [
    {
     "data": {
      "text/plain": [
       "['CONTRATOS SOBRE PERSONAS JURÍDICAS',\n",
       " 'CONVOCATORIAS Y AVISOS COMERCIALES',\n",
       " 'EDICTOS JUDICIALES',\n",
       " 'CONVOCATORIAS Y AVISOS COMERCIALES',\n",
       " 'EDICTOS JUDICIALES']"
      ]
     },
     "execution_count": 99,
     "metadata": {},
     "output_type": "execute_result"
    }
   ],
   "source": [
    "# obtenemos los nombres de los separadores:\n",
    "headers = ['CONTRATOS SOBRE PERSONAS JURÍDICAS', 'CONVOCATORIAS Y AVISOS COMERCIALES', 'EDICTOS JUDICIALES']\n",
    "pattern = '|'.join(re.escape(header) for header in headers)\n",
    "chapter_name = re.findall(pattern, text)\n",
    "chapter_name"
   ]
  },
  {
   "cell_type": "markdown",
   "id": "1f6d60da-272b-4c92-b761-64625cc9ef10",
   "metadata": {},
   "source": [
    "# Creamos el DataFrame"
   ]
  },
  {
   "cell_type": "code",
   "execution_count": 129,
   "id": "a6f83eec-a119-45fe-add4-f905e781845e",
   "metadata": {},
   "outputs": [],
   "source": [
    "separator_regex = r'e\\.\\s\\d{2}/\\d{2}/\\d{4}\\sN°\\s\\d+/\\d+\\sv\\.\\s\\d{2}/\\d{2}/\\d{4}'\n",
    "sep_col = []\n",
    "ch_col = []\n",
    "part_col = []\n",
    "\n",
    "for n,chapter in enumerate(chapters):    \n",
    "    separators = re.findall(separator_regex, chapter)\n",
    "    parts = re.split(separator_regex, chapter)\n",
    "    parts = [l for l in parts if bool(l)]\n",
    "    if len(parts)==len(separators):\n",
    "        sep_col.extend(separators)\n",
    "        part_col.extend(parts)\n",
    "        ch_n = [chapter_name[n] for m in range(len(parts))]\n",
    "        ch_col.extend(ch_n)\n",
    "        "
   ]
  },
  {
   "cell_type": "code",
   "execution_count": 132,
   "id": "f105d054-8aa3-43b6-a85d-2dddcd715aa8",
   "metadata": {},
   "outputs": [
    {
     "data": {
      "text/html": [
       "<div>\n",
       "<style scoped>\n",
       "    .dataframe tbody tr th:only-of-type {\n",
       "        vertical-align: middle;\n",
       "    }\n",
       "\n",
       "    .dataframe tbody tr th {\n",
       "        vertical-align: top;\n",
       "    }\n",
       "\n",
       "    .dataframe thead th {\n",
       "        text-align: right;\n",
       "    }\n",
       "</style>\n",
       "<table border=\"1\" class=\"dataframe\">\n",
       "  <thead>\n",
       "    <tr style=\"text-align: right;\">\n",
       "      <th></th>\n",
       "      <th>chapter</th>\n",
       "      <th>escrito</th>\n",
       "      <th>texto</th>\n",
       "    </tr>\n",
       "  </thead>\n",
       "  <tbody>\n",
       "    <tr>\n",
       "      <th>0</th>\n",
       "      <td>CONTRATOS SOBRE PERSONAS JURÍDICAS</td>\n",
       "      <td>e. 19/07/2023 N° 55783/23 v. 19/07/2023</td>\n",
       "      <td>SOCIEDADES ANÓNIMAS\\nACEGO S.A.\\nEscritura Nº ...</td>\n",
       "    </tr>\n",
       "    <tr>\n",
       "      <th>1</th>\n",
       "      <td>CONTRATOS SOBRE PERSONAS JURÍDICAS</td>\n",
       "      <td>e. 19/07/2023 N° 55773/23 v. 19/07/2023</td>\n",
       "      <td>\\nAGROQUIM NORTE S.A.\\nEsc 52 del 03/07/2023 F...</td>\n",
       "    </tr>\n",
       "    <tr>\n",
       "      <th>2</th>\n",
       "      <td>CONTRATOS SOBRE PERSONAS JURÍDICAS</td>\n",
       "      <td>e. 19/07/2023 N° 55779/23 v. 19/07/2023</td>\n",
       "      <td>\\n\\n\\n \\nALCARI S.A.\\nNúmero Correlativo 1.707...</td>\n",
       "    </tr>\n",
       "    <tr>\n",
       "      <th>3</th>\n",
       "      <td>CONTRATOS SOBRE PERSONAS JURÍDICAS</td>\n",
       "      <td>e. 19/07/2023 N° 55528/23 v. 19/07/2023</td>\n",
       "      <td>\\nB2FI S.A.\\n1) 17/07/2023. 2) Francisco LEVIS...</td>\n",
       "    </tr>\n",
       "    <tr>\n",
       "      <th>4</th>\n",
       "      <td>CONTRATOS SOBRE PERSONAS JURÍDICAS</td>\n",
       "      <td>e. 19/07/2023 N° 55539/23 v. 19/07/2023</td>\n",
       "      <td>\\nCMIX ARGENTINA S.A.\\nCUIT: 30-71088679-9.Com...</td>\n",
       "    </tr>\n",
       "  </tbody>\n",
       "</table>\n",
       "</div>"
      ],
      "text/plain": [
       "                              chapter   \n",
       "0  CONTRATOS SOBRE PERSONAS JURÍDICAS  \\\n",
       "1  CONTRATOS SOBRE PERSONAS JURÍDICAS   \n",
       "2  CONTRATOS SOBRE PERSONAS JURÍDICAS   \n",
       "3  CONTRATOS SOBRE PERSONAS JURÍDICAS   \n",
       "4  CONTRATOS SOBRE PERSONAS JURÍDICAS   \n",
       "\n",
       "                                   escrito   \n",
       "0  e. 19/07/2023 N° 55783/23 v. 19/07/2023  \\\n",
       "1  e. 19/07/2023 N° 55773/23 v. 19/07/2023   \n",
       "2  e. 19/07/2023 N° 55779/23 v. 19/07/2023   \n",
       "3  e. 19/07/2023 N° 55528/23 v. 19/07/2023   \n",
       "4  e. 19/07/2023 N° 55539/23 v. 19/07/2023   \n",
       "\n",
       "                                               texto  \n",
       "0  SOCIEDADES ANÓNIMAS\\nACEGO S.A.\\nEscritura Nº ...  \n",
       "1  \\nAGROQUIM NORTE S.A.\\nEsc 52 del 03/07/2023 F...  \n",
       "2  \\n\\n\\n \\nALCARI S.A.\\nNúmero Correlativo 1.707...  \n",
       "3  \\nB2FI S.A.\\n1) 17/07/2023. 2) Francisco LEVIS...  \n",
       "4  \\nCMIX ARGENTINA S.A.\\nCUIT: 30-71088679-9.Com...  "
      ]
     },
     "execution_count": 132,
     "metadata": {},
     "output_type": "execute_result"
    }
   ],
   "source": [
    "df = pd.DataFrame({'chapter':ch_col,'escrito':sep_col,'texto':part_col,})\n",
    "df.head()"
   ]
  },
  {
   "cell_type": "code",
   "execution_count": 175,
   "id": "9334045b-3900-4747-8fc2-eaad0ef6ed63",
   "metadata": {},
   "outputs": [
    {
     "data": {
      "text/plain": [
       "'C:\\\\Users\\\\juani\\\\Documents\\\\3_My_Jupiter_Notebooks\\\\5_Galicia\\\\7_boletines'"
      ]
     },
     "execution_count": 175,
     "metadata": {},
     "output_type": "execute_result"
    }
   ],
   "source": [
    "os.getcwd()"
   ]
  },
  {
   "cell_type": "markdown",
   "id": "a93d9566-7499-4f73-bc42-6d6c0220cd84",
   "metadata": {},
   "source": [
    "# FUNCION QUE RESUME EL TRABAJO ANTERIOR"
   ]
  },
  {
   "cell_type": "code",
   "execution_count": 87,
   "id": "e0d9c737-6f94-4a2e-ae09-33acd4b896b7",
   "metadata": {},
   "outputs": [],
   "source": [
    "#levantamos el documento\n",
    "my_path = r'data/seccion_segunda_20230719.pdf'\n",
    "doc = fitz.open(my_path)"
   ]
  },
  {
   "cell_type": "code",
   "execution_count": 2,
   "id": "c88ca94b-2016-43e0-bdd5-a65304a42815",
   "metadata": {},
   "outputs": [],
   "source": [
    "# separamos los títulos\n",
    "def split_by_chapter(text):\n",
    "    headers = ['CONTRATOS SOBRE PERSONAS JURÍDICAS', 'CONVOCATORIAS Y AVISOS COMERCIALES', 'EDICTOS JUDICIALES']\n",
    "    pattern = '|'.join(re.escape(header) for header in headers)\n",
    "    chapters = re.split(pattern, text)\n",
    "\n",
    "    # Remove empty strings from the result\n",
    "    chapters = [chapter.strip() for chapter in chapters if chapter.strip()]\n",
    "\n",
    "    return chapters\n",
    "\n",
    "\n",
    "def parsear(doc):\n",
    "    '''\n",
    "    Parsea un pdf levantado con fitz\n",
    "    '''\n",
    "    \n",
    "    # PREPROCESAMIENTO:\n",
    "    \n",
    "    text = ''\n",
    "    for n,page in enumerate(doc):\n",
    "        if n >1:\n",
    "            text += page.get_text()\n",
    "            \n",
    "    # Eliminamos los #F6917090F#\n",
    "    pattern = r'#[IF]\\d+I#|#[IF]\\d+F#\\n'\n",
    "    text = re.sub(pattern, '', text)\n",
    "    \n",
    "    pattern = r'BOLETÍN OFICIAL Nº.*?de \\d{4}'\n",
    "    matches = re.findall(pattern, text, re.DOTALL)\n",
    "    # Remove the matches from the original text\n",
    "    for match in matches:\n",
    "        text = text.replace(match, '')\n",
    "     \n",
    "    # partimos en chapters:\n",
    "    chapters = split_by_chapter(text)\n",
    "    #print(f\"# chapters: {len(chapters)}\")\n",
    "    \n",
    "    # obtenemos los nombres de los separadores:\n",
    "    headers = ['CONTRATOS SOBRE PERSONAS JURÍDICAS', 'CONVOCATORIAS Y AVISOS COMERCIALES', 'EDICTOS JUDICIALES']\n",
    "    pattern = '|'.join(re.escape(header) for header in headers)\n",
    "    chapter_name = re.findall(pattern, text)\n",
    "    \n",
    "    \n",
    "    separator_regex = r'e\\.\\s\\d{2}/\\d{2}/\\d{4}\\sN°\\s\\d+/\\d+\\sv\\.\\s\\d{2}/\\d{2}/\\d{4}'\n",
    "    sep_col = []\n",
    "    ch_col = []\n",
    "    part_col = []\n",
    "\n",
    "    for n,chapter in enumerate(chapters):    \n",
    "        separators = re.findall(separator_regex, chapter)\n",
    "        parts = re.split(separator_regex, chapter)\n",
    "        parts = [l for l in parts if bool(l)]\n",
    "        if len(parts)==len(separators):\n",
    "            sep_col.extend(separators)\n",
    "            part_col.extend(parts)\n",
    "            ch_n = [chapter_name[n] for m in range(len(parts))]\n",
    "            ch_col.extend(ch_n)\n",
    "            \n",
    "    temp = pd.DataFrame({'chapter':ch_col,'escrito':sep_col,'texto':part_col})\n",
    "    return temp"
   ]
  },
  {
   "cell_type": "code",
   "execution_count": 3,
   "id": "26f3c595-00cd-4d40-91c9-956e78f6aab5",
   "metadata": {},
   "outputs": [
    {
     "ename": "NameError",
     "evalue": "name 'sel_bol_23' is not defined",
     "output_type": "error",
     "traceback": [
      "\u001b[1;31m---------------------------------------------------------------------------\u001b[0m",
      "\u001b[1;31mNameError\u001b[0m                                 Traceback (most recent call last)",
      "Cell \u001b[1;32mIn[3], line 1\u001b[0m\n\u001b[1;32m----> 1\u001b[0m \u001b[38;5;28;01mfor\u001b[39;00m file \u001b[38;5;129;01min\u001b[39;00m \u001b[43msel_bol_23\u001b[49m[\u001b[38;5;241m0\u001b[39m:\u001b[38;5;241m1\u001b[39m]:\n\u001b[0;32m      2\u001b[0m     doc \u001b[38;5;241m=\u001b[39m fitz\u001b[38;5;241m.\u001b[39mopen(\u001b[38;5;124mf\u001b[39m\u001b[38;5;124m'\u001b[39m\u001b[38;5;124mdata\u001b[39m\u001b[38;5;130;01m\\\\\u001b[39;00m\u001b[38;5;132;01m{\u001b[39;00mfile\u001b[38;5;132;01m}\u001b[39;00m\u001b[38;5;124m'\u001b[39m)\n\u001b[0;32m      3\u001b[0m     temp \u001b[38;5;241m=\u001b[39m parsear(doc)\n",
      "\u001b[1;31mNameError\u001b[0m: name 'sel_bol_23' is not defined"
     ]
    }
   ],
   "source": [
    "for file in sel_bol_23[0:1]:\n",
    "    doc = fitz.open(f'data\\\\{file}')\n",
    "    temp = parsear(doc)"
   ]
  },
  {
   "cell_type": "code",
   "execution_count": 28,
   "id": "7c2f0c74-dd0d-4870-92ed-231bd9ee239c",
   "metadata": {},
   "outputs": [],
   "source": [
    "def split_by_chapter(text):\n",
    "    headers = ['CONTRATOS SOBRE PERSONAS JURÍDICAS', 'CONVOCATORIAS Y AVISOS COMERCIALES', 'EDICTOS JUDICIALES']\n",
    "    pattern = '|'.join(re.escape(header) for header in headers)\n",
    "    matches = re.finditer(pattern, text)\n",
    "\n",
    "    # Extract separators from matches\n",
    "    separators = [match.group(0) for match in matches]\n",
    "\n",
    "    # Split the text using the pattern\n",
    "    chapters = re.split(pattern, text)\n",
    "\n",
    "    # Remove empty strings from the result\n",
    "    chapters = [chapter.strip() for chapter in chapters if chapter.strip()]\n",
    "\n",
    "    return chapters, separators\n",
    "\n",
    "# Example usage:\n",
    "# text = \"Your input text goes here. CONTRATOS SOBRE PERSONAS JURÍDICAS Some content CONVOCATORIAS Y AVISOS COMERCIALES More content EDICTOS JUDICIALES Last part\"\n",
    "# chapters, separators = split_by_chapter(text)\n",
    "\n",
    "# # Print the results\n",
    "# print(\"Chapters:\", chapters)\n",
    "# print(\"Separators:\", separators)\n",
    "# In this example, I've used re.finditer() to find all matches of the pattern in the text, and then extracted the matched separators from the matches. The separators list will contain the separators corresponding to the splits in the chapters list.\n",
    "\n",
    "# Feel free to adjust the example based on your specific needs or let me know if you have any further questions!\n",
    "\n",
    "\n",
    "def parsear(doc):\n",
    "    '''\n",
    "    Parsea un pdf levantado con fitz\n",
    "    '''\n",
    "    \n",
    "    # PREPROCESAMIENTO:\n",
    "    \n",
    "    text = ''\n",
    "    for n,page in enumerate(doc):\n",
    "        if n >1:\n",
    "            text += page.get_text()\n",
    "            \n",
    "    # Eliminamos los #F6917090F#\n",
    "    pattern = r'#[IF]\\d+I#|#[IF]\\d+F#\\n'\n",
    "    text = re.sub(pattern, '', text)\n",
    "    \n",
    "    pattern = r'BOLETÍN OFICIAL Nº.*?de \\d{4}'\n",
    "    matches = re.findall(pattern, text, re.DOTALL)\n",
    "    # Remove the matches from the original text\n",
    "    for match in matches:\n",
    "        text = text.replace(match, '')\n",
    "     \n",
    "    # partimos en chapters:\n",
    "    chapters,chapter_name = split_by_chapter(text)\n",
    "    #print(f\"# chapters: {len(chapters)}\")\n",
    "    \n",
    "    # # obtenemos los nombres de los separadores:\n",
    "    # headers = ['CONTRATOS SOBRE PERSONAS JURÍDICAS', 'CONVOCATORIAS Y AVISOS COMERCIALES', 'EDICTOS JUDICIALES']\n",
    "    # pattern = '|'.join(re.escape(header) for header in headers)\n",
    "    # chapter_name = re.findall(pattern, text)\n",
    "    \n",
    "    \n",
    "    separator_regex = r'e\\.\\s\\d{2}/\\d{2}/\\d{4}\\sN°\\s\\d+/\\d+\\sv\\.\\s\\d{2}/\\d{2}/\\d{4}'\n",
    "    sep_col = []\n",
    "    ch_col = []\n",
    "    part_col = []\n",
    "\n",
    "    for n,chapter in enumerate(chapters):    \n",
    "        separators = re.findall(separator_regex, chapter)\n",
    "        parts = re.split(separator_regex, chapter)\n",
    "        parts = [l for l in parts if bool(l)]\n",
    "        if len(parts)==len(separators):\n",
    "            sep_col.extend(separators)\n",
    "            part_col.extend(parts)\n",
    "            ch_n = [chapter_name[n] for m in range(len(parts))]\n",
    "            ch_col.extend(ch_n)\n",
    "            \n",
    "    temp = pd.DataFrame({'chapter':ch_col,'escrito':sep_col,'texto':part_col})\n",
    "    return temp\n",
    "\n",
    "\n",
    "\n",
    "\n"
   ]
  },
  {
   "cell_type": "code",
   "execution_count": 38,
   "id": "777f1285-eb15-44bc-8e4a-19ecdc4a1528",
   "metadata": {},
   "outputs": [],
   "source": [
    "def split_by_chapter(text):\n",
    "    headers = ['CONTRATOS SOBRE PERSONAS JURÍDICAS', 'CONVOCATORIAS Y AVISOS COMERCIALES', 'EDICTOS JUDICIALES']\n",
    "    pattern = '|'.join(re.escape(header) for header in headers)\n",
    "    matches = re.finditer(pattern, text)\n",
    "\n",
    "    # Extract separators from matches\n",
    "    separators = [match.group(0) for match in matches]\n",
    "\n",
    "    # Split the text using the pattern\n",
    "    chapters = re.split(pattern, text)\n",
    "\n",
    "    # Remove empty strings from the result\n",
    "    chapters = [chapter.strip() for chapter in chapters if chapter.strip()]\n",
    "\n",
    "    # Ensure the length of chapters is the same as the length of separators\n",
    "    # min_length = min(len(chapters), len(separators))\n",
    "    # chapters = chapters[:min_length]\n",
    "    # separators = separators[:min_length]\n",
    "\n",
    "    # Label 'undefined' for the remaining separators\n",
    "    separators.extend(['undefined'] * (len(chapters) - len(separators)))\n",
    "\n",
    "    return chapters, separators\n"
   ]
  },
  {
   "cell_type": "code",
   "execution_count": 63,
   "id": "b29e26ac-bb44-4e41-bf59-7a374954a90c",
   "metadata": {},
   "outputs": [
    {
     "data": {
      "text/plain": [
       "['CONTRATOS SOBRE PERSONAS JURÍDICAS',\n",
       " 'CONVOCATORIAS Y AVISOS COMERCIALES',\n",
       " 'EDICTOS JUDICIALES',\n",
       " 'CONVOCATORIAS Y AVISOS COMERCIALES',\n",
       " 'EDICTOS JUDICIALES',\n",
       " 'undefined']"
      ]
     },
     "execution_count": 63,
     "metadata": {},
     "output_type": "execute_result"
    }
   ],
   "source": [
    "test,headers = split_by_chapter(text)\n",
    "headers"
   ]
  },
  {
   "cell_type": "code",
   "execution_count": 66,
   "id": "7ed6f350-c3be-464e-982f-22a677e131dd",
   "metadata": {},
   "outputs": [
    {
     "data": {
      "text/plain": [
       "'BOLETÍN OFICIAL Nº 35.214 - Segunda Sección \\n3 \\nMiércoles 19 de julio de 2023'"
      ]
     },
     "execution_count": 66,
     "metadata": {},
     "output_type": "execute_result"
    }
   ],
   "source": [
    "test[1]"
   ]
  },
  {
   "cell_type": "code",
   "execution_count": 60,
   "id": "22b3847c-f473-4f94-807e-aa5b15aebd7a",
   "metadata": {},
   "outputs": [
    {
     "data": {
      "text/plain": [
       "4"
      ]
     },
     "execution_count": 60,
     "metadata": {},
     "output_type": "execute_result"
    }
   ],
   "source": [
    "len(chapters)"
   ]
  },
  {
   "cell_type": "code",
   "execution_count": 39,
   "id": "69bfe2cd-65ca-43cb-83a9-9203a8e34d6c",
   "metadata": {},
   "outputs": [],
   "source": [
    "doc = fitz.open('data\\\\'+file)\n",
    "test = parsear(doc)"
   ]
  },
  {
   "cell_type": "code",
   "execution_count": 251,
   "id": "f9cd6c78-0cf6-4773-ad75-69718fbe39fa",
   "metadata": {},
   "outputs": [
    {
     "data": {
      "text/plain": [
       "['CONVOCATORIAS Y AVISOS COMERCIALES',\n",
       " 'EDICTOS JUDICIALES',\n",
       " 'CONVOCATORIAS Y AVISOS COMERCIALES']"
      ]
     },
     "execution_count": 251,
     "metadata": {},
     "output_type": "execute_result"
    }
   ],
   "source": [
    "chapter_name"
   ]
  },
  {
   "cell_type": "code",
   "execution_count": 258,
   "id": "21455ed7-fee4-454a-ab43-9f8145838d38",
   "metadata": {},
   "outputs": [],
   "source": [
    "# chapters[0]"
   ]
  },
  {
   "cell_type": "code",
   "execution_count": 10,
   "id": "cd897cba-28ad-4621-8c1e-5c2b156cb509",
   "metadata": {},
   "outputs": [
    {
     "ename": "IndexError",
     "evalue": "list index out of range",
     "output_type": "error",
     "traceback": [
      "\u001b[1;31m---------------------------------------------------------------------------\u001b[0m",
      "\u001b[1;31mIndexError\u001b[0m                                Traceback (most recent call last)",
      "Cell \u001b[1;32mIn[10], line 39\u001b[0m\n\u001b[0;32m     37\u001b[0m         sep_col\u001b[38;5;241m.\u001b[39mextend(separators)\n\u001b[0;32m     38\u001b[0m         part_col\u001b[38;5;241m.\u001b[39mextend(parts)\n\u001b[1;32m---> 39\u001b[0m         ch_n \u001b[38;5;241m=\u001b[39m [chapter_name[n] \u001b[38;5;28;01mfor\u001b[39;00m m \u001b[38;5;129;01min\u001b[39;00m \u001b[38;5;28mrange\u001b[39m(\u001b[38;5;28mlen\u001b[39m(parts))]\n\u001b[0;32m     40\u001b[0m         ch_col\u001b[38;5;241m.\u001b[39mextend(ch_n)\n\u001b[0;32m     42\u001b[0m temp \u001b[38;5;241m=\u001b[39m pd\u001b[38;5;241m.\u001b[39mDataFrame({\u001b[38;5;124m'\u001b[39m\u001b[38;5;124mchapter\u001b[39m\u001b[38;5;124m'\u001b[39m:ch_col,\u001b[38;5;124m'\u001b[39m\u001b[38;5;124mescrito\u001b[39m\u001b[38;5;124m'\u001b[39m:sep_col,\u001b[38;5;124m'\u001b[39m\u001b[38;5;124mtexto\u001b[39m\u001b[38;5;124m'\u001b[39m:part_col})\n",
      "Cell \u001b[1;32mIn[10], line 39\u001b[0m, in \u001b[0;36m<listcomp>\u001b[1;34m(.0)\u001b[0m\n\u001b[0;32m     37\u001b[0m         sep_col\u001b[38;5;241m.\u001b[39mextend(separators)\n\u001b[0;32m     38\u001b[0m         part_col\u001b[38;5;241m.\u001b[39mextend(parts)\n\u001b[1;32m---> 39\u001b[0m         ch_n \u001b[38;5;241m=\u001b[39m [\u001b[43mchapter_name\u001b[49m\u001b[43m[\u001b[49m\u001b[43mn\u001b[49m\u001b[43m]\u001b[49m \u001b[38;5;28;01mfor\u001b[39;00m m \u001b[38;5;129;01min\u001b[39;00m \u001b[38;5;28mrange\u001b[39m(\u001b[38;5;28mlen\u001b[39m(parts))]\n\u001b[0;32m     40\u001b[0m         ch_col\u001b[38;5;241m.\u001b[39mextend(ch_n)\n\u001b[0;32m     42\u001b[0m temp \u001b[38;5;241m=\u001b[39m pd\u001b[38;5;241m.\u001b[39mDataFrame({\u001b[38;5;124m'\u001b[39m\u001b[38;5;124mchapter\u001b[39m\u001b[38;5;124m'\u001b[39m:ch_col,\u001b[38;5;124m'\u001b[39m\u001b[38;5;124mescrito\u001b[39m\u001b[38;5;124m'\u001b[39m:sep_col,\u001b[38;5;124m'\u001b[39m\u001b[38;5;124mtexto\u001b[39m\u001b[38;5;124m'\u001b[39m:part_col})\n",
      "\u001b[1;31mIndexError\u001b[0m: list index out of range"
     ]
    }
   ],
   "source": [
    "doc = fitz.open('data\\\\'+file)\n",
    "text = ''\n",
    "for n,page in enumerate(doc):\n",
    "    if n >1:\n",
    "        text += page.get_text()\n",
    "\n",
    "# Eliminamos los #F6917090F#\n",
    "pattern = r'#[IF]\\d+I#|#[IF]\\d+F#\\n'\n",
    "text = re.sub(pattern, '', text)\n",
    "\n",
    "pattern = r'BOLETÍN OFICIAL Nº.*?de \\d{4}'\n",
    "matches = re.findall(pattern, text, re.DOTALL)\n",
    "# Remove the matches from the original text\n",
    "for match in matches:\n",
    "    text = text.replace(match, '')\n",
    "\n",
    "# partimos en chapters:\n",
    "chapters = split_by_chapter(text)\n",
    "#print(f\"# chapters: {len(chapters)}\")\n",
    "\n",
    "# obtenemos los nombres de los separadores:\n",
    "headers = ['CONTRATOS SOBRE PERSONAS JURÍDICAS', 'CONVOCATORIAS Y AVISOS COMERCIALES', 'EDICTOS JUDICIALES']\n",
    "pattern = '|'.join(re.escape(header) for header in headers)\n",
    "chapter_name = re.findall(pattern, text)\n",
    "\n",
    "\n",
    "separator_regex = r'e\\.\\s\\d{2}/\\d{2}/\\d{4}\\sN°\\s\\d+/\\d+\\sv\\.\\s\\d{2}/\\d{2}/\\d{4}'\n",
    "sep_col = []\n",
    "ch_col = []\n",
    "part_col = []\n",
    "\n",
    "for n,chapter in enumerate(chapters):    \n",
    "    separators = re.findall(separator_regex, chapter)\n",
    "    parts = re.split(separator_regex, chapter)\n",
    "    parts = [l for l in parts if bool(l)]\n",
    "    if len(parts)==len(separators):\n",
    "        sep_col.extend(separators)\n",
    "        part_col.extend(parts)\n",
    "        ch_n = [chapter_name[n] for m in range(len(parts))]\n",
    "        ch_col.extend(ch_n)\n",
    "\n",
    "temp = pd.DataFrame({'chapter':ch_col,'escrito':sep_col,'texto':part_col})"
   ]
  },
  {
   "cell_type": "code",
   "execution_count": 13,
   "id": "dc6ec1f4-bc00-498e-89d9-11d9090509ff",
   "metadata": {},
   "outputs": [
    {
     "data": {
      "text/plain": [
       "71683"
      ]
     },
     "execution_count": 13,
     "metadata": {},
     "output_type": "execute_result"
    }
   ],
   "source": [
    "len(chapter)"
   ]
  },
  {
   "cell_type": "code",
   "execution_count": 11,
   "id": "4be79203-8b9f-4f04-9016-a7b4c46fbbe1",
   "metadata": {},
   "outputs": [
    {
     "data": {
      "text/plain": [
       "['CONVOCATORIAS Y AVISOS COMERCIALES',\n",
       " 'EDICTOS JUDICIALES',\n",
       " 'CONVOCATORIAS Y AVISOS COMERCIALES']"
      ]
     },
     "execution_count": 11,
     "metadata": {},
     "output_type": "execute_result"
    }
   ],
   "source": [
    "chapter_name"
   ]
  },
  {
   "cell_type": "code",
   "execution_count": 56,
   "id": "c2344c50-fae6-46b4-9618-321f99b9e148",
   "metadata": {},
   "outputs": [
    {
     "data": {
      "text/plain": [
       "array(['CONTRATOS SOBRE PERSONAS JURÍDICAS',\n",
       "       'CONVOCATORIAS Y AVISOS COMERCIALES', 'EDICTOS JUDICIALES'],\n",
       "      dtype=object)"
      ]
     },
     "execution_count": 56,
     "metadata": {},
     "output_type": "execute_result"
    }
   ],
   "source": [
    "df.chapter.unique()"
   ]
  },
  {
   "cell_type": "code",
   "execution_count": 54,
   "id": "00f46d1d-974d-4b29-82e6-83403de8364a",
   "metadata": {},
   "outputs": [
    {
     "data": {
      "text/plain": [
       "'SOCIEDADES ANÓNIMAS\\nALYSER\\xa0S.A.\\nCUIT 30-70776023-7. Por Acta de Asamblea Extraordinaria del 31/08/2018 se reformó el Artículo Décimo Primero \\ndel Estatuto modificando las siguientes estipulaciones: Se resolvió ampliar el plazo de duración del mandato de \\nlos Directores de un ejercicio a tres ejercicios. Autorizado según instrumento privado Acta de Asamblea de fecha \\n31/08/2018\\nmonica laura conde - T°: 40 F°: 451 C.P.A.C.F.\\n'"
      ]
     },
     "execution_count": 54,
     "metadata": {},
     "output_type": "execute_result"
    }
   ],
   "source": [
    "df.texto[0][0:1][0]"
   ]
  },
  {
   "cell_type": "code",
   "execution_count": 8,
   "id": "09c1802d-8971-493d-97c4-97ef3696dd0f",
   "metadata": {},
   "outputs": [
    {
     "name": "stdout",
     "output_type": "stream",
     "text": [
      "60\r"
     ]
    },
    {
     "ename": "IndexError",
     "evalue": "list index out of range",
     "output_type": "error",
     "traceback": [
      "\u001b[1;31m---------------------------------------------------------------------------\u001b[0m",
      "\u001b[1;31mIndexError\u001b[0m                                Traceback (most recent call last)",
      "Cell \u001b[1;32mIn[8], line 4\u001b[0m\n\u001b[0;32m      2\u001b[0m \u001b[38;5;28;01mfor\u001b[39;00m n,file \u001b[38;5;129;01min\u001b[39;00m \u001b[38;5;28menumerate\u001b[39m(sel_bol_2):\n\u001b[0;32m      3\u001b[0m     doc \u001b[38;5;241m=\u001b[39m fitz\u001b[38;5;241m.\u001b[39mopen(\u001b[38;5;124m'\u001b[39m\u001b[38;5;124mdata\u001b[39m\u001b[38;5;130;01m\\\\\u001b[39;00m\u001b[38;5;124m'\u001b[39m\u001b[38;5;241m+\u001b[39mfile)\n\u001b[1;32m----> 4\u001b[0m     temp \u001b[38;5;241m=\u001b[39m \u001b[43mparsear\u001b[49m\u001b[43m(\u001b[49m\u001b[43mdoc\u001b[49m\u001b[43m)\u001b[49m\n\u001b[0;32m      5\u001b[0m     \u001b[38;5;28;01mif\u001b[39;00m df \u001b[38;5;129;01mis\u001b[39;00m \u001b[38;5;129;01mnot\u001b[39;00m \u001b[38;5;28;01mNone\u001b[39;00m:\n\u001b[0;32m      6\u001b[0m         df \u001b[38;5;241m=\u001b[39m pd\u001b[38;5;241m.\u001b[39mconcat([df,temp])\n",
      "Cell \u001b[1;32mIn[2], line 57\u001b[0m, in \u001b[0;36mparsear\u001b[1;34m(doc)\u001b[0m\n\u001b[0;32m     55\u001b[0m         sep_col\u001b[38;5;241m.\u001b[39mextend(separators)\n\u001b[0;32m     56\u001b[0m         part_col\u001b[38;5;241m.\u001b[39mextend(parts)\n\u001b[1;32m---> 57\u001b[0m         ch_n \u001b[38;5;241m=\u001b[39m [chapter_name[n] \u001b[38;5;28;01mfor\u001b[39;00m m \u001b[38;5;129;01min\u001b[39;00m \u001b[38;5;28mrange\u001b[39m(\u001b[38;5;28mlen\u001b[39m(parts))]\n\u001b[0;32m     58\u001b[0m         ch_col\u001b[38;5;241m.\u001b[39mextend(ch_n)\n\u001b[0;32m     60\u001b[0m temp \u001b[38;5;241m=\u001b[39m pd\u001b[38;5;241m.\u001b[39mDataFrame({\u001b[38;5;124m'\u001b[39m\u001b[38;5;124mchapter\u001b[39m\u001b[38;5;124m'\u001b[39m:ch_col,\u001b[38;5;124m'\u001b[39m\u001b[38;5;124mescrito\u001b[39m\u001b[38;5;124m'\u001b[39m:sep_col,\u001b[38;5;124m'\u001b[39m\u001b[38;5;124mtexto\u001b[39m\u001b[38;5;124m'\u001b[39m:part_col})\n",
      "Cell \u001b[1;32mIn[2], line 57\u001b[0m, in \u001b[0;36m<listcomp>\u001b[1;34m(.0)\u001b[0m\n\u001b[0;32m     55\u001b[0m         sep_col\u001b[38;5;241m.\u001b[39mextend(separators)\n\u001b[0;32m     56\u001b[0m         part_col\u001b[38;5;241m.\u001b[39mextend(parts)\n\u001b[1;32m---> 57\u001b[0m         ch_n \u001b[38;5;241m=\u001b[39m [\u001b[43mchapter_name\u001b[49m\u001b[43m[\u001b[49m\u001b[43mn\u001b[49m\u001b[43m]\u001b[49m \u001b[38;5;28;01mfor\u001b[39;00m m \u001b[38;5;129;01min\u001b[39;00m \u001b[38;5;28mrange\u001b[39m(\u001b[38;5;28mlen\u001b[39m(parts))]\n\u001b[0;32m     58\u001b[0m         ch_col\u001b[38;5;241m.\u001b[39mextend(ch_n)\n\u001b[0;32m     60\u001b[0m temp \u001b[38;5;241m=\u001b[39m pd\u001b[38;5;241m.\u001b[39mDataFrame({\u001b[38;5;124m'\u001b[39m\u001b[38;5;124mchapter\u001b[39m\u001b[38;5;124m'\u001b[39m:ch_col,\u001b[38;5;124m'\u001b[39m\u001b[38;5;124mescrito\u001b[39m\u001b[38;5;124m'\u001b[39m:sep_col,\u001b[38;5;124m'\u001b[39m\u001b[38;5;124mtexto\u001b[39m\u001b[38;5;124m'\u001b[39m:part_col})\n",
      "\u001b[1;31mIndexError\u001b[0m: list index out of range"
     ]
    }
   ],
   "source": [
    "df = None\n",
    "for n,file in enumerate(sel_bol_2):\n",
    "    doc = fitz.open('data\\\\'+file)\n",
    "    temp = parsear(doc)\n",
    "    if df is not None:\n",
    "        df = pd.concat([df,temp])\n",
    "    else:\n",
    "        df = temp.copy()\n",
    "        \n",
    "    print(n,end='\\r')"
   ]
  },
  {
   "cell_type": "code",
   "execution_count": 232,
   "id": "d5cb24cb-22c5-43bd-b95e-22283d9d2cf2",
   "metadata": {},
   "outputs": [
    {
     "data": {
      "text/plain": [
       "362725"
      ]
     },
     "execution_count": 232,
     "metadata": {},
     "output_type": "execute_result"
    }
   ],
   "source": [
    "len(df)"
   ]
  },
  {
   "cell_type": "code",
   "execution_count": 234,
   "id": "8e5e27a6-3122-42e3-a8f9-ee7eb92ba95e",
   "metadata": {},
   "outputs": [],
   "source": [
    "df.to_pickle('df.pkl')"
   ]
  },
  {
   "cell_type": "code",
   "execution_count": 240,
   "id": "110b63eb-1604-4075-81ab-1275b282b89e",
   "metadata": {},
   "outputs": [
    {
     "data": {
      "text/plain": [
       "362725"
      ]
     },
     "execution_count": 240,
     "metadata": {},
     "output_type": "execute_result"
    }
   ],
   "source": [
    "len(df)"
   ]
  },
  {
   "cell_type": "code",
   "execution_count": 57,
   "id": "f97ab0fc-e87b-4627-9e57-f5b006eeaf85",
   "metadata": {},
   "outputs": [
    {
     "data": {
      "text/plain": [
       "4197"
      ]
     },
     "execution_count": 57,
     "metadata": {},
     "output_type": "execute_result"
    }
   ],
   "source": [
    "len(df[df.chapter==df.chapter.unique()[0]])"
   ]
  },
  {
   "cell_type": "code",
   "execution_count": 229,
   "id": "c9093cdc-c223-4e03-8e6c-685151e20017",
   "metadata": {},
   "outputs": [],
   "source": [
    "# print(df[df.chapter==df.chapter.unique()[0]].texto[0:10][5])"
   ]
  },
  {
   "cell_type": "code",
   "execution_count": 203,
   "id": "5d6469fd-f6ee-433c-8600-ddd2447e5f42",
   "metadata": {},
   "outputs": [
    {
     "data": {
      "text/plain": [
       "9625"
      ]
     },
     "execution_count": 203,
     "metadata": {},
     "output_type": "execute_result"
    }
   ],
   "source": [
    "len(df)"
   ]
  },
  {
   "cell_type": "markdown",
   "id": "c29147bc-f8f6-41a7-a781-7b35678a96eb",
   "metadata": {},
   "source": [
    "----"
   ]
  },
  {
   "cell_type": "markdown",
   "id": "848b06dd-ded8-46b2-9619-2ae57dfa0733",
   "metadata": {},
   "source": [
    "# Creamos el DataFrame"
   ]
  },
  {
   "cell_type": "code",
   "execution_count": 129,
   "id": "18f1a407-4d31-4712-9480-0d549bcd7951",
   "metadata": {},
   "outputs": [],
   "source": [
    "separator_regex = r'e\\.\\s\\d{2}/\\d{2}/\\d{4}\\sN°\\s\\d+/\\d+\\sv\\.\\s\\d{2}/\\d{2}/\\d{4}'\n",
    "sep_col = []\n",
    "ch_col = []\n",
    "part_col = []\n",
    "\n",
    "for n,chapter in enumerate(chapters):    \n",
    "    separators = re.findall(separator_regex, chapter)\n",
    "    parts = re.split(separator_regex, chapter)\n",
    "    parts = [l for l in parts if bool(l)]\n",
    "    if len(parts)==len(separators):\n",
    "        sep_col.extend(separators)\n",
    "        part_col.extend(parts)\n",
    "        ch_n = [chapter_name[n] for m in range(len(parts))]\n",
    "        ch_col.extend(ch_n)\n",
    "        "
   ]
  },
  {
   "cell_type": "code",
   "execution_count": null,
   "id": "b2a12e56-b248-4128-a86d-5f2447ba68b1",
   "metadata": {},
   "outputs": [],
   "source": []
  },
  {
   "cell_type": "markdown",
   "id": "638cbe53-1911-4c73-a27a-d90f95a4c300",
   "metadata": {
    "tags": []
   },
   "source": [
    "# Iteramos sobre todos los documentos de 2023"
   ]
  },
  {
   "cell_type": "code",
   "execution_count": 5,
   "id": "394c1992-0813-4b31-867e-704193c675c8",
   "metadata": {},
   "outputs": [
    {
     "data": {
      "text/plain": [
       "35"
      ]
     },
     "execution_count": 5,
     "metadata": {},
     "output_type": "execute_result"
    }
   ],
   "source": [
    "sel_bol_23 = [element for element in sel_bol if re.search(r'seccion_segunda_2023', element)]\n",
    "len(sel_bol_23)"
   ]
  },
  {
   "cell_type": "code",
   "execution_count": null,
   "id": "b07679e8-c972-4ccd-9f1d-6ac8ef3ffc7b",
   "metadata": {},
   "outputs": [],
   "source": []
  },
  {
   "cell_type": "markdown",
   "id": "ef4821bc-fb2d-447c-be39-21267a05e20c",
   "metadata": {},
   "source": [
    "--"
   ]
  },
  {
   "cell_type": "markdown",
   "id": "1b6d657b-e8b4-4dc9-8dd2-c3b9feaad788",
   "metadata": {
    "jp-MarkdownHeadingCollapsed": true,
    "tags": []
   },
   "source": [
    "# BACKUP (OTRAS TAREAS)"
   ]
  },
  {
   "cell_type": "markdown",
   "id": "8cea0b3f-14fc-4938-ba9e-d23016b9e6c4",
   "metadata": {},
   "source": [
    "# Copiamos los pdfs al disco:"
   ]
  },
  {
   "cell_type": "code",
   "execution_count": 4,
   "id": "79a0f29c-b1ec-4ada-ab15-4f3806a91035",
   "metadata": {},
   "outputs": [
    {
     "data": {
      "text/plain": [
       "1319"
      ]
     },
     "execution_count": 4,
     "metadata": {},
     "output_type": "execute_result"
    }
   ],
   "source": [
    "# 'C:\\\\Users\\\\juani\\\\Documents\\\\3_My_Jupiter_Notebooks\\\\5_Galicia\\\\7_boletines'\n",
    "source_folder = r'D:\\7_boletines\\data\\CABA'\n",
    "destination_folder = r'C:\\\\Users\\\\juani\\\\Documents\\\\3_My_Jupiter_Notebooks\\\\5_Galicia\\\\7_boletines\\\\data'\n",
    "boletines = os.listdir(source_folder)\n",
    "boletines_repetidos = [element for element in boletines if '(' in element]\n",
    "len(boletines_repetidos), len(boletines)\n",
    "sel_bol = [bol for bol in boletines if bol not in boletines_repetidos]\n",
    "sel_bol_2 = [element for element in sel_bol if re.search(r'seccion_segunda_202', element)]\n",
    "len(sel_bol_2)"
   ]
  },
  {
   "cell_type": "code",
   "execution_count": 169,
   "id": "18f4f8d3-8594-4d51-8891-5c286fd4fb0b",
   "metadata": {},
   "outputs": [
    {
     "name": "stdout",
     "output_type": "stream",
     "text": [
      "Files copied successfully.\n"
     ]
    }
   ],
   "source": [
    "# Paths for the source and destination folders\n",
    "\n",
    "# Iterate through the file list and copy each file\n",
    "for file_name in sel_bol_2:\n",
    "    source_path = os.path.join(source_folder, file_name)\n",
    "    destination_path = os.path.join(destination_folder, file_name)\n",
    "    \n",
    "    shutil.copy2(source_path, destination_path)\n",
    "\n",
    "print(\"Files copied successfully.\")"
   ]
  },
  {
   "cell_type": "markdown",
   "id": "f77b0929-9559-4917-861c-8065ffdc8b80",
   "metadata": {},
   "source": [
    "---"
   ]
  },
  {
   "cell_type": "code",
   "execution_count": 98,
   "id": "06fd30c0-0b54-40c0-9c1b-a18eca1f7eb1",
   "metadata": {},
   "outputs": [
    {
     "data": {
      "text/plain": [
       "(85, 85)"
      ]
     },
     "execution_count": 98,
     "metadata": {},
     "output_type": "execute_result"
    }
   ],
   "source": [
    "# separamos las partes por escrito:\n",
    "example = chapters[0]\n",
    "separator_regex = r'e\\.\\s\\d{2}/\\d{2}/\\d{4}\\sN°\\s\\d+/\\d+\\sv\\.\\s\\d{2}/\\d{2}/\\d{4}'\n",
    "separators = re.findall(separator_regex, example)\n",
    "parts = re.split(separator_regex, example)\n",
    "parts = [element for element in parts if bool(element)]\n",
    "len(parts),len(separators)"
   ]
  },
  {
   "cell_type": "markdown",
   "id": "055f6d22-6fa0-46d4-a397-ade41a119af8",
   "metadata": {},
   "source": [
    "---"
   ]
  }
 ],
 "metadata": {
  "kernelspec": {
   "display_name": "Python 3 (ipykernel)",
   "language": "python",
   "name": "python3"
  },
  "language_info": {
   "codemirror_mode": {
    "name": "ipython",
    "version": 3
   },
   "file_extension": ".py",
   "mimetype": "text/x-python",
   "name": "python",
   "nbconvert_exporter": "python",
   "pygments_lexer": "ipython3",
   "version": "3.10.4"
  },
  "toc-autonumbering": true
 },
 "nbformat": 4,
 "nbformat_minor": 5
}
