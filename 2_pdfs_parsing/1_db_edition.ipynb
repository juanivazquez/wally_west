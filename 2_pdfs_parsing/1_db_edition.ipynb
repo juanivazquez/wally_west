{
 "cells": [
  {
   "cell_type": "markdown",
   "id": "c3bedc0b-e7f4-4eca-bf0d-9849725e7717",
   "metadata": {},
   "source": [
    "# SETTINGS"
   ]
  },
  {
   "cell_type": "markdown",
   "id": "6fa945f3-ab98-4738-9232-b9741d32639d",
   "metadata": {},
   "source": [
    "## Importamos Librerías"
   ]
  },
  {
   "cell_type": "code",
   "execution_count": 1,
   "id": "a9b54681-a48b-4218-bf38-e97d6df3f9b4",
   "metadata": {},
   "outputs": [
    {
     "name": "stdout",
     "output_type": "stream",
     "text": [
      "C:\\Users\\juani\\Documents\\3_My_Jupiter_Notebooks\\0_github\\ner\n"
     ]
    }
   ],
   "source": [
    "import pandas as pd\n",
    "import numpy as np\n",
    "import spacy\n",
    "from spacy.tokens import DocBin\n",
    "from spacy.lang.es.stop_words import STOP_WORDS\n",
    "from tqdm import tqdm\n",
    "import json\n",
    "import os\n",
    "import string\n",
    "from unidecode import unidecode\n",
    "import random\n",
    "import time\n",
    "random.seed(42)\n",
    "\n",
    "print(os.getcwd())\n",
    "# spacy.__version__\n",
    "# Check GPU information\n",
    "# !nvidia-smi"
   ]
  },
  {
   "cell_type": "markdown",
   "id": "ed4289a6-a7b4-4cfe-956f-062312977dfb",
   "metadata": {},
   "source": [
    "## Carga Datos"
   ]
  },
  {
   "cell_type": "code",
   "execution_count": null,
   "id": "c2758228-f562-4ca5-bfe6-2f55aa432dbd",
   "metadata": {},
   "outputs": [],
   "source": [
    "dbs_path = 'C:\\Users\\juani\\Documents\\3_My_Jupiter_Notebooks\\0_github\\ner\\dbs'"
   ]
  },
  {
   "cell_type": "code",
   "execution_count": 2,
   "id": "7fb09d6d-3669-4773-8016-c581d82a14df",
   "metadata": {},
   "outputs": [],
   "source": [
    "path = r'C:\\\\Users\\\\juani\\\\Documents\\\\3_My_Jupiter_Notebooks\\\\0_github\\\\ner'\n",
    "df = pd.read_pickle(os.path.join(path,'df_nuevo.pkl'))"
   ]
  },
  {
   "cell_type": "code",
   "execution_count": 7,
   "id": "ae284224-a0f1-4236-8d79-1d09abc8c929",
   "metadata": {},
   "outputs": [
    {
     "name": "stdout",
     "output_type": "stream",
     "text": [
      "Original Text: Este es un ejemplo de ,texto en español que queremos procesar.\n",
      "Preprocessed Tokens: ejemplo texto espanol procesar\n"
     ]
    }
   ],
   "source": [
    "# Load the spaCy model for Spanish\n",
    "nlp = spacy.load('es_core_news_sm')\n",
    "\n",
    "def preprocess(text):\n",
    "    # Step 1: Lowercasing\n",
    "    text = text.lower()\n",
    "    text = unidecode(text)\n",
    "    \n",
    "    # Step 2: Tokenization\n",
    "    doc = nlp(text)\n",
    "\n",
    "    # Step 3: Stopword removal\n",
    "    # tokens = [token.text for token in doc if token.text not in STOP_WORDS]\n",
    "    #tokens = [token.text for token in doc if token.text not in STOP_WORDS and token.text not in string.punctuation]\n",
    "    \n",
    "    # Step 4: Lemmatization\n",
    "    #lemmatized_tokens = [token.lemma_ for token in doc if token.text not in STOP_WORDS]\n",
    "    lemmatized_tokens = [token.lemma_ for token in doc if token.text not in STOP_WORDS and token.text not in string.punctuation]\n",
    "\n",
    "\n",
    "    return \" \".join(lemmatized_tokens)\n",
    "\n",
    "# Example usage:\n",
    "text_example = \"Este es un ejemplo de ,texto en español que queremos procesar.\"\n",
    "preprocessed_tokens = preprocess(text_example)\n",
    "\n",
    "print(\"Original Text:\", text_example)\n",
    "print(\"Preprocessed Tokens:\", preprocessed_tokens)"
   ]
  },
  {
   "cell_type": "code",
   "execution_count": 3,
   "id": "68832326-f8fe-4711-b85e-5b73fce7da37",
   "metadata": {},
   "outputs": [
    {
     "data": {
      "text/plain": [
       "496930"
      ]
     },
     "execution_count": 3,
     "metadata": {},
     "output_type": "execute_result"
    }
   ],
   "source": [
    "len(df)"
   ]
  },
  {
   "cell_type": "code",
   "execution_count": 35,
   "id": "75580221-0fa2-4984-b8bf-87341c62574e",
   "metadata": {},
   "outputs": [],
   "source": []
  },
  {
   "cell_type": "markdown",
   "id": "cef0e36d-dbb4-49b8-abf5-aa2469bbabf5",
   "metadata": {},
   "source": [
    "## Prepro"
   ]
  },
  {
   "cell_type": "markdown",
   "id": "03fc3ff3-899a-461e-bb65-2394a272a6ec",
   "metadata": {},
   "source": [
    "### Dates"
   ]
  },
  {
   "cell_type": "code",
   "execution_count": 91,
   "id": "5f4f154a-8171-4cae-a6bc-db5d64c7001f",
   "metadata": {},
   "outputs": [],
   "source": [
    "def get_date(file_name):\n",
    "    return tuple([int(l) for l in file_name[3:14].split('/')]) "
   ]
  },
  {
   "cell_type": "code",
   "execution_count": 97,
   "id": "c54085f1-a7f8-4e27-af95-0dfe5f4fd023",
   "metadata": {},
   "outputs": [],
   "source": [
    "%timeit\n",
    "date_ls  = [*map(get_date,df['escrito'].values)]"
   ]
  },
  {
   "cell_type": "code",
   "execution_count": 98,
   "id": "1bd465ec-7d1e-4daf-baec-011e5d5d2fd7",
   "metadata": {},
   "outputs": [],
   "source": [
    "# Create new columns in the existing DataFrame\n",
    "df['dia'], df['mes'], df['año'] = zip(*date_ls)"
   ]
  },
  {
   "cell_type": "markdown",
   "id": "fa08754d-2560-429f-ad34-bfe7c20b91ff",
   "metadata": {},
   "source": [
    "### clasificamos"
   ]
  },
  {
   "cell_type": "code",
   "execution_count": 112,
   "id": "e771ff99-74ed-4011-9984-e0be6898e48a",
   "metadata": {},
   "outputs": [],
   "source": [
    "model_path = r'C:\\Users\\juani\\Documents\\3_My_Jupiter_Notebooks\\0_github\\ner\\textcat_model_1'\n",
    "textcat_model = spacy.load(os.path.join(model_path,'model-best'))"
   ]
  },
  {
   "cell_type": "code",
   "execution_count": 113,
   "id": "db6e4ce1-3acb-49a7-b2ea-08c9bc8693af",
   "metadata": {},
   "outputs": [],
   "source": [
    "def get_proba(text=str):\n",
    "    doc = textcat_model(text)\n",
    "    return doc.cats['POS']\n"
   ]
  },
  {
   "cell_type": "code",
   "execution_count": null,
   "id": "98d46880-53db-413d-b03e-3f26fac5483a",
   "metadata": {},
   "outputs": [],
   "source": [
    "test= [*map(get_proba,df[(df.año>2022)&(df.mes==6)].texto.values.tolist())]"
   ]
  },
  {
   "cell_type": "code",
   "execution_count": 119,
   "id": "8c555464-cf7f-4169-91bd-8093f3009dcc",
   "metadata": {},
   "outputs": [],
   "source": [
    "test= [*map(get_proba,df[(df.año>2022)&(df.mes==1)].texto.values.tolist())]"
   ]
  },
  {
   "cell_type": "code",
   "execution_count": 148,
   "id": "4e3b1491-4a1c-47ae-b2db-496fbd5a9ca2",
   "metadata": {},
   "outputs": [
    {
     "data": {
      "text/plain": [
       "'\\n\\n\\n\\n\\n\\n \\nSOCDUS S.A.\\nCUIT 30-70757147-7 Esc. 1, 02/01/2023, Fº 2, Reg. 101 CABA. Protocolización Actas de Asamblea y Directorio \\nambas del 14/03/2022. Designación Presidente: Inés Ofelia García. Director Suplente: Rolando Ariel Gutesman, \\nambos con domicilio especial en Av. Belgrano 1683/87, Piso 3, CABA. Duración 3 ejercicios. Autorizado según \\ninstrumento público Esc. Nº\\xa01 de fecha 02/01/2023 Reg. Nº\\xa0101\\nPaula Andrea Di Salvo - Matrícula: 4857 C.E.C.B.A.\\n'"
      ]
     },
     "execution_count": 148,
     "metadata": {},
     "output_type": "execute_result"
    }
   ],
   "source": [
    "df[(df.año>2022)&(df.mes==1)].texto.values.tolist()[200]"
   ]
  },
  {
   "cell_type": "code",
   "execution_count": 153,
   "id": "0aee5935-c3de-42d1-a986-1a30c73886a3",
   "metadata": {},
   "outputs": [
    {
     "name": "stdout",
     "output_type": "stream",
     "text": [
      "Execution time: 31257.749974489212 seconds\n"
     ]
    }
   ],
   "source": [
    "start_time = time.time()\n",
    "\n",
    "class_ls= [*map(get_proba,df.texto.values.tolist())]\n",
    "\n",
    "print(f\"Execution time: {time.time()- start_time} seconds\")"
   ]
  },
  {
   "cell_type": "code",
   "execution_count": 158,
   "id": "273d2e58-8a05-4b67-a7ed-d90c3e39fa22",
   "metadata": {},
   "outputs": [
    {
     "data": {
      "text/plain": [
       "(0.9999781847000122, 496930)"
      ]
     },
     "execution_count": 158,
     "metadata": {},
     "output_type": "execute_result"
    }
   ],
   "source": [
    "class_ls[0], len(class_ls)"
   ]
  },
  {
   "cell_type": "code",
   "execution_count": 160,
   "id": "322c25b0-b074-4702-b843-72d30f1ea6ce",
   "metadata": {},
   "outputs": [],
   "source": [
    "df['class_prob'] = class_ls"
   ]
  },
  {
   "cell_type": "code",
   "execution_count": 162,
   "id": "38cb20a8-0572-4af7-a516-4d9f1b24f058",
   "metadata": {},
   "outputs": [
    {
     "name": "stdout",
     "output_type": "stream",
     "text": [
      "C:\\\\Users\\\\juani\\\\Documents\\\\3_My_Jupiter_Notebooks\\\\0_github\\\\ner\n"
     ]
    }
   ],
   "source": [
    "print(path)"
   ]
  },
  {
   "cell_type": "code",
   "execution_count": 163,
   "id": "f62263ff-9f91-4d18-b016-2c769d3ffe95",
   "metadata": {},
   "outputs": [
    {
     "data": {
      "text/plain": [
       "'C:\\\\Users\\\\juani\\\\Documents\\\\3_My_Jupiter_Notebooks\\\\0_github\\\\ner'"
      ]
     },
     "execution_count": 163,
     "metadata": {},
     "output_type": "execute_result"
    }
   ],
   "source": [
    "os.getcwd()"
   ]
  },
  {
   "cell_type": "code",
   "execution_count": 164,
   "id": "a9ca30ed-b0d1-4f5d-af66-f02547a15560",
   "metadata": {},
   "outputs": [
    {
     "data": {
      "text/plain": [
       "Index(['chapter', 'escrito', 'texto', 'file', 'dia', 'mes', 'año',\n",
       "       'class_prob'],\n",
       "      dtype='object')"
      ]
     },
     "execution_count": 164,
     "metadata": {},
     "output_type": "execute_result"
    }
   ],
   "source": [
    "df.columns"
   ]
  },
  {
   "cell_type": "code",
   "execution_count": 166,
   "id": "9698dbaf-6a93-47b5-aa87-6aa88df1ca74",
   "metadata": {},
   "outputs": [],
   "source": [
    "df.to_pickle(os.path.join(path,'df_nuevo.pkl'))"
   ]
  },
  {
   "cell_type": "markdown",
   "id": "71ce2d6f-e7b2-40bc-9cef-73fe1d3405fc",
   "metadata": {},
   "source": [
    "## Importamos Librerías"
   ]
  },
  {
   "cell_type": "code",
   "execution_count": 159,
   "id": "555ab8e6-0d4b-420c-8920-8659d579ab33",
   "metadata": {},
   "outputs": [
    {
     "data": {
      "text/html": [
       "<div>\n",
       "<style scoped>\n",
       "    .dataframe tbody tr th:only-of-type {\n",
       "        vertical-align: middle;\n",
       "    }\n",
       "\n",
       "    .dataframe tbody tr th {\n",
       "        vertical-align: top;\n",
       "    }\n",
       "\n",
       "    .dataframe thead th {\n",
       "        text-align: right;\n",
       "    }\n",
       "</style>\n",
       "<table border=\"1\" class=\"dataframe\">\n",
       "  <thead>\n",
       "    <tr style=\"text-align: right;\">\n",
       "      <th></th>\n",
       "      <th>chapter</th>\n",
       "      <th>escrito</th>\n",
       "      <th>texto</th>\n",
       "      <th>file</th>\n",
       "      <th>dia</th>\n",
       "      <th>mes</th>\n",
       "      <th>año</th>\n",
       "    </tr>\n",
       "  </thead>\n",
       "  <tbody>\n",
       "    <tr>\n",
       "      <th>0</th>\n",
       "      <td>CONVOCATORIAS Y AVISOS COMERCIALES</td>\n",
       "      <td>e. 01/06/2017 N° 37101/17 v. 01/06/2017</td>\n",
       "      <td>BAZAR MEGA S.A.\\nConstitución: Por escritura 7...</td>\n",
       "      <td>seccion_segunda_20170601.pdf</td>\n",
       "      <td>1</td>\n",
       "      <td>6</td>\n",
       "      <td>2017</td>\n",
       "    </tr>\n",
       "    <tr>\n",
       "      <th>1</th>\n",
       "      <td>CONVOCATORIAS Y AVISOS COMERCIALES</td>\n",
       "      <td>e. 01/06/2017 N° 37342/17 v. 01/06/2017</td>\n",
       "      <td>\\nBETHEL WORLD S.A.\\nPor escritura 155 Folio 4...</td>\n",
       "      <td>seccion_segunda_20170601.pdf</td>\n",
       "      <td>1</td>\n",
       "      <td>6</td>\n",
       "      <td>2017</td>\n",
       "    </tr>\n",
       "    <tr>\n",
       "      <th>2</th>\n",
       "      <td>CONVOCATORIAS Y AVISOS COMERCIALES</td>\n",
       "      <td>e. 01/06/2017 N° 37349/17 v. 01/06/2017</td>\n",
       "      <td>\\nBIGPAL S.A.\\n1) 24/5/17; 2) Sergio Francisco...</td>\n",
       "      <td>seccion_segunda_20170601.pdf</td>\n",
       "      <td>1</td>\n",
       "      <td>6</td>\n",
       "      <td>2017</td>\n",
       "    </tr>\n",
       "    <tr>\n",
       "      <th>3</th>\n",
       "      <td>CONVOCATORIAS Y AVISOS COMERCIALES</td>\n",
       "      <td>e. 01/06/2017 N° 37374/17 v. 01/06/2017</td>\n",
       "      <td>\\nBLUE FIVE S.A.\\nEsc. 100 del 17/5/17: ROMERO...</td>\n",
       "      <td>seccion_segunda_20170601.pdf</td>\n",
       "      <td>1</td>\n",
       "      <td>6</td>\n",
       "      <td>2017</td>\n",
       "    </tr>\n",
       "    <tr>\n",
       "      <th>4</th>\n",
       "      <td>CONVOCATORIAS Y AVISOS COMERCIALES</td>\n",
       "      <td>e. 01/06/2017 N° 37325/17 v. 01/06/2017</td>\n",
       "      <td>\\nCAMUZZI ARGENTINA S.A.\\nSe comunica que por ...</td>\n",
       "      <td>seccion_segunda_20170601.pdf</td>\n",
       "      <td>1</td>\n",
       "      <td>6</td>\n",
       "      <td>2017</td>\n",
       "    </tr>\n",
       "  </tbody>\n",
       "</table>\n",
       "</div>"
      ],
      "text/plain": [
       "                              chapter  \\\n",
       "0  CONVOCATORIAS Y AVISOS COMERCIALES   \n",
       "1  CONVOCATORIAS Y AVISOS COMERCIALES   \n",
       "2  CONVOCATORIAS Y AVISOS COMERCIALES   \n",
       "3  CONVOCATORIAS Y AVISOS COMERCIALES   \n",
       "4  CONVOCATORIAS Y AVISOS COMERCIALES   \n",
       "\n",
       "                                   escrito  \\\n",
       "0  e. 01/06/2017 N° 37101/17 v. 01/06/2017   \n",
       "1  e. 01/06/2017 N° 37342/17 v. 01/06/2017   \n",
       "2  e. 01/06/2017 N° 37349/17 v. 01/06/2017   \n",
       "3  e. 01/06/2017 N° 37374/17 v. 01/06/2017   \n",
       "4  e. 01/06/2017 N° 37325/17 v. 01/06/2017   \n",
       "\n",
       "                                               texto  \\\n",
       "0  BAZAR MEGA S.A.\\nConstitución: Por escritura 7...   \n",
       "1  \\nBETHEL WORLD S.A.\\nPor escritura 155 Folio 4...   \n",
       "2  \\nBIGPAL S.A.\\n1) 24/5/17; 2) Sergio Francisco...   \n",
       "3  \\nBLUE FIVE S.A.\\nEsc. 100 del 17/5/17: ROMERO...   \n",
       "4  \\nCAMUZZI ARGENTINA S.A.\\nSe comunica que por ...   \n",
       "\n",
       "                           file  dia  mes   año  \n",
       "0  seccion_segunda_20170601.pdf    1    6  2017  \n",
       "1  seccion_segunda_20170601.pdf    1    6  2017  \n",
       "2  seccion_segunda_20170601.pdf    1    6  2017  \n",
       "3  seccion_segunda_20170601.pdf    1    6  2017  \n",
       "4  seccion_segunda_20170601.pdf    1    6  2017  "
      ]
     },
     "execution_count": 159,
     "metadata": {},
     "output_type": "execute_result"
    }
   ],
   "source": [
    "df.head()"
   ]
  },
  {
   "cell_type": "code",
   "execution_count": 156,
   "id": "f88768b6-5b6b-4d51-8bad-718f942b1a4d",
   "metadata": {},
   "outputs": [
    {
     "data": {
      "text/plain": [
       "8.682708326247003"
      ]
     },
     "execution_count": 156,
     "metadata": {},
     "output_type": "execute_result"
    }
   ],
   "source": [
    "31257.749974489212 /60/60"
   ]
  },
  {
   "cell_type": "code",
   "execution_count": 151,
   "id": "35e87ca0-85c2-490e-9799-0bbc24962570",
   "metadata": {
    "scrolled": true
   },
   "outputs": [
    {
     "name": "stdout",
     "output_type": "stream",
     "text": [
      "2016: 1\n",
      "2017: 45632\n",
      "2018: 73019\n",
      "2019: 73336\n",
      "2020: 47896\n",
      "2021: 13043\n",
      "2022: 237629\n",
      "2023: 6374\n"
     ]
    }
   ],
   "source": [
    "for y in sorted(df.año.unique()):\n",
    "    print(f'{y}: {len(df[(df.año==y)])}') "
   ]
  },
  {
   "cell_type": "markdown",
   "id": "09cc58bd-2933-4d33-ac5f-139585f80a9b",
   "metadata": {},
   "source": [
    "---"
   ]
  },
  {
   "cell_type": "code",
   "execution_count": null,
   "id": "afa2c37f-c50d-4b66-96c0-67745833e418",
   "metadata": {},
   "outputs": [],
   "source": []
  }
 ],
 "metadata": {
  "kernelspec": {
   "display_name": "Python 3 (ipykernel)",
   "language": "python",
   "name": "python3"
  },
  "language_info": {
   "codemirror_mode": {
    "name": "ipython",
    "version": 3
   },
   "file_extension": ".py",
   "mimetype": "text/x-python",
   "name": "python",
   "nbconvert_exporter": "python",
   "pygments_lexer": "ipython3",
   "version": "3.8.18"
  }
 },
 "nbformat": 4,
 "nbformat_minor": 5
}
