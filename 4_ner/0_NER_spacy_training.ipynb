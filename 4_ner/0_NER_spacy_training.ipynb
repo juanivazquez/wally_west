{
 "cells": [
  {
   "cell_type": "markdown",
   "id": "80c4db85",
   "metadata": {},
   "source": [
    "# SETTINGS"
   ]
  },
  {
   "cell_type": "markdown",
   "id": "afc6d11d",
   "metadata": {},
   "source": [
    "## Importamos Librerías"
   ]
  },
  {
   "cell_type": "code",
   "execution_count": 1,
   "id": "d3c12261",
   "metadata": {},
   "outputs": [
    {
     "name": "stdout",
     "output_type": "stream",
     "text": [
      "C:\\Users\\juani\\Documents\\3_My_Jupiter_Notebooks\\0_github\\ner\n"
     ]
    }
   ],
   "source": [
    "import pandas as pd\n",
    "import numpy as np\n",
    "import spacy\n",
    "from spacy.tokens import DocBin\n",
    "from tqdm import tqdm\n",
    "import json\n",
    "import os\n",
    "print(os.getcwd())\n",
    "# spacy.__version__\n",
    "# Check GPU information\n",
    "# !nvidia-smi"
   ]
  },
  {
   "cell_type": "markdown",
   "id": "b648b5ca",
   "metadata": {},
   "source": [
    "## Creamos una carpeta para entrenar el modelo"
   ]
  },
  {
   "cell_type": "code",
   "execution_count": 2,
   "id": "64b8dc7a",
   "metadata": {},
   "outputs": [
    {
     "name": "stdout",
     "output_type": "stream",
     "text": [
      "Created folder: ner_model_4\n",
      "new path is : C:\\Users\\juani\\Documents\\3_My_Jupiter_Notebooks\\0_github\\ner\\ner_model_4\n"
     ]
    }
   ],
   "source": [
    "def generate_model_folder(base_folder='ner_model_', start_index=1):\n",
    "    index = start_index\n",
    "    while True:\n",
    "        folder_name = f\"{base_folder}{index}\"\n",
    "        if not os.path.exists(folder_name):\n",
    "            os.makedirs(folder_name)\n",
    "            ner_model_path = os.path.abspath(folder_name)\n",
    "\n",
    "            yield folder_name,ner_model_path\n",
    "        index += 1\n",
    "\n",
    "# Invocamos al generador\n",
    "folder_generator = generate_model_folder()\n",
    "\n",
    "# Get the next available folder\n",
    "ner_model_folder, ner_model_path = next(folder_generator)\n",
    "\n",
    "print(f\"Created folder: {ner_model_folder}\")\n",
    "print(f'new path is : {ner_model_path}')"
   ]
  },
  {
   "cell_type": "markdown",
   "id": "1e4c3925",
   "metadata": {},
   "source": [
    "## levantamos los datos y los guardamos con formato spacy en la carpeta del modelo"
   ]
  },
  {
   "cell_type": "code",
   "execution_count": 3,
   "id": "778e8cfb",
   "metadata": {},
   "outputs": [
    {
     "data": {
      "text/plain": [
       "['Esc 96 del 30/5/17, Fº321, Reg 176 CABA. Socios: Emilio Adrián LEIVA, soltero, DNI 26007027, 11/5/77, Azamor 2325, Lomas de Zamora, Pcia de Bs As; Daniel Horacio SÁNCHEZ, casado, DNI 25747237, 11/1/77, Azamor 2163, Lomas de Zamora, Pcia de Bs As; y Majed MOHANNA, soltero, DNI 18886526, 18/2/74, Tucumán 2401, CABA; todos argentinos y empresarios, constituyen domicilio Especial en Sede Social: Tucumán 2454, CABA. 1) ADM TEX GROUP SA 2) 99 años 3) Objeto: Compra, venta, importación, exportación, fabricación, representación, consignación y distribución de telas, prendas de vestir, indumentaria y accesorios, fibras, tejidos, hilados y calzados y las materias primas que lo componen. 4) $\\xa0500.000. 5) Uno a cinco, 3 años. 6) Sin sindicatura. 7) Cierre Ejercicio: 31/12. Presidente: Emilio Adrian LEIVA; Director Suplente: Daniel Horacio SÁNCHEZ. Ambos aceptan sus cargos y constituyen domicilio Especial en Sede Social. Autorizado según instrumento público Esc. Nº\\xa096 de fecha 30/05/2017 Reg. Nº\\xa0176.Eduardo María Cardoso - Habilitado D.N.R.O. N°\\xa03389e. 01/06/2017 N°\\xa037330/17 v. 01/06/2017',\n",
       " {'entities': [[49, 68, 'SOCIO'],\n",
       "   [83, 91, 'DNI'],\n",
       "   [147, 169, 'SOCIO'],\n",
       "   [183, 191, 'DNI'],\n",
       "   [249, 262, 'SOCIO'],\n",
       "   [277, 285, 'DNI'],\n",
       "   [449, 685, 'OBJETO'],\n",
       "   [990, 1023, 'ESCRIBANO'],\n",
       "   [382, 413, 'SEDE']]}]"
      ]
     },
     "execution_count": 3,
     "metadata": {},
     "output_type": "execute_result"
    }
   ],
   "source": [
    "data = pd.read_pickle(r'C:\\\\Users\\\\juani\\\\Documents\\\\3_My_Jupiter_Notebooks\\\\0_github\\\\ner\\\\dataset_500_casos\\\\estatutos_anotados.pkl')\n",
    "data = data.values.tolist()\n",
    "data[0]"
   ]
  },
  {
   "cell_type": "code",
   "execution_count": 4,
   "id": "10fc149a",
   "metadata": {},
   "outputs": [],
   "source": [
    "# Define a function to create spaCy DocBin objects from the annotated data\n",
    "def get_spacy_doc(file, data):\n",
    "  # Create a blank spaCy pipeline\n",
    "  nlp = spacy.blank('es')\n",
    "  db = DocBin()\n",
    "\n",
    "  # Iterate through the data\n",
    "  for text, annot in tqdm(data):\n",
    "    doc = nlp.make_doc(text)\n",
    "    annot = annot['entities']\n",
    "\n",
    "    ents = []\n",
    "    entity_indices = []\n",
    "\n",
    "    # Extract entities from the annotations\n",
    "    for start, end, label in annot:\n",
    "      skip_entity = False\n",
    "      for idx in range(start, end):\n",
    "        if idx in entity_indices:\n",
    "          skip_entity = True\n",
    "          break\n",
    "      if skip_entity:\n",
    "        continue\n",
    "\n",
    "      entity_indices = entity_indices + list(range(start, end))\n",
    "      try:\n",
    "        span = doc.char_span(start, end, label=label, alignment_mode='strict')\n",
    "      except:\n",
    "        continue\n",
    "\n",
    "      if span is None:\n",
    "        # Log errors for annotations that couldn't be processed\n",
    "        err_data = str([start, end]) + \"    \" + str(text) + \"\\n\"\n",
    "        file.write(err_data)\n",
    "      else:\n",
    "        ents.append(span)\n",
    "\n",
    "    try:\n",
    "      doc.ents = ents\n",
    "      db.add(doc)\n",
    "    except:\n",
    "      pass\n",
    "\n",
    "  return db"
   ]
  },
  {
   "cell_type": "code",
   "execution_count": 5,
   "id": "2b940473",
   "metadata": {},
   "outputs": [
    {
     "data": {
      "text/plain": [
       "(290, 73, 41)"
      ]
     },
     "execution_count": 5,
     "metadata": {},
     "output_type": "execute_result"
    }
   ],
   "source": [
    "# Split the annotated data into training and testing sets\n",
    "from sklearn.model_selection import train_test_split\n",
    "training, dev = train_test_split(data, test_size=0.1, random_state=42)\n",
    "train, test = train_test_split(training, test_size=0.2, random_state=42)\n",
    "\n",
    "# Display the number of items in the training and testing sets\n",
    "len(train), len(test), len(dev)"
   ]
  },
  {
   "cell_type": "code",
   "execution_count": 6,
   "id": "ea53c799",
   "metadata": {},
   "outputs": [
    {
     "name": "stderr",
     "output_type": "stream",
     "text": [
      "100%|███████████████████████████████████████████████████████████████████████████████| 290/290 [00:01<00:00, 178.59it/s]\n",
      "100%|█████████████████████████████████████████████████████████████████████████████████| 73/73 [00:00<00:00, 141.33it/s]\n",
      "100%|█████████████████████████████████████████████████████████████████████████████████| 41/41 [00:00<00:00, 152.42it/s]\n"
     ]
    }
   ],
   "source": [
    "file = open(os.path.join(ner_model_path,'train_file.txt'),'w')\n",
    "\n",
    "# Create spaCy DocBin objects for training and testing data\n",
    "db = get_spacy_doc(file, train)\n",
    "db.to_disk(os.path.join(ner_model_path,'train.spacy'))\n",
    "\n",
    "\n",
    "db = get_spacy_doc(file, test)\n",
    "db.to_disk(os.path.join(ner_model_path,'test.spacy'))\n",
    "\n",
    "db = get_spacy_doc(file, dev)\n",
    "db.to_disk(os.path.join(ner_model_path,'dev.spacy'))\n",
    "\n",
    "file.close()"
   ]
  },
  {
   "cell_type": "code",
   "execution_count": 7,
   "id": "1faf9096",
   "metadata": {},
   "outputs": [
    {
     "data": {
      "text/plain": [
       "['dev.spacy', 'test.spacy', 'train.spacy', 'train_file.txt']"
      ]
     },
     "execution_count": 7,
     "metadata": {},
     "output_type": "execute_result"
    }
   ],
   "source": [
    "os.listdir(ner_model_path)"
   ]
  },
  {
   "cell_type": "markdown",
   "id": "903f09bb",
   "metadata": {},
   "source": [
    "## generamos el archivo config.cfg"
   ]
  },
  {
   "cell_type": "markdown",
   "id": "f2cd15e6",
   "metadata": {},
   "source": [
    "Generamos el archivo base_config y lo dejamos en la carpeta nueva que creamos."
   ]
  },
  {
   "cell_type": "markdown",
   "id": "6a54756e",
   "metadata": {},
   "source": [
    "https://spacy.io/usage/training#quickstart\n",
    "\n",
    "\n",
    "https://spacy.io/usage/training#config"
   ]
  },
  {
   "cell_type": "code",
   "execution_count": 8,
   "id": "4ed7977f",
   "metadata": {},
   "outputs": [
    {
     "name": "stdout",
     "output_type": "stream",
     "text": [
      "!python -m spacy init fill-config C:\\Users\\juani\\Documents\\3_My_Jupiter_Notebooks\\0_github\\ner\\ner_model_3/base_config.cfg C:\\Users\\juani\\Documents\\3_My_Jupiter_Notebooks\\0_github\\ner\\ner_model_3/config/config.cfg\n"
     ]
    }
   ],
   "source": [
    "def generate_spacy_init_command(base_path, config_filename = \"config.cfg\"):\n",
    "    \"\"\"\n",
    "    Generate a string for running the 'spacy init fill-config' command.\n",
    "\n",
    "    Args:\n",
    "    - base_path (str): The base path where the files are located.\n",
    "    - config_filename (str): The name of the configuration file.\n",
    "\n",
    "    Returns:\n",
    "    - str: The generated command string.\n",
    "    \"\"\"\n",
    "    if base_path is None:\n",
    "        \n",
    "        base_path = os.getcwd()\n",
    "        \n",
    "    command = f\"!python -m spacy init fill-config {base_path}/base_config.cfg {base_path}/config/{config_filename}\"\n",
    "    return command\n",
    "\n",
    "# Example usage:\n",
    "base_path = \"/your_file_path\"\n",
    "config_filename = \"config.cfg\"\n",
    "\n",
    "spacy_init_command = generate_spacy_init_command(ner_model_path, config_filename)\n",
    "print(spacy_init_command)"
   ]
  },
  {
   "cell_type": "code",
   "execution_count": 9,
   "id": "0f7fa1bd",
   "metadata": {},
   "outputs": [
    {
     "name": "stdout",
     "output_type": "stream",
     "text": [
      "\u001b[38;5;2m[+] Auto-filled config with all values\u001b[0m\n",
      "\u001b[38;5;2m[+] Saved config\u001b[0m\n",
      "C:\\Users\\juani\\Documents\\3_My_Jupiter_Notebooks\\0_github\\ner\\ner_model_3\\config\\config.cfg\n",
      "You can now add your data and train your pipeline:\n",
      "python -m spacy train config.cfg --paths.train ./train.spacy --paths.dev ./dev.spacy\n"
     ]
    }
   ],
   "source": [
    "!python -m spacy init fill-config C:\\Users\\juani\\Documents\\3_My_Jupiter_Notebooks\\0_github\\ner\\ner_model_3/base_config.cfg C:\\Users\\juani\\Documents\\3_My_Jupiter_Notebooks\\0_github\\ner\\ner_model_3/config/config.cfg"
   ]
  },
  {
   "cell_type": "markdown",
   "id": "82c18883",
   "metadata": {},
   "source": [
    "# TRAINING"
   ]
  },
  {
   "cell_type": "markdown",
   "id": "f9247c09",
   "metadata": {},
   "source": [
    "Vamos a la ruta"
   ]
  },
  {
   "cell_type": "code",
   "execution_count": 10,
   "id": "afe02e9a",
   "metadata": {},
   "outputs": [
    {
     "data": {
      "text/plain": [
       "'C:\\\\Users\\\\juani\\\\Documents\\\\3_My_Jupiter_Notebooks\\\\0_github\\\\ner\\\\ner_model_3'"
      ]
     },
     "execution_count": 10,
     "metadata": {},
     "output_type": "execute_result"
    }
   ],
   "source": [
    "# vamos a la carpeta donde vamos a entrenar:\n",
    "os.chdir(ner_model_path)\n",
    "os.getcwd()"
   ]
  },
  {
   "cell_type": "markdown",
   "id": "d1466616",
   "metadata": {},
   "source": [
    "¡y entrenamos!\n",
    "\n",
    "Recorda que spacy tiene su lenguaje: \n",
    "\n",
    "spacy ---- mundo\n",
    "\n",
    "train ---- train\n",
    "\n",
    "dev   ---- test\n",
    "\n",
    "eval  ---- dev"
   ]
  },
  {
   "cell_type": "code",
   "execution_count": 11,
   "id": "579f577f",
   "metadata": {},
   "outputs": [
    {
     "name": "stdout",
     "output_type": "stream",
     "text": [
      "\u001b[38;5;4m[i] Saving to output directory: .\u001b[0m\n",
      "\u001b[38;5;4m[i] Using CPU\u001b[0m\n",
      "\u001b[1m\n",
      "=========================== Initializing pipeline ===========================\u001b[0m\n",
      "\u001b[38;5;2m[+] Initialized pipeline\u001b[0m\n",
      "\u001b[1m\n",
      "============================= Training pipeline =============================\u001b[0m\n",
      "\u001b[38;5;4m[i] Pipeline: ['tok2vec', 'ner']\u001b[0m\n",
      "\u001b[38;5;4m[i] Initial learn rate: 0.001\u001b[0m\n",
      "E    #       LOSS TOK2VEC  LOSS NER  ENTS_F  ENTS_P  ENTS_R  SCORE \n",
      "---  ------  ------------  --------  ------  ------  ------  ------\n",
      "  0       0          0.00    175.64    0.00    0.00    0.00    0.00\n",
      "  0     200       3679.91   6336.53   73.86   76.28   71.59    0.74\n",
      "  1     400        281.04   1244.20   83.11   82.84   83.39    0.83\n",
      "  2     600         50.74    702.53   89.08   90.14   88.04    0.89\n",
      "  2     800        411.88    994.36   82.57   84.14   81.06    0.83\n",
      "  3    1000         97.47    514.59   88.85   85.32   92.69    0.89\n",
      "  4    1200         82.01    462.86   91.25   90.66   91.86    0.91\n",
      "  4    1400       1116.67    455.64   90.86   89.26   92.52    0.91\n",
      "  5    1600        157.91    308.28   88.67   86.44   91.03    0.89\n",
      "  6    1800       2079.62    456.69   90.86   93.50   88.37    0.91\n",
      "  6    2000       4128.62    387.86   90.07   88.98   91.20    0.90\n",
      "  7    2200        228.15    264.06   92.46   92.23   92.69    0.92\n",
      "  8    2400        362.68    280.90   89.21   89.88   88.54    0.89\n",
      "  8    2600       1698.13    311.74   88.85   84.77   93.36    0.89\n",
      "  9    2800       7693.73    315.28   88.41   88.78   88.04    0.88\n",
      " 10    3000       1433.78    322.59   87.42   86.01   88.87    0.87\n",
      " 11    3200       1668.47    291.52   89.99   92.77   87.38    0.90\n",
      " 11    3400       3835.23    349.42   89.79   86.35   93.52    0.90\n",
      " 12    3600       5008.72    411.76   89.82   90.97   88.70    0.90\n",
      " 13    3800      25923.86    272.45   89.39   90.61   88.21    0.89\n",
      "\u001b[38;5;2m[+] Saved pipeline to output directory\u001b[0m\n",
      "model-last\n"
     ]
    },
    {
     "name": "stderr",
     "output_type": "stream",
     "text": [
      "[2024-02-22 15:54:31,400] [DEBUG] Config overrides from CLI: ['paths.train', 'paths.dev', 'paths.eval']\n",
      "[2024-02-22 15:54:34,789] [INFO] Set up nlp object from config\n",
      "[2024-02-22 15:54:34,805] [DEBUG] Loading corpus from path: test.spacy\n",
      "[2024-02-22 15:54:34,807] [DEBUG] Loading corpus from path: train.spacy\n",
      "[2024-02-22 15:54:34,807] [INFO] Pipeline: ['tok2vec', 'ner']\n",
      "[2024-02-22 15:54:34,810] [INFO] Created vocabulary\n",
      "[2024-02-22 15:54:37,984] [INFO] Added vectors: es_core_news_lg\n",
      "[2024-02-22 15:54:37,985] [INFO] Finished initializing nlp object\n",
      "[2024-02-22 15:54:43,196] [INFO] Initialized pipeline components: ['tok2vec', 'ner']\n",
      "[2024-02-22 15:54:43,214] [DEBUG] Loading corpus from path: test.spacy\n",
      "[2024-02-22 15:54:43,216] [DEBUG] Loading corpus from path: train.spacy\n"
     ]
    }
   ],
   "source": [
    "# Train a spaCy NER model using the provided configuration and data\n",
    "!python -m spacy train ./config/config.cfg --output ./ --paths.train ./train.spacy --paths.dev ./test.spacy --paths.eval ./dev.spacy --verbose"
   ]
  },
  {
   "cell_type": "markdown",
   "id": "7e98cd98",
   "metadata": {},
   "source": [
    "# PERFORMANCE"
   ]
  },
  {
   "cell_type": "code",
   "execution_count": 9,
   "id": "3bcbeaae",
   "metadata": {},
   "outputs": [],
   "source": [
    "ner_model_path= r'C:\\Users\\juani\\Documents\\3_My_Jupiter_Notebooks\\0_github\\ner\\ner_model_3'"
   ]
  },
  {
   "cell_type": "code",
   "execution_count": 6,
   "id": "c0b4b9c2",
   "metadata": {},
   "outputs": [],
   "source": [
    "import matplotlib.pyplot as plt\n",
    "import warnings"
   ]
  },
  {
   "cell_type": "code",
   "execution_count": 10,
   "id": "5fd949c9",
   "metadata": {},
   "outputs": [
    {
     "data": {
      "text/plain": [
       "'C:\\\\Users\\\\juani\\\\Documents\\\\3_My_Jupiter_Notebooks\\\\0_github\\\\ner\\\\ner_model_3\\\\model-best'"
      ]
     },
     "execution_count": 10,
     "metadata": {},
     "output_type": "execute_result"
    }
   ],
   "source": [
    "os.path.join(ner_model_path,'model-best')"
   ]
  },
  {
   "cell_type": "code",
   "execution_count": 6,
   "id": "dd3a5f7b",
   "metadata": {},
   "outputs": [],
   "source": [
    "# !python -m spacy download es_dep_news_trf"
   ]
  },
  {
   "cell_type": "code",
   "execution_count": 11,
   "id": "574f9b0c",
   "metadata": {},
   "outputs": [],
   "source": [
    "nlp = spacy.load(os.path.join(ner_model_path,'model-best'))"
   ]
  },
  {
   "cell_type": "code",
   "execution_count": 12,
   "id": "0b2a3bdc",
   "metadata": {
    "tags": []
   },
   "outputs": [
    {
     "data": {
      "text/html": [
       "<div>\n",
       "<style scoped>\n",
       "    .dataframe tbody tr th:only-of-type {\n",
       "        vertical-align: middle;\n",
       "    }\n",
       "\n",
       "    .dataframe tbody tr th {\n",
       "        vertical-align: top;\n",
       "    }\n",
       "\n",
       "    .dataframe thead th {\n",
       "        text-align: right;\n",
       "    }\n",
       "</style>\n",
       "<table border=\"1\" class=\"dataframe\">\n",
       "  <thead>\n",
       "    <tr style=\"text-align: right;\">\n",
       "      <th></th>\n",
       "      <th>SOCIO</th>\n",
       "      <th>DNI</th>\n",
       "      <th>OBJETO</th>\n",
       "      <th>SEDE</th>\n",
       "      <th>ESCRIBANO</th>\n",
       "      <th>MODELO</th>\n",
       "    </tr>\n",
       "  </thead>\n",
       "  <tbody>\n",
       "    <tr>\n",
       "      <th>p</th>\n",
       "      <td>0.96</td>\n",
       "      <td>0.94</td>\n",
       "      <td>0.77</td>\n",
       "      <td>0.88</td>\n",
       "      <td>0.97</td>\n",
       "      <td>0.92</td>\n",
       "    </tr>\n",
       "    <tr>\n",
       "      <th>r</th>\n",
       "      <td>0.96</td>\n",
       "      <td>0.96</td>\n",
       "      <td>0.82</td>\n",
       "      <td>0.84</td>\n",
       "      <td>0.96</td>\n",
       "      <td>0.93</td>\n",
       "    </tr>\n",
       "    <tr>\n",
       "      <th>f</th>\n",
       "      <td>0.96</td>\n",
       "      <td>0.95</td>\n",
       "      <td>0.80</td>\n",
       "      <td>0.86</td>\n",
       "      <td>0.97</td>\n",
       "      <td>0.92</td>\n",
       "    </tr>\n",
       "  </tbody>\n",
       "</table>\n",
       "</div>"
      ],
      "text/plain": [
       "   SOCIO   DNI  OBJETO  SEDE  ESCRIBANO  MODELO\n",
       "p   0.96  0.94    0.77  0.88       0.97    0.92\n",
       "r   0.96  0.96    0.82  0.84       0.96    0.93\n",
       "f   0.96  0.95    0.80  0.86       0.97    0.92"
      ]
     },
     "execution_count": 12,
     "metadata": {},
     "output_type": "execute_result"
    }
   ],
   "source": [
    "warnings.simplefilter(action='ignore', category=FutureWarning)\n",
    "\n",
    "# leavntamos los datos de performance:\n",
    "d = nlp.__dict__['_meta']['performance']\n",
    "\n",
    "# armamos un dataframe por variable:\n",
    "ents_per_type = pd.DataFrame(d['ents_per_type'])\n",
    "\n",
    "# armamos una columna para el modelo general:\n",
    "\n",
    "ents_per_type['MODELO'] = np.nan\n",
    "ents_per_type['MODELO'][ents_per_type.index=='p'] = d['ents_p']\n",
    "ents_per_type['MODELO'][ents_per_type.index=='r'] = d['ents_r']\n",
    "ents_per_type['MODELO'][ents_per_type.index=='f'] = d['ents_f']\n",
    "ents_per_type.round(2)"
   ]
  },
  {
   "cell_type": "code",
   "execution_count": 13,
   "id": "c7d7f13e",
   "metadata": {},
   "outputs": [
    {
     "data": {
      "text/plain": [
       "<Axes: >"
      ]
     },
     "execution_count": 13,
     "metadata": {},
     "output_type": "execute_result"
    },
    {
     "data": {
      "image/png": "[encoded data removed]",
      "text/plain": [
       "<Figure size 640x480 with 1 Axes>"
      ]
     },
     "metadata": {},
     "output_type": "display_data"
    }
   ],
   "source": [
    "ents_per_type.plot.bar(ylim=(0.75,1),color=['lightcoral', 'lightgreen', 'lightblue','lightgray','black'], alpha=0.7)"
   ]
  },
  {
   "cell_type": "markdown",
   "id": "b946b9ef",
   "metadata": {},
   "source": [
    "# EXAMPLE"
   ]
  },
  {
   "cell_type": "code",
   "execution_count": 14,
   "id": "059856c3",
   "metadata": {},
   "outputs": [],
   "source": [
    "text = '''\n",
    "KEYBOARD S.A.Escritura Nº 362 de fecha 27/06/2023. Orlando DI FONZO, argentino, empresario, casado en primeras nupcias con \n",
    "Amalia Rinaldi, DNI 8.609.671, CUIT Nº 20-08609671-5; y Gonzalo Gastón DI FONZO, argentino, empresario, soltero, \n",
    "DNI 33.689.504, CUIT 23-33689504-9, ambos domiciliados en Carmen Puch Nº 1000, de la Localidad y Partido de \n",
    "Pilar, Provincia de Buenos Aires: Resuelven que la sociedad se adecúe voluntariamente a las disposiciones del art. \n",
    "124 de la ley 19.550 y aprueban todas las estipulaciones del estatuto: 1) Keyboard S.A. 2) Duración: 30 años desde \n",
    "inscripción. 3) Objeto: Compra, venta, hipoteca, arrendamiento y toda clase de operaciones con bienes inmuebles. \n",
    "Realizar y/o administrar inversiones. Importaciones, exportaciones, comisiones, representaciones y mandatos. \n",
    "Operaciones financieras relacionadas con sus actividades principales. 4) Capital: $  1.000.000.-, representado \n",
    "por diez mil acciones ordinarias, nominativas no endosables, de v/n $ 100.- cada una y derecho a un voto por \n",
    "acción. 5) Dirección y administración: a cargo del directorio compuesto del número de miembros que determine \n",
    "la asamblea, entre un mínimo de uno y un máximo de cinco, por tres ejercicios. 6) Prescindencia de Sindicatura. \n",
    "7) Suscripción: Orlando DI FONZO y Gonzalo Gastón DI FONZO suscriben la cantidad de cinco mil acciones \n",
    "cada uno, lo que representa el 50% del capital social. Directorio: PRESIDENTE: Orlando DI FONZO; y DIRECTOR \n",
    "SUPLENTE: Gonzalo Gastón DI FONZO, quienes constituyen domicilio especial en la sede social, fijada en la calle \n",
    "Lavalle Nº 643, Piso 5º, Oficina “D”, C.A.B.A. Cierre ejercicio social: 30 de junio de cada año. Autorizado según \n",
    "instrumento público Esc. Nº 362 de fecha 27/06/2023 Reg. Nº 1017.Lucía Agundez - T°: 114 F°: 540 C.P.A.C.F.\n",
    "'''"
   ]
  },
  {
   "cell_type": "code",
   "execution_count": 15,
   "id": "0c1a3109",
   "metadata": {},
   "outputs": [
    {
     "name": "stdout",
     "output_type": "stream",
     "text": [
      "Gonzalo Gastón DI FONZO   ->>>>   SOCIO\n",
      "33.689.504   ->>>>   DNI\n",
      "Objeto: Compra, venta, hipoteca, arrendamiento y toda clase de operaciones con bienes inmuebles. \n",
      "Realizar y/o administrar inversiones. Importaciones, exportaciones, comisiones, representaciones y mandatos. \n",
      "Operaciones financieras relacionadas con sus actividades principales.   ->>>>   OBJETO\n"
     ]
    }
   ],
   "source": [
    "# Process the extracted text using the loaded spaCy NER model\n",
    "doc = nlp(text)\n",
    "# Iterate through the named entities (entities) recognized by the model\n",
    "for ent in doc.ents:\n",
    "  # Print the recognized text and its corresponding label\n",
    "  print(ent.text, \"  ->>>>  \", ent.label_)"
   ]
  }
 ],
 "metadata": {
  "kernelspec": {
   "display_name": "Python 3 (ipykernel)",
   "language": "python",
   "name": "python3"
  },
  "language_info": {
   "codemirror_mode": {
    "name": "ipython",
    "version": 3
   },
   "file_extension": ".py",
   "mimetype": "text/x-python",
   "name": "python",
   "nbconvert_exporter": "python",
   "pygments_lexer": "ipython3",
   "version": "3.10.4"
  }
 },
 "nbformat": 4,
 "nbformat_minor": 5
}
