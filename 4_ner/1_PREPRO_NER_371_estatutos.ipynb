{
 "cells": [
  {
   "cell_type": "markdown",
   "id": "b23e73bf-b468-4781-8363-7208f41c8b1c",
   "metadata": {},
   "source": [
    "# FINALIDAD\n",
    "\n",
    "Esta nb levanta el file con anotaciones 371_estatutos.json, lo limpia de errores y crea el dataframe estatutos_anotados.pkl con 308 registros finales para entrenamiento.\n"
   ]
  },
  {
   "cell_type": "code",
   "execution_count": 3,
   "id": "db74d6c9-43b2-42aa-b053-12849cd41132",
   "metadata": {},
   "outputs": [
    {
     "data": {
      "text/plain": [
       "'C:\\\\Users\\\\juani\\\\Documents\\\\3_My_Jupiter_Notebooks\\\\0_github\\\\ner'"
      ]
     },
     "execution_count": 3,
     "metadata": {},
     "output_type": "execute_result"
    }
   ],
   "source": [
    "import pandas as pd\n",
    "import numpy as np\n",
    "import json\n",
    "import os \n",
    "os.getcwd()"
   ]
  },
  {
   "cell_type": "markdown",
   "id": "fea99f62-340f-450e-8694-bfc88a29dd3a",
   "metadata": {},
   "source": [
    "# PRIMER DATASET"
   ]
  },
  {
   "cell_type": "code",
   "execution_count": 173,
   "id": "39abb0b0-ca33-420f-80c8-a0da6ecd9f97",
   "metadata": {},
   "outputs": [
    {
     "data": {
      "text/plain": [
       "['\\r\\nFLORIAN\\xa0S.A.\\r\\n1) Daniel Mario Marquez DNI 10788314 argentino divorciado comerciante 23/02/53 Guillermo Rawson 2715, \\r\\nLocalidad Olivos, Partido Vicente Lopez, Pcia. De Bs. As., quien suscribe 95 acciones y Alberto Rivera Luna DNI \\r\\n18820133 argentino divorciado comerciante 06/01/68 Av. Cobo 1581 CABA, quien suscribe 5 acciones. Todas \\r\\nnominativas no endosables de $\\xa04.000 de Valor Nominal y de 1 Voto por acción 2) 10/02/22 4) Junin 1715 CABA \\r\\n5) Restaurante, café, bar, salón de eventos 6) 30 años 7) $\\xa0400.000 8) Dirección y administración 1 a 7 directores \\r\\npor 3 ejercicios. Sin Síndicos 9) El Presidente. Presidente Daniel Mario Marquez Vicepresidente Alberto Rivera \\r\\nLuna y Suplente Gustavo Marcelo Graieb: DNI 14157635 argentino soltero productor de seguros 14/05/60 Av. \\r\\nCabildo 1695 Piso 8 Depto. 26 CABA todos con domicilio especial en la sede social 10) 30/06 Autorizado según \\r\\ninstrumento público Esc. Nº\\xa016 de fecha 10/02/2022 Reg. Nº\\xa0412\\r\\nPablo Damián Rodriguez - T°: 69 F°: 84 C.P.A.C.F.\\r\\n\\r\\n\\r\\n ',\n",
       " {'entities': [[2, 14, 'SOCIEDAD'],\n",
       "   [19, 39, 'SOCIO'],\n",
       "   [44, 52, 'DNI'],\n",
       "   [208, 227, 'SOCIO'],\n",
       "   [234, 242, 'DNI'],\n",
       "   [962, 984, 'ESCRIBANO']]}]"
      ]
     },
     "execution_count": 173,
     "metadata": {},
     "output_type": "execute_result"
    }
   ],
   "source": [
    "# Load the annotated data from a JSON file\n",
    "df = json.load(open(r'C:\\\\Users\\\\juani\\\\Documents\\\\3_My_Jupiter_Notebooks\\\\0_github\\\\ner\\\\data\\\\371_estatutos.json','r', encoding=\"utf-8\"))\n",
    "# Display the first item in the dataset\n",
    "df['annotations'][0]"
   ]
  },
  {
   "cell_type": "code",
   "execution_count": 174,
   "id": "903ac482-f797-44f6-9334-e7f8b3543cd2",
   "metadata": {},
   "outputs": [
    {
     "data": {
      "text/plain": [
       "dict_keys(['classes', 'annotations'])"
      ]
     },
     "execution_count": 174,
     "metadata": {},
     "output_type": "execute_result"
    }
   ],
   "source": [
    "df.keys()"
   ]
  },
  {
   "cell_type": "code",
   "execution_count": 175,
   "id": "326cf75a-69ae-437c-af4a-190ed85b86af",
   "metadata": {},
   "outputs": [
    {
     "data": {
      "text/plain": [
       "371"
      ]
     },
     "execution_count": 175,
     "metadata": {},
     "output_type": "execute_result"
    }
   ],
   "source": [
    "len(df['annotations'])"
   ]
  },
  {
   "cell_type": "code",
   "execution_count": 176,
   "id": "a0d7cbb4-d19f-4a9a-9eb5-4d74e2f38fbf",
   "metadata": {},
   "outputs": [
    {
     "data": {
      "text/plain": [
       "list"
      ]
     },
     "execution_count": 176,
     "metadata": {},
     "output_type": "execute_result"
    }
   ],
   "source": [
    "type(df['annotations'])"
   ]
  },
  {
   "cell_type": "code",
   "execution_count": 177,
   "id": "f94d1d61-c2ca-40af-8db9-f58a238bbb2c",
   "metadata": {},
   "outputs": [
    {
     "data": {
      "text/plain": [
       "2"
      ]
     },
     "execution_count": 177,
     "metadata": {},
     "output_type": "execute_result"
    }
   ],
   "source": [
    "len(df['annotations'][100])"
   ]
  },
  {
   "cell_type": "code",
   "execution_count": 178,
   "id": "362b6fa3-cf88-42b1-907f-d8e6d85e9bfb",
   "metadata": {},
   "outputs": [
    {
     "name": "stdout",
     "output_type": "stream",
     "text": [
      "24\n",
      "43\n",
      "91\n",
      "121\n",
      "217\n",
      "300\n",
      "303\n",
      "317\n",
      "333\n",
      "344\n"
     ]
    }
   ],
   "source": [
    "for idx,l in enumerate(df['annotations']):\n",
    "    if l is None:\n",
    "        print(idx)"
   ]
  },
  {
   "cell_type": "code",
   "execution_count": 179,
   "id": "815d03e9-bc96-44b1-828b-1cb55697dc03",
   "metadata": {},
   "outputs": [
    {
     "name": "stdout",
     "output_type": "stream",
     "text": [
      "371\n",
      "361\n"
     ]
    }
   ],
   "source": [
    "# eliminamos los elementos vacíos:\n",
    "print(len(df['annotations']))\n",
    "df['annotations'] = [l for l in df['annotations'] if l is not None]\n",
    "print(len(df['annotations']))"
   ]
  },
  {
   "cell_type": "code",
   "execution_count": 180,
   "id": "badaba87-83f8-4fa9-8699-85487a5eb074",
   "metadata": {},
   "outputs": [
    {
     "name": "stdout",
     "output_type": "stream",
     "text": [
      "tamaño inicial: 361\n",
      "duplicados: 39\n",
      "tamaño final: 322\n"
     ]
    }
   ],
   "source": [
    "# creamos un dataframe:\n",
    "df_ = pd.DataFrame(df['annotations'])\n",
    "\n",
    "# eliminamos los elementos duplicados:\n",
    "print(f'tamaño inicial: {len(df_)}')\n",
    "print(f'duplicados: {len(df_[df_.duplicated([0], keep=False)])}')\n",
    "df_ = df_[~df_.duplicated([0], keep=False)]\n",
    "print(f'tamaño final: {len(df_)}')"
   ]
  },
  {
   "cell_type": "code",
   "execution_count": 181,
   "id": "3e3cb58c-740d-430b-aad3-5d619e838cf5",
   "metadata": {},
   "outputs": [
    {
     "name": "stdout",
     "output_type": "stream",
     "text": [
      "18\n",
      "[19, 38, 79, 101, 101, 109, 123, 165, 166, 166, 212, 212, 230, 230, 231, 267, 275, 291]\n"
     ]
    }
   ],
   "source": [
    "# detectamos los documentos con problemas de anotacion en DNIs (por contiguidad de texto... etc)\n",
    "problematicos_idx = []\n",
    "for n,d in enumerate(df_exp2[1].tolist()):\n",
    "    for l in d['entities']:\n",
    "        if 'DNI' in l and l[1]-l[0]> 10:\n",
    "            # print(n)\n",
    "            problematicos_idx.append(n)\n",
    "print(len(problematicos_idx))\n",
    "print(problematicos_idx)"
   ]
  },
  {
   "cell_type": "code",
   "execution_count": 142,
   "id": "46ec833e-ca50-4dac-a503-cdaad1877b05",
   "metadata": {},
   "outputs": [
    {
     "data": {
      "text/plain": [
       "308"
      ]
     },
     "execution_count": 142,
     "metadata": {},
     "output_type": "execute_result"
    }
   ],
   "source": [
    "df_ = df_.reset_index(drop=True).drop(index=problematicos_idx)\n",
    "len(df_)"
   ]
  },
  {
   "cell_type": "code",
   "execution_count": 182,
   "id": "da2ff880-13bc-4e15-b189-cf7e24179359",
   "metadata": {},
   "outputs": [
    {
     "data": {
      "text/plain": [
       "['\\r\\nFLORIAN\\xa0S.A.\\r\\n1) Daniel Mario Marquez DNI 10788314 argentino divorciado comerciante 23/02/53 Guillermo Rawson 2715, \\r\\nLocalidad Olivos, Partido Vicente Lopez, Pcia. De Bs. As., quien suscribe 95 acciones y Alberto Rivera Luna DNI \\r\\n18820133 argentino divorciado comerciante 06/01/68 Av. Cobo 1581 CABA, quien suscribe 5 acciones. Todas \\r\\nnominativas no endosables de $\\xa04.000 de Valor Nominal y de 1 Voto por acción 2) 10/02/22 4) Junin 1715 CABA \\r\\n5) Restaurante, café, bar, salón de eventos 6) 30 años 7) $\\xa0400.000 8) Dirección y administración 1 a 7 directores \\r\\npor 3 ejercicios. Sin Síndicos 9) El Presidente. Presidente Daniel Mario Marquez Vicepresidente Alberto Rivera \\r\\nLuna y Suplente Gustavo Marcelo Graieb: DNI 14157635 argentino soltero productor de seguros 14/05/60 Av. \\r\\nCabildo 1695 Piso 8 Depto. 26 CABA todos con domicilio especial en la sede social 10) 30/06 Autorizado según \\r\\ninstrumento público Esc. Nº\\xa016 de fecha 10/02/2022 Reg. Nº\\xa0412\\r\\nPablo Damián Rodriguez - T°: 69 F°: 84 C.P.A.C.F.\\r\\n\\r\\n\\r\\n ',\n",
       " {'entities': [[2, 14, 'SOCIEDAD'],\n",
       "   [19, 39, 'SOCIO'],\n",
       "   [44, 52, 'DNI'],\n",
       "   [208, 227, 'SOCIO'],\n",
       "   [234, 242, 'DNI'],\n",
       "   [962, 984, 'ESCRIBANO']]}]"
      ]
     },
     "execution_count": 182,
     "metadata": {},
     "output_type": "execute_result"
    }
   ],
   "source": [
    "# volvemos al formato anterior:\n",
    "ls_anotada = df_.values.tolist()\n",
    "ls_anotada[0]"
   ]
  },
  {
   "cell_type": "code",
   "execution_count": 146,
   "id": "e882a378-413b-4f0e-946f-1a265961ae51",
   "metadata": {},
   "outputs": [],
   "source": [
    "estatutos_anotados = pd.DataFrame(ls_anotada)\n",
    "estatutos_anotados.to_pickle('estatutos_anotados.pkl')"
   ]
  },
  {
   "cell_type": "code",
   "execution_count": 184,
   "id": "400d5bdc-c4c6-44cb-8422-6737be197f51",
   "metadata": {},
   "outputs": [
    {
     "data": {
      "text/html": [
       "<div>\n",
       "<style scoped>\n",
       "    .dataframe tbody tr th:only-of-type {\n",
       "        vertical-align: middle;\n",
       "    }\n",
       "\n",
       "    .dataframe tbody tr th {\n",
       "        vertical-align: top;\n",
       "    }\n",
       "\n",
       "    .dataframe thead th {\n",
       "        text-align: right;\n",
       "    }\n",
       "</style>\n",
       "<table border=\"1\" class=\"dataframe\">\n",
       "  <thead>\n",
       "    <tr style=\"text-align: right;\">\n",
       "      <th></th>\n",
       "      <th>0</th>\n",
       "      <th>1</th>\n",
       "    </tr>\n",
       "  </thead>\n",
       "  <tbody>\n",
       "    <tr>\n",
       "      <th>0</th>\n",
       "      <td>\\r\\nFLORIAN S.A.\\r\\n1) Daniel Mario Marquez DN...</td>\n",
       "      <td>{'entities': [[2, 14, 'SOCIEDAD'], [19, 39, 'S...</td>\n",
       "    </tr>\n",
       "    <tr>\n",
       "      <th>1</th>\n",
       "      <td>\\r\\n\\r\\n \\r\\nAVAPYME S.A.S.\\r\\nCONSTITUCIÓN: ...</td>\n",
       "      <td>{'entities': [[8, 22, 'SOCIEDAD'], [54, 74, 'S...</td>\n",
       "    </tr>\n",
       "    <tr>\n",
       "      <th>2</th>\n",
       "      <td>\\r\\n\\r\\n \\r\\nSHABBA FARMA S.R.L.\\r\\nEsc. 269 ...</td>\n",
       "      <td>{'entities': [[8, 27, 'SOCIEDAD'], [78, 97, 'S...</td>\n",
       "    </tr>\n",
       "    <tr>\n",
       "      <th>3</th>\n",
       "      <td>\\r\\n\\r\\n \\r\\nDUBAI ENERGY S.A.\\r\\nCONSTITUCIO...</td>\n",
       "      <td>{'entities': [[8, 25, 'SOCIEDAD'], [81, 102, '...</td>\n",
       "    </tr>\n",
       "    <tr>\n",
       "      <th>4</th>\n",
       "      <td>\\r\\n\\r\\n \\r\\nPUBLICA LAB S.A.S.\\r\\nCONSTITUCI...</td>\n",
       "      <td>{'entities': [[8, 26, 'SOCIEDAD'], [58, 80, 'S...</td>\n",
       "    </tr>\n",
       "    <tr>\n",
       "      <th>...</th>\n",
       "      <td>...</td>\n",
       "      <td>...</td>\n",
       "    </tr>\n",
       "    <tr>\n",
       "      <th>303</th>\n",
       "      <td>\\r\\n\\r\\n \\r\\nTRANSPORTE 787 S.A.\\r\\nEsc. 12 d...</td>\n",
       "      <td>{'entities': [[8, 27, 'SOCIEDAD'], [78, 89, 'S...</td>\n",
       "    </tr>\n",
       "    <tr>\n",
       "      <th>304</th>\n",
       "      <td>\\r\\n\\r\\n \\r\\nRODIALE S.A.\\r\\nPor escritura de...</td>\n",
       "      <td>{'entities': [[8, 20, 'SOCIEDAD'], [86, 100, '...</td>\n",
       "    </tr>\n",
       "    <tr>\n",
       "      <th>305</th>\n",
       "      <td>\\r\\n\\r\\n \\r\\nARQ &amp; CO S.A.S.\\r\\nCONSTITUCIÓN:...</td>\n",
       "      <td>{'entities': [[8, 23, 'SOCIEDAD'], [55, 81, 'S...</td>\n",
       "    </tr>\n",
       "    <tr>\n",
       "      <th>306</th>\n",
       "      <td>\\r\\n\\r\\n \\r\\n\\r\\n\\r\\n \\r\\nEVENTOS TURISTICOS ...</td>\n",
       "      <td>{'entities': [[15, 50, 'SOCIEDAD'], [68, 88, '...</td>\n",
       "    </tr>\n",
       "    <tr>\n",
       "      <th>307</th>\n",
       "      <td>\\r\\n\\r\\n \\r\\nTRUST STREAMING S.R.L.\\r\\nConsti...</td>\n",
       "      <td>{'entities': [[8, 30, 'SOCIEDAD'], [127, 148, ...</td>\n",
       "    </tr>\n",
       "  </tbody>\n",
       "</table>\n",
       "<p>308 rows × 2 columns</p>\n",
       "</div>"
      ],
      "text/plain": [
       "                                                     0  \\\n",
       "0    \\r\\nFLORIAN S.A.\\r\\n1) Daniel Mario Marquez DN...   \n",
       "1     \\r\\n\\r\\n \\r\\nAVAPYME S.A.S.\\r\\nCONSTITUCIÓN: ...   \n",
       "2     \\r\\n\\r\\n \\r\\nSHABBA FARMA S.R.L.\\r\\nEsc. 269 ...   \n",
       "3     \\r\\n\\r\\n \\r\\nDUBAI ENERGY S.A.\\r\\nCONSTITUCIO...   \n",
       "4     \\r\\n\\r\\n \\r\\nPUBLICA LAB S.A.S.\\r\\nCONSTITUCI...   \n",
       "..                                                 ...   \n",
       "303   \\r\\n\\r\\n \\r\\nTRANSPORTE 787 S.A.\\r\\nEsc. 12 d...   \n",
       "304   \\r\\n\\r\\n \\r\\nRODIALE S.A.\\r\\nPor escritura de...   \n",
       "305   \\r\\n\\r\\n \\r\\nARQ & CO S.A.S.\\r\\nCONSTITUCIÓN:...   \n",
       "306   \\r\\n\\r\\n \\r\\n\\r\\n\\r\\n \\r\\nEVENTOS TURISTICOS ...   \n",
       "307   \\r\\n\\r\\n \\r\\nTRUST STREAMING S.R.L.\\r\\nConsti...   \n",
       "\n",
       "                                                     1  \n",
       "0    {'entities': [[2, 14, 'SOCIEDAD'], [19, 39, 'S...  \n",
       "1    {'entities': [[8, 22, 'SOCIEDAD'], [54, 74, 'S...  \n",
       "2    {'entities': [[8, 27, 'SOCIEDAD'], [78, 97, 'S...  \n",
       "3    {'entities': [[8, 25, 'SOCIEDAD'], [81, 102, '...  \n",
       "4    {'entities': [[8, 26, 'SOCIEDAD'], [58, 80, 'S...  \n",
       "..                                                 ...  \n",
       "303  {'entities': [[8, 27, 'SOCIEDAD'], [78, 89, 'S...  \n",
       "304  {'entities': [[8, 20, 'SOCIEDAD'], [86, 100, '...  \n",
       "305  {'entities': [[8, 23, 'SOCIEDAD'], [55, 81, 'S...  \n",
       "306  {'entities': [[15, 50, 'SOCIEDAD'], [68, 88, '...  \n",
       "307  {'entities': [[8, 30, 'SOCIEDAD'], [127, 148, ...  \n",
       "\n",
       "[308 rows x 2 columns]"
      ]
     },
     "execution_count": 184,
     "metadata": {},
     "output_type": "execute_result"
    }
   ],
   "source": [
    "estatutos_anotados"
   ]
  },
  {
   "cell_type": "markdown",
   "id": "ce225e73-4d57-4746-9c18-fcc610119604",
   "metadata": {},
   "source": [
    "# SEGUNDO DATASET\n",
    "## ARMAMOS UN SEGUNDO DATASET DEJANDO VACIOS LOS ENTRENAMIENTOS CON POCOS DATOS:"
   ]
  },
  {
   "cell_type": "code",
   "execution_count": 186,
   "id": "2d16b498-3716-44a4-8716-ef5e7dd9550a",
   "metadata": {},
   "outputs": [],
   "source": [
    "# detectamos los documentos con problemas de anotacion en DNIs (por contiguidad de texto... etc)\n",
    "problematicos_idx = []\n",
    "for n,d in enumerate(estatutos_anotados[1].tolist()):\n",
    "    for l in d['entities']:\n",
    "        if 'ESCRIBANO' in l :\n",
    "            if estatutos_anotados[0][n][l[0]:l[1]]=='Trámites a Distancia':\n",
    "                problematicos_idx.append(n)\n",
    "            # print(df_exp2[0][n][l[0]:l[1]])\n",
    "            \n",
    "#             problematicos_idx.append(n)\n",
    "# print(len(problematicos_idx))\n",
    "# print(problematicos_idx)"
   ]
  },
  {
   "cell_type": "code",
   "execution_count": 167,
   "id": "d7ed974a-888f-46f8-a1d0-fd25faf97b03",
   "metadata": {},
   "outputs": [],
   "source": [
    "# eliminamos los registros de 'escribano' en los casos que sean \"problematicos\":\n",
    "for d in df_exp2[1][problematicos_idx]:\n",
    "    d['entities'] = [sublist for sublist in d['entities'] if 'ESCRIBANO' not in sublist]\n",
    "    # print(d['entities'])"
   ]
  },
  {
   "cell_type": "code",
   "execution_count": 168,
   "id": "3db05ea5-2efc-43e0-bdf0-625fb81d7339",
   "metadata": {},
   "outputs": [
    {
     "data": {
      "text/plain": [
       "0"
      ]
     },
     "execution_count": 168,
     "metadata": {},
     "output_type": "execute_result"
    }
   ],
   "source": [
    "# controlamos que ya no haya casos problematicos:\n",
    "problematicos_idx = []\n",
    "for n,d in enumerate(df_exp2[1].tolist()):\n",
    "    for l in d['entities']:\n",
    "        if 'ESCRIBANO' in l :\n",
    "            if df_exp2[0][n][l[0]:l[1]]=='Trámites a Distancia':\n",
    "                problematicos_idx.append(n)\n",
    "len(problematicos_idx)"
   ]
  },
  {
   "cell_type": "code",
   "execution_count": 170,
   "id": "1245189a-0025-416e-97ce-d6627405ee82",
   "metadata": {},
   "outputs": [
    {
     "name": "stdout",
     "output_type": "stream",
     "text": [
      "18\n",
      "[19, 38, 79, 101, 101, 109, 123, 165, 166, 166, 212, 212, 230, 230, 231, 267, 275, 291]\n"
     ]
    }
   ],
   "source": [
    "# detectamos los documentos con problemas de anotacion en DNIs (por contiguidad de texto... etc)\n",
    "problematicos_idx = []\n",
    "for n,d in enumerate(df_exp2[1].tolist()):\n",
    "    for l in d['entities']:\n",
    "        if 'DNI' in l and l[1]-l[0]> 10:\n",
    "            # print(n)\n",
    "            problematicos_idx.append(n)\n",
    "print(len(problematicos_idx))\n",
    "print(problematicos_idx)"
   ]
  },
  {
   "cell_type": "code",
   "execution_count": 172,
   "id": "da10c128-4175-481f-b29f-c2ace9c61af1",
   "metadata": {},
   "outputs": [
    {
     "data": {
      "text/plain": [
       "347"
      ]
     },
     "execution_count": 172,
     "metadata": {},
     "output_type": "execute_result"
    }
   ],
   "source": [
    "df2 = df_exp2.reset_index(drop=True).drop(index=problematicos_idx)\n",
    "len(df2)"
   ]
  },
  {
   "cell_type": "code",
   "execution_count": 169,
   "id": "f3164183-9521-4c61-a96f-a9379fe6d044",
   "metadata": {},
   "outputs": [
    {
     "data": {
      "text/html": [
       "<div>\n",
       "<style scoped>\n",
       "    .dataframe tbody tr th:only-of-type {\n",
       "        vertical-align: middle;\n",
       "    }\n",
       "\n",
       "    .dataframe tbody tr th {\n",
       "        vertical-align: top;\n",
       "    }\n",
       "\n",
       "    .dataframe thead th {\n",
       "        text-align: right;\n",
       "    }\n",
       "</style>\n",
       "<table border=\"1\" class=\"dataframe\">\n",
       "  <thead>\n",
       "    <tr style=\"text-align: right;\">\n",
       "      <th></th>\n",
       "      <th>0</th>\n",
       "      <th>1</th>\n",
       "    </tr>\n",
       "  </thead>\n",
       "  <tbody>\n",
       "    <tr>\n",
       "      <th>0</th>\n",
       "      <td>\\r\\nFLORIAN S.A.\\r\\n1) Daniel Mario Marquez DN...</td>\n",
       "      <td>{'entities': [[2, 14, 'SOCIEDAD'], [19, 39, 'S...</td>\n",
       "    </tr>\n",
       "    <tr>\n",
       "      <th>1</th>\n",
       "      <td>\\r\\n\\r\\n \\r\\nAVAPYME S.A.S.\\r\\nCONSTITUCIÓN: ...</td>\n",
       "      <td>{'entities': [[8, 22, 'SOCIEDAD'], [54, 74, 'S...</td>\n",
       "    </tr>\n",
       "    <tr>\n",
       "      <th>2</th>\n",
       "      <td>\\r\\n\\r\\n \\r\\nSHABBA FARMA S.R.L.\\r\\nEsc. 269 ...</td>\n",
       "      <td>{'entities': [[8, 27, 'SOCIEDAD'], [78, 97, 'S...</td>\n",
       "    </tr>\n",
       "    <tr>\n",
       "      <th>3</th>\n",
       "      <td>\\r\\n\\r\\n \\r\\nDUBAI ENERGY S.A.\\r\\nCONSTITUCIO...</td>\n",
       "      <td>{'entities': [[8, 25, 'SOCIEDAD'], [81, 102, '...</td>\n",
       "    </tr>\n",
       "    <tr>\n",
       "      <th>4</th>\n",
       "      <td>\\r\\n\\r\\n \\r\\nPUBLICA LAB S.A.S.\\r\\nCONSTITUCI...</td>\n",
       "      <td>{'entities': [[8, 26, 'SOCIEDAD'], [58, 80, 'S...</td>\n",
       "    </tr>\n",
       "    <tr>\n",
       "      <th>...</th>\n",
       "      <td>...</td>\n",
       "      <td>...</td>\n",
       "    </tr>\n",
       "    <tr>\n",
       "      <th>356</th>\n",
       "      <td>\\r\\n\\r\\n \\r\\nTRANSPORTE 787 S.A.\\r\\nEsc. 12 d...</td>\n",
       "      <td>{'entities': [[8, 27, 'SOCIEDAD'], [78, 89, 'S...</td>\n",
       "    </tr>\n",
       "    <tr>\n",
       "      <th>357</th>\n",
       "      <td>\\r\\n\\r\\n \\r\\nRODIALE S.A.\\r\\nPor escritura de...</td>\n",
       "      <td>{'entities': [[8, 20, 'SOCIEDAD'], [86, 100, '...</td>\n",
       "    </tr>\n",
       "    <tr>\n",
       "      <th>358</th>\n",
       "      <td>\\r\\n\\r\\n \\r\\nARQ &amp; CO S.A.S.\\r\\nCONSTITUCIÓN:...</td>\n",
       "      <td>{'entities': [[8, 23, 'SOCIEDAD'], [55, 81, 'S...</td>\n",
       "    </tr>\n",
       "    <tr>\n",
       "      <th>359</th>\n",
       "      <td>\\r\\n\\r\\n \\r\\n\\r\\n\\r\\n \\r\\nEVENTOS TURISTICOS ...</td>\n",
       "      <td>{'entities': [[15, 50, 'SOCIEDAD'], [68, 88, '...</td>\n",
       "    </tr>\n",
       "    <tr>\n",
       "      <th>360</th>\n",
       "      <td>\\r\\n\\r\\n \\r\\nTRUST STREAMING S.R.L.\\r\\nConsti...</td>\n",
       "      <td>{'entities': [[8, 30, 'SOCIEDAD'], [127, 148, ...</td>\n",
       "    </tr>\n",
       "  </tbody>\n",
       "</table>\n",
       "<p>361 rows × 2 columns</p>\n",
       "</div>"
      ],
      "text/plain": [
       "                                                     0  \\\n",
       "0    \\r\\nFLORIAN S.A.\\r\\n1) Daniel Mario Marquez DN...   \n",
       "1     \\r\\n\\r\\n \\r\\nAVAPYME S.A.S.\\r\\nCONSTITUCIÓN: ...   \n",
       "2     \\r\\n\\r\\n \\r\\nSHABBA FARMA S.R.L.\\r\\nEsc. 269 ...   \n",
       "3     \\r\\n\\r\\n \\r\\nDUBAI ENERGY S.A.\\r\\nCONSTITUCIO...   \n",
       "4     \\r\\n\\r\\n \\r\\nPUBLICA LAB S.A.S.\\r\\nCONSTITUCI...   \n",
       "..                                                 ...   \n",
       "356   \\r\\n\\r\\n \\r\\nTRANSPORTE 787 S.A.\\r\\nEsc. 12 d...   \n",
       "357   \\r\\n\\r\\n \\r\\nRODIALE S.A.\\r\\nPor escritura de...   \n",
       "358   \\r\\n\\r\\n \\r\\nARQ & CO S.A.S.\\r\\nCONSTITUCIÓN:...   \n",
       "359   \\r\\n\\r\\n \\r\\n\\r\\n\\r\\n \\r\\nEVENTOS TURISTICOS ...   \n",
       "360   \\r\\n\\r\\n \\r\\nTRUST STREAMING S.R.L.\\r\\nConsti...   \n",
       "\n",
       "                                                     1  \n",
       "0    {'entities': [[2, 14, 'SOCIEDAD'], [19, 39, 'S...  \n",
       "1    {'entities': [[8, 22, 'SOCIEDAD'], [54, 74, 'S...  \n",
       "2    {'entities': [[8, 27, 'SOCIEDAD'], [78, 97, 'S...  \n",
       "3    {'entities': [[8, 25, 'SOCIEDAD'], [81, 102, '...  \n",
       "4    {'entities': [[8, 26, 'SOCIEDAD'], [58, 80, 'S...  \n",
       "..                                                 ...  \n",
       "356  {'entities': [[8, 27, 'SOCIEDAD'], [78, 89, 'S...  \n",
       "357  {'entities': [[8, 20, 'SOCIEDAD'], [86, 100, '...  \n",
       "358  {'entities': [[8, 23, 'SOCIEDAD'], [55, 81, 'S...  \n",
       "359  {'entities': [[15, 50, 'SOCIEDAD'], [68, 88, '...  \n",
       "360  {'entities': [[8, 30, 'SOCIEDAD'], [127, 148, ...  \n",
       "\n",
       "[361 rows x 2 columns]"
      ]
     },
     "execution_count": 169,
     "metadata": {},
     "output_type": "execute_result"
    }
   ],
   "source": [
    "df_exp2"
   ]
  },
  {
   "cell_type": "code",
   "execution_count": null,
   "id": "2eee6419-91d4-4627-a6b4-9cf20a957a46",
   "metadata": {},
   "outputs": [],
   "source": [
    "df_exp2"
   ]
  },
  {
   "cell_type": "markdown",
   "id": "c882b93a-5d83-4ba1-ac72-99386a3a4424",
   "metadata": {},
   "source": [
    "FIN"
   ]
  }
 ],
 "metadata": {
  "kernelspec": {
   "display_name": "Python 3 (ipykernel)",
   "language": "python",
   "name": "python3"
  },
  "language_info": {
   "codemirror_mode": {
    "name": "ipython",
    "version": 3
   },
   "file_extension": ".py",
   "mimetype": "text/x-python",
   "name": "python",
   "nbconvert_exporter": "python",
   "pygments_lexer": "ipython3",
   "version": "3.10.4"
  }
 },
 "nbformat": 4,
 "nbformat_minor": 5
}
