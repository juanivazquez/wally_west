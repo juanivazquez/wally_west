{
 "cells": [
  {
   "cell_type": "markdown",
   "id": "cc2e934e-1fd4-4f95-8792-22445ee3f69d",
   "metadata": {},
   "source": [
    "# LIBRARIES"
   ]
  },
  {
   "cell_type": "code",
   "execution_count": 1,
   "id": "73ad9af9-f8cd-4864-8ee7-611cfa207029",
   "metadata": {},
   "outputs": [
    {
     "data": {
      "text/plain": [
       "'C:\\\\Users\\\\juani\\\\Documents\\\\3_My_Jupiter_Notebooks\\\\0_github\\\\ner\\\\dataset_500_casos'"
      ]
     },
     "execution_count": 1,
     "metadata": {},
     "output_type": "execute_result"
    }
   ],
   "source": [
    "import fitz\n",
    "import os\n",
    "import shutil\n",
    "import re\n",
    "import pandas as pd\n",
    "import numpy as np\n",
    "from functools import wraps\n",
    "import time\n",
    "\n",
    "def timeit(func):\n",
    "    @wraps(func)\n",
    "    def timeit_wrapper(*args, **kwargs):\n",
    "        start_time = time.perf_counter()\n",
    "        result = func(*args, **kwargs)\n",
    "        end_time = time.perf_counter()\n",
    "        total_time = end_time - start_time\n",
    "        # print(f'Function {func.__name__}{args} {kwargs} Took {total_time:.4f} seconds')\n",
    "        print(f'Function {func.__name__} Took {total_time:.4f} seconds')\n",
    "        return result\n",
    "    return timeit_wrapper\n",
    "\n",
    "os.getcwd()"
   ]
  },
  {
   "cell_type": "code",
   "execution_count": null,
   "id": "38eeddf7-cf56-434b-a280-4ad9d54da842",
   "metadata": {},
   "outputs": [],
   "source": [
    "import json\n",
    "import os\n",
    "os.getcwd()"
   ]
  },
  {
   "cell_type": "markdown",
   "id": "785c2b93-d036-4cf6-931f-a617cef39fb1",
   "metadata": {},
   "source": [
    "### caso 2"
   ]
  },
  {
   "cell_type": "markdown",
   "id": "b1a9417d-9af0-455f-bc16-73f6b0ec6c71",
   "metadata": {},
   "source": [
    "## levantamos dataset anotado"
   ]
  },
  {
   "cell_type": "code",
   "execution_count": 6,
   "id": "478483ae-0c68-44a3-9594-8693f874f903",
   "metadata": {},
   "outputs": [],
   "source": [
    "import json"
   ]
  },
  {
   "cell_type": "code",
   "execution_count": 25,
   "id": "2362fcb7-afa6-4dfc-a409-af89022714d0",
   "metadata": {},
   "outputs": [
    {
     "name": "stdout",
     "output_type": "stream",
     "text": [
      "C:\\\\Users\\\\juani\\\\Documents\\\\3_My_Jupiter_Notebooks\\\\0_github\\\\ner\\\\dataset_500_casos\\dataset_500_casos.json\n"
     ]
    }
   ],
   "source": [
    "local_path = r'C:\\\\Users\\\\juani\\\\Documents\\\\3_My_Jupiter_Notebooks\\\\0_github\\\\ner\\\\dataset_500_casos'\n",
    "json_file_path = os.path.join(local_path,'dataset_500_casos.json')\n",
    "print(json_file_path)"
   ]
  },
  {
   "cell_type": "code",
   "execution_count": 24,
   "id": "59acc9cf-fb97-46ad-b66f-e4940d32fb6b",
   "metadata": {},
   "outputs": [
    {
     "data": {
      "text/plain": [
       "'C:\\\\Users\\\\juani\\\\Documents\\\\3_My_Jupiter_Notebooks\\\\0_github\\\\ner\\\\dataset_500_casos'"
      ]
     },
     "execution_count": 24,
     "metadata": {},
     "output_type": "execute_result"
    }
   ],
   "source": [
    " os.getcwd()"
   ]
  },
  {
   "cell_type": "code",
   "execution_count": 7,
   "id": "39693907-99b1-4dd4-ac1c-5f488a7b6e75",
   "metadata": {},
   "outputs": [
    {
     "data": {
      "text/plain": [
       "404"
      ]
     },
     "execution_count": 7,
     "metadata": {},
     "output_type": "execute_result"
    }
   ],
   "source": [
    "with open(json_file_path, 'r', encoding=\"utf-8\") as json_file:\n",
    "    data = json.load(json_file)\n",
    "indices_to_remove = []\n",
    "for i,d in enumerate(data['annotations']):\n",
    "    try:\n",
    "        if d is None:\n",
    "            indices_to_remove.append(i)\n",
    "    except:\n",
    "        pass\n",
    "# print(indices_to_remove)\n",
    "dataset_anotado = [value for index, value in enumerate(data['annotations']) if index not in indices_to_remove]\n",
    "len(dataset_anotado)"
   ]
  },
  {
   "cell_type": "markdown",
   "id": "4e8bb727-e7b0-4120-a9fb-378151cc147a",
   "metadata": {},
   "source": [
    "### agregamos una anotacion al primer elemento"
   ]
  },
  {
   "cell_type": "code",
   "execution_count": 11,
   "id": "489ddea5-07c8-4d15-8d3a-29619ec65a14",
   "metadata": {},
   "outputs": [
    {
     "name": "stdout",
     "output_type": "stream",
     "text": [
      "(17, 22)\n"
     ]
    }
   ],
   "source": [
    "def find_substring_locations(main_string, substring):\n",
    "    start_index = main_string.find(substring)\n",
    "    \n",
    "    if start_index != -1:\n",
    "        end_index = start_index + len(substring) - 1\n",
    "        return start_index, end_index\n",
    "    else:\n",
    "        return None\n",
    "\n",
    "# Example usage\n",
    "main_string = \"Hello, this is a sample string.\"\n",
    "substring = \"sample\"\n",
    "\n",
    "locations = find_substring_locations(main_string, substring)\n",
    "print(locations)"
   ]
  },
  {
   "cell_type": "code",
   "execution_count": 13,
   "id": "5fa4259e-0f5a-4a73-8576-abe12d5e6a52",
   "metadata": {},
   "outputs": [
    {
     "data": {
      "text/plain": [
       "(382, 413)"
      ]
     },
     "execution_count": 13,
     "metadata": {},
     "output_type": "execute_result"
    }
   ],
   "source": [
    "find_substring_locations(dataset_anotado[0][0],'Sede Social: Tucumán 2454, CABA.')"
   ]
  },
  {
   "cell_type": "code",
   "execution_count": 14,
   "id": "49a8b45f-2790-415a-aa4a-e6cda59545f1",
   "metadata": {},
   "outputs": [
    {
     "data": {
      "text/plain": [
       "'Sede Social: Tucumán 2454, CABA'"
      ]
     },
     "execution_count": 14,
     "metadata": {},
     "output_type": "execute_result"
    }
   ],
   "source": [
    "dataset_anotado[0][0][382:413]"
   ]
  },
  {
   "cell_type": "code",
   "execution_count": 18,
   "id": "1cbd80c3-f122-4649-8362-d3fe70385d8a",
   "metadata": {},
   "outputs": [
    {
     "data": {
      "text/plain": [
       "[[49, 68, 'SOCIO'],\n",
       " [83, 91, 'DNI'],\n",
       " [147, 169, 'SOCIO'],\n",
       " [183, 191, 'DNI'],\n",
       " [249, 262, 'SOCIO'],\n",
       " [277, 285, 'DNI'],\n",
       " [449, 685, 'OBJETO'],\n",
       " [990, 1023, 'ESCRIBANO']]"
      ]
     },
     "execution_count": 18,
     "metadata": {},
     "output_type": "execute_result"
    }
   ],
   "source": [
    "dataset_anotado[0][1]['entities']"
   ]
  },
  {
   "cell_type": "code",
   "execution_count": 19,
   "id": "3aaf66c9-6b7c-4e41-990a-4393cfedd755",
   "metadata": {},
   "outputs": [],
   "source": [
    "dataset_anotado[0][1]['entities'].append([382,413,'SEDE'])"
   ]
  },
  {
   "cell_type": "code",
   "execution_count": 20,
   "id": "50c19ead-e20a-4276-84c2-6971927e56d8",
   "metadata": {},
   "outputs": [
    {
     "data": {
      "text/plain": [
       "[[49, 68, 'SOCIO'],\n",
       " [83, 91, 'DNI'],\n",
       " [147, 169, 'SOCIO'],\n",
       " [183, 191, 'DNI'],\n",
       " [249, 262, 'SOCIO'],\n",
       " [277, 285, 'DNI'],\n",
       " [449, 685, 'OBJETO'],\n",
       " [990, 1023, 'ESCRIBANO'],\n",
       " [382, 413, 'SEDE']]"
      ]
     },
     "execution_count": 20,
     "metadata": {},
     "output_type": "execute_result"
    }
   ],
   "source": [
    "dataset_anotado[0][1]['entities']"
   ]
  },
  {
   "cell_type": "code",
   "execution_count": 21,
   "id": "89e30535-8338-40cf-8e79-89d1bf22d5d7",
   "metadata": {},
   "outputs": [
    {
     "data": {
      "text/plain": [
       "404"
      ]
     },
     "execution_count": 21,
     "metadata": {},
     "output_type": "execute_result"
    }
   ],
   "source": [
    "len(dataset_anotado)"
   ]
  },
  {
   "cell_type": "code",
   "execution_count": 22,
   "id": "7dbe14f1-5739-45b4-ab1d-f73f8a8656f0",
   "metadata": {},
   "outputs": [
    {
     "data": {
      "text/plain": [
       "list"
      ]
     },
     "execution_count": 22,
     "metadata": {},
     "output_type": "execute_result"
    }
   ],
   "source": [
    "type(dataset_anotado)"
   ]
  },
  {
   "cell_type": "markdown",
   "id": "5c78a560-df60-405b-b311-05926578876c",
   "metadata": {},
   "source": [
    "# guardamos"
   ]
  },
  {
   "cell_type": "code",
   "execution_count": 23,
   "id": "89bd9371-b7c1-45cd-8eba-e4c32d692142",
   "metadata": {},
   "outputs": [
    {
     "data": {
      "text/html": [
       "<div>\n",
       "<style scoped>\n",
       "    .dataframe tbody tr th:only-of-type {\n",
       "        vertical-align: middle;\n",
       "    }\n",
       "\n",
       "    .dataframe tbody tr th {\n",
       "        vertical-align: top;\n",
       "    }\n",
       "\n",
       "    .dataframe thead th {\n",
       "        text-align: right;\n",
       "    }\n",
       "</style>\n",
       "<table border=\"1\" class=\"dataframe\">\n",
       "  <thead>\n",
       "    <tr style=\"text-align: right;\">\n",
       "      <th></th>\n",
       "      <th>0</th>\n",
       "      <th>1</th>\n",
       "    </tr>\n",
       "  </thead>\n",
       "  <tbody>\n",
       "    <tr>\n",
       "      <th>0</th>\n",
       "      <td>Esc 96 del 30/5/17, Fº321, Reg 176 CABA. Socio...</td>\n",
       "      <td>{'entities': [[49, 68, 'SOCIO'], [83, 91, 'DNI...</td>\n",
       "    </tr>\n",
       "    <tr>\n",
       "      <th>1</th>\n",
       "      <td>Por escritura nro. 56 del 29/05/2017 compareci...</td>\n",
       "      <td>{'entities': [[52, 64, 'SOCIO'], [119, 127, 'D...</td>\n",
       "    </tr>\n",
       "    <tr>\n",
       "      <th>2</th>\n",
       "      <td>Constitución: Por escritura 71 del 15/04/17 Rº...</td>\n",
       "      <td>{'entities': [[117, 134, 'SOCIO'], [150, 160, ...</td>\n",
       "    </tr>\n",
       "    <tr>\n",
       "      <th>3</th>\n",
       "      <td>Por escritura 155 Folio 419 del 22/05/2017 se ...</td>\n",
       "      <td>{'entities': [[81, 103, 'SOCIO'], [141, 151, '...</td>\n",
       "    </tr>\n",
       "    <tr>\n",
       "      <th>4</th>\n",
       "      <td>1) 24/5/17; 2) Sergio Francisco Schwarzkopf, 1...</td>\n",
       "      <td>{'entities': [[15, 43, 'SOCIO'], [66, 74, 'DNI...</td>\n",
       "    </tr>\n",
       "  </tbody>\n",
       "</table>\n",
       "</div>"
      ],
      "text/plain": [
       "                                                   0  \\\n",
       "0  Esc 96 del 30/5/17, Fº321, Reg 176 CABA. Socio...   \n",
       "1  Por escritura nro. 56 del 29/05/2017 compareci...   \n",
       "2  Constitución: Por escritura 71 del 15/04/17 Rº...   \n",
       "3  Por escritura 155 Folio 419 del 22/05/2017 se ...   \n",
       "4  1) 24/5/17; 2) Sergio Francisco Schwarzkopf, 1...   \n",
       "\n",
       "                                                   1  \n",
       "0  {'entities': [[49, 68, 'SOCIO'], [83, 91, 'DNI...  \n",
       "1  {'entities': [[52, 64, 'SOCIO'], [119, 127, 'D...  \n",
       "2  {'entities': [[117, 134, 'SOCIO'], [150, 160, ...  \n",
       "3  {'entities': [[81, 103, 'SOCIO'], [141, 151, '...  \n",
       "4  {'entities': [[15, 43, 'SOCIO'], [66, 74, 'DNI...  "
      ]
     },
     "execution_count": 23,
     "metadata": {},
     "output_type": "execute_result"
    }
   ],
   "source": [
    "estatutos_anotados = pd.DataFrame(dataset_anotado)\n",
    "estatutos_anotados.head()"
   ]
  },
  {
   "cell_type": "code",
   "execution_count": 26,
   "id": "cd04789b-855f-4269-8b8d-0f8c7110add6",
   "metadata": {},
   "outputs": [],
   "source": [
    "estatutos_anotados.to_pickle(os.path.join(local_path,'estatutos_anotados.pkl'))"
   ]
  }
 ],
 "metadata": {
  "kernelspec": {
   "display_name": "Python 3 (ipykernel)",
   "language": "python",
   "name": "python3"
  },
  "language_info": {
   "codemirror_mode": {
    "name": "ipython",
    "version": 3
   },
   "file_extension": ".py",
   "mimetype": "text/x-python",
   "name": "python",
   "nbconvert_exporter": "python",
   "pygments_lexer": "ipython3",
   "version": "3.10.4"
  },
  "toc-autonumbering": true
 },
 "nbformat": 4,
 "nbformat_minor": 5
}
