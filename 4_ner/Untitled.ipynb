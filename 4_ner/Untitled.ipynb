{
 "cells": [
  {
   "cell_type": "code",
   "execution_count": 7,
   "id": "025eb8d3-79e0-4282-a2c5-bc5ba207eb7c",
   "metadata": {},
   "outputs": [],
   "source": [
    "import pandas as pd\n",
    "# Loading the spam data\n",
    "# ham is the label for non-spam messages\n",
    "# spam = pd.read_csv('../input/nlp-course/spam.csv')\n",
    "anotados = pd.read_pickle('anotados.pkl')"
   ]
  },
  {
   "cell_type": "code",
   "execution_count": 5,
   "id": "693e82cc-9da2-4eaa-8b98-8d6961191196",
   "metadata": {},
   "outputs": [],
   "source": [
    "# import spacy\n",
    "# nlp = spacy.blank(\"es\")\n",
    "\n",
    "# # Create the TextCategorizer with exclusive classes and \"bow\" architecture\n",
    "# textcat = nlp.create_pipe(\n",
    "#               \"textcat\",\n",
    "#               config={\n",
    "#                 \"exclusive_classes\": True,\n",
    "#                 \"architecture\": \"bow\"})\n",
    "\n",
    "# # Add the TextCategorizer to the empty model\n",
    "# nlp.add_pipe(textcat)"
   ]
  },
  {
   "cell_type": "code",
   "execution_count": 8,
   "id": "f53460de-f789-4854-a31f-738ab80ca695",
   "metadata": {},
   "outputs": [
    {
     "ename": "NameError",
     "evalue": "name 'textcat' is not defined",
     "output_type": "error",
     "traceback": [
      "\u001b[1;31m---------------------------------------------------------------------------\u001b[0m",
      "\u001b[1;31mNameError\u001b[0m                                 Traceback (most recent call last)",
      "Cell \u001b[1;32mIn[8], line 2\u001b[0m\n\u001b[0;32m      1\u001b[0m \u001b[38;5;66;03m# Add labels to text classifier\u001b[39;00m\n\u001b[1;32m----> 2\u001b[0m \u001b[43mtextcat\u001b[49m\u001b[38;5;241m.\u001b[39madd_label(\u001b[38;5;124m\"\u001b[39m\u001b[38;5;124mestatuto\u001b[39m\u001b[38;5;124m\"\u001b[39m)\n\u001b[0;32m      3\u001b[0m textcat\u001b[38;5;241m.\u001b[39madd_label(\u001b[38;5;124m\"\u001b[39m\u001b[38;5;124mspam\u001b[39m\u001b[38;5;124m\"\u001b[39m)\n",
      "\u001b[1;31mNameError\u001b[0m: name 'textcat' is not defined"
     ]
    }
   ],
   "source": [
    "# Add labels to text classifier\n",
    "textcat.add_label(\"estatuto\")\n",
    "textcat.add_label(\"spam\")"
   ]
  },
  {
   "cell_type": "code",
   "execution_count": null,
   "id": "0b12caa7-d98f-4226-9fab-f9ef602bdd56",
   "metadata": {},
   "outputs": [],
   "source": [
    "train_texts = spam['text'].values\n",
    "train_labels = [{'cats': {'ham': label == 'ham',\n",
    "                          'spam': label == 'spam'}} \n",
    "                for label in spam['label']]"
   ]
  },
  {
   "cell_type": "code",
   "execution_count": 6,
   "id": "298a6ae7-9c63-4cfa-8556-3be877be31f1",
   "metadata": {},
   "outputs": [
    {
     "ename": "NameError",
     "evalue": "name 'train_texts' is not defined",
     "output_type": "error",
     "traceback": [
      "\u001b[1;31m---------------------------------------------------------------------------\u001b[0m",
      "\u001b[1;31mNameError\u001b[0m                                 Traceback (most recent call last)",
      "Cell \u001b[1;32mIn[6], line 1\u001b[0m\n\u001b[1;32m----> 1\u001b[0m train_data \u001b[38;5;241m=\u001b[39m \u001b[38;5;28mlist\u001b[39m(\u001b[38;5;28mzip\u001b[39m(\u001b[43mtrain_texts\u001b[49m, train_labels))\n\u001b[0;32m      2\u001b[0m train_data[:\u001b[38;5;241m3\u001b[39m]\n",
      "\u001b[1;31mNameError\u001b[0m: name 'train_texts' is not defined"
     ]
    }
   ],
   "source": [
    "train_data = list(zip(train_texts, train_labels))\n",
    "train_data[:3]"
   ]
  },
  {
   "cell_type": "code",
   "execution_count": null,
   "id": "c8ab9578-3e33-4d37-9079-97d4dabae566",
   "metadata": {},
   "outputs": [],
   "source": [
    "from spacy.util import minibatch\n",
    "\n",
    "spacy.util.fix_random_seed(1)\n",
    "optimizer = nlp.begin_training()\n",
    "\n",
    "# Create the batch generator with batch size = 8\n",
    "batches = minibatch(train_data, size=8)\n",
    "# Iterate through minibatches\n",
    "for batch in batches:\n",
    "    # Each batch is a list of (text, label) but we need to\n",
    "    # send separate lists for texts and labels to update().\n",
    "    # This is a quick way to split a list of tuples into lists\n",
    "    texts, labels = zip(*batch)\n",
    "    nlp.update(texts, labels, sgd=optimizer)"
   ]
  },
  {
   "cell_type": "code",
   "execution_count": null,
   "id": "28e2903e-2609-495a-8f17-6a61c87ec622",
   "metadata": {},
   "outputs": [],
   "source": [
    "random.seed(1)\n",
    "spacy.util.fix_random_seed(1)\n",
    "optimizer = nlp.begin_training()\n",
    "\n",
    "losses = {}\n",
    "for epoch in range(10):\n",
    "    random.shuffle(train_data)\n",
    "    # Create the batch generator with batch size = 8\n",
    "    batches = minibatch(train_data, size=8)\n",
    "    # Iterate through minibatches\n",
    "    for batch in batches:\n",
    "        texts, labels = zip(*batch)\n",
    "        nlp.update(texts, labels, sgd=optimizer, losses=losses)\n",
    "    print(losses)"
   ]
  },
  {
   "cell_type": "markdown",
   "id": "da7e9556-d3c8-4f40-9ced-23703d697668",
   "metadata": {},
   "source": [
    "---"
   ]
  },
  {
   "cell_type": "code",
   "execution_count": null,
   "id": "bccce95b-366e-477b-af55-227a4cdf362c",
   "metadata": {},
   "outputs": [],
   "source": []
  },
  {
   "cell_type": "code",
   "execution_count": null,
   "id": "422ca60c-ee53-4430-93fb-c59a2614b127",
   "metadata": {},
   "outputs": [],
   "source": []
  },
  {
   "cell_type": "code",
   "execution_count": null,
   "id": "6301dc97-f4eb-4c6e-aec9-d8b8d17edf3e",
   "metadata": {},
   "outputs": [],
   "source": []
  },
  {
   "cell_type": "code",
   "execution_count": null,
   "id": "4a25a0b0-141d-407d-964d-013e0f73c97e",
   "metadata": {},
   "outputs": [],
   "source": []
  }
 ],
 "metadata": {
  "kernelspec": {
   "display_name": "Python 3 (ipykernel)",
   "language": "python",
   "name": "python3"
  },
  "language_info": {
   "codemirror_mode": {
    "name": "ipython",
    "version": 3
   },
   "file_extension": ".py",
   "mimetype": "text/x-python",
   "name": "python",
   "nbconvert_exporter": "python",
   "pygments_lexer": "ipython3",
   "version": "3.10.4"
  }
 },
 "nbformat": 4,
 "nbformat_minor": 5
}
