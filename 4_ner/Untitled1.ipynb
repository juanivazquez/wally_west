{
 "cells": [
  {
   "cell_type": "code",
   "execution_count": 20,
   "id": "c067b22a-6acb-4abb-aa09-dc7805b3d9da",
   "metadata": {},
   "outputs": [
    {
     "data": {
      "text/plain": [
       "'4.30.2'"
      ]
     },
     "execution_count": 20,
     "metadata": {},
     "output_type": "execute_result"
    }
   ],
   "source": [
    "import transformers\n",
    "transformers.__version__"
   ]
  },
  {
   "cell_type": "code",
   "execution_count": 18,
   "id": "3a55477a-5b00-4d3a-b2a8-ea491951f6e9",
   "metadata": {},
   "outputs": [
    {
     "ename": "NameError",
     "evalue": "name 'transformers' is not defined",
     "output_type": "error",
     "traceback": [
      "\u001b[1;31m---------------------------------------------------------------------------\u001b[0m",
      "\u001b[1;31mNameError\u001b[0m                                 Traceback (most recent call last)",
      "\u001b[1;32m~\\AppData\\Local\\Temp\\ipykernel_9636\\3237288720.py\u001b[0m in \u001b[0;36m<module>\u001b[1;34m\u001b[0m\n\u001b[1;32m----> 1\u001b[1;33m \u001b[0mtransformers\u001b[0m\u001b[1;33m.\u001b[0m\u001b[0m__version__\u001b[0m\u001b[1;33m\u001b[0m\u001b[1;33m\u001b[0m\u001b[0m\n\u001b[0m",
      "\u001b[1;31mNameError\u001b[0m: name 'transformers' is not defined"
     ]
    }
   ],
   "source": [
    "transformers.__version__"
   ]
  },
  {
   "cell_type": "code",
   "execution_count": 21,
   "id": "ac00fd0b-ac29-4317-838f-1dc83c1c7d20",
   "metadata": {},
   "outputs": [],
   "source": [
    "# !pip install transformers"
   ]
  },
  {
   "cell_type": "code",
   "execution_count": 22,
   "id": "080d4a21-5310-4d9e-b4b6-c22ca9031236",
   "metadata": {},
   "outputs": [],
   "source": [
    "# !pip install editdistance==0.6.0"
   ]
  },
  {
   "cell_type": "code",
   "execution_count": 23,
   "id": "b673f81c-5c83-4735-ad78-0efb96e1997f",
   "metadata": {},
   "outputs": [],
   "source": [
    "# !pip install torch"
   ]
  },
  {
   "cell_type": "code",
   "execution_count": 24,
   "id": "3e346d23-c7a6-4662-b4da-0c0a4756fe24",
   "metadata": {},
   "outputs": [],
   "source": [
    "# !pip install -U spacy"
   ]
  },
  {
   "cell_type": "code",
   "execution_count": 27,
   "id": "17f89fff-1790-4a49-baa8-33c4b985c91f",
   "metadata": {},
   "outputs": [],
   "source": [
    "# !pip install spacy_transformers"
   ]
  },
  {
   "cell_type": "code",
   "execution_count": 26,
   "id": "cfa2f515-7343-4134-9b1c-92158230e312",
   "metadata": {},
   "outputs": [],
   "source": [
    "# !pip install classy-classification"
   ]
  },
  {
   "cell_type": "code",
   "execution_count": 28,
   "id": "37dae6f4-173b-4c0e-ba00-fe8e838bdf44",
   "metadata": {},
   "outputs": [],
   "source": [
    "# !python -m spacy download en_core_web_md"
   ]
  },
  {
   "cell_type": "code",
   "execution_count": 29,
   "id": "50e8353e-414e-4d71-8324-378b5a81ff60",
   "metadata": {},
   "outputs": [],
   "source": [
    "# !python -m spacy download es_core_news_sm"
   ]
  },
  {
   "cell_type": "markdown",
   "id": "05a01aff-391d-47e6-9190-c84a15864b69",
   "metadata": {},
   "source": [
    "# CLASSY_CLASSIFICATION"
   ]
  },
  {
   "cell_type": "code",
   "execution_count": 30,
   "id": "2aa56f2c-b945-4e6d-afb6-4a4d0c2f29f5",
   "metadata": {},
   "outputs": [
    {
     "data": {
      "text/plain": [
       "'3.7.3'"
      ]
     },
     "execution_count": 30,
     "metadata": {},
     "output_type": "execute_result"
    }
   ],
   "source": [
    "import spacy\n",
    "spacy.__version__\n",
    "# import classy_classification"
   ]
  }
 ],
 "metadata": {
  "kernelspec": {
   "display_name": "Python 3 (ipykernel)",
   "language": "python",
   "name": "python3"
  },
  "language_info": {
   "codemirror_mode": {
    "name": "ipython",
    "version": 3
   },
   "file_extension": ".py",
   "mimetype": "text/x-python",
   "name": "python",
   "nbconvert_exporter": "python",
   "pygments_lexer": "ipython3",
   "version": "3.8.18"
  }
 },
 "nbformat": 4,
 "nbformat_minor": 5
}
