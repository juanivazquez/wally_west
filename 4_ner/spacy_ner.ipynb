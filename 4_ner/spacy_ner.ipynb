{
 "cells": [
  {
   "cell_type": "code",
   "execution_count": 1,
   "metadata": {
    "colab": {
     "base_uri": "https://localhost:8080/"
    },
    "id": "TNUmJvIJ1jct",
    "outputId": "c9a56ca8-35b9-4a9f-f7d8-f495656d3452"
   },
   "outputs": [],
   "source": [
    "# install any necessary packages\n",
    "# !pip install -U spacy\n",
    "# !pip install spacy_transformers\n",
    "\n",
    "# Install below packages if error occurs while installing above packages\n",
    "#!pip install -U pip setuptools\n",
    "# !pip install typing-extensions==4.6.1\n"
   ]
  },
  {
   "cell_type": "markdown",
   "metadata": {
    "id": "sw5JbPKVp9i9"
   },
   "source": [
    "https://medium.com/@mjghadge9007/building-your-own-custom-named-entity-recognition-ner-model-with-spacy-v3-a-step-by-step-guide-15c7dcb1c416"
   ]
  },
  {
   "cell_type": "code",
   "execution_count": null,
   "metadata": {
    "colab": {
     "base_uri": "https://localhost:8080/"
    },
    "id": "23zPGbScqWU1",
    "outputId": "eb3ee4e9-2ebc-4ab9-bc71-49240f41547c"
   },
   "outputs": [
    {
     "name": "stdout",
     "output_type": "stream",
     "text": [
      "Drive already mounted at /content/drive; to attempt to forcibly remount, call drive.mount(\"/content/drive\", force_remount=True).\n"
     ]
    }
   ],
   "source": [
    "# Import the necessary libraries and mount Google Drive to access project files\n",
    "from google.colab import drive\n",
    "drive.mount('/content/drive')\n"
   ]
  },
  {
   "cell_type": "code",
   "execution_count": null,
   "metadata": {
    "colab": {
     "base_uri": "https://localhost:8080/"
    },
    "id": "OVacNPTLrRl0",
    "outputId": "f538282c-ac27-4f0f-e083-2a865b1eb1f0"
   },
   "outputs": [
    {
     "name": "stdout",
     "output_type": "stream",
     "text": [
      "/content/drive/MyDrive/01_PoC/02_projects/00_NER\n"
     ]
    }
   ],
   "source": [
    "# Change the working directory to the project folder\n",
    "%cd \"/content/drive/MyDrive/01_PoC/02_projects/00_NER\""
   ]
  },
  {
   "cell_type": "code",
   "execution_count": 3,
   "metadata": {
    "colab": {
     "base_uri": "https://localhost:8080/"
    },
    "id": "3iu9wIGZtsbS",
    "outputId": "82c45cff-9a81-4ddd-91d2-edcb31091729"
   },
   "outputs": [
    {
     "data": {
      "text/plain": [
       "'3.5.2'"
      ]
     },
     "execution_count": 3,
     "metadata": {},
     "output_type": "execute_result"
    }
   ],
   "source": [
    "# Import required libraries and install any necessary packages\n",
    "import spacy\n",
    "from spacy.tokens import DocBin\n",
    "from tqdm import tqdm\n",
    "import json\n",
    "\n",
    "# Check the installed version of spaCy\n",
    "spacy.__version__\n",
    "\n",
    "# Check GPU information\n",
    "# !nvidia-smi"
   ]
  },
  {
   "cell_type": "code",
   "execution_count": 4,
   "metadata": {},
   "outputs": [
    {
     "data": {
      "text/plain": [
       "'C:\\\\Users\\\\juani\\\\Documents\\\\3_My_Jupiter_Notebooks\\\\0_github\\\\ner'"
      ]
     },
     "execution_count": 4,
     "metadata": {},
     "output_type": "execute_result"
    }
   ],
   "source": [
    "import os\n",
    "os.getcwd()"
   ]
  },
  {
   "cell_type": "code",
   "execution_count": 7,
   "metadata": {
    "colab": {
     "base_uri": "https://localhost:8080/"
    },
    "id": "oyUddtkUt4WC",
    "outputId": "fc49fecc-ce6f-46be-b961-cea7ffd8eeae"
   },
   "outputs": [
    {
     "data": {
      "text/plain": [
       "['SOCIEDADES ANÓNIMAS\\r\\nACEGO\\xa0S.A.\\r\\nEscritura Nº\\xa0757 F° 2011 Reg. 553 de fecha 5/7/2023. Federico Gastón GOÑI, nacido el 21/5/1986, DNI 32.257.649, \\r\\narquitecto, domiciliado en Calle 9, Nro 1521, Piso 2, Depto A, La Plata, Pcia Bs As, y Gabriel Sebastian GRAU, \\r\\nnacido el 17/6/1984, DNI 30.923.019, empresario, domiciliada en Calle 49 Nro 339, Planta Baja, Depto B, La Plata, \\r\\nPcia Bs As; ambos argentinos y solteros. Objeto: A) Realización de obras públicas y/o privadas, por contratación \\r\\ndirecta, licitación pública y/o privada y cualquier sistema vigente y/o a crearse, ejecución de proyecto, dirección, \\r\\nadministración, construcción, reparación y reformación de todo tipo de obras de ingeniería y arquitectura de \\r\\ninmuebles, incluyendo las actividades de la albañilería, herrería, electricidad y afines.- B) Compra, venta, \\r\\nimportación, exportación, y comercialización de todo tipo de materiales, artículos e insumos para la construcción, \\r\\nincluyendo materiales de corralón, materiales eléctricos, maquinarias de construcción y afines.- C) Realización de \\r\\noperaciones inmobiliarias, compraventa, permuta, alquiler, arrendamiento de propiedades inmuebles, inclusive las \\r\\ncomprendidas bajo el régimen de propiedad horizontal, así como también toda clase de operaciones inmobiliarias \\r\\nincluyendo el fraccionamiento y posterior loteo de parcelas destinadas a la vivienda, urbanización, clubes de \\r\\nCampo y parques industriales, pudiendo tomar la venta o comercialización de operaciones inmobiliarias de \\r\\nterceros. Podrá inclusive realizar todas las operaciones sobre inmuebles que autoricen las leyes comprendidas en \\r\\nlas disposiciones de la ley de propiedad horizontal.. Cierre de Ejercicio 31/12. Capital $\\xa0200.000 representado por \\r\\n200.000 acciones ordinarias, nominativas no endosables de un (1) peso cada una que se suscriben en un 100% y se \\r\\nintegran en un 25%. Suscriben 100.000 acciones c/u. Duración 30 años. Directorio por 3 ejercicios: PRESIDENTE: \\r\\nFederico Gastón GOÑI; DIRECTOR SUPLENTE: Gabriel Sebastian GRAU; todos con domicilio especial y sede \\r\\nsocial en Avenida Entre Ríos 1241, Piso 7, Unidad 47, CABA Autorizado según instrumento público Esc. Nº\\xa0757 de \\r\\nfecha 05/07/2023 Reg. Nº\\xa0553\\r\\nVERONICA PAOLA ZAZZALI - T°: 358 F°: 235 C.P.C.E.C.A.B.A.\\r\\n',\n",
       " {'entities': [[21, 31, 'SOCIEDAD'],\n",
       "   [86, 106, 'SOCIO'],\n",
       "   [234, 256, 'SOCIO'],\n",
       "   [2219, 2241, 'ESCRIBANO']]}]"
      ]
     },
     "execution_count": 7,
     "metadata": {},
     "output_type": "execute_result"
    }
   ],
   "source": [
    "# Load the annotated data from a JSON file\n",
    "df = json.load(open(r'C:\\\\Users\\\\juani\\\\Documents\\\\3_My_Jupiter_Notebooks\\\\0_github\\\\ner\\\\ner_files\\\\example_100.json','r', encoding=\"utf-8\"))\n",
    "\n",
    "# Display the number of items in the dataset\n",
    "len(df)\n",
    "\n",
    "# Display the first item in the dataset\n",
    "df['annotations'][0]"
   ]
  },
  {
   "cell_type": "code",
   "execution_count": 8,
   "metadata": {
    "colab": {
     "base_uri": "https://localhost:8080/"
    },
    "id": "ROMLkU5hwwTH",
    "outputId": "0773aa1b-87dc-41dd-a447-9bb45b581038"
   },
   "outputs": [
    {
     "data": {
      "text/plain": [
       "64"
      ]
     },
     "execution_count": 8,
     "metadata": {},
     "output_type": "execute_result"
    }
   ],
   "source": [
    "# del cv_data['classes']\n",
    "df.keys()\n",
    "data = df['annotations']\n",
    "indices_to_remove = []\n",
    "for i,d in enumerate(data):\n",
    "    try:\n",
    "        if d is None:\n",
    "            indices_to_remove.append(i)\n",
    "    except:\n",
    "        pass\n",
    "# print(indices_to_remove)\n",
    "data = [value for index, value in enumerate(data) if index not in indices_to_remove]\n",
    "len(data)"
   ]
  },
  {
   "cell_type": "code",
   "execution_count": 28,
   "metadata": {
    "colab": {
     "base_uri": "https://localhost:8080/"
    },
    "id": "9xxwCO8au7GJ",
    "outputId": "45f2d048-2d23-4c69-83ff-56500c6d5060"
   },
   "outputs": [
    {
     "name": "stdout",
     "output_type": "stream",
     "text": [
      "[paths]\n",
      "train = null\n",
      "dev = null\n",
      "vectors = \"es_core_news_lg\"\n",
      "init_tok2vec = null\n",
      "\n",
      "[system]\n",
      "gpu_allocator = null\n",
      "seed = 0\n",
      "\n",
      "[nlp]\n",
      "lang = \"es\"\n",
      "pipeline = [\"tok2vec\",\"ner\"]\n",
      "batch_size = 1000\n",
      "disabled = []\n",
      "before_creation = null\n",
      "after_creation = null\n",
      "after_pipeline_creation = null\n",
      "tokenizer = {\"@tokenizers\":\"spacy.Tokenizer.v1\"}\n",
      "\n",
      "[components]\n",
      "\n",
      "[components.ner]\n",
      "factory = \"ner\"\n",
      "incorrect_spans_key = null\n",
      "moves = null\n",
      "scorer = {\"@scorers\":\"spacy.ner_scorer.v1\"}\n",
      "update_with_oracle_cut_size = 100\n",
      "\n",
      "[components.ner.model]\n",
      "@architectures = \"spacy.TransitionBasedParser.v2\"\n",
      "state_type = \"ner\"\n",
      "extra_state_tokens = false\n",
      "hidden_width = 64\n",
      "maxout_pieces = 2\n",
      "use_upper = true\n",
      "nO = null\n",
      "\n",
      "[components.ner.model.tok2vec]\n",
      "@architectures = \"spacy.Tok2VecListener.v1\"\n",
      "width = ${components.tok2vec.model.encode.width}\n",
      "upstream = \"*\"\n",
      "\n",
      "[components.tok2vec]\n",
      "factory = \"tok2vec\"\n",
      "\n",
      "[components.tok2vec.model]\n",
      "@architectures = \"spacy.Tok2Vec.v2\"\n",
      "\n",
      "[components.tok2vec.model.embed]\n",
      "@architectures = \"spacy.MultiHashEmbed.v2\"\n",
      "width = ${components.tok2vec.model.encode.width}\n",
      "attrs = [\"NORM\",\"PREFIX\",\"SUFFIX\",\"SHAPE\"]\n",
      "rows = [5000,1000,2500,2500]\n",
      "include_static_vectors = true\n",
      "\n",
      "[components.tok2vec.model.encode]\n",
      "@architectures = \"spacy.MaxoutWindowEncoder.v2\"\n",
      "width = 256\n",
      "depth = 8\n",
      "window_size = 1\n",
      "maxout_pieces = 3\n",
      "\n",
      "[corpora]\n",
      "\n",
      "[corpora.dev]\n",
      "@readers = \"spacy.Corpus.v1\"\n",
      "path = ${paths.dev}\n",
      "max_length = 0\n",
      "gold_preproc = false\n",
      "limit = 0\n",
      "augmenter = null\n",
      "\n",
      "[corpora.train]\n",
      "@readers = \"spacy.Corpus.v1\"\n",
      "path = ${paths.train}\n",
      "max_length = 0\n",
      "gold_preproc = false\n",
      "limit = 0\n",
      "augmenter = null\n",
      "\n",
      "[training]\n",
      "dev_corpus = \"corpora.dev\"\n",
      "train_corpus = \"corpora.train\"\n",
      "seed = ${system.seed}\n",
      "gpu_allocator = ${system.gpu_allocator}\n",
      "dropout = 0.1\n",
      "accumulate_gradient = 1\n",
      "patience = 1600\n",
      "max_epochs = 0\n",
      "max_steps = 20000\n",
      "eval_frequency = 200\n",
      "frozen_components = []\n",
      "annotating_components = []\n",
      "before_to_disk = null\n",
      "before_update = null\n",
      "\n",
      "[training.batcher]\n",
      "@batchers = \"spacy.batch_by_words.v1\"\n",
      "discard_oversize = false\n",
      "tolerance = 0.2\n",
      "get_length = null\n",
      "\n",
      "[training.batcher.size]\n",
      "@schedules = \"compounding.v1\"\n",
      "start = 100\n",
      "stop = 1000\n",
      "compound = 1.001\n",
      "t = 0.0\n",
      "\n",
      "[training.logger]\n",
      "@loggers = \"spacy.ConsoleLogger.v1\"\n",
      "progress_bar = false\n",
      "\n",
      "[training.optimizer]\n",
      "@optimizers = \"Adam.v1\"\n",
      "beta1 = 0.9\n",
      "beta2 = 0.999\n",
      "L2_is_weight_decay = true\n",
      "L2 = 0.01\n",
      "grad_clip = 1.0\n",
      "use_averages = false\n",
      "eps = 0.00000001\n",
      "learn_rate = 0.001\n",
      "\n",
      "[training.score_weights]\n",
      "ents_f = 1.0\n",
      "ents_p = 0.0\n",
      "ents_r = 0.0\n",
      "ents_per_type = null\n",
      "\n",
      "[pretraining]\n",
      "\n",
      "[initialize]\n",
      "vectors = ${paths.vectors}\n",
      "init_tok2vec = ${paths.init_tok2vec}\n",
      "vocab_data = null\n",
      "lookups = null\n",
      "before_init = null\n",
      "after_init = null\n",
      "\n",
      "[initialize.components]\n",
      "\n",
      "[initialize.tokenizer]\n"
     ]
    }
   ],
   "source": [
    "# Initialize spaCy configuration files by copying from base_config to config.cfg\n",
    "# !python -m spacy init fill-config /\"your_file_path\"/base_config.cfg /\"your_file_path\"/config/config.cfg\n",
    "!python -m spacy init fill-config C:\\\\Users\\\\juani\\\\Documents\\\\3_My_Jupiter_Notebooks\\\\0_github\\\\ner\\\\ner_files\\\\config.cfg"
   ]
  },
  {
   "cell_type": "code",
   "execution_count": 10,
   "metadata": {
    "id": "NPRO60H_wYTg"
   },
   "outputs": [],
   "source": [
    "# Define a function to create spaCy DocBin objects from the annotated data\n",
    "def get_spacy_doc(file, data):\n",
    "  # Create a blank spaCy pipeline\n",
    "  nlp = spacy.blank('es')\n",
    "  db = DocBin()\n",
    "\n",
    "  # Iterate through the data\n",
    "  for text, annot in tqdm(data):\n",
    "    doc = nlp.make_doc(text)\n",
    "    annot = annot['entities']\n",
    "\n",
    "    ents = []\n",
    "    entity_indices = []\n",
    "\n",
    "    # Extract entities from the annotations\n",
    "    for start, end, label in annot:\n",
    "      skip_entity = False\n",
    "      for idx in range(start, end):\n",
    "        if idx in entity_indices:\n",
    "          skip_entity = True\n",
    "          break\n",
    "      if skip_entity:\n",
    "        continue\n",
    "\n",
    "      entity_indices = entity_indices + list(range(start, end))\n",
    "      try:\n",
    "        span = doc.char_span(start, end, label=label, alignment_mode='strict')\n",
    "      except:\n",
    "        continue\n",
    "\n",
    "      if span is None:\n",
    "        # Log errors for annotations that couldn't be processed\n",
    "        err_data = str([start, end]) + \"    \" + str(text) + \"\\n\"\n",
    "        file.write(err_data)\n",
    "      else:\n",
    "        ents.append(span)\n",
    "\n",
    "    try:\n",
    "      doc.ents = ents\n",
    "      db.add(doc)\n",
    "    except:\n",
    "      pass\n",
    "\n",
    "  return db"
   ]
  },
  {
   "cell_type": "code",
   "execution_count": 11,
   "metadata": {
    "colab": {
     "base_uri": "https://localhost:8080/"
    },
    "id": "ZBQz-wmdwmEw",
    "outputId": "5a61a186-afbc-46fe-fc56-5d9d53c8d286"
   },
   "outputs": [
    {
     "data": {
      "text/plain": [
       "(51, 13)"
      ]
     },
     "execution_count": 11,
     "metadata": {},
     "output_type": "execute_result"
    }
   ],
   "source": [
    "# Split the annotated data into training and testing sets\n",
    "from sklearn.model_selection import train_test_split\n",
    "train, test = train_test_split(data, test_size=0.2)\n",
    "\n",
    "# Display the number of items in the training and testing sets\n",
    "len(train), len(test)"
   ]
  },
  {
   "cell_type": "code",
   "execution_count": null,
   "metadata": {},
   "outputs": [],
   "source": [
    "r'C:\\\\Users\\\\juani\\\\Documents\\\\3_My_Jupiter_Notebooks\\\\0_github\\\\ner\\\\ner_files\\\\example_100.json'"
   ]
  },
  {
   "cell_type": "code",
   "execution_count": 12,
   "metadata": {
    "colab": {
     "base_uri": "https://localhost:8080/"
    },
    "id": "gqna52ubysyc",
    "outputId": "c93f4aa7-041c-4a13-e48b-188fbc7877a6"
   },
   "outputs": [
    {
     "name": "stderr",
     "output_type": "stream",
     "text": [
      "100%|██████████| 51/51 [00:00<00:00, 163.99it/s]\n",
      "100%|██████████| 13/13 [00:00<00:00, 154.40it/s]\n"
     ]
    }
   ],
   "source": [
    "# Open a file to log errors during annotation processing\n",
    "file = open(r'C:\\\\Users\\\\juani\\\\Documents\\\\3_My_Jupiter_Notebooks\\\\0_github\\\\ner\\\\ner_files\\\\train_file.txt','w')\n",
    "\n",
    "# Create spaCy DocBin objects for training and testing data\n",
    "db = get_spacy_doc(file, train)\n",
    "db.to_disk(r'C:\\\\Users\\\\juani\\\\Documents\\\\3_My_Jupiter_Notebooks\\\\0_github\\\\ner\\\\ner_files\\\\train_data.spacy')\n",
    "\n",
    "db = get_spacy_doc(file, test)\n",
    "db.to_disk(r'C:\\\\Users\\\\juani\\\\Documents\\\\3_My_Jupiter_Notebooks\\\\0_github\\\\ner\\\\ner_files\\\\test_data.spacy')\n",
    "\n",
    "# Close the error log file\n",
    "file.close()"
   ]
  },
  {
   "cell_type": "code",
   "execution_count": 38,
   "metadata": {},
   "outputs": [
    {
     "data": {
      "text/plain": [
       "'C:\\\\Users\\\\juani\\\\Documents\\\\3_My_Jupiter_Notebooks\\\\0_github\\\\ner'"
      ]
     },
     "execution_count": 38,
     "metadata": {},
     "output_type": "execute_result"
    }
   ],
   "source": [
    "os.getcwd()"
   ]
  },
  {
   "cell_type": "code",
   "execution_count": 39,
   "metadata": {},
   "outputs": [
    {
     "name": "stdout",
     "output_type": "stream",
     "text": [
      "\u001b[38;5;2m[+] Auto-filled config with all values\u001b[0m\n",
      "\u001b[38;5;2m[+] Saved config\u001b[0m\n",
      "config.cfg\n",
      "You can now add your data and train your pipeline:\n",
      "python -m spacy train config.cfg --paths.train ./train.spacy --paths.dev ./dev.spacy\n"
     ]
    }
   ],
   "source": [
    "!python -m spacy init fill-config base_config.cfg config.cfg"
   ]
  },
  {
   "cell_type": "code",
   "execution_count": 1,
   "metadata": {},
   "outputs": [],
   "source": [
    "# !python -m spacy download es_core_news_lg\n"
   ]
  },
  {
   "cell_type": "code",
   "execution_count": 42,
   "metadata": {},
   "outputs": [
    {
     "name": "stdout",
     "output_type": "stream",
     "text": [
      "\u001b[38;5;2m✔ Download and installation successful\u001b[0m\n",
      "You can now load the package via spacy.load('es_core_news_lg')\n"
     ]
    }
   ],
   "source": [
    "import spacy\n",
    "from spacy.training.example import Example\n",
    "\n",
    "# Download the Spanish model\n",
    "spacy.cli.download(\"es_core_news_lg\")\n",
    "\n",
    "# Load the Spanish model\n",
    "nlp = spacy.load(\"es_core_news_lg\")"
   ]
  },
  {
   "cell_type": "code",
   "execution_count": 43,
   "metadata": {},
   "outputs": [
    {
     "name": "stdout",
     "output_type": "stream",
     "text": [
      "\u001b[38;5;4m[i] Saving to output directory:\n",
      "C:\\Users\\juani\\Documents\\3_My_Jupiter_Notebooks\\0_github\\ner\\ner_files\u001b[0m\n",
      "\u001b[38;5;4m[i] Using CPU\u001b[0m\n",
      "\u001b[1m\n",
      "=========================== Initializing pipeline ===========================\u001b[0m\n",
      "\u001b[38;5;2m[+] Initialized pipeline\u001b[0m\n",
      "\u001b[1m\n",
      "============================= Training pipeline =============================\u001b[0m\n",
      "\u001b[38;5;4m[i] Pipeline: ['tok2vec', 'ner']\u001b[0m\n",
      "\u001b[38;5;4m[i] Initial learn rate: 0.001\u001b[0m\n",
      "E    #       LOSS TOK2VEC  LOSS NER  ENTS_F  ENTS_P  ENTS_R  SCORE \n",
      "---  ------  ------------  --------  ------  ------  ------  ------\n",
      "  0       0          0.00     99.14    0.00    0.00    0.00    0.00\n",
      "  3     200       1893.55   5391.24   62.71   60.66   64.91    0.63\n",
      "  7     400         19.94    367.04   76.79   78.18   75.44    0.77\n",
      " 11     600         29.78    199.94   78.46   69.86   89.47    0.78\n",
      " 15     800         42.94    124.95   83.19   83.93   82.46    0.83\n",
      " 19    1000        112.12    196.42   70.49   66.15   75.44    0.70\n",
      " 23    1200        131.54    150.11   79.03   73.13   85.96    0.79\n",
      " 27    1400         52.57     95.10   76.03   71.88   80.70    0.76\n",
      " 31    1600         62.39     91.59   74.24   65.33   85.96    0.74\n",
      " 35    1800        137.24    133.74   75.44   75.44   75.44    0.75\n",
      " 39    2000         80.50    102.81   75.38   67.12   85.96    0.75\n",
      " 43    2200       4082.89    262.88   76.67   73.02   80.70    0.77\n",
      " 47    2400        376.74    145.76   79.28   81.48   77.19    0.79\n",
      "\u001b[38;5;2m[+] Saved pipeline to output directory\u001b[0m\n",
      "C:\\Users\\juani\\Documents\\3_My_Jupiter_Notebooks\\0_github\\ner\\ner_files\\model-last\n"
     ]
    },
    {
     "name": "stderr",
     "output_type": "stream",
     "text": [
      "[2024-01-30 16:08:15,266] [INFO] Set up nlp object from config\n",
      "[2024-01-30 16:08:15,281] [INFO] Pipeline: ['tok2vec', 'ner']\n",
      "[2024-01-30 16:08:15,285] [INFO] Created vocabulary\n",
      "[2024-01-30 16:08:16,561] [INFO] Added vectors: es_core_news_lg\n",
      "[2024-01-30 16:08:17,930] [INFO] Finished initializing nlp object\n",
      "[2024-01-30 16:08:22,967] [INFO] Initialized pipeline components: ['tok2vec', 'ner']\n"
     ]
    }
   ],
   "source": [
    "!python -m spacy train config.cfg --output C:\\\\Users\\\\juani\\\\Documents\\\\3_My_Jupiter_Notebooks\\\\0_github\\\\ner\\\\ner_files\\\\ --paths.train C:\\\\Users\\\\juani\\\\Documents\\\\3_My_Jupiter_Notebooks\\\\0_github\\\\ner\\\\ner_files\\\\train_data.spacy --paths.dev C:\\\\Users\\\\juani\\\\Documents\\\\3_My_Jupiter_Notebooks\\\\0_github\\\\ner\\\\ner_files\\\\test_data.spacy"
   ]
  },
  {
   "cell_type": "markdown",
   "metadata": {},
   "source": [
    "# EJECUCCION"
   ]
  },
  {
   "cell_type": "code",
   "execution_count": 5,
   "metadata": {},
   "outputs": [],
   "source": [
    "text = '''\n",
    "KEYBOARD S.A.\n",
    "Escritura Nº 362 de fecha 27/06/2023. Orlando DI FONZO, argentino, empresario, casado en primeras nupcias con \n",
    "Amalia Rinaldi, DNI 8.609.671, CUIT Nº 20-08609671-5; y Gonzalo Gastón DI FONZO, argentino, empresario, soltero, \n",
    "DNI 33.689.504, CUIT 23-33689504-9, ambos domiciliados en Carmen Puch Nº 1000, de la Localidad y Partido de \n",
    "Pilar, Provincia de Buenos Aires: Resuelven que la sociedad se adecúe voluntariamente a las disposiciones del art. \n",
    "124 de la ley 19.550 y aprueban todas las estipulaciones del estatuto: 1) Keyboard S.A. 2) Duración: 30 años desde \n",
    "inscripción. 3) Objeto: Compra, venta, hipoteca, arrendamiento y toda clase de operaciones con bienes inmuebles. \n",
    "Realizar y/o administrar inversiones. Importaciones, exportaciones, comisiones, representaciones y mandatos. \n",
    "Operaciones financieras relacionadas con sus actividades principales. 4) Capital: $  1.000.000.-, representado \n",
    "por diez mil acciones ordinarias, nominativas no endosables, de v/n $ 100.- cada una y derecho a un voto por \n",
    "acción. 5) Dirección y administración: a cargo del directorio compuesto del número de miembros que determine \n",
    "la asamblea, entre un mínimo de uno y un máximo de cinco, por tres ejercicios. 6) Prescindencia de Sindicatura. \n",
    "7) Suscripción: Orlando DI FONZO y Gonzalo Gastón DI FONZO suscriben la cantidad de cinco mil acciones \n",
    "cada uno, lo que representa el 50% del capital social. Directorio: PRESIDENTE: Orlando DI FONZO; y DIRECTOR \n",
    "SUPLENTE: Gonzalo Gastón DI FONZO, quienes constituyen domicilio especial en la sede social, fijada en la calle \n",
    "Lavalle Nº 643, Piso 5º, Oficina “D”, C.A.B.A. Cierre ejercicio social: 30 de junio de cada año. Autorizado según \n",
    "instrumento público Esc. Nº 362 de fecha 27/06/2023 Reg. Nº 1017.\n",
    "Lucía Agundez - T°: 114 F°: 540 C.P.A.C.F.\n",
    "'''"
   ]
  },
  {
   "cell_type": "code",
   "execution_count": 6,
   "metadata": {},
   "outputs": [],
   "source": [
    "# Load a model from a specific path\n",
    "custom_model_path = r'C:\\\\Users\\\\juani\\\\Documents\\\\3_My_Jupiter_Notebooks\\\\0_github\\\\ner\\\\ner_files\\\\model-best'\n",
    "nlp = spacy.load(custom_model_path)"
   ]
  },
  {
   "cell_type": "code",
   "execution_count": 7,
   "metadata": {},
   "outputs": [
    {
     "name": "stdout",
     "output_type": "stream",
     "text": [
      "Orlando DI FONZO   ->>>>   SOCIO\n",
      "Gonzalo Gastón DI FONZO   ->>>>   SOCIO\n",
      "Lucía Agundez   ->>>>   ESCRIBANO\n"
     ]
    }
   ],
   "source": [
    "# Process the extracted text using the loaded spaCy NER model\n",
    "doc = nlp(text)\n",
    "# Iterate through the named entities (entities) recognized by the model\n",
    "for ent in doc.ents:\n",
    "  # Print the recognized text and its corresponding label\n",
    "  print(ent.text, \"  ->>>>  \", ent.label_)"
   ]
  },
  {
   "cell_type": "code",
   "execution_count": 8,
   "metadata": {},
   "outputs": [
    {
     "data": {
      "text/plain": [
       "\n",
       "KEYBOARD S.A.\n",
       "Escritura Nº 362 de fecha 27/06/2023. Orlando DI FONZO, argentino, empresario, casado en primeras nupcias con \n",
       "Amalia Rinaldi, DNI 8.609.671, CUIT Nº 20-08609671-5; y Gonzalo Gastón DI FONZO, argentino, empresario, soltero, \n",
       "DNI 33.689.504, CUIT 23-33689504-9, ambos domiciliados en Carmen Puch Nº 1000, de la Localidad y Partido de \n",
       "Pilar, Provincia de Buenos Aires: Resuelven que la sociedad se adecúe voluntariamente a las disposiciones del art. \n",
       "124 de la ley 19.550 y aprueban todas las estipulaciones del estatuto: 1) Keyboard S.A. 2) Duración: 30 años desde \n",
       "inscripción. 3) Objeto: Compra, venta, hipoteca, arrendamiento y toda clase de operaciones con bienes inmuebles. \n",
       "Realizar y/o administrar inversiones. Importaciones, exportaciones, comisiones, representaciones y mandatos. \n",
       "Operaciones financieras relacionadas con sus actividades principales. 4) Capital: $  1.000.000.-, representado \n",
       "por diez mil acciones ordinarias, nominativas no endosables, de v/n $ 100.- cada una y derecho a un voto por \n",
       "acción. 5) Dirección y administración: a cargo del directorio compuesto del número de miembros que determine \n",
       "la asamblea, entre un mínimo de uno y un máximo de cinco, por tres ejercicios. 6) Prescindencia de Sindicatura. \n",
       "7) Suscripción: Orlando DI FONZO y Gonzalo Gastón DI FONZO suscriben la cantidad de cinco mil acciones \n",
       "cada uno, lo que representa el 50% del capital social. Directorio: PRESIDENTE: Orlando DI FONZO; y DIRECTOR \n",
       "SUPLENTE: Gonzalo Gastón DI FONZO, quienes constituyen domicilio especial en la sede social, fijada en la calle \n",
       "Lavalle Nº 643, Piso 5º, Oficina “D”, C.A.B.A. Cierre ejercicio social: 30 de junio de cada año. Autorizado según \n",
       "instrumento público Esc. Nº 362 de fecha 27/06/2023 Reg. Nº 1017.\n",
       "Lucía Agundez - T°: 114 F°: 540 C.P.A.C.F."
      ]
     },
     "execution_count": 8,
     "metadata": {},
     "output_type": "execute_result"
    }
   ],
   "source": [
    "doc"
   ]
  },
  {
   "cell_type": "code",
   "execution_count": 9,
   "metadata": {},
   "outputs": [
    {
     "data": {
      "text/plain": [
       "[('Orlando DI FONZO', 'SOCIO'),\n",
       " ('Gonzalo Gastón DI FONZO', 'SOCIO'),\n",
       " ('Lucía Agundez', 'ESCRIBANO')]"
      ]
     },
     "execution_count": 9,
     "metadata": {},
     "output_type": "execute_result"
    }
   ],
   "source": [
    "ents = [(e.text, e.label_) for e in doc.ents if e.label_ not in ('DATE', 'TIME', 'ORDINAL', 'CARDINAL')]\n",
    "# ents = [(k,v) for (v,k) in ents]\n",
    "# dict(ents)\n",
    "# Dictlist(ents)\n",
    "ents"
   ]
  },
  {
   "cell_type": "markdown",
   "metadata": {},
   "source": [
    "# get probas"
   ]
  },
  {
   "cell_type": "code",
   "execution_count": 29,
   "metadata": {},
   "outputs": [
    {
     "data": {
      "text/plain": [
       "{'Orlando DI FONZO': 'SOCIO',\n",
       " 'Gonzalo Gastón DI FONZO': 'SOCIO',\n",
       " 'Lucía Agundez': 'ESCRIBANO'}"
      ]
     },
     "execution_count": 29,
     "metadata": {},
     "output_type": "execute_result"
    }
   ],
   "source": [
    "dict(ents)"
   ]
  },
  {
   "cell_type": "code",
   "execution_count": 31,
   "metadata": {},
   "outputs": [
    {
     "name": "stdout",
     "output_type": "stream",
     "text": [
      "\n",
      "KEYBOARD S.A.\n",
      "Escritura Nº 362 de fecha 27/06/2023. Orlando DI FONZO, argentino, empresario, casado en primeras nupcias con \n",
      "Amalia Rinaldi, DNI 8.609.671, CUIT Nº 20-08609671-5; y Gonzalo Gastón DI FONZO, argentino, empresario, soltero, \n",
      "DNI 33.689.504, CUIT 23-33689504-9, ambos domiciliados en Carmen Puch Nº 1000, de la Localidad y Partido de \n",
      "Pilar, Provincia de Buenos Aires: Resuelven que la sociedad se adecúe voluntariamente a las disposiciones del art. \n",
      "124 de la ley 19.550 y aprueban todas las estipulaciones del estatuto: 1) Keyboard S.A. 2) Duración: 30 años desde \n",
      "inscripción. 3) Objeto: Compra, venta, hipoteca, arrendamiento y toda clase de operaciones con bienes inmuebles. \n",
      "Realizar y/o administrar inversiones. Importaciones, exportaciones, comisiones, representaciones y mandatos. \n",
      "Operaciones financieras relacionadas con sus actividades principales. 4) Capital: $  1.000.000.-, representado \n",
      "por diez mil acciones ordinarias, nominativas no endosables, de v/n $ 100.- cada una y derecho a un voto por \n",
      "acción. 5) Dirección y administración: a cargo del directorio compuesto del número de miembros que determine \n",
      "la asamblea, entre un mínimo de uno y un máximo de cinco, por tres ejercicios. 6) Prescindencia de Sindicatura. \n",
      "7) Suscripción: Orlando DI FONZO y Gonzalo Gastón DI FONZO suscriben la cantidad de cinco mil acciones \n",
      "cada uno, lo que representa el 50% del capital social. Directorio: PRESIDENTE: Orlando DI FONZO; y DIRECTOR \n",
      "SUPLENTE: Gonzalo Gastón DI FONZO, quienes constituyen domicilio especial en la sede social, fijada en la calle \n",
      "Lavalle Nº 643, Piso 5º, Oficina “D”, C.A.B.A. Cierre ejercicio social: 30 de junio de cada año. Autorizado según \n",
      "instrumento público Esc. Nº 362 de fecha 27/06/2023 Reg. Nº 1017.\n",
      "Lucía Agundez - T°: 114 F°: 540 C.P.A.C.F.\n",
      "\n"
     ]
    }
   ],
   "source": [
    "print(text)"
   ]
  },
  {
   "cell_type": "code",
   "execution_count": 83,
   "metadata": {},
   "outputs": [
    {
     "ename": "TypeError",
     "evalue": "first argument must be callable or None",
     "output_type": "error",
     "traceback": [
      "\u001b[1;31m---------------------------------------------------------------------------\u001b[0m",
      "\u001b[1;31mTypeError\u001b[0m                                 Traceback (most recent call last)",
      "Cell \u001b[1;32mIn[83], line 3\u001b[0m\n\u001b[0;32m      1\u001b[0m \u001b[38;5;28;01mfrom\u001b[39;00m \u001b[38;5;21;01mcollections\u001b[39;00m \u001b[38;5;28;01mimport\u001b[39;00m defaultdict\n\u001b[1;32m----> 3\u001b[0m \u001b[43mdefaultdict\u001b[49m\u001b[43m(\u001b[49m\u001b[43ments\u001b[49m\u001b[43m)\u001b[49m\n",
      "\u001b[1;31mTypeError\u001b[0m: first argument must be callable or None"
     ]
    }
   ],
   "source": [
    "from collections import defaultdict\n",
    "\n",
    "defaultdict(ents)"
   ]
  },
  {
   "cell_type": "code",
   "execution_count": 95,
   "metadata": {},
   "outputs": [],
   "source": [
    "def modelo_base(text,avoid_ls=None):\n",
    "    avoid_ls = ['DATE', 'TIME', 'ORDINAL', 'CARDINAL']\n",
    "    doc = nlp(text)\n",
    "    ents = [(e.text, e.label_) for e in doc.ents if e.label_ not in avoid_ls]\n",
    "    return ents"
   ]
  },
  {
   "cell_type": "code",
   "execution_count": 96,
   "metadata": {},
   "outputs": [
    {
     "data": {
      "text/plain": [
       "[('Orlando DI FONZO', 'SOCIO'),\n",
       " ('Gonzalo Gastón DI FONZO', 'SOCIO'),\n",
       " ('Lucía Agundez', 'ESCRIBANO')]"
      ]
     },
     "execution_count": 96,
     "metadata": {},
     "output_type": "execute_result"
    }
   ],
   "source": [
    "modelo_base(text)"
   ]
  },
  {
   "cell_type": "code",
   "execution_count": 54,
   "metadata": {},
   "outputs": [],
   "source": []
  },
  {
   "cell_type": "code",
   "execution_count": 55,
   "metadata": {},
   "outputs": [],
   "source": [
    "df_base = pd.read_pickle('df.pkl')"
   ]
  },
  {
   "cell_type": "code",
   "execution_count": 109,
   "metadata": {},
   "outputs": [
    {
     "data": {
      "text/plain": [
       "363000"
      ]
     },
     "execution_count": 109,
     "metadata": {},
     "output_type": "execute_result"
    }
   ],
   "source": [
    "df_base[['texto']].values.tolist()"
   ]
  },
  {
   "cell_type": "code",
   "execution_count": 111,
   "metadata": {},
   "outputs": [],
   "source": [
    "for t in df_base[['texto']][1000:1050].values.tolist():\n",
    "    pass"
   ]
  },
  {
   "cell_type": "code",
   "execution_count": 113,
   "metadata": {},
   "outputs": [
    {
     "data": {
      "text/plain": [
       "['\\nPALOKO\\xa0S.R.L.\\nCUIT 30564526408. Mediante escritura 347 del 29/05/2023, folio 1141 del Registro 284 de la Capital Federal, se \\nDESIGNA GERENTE ADICIONAL: por el término de duración de la sociedad a Linet Flavia PERUZZO SCUSSEL, \\nargentina, 20/11/1987, DNI 33573596, CUIT 27335735965, comerciante, casada, quien acepta el cargo y constituye \\ndomicilio en Av. San Martín 2269, CABA. Continuando en el cargo Ivana Licia SCUSSEL. Autorizado según \\ninstrumento público Esc. Nº\\xa0347 de fecha 29/05/2023 Reg. Nº\\xa0284\\nEnrique Fernandez Moujan - Matrícula: 4009 C.E.C.B.A.\\n']"
      ]
     },
     "execution_count": 113,
     "metadata": {},
     "output_type": "execute_result"
    }
   ],
   "source": [
    "df_base[['texto']][1000:1050].values.tolist()[0]"
   ]
  },
  {
   "cell_type": "code",
   "execution_count": null,
   "metadata": {},
   "outputs": [],
   "source": []
  },
  {
   "cell_type": "code",
   "execution_count": 119,
   "metadata": {},
   "outputs": [],
   "source": [
    "resultados_ls = []\n",
    "for text in df_base[df_base.chapter=='CONTRATOS SOBRE PERSONAS JURÍDICAS'][['texto']][1000:1050].values.tolist():\n",
    "    resultados_ls.append(modelo_base(text[0]))\n",
    "    "
   ]
  },
  {
   "cell_type": "code",
   "execution_count": 122,
   "metadata": {},
   "outputs": [
    {
     "name": "stdout",
     "output_type": "stream",
     "text": [
      "\n",
      "MHI POWER ARGENTINA S.R.L.\n",
      "(30-71574699-5) Edicto rectificatorio del publicado el 07/03/2023 N° 12936/23 v. 07/03/2023, según fuera ordenado \n",
      "por la Inspección General de Justicia en fecha 05/06/2023. En el Punto ii “léase: El capital social quedó así \n",
      "compuesto: Mitsubishi Power Américas Inc., titular de 2.537.770. cuotas sociales, de VN $ 10 por cuota social y \n",
      "MHI Power Florida LLC, titular de 316 cuotas sociales de VN $ 10 por cuota social.\n",
      "Autorizado según instrumento privado Acta de Reunión de Socios de fecha 13/12/2021\n",
      "Maria Agustina Hagelstrom - T°: 139 F°: 344 C.P.A.C.F.\n",
      "\n"
     ]
    }
   ],
   "source": [
    "casos = df_base[df_base.chapter=='CONTRATOS SOBRE PERSONAS JURÍDICAS'][['texto']][1000:1050].values.tolist().copy()\n",
    "print(casos[0][0])"
   ]
  },
  {
   "cell_type": "code",
   "execution_count": 124,
   "metadata": {},
   "outputs": [
    {
     "name": "stdout",
     "output_type": "stream",
     "text": [
      "\n",
      "MYG GESTION S.R.L.\n",
      "Por escritura del 13/07/2023 se constituyo la sociedad. Socios: Gonzalo Damián GASPAROTTI, argentino, casado, \n",
      "contador público, 8/02/1977, DNI 25.340.650, Vuelta de Obligado 2.371, piso 8, departamento A, CABA, 100 cuotas \n",
      "y Mariano OTERO, argentino, casado, contador público, 30/01/1.973, DNI 22.890.449, J. M. de Estrada 3447, \n",
      "Localidad de La Lucila, Partido de Vicente López, Provincia de Buenos Aires, 100 cuotas, Plazo: 30 AÑOS, Objeto: la \n",
      "prestación de servicios de consultoría, asesoramiento e información a personas físicas y jurídicas, en cuestiones de \n",
      "asistencia técnica en materia contable, y fiscal de la empresa, planificación financiera, fortalecimiento de recursos, \n",
      "implementación de estrategias comerciales. Diagnóstico de problemática empresarial, estableciendo estrategias \n",
      "que permitan mejorar su productividad, liquidez y estructura, contribuyendo a su optimización financiera y todas \n",
      "aquellas otras actividades propias de las incumbencias recaídas en la ley 20.488. Quedan excluidas las actividades \n",
      "comprendidas en la ley de entidades financieras. Se excluye la limitación de responsabilidad del tipo social \n",
      "adoptado, por toda obligación y/o responsabilidad asumida en el ejercicio de profesión de los socios.; Capital: \n",
      "$ 200.000, dividido en 200 cuotas de $ 1.000 de valor nominal cada una; Cierre de ejercicio: 30/04; Gerente: \n",
      "Gonzalo Damián GASPAROTTI, con domicilio especial en la sede; Sede: Quesada 2422, piso 3, CABA. Autorizado \n",
      "según instrumento público Esc. Nº 170 de fecha 13/07/2023 Reg. Nº 396\n",
      "Gerardo Daniel Ricoso - T°: 95 F°: 2 C.P.A.C.F.\n",
      "\n"
     ]
    }
   ],
   "source": [
    "print(casos[1][0])"
   ]
  },
  {
   "cell_type": "code",
   "execution_count": 125,
   "metadata": {},
   "outputs": [
    {
     "data": {
      "text/plain": [
       "[('Gonzalo Damián GASPAROTTI', 'SOCIO'),\n",
       " ('Gerardo Daniel Ricoso', 'ESCRIBANO')]"
      ]
     },
     "execution_count": 125,
     "metadata": {},
     "output_type": "execute_result"
    }
   ],
   "source": [
    "resultados_ls[1]"
   ]
  },
  {
   "cell_type": "code",
   "execution_count": 120,
   "metadata": {},
   "outputs": [
    {
     "data": {
      "text/plain": [
       "[[('Maria Agustina Hagelstrom', 'ESCRIBANO')],\n",
       " [('Gonzalo Damián GASPAROTTI', 'SOCIO'),\n",
       "  ('Gerardo Daniel Ricoso', 'ESCRIBANO')],\n",
       " [('Fernando Mariano CAROTTA', 'SOCIO'),\n",
       "  ('Rosa Margarita VILA', 'SOCIO'),\n",
       "  ('Diego Luaces', 'ESCRIBANO')],\n",
       " [('Shengfeng YU', 'SOCIO'),\n",
       "  ('Jiawei HE', 'SOCIO'),\n",
       "  ('Long YE', 'SOCIO'),\n",
       "  ('VERONICA PAOLA ZAZZALI', 'ESCRIBANO')],\n",
       " [('Jairo Alonso Moreno Prada', 'SOCIO'),\n",
       "  ('Tobías Nicolás Molina', 'SOCIO'),\n",
       "  ('Lucas Emanuel Fortete', 'ESCRIBANO')],\n",
       " [('Daniel Alejandro Yazbek', 'SOCIO'),\n",
       "  ('María Belén Yazbek', 'SOCIO'),\n",
       "  ('Gastón Ezequiel Scrivano', 'SOCIO')],\n",
       " [('Mariela Soledad Lopez', 'SOCIO'),\n",
       "  ('Verónica Alejandra Monciino', 'SOCIO'),\n",
       "  ('ana maria valdez', 'ESCRIBANO')],\n",
       " [('Marcelo Carlos Mombelli', 'SOCIO'),\n",
       "  ('Verónica Alejandra Monciino', 'SOCIO'),\n",
       "  ('ana maria valdez', 'ESCRIBANO')],\n",
       " [('Q SERVICE & TECHNOLOGY\\xa0S.R.L.', 'SOCIEDAD'),\n",
       "  ('Juan Facundo del VALLE', 'SOCIO'),\n",
       "  ('Héctor Florencio GATTI', 'SOCIO'),\n",
       "  ('Gustavo \\nMarcelo SPINAZZOLA', 'SOCIO'),\n",
       "  ('Q SERVICE & TECHNOLOGY SRL', 'SOCIEDAD'),\n",
       "  ('ARMANDO GUILLERMO MALICH', 'ESCRIBANO')],\n",
       " [('Miguel Hernán RIVERO argentino', 'SOCIO'),\n",
       "  ('Leticia Elna \\nSCHWARZ', 'SOCIO'),\n",
       "  ('“RATIO ARGENTINA S.R.L”', 'SOCIEDAD'),\n",
       "  ('GUILLERMO NICOLAS SYMENS', 'ESCRIBANO')],\n",
       " [('Juan Agustín ROJO', 'SOCIO'), ('Reinaldo Omar Bogado', 'ESCRIBANO')],\n",
       " [('Luis Albert GARCIA FUENTES', 'SOCIO'),\n",
       "  ('Diana Carolina ONTIVEROS LOPEZ', 'SOCIO'),\n",
       "  ('VERONICA PAOLA ZAZZALI', 'ESCRIBANO')],\n",
       " [('Mauro Anibal Taliercio', 'ESCRIBANO')],\n",
       " [('SOMOS ARGENTINA\\xa0S.R.L.', 'SOCIEDAD'),\n",
       "  ('Soka Sofia MARINO', 'SOCIO'),\n",
       "  ('Thiago DEYA', 'SOCIO'),\n",
       "  ('Graciela Beatriz LOPEZ', 'SOCIO'),\n",
       "  ('SOMOS ARGENTINA SRL', 'SOCIEDAD'),\n",
       "  ('Soka Sofia MARINO \\nsuscribe 9.900', 'SOCIO'),\n",
       "  ('Santiago Jose Miani', 'ESCRIBANO')],\n",
       " [('Agustin Carlos \\nGONZALEZ MOLINA', 'SOCIO'),\n",
       "  ('Emiliano Alberto GONZALEZ MOLINA', 'SOCIO'),\n",
       "  ('CARLA MARIELA DREWES', 'ESCRIBANO')],\n",
       " [('Gonzalo Martín \\nSEGAL RUIZ 2040 cuotas', 'SOCIO'),\n",
       "  ('MICHELLE DENISE JUAREZ DOVER', 'SOCIO')],\n",
       " [('María Carmen ABUIN', 'SOCIO'),\n",
       "  ('Valeria Soledad CORRALES', 'SOCIO'),\n",
       "  ('Cristian Javier Lopez', 'ESCRIBANO')],\n",
       " [('MARIA GENOVEVA HEGUY', 'ESCRIBANO')],\n",
       " [('Santiago Nicolas SANCHEZ BUSTOS', 'SOCIO'),\n",
       "  ('Facundo Matias SANCHEZ BUSTOS', 'SOCIO'),\n",
       "  ('Carolina Alejandra BUSTOS', 'SOCIO'),\n",
       "  ('Ezequiel Antonio Galarce', 'ESCRIBANO')],\n",
       " [('Luis Vicente Costantini -', 'SOCIO')],\n",
       " [('Federico Gastón GOÑI', 'SOCIO'),\n",
       "  ('Gabriel Sebastian GRAU', 'SOCIO'),\n",
       "  ('VERONICA PAOLA ZAZZALI', 'ESCRIBANO')],\n",
       " [('AGROQUIM NORTE\\xa0S.A.', 'SOCIEDAD'),\n",
       "  ('Esilda Lelia BARRAZA', 'SOCIO'),\n",
       "  ('Diego Leonel SALAZAR argentino', 'SOCIO'),\n",
       "  ('AGROQUIM \\nNORTE\\xa0S.A.', 'SOCIEDAD'),\n",
       "  ('Maria Zulema Garcia De Arana', 'ESCRIBANO')],\n",
       " [('Adriana María Gianastasio', 'ESCRIBANO')],\n",
       " [('Francisco LEVIS', 'SOCIO'),\n",
       "  ('Victor Fernando HOFMANN', 'SOCIO'),\n",
       "  ('Ezequiel Antonio Galarce', 'ESCRIBANO')],\n",
       " [('Fernando Valentin Del Valle', 'SOCIO')],\n",
       " [('Daniel Aníbal PONCE', 'SOCIO'),\n",
       "  ('Sergio OPPEL', 'SOCIO'),\n",
       "  ('“CUENCA RIO TUNUYAN\\xa0S.A.”.-', 'SOCIEDAD'),\n",
       "  ('Reinaldo Omar Bogado', 'ESCRIBANO')],\n",
       " [('Jaime Armando GRINBERG', 'SOCIO'),\n",
       "  ('Adriana Silvana DWEK', 'SOCIO'),\n",
       "  ('Alberto Hugo FAINSTEIN', 'SOCIO'),\n",
       "  ('Nicolás Agustín ROTHOLTZ', 'SOCIO'),\n",
       "  ('Adolfo POMAR', 'SOCIO'),\n",
       "  ('Bruno ZELENAY', 'SOCIO'),\n",
       "  ('Liliana Marta GRINBERG', 'SOCIO'),\n",
       "  ('LILIANA MARTA GRINBERG', 'ESCRIBANO')],\n",
       " [('Marina Beatriz ASIAIN', 'SOCIO'),\n",
       "  ('Nicolas German MORENA', 'SOCIO'),\n",
       "  ('Gerson Cesar Gonsales', 'SOCIO')],\n",
       " [('ELECTROWORLD\\xa0S.A.', 'SOCIEDAD'),\n",
       "  ('Agustín Walter ROLDAN', 'SOCIO'),\n",
       "  ('Esteban Valentín SILVEIRA', 'SOCIO'),\n",
       "  ('Marco Dadone', 'ESCRIBANO')],\n",
       " [('Diego Eliel \\nGoldfarb', 'SOCIO'), ('María Laura Canepa -', 'SOCIO')],\n",
       " [('VALERIA CONSTANZA MARTINA - T', 'SOCIO')],\n",
       " [('Federico Martin FERNANDEZ NERVEGNA', 'SOCIO'),\n",
       "  ('Samuel MARYNBERG', 'SOCIO'),\n",
       "  ('Gerardo Daniel Ricoso', 'ESCRIBANO')],\n",
       " [('CALABRESI, Mauricio Sebastián', 'SOCIO'),\n",
       "  ('VILLARROEL, Juan Adrián', 'SOCIO'),\n",
       "  ('KARINA NOEMI MAURICIO', 'ESCRIBANO')],\n",
       " [('Orlando DI FONZO', 'SOCIO'),\n",
       "  ('Gonzalo Gastón DI FONZO', 'SOCIO'),\n",
       "  ('Lucía Agundez', 'ESCRIBANO')],\n",
       " [('Paola Natali Land', 'SOCIO')],\n",
       " [('Lorena Casadidio -', 'SOCIO')],\n",
       " [('Jonathan Matías Tetelbon', 'SOCIO'),\n",
       "  ('ACCIONISTA Y DIRECTOR \\nSUPLENTE', 'SOCIO'),\n",
       "  ('Fernando German Pranteda', 'ESCRIBANO')],\n",
       " [('Ezequiel Alejandro FERNANDEZ', 'SOCIO')],\n",
       " [('Fernando Gustavo Dalul', 'SOCIO'),\n",
       "  ('Fermín José Ricarte', 'SOCIO'),\n",
       "  ('Planeta \\n\\n\\n\\n \\nSustentable\\xa0S.A.', 'SOCIEDAD'),\n",
       "  ('MARIA SOLEDAD BARATTA', 'ESCRIBANO')],\n",
       " [('Damaris Martinez', 'ESCRIBANO')],\n",
       " [('Germán Augusto MARTINELLI', 'SOCIO'),\n",
       "  ('Juan Ignacio MARTINELLI', 'SOCIO')],\n",
       " [('PABLO DAMIÁN TORRADO', 'SOCIO'), ('BRENDA IVANA NEGRON - T', 'SOCIO')],\n",
       " [('Adriana Gabriela DIMARCO', 'SOCIO'),\n",
       "  ('Milagros CASELINO', 'SOCIO'),\n",
       "  ('GUILLERMO NICOLAS SYMENS', 'ESCRIBANO')],\n",
       " [('Jorge Eduardo Carullo -', 'SOCIO')],\n",
       " [('Martín Diego TEDONE', 'SOCIO'),\n",
       "  ('Jorge Luciano ABREU', 'SOCIO'),\n",
       "  ('Luciano Agustín ABREU MOREIRA', 'SOCIO'),\n",
       "  ('Santiago Jorge ABREU MOREIRA', 'SOCIO'),\n",
       "  ('Luciano Agustín \\nABREU MOREIRA suscribe UN MILLON DE ACCIONES', 'SOCIO'),\n",
       "  ('Santiago Jorge ABREU MOREIRA suscribe UN MILLON DE ACCIONES', 'SOCIO'),\n",
       "  ('ADRIANA PATRICIA BALDA', 'ESCRIBANO')],\n",
       " [('Accionista “YPF SOCIEDAD ANONIMA”', 'SOCIO'),\n",
       "  ('FLORENCIA SOLANGE MULTARI OTERO', 'ESCRIBANO')],\n",
       " [('Diego Eliel Goldfarb', 'SOCIO'),\n",
       "  ('Diego Eliel Goldfarb', 'SOCIO'),\n",
       "  ('María Laura Canepa -', 'SOCIO')],\n",
       " [('Diego Eliel Goldfarb', 'SOCIO'), ('María Laura Canepa -', 'SOCIO')],\n",
       " [('FABIANA ROSA FULGENZI', 'SOCIO'),\n",
       "  ('san martin GENERAL_SAN_MARTíN', 'SOCIO')],\n",
       " [('Nicolás BAUM', 'SOCIO'), ('ELIEL DAMIÁN CAMJALLI', 'SOCIEDAD')]]"
      ]
     },
     "execution_count": 120,
     "metadata": {},
     "output_type": "execute_result"
    }
   ],
   "source": [
    "resultados_ls"
   ]
  },
  {
   "cell_type": "code",
   "execution_count": 118,
   "metadata": {},
   "outputs": [
    {
     "data": {
      "text/html": [
       "<div>\n",
       "<style scoped>\n",
       "    .dataframe tbody tr th:only-of-type {\n",
       "        vertical-align: middle;\n",
       "    }\n",
       "\n",
       "    .dataframe tbody tr th {\n",
       "        vertical-align: top;\n",
       "    }\n",
       "\n",
       "    .dataframe thead th {\n",
       "        text-align: right;\n",
       "    }\n",
       "</style>\n",
       "<table border=\"1\" class=\"dataframe\">\n",
       "  <thead>\n",
       "    <tr style=\"text-align: right;\">\n",
       "      <th></th>\n",
       "      <th>chapter</th>\n",
       "      <th>escrito</th>\n",
       "      <th>texto</th>\n",
       "    </tr>\n",
       "  </thead>\n",
       "  <tbody>\n",
       "    <tr>\n",
       "      <th>0</th>\n",
       "      <td>CONTRATOS SOBRE PERSONAS JURÍDICAS</td>\n",
       "      <td>e. 19/07/2023 N° 55783/23 v. 19/07/2023</td>\n",
       "      <td>SOCIEDADES ANÓNIMAS\\nACEGO S.A.\\nEscritura Nº ...</td>\n",
       "    </tr>\n",
       "    <tr>\n",
       "      <th>1</th>\n",
       "      <td>CONTRATOS SOBRE PERSONAS JURÍDICAS</td>\n",
       "      <td>e. 19/07/2023 N° 55773/23 v. 19/07/2023</td>\n",
       "      <td>\\nAGROQUIM NORTE S.A.\\nEsc 52 del 03/07/2023 F...</td>\n",
       "    </tr>\n",
       "    <tr>\n",
       "      <th>2</th>\n",
       "      <td>CONTRATOS SOBRE PERSONAS JURÍDICAS</td>\n",
       "      <td>e. 19/07/2023 N° 55779/23 v. 19/07/2023</td>\n",
       "      <td>\\n\\n\\n \\nALCARI S.A.\\nNúmero Correlativo 1.707...</td>\n",
       "    </tr>\n",
       "    <tr>\n",
       "      <th>3</th>\n",
       "      <td>CONTRATOS SOBRE PERSONAS JURÍDICAS</td>\n",
       "      <td>e. 19/07/2023 N° 55528/23 v. 19/07/2023</td>\n",
       "      <td>\\nB2FI S.A.\\n1) 17/07/2023. 2) Francisco LEVIS...</td>\n",
       "    </tr>\n",
       "    <tr>\n",
       "      <th>4</th>\n",
       "      <td>CONTRATOS SOBRE PERSONAS JURÍDICAS</td>\n",
       "      <td>e. 19/07/2023 N° 55539/23 v. 19/07/2023</td>\n",
       "      <td>\\nCMIX ARGENTINA S.A.\\nCUIT: 30-71088679-9.Com...</td>\n",
       "    </tr>\n",
       "    <tr>\n",
       "      <th>...</th>\n",
       "      <td>...</td>\n",
       "      <td>...</td>\n",
       "      <td>...</td>\n",
       "    </tr>\n",
       "    <tr>\n",
       "      <th>362805</th>\n",
       "      <td>CONTRATOS SOBRE PERSONAS JURÍDICAS</td>\n",
       "      <td>e. 19/07/2023 N° 55671/23 v. 19/07/2023</td>\n",
       "      <td>\\nSYSTRADER S.R.L.\\nCUIT 30-71425080-5. 1) Por...</td>\n",
       "    </tr>\n",
       "    <tr>\n",
       "      <th>362806</th>\n",
       "      <td>CONTRATOS SOBRE PERSONAS JURÍDICAS</td>\n",
       "      <td>e. 19/07/2023 N° 55748/23 v. 19/07/2023</td>\n",
       "      <td>\\nTHE FIRST LAW S.R.L.\\n1) 17/7/23. 2) María C...</td>\n",
       "    </tr>\n",
       "    <tr>\n",
       "      <th>362807</th>\n",
       "      <td>CONTRATOS SOBRE PERSONAS JURÍDICAS</td>\n",
       "      <td>e. 19/07/2023 N° 55512/23 v. 19/07/2023</td>\n",
       "      <td>\\nTHE LEAD BANG S.R.L.\\nComplemento aviso de f...</td>\n",
       "    </tr>\n",
       "    <tr>\n",
       "      <th>362808</th>\n",
       "      <td>CONTRATOS SOBRE PERSONAS JURÍDICAS</td>\n",
       "      <td>e. 19/07/2023 N° 55527/23 v. 19/07/2023</td>\n",
       "      <td>\\nTHE TOY STORE S.R.L.\\n1) 14/07/2023. 2) Sant...</td>\n",
       "    </tr>\n",
       "    <tr>\n",
       "      <th>362809</th>\n",
       "      <td>CONTRATOS SOBRE PERSONAS JURÍDICAS</td>\n",
       "      <td>e. 19/07/2023 N° 55574/23 v. 19/07/2023</td>\n",
       "      <td>\\nTROPISODA S.R.L.\\nRectifico T.I. 55117/23 de...</td>\n",
       "    </tr>\n",
       "  </tbody>\n",
       "</table>\n",
       "<p>112200 rows × 3 columns</p>\n",
       "</div>"
      ],
      "text/plain": [
       "                                   chapter   \n",
       "0       CONTRATOS SOBRE PERSONAS JURÍDICAS  \\\n",
       "1       CONTRATOS SOBRE PERSONAS JURÍDICAS   \n",
       "2       CONTRATOS SOBRE PERSONAS JURÍDICAS   \n",
       "3       CONTRATOS SOBRE PERSONAS JURÍDICAS   \n",
       "4       CONTRATOS SOBRE PERSONAS JURÍDICAS   \n",
       "...                                    ...   \n",
       "362805  CONTRATOS SOBRE PERSONAS JURÍDICAS   \n",
       "362806  CONTRATOS SOBRE PERSONAS JURÍDICAS   \n",
       "362807  CONTRATOS SOBRE PERSONAS JURÍDICAS   \n",
       "362808  CONTRATOS SOBRE PERSONAS JURÍDICAS   \n",
       "362809  CONTRATOS SOBRE PERSONAS JURÍDICAS   \n",
       "\n",
       "                                        escrito   \n",
       "0       e. 19/07/2023 N° 55783/23 v. 19/07/2023  \\\n",
       "1       e. 19/07/2023 N° 55773/23 v. 19/07/2023   \n",
       "2       e. 19/07/2023 N° 55779/23 v. 19/07/2023   \n",
       "3       e. 19/07/2023 N° 55528/23 v. 19/07/2023   \n",
       "4       e. 19/07/2023 N° 55539/23 v. 19/07/2023   \n",
       "...                                         ...   \n",
       "362805  e. 19/07/2023 N° 55671/23 v. 19/07/2023   \n",
       "362806  e. 19/07/2023 N° 55748/23 v. 19/07/2023   \n",
       "362807  e. 19/07/2023 N° 55512/23 v. 19/07/2023   \n",
       "362808  e. 19/07/2023 N° 55527/23 v. 19/07/2023   \n",
       "362809  e. 19/07/2023 N° 55574/23 v. 19/07/2023   \n",
       "\n",
       "                                                    texto  \n",
       "0       SOCIEDADES ANÓNIMAS\\nACEGO S.A.\\nEscritura Nº ...  \n",
       "1       \\nAGROQUIM NORTE S.A.\\nEsc 52 del 03/07/2023 F...  \n",
       "2       \\n\\n\\n \\nALCARI S.A.\\nNúmero Correlativo 1.707...  \n",
       "3       \\nB2FI S.A.\\n1) 17/07/2023. 2) Francisco LEVIS...  \n",
       "4       \\nCMIX ARGENTINA S.A.\\nCUIT: 30-71088679-9.Com...  \n",
       "...                                                   ...  \n",
       "362805  \\nSYSTRADER S.R.L.\\nCUIT 30-71425080-5. 1) Por...  \n",
       "362806  \\nTHE FIRST LAW S.R.L.\\n1) 17/7/23. 2) María C...  \n",
       "362807  \\nTHE LEAD BANG S.R.L.\\nComplemento aviso de f...  \n",
       "362808  \\nTHE TOY STORE S.R.L.\\n1) 14/07/2023. 2) Sant...  \n",
       "362809  \\nTROPISODA S.R.L.\\nRectifico T.I. 55117/23 de...  \n",
       "\n",
       "[112200 rows x 3 columns]"
      ]
     },
     "execution_count": 118,
     "metadata": {},
     "output_type": "execute_result"
    }
   ],
   "source": [
    "df_base[df_base.chapter=='CONTRATOS SOBRE PERSONAS JURÍDICAS']"
   ]
  },
  {
   "cell_type": "code",
   "execution_count": 115,
   "metadata": {},
   "outputs": [
    {
     "data": {
      "text/plain": [
       "[[('Enrique Fernandez Moujan', 'ESCRIBANO')],\n",
       " [('Miguel Carlos Remmer', 'SOCIO')],\n",
       " [('Anibal Enrique ALFONZO', 'SOCIO')],\n",
       " [('MARIA LAURA ANSELMI', 'ESCRIBANO')],\n",
       " [('María Dolores Garcia', 'ESCRIBANO')],\n",
       " [('Maria Lucia Quinteiro', 'ESCRIBANO')],\n",
       " [('Adriana Amelia Cavallo -', 'SOCIO')],\n",
       " [('Adriana Amelia Cavallo -', 'SOCIO')],\n",
       " [('Adriana Amelia Cavallo -', 'SOCIO')],\n",
       " [('Milagros María Pelly', 'ESCRIBANO')],\n",
       " [('Miguel Carlos Remmer', 'SOCIO')],\n",
       " [('María Fernanda Mierez', 'ESCRIBANO')],\n",
       " [('María Cristina Lopez Seoane', 'SOCIO')],\n",
       " [('MARINA GRIGLIONE HESS - T', 'SOCIO')],\n",
       " [('MERCEDES MARIA VERON', 'ESCRIBANO')],\n",
       " [('Gabriela Eliana Blanco', 'SOCIO')],\n",
       " [('Jose Luis Alvarez', 'ESCRIBANO')],\n",
       " [('Gabriela Fernanda Casas', 'SOCIO')],\n",
       " [('Joaquín Estanislao Martínez -', 'SOCIO')],\n",
       " [('Nicolas Santurio', 'ESCRIBANO')],\n",
       " [('Sr. Hernán José Marsili', 'SOCIO'), ('LUCIANA PADRONI', 'ESCRIBANO')],\n",
       " [('Fernando Enrique Freire -', 'SOCIO')],\n",
       " [],\n",
       " [('Nicolás LINO cedió 30.000', 'SOCIO'),\n",
       "  ('Florencia Carolina Samah', 'SOCIO')],\n",
       " [('Carolina Edith Sequeira -', 'SOCIO')],\n",
       " [('jose manuel carzolio', 'ESCRIBANO')],\n",
       " [('Jorge Eduardo Carullo -', 'SOCIO')],\n",
       " [('Hugo Rodolfo de la IGLESIA cede la', 'SOCIO'),\n",
       "  ('Santiago Jose Miani', 'ESCRIBANO')],\n",
       " [('Andres Alberto Martinez', 'ESCRIBANO')],\n",
       " [('Reinaldo Omar Bogado -', 'SOCIO')],\n",
       " [('Martín Alejandro Mittelman', 'SOCIO')],\n",
       " [('Jose Luis Marinelli', 'ESCRIBANO')],\n",
       " [],\n",
       " [('jorge juan jose \\ngonzalez gale', 'ESCRIBANO')],\n",
       " [('OSCAR ROZAS', 'ESCRIBANO')],\n",
       " [],\n",
       " [],\n",
       " [('Revalúo del valor nominal', 'SOCIO')],\n",
       " [],\n",
       " [],\n",
       " [],\n",
       " [],\n",
       " [],\n",
       " [('OSCAR RAMOS', 'ESCRIBANO')],\n",
       " [('ALAN GABRIEL GELER', 'SOCIEDAD')],\n",
       " [],\n",
       " [],\n",
       " [],\n",
       " [],\n",
       " [('LAGO VIEDMA\\xa0S.A.', 'SOCIO')]]"
      ]
     },
     "execution_count": 115,
     "metadata": {},
     "output_type": "execute_result"
    }
   ],
   "source": [
    "resultados_ls"
   ]
  }
 ],
 "metadata": {
  "accelerator": "GPU",
  "colab": {
   "gpuType": "T4",
   "provenance": [],
   "toc_visible": true
  },
  "kernelspec": {
   "display_name": "Python 3 (ipykernel)",
   "language": "python",
   "name": "python3"
  },
  "language_info": {
   "codemirror_mode": {
    "name": "ipython",
    "version": 3
   },
   "file_extension": ".py",
   "mimetype": "text/x-python",
   "name": "python",
   "nbconvert_exporter": "python",
   "pygments_lexer": "ipython3",
   "version": "3.10.4"
  }
 },
 "nbformat": 4,
 "nbformat_minor": 4
}
