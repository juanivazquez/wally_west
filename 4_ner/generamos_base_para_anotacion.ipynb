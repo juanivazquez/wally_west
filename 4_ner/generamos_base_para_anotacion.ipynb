{
 "cells": [
  {
   "cell_type": "markdown",
   "id": "cc2e934e-1fd4-4f95-8792-22445ee3f69d",
   "metadata": {},
   "source": [
    "# LIBRARIES"
   ]
  },
  {
   "cell_type": "code",
   "execution_count": 1,
   "id": "73ad9af9-f8cd-4864-8ee7-611cfa207029",
   "metadata": {},
   "outputs": [
    {
     "data": {
      "text/plain": [
       "'C:\\\\Users\\\\juani\\\\Documents\\\\3_My_Jupiter_Notebooks\\\\5_Galicia\\\\7_boletines'"
      ]
     },
     "execution_count": 1,
     "metadata": {},
     "output_type": "execute_result"
    }
   ],
   "source": [
    "import fitz\n",
    "import os\n",
    "import shutil\n",
    "import re\n",
    "import pandas as pd\n",
    "import numpy as np\n",
    "from functools import wraps\n",
    "import time\n",
    "\n",
    "def timeit(func):\n",
    "    @wraps(func)\n",
    "    def timeit_wrapper(*args, **kwargs):\n",
    "        start_time = time.perf_counter()\n",
    "        result = func(*args, **kwargs)\n",
    "        end_time = time.perf_counter()\n",
    "        total_time = end_time - start_time\n",
    "        # print(f'Function {func.__name__}{args} {kwargs} Took {total_time:.4f} seconds')\n",
    "        print(f'Function {func.__name__} Took {total_time:.4f} seconds')\n",
    "        return result\n",
    "    return timeit_wrapper\n",
    "\n",
    "os.getcwd()"
   ]
  },
  {
   "cell_type": "markdown",
   "id": "ef477a8b-48e2-4bb9-924b-782035e8d34e",
   "metadata": {},
   "source": [
    "# LOAD DATA"
   ]
  },
  {
   "cell_type": "code",
   "execution_count": 97,
   "id": "0a1fa058-506a-49a5-8927-437ab76b4086",
   "metadata": {},
   "outputs": [
    {
     "data": {
      "text/html": [
       "<div>\n",
       "<style scoped>\n",
       "    .dataframe tbody tr th:only-of-type {\n",
       "        vertical-align: middle;\n",
       "    }\n",
       "\n",
       "    .dataframe tbody tr th {\n",
       "        vertical-align: top;\n",
       "    }\n",
       "\n",
       "    .dataframe thead th {\n",
       "        text-align: right;\n",
       "    }\n",
       "</style>\n",
       "<table border=\"1\" class=\"dataframe\">\n",
       "  <thead>\n",
       "    <tr style=\"text-align: right;\">\n",
       "      <th></th>\n",
       "      <th>chapter</th>\n",
       "      <th>escrito</th>\n",
       "      <th>texto</th>\n",
       "    </tr>\n",
       "  </thead>\n",
       "  <tbody>\n",
       "    <tr>\n",
       "      <th>0</th>\n",
       "      <td>CONTRATOS SOBRE PERSONAS JURÍDICAS</td>\n",
       "      <td>e. 19/07/2023 N° 55783/23 v. 19/07/2023</td>\n",
       "      <td>SOCIEDADES ANÓNIMAS\\nACEGO S.A.\\nEscritura Nº ...</td>\n",
       "    </tr>\n",
       "    <tr>\n",
       "      <th>1</th>\n",
       "      <td>CONTRATOS SOBRE PERSONAS JURÍDICAS</td>\n",
       "      <td>e. 19/07/2023 N° 55773/23 v. 19/07/2023</td>\n",
       "      <td>\\nAGROQUIM NORTE S.A.\\nEsc 52 del 03/07/2023 F...</td>\n",
       "    </tr>\n",
       "    <tr>\n",
       "      <th>2</th>\n",
       "      <td>CONTRATOS SOBRE PERSONAS JURÍDICAS</td>\n",
       "      <td>e. 19/07/2023 N° 55779/23 v. 19/07/2023</td>\n",
       "      <td>\\n\\n\\n \\nALCARI S.A.\\nNúmero Correlativo 1.707...</td>\n",
       "    </tr>\n",
       "    <tr>\n",
       "      <th>3</th>\n",
       "      <td>CONTRATOS SOBRE PERSONAS JURÍDICAS</td>\n",
       "      <td>e. 19/07/2023 N° 55528/23 v. 19/07/2023</td>\n",
       "      <td>\\nB2FI S.A.\\n1) 17/07/2023. 2) Francisco LEVIS...</td>\n",
       "    </tr>\n",
       "    <tr>\n",
       "      <th>4</th>\n",
       "      <td>CONTRATOS SOBRE PERSONAS JURÍDICAS</td>\n",
       "      <td>e. 19/07/2023 N° 55539/23 v. 19/07/2023</td>\n",
       "      <td>\\nCMIX ARGENTINA S.A.\\nCUIT: 30-71088679-9.Com...</td>\n",
       "    </tr>\n",
       "  </tbody>\n",
       "</table>\n",
       "</div>"
      ],
      "text/plain": [
       "                              chapter   \n",
       "0  CONTRATOS SOBRE PERSONAS JURÍDICAS  \\\n",
       "1  CONTRATOS SOBRE PERSONAS JURÍDICAS   \n",
       "2  CONTRATOS SOBRE PERSONAS JURÍDICAS   \n",
       "3  CONTRATOS SOBRE PERSONAS JURÍDICAS   \n",
       "4  CONTRATOS SOBRE PERSONAS JURÍDICAS   \n",
       "\n",
       "                                   escrito   \n",
       "0  e. 19/07/2023 N° 55783/23 v. 19/07/2023  \\\n",
       "1  e. 19/07/2023 N° 55773/23 v. 19/07/2023   \n",
       "2  e. 19/07/2023 N° 55779/23 v. 19/07/2023   \n",
       "3  e. 19/07/2023 N° 55528/23 v. 19/07/2023   \n",
       "4  e. 19/07/2023 N° 55539/23 v. 19/07/2023   \n",
       "\n",
       "                                               texto  \n",
       "0  SOCIEDADES ANÓNIMAS\\nACEGO S.A.\\nEscritura Nº ...  \n",
       "1  \\nAGROQUIM NORTE S.A.\\nEsc 52 del 03/07/2023 F...  \n",
       "2  \\n\\n\\n \\nALCARI S.A.\\nNúmero Correlativo 1.707...  \n",
       "3  \\nB2FI S.A.\\n1) 17/07/2023. 2) Francisco LEVIS...  \n",
       "4  \\nCMIX ARGENTINA S.A.\\nCUIT: 30-71088679-9.Com...  "
      ]
     },
     "execution_count": 97,
     "metadata": {},
     "output_type": "execute_result"
    }
   ],
   "source": [
    "df = pd.read_pickle('df.pkl')\n",
    "df.head()"
   ]
  },
  {
   "cell_type": "code",
   "execution_count": 9,
   "id": "b4a56f73-044b-4681-aaa5-6cda8367809e",
   "metadata": {},
   "outputs": [
    {
     "data": {
      "text/plain": [
       "112200"
      ]
     },
     "execution_count": 9,
     "metadata": {},
     "output_type": "execute_result"
    }
   ],
   "source": [
    "len(df[df.chapter=='CONTRATOS SOBRE PERSONAS JURÍDICAS'])"
   ]
  },
  {
   "cell_type": "code",
   "execution_count": 6,
   "id": "543b4fb4-8d3f-4442-885c-d2bc4a93c182",
   "metadata": {},
   "outputs": [
    {
     "data": {
      "text/plain": [
       "363000"
      ]
     },
     "execution_count": 6,
     "metadata": {},
     "output_type": "execute_result"
    }
   ],
   "source": [
    "len(df.texto.tolist())"
   ]
  },
  {
   "cell_type": "code",
   "execution_count": 98,
   "id": "4e2b78b2-2137-49c7-a7b7-a89c224068e4",
   "metadata": {},
   "outputs": [
    {
     "name": "stdout",
     "output_type": "stream",
     "text": [
      "SOCIEDADES ANÓNIMAS\n",
      "ACEGO S.A.\n",
      "Escritura Nº 757 F° 2011 Reg. 553 de fecha 5/7/2023. Federico Gastón GOÑI, nacido el 21/5/1986, DNI 32.257.649, \n",
      "arquitecto, domiciliado en Calle 9, Nro 1521, Piso 2, Depto A, La Plata, Pcia Bs As, y Gabriel Sebastian GRAU, \n",
      "nacido el 17/6/1984, DNI 30.923.019, empresario, domiciliada en Calle 49 Nro 339, Planta Baja, Depto B, La Plata, \n",
      "Pcia Bs As; ambos argentinos y solteros. Objeto: A) Realización de obras públicas y/o privadas, por contratación \n",
      "directa, licitación pública y/o privada y cualquier sistema vigente y/o a crearse, ejecución de proyecto, dirección, \n",
      "administración, construcción, reparación y reformación de todo tipo de obras de ingeniería y arquitectura de \n",
      "inmuebles, incluyendo las actividades de la albañilería, herrería, electricidad y afines.- B) Compra, venta, \n",
      "importación, exportación, y comercialización de todo tipo de materiales, artículos e insumos para la construcción, \n",
      "incluyendo materiales de corralón, materiales eléctricos, maquinarias de construcción y afines.- C) Realización de \n",
      "operaciones inmobiliarias, compraventa, permuta, alquiler, arrendamiento de propiedades inmuebles, inclusive las \n",
      "comprendidas bajo el régimen de propiedad horizontal, así como también toda clase de operaciones inmobiliarias \n",
      "incluyendo el fraccionamiento y posterior loteo de parcelas destinadas a la vivienda, urbanización, clubes de \n",
      "Campo y parques industriales, pudiendo tomar la venta o comercialización de operaciones inmobiliarias de \n",
      "terceros. Podrá inclusive realizar todas las operaciones sobre inmuebles que autoricen las leyes comprendidas en \n",
      "las disposiciones de la ley de propiedad horizontal.. Cierre de Ejercicio 31/12. Capital $ 200.000 representado por \n",
      "200.000 acciones ordinarias, nominativas no endosables de un (1) peso cada una que se suscriben en un 100% y se \n",
      "integran en un 25%. Suscriben 100.000 acciones c/u. Duración 30 años. Directorio por 3 ejercicios: PRESIDENTE: \n",
      "Federico Gastón GOÑI; DIRECTOR SUPLENTE: Gabriel Sebastian GRAU; todos con domicilio especial y sede \n",
      "social en Avenida Entre Ríos 1241, Piso 7, Unidad 47, CABA Autorizado según instrumento público Esc. Nº 757 de \n",
      "fecha 05/07/2023 Reg. Nº 553\n",
      "VERONICA PAOLA ZAZZALI - T°: 358 F°: 235 C.P.C.E.C.A.B.A.\n",
      "\n"
     ]
    }
   ],
   "source": [
    "example = df.texto[0]\n",
    "print(example)"
   ]
  },
  {
   "cell_type": "markdown",
   "id": "36c31643-0174-42b3-9038-d4f0ff4ea8f7",
   "metadata": {},
   "source": [
    "# dataset"
   ]
  },
  {
   "cell_type": "code",
   "execution_count": null,
   "id": "38eeddf7-cf56-434b-a280-4ad9d54da842",
   "metadata": {},
   "outputs": [],
   "source": [
    "import json\n",
    "import os\n",
    "os.getcwd()"
   ]
  },
  {
   "cell_type": "markdown",
   "id": "965dd4e6-48b4-474c-a4aa-2bf53e1b2626",
   "metadata": {},
   "source": [
    "## Generamos string con separador 'SEPARATOR'"
   ]
  },
  {
   "cell_type": "code",
   "execution_count": null,
   "id": "9be86a13-7954-426c-9bba-c3c29f971798",
   "metadata": {},
   "outputs": [],
   "source": [
    "# generamos un dataset\n",
    "base_ls = df[df.chapter=='CONTRATOS SOBRE PERSONAS JURÍDICAS'].texto[0:100].tolist()\n",
    "base_str = 'SEPARATOR'.join(base_ls)\n",
    "# print(base_str)\n",
    "with open(r'C:\\Users\\juani\\Desktop\\base_str.txt', \"w\", encoding=\"utf-8\") as text_file:\n",
    "    text_file.write(base_str)"
   ]
  },
  {
   "cell_type": "code",
   "execution_count": 99,
   "id": "65b675c9-1fda-420e-9f84-beb532a9e674",
   "metadata": {},
   "outputs": [],
   "source": [
    "# Specify the path to your JSON file\n",
    "json_file_path = r'C:\\Users\\juani\\Desktop\\ner_files\\example_100.json'\n",
    "\n",
    "# Read the JSON file\n",
    "with open(json_file_path, 'r', encoding=\"utf-8\") as json_file:\n",
    "    data = json.load(json_file)"
   ]
  },
  {
   "cell_type": "markdown",
   "id": "785c2b93-d036-4cf6-931f-a617cef39fb1",
   "metadata": {},
   "source": [
    "### caso 2"
   ]
  },
  {
   "cell_type": "code",
   "execution_count": 108,
   "id": "cc80e2ee-54ad-4c34-9054-64903386b462",
   "metadata": {},
   "outputs": [],
   "source": [
    "\n",
    "# nombre\n",
    "nombre = '2'\n",
    "# generamos un dataset\n",
    "base_ls = df[df.chapter=='CONTRATOS SOBRE PERSONAS JURÍDICAS'].texto[100:500].tolist()\n",
    "base_str = 'SEPARATOR'.join(base_ls)\n",
    "# print(base_str)\n",
    "with open(r'C:\\Users\\juani\\Desktop\\ner_files\\base_str_2.txt', \"w\", encoding=\"utf-8\") as text_file:\n",
    "    text_file.write(base_str)\n",
    "  \n"
   ]
  },
  {
   "cell_type": "markdown",
   "id": "b1a9417d-9af0-455f-bc16-73f6b0ec6c71",
   "metadata": {},
   "source": [
    "## levantamos dataset anotado"
   ]
  },
  {
   "cell_type": "code",
   "execution_count": 103,
   "id": "39693907-99b1-4dd4-ac1c-5f488a7b6e75",
   "metadata": {},
   "outputs": [
    {
     "data": {
      "text/plain": [
       "64"
      ]
     },
     "execution_count": 103,
     "metadata": {},
     "output_type": "execute_result"
    }
   ],
   "source": [
    "json_file_path = r'C:\\Users\\juani\\Desktop\\ner_files\\example_100.json'\n",
    "with open(json_file_path, 'r', encoding=\"utf-8\") as json_file:\n",
    "    data = json.load(json_file)\n",
    "indices_to_remove = []\n",
    "for i,d in enumerate(data['annotations']):\n",
    "    try:\n",
    "        if d is None:\n",
    "            indices_to_remove.append(i)\n",
    "    except:\n",
    "        pass\n",
    "# print(indices_to_remove)\n",
    "dataset_anotado = [value for index, value in enumerate(data['annotations']) if index not in indices_to_remove]\n",
    "len(dataset_anotado)"
   ]
  },
  {
   "cell_type": "markdown",
   "id": "5c78a560-df60-405b-b311-05926578876c",
   "metadata": {},
   "source": [
    "# NER"
   ]
  }
 ],
 "metadata": {
  "kernelspec": {
   "display_name": "Python 3 (ipykernel)",
   "language": "python",
   "name": "python3"
  },
  "language_info": {
   "codemirror_mode": {
    "name": "ipython",
    "version": 3
   },
   "file_extension": ".py",
   "mimetype": "text/x-python",
   "name": "python",
   "nbconvert_exporter": "python",
   "pygments_lexer": "ipython3",
   "version": "3.10.4"
  },
  "toc-autonumbering": true
 },
 "nbformat": 4,
 "nbformat_minor": 5
}
