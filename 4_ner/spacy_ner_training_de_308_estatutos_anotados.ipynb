{
 "cells": [
  {
   "cell_type": "code",
   "execution_count": null,
   "metadata": {},
   "outputs": [],
   "source": []
  },
  {
   "cell_type": "code",
   "execution_count": 1,
   "metadata": {
    "colab": {
     "base_uri": "https://localhost:8080/"
    },
    "id": "TNUmJvIJ1jct",
    "outputId": "c9a56ca8-35b9-4a9f-f7d8-f495656d3452"
   },
   "outputs": [],
   "source": [
    "# install any necessary packages\n",
    "# !pip install -U spacy\n",
    "# !pip install spacy_transformers\n",
    "\n",
    "# Install below packages if error occurs while installing above packages\n",
    "#!pip install -U pip setuptools\n",
    "# !pip install typing-extensions==4.6.1\n"
   ]
  },
  {
   "cell_type": "markdown",
   "metadata": {
    "id": "sw5JbPKVp9i9"
   },
   "source": [
    "https://medium.com/@mjghadge9007/building-your-own-custom-named-entity-recognition-ner-model-with-spacy-v3-a-step-by-step-guide-15c7dcb1c416"
   ]
  },
  {
   "cell_type": "code",
   "execution_count": 2,
   "metadata": {
    "colab": {
     "base_uri": "https://localhost:8080/"
    },
    "id": "3iu9wIGZtsbS",
    "outputId": "82c45cff-9a81-4ddd-91d2-edcb31091729"
   },
   "outputs": [
    {
     "name": "stdout",
     "output_type": "stream",
     "text": [
      "C:\\Users\\juani\\Documents\\3_My_Jupiter_Notebooks\\0_github\\ner\n"
     ]
    },
    {
     "data": {
      "text/plain": [
       "'3.7.3'"
      ]
     },
     "execution_count": 2,
     "metadata": {},
     "output_type": "execute_result"
    }
   ],
   "source": [
    "# Import required libraries and install any necessary packages\n",
    "import pandas as pd\n",
    "import numpy as np\n",
    "import spacy\n",
    "from spacy.tokens import DocBin\n",
    "from tqdm import tqdm\n",
    "import json\n",
    "import os\n",
    "print(os.getcwd())\n",
    "# Check the installed version of spaCy\n",
    "spacy.__version__\n",
    "\n",
    "# Check GPU information\n",
    "# !nvidia-smi"
   ]
  },
  {
   "cell_type": "code",
   "execution_count": 3,
   "metadata": {},
   "outputs": [
    {
     "data": {
      "text/plain": [
       "'1.24.4'"
      ]
     },
     "execution_count": 3,
     "metadata": {},
     "output_type": "execute_result"
    }
   ],
   "source": [
    "import numpy as np\n",
    "np.__version__"
   ]
  },
  {
   "cell_type": "code",
   "execution_count": 4,
   "metadata": {},
   "outputs": [
    {
     "data": {
      "text/plain": [
       "['\\r\\nFLORIAN\\xa0S.A.\\r\\n1) Daniel Mario Marquez DNI 10788314 argentino divorciado comerciante 23/02/53 Guillermo Rawson 2715, \\r\\nLocalidad Olivos, Partido Vicente Lopez, Pcia. De Bs. As., quien suscribe 95 acciones y Alberto Rivera Luna DNI \\r\\n18820133 argentino divorciado comerciante 06/01/68 Av. Cobo 1581 CABA, quien suscribe 5 acciones. Todas \\r\\nnominativas no endosables de $\\xa04.000 de Valor Nominal y de 1 Voto por acción 2) 10/02/22 4) Junin 1715 CABA \\r\\n5) Restaurante, café, bar, salón de eventos 6) 30 años 7) $\\xa0400.000 8) Dirección y administración 1 a 7 directores \\r\\npor 3 ejercicios. Sin Síndicos 9) El Presidente. Presidente Daniel Mario Marquez Vicepresidente Alberto Rivera \\r\\nLuna y Suplente Gustavo Marcelo Graieb: DNI 14157635 argentino soltero productor de seguros 14/05/60 Av. \\r\\nCabildo 1695 Piso 8 Depto. 26 CABA todos con domicilio especial en la sede social 10) 30/06 Autorizado según \\r\\ninstrumento público Esc. Nº\\xa016 de fecha 10/02/2022 Reg. Nº\\xa0412\\r\\nPablo Damián Rodriguez - T°: 69 F°: 84 C.P.A.C.F.\\r\\n\\r\\n\\r\\n ',\n",
       " {'entities': [[2, 14, 'SOCIEDAD'],\n",
       "   [19, 39, 'SOCIO'],\n",
       "   [44, 52, 'DNI'],\n",
       "   [208, 227, 'SOCIO'],\n",
       "   [234, 242, 'DNI'],\n",
       "   [962, 984, 'ESCRIBANO']]}]"
      ]
     },
     "execution_count": 4,
     "metadata": {},
     "output_type": "execute_result"
    }
   ],
   "source": [
    "data = pd.read_pickle(r'C:\\\\Users\\\\juani\\\\Documents\\\\3_My_Jupiter_Notebooks\\\\0_github\\\\ner\\\\estatutos_anotados.pkl')\n",
    "data = data.values.tolist()\n",
    "data[0]"
   ]
  },
  {
   "cell_type": "code",
   "execution_count": 5,
   "metadata": {},
   "outputs": [
    {
     "data": {
      "text/plain": [
       "308"
      ]
     },
     "execution_count": 5,
     "metadata": {},
     "output_type": "execute_result"
    }
   ],
   "source": [
    "len(data)"
   ]
  },
  {
   "cell_type": "code",
   "execution_count": 6,
   "metadata": {
    "colab": {
     "base_uri": "https://localhost:8080/"
    },
    "id": "9xxwCO8au7GJ",
    "outputId": "45f2d048-2d23-4c69-83ff-56500c6d5060"
   },
   "outputs": [
    {
     "name": "stdout",
     "output_type": "stream",
     "text": [
      "[paths]\n",
      "train = null\n",
      "dev = null\n",
      "vectors = \"es_core_news_lg\"\n",
      "init_tok2vec = null\n",
      "\n",
      "[system]\n",
      "gpu_allocator = null\n",
      "seed = 0\n",
      "\n",
      "[nlp]\n",
      "lang = \"es\"\n",
      "pipeline = [\"tok2vec\",\"ner\"]\n",
      "batch_size = 1000\n",
      "disabled = []\n",
      "before_creation = null\n",
      "after_creation = null\n",
      "after_pipeline_creation = null\n",
      "tokenizer = {\"@tokenizers\":\"spacy.Tokenizer.v1\"}\n",
      "vectors = {\"@vectors\":\"spacy.Vectors.v1\"}\n",
      "\n",
      "[components]\n",
      "\n",
      "[components.ner]\n",
      "factory = \"ner\"\n",
      "incorrect_spans_key = null\n",
      "moves = null\n",
      "scorer = {\"@scorers\":\"spacy.ner_scorer.v1\"}\n",
      "update_with_oracle_cut_size = 100\n",
      "\n",
      "[components.ner.model]\n",
      "@architectures = \"spacy.TransitionBasedParser.v2\"\n",
      "state_type = \"ner\"\n",
      "extra_state_tokens = false\n",
      "hidden_width = 64\n",
      "maxout_pieces = 2\n",
      "use_upper = true\n",
      "nO = null\n",
      "\n",
      "[components.ner.model.tok2vec]\n",
      "@architectures = \"spacy.Tok2VecListener.v1\"\n",
      "width = ${components.tok2vec.model.encode.width}\n",
      "upstream = \"*\"\n",
      "\n",
      "[components.tok2vec]\n",
      "factory = \"tok2vec\"\n",
      "\n",
      "[components.tok2vec.model]\n",
      "@architectures = \"spacy.Tok2Vec.v2\"\n",
      "\n",
      "[components.tok2vec.model.embed]\n",
      "@architectures = \"spacy.MultiHashEmbed.v2\"\n",
      "width = ${components.tok2vec.model.encode.width}\n",
      "attrs = [\"NORM\",\"PREFIX\",\"SUFFIX\",\"SHAPE\"]\n",
      "rows = [5000,1000,2500,2500]\n",
      "include_static_vectors = true\n",
      "\n",
      "[components.tok2vec.model.encode]\n",
      "@architectures = \"spacy.MaxoutWindowEncoder.v2\"\n",
      "width = 256\n",
      "depth = 8\n",
      "window_size = 1\n",
      "maxout_pieces = 3\n",
      "\n",
      "[corpora]\n",
      "\n",
      "[corpora.dev]\n",
      "@readers = \"spacy.Corpus.v1\"\n",
      "path = ${paths.dev}\n",
      "max_length = 0\n",
      "gold_preproc = false\n",
      "limit = 0\n",
      "augmenter = null\n",
      "\n",
      "[corpora.train]\n",
      "@readers = \"spacy.Corpus.v1\"\n",
      "path = ${paths.train}\n",
      "max_length = 0\n",
      "gold_preproc = false\n",
      "limit = 0\n",
      "augmenter = null\n",
      "\n",
      "[training]\n",
      "dev_corpus = \"corpora.dev\"\n",
      "train_corpus = \"corpora.train\"\n",
      "seed = ${system.seed}\n",
      "gpu_allocator = ${system.gpu_allocator}\n",
      "dropout = 0.1\n",
      "accumulate_gradient = 1\n",
      "patience = 1600\n",
      "max_epochs = 0\n",
      "max_steps = 20000\n",
      "eval_frequency = 200\n",
      "frozen_components = []\n",
      "annotating_components = []\n",
      "before_to_disk = null\n",
      "before_update = null\n",
      "\n",
      "[training.batcher]\n",
      "@batchers = \"spacy.batch_by_words.v1\"\n",
      "discard_oversize = false\n",
      "tolerance = 0.2\n",
      "get_length = null\n",
      "\n",
      "[training.batcher.size]\n",
      "@schedules = \"compounding.v1\"\n",
      "start = 100\n",
      "stop = 1000\n",
      "compound = 1.001\n",
      "t = 0.0\n",
      "\n",
      "[training.logger]\n",
      "@loggers = \"spacy.ConsoleLogger.v1\"\n",
      "progress_bar = false\n",
      "\n",
      "[training.optimizer]\n",
      "@optimizers = \"Adam.v1\"\n",
      "beta1 = 0.9\n",
      "beta2 = 0.999\n",
      "L2_is_weight_decay = true\n",
      "L2 = 0.01\n",
      "grad_clip = 1.0\n",
      "use_averages = false\n",
      "eps = 0.00000001\n",
      "learn_rate = 0.001\n",
      "\n",
      "[training.score_weights]\n",
      "ents_f = 1.0\n",
      "ents_p = 0.0\n",
      "ents_r = 0.0\n",
      "ents_per_type = null\n",
      "\n",
      "[pretraining]\n",
      "\n",
      "[initialize]\n",
      "vectors = ${paths.vectors}\n",
      "init_tok2vec = ${paths.init_tok2vec}\n",
      "vocab_data = null\n",
      "lookups = null\n",
      "before_init = null\n",
      "after_init = null\n",
      "\n",
      "[initialize.components]\n",
      "\n",
      "[initialize.tokenizer]\n"
     ]
    }
   ],
   "source": [
    "# Initialize spaCy configuration files by copying from base_config to config.cfg\n",
    "# !python -m spacy init fill-config /\"your_file_path\"/base_config.cfg /\"your_file_path\"/config/config.cfg\n",
    "!python -m spacy init fill-config C:\\\\Users\\\\juani\\\\Documents\\\\3_My_Jupiter_Notebooks\\\\0_github\\\\ner\\\\model_308\\\\config.cfg"
   ]
  },
  {
   "cell_type": "code",
   "execution_count": 45,
   "metadata": {
    "id": "NPRO60H_wYTg"
   },
   "outputs": [],
   "source": [
    "# Define a function to create spaCy DocBin objects from the annotated data\n",
    "def get_spacy_doc(file, data):\n",
    "  # Create a blank spaCy pipeline\n",
    "  nlp = spacy.blank('es')\n",
    "  db = DocBin()\n",
    "\n",
    "  # Iterate through the data\n",
    "  for text, annot in tqdm(data):\n",
    "    doc = nlp.make_doc(text)\n",
    "    annot = annot['entities']\n",
    "\n",
    "    ents = []\n",
    "    entity_indices = []\n",
    "\n",
    "    # Extract entities from the annotations\n",
    "    for start, end, label in annot:\n",
    "      skip_entity = False\n",
    "      for idx in range(start, end):\n",
    "        if idx in entity_indices:\n",
    "          skip_entity = True\n",
    "          break\n",
    "      if skip_entity:\n",
    "        continue\n",
    "\n",
    "      entity_indices = entity_indices + list(range(start, end))\n",
    "      try:\n",
    "        span = doc.char_span(start, end, label=label, alignment_mode='strict')\n",
    "      except:\n",
    "        continue\n",
    "\n",
    "      if span is None:\n",
    "        # Log errors for annotations that couldn't be processed\n",
    "        err_data = str([start, end]) + \"    \" + str(text) + \"\\n\"\n",
    "        file.write(err_data)\n",
    "      else:\n",
    "        ents.append(span)\n",
    "\n",
    "    try:\n",
    "      doc.ents = ents\n",
    "      db.add(doc)\n",
    "    except:\n",
    "      pass\n",
    "\n",
    "  return db"
   ]
  },
  {
   "cell_type": "code",
   "execution_count": 46,
   "metadata": {
    "colab": {
     "base_uri": "https://localhost:8080/"
    },
    "id": "ZBQz-wmdwmEw",
    "outputId": "5a61a186-afbc-46fe-fc56-5d9d53c8d286"
   },
   "outputs": [
    {
     "data": {
      "text/plain": [
       "(246, 62)"
      ]
     },
     "execution_count": 46,
     "metadata": {},
     "output_type": "execute_result"
    }
   ],
   "source": [
    "# Split the annotated data into training and testing sets\n",
    "from sklearn.model_selection import train_test_split\n",
    "train, test = train_test_split(data, test_size=0.2)\n",
    "\n",
    "# Display the number of items in the training and testing sets\n",
    "len(train), len(test)"
   ]
  },
  {
   "cell_type": "code",
   "execution_count": 47,
   "metadata": {
    "colab": {
     "base_uri": "https://localhost:8080/"
    },
    "id": "gqna52ubysyc",
    "outputId": "c93f4aa7-041c-4a13-e48b-188fbc7877a6"
   },
   "outputs": [
    {
     "name": "stderr",
     "output_type": "stream",
     "text": [
      "100%|██████████| 246/246 [00:01<00:00, 182.85it/s]\n",
      "100%|██████████| 62/62 [00:00<00:00, 150.85it/s]\n"
     ]
    }
   ],
   "source": [
    "# Open a file to log errors during annotation processing\n",
    "file = open(r'C:\\\\Users\\\\juani\\\\Documents\\\\3_My_Jupiter_Notebooks\\\\0_github\\\\ner\\\\model_308\\\\train_file.txt','w')\n",
    "\n",
    "# Create spaCy DocBin objects for training and testing data\n",
    "db = get_spacy_doc(file, train)\n",
    "db.to_disk(r'C:\\\\Users\\\\juani\\\\Documents\\\\3_My_Jupiter_Notebooks\\\\0_github\\\\ner\\\\model_308\\\\train_data.spacy')\n",
    "\n",
    "db = get_spacy_doc(file, test)\n",
    "db.to_disk(r'C:\\\\Users\\\\juani\\\\Documents\\\\3_My_Jupiter_Notebooks\\\\0_github\\\\ner\\\\model_308\\\\test_data.spacy')\n",
    "\n",
    "# Close the error log file\n",
    "file.close()"
   ]
  },
  {
   "cell_type": "code",
   "execution_count": 48,
   "metadata": {},
   "outputs": [
    {
     "data": {
      "text/plain": [
       "'C:\\\\Users\\\\juani\\\\Documents\\\\3_My_Jupiter_Notebooks\\\\0_github\\\\ner'"
      ]
     },
     "execution_count": 48,
     "metadata": {},
     "output_type": "execute_result"
    }
   ],
   "source": [
    "os.getcwd()"
   ]
  },
  {
   "cell_type": "code",
   "execution_count": 51,
   "metadata": {},
   "outputs": [
    {
     "name": "stdout",
     "output_type": "stream",
     "text": [
      "\u001b[38;5;2m[+] Auto-filled config with all values\u001b[0m\n",
      "\u001b[38;5;2m[+] Saved config\u001b[0m\n",
      "config.cfg\n",
      "You can now add your data and train your pipeline:\n",
      "python -m spacy train config.cfg --paths.train ./train.spacy --paths.dev ./dev.spacy\n"
     ]
    }
   ],
   "source": [
    "!python -m spacy init fill-config base_config.cfg config.cfg"
   ]
  },
  {
   "cell_type": "markdown",
   "metadata": {},
   "source": [
    "# training"
   ]
  },
  {
   "cell_type": "code",
   "execution_count": 88,
   "metadata": {},
   "outputs": [],
   "source": [
    "# import spacy\n",
    "# from spacy.training.example import Example\n",
    "# # !python -m spacy download es_core_news_lg\n",
    "\n",
    "# # Download the Spanish model\n",
    "# # spacy.cli.download(\"es_core_news_lg\")\n",
    "\n",
    "# # Load the Spanish model\n",
    "# nlp = spacy.load(\"es_core_news_lg\")"
   ]
  },
  {
   "cell_type": "code",
   "execution_count": null,
   "metadata": {},
   "outputs": [
    {
     "name": "stdout",
     "output_type": "stream",
     "text": [
      "\u001b[38;5;4m[i] Saving to output directory:\n",
      "C:\\Users\\juani\\Documents\\3_My_Jupiter_Notebooks\\0_github\\ner\\model_308\u001b[0m\n",
      "\u001b[38;5;4m[i] Using CPU\u001b[0m\n",
      "\u001b[1m\n",
      "=========================== Initializing pipeline ===========================\u001b[0m\n",
      "\u001b[38;5;2m[+] Initialized pipeline\u001b[0m\n",
      "\u001b[1m\n",
      "============================= Training pipeline =============================\u001b[0m\n",
      "\u001b[38;5;4m[i] Pipeline: ['tok2vec', 'ner']\u001b[0m\n",
      "\u001b[38;5;4m[i] Initial learn rate: 0.001\u001b[0m\n",
      "E    #       LOSS TOK2VEC  LOSS NER  ENTS_F  ENTS_P  ENTS_R  SCORE \n",
      "---  ------  ------------  --------  ------  ------  ------  ------\n",
      "  0       0          0.00    235.72    0.37    0.91    0.24    0.00\n",
      "  0     200       1469.68   6661.00   82.93   89.62   77.18    0.83\n",
      "  1     400         44.86    625.09   86.17   90.65   82.12    0.86\n",
      "  2     600         34.38    386.82   90.55   96.04   85.65    0.91\n",
      "  3     800        259.68    235.75   92.42   96.18   88.94    0.92\n",
      "  4    1000         96.28    229.39   94.91   95.48   94.35    0.95\n",
      "  4    1200        119.57    151.03   88.28   85.46   91.29    0.88\n",
      "  5    1400        109.39    135.81   94.80   95.25   94.35    0.95\n",
      "  6    1600         76.99    115.34   94.66   95.45   93.88    0.95\n",
      "  7    1800       4801.71    215.68   94.50   93.95   95.06    0.95\n",
      "  8    2000        110.87    108.85   93.79   93.46   94.12    0.94\n",
      "  8    2200        103.43     83.86   93.51   95.58   91.53    0.94\n",
      "  9    2400        486.95    112.98   94.05   95.18   92.94    0.94\n",
      " 10    2600        135.49     86.91   95.63   95.97   95.29    0.96\n",
      " 11    2800        122.67     78.70   93.64   92.05   95.29    0.94\n",
      " 12    3000         91.62     86.40   94.19   93.10   95.29    0.94\n",
      " 13    3200        203.74     85.89   93.38   92.20   94.59    0.93\n",
      " 13    3400         60.66     56.71   94.26   93.93   94.59    0.94\n",
      " 14    3600        901.28     79.78   93.90   93.68   94.12    0.94\n",
      " 15    3800        239.07    134.31   93.38   92.20   94.59    0.93\n",
      " 16    4000        126.11     69.65   93.71   92.84   94.59    0.94\n",
      " 17    4200        263.69     80.45   91.50   90.55   92.47    0.92\n",
      "\u001b[38;5;2m[+] Saved pipeline to output directory\u001b[0m\n",
      "C:\\Users\\juani\\Documents\\3_My_Jupiter_Notebooks\\0_github\\ner\\model_308\\model-last\n"
     ]
    },
    {
     "name": "stderr",
     "output_type": "stream",
     "text": [
      "[2024-02-02 13:41:21,711] [INFO] Set up nlp object from config\n",
      "[2024-02-02 13:41:21,727] [INFO] Pipeline: ['tok2vec', 'ner']\n",
      "[2024-02-02 13:41:21,730] [INFO] Created vocabulary\n",
      "[2024-02-02 13:41:22,921] [INFO] Added vectors: es_core_news_lg\n",
      "[2024-02-02 13:41:23,994] [INFO] Finished initializing nlp object\n",
      "[2024-02-02 13:41:31,336] [INFO] Initialized pipeline components: ['tok2vec', 'ner']\n"
     ]
    }
   ],
   "source": [
    "!python -m spacy train config.cfg --output C:\\\\Users\\\\juani\\\\Documents\\\\3_My_Jupiter_Notebooks\\\\0_github\\\\ner\\\\model_308\\\\ --paths.train C:\\\\Users\\\\juani\\\\Documents\\\\3_My_Jupiter_Notebooks\\\\0_github\\\\ner\\\\model_308\\\\train_data.spacy --paths.dev C:\\\\Users\\\\juani\\\\Documents\\\\3_My_Jupiter_Notebooks\\\\0_github\\\\ner\\\\model_308\\\\test_data.spacy"
   ]
  },
  {
   "cell_type": "markdown",
   "metadata": {},
   "source": [
    "# EJECUCCION"
   ]
  },
  {
   "cell_type": "code",
   "execution_count": 1,
   "metadata": {},
   "outputs": [],
   "source": [
    "text = '''\n",
    "KEYBOARD S.A.\n",
    "Escritura Nº 362 de fecha 27/06/2023. Orlando DI FONZO, argentino, empresario, casado en primeras nupcias con \n",
    "Amalia Rinaldi, DNI 8.609.671, CUIT Nº 20-08609671-5; y Gonzalo Gastón DI FONZO, argentino, empresario, soltero, \n",
    "DNI 33.689.504, CUIT 23-33689504-9, ambos domiciliados en Carmen Puch Nº 1000, de la Localidad y Partido de \n",
    "Pilar, Provincia de Buenos Aires: Resuelven que la sociedad se adecúe voluntariamente a las disposiciones del art. \n",
    "124 de la ley 19.550 y aprueban todas las estipulaciones del estatuto: 1) Keyboard S.A. 2) Duración: 30 años desde \n",
    "inscripción. 3) Objeto: Compra, venta, hipoteca, arrendamiento y toda clase de operaciones con bienes inmuebles. \n",
    "Realizar y/o administrar inversiones. Importaciones, exportaciones, comisiones, representaciones y mandatos. \n",
    "Operaciones financieras relacionadas con sus actividades principales. 4) Capital: $  1.000.000.-, representado \n",
    "por diez mil acciones ordinarias, nominativas no endosables, de v/n $ 100.- cada una y derecho a un voto por \n",
    "acción. 5) Dirección y administración: a cargo del directorio compuesto del número de miembros que determine \n",
    "la asamblea, entre un mínimo de uno y un máximo de cinco, por tres ejercicios. 6) Prescindencia de Sindicatura. \n",
    "7) Suscripción: Orlando DI FONZO y Gonzalo Gastón DI FONZO suscriben la cantidad de cinco mil acciones \n",
    "cada uno, lo que representa el 50% del capital social. Directorio: PRESIDENTE: Orlando DI FONZO; y DIRECTOR \n",
    "SUPLENTE: Gonzalo Gastón DI FONZO, quienes constituyen domicilio especial en la sede social, fijada en la calle \n",
    "Lavalle Nº 643, Piso 5º, Oficina “D”, C.A.B.A. Cierre ejercicio social: 30 de junio de cada año. Autorizado según \n",
    "instrumento público Esc. Nº 362 de fecha 27/06/2023 Reg. Nº 1017.\n",
    "Lucía Agundez - T°: 114 F°: 540 C.P.A.C.F.\n",
    "'''"
   ]
  },
  {
   "cell_type": "code",
   "execution_count": 2,
   "metadata": {},
   "outputs": [
    {
     "ename": "NameError",
     "evalue": "name 'nlp' is not defined",
     "output_type": "error",
     "traceback": [
      "\u001b[1;31m---------------------------------------------------------------------------\u001b[0m",
      "\u001b[1;31mNameError\u001b[0m                                 Traceback (most recent call last)",
      "Cell \u001b[1;32mIn[2], line 2\u001b[0m\n\u001b[0;32m      1\u001b[0m \u001b[38;5;66;03m# Process the extracted text using the loaded spaCy NER model\u001b[39;00m\n\u001b[1;32m----> 2\u001b[0m doc \u001b[38;5;241m=\u001b[39m \u001b[43mnlp\u001b[49m(text)\n\u001b[0;32m      3\u001b[0m \u001b[38;5;66;03m# Iterate through the named entities (entities) recognized by the model\u001b[39;00m\n\u001b[0;32m      4\u001b[0m \u001b[38;5;28;01mfor\u001b[39;00m ent \u001b[38;5;129;01min\u001b[39;00m doc\u001b[38;5;241m.\u001b[39ments:\n\u001b[0;32m      5\u001b[0m   \u001b[38;5;66;03m# Print the recognized text and its corresponding label\u001b[39;00m\n",
      "\u001b[1;31mNameError\u001b[0m: name 'nlp' is not defined"
     ]
    }
   ],
   "source": [
    "# Process the extracted text using the loaded spaCy NER model\n",
    "doc = nlp(text)\n",
    "# Iterate through the named entities (entities) recognized by the model\n",
    "for ent in doc.ents:\n",
    "  # Print the recognized text and its corresponding label\n",
    "  print(ent.text, \"  ->>>>  \", ent.label_)"
   ]
  },
  {
   "cell_type": "code",
   "execution_count": 139,
   "metadata": {},
   "outputs": [],
   "source": [
    "# Load a model from a specific path\n",
    "custom_model_path = r'C:\\\\Users\\\\juani\\\\Documents\\\\3_My_Jupiter_Notebooks\\\\0_github\\\\ner\\\\model_308\\\\model-best'\n",
    "nlp = spacy.load(custom_model_path)"
   ]
  },
  {
   "cell_type": "markdown",
   "metadata": {},
   "source": [
    "### PERFORMANCE"
   ]
  },
  {
   "cell_type": "code",
   "execution_count": 145,
   "metadata": {},
   "outputs": [
    {
     "data": {
      "text/html": [
       "<div>\n",
       "<style scoped>\n",
       "    .dataframe tbody tr th:only-of-type {\n",
       "        vertical-align: middle;\n",
       "    }\n",
       "\n",
       "    .dataframe tbody tr th {\n",
       "        vertical-align: top;\n",
       "    }\n",
       "\n",
       "    .dataframe thead th {\n",
       "        text-align: right;\n",
       "    }\n",
       "</style>\n",
       "<table border=\"1\" class=\"dataframe\">\n",
       "  <thead>\n",
       "    <tr style=\"text-align: right;\">\n",
       "      <th></th>\n",
       "      <th>SOCIEDAD</th>\n",
       "      <th>SOCIO</th>\n",
       "      <th>DNI</th>\n",
       "      <th>ESCRIBANO</th>\n",
       "      <th>MODELO</th>\n",
       "    </tr>\n",
       "  </thead>\n",
       "  <tbody>\n",
       "    <tr>\n",
       "      <th>p</th>\n",
       "      <td>1.00</td>\n",
       "      <td>0.95</td>\n",
       "      <td>0.95</td>\n",
       "      <td>0.98</td>\n",
       "      <td>0.96</td>\n",
       "    </tr>\n",
       "    <tr>\n",
       "      <th>r</th>\n",
       "      <td>0.97</td>\n",
       "      <td>0.95</td>\n",
       "      <td>0.97</td>\n",
       "      <td>0.92</td>\n",
       "      <td>0.95</td>\n",
       "    </tr>\n",
       "    <tr>\n",
       "      <th>f</th>\n",
       "      <td>0.98</td>\n",
       "      <td>0.95</td>\n",
       "      <td>0.96</td>\n",
       "      <td>0.95</td>\n",
       "      <td>0.96</td>\n",
       "    </tr>\n",
       "  </tbody>\n",
       "</table>\n",
       "</div>"
      ],
      "text/plain": [
       "   SOCIEDAD  SOCIO   DNI  ESCRIBANO  MODELO\n",
       "p      1.00   0.95  0.95       0.98    0.96\n",
       "r      0.97   0.95  0.97       0.92    0.95\n",
       "f      0.98   0.95  0.96       0.95    0.96"
      ]
     },
     "execution_count": 145,
     "metadata": {},
     "output_type": "execute_result"
    }
   ],
   "source": [
    "import warnings\n",
    "# leavntamos los datos de performance:\n",
    "d = nlp.__dict__['_meta']['performance']\n",
    "# armamos un dataframe por variable:\n",
    "ents_per_type = pd.DataFrame(d['ents_per_type'])\n",
    "# armamos una columna para el modelo general:\n",
    "warnings.simplefilter(action='ignore', category=FutureWarning)\n",
    "ents_per_type['MODELO'] = np.nan\n",
    "ents_per_type['MODELO'][ents_per_type.index=='p'] = d['ents_p']\n",
    "ents_per_type['MODELO'][ents_per_type.index=='r'] = d['ents_r']\n",
    "ents_per_type['MODELO'][ents_per_type.index=='f'] = d['ents_f']\n",
    "ents_per_type.round(2)"
   ]
  },
  {
   "cell_type": "code",
   "execution_count": 187,
   "metadata": {},
   "outputs": [
    {
     "data": {
      "text/plain": [
       "<Axes: >"
      ]
     },
     "execution_count": 187,
     "metadata": {},
     "output_type": "execute_result"
    },
    {
     "data": {
      "image/png": "[encoded data removed]",
      "text/plain": [
       "<Figure size 640x480 with 1 Axes>"
      ]
     },
     "metadata": {},
     "output_type": "display_data"
    }
   ],
   "source": [
    "ents_per_type.plot.bar(ylim=(0.9,1),color=['lightcoral', 'lightgreen', 'lightblue','lightgray','black'], alpha=0.7)"
   ]
  },
  {
   "cell_type": "code",
   "execution_count": 95,
   "metadata": {},
   "outputs": [],
   "source": [
    "def modelo_base(text,avoid_ls=None):\n",
    "    avoid_ls = ['DATE', 'TIME', 'ORDINAL', 'CARDINAL']\n",
    "    doc = nlp(text)\n",
    "    ents = [(e.text, e.label_) for e in doc.ents if e.label_ not in avoid_ls]\n",
    "    return ents"
   ]
  },
  {
   "cell_type": "code",
   "execution_count": 96,
   "metadata": {},
   "outputs": [
    {
     "data": {
      "text/plain": [
       "[('Orlando DI FONZO', 'SOCIO'),\n",
       " ('Gonzalo Gastón DI FONZO', 'SOCIO'),\n",
       " ('Lucía Agundez', 'ESCRIBANO')]"
      ]
     },
     "execution_count": 96,
     "metadata": {},
     "output_type": "execute_result"
    }
   ],
   "source": [
    "modelo_base(text)"
   ]
  },
  {
   "cell_type": "markdown",
   "metadata": {
    "tags": []
   },
   "source": [
    "# MODELO DE CLASIFICACION DE TEXTO\n",
    "\n",
    "Para detectar constituciones societarias vs otras cosas"
   ]
  },
  {
   "cell_type": "markdown",
   "metadata": {},
   "source": [
    "## acomodamos algunos datos mal imputados y creamos la marca 1 para estatutos"
   ]
  },
  {
   "cell_type": "code",
   "execution_count": 4,
   "metadata": {},
   "outputs": [
    {
     "name": "stdout",
     "output_type": "stream",
     "text": [
      "Requirement already satisfied: pandas in c:\\users\\juani\\anaconda3\\envs\\text_mining\\lib\\site-packages (1.3.5)\n",
      "Requirement already satisfied: python-dateutil>=2.7.3 in c:\\users\\juani\\anaconda3\\envs\\text_mining\\lib\\site-packages (from pandas) (2.8.2)\n",
      "Requirement already satisfied: pytz>=2017.3 in c:\\users\\juani\\anaconda3\\envs\\text_mining\\lib\\site-packages (from pandas) (2024.1)\n",
      "Requirement already satisfied: numpy>=1.17.3 in c:\\users\\juani\\anaconda3\\envs\\text_mining\\lib\\site-packages (from pandas) (1.21.6)\n",
      "Requirement already satisfied: six>=1.5 in c:\\users\\juani\\anaconda3\\envs\\text_mining\\lib\\site-packages (from python-dateutil>=2.7.3->pandas) (1.16.0)\n",
      "Note: you may need to restart the kernel to use updated packages.\n"
     ]
    }
   ],
   "source": [
    "pip install --upgrade pandas"
   ]
  },
  {
   "cell_type": "code",
   "execution_count": 7,
   "metadata": {},
   "outputs": [],
   "source": [
    "anotados = pd.read_pickle('anotados.pkl')"
   ]
  },
  {
   "cell_type": "code",
   "execution_count": 8,
   "metadata": {},
   "outputs": [
    {
     "data": {
      "text/plain": [
       "700"
      ]
     },
     "execution_count": 8,
     "metadata": {},
     "output_type": "execute_result"
    }
   ],
   "source": [
    "len(anotados)"
   ]
  },
  {
   "cell_type": "code",
   "execution_count": 9,
   "metadata": {},
   "outputs": [
    {
     "data": {
      "text/html": [
       "<div>\n",
       "<style scoped>\n",
       "    .dataframe tbody tr th:only-of-type {\n",
       "        vertical-align: middle;\n",
       "    }\n",
       "\n",
       "    .dataframe tbody tr th {\n",
       "        vertical-align: top;\n",
       "    }\n",
       "\n",
       "    .dataframe thead th {\n",
       "        text-align: right;\n",
       "    }\n",
       "</style>\n",
       "<table border=\"1\" class=\"dataframe\">\n",
       "  <thead>\n",
       "    <tr style=\"text-align: right;\">\n",
       "      <th></th>\n",
       "      <th>Letters</th>\n",
       "      <th>Numbers</th>\n",
       "    </tr>\n",
       "  </thead>\n",
       "  <tbody>\n",
       "    <tr>\n",
       "      <th>0</th>\n",
       "      <td>\\nFLORIAN S.A.\\n1) Daniel Mario Marquez DNI 10...</td>\n",
       "      <td>1</td>\n",
       "    </tr>\n",
       "    <tr>\n",
       "      <th>1</th>\n",
       "      <td>\\nSOLUCIONES DE SEGURIDAD VIAL S.A.\\nPor Asamb...</td>\n",
       "      <td>0</td>\n",
       "    </tr>\n",
       "    <tr>\n",
       "      <th>2</th>\n",
       "      <td>\\nAVAPYME S.A.S.\\nCONSTITUCIÓN: 17/10/2018. 1....</td>\n",
       "      <td>1</td>\n",
       "    </tr>\n",
       "    <tr>\n",
       "      <th>3</th>\n",
       "      <td>\\nSHABBA FARMA S.R.L.\\nEsc. 269 del 29-3-22 Re...</td>\n",
       "      <td>1</td>\n",
       "    </tr>\n",
       "    <tr>\n",
       "      <th>4</th>\n",
       "      <td>\\nGADA GROUP S.A.\\nCUIT 30-71583994-2. Por Act...</td>\n",
       "      <td>0</td>\n",
       "    </tr>\n",
       "  </tbody>\n",
       "</table>\n",
       "</div>"
      ],
      "text/plain": [
       "                                             Letters Numbers\n",
       "0  \\nFLORIAN S.A.\\n1) Daniel Mario Marquez DNI 10...       1\n",
       "1  \\nSOLUCIONES DE SEGURIDAD VIAL S.A.\\nPor Asamb...       0\n",
       "2  \\nAVAPYME S.A.S.\\nCONSTITUCIÓN: 17/10/2018. 1....       1\n",
       "3  \\nSHABBA FARMA S.R.L.\\nEsc. 269 del 29-3-22 Re...       1\n",
       "4  \\nGADA GROUP S.A.\\nCUIT 30-71583994-2. Por Act...       0"
      ]
     },
     "execution_count": 9,
     "metadata": {},
     "output_type": "execute_result"
    }
   ],
   "source": [
    "# cambios:\n",
    "condition = anotados['Numbers'] == 'Estatuto'\n",
    "anotados.loc[condition, 'Numbers'] = 1\n",
    "# cambios 2\n",
    "condition = anotados['Numbers'] == 'Otro'\n",
    "anotados.loc[condition, 'Numbers'] = 0\n",
    "anotados.head()"
   ]
  },
  {
   "cell_type": "code",
   "execution_count": 10,
   "metadata": {},
   "outputs": [],
   "source": [
    "import re\n",
    "# buscamos los valores que contienen la expresión \"rectif\" dentro del texto (posibles rectificaciones que se parecen mucho a un estatuto)\n",
    "pattern = re.compile(r'\\brectif[^\\W_]*\\b', re.IGNORECASE)\n",
    "matching_indices = [index for index, value in anotados[anotados.Numbers==1]['Letters'].items() if re.search(pattern, value)]\n",
    "# corregimos el valor de texto:\n",
    "anotados.loc[matching_indices, 'Numbers'] = 0"
   ]
  },
  {
   "cell_type": "code",
   "execution_count": 263,
   "metadata": {},
   "outputs": [],
   "source": [
    "#guardamos los valores corregidos\n",
    "anotados.to_pickle('anotados.pkl')"
   ]
  },
  {
   "cell_type": "markdown",
   "metadata": {},
   "source": [
    "----"
   ]
  },
  {
   "cell_type": "markdown",
   "metadata": {
    "tags": []
   },
   "source": [
    "## Entrenamiento de clasificacion de texto"
   ]
  },
  {
   "cell_type": "markdown",
   "metadata": {},
   "source": [
    "https://medium.com/@johnidouglasmarangon/building-a-text-classification-model-with-spacy-3-x-57e59fa50547"
   ]
  },
  {
   "cell_type": "code",
   "execution_count": 8,
   "metadata": {},
   "outputs": [
    {
     "name": "stdout",
     "output_type": "stream",
     "text": [
      "Collecting unidecode\n",
      "  Using cached Unidecode-1.3.8-py3-none-any.whl.metadata (13 kB)\n",
      "Using cached Unidecode-1.3.8-py3-none-any.whl (235 kB)\n",
      "Installing collected packages: unidecode\n",
      "Successfully installed unidecode-1.3.8\n"
     ]
    }
   ],
   "source": [
    "!pip install unidecode"
   ]
  },
  {
   "cell_type": "code",
   "execution_count": 9,
   "metadata": {},
   "outputs": [],
   "source": [
    "import spacy\n",
    "from spacy.lang.es.stop_words import STOP_WORDS\n",
    "import string\n",
    "from unidecode import unidecode\n",
    "import os\n",
    "path = r'C:\\\\Users\\\\juani\\\\Documents\\\\3_My_Jupiter_Notebooks\\\\0_github\\\\ner'\n",
    "os.chdir(path)"
   ]
  },
  {
   "cell_type": "code",
   "execution_count": 12,
   "metadata": {},
   "outputs": [
    {
     "data": {
      "text/plain": [
       "'1.24.4'"
      ]
     },
     "execution_count": 12,
     "metadata": {},
     "output_type": "execute_result"
    }
   ],
   "source": [
    "np.__version__"
   ]
  },
  {
   "cell_type": "code",
   "execution_count": 10,
   "metadata": {},
   "outputs": [
    {
     "name": "stdout",
     "output_type": "stream",
     "text": [
      "Python 3.8.18\n"
     ]
    }
   ],
   "source": [
    "!python --version\n"
   ]
  },
  {
   "cell_type": "code",
   "execution_count": 11,
   "metadata": {},
   "outputs": [],
   "source": [
    "anotados = pd.read_pickle('anotados.pkl')"
   ]
  },
  {
   "cell_type": "code",
   "execution_count": 12,
   "metadata": {},
   "outputs": [
    {
     "name": "stdout",
     "output_type": "stream",
     "text": [
      "2.2.0+cpu\n"
     ]
    }
   ],
   "source": [
    "import torch\n",
    "print(torch.__version__)"
   ]
  },
  {
   "cell_type": "code",
   "execution_count": 16,
   "metadata": {},
   "outputs": [],
   "source": [
    "# !python -m spacy download es_core_news_sm"
   ]
  },
  {
   "cell_type": "code",
   "execution_count": 17,
   "metadata": {},
   "outputs": [],
   "source": [
    "nlp = spacy.load('es_core_news_sm')\n"
   ]
  },
  {
   "cell_type": "code",
   "execution_count": 18,
   "metadata": {},
   "outputs": [
    {
     "name": "stdout",
     "output_type": "stream",
     "text": [
      "Original Text: Este es un ejemplo de ,texto en español que queremos procesar.\n",
      "Preprocessed Tokens: ejemplo texto espanol procesar\n"
     ]
    }
   ],
   "source": [
    "# Load the spaCy model for Spanish\n",
    "nlp = spacy.load('es_core_news_sm')\n",
    "\n",
    "def preprocess(text):\n",
    "    # Step 1: Lowercasing\n",
    "    text = text.lower()\n",
    "    text = unidecode(text)\n",
    "    \n",
    "    # Step 2: Tokenization\n",
    "    doc = nlp(text)\n",
    "\n",
    "    # Step 3: Stopword removal\n",
    "    # tokens = [token.text for token in doc if token.text not in STOP_WORDS]\n",
    "    #tokens = [token.text for token in doc if token.text not in STOP_WORDS and token.text not in string.punctuation]\n",
    "    \n",
    "    # Step 4: Lemmatization\n",
    "    #lemmatized_tokens = [token.lemma_ for token in doc if token.text not in STOP_WORDS]\n",
    "    lemmatized_tokens = [token.lemma_ for token in doc if token.text not in STOP_WORDS and token.text not in string.punctuation]\n",
    "\n",
    "\n",
    "    return \" \".join(lemmatized_tokens)\n",
    "\n",
    "# Example usage:\n",
    "text_example = \"Este es un ejemplo de ,texto en español que queremos procesar.\"\n",
    "preprocessed_tokens = preprocess(text_example)\n",
    "\n",
    "print(\"Original Text:\", text_example)\n",
    "print(\"Preprocessed Tokens:\", preprocessed_tokens)"
   ]
  },
  {
   "cell_type": "code",
   "execution_count": 19,
   "metadata": {},
   "outputs": [],
   "source": [
    "# !python -m spacy download es_core_news_sm"
   ]
  },
  {
   "cell_type": "code",
   "execution_count": 20,
   "metadata": {},
   "outputs": [
    {
     "data": {
      "text/html": [
       "<div>\n",
       "<style scoped>\n",
       "    .dataframe tbody tr th:only-of-type {\n",
       "        vertical-align: middle;\n",
       "    }\n",
       "\n",
       "    .dataframe tbody tr th {\n",
       "        vertical-align: top;\n",
       "    }\n",
       "\n",
       "    .dataframe thead th {\n",
       "        text-align: right;\n",
       "    }\n",
       "</style>\n",
       "<table border=\"1\" class=\"dataframe\">\n",
       "  <thead>\n",
       "    <tr style=\"text-align: right;\">\n",
       "      <th></th>\n",
       "      <th>Letters</th>\n",
       "      <th>tokens</th>\n",
       "      <th>Numbers</th>\n",
       "    </tr>\n",
       "  </thead>\n",
       "  <tbody>\n",
       "    <tr>\n",
       "      <th>0</th>\n",
       "      <td>\\nFLORIAN S.A.\\n1) Daniel Mario Marquez DNI 10...</td>\n",
       "      <td>\\n floriar s.a \\n 1 daniel mario marquez dni 1...</td>\n",
       "      <td>1</td>\n",
       "    </tr>\n",
       "    <tr>\n",
       "      <th>1</th>\n",
       "      <td>\\nSOLUCIONES DE SEGURIDAD VIAL S.A.\\nPor Asamb...</td>\n",
       "      <td>\\n solución seguridad vial s.a \\n asamblea gen...</td>\n",
       "      <td>0</td>\n",
       "    </tr>\n",
       "    <tr>\n",
       "      <th>2</th>\n",
       "      <td>\\nAVAPYME S.A.S.\\nCONSTITUCIÓN: 17/10/2018. 1....</td>\n",
       "      <td>\\n avapymir s.a.s \\n constitucion 17/10/2018 1...</td>\n",
       "      <td>1</td>\n",
       "    </tr>\n",
       "    <tr>\n",
       "      <th>3</th>\n",
       "      <td>\\nSHABBA FARMA S.R.L.\\nEsc. 269 del 29-3-22 Re...</td>\n",
       "      <td>\\n shabba farmar s.r.l \\n esc 269 29-3-22 regi...</td>\n",
       "      <td>1</td>\n",
       "    </tr>\n",
       "    <tr>\n",
       "      <th>4</th>\n",
       "      <td>\\nGADA GROUP S.A.\\nCUIT 30-71583994-2. Por Act...</td>\n",
       "      <td>\\n gado group s.a \\n cuit 30-71583994-2 acta a...</td>\n",
       "      <td>0</td>\n",
       "    </tr>\n",
       "  </tbody>\n",
       "</table>\n",
       "</div>"
      ],
      "text/plain": [
       "                                             Letters  \\\n",
       "0  \\nFLORIAN S.A.\\n1) Daniel Mario Marquez DNI 10...   \n",
       "1  \\nSOLUCIONES DE SEGURIDAD VIAL S.A.\\nPor Asamb...   \n",
       "2  \\nAVAPYME S.A.S.\\nCONSTITUCIÓN: 17/10/2018. 1....   \n",
       "3  \\nSHABBA FARMA S.R.L.\\nEsc. 269 del 29-3-22 Re...   \n",
       "4  \\nGADA GROUP S.A.\\nCUIT 30-71583994-2. Por Act...   \n",
       "\n",
       "                                              tokens Numbers  \n",
       "0  \\n floriar s.a \\n 1 daniel mario marquez dni 1...       1  \n",
       "1  \\n solución seguridad vial s.a \\n asamblea gen...       0  \n",
       "2  \\n avapymir s.a.s \\n constitucion 17/10/2018 1...       1  \n",
       "3  \\n shabba farmar s.r.l \\n esc 269 29-3-22 regi...       1  \n",
       "4  \\n gado group s.a \\n cuit 30-71583994-2 acta a...       0  "
      ]
     },
     "execution_count": 20,
     "metadata": {},
     "output_type": "execute_result"
    }
   ],
   "source": [
    "anotados['tokens'] = [preprocess(l) for l in anotados['Letters'] ]\n",
    "anotados = anotados[['Letters', 'tokens', 'Numbers']]\n",
    "anotados.head()"
   ]
  },
  {
   "cell_type": "code",
   "execution_count": 21,
   "metadata": {},
   "outputs": [
    {
     "data": {
      "text/plain": [
       "'\\n floriar s.a \\n 1 daniel mario marquez dni 10788314 argentino divorciado comerciante 23/02/53 guillermo rawson 2715 \\n localidad olivo partido vicente lopez pcia bs as suscribir 95 acción alberto rivera luna dni \\n 18820133 argentino divorciado comerciante 06/01/68 av cobir 1581 car suscribir 5 acción \\n nominativa endosabl 4000 valor nominal 1 voto accion 2 10/02/22 4 junin 1715 car \\n 5 restaurante cafe bar salon evento 6 30 ano 7 400000 8) direccion administracion 1 7 director \\n 3 ejercicio sindico 9 presidente presidente daniel mario marquez vicepresidente alberto rivera \\n luna suplente gustavo marcelo graieb dni 14157635 argentino soltero productor seguro 14/05/60 av \\n cabildo 1695 piso 8 depto 26 car domicilio especial sede social 10 30/06 autorizado \\n instrumento publico esc 16 fecha 10/02/2022 reg 412 \\n pablo damiar rodriguez tdeg 69 fdeg 84 c.p.a.c.f \\n'"
      ]
     },
     "execution_count": 21,
     "metadata": {},
     "output_type": "execute_result"
    }
   ],
   "source": [
    "anotados['tokens'].values[0]"
   ]
  },
  {
   "cell_type": "code",
   "execution_count": 32,
   "metadata": {},
   "outputs": [],
   "source": [
    "texts = anotados['tokens'].values\n",
    "# train_labels = [{'cats': label}  for label in anotados['Numbers']]\n",
    "labels = anotados['Numbers'].values"
   ]
  },
  {
   "cell_type": "code",
   "execution_count": 33,
   "metadata": {},
   "outputs": [
    {
     "data": {
      "text/plain": [
       "('\\n floriar s.a \\n 1 daniel mario marquez dni 10788314 argentino divorciado comerciante 23/02/53 guillermo rawson 2715 \\n localidad olivo partido vicente lopez pcia bs as suscribir 95 acción alberto rivera luna dni \\n 18820133 argentino divorciado comerciante 06/01/68 av cobir 1581 car suscribir 5 acción \\n nominativa endosabl 4000 valor nominal 1 voto accion 2 10/02/22 4 junin 1715 car \\n 5 restaurante cafe bar salon evento 6 30 ano 7 400000 8) direccion administracion 1 7 director \\n 3 ejercicio sindico 9 presidente presidente daniel mario marquez vicepresidente alberto rivera \\n luna suplente gustavo marcelo graieb dni 14157635 argentino soltero productor seguro 14/05/60 av \\n cabildo 1695 piso 8 depto 26 car domicilio especial sede social 10 30/06 autorizado \\n instrumento publico esc 16 fecha 10/02/2022 reg 412 \\n pablo damiar rodriguez tdeg 69 fdeg 84 c.p.a.c.f \\n',\n",
       " 1)"
      ]
     },
     "execution_count": 33,
     "metadata": {},
     "output_type": "execute_result"
    }
   ],
   "source": [
    "data = list(zip(texts, labels))\n",
    "data[0]"
   ]
  },
  {
   "cell_type": "code",
   "execution_count": 31,
   "metadata": {},
   "outputs": [],
   "source": [
    "# 72% — train set: used to train the pipeline.\n",
    "# 18% — dev set: used to evaluate the pipeline during the training interactions.\n",
    "# 10% — test set: used to evaluate the final model."
   ]
  },
  {
   "cell_type": "code",
   "execution_count": 34,
   "metadata": {},
   "outputs": [
    {
     "data": {
      "text/plain": [
       "(504, 126, 70)"
      ]
     },
     "execution_count": 34,
     "metadata": {},
     "output_type": "execute_result"
    }
   ],
   "source": [
    "# Split the annotated data into training and testing sets\n",
    "from sklearn.model_selection import train_test_split\n",
    "training, dev = train_test_split(data, test_size=0.1, random_state=42)\n",
    "train, test = train_test_split(training, test_size=0.2, random_state=42)\n",
    "\n",
    "# Display the number of items in the training and testing sets\n",
    "len(train), len(test), len(dev)"
   ]
  },
  {
   "cell_type": "code",
   "execution_count": 40,
   "metadata": {},
   "outputs": [
    {
     "data": {
      "text/plain": [
       "0.18"
      ]
     },
     "execution_count": 40,
     "metadata": {},
     "output_type": "execute_result"
    }
   ],
   "source": [
    "(126)/(504 + 126+ 70)"
   ]
  },
  {
   "cell_type": "code",
   "execution_count": null,
   "metadata": {},
   "outputs": [],
   "source": [
    "# !python -m spacy download es_core_news_sm"
   ]
  },
  {
   "cell_type": "code",
   "execution_count": 42,
   "metadata": {},
   "outputs": [
    {
     "data": {
      "text/plain": [
       "'C:\\\\Users\\\\juani\\\\Documents\\\\3_My_Jupiter_Notebooks\\\\0_github\\\\ner\\\\toy_classifier'"
      ]
     },
     "execution_count": 42,
     "metadata": {},
     "output_type": "execute_result"
    }
   ],
   "source": [
    "os.getcwd()"
   ]
  },
  {
   "cell_type": "code",
   "execution_count": 43,
   "metadata": {},
   "outputs": [],
   "source": [
    "from spacy.tokens import DocBin\n",
    "import spacy\n",
    "\n",
    "\n",
    "\n",
    "path = r'C:\\\\Users\\\\juani\\\\Documents\\\\3_My_Jupiter_Notebooks\\\\0_github\\\\ner\\\\new'\n",
    "os.chdir(path)\n",
    "\n",
    "\n",
    "def convert(data, outfile):\n",
    "    # spacy_model = 'es_core_news_sm'\n",
    "    nlp = spacy.load(\"es_core_news_sm\")  # es_core_news_sm /  es_dep_news_trf\n",
    "    db = spacy.tokens.DocBin()\n",
    "    docs = []\n",
    "    for doc, label in nlp.pipe(data, as_tuples=True):\n",
    "        doc.cats[\"POS\"] = label == 1\n",
    "        doc.cats[\"NEG\"] = label == 0\n",
    "        db.add(doc)\n",
    "    \n",
    "    db.to_disk(outfile)\n",
    "convert(train, \"./train.spacy\")\n",
    "convert(test, \"./test.spacy\")\n",
    "convert(dev, \"./dev.spacy\")"
   ]
  },
  {
   "cell_type": "code",
   "execution_count": 29,
   "metadata": {},
   "outputs": [
    {
     "name": "stderr",
     "output_type": "stream",
     "text": [
      "Usage: python -m spacy init fill-config [OPTIONS] BASE_PATH [OUTPUT_FILE]\n",
      "Try 'python -m spacy init fill-config --help' for help.\n",
      "\n",
      "Error: Invalid value for 'BASE_PATH': File 'C:\\\\\\\\Users\\\\\\\\juani\\\\\\\\Documents\\\\\\\\3_My_Jupiter_Notebooks\\\\\\\\0_github\\\\\\\\ner\\\\\\\\toy_classifier\\\\\\\\config.cfg' does not exist.\n"
     ]
    }
   ],
   "source": [
    "!python -m spacy init fill-config C:\\\\Users\\\\juani\\\\Documents\\\\3_My_Jupiter_Notebooks\\\\0_github\\\\ner\\\\toy_classifier\\\\config.cfg"
   ]
  },
  {
   "cell_type": "code",
   "execution_count": 44,
   "metadata": {},
   "outputs": [
    {
     "data": {
      "text/plain": [
       "'C:\\\\Users\\\\juani\\\\Documents\\\\3_My_Jupiter_Notebooks\\\\0_github\\\\ner\\\\new'"
      ]
     },
     "execution_count": 44,
     "metadata": {},
     "output_type": "execute_result"
    }
   ],
   "source": [
    "os.getcwd()"
   ]
  },
  {
   "cell_type": "code",
   "execution_count": 30,
   "metadata": {},
   "outputs": [
    {
     "name": "stdout",
     "output_type": "stream",
     "text": [
      "\u001b[38;5;2m[+] Auto-filled config with all values\u001b[0m\n",
      "\u001b[38;5;2m[+] Saved config\u001b[0m\n",
      "C:\\Users\\juani\\Documents\\3_My_Jupiter_Notebooks\\0_github\\ner\\new\\config.cfg\n",
      "You can now add your data and train your pipeline:\n",
      "python -m spacy train config.cfg --paths.train ./train.spacy --paths.dev ./dev.spacy\n"
     ]
    }
   ],
   "source": [
    "!python -m spacy init fill-config C:\\\\Users\\\\juani\\\\Documents\\\\3_My_Jupiter_Notebooks\\\\0_github\\\\ner\\\\new\\\\base_config.cfg C:\\\\Users\\\\juani\\\\Documents\\\\3_My_Jupiter_Notebooks\\\\0_github\\\\ner\\\\new\\\\config.cfg"
   ]
  },
  {
   "cell_type": "code",
   "execution_count": 49,
   "metadata": {},
   "outputs": [],
   "source": [
    "# !python -m spacy download es_core_news_lg"
   ]
  },
  {
   "cell_type": "code",
   "execution_count": 55,
   "metadata": {},
   "outputs": [
    {
     "data": {
      "text/plain": [
       "'C:\\\\Users\\\\juani\\\\Documents\\\\3_My_Jupiter_Notebooks\\\\0_github\\\\ner\\\\new'"
      ]
     },
     "execution_count": 55,
     "metadata": {},
     "output_type": "execute_result"
    }
   ],
   "source": [
    "os.getcwd()"
   ]
  },
  {
   "cell_type": "code",
   "execution_count": 56,
   "metadata": {},
   "outputs": [
    {
     "name": "stderr",
     "output_type": "stream",
     "text": [
      "python: can't open file 'output_updated/model-best': [Errno 2] No such file or directory\n"
     ]
    }
   ],
   "source": [
    "!python output_updated/model-best"
   ]
  },
  {
   "cell_type": "code",
   "execution_count": 62,
   "metadata": {},
   "outputs": [
    {
     "data": {
      "text/plain": [
       "'C:\\\\Users\\\\juani\\\\Documents\\\\3_My_Jupiter_Notebooks\\\\0_github\\\\ner\\\\new'"
      ]
     },
     "execution_count": 62,
     "metadata": {},
     "output_type": "execute_result"
    }
   ],
   "source": [
    "os.getcwd()"
   ]
  },
  {
   "cell_type": "code",
   "execution_count": 63,
   "metadata": {
    "scrolled": true
   },
   "outputs": [
    {
     "name": "stdout",
     "output_type": "stream",
     "text": [
      "\u001b[38;5;4m[i] Saving to output directory: best\u001b[0m\n",
      "\u001b[38;5;4m[i] Using CPU\u001b[0m\n",
      "\u001b[1m\n",
      "=========================== Initializing pipeline ===========================\u001b[0m\n",
      "\u001b[38;5;2m[+] Initialized pipeline\u001b[0m\n",
      "\u001b[1m\n",
      "============================= Training pipeline =============================\u001b[0m\n",
      "\u001b[38;5;4m[i] Pipeline: ['tok2vec', 'textcat']\u001b[0m\n",
      "\u001b[38;5;4m[i] Initial learn rate: 0.001\u001b[0m\n",
      "E    #       LOSS TOK2VEC  LOSS TEXTCAT  CATS_SCORE  SCORE \n",
      "---  ------  ------------  ------------  ----------  ------\n",
      "  0       0          0.00          0.25       25.53    0.26\n",
      "  0     200         20.00         54.69       81.03    0.81\n",
      "  0     400         88.13         28.50       89.20    0.89\n",
      "  1     600         89.63         31.53       30.25    0.30\n",
      "  1     800        201.95         49.56       72.17    0.72\n",
      "  2    1000        550.80         58.62       75.44    0.75\n",
      "  2    1200        442.19         30.36       89.01    0.89\n",
      "  2    1400        448.76         37.21       86.12    0.86\n",
      "  3    1600       1744.95         27.66       89.20    0.89\n",
      "  3    1800       1169.70         31.87       90.49    0.90\n",
      "  4    2000       2488.39         28.11       90.49    0.90\n",
      "  5    2200       4977.32         21.13       86.34    0.86\n",
      "  6    2400       1977.17         24.24       90.67    0.91\n",
      "  7    2600       3707.54         21.79       78.03    0.78\n",
      "  8    2800      13084.86         24.12       73.95    0.74\n",
      " 10    3000      19780.04         15.79       86.12    0.86\n",
      " 12    3200      21169.43         19.23       80.53    0.81\n",
      " 14    3400      42879.33         14.72       84.93    0.85\n",
      " 16    3600      24324.20          9.33       86.34    0.86\n",
      " 18    3800      27701.98          5.51       80.96    0.81\n",
      " 19    4000      13913.30          5.14       68.47    0.68\n",
      "\u001b[38;5;2m[+] Saved pipeline to output directory\u001b[0m\n",
      "best\\model-last\n"
     ]
    }
   ],
   "source": [
    "!python -m spacy train config.cfg --paths.train ./train.spacy --paths.dev ./dev.spacy --output ./best"
   ]
  },
  {
   "cell_type": "markdown",
   "metadata": {},
   "source": [
    "### LOAD MODEL"
   ]
  },
  {
   "cell_type": "code",
   "execution_count": 65,
   "metadata": {},
   "outputs": [],
   "source": [
    "# Load the trained model\n",
    "nlp = spacy.load('C:\\\\Users\\\\juani\\\\Documents\\\\3_My_Jupiter_Notebooks\\\\0_github\\\\ner\\\\new\\\\best\\\\model-best')"
   ]
  },
  {
   "cell_type": "markdown",
   "metadata": {},
   "source": [
    "#### Performance"
   ]
  },
  {
   "cell_type": "code",
   "execution_count": 71,
   "metadata": {},
   "outputs": [
    {
     "data": {
      "text/html": [
       "<div>\n",
       "<style scoped>\n",
       "    .dataframe tbody tr th:only-of-type {\n",
       "        vertical-align: middle;\n",
       "    }\n",
       "\n",
       "    .dataframe tbody tr th {\n",
       "        vertical-align: top;\n",
       "    }\n",
       "\n",
       "    .dataframe thead th {\n",
       "        text-align: right;\n",
       "    }\n",
       "</style>\n",
       "<table border=\"1\" class=\"dataframe\">\n",
       "  <thead>\n",
       "    <tr style=\"text-align: right;\">\n",
       "      <th></th>\n",
       "      <th>POS</th>\n",
       "      <th>NEG</th>\n",
       "    </tr>\n",
       "  </thead>\n",
       "  <tbody>\n",
       "    <tr>\n",
       "      <th>p</th>\n",
       "      <td>0.95</td>\n",
       "      <td>0.85</td>\n",
       "    </tr>\n",
       "    <tr>\n",
       "      <th>r</th>\n",
       "      <td>0.91</td>\n",
       "      <td>0.92</td>\n",
       "    </tr>\n",
       "    <tr>\n",
       "      <th>f</th>\n",
       "      <td>0.93</td>\n",
       "      <td>0.88</td>\n",
       "    </tr>\n",
       "  </tbody>\n",
       "</table>\n",
       "</div>"
      ],
      "text/plain": [
       "    POS   NEG\n",
       "p  0.95  0.85\n",
       "r  0.91  0.92\n",
       "f  0.93  0.88"
      ]
     },
     "execution_count": 71,
     "metadata": {},
     "output_type": "execute_result"
    }
   ],
   "source": [
    "import warnings\n",
    "# leavntamos los datos de performance:\n",
    "d = nlp.__dict__['_meta']['performance']\n",
    "# armamos un dataframe por variable:\n",
    "cats_per_type = pd.DataFrame(d['cats_f_per_type'])\n",
    "cats_per_type.round(2)"
   ]
  },
  {
   "cell_type": "markdown",
   "metadata": {},
   "source": [
    "#### Example in Action"
   ]
  },
  {
   "cell_type": "code",
   "execution_count": null,
   "metadata": {},
   "outputs": [],
   "source": [
    "import matplotlib.pyplot as plt"
   ]
  },
  {
   "cell_type": "code",
   "execution_count": 126,
   "metadata": {},
   "outputs": [
    {
     "data": {
      "image/png": "[encoded data removed]",
      "text/plain": [
       "<Figure size 640x480 with 1 Axes>"
      ]
     },
     "metadata": {},
     "output_type": "display_data"
    }
   ],
   "source": [
    "def get_proba(text=str):\n",
    "    doc = nlp(text)\n",
    "    return doc.cats['POS']\n",
    "\n",
    "\n",
    "# test = anotados.tokens.tolist()\n",
    "\n",
    "# proba_ls = [*map(get_proba, test)]\n",
    "\n",
    "anotados['prob'] = proba_ls.copy()\n",
    "\n",
    "_, bins = pd.cut(proba_ls, bins=25, retbins=True)\n",
    "plt.hist(proba_ls, bins);"
   ]
  },
  {
   "cell_type": "code",
   "execution_count": 131,
   "metadata": {},
   "outputs": [
    {
     "data": {
      "image/png": "[encoded data removed]",
      "text/plain": [
       "<Figure size 640x480 with 1 Axes>"
      ]
     },
     "metadata": {},
     "output_type": "display_data"
    }
   ],
   "source": [
    "def discretize(p):\n",
    "    if p<0.2:\n",
    "        return 0\n",
    "    elif p<0.8:\n",
    "        return -1\n",
    "    else:\n",
    "        return 1\n",
    "\n",
    "discretize_ls = [*map(discretize, proba_ls)]\n",
    "anotados['pred'] = discretize_ls.copy()\n",
    "_, bins = pd.cut(discretize_ls, bins=3, retbins=True)\n",
    "plt.hist(discretize_ls, bins);"
   ]
  },
  {
   "cell_type": "code",
   "execution_count": 133,
   "metadata": {},
   "outputs": [],
   "source": [
    "anotados['control'] = [ int(a==b) for a,b in zip( discretize_ls, anotados.Numbers.tolist())]"
   ]
  },
  {
   "cell_type": "code",
   "execution_count": 137,
   "metadata": {},
   "outputs": [
    {
     "data": {
      "text/plain": [
       "11.428571428571429"
      ]
     },
     "execution_count": 137,
     "metadata": {},
     "output_type": "execute_result"
    }
   ],
   "source": [
    "len(anotados[anotados['control']==0]) / 700*100"
   ]
  },
  {
   "cell_type": "code",
   "execution_count": 148,
   "metadata": {},
   "outputs": [
    {
     "data": {
      "text/plain": [
       "Index(['Letters', 'tokens', 'Numbers', 'pred', 'prob', 'control'], dtype='object')"
      ]
     },
     "execution_count": 148,
     "metadata": {},
     "output_type": "execute_result"
    }
   ],
   "source": [
    "anotados.columns"
   ]
  },
  {
   "cell_type": "code",
   "execution_count": null,
   "metadata": {},
   "outputs": [],
   "source": [
    "eliminar si hay 2 o 3 interlinieados continuos: ==> \\n\\n\\n\\n"
   ]
  },
  {
   "cell_type": "code",
   "execution_count": 150,
   "metadata": {},
   "outputs": [
    {
     "data": {
      "text/plain": [
       "'\\n canasta juan s.r.l \\n esc.ndeg  151 24/10/2018 reg 206 car socio 1 juan manuel roldan 38 ano soltero dni 31551316 \\n cuit 20-31551316-3 domiciliado av francisco beiro 4955 car 2 irmar ín rey 56 ano viudo dni \\n 18583127 cuit 27-18583127-8 domiciliado calle chile 2610 benavidez pdo tigre pciar bs as \\n argentino comerciant denominacion canasta juan srl sede av francisco beiro 4955 car \\n duracion 99 ano objeto sociedad objeto tercero asociado \\n tercero pais extranjero menor elaboracion fabricacion venta distribucion \\n\\n\\n\\n \\n comercializacion tipo producto panaderia reposteria pastelerio especialidad confiteria \\n afín incluir bebida articulo caracter gastronomico vinculado objeto social \\n tercero concesión franquicia tercero caso \\n requerir sociedad contratar profesional titulo habilitante capital social 100000 dividido \\n 100000 cuota 1 valor nominal c u. administracion representacion legal termino duracion \\n sociedad composicion gerente juan manuel roldan aceptar cargo constituir domicilio especial \\n av francisco beiro 4955 car fiscalizacion prescindir cierre ejercicio 31 diciembre ano \\n autorizado instrumento publico esc 151 fecha 24/10/2018 reg 206 \\n santiago daniel rivas matriculo 5625 c.e.c.b.a \\n'"
      ]
     },
     "execution_count": 150,
     "metadata": {},
     "output_type": "execute_result"
    }
   ],
   "source": [
    "anotados[(anotados['control']==0)&(anotados['Numbers']==1)].tokens.tolist()[3]"
   ]
  },
  {
   "cell_type": "code",
   "execution_count": 147,
   "metadata": {},
   "outputs": [
    {
     "name": "stdout",
     "output_type": "stream",
     "text": [
      "\n",
      "LA CANASTA DE JUAN S.R.L.\n",
      "Esc.n° 151 del 24/10/2018 Reg 206 CABA, Socios: 1) Juan Manuel ROLDAN, 38 años, soltero, DNI 31.551.316, \n",
      "CUIT 20-31551316-3, domiciliado en Av. Francisco Beiró 4955 CABA; y 2) Irma Inés REYES, 56 años, viuda, DNI \n",
      "18.583.127, CUIT 27-18583127-8, domiciliada en la calle Chile 2610, Benavidez, Pdo. Tigre, Pcia Bs. As.; ambos \n",
      "argentinos, comerciantes. Denominación: LA CANASTA DE JUAN SRL. Sede: Av. Francisco Beiró 4955 CABA. \n",
      "Duración: 99 años. Objeto: La sociedad tiene por objeto realizar por cuenta propia, de terceros y/o asociada a \n",
      "terceros, en el país o en el extranjero, ya sea al por mayor y/o menor, a la elaboración, fabricación, venta, distribución \n",
      "\n",
      "\n",
      "\n",
      " \n",
      "y comercialización de todo tipo de productos de panadería, repostería y pastelería, y especialidades de confitería y \n",
      "afines, incluyendo bebidas y cualquier otro artículo de carácter gastronómico vinculado al objeto social, realizado \n",
      "por cuenta propia, mediante terceros y/o mediante concesiones y franquicias de y hacia terceros. Para el caso \n",
      "que así lo requiera, la sociedad, contratará profesionales con título habilitante. Capital Social: $ 100000 dividido \n",
      "en 100000 cuotas de $ 1 valor nominal c/u. Administración y representación legal: por el término de duración de \n",
      "la sociedad. Composición: Gerente: Juan Manuel ROLDAN; quien acepta el cargo y constituye domicilio especial \n",
      "en Av. Francisco Beiró 4955 CABA. Fiscalización: Se prescinde. Cierre de ejercicio: 31 de diciembre de cada año. \n",
      "Autorizado según instrumento público Esc. Nº 151 de fecha 24/10/2018 Reg. Nº 206\n",
      "Santiago Daniel Rivas - Matrícula: 5625 C.E.C.B.A.\n",
      "\n"
     ]
    }
   ],
   "source": [
    "print(anotados[(anotados['control']==0)&(anotados['Numbers']==1)].Letters.tolist()[3])"
   ]
  },
  {
   "cell_type": "code",
   "execution_count": 144,
   "metadata": {},
   "outputs": [
    {
     "name": "stdout",
     "output_type": "stream",
     "text": [
      "CASO 0\n",
      "SOCIEDADES ANÓNIMAS\n",
      "3 SM S.A.\n",
      "Constituida por Esc. Nº 138 del 11/09/2019 por ante el registro 1480 de C.A.B.A.; Socios: José Luis ABOSO, nacido \n",
      "el 25/04/1973, D.N.I.: 23.251.275, casado en primeras nupcias con Verónica Milesi, empresario, con domicilio en \n",
      "Ayacucho 2662, Olivos, Vicente López, Pcia. de Bs. As.; Brian Axel TURRINI, nacido el 18/05/1979, D.N.I.: 27.282.306, \n",
      "casado en primeras nupcias con Laura Daniela De Llano, con domicilio en Bahía Blanca 3898, de C.A.B.A.; ambos \n",
      "argentinos y empresarios.- 1) Denominación: “3 SM S.A.”.- 2) Duración: 99 años.- 3) Objeto: dedicarse por cuenta \n",
      "propia, de terceros o asociada a terceros, dentro y fuera del país, a las siguientes actividades: Servicio Electrónico \n",
      "de Pagos mediante la Recaudación Electrónica de Fondos y/o Cobranzas por cuenta y orden de terceros.- Para \n",
      "el cumplimiento de su objeto la sociedad tiene plena capacidad jurídica para realizar todo tipo de actos, contratos \n",
      "u operaciones que se vinculen directa o indirectamente con su objeto social y que no sean prohibidos por las \n",
      "leyes o por este estatuto.- 4) Capital: $ 1.000.000, representado por 1.000.000 acciones ordinarias nominativas no \n",
      "endosables, de Un Peso ($ 1) valor nominal c/u y con derecho a 1 voto por acción.- 5) Dirección y administración: \n",
      "de 1 a 5 directores titulares, igual o menor número de suplentes, Duración: 3 ejercicios.- La representación legal y \n",
      "firma social serán ejercidas por el Presidente del directorio o en caso de ausencia o impedimento el Vicepresidente \n",
      "en su caso.- Prescinde Sindicatura.- 6) Cierre de Ejercicio: 31/10.- 7) Directorio: PRESIDENTE: Sebastián Darío \n",
      "LÓPEZ LESTRADE, argentino, nacido el 10/04/1976, D.N.I.: 25.241.368, divorciado de sus primeras nupcias con \n",
      "Alejandra Silvia Miranda, empresario, con domicilio en Avda. Juan Bautista Alberdi 2367, Piso 4º, Depto. “A”, de \n",
      "C.A.B.A.; y DIRECTORA SUPLENTE: Ana Lía OYHARÇABAL, argentina, nacida el 09/01/1981, D.N.I.: 28.451.303, \n",
      "soltera, empresaria, domiciliada en Chivilcoy 3351, 1º Piso, Depto. “A”, de C.A.B.A., quienes aceptan los cargos y \n",
      "fijan domicilio especial en la sede social.- 8) Sede Social: Avda. Boedo 2054, Piso 7º, Oficina “702”, de C.A.B.A.- \n",
      "Autorizado según instrumento público Esc. Nº 138 de fecha 11/09/2019 Reg. Nº 1480\n",
      "Reinaldo Omar Bogado - T°: 92 F°: 731 C.P.A.C.F.\n",
      "\n",
      "----\n",
      "CASO 1\n",
      "\n",
      "ALIANZA TI S.A.U.\n",
      "Por escritura N.º 28 del 31/01/2020 se constituyó la sociedad ALIANZA TI S.A.U Socio: Sancor Cooperativa de \n",
      "Seguros Limitada, CUIT 30-50004946-0, Matrícula INAES N° 1358, con domicilio legal en Ruta Nro. 34 km. 257, \n",
      "Sunchales, Santa Fe. Objeto: La sociedad tendrá por objeto realizar por cuenta propia o de terceros o asociada a \n",
      "\n",
      "\n",
      "\n",
      "\n",
      " \n",
      "terceros, en el país o en el extranjero, las siguientes actividades: prestación y explotación de servicios informáticos \n",
      "y/o electrónicos y/o internet y/o redes sociales y/o comercio electrónico y/o de otros servicios vinculados a éstos; \n",
      "(ii) diseño, y desarrollo, implementación y mantenimiento de toda clase de proyectos tecnológicos de software y \n",
      "hardware y/o de aplicaciones y sistemas y/o de estructuras de sistemas y/o de campañas de marketing: (iii) desarrollo \n",
      "de productos y servicios de software existentes o aplicaciones; (iv) implementación y puesta a punto para terceros \n",
      "de productos de software propios o creados por terceros y de productos registrados; (v) desarrollo y puesta a \n",
      "punto de software que se elabore para ser incorporado en procesadores (software embebido o insertado) utilizados \n",
      "en bienes y sistemas de diversa indole: (vi) administración de nube mediante la implementación, el desarrollo y \n",
      "la administración de recursos basados en la web, como aplicaciones, bases de datos. servidores y sistemas de \n",
      "administración de contenido web, soluciones de hospedaje de comercio electrónico, monitoreo del rendimiento de \n",
      "la red: (vii) prestación de servicios de call center por vía telefónica, por medio de aplicación de tecnología digital o \n",
      "por cualquier otro medio electrónico para la promoción, difusión y transmisión de datos, información, atención al \n",
      "cliente, soporte y demás servicios conexos; (viii) organización de sistemas de cobranza de créditos dinerarios de \n",
      "cualquier tipo y brindar servicios de recaudación, cobranzas y/o pagos por cuenta y orden de terceros mediante \n",
      "medios de pago electrónicos y/o medios similares tales como efectivo, cheques, transferencias entre cuentas \n",
      "bancarias, tarjetas de crédito o débito u otros medios de pago nacionales o internacionales e incluso otras formas \n",
      "que puedan existir en el futuro para la recaudación de todo tipo de pagos principalmente periódicos o recurrentes \n",
      "tales como impuestos, tasas y contribuciones, servicios públicos, suscripciones, abonos, cuotas sociales, servicios \n",
      "adicionales o especiales, ventas de productos; como asimismo la comercialización, distribución, administración, \n",
      "explotación, mantenimiento, soporte, importación y exportación en todas sus formas de los servicios, productos e \n",
      "insumos (incluyendo terminales físicas o electrónicas de cobranzas y pagos) referidos previamente. Si la sociedad \n",
      "realizare actividades que requieran título habilitante, las efectuará mediante los profesionales respectivos. A tal fin \n",
      "la sociedad tiene plena capacidad para adquirir derechos, contraer obligaciones y ejercer todos los actos que no \n",
      "sean prohibidos por las leyes o por este Estatuto. Duración: 99 años. Capital: $ 500.000. Cierre del ejercicio: 30/06. \n",
      "Presidente: Alejandro Carlos Simón, Vicepresidente: Eduardo Raúl Reixach, Director Titular: Luciano Hernán Mo, \n",
      "Director Suplente: Carlos Alberto Ingaramo, Sindico Titular: Severino Eduardo Miretti, Sindico Suplente: Jorge \n",
      "Otilio Meroni, todos con domicilio especial en la sede social. Sede social: Av. Córdoba 1776, C.A.B.A. Autorizado \n",
      "según instrumento público Esc. Nº 28 de fecha 31/01/2020 Reg. Nº 200\n",
      "GISELLE SOLEDAD COMESAÑA - T°: 129 F°: 100 C.P.A.C.F.\n",
      "\n",
      "----\n",
      "CASO 2\n",
      "\n",
      "HYPNOTIC S.A.S.\n",
      "CONSTITUCIÓN: 26/12/2018. 1.- RICARDO JOSE FRANCOLINO, 22/09/1980, Soltero/a, Argentina, SERVICIOS \n",
      "DE ASESORAMIENTO, DIRECCIÓN Y GESTIÓN EMPRESARIAL REALIZADOS POR INTEGRANTES DE CUERPOS \n",
      "DE DIRECCIÓN EN SOCIEDADES EXCEPTO LAS ANÓNIMAS, ESTOMBA 1742 piso el palomar MORóN, DNI \n",
      "Nº 28370134, CUIL/CUIT/CDI Nº 20283701345, . 2.- “HYPNOTIC SAS”. 3.- CHACABUCO 1474 piso 1 4, CABA. 4.- \n",
      "La sociedad tiene por objeto dedicarse, por cuenta propia o ajena o asociada con terceros, ya sea dentro o fuera \n",
      "del país, a la creación, producción, intercambio, fabricación, transformación, industrialización, comercialización, \n",
      "intermediación, representación, importación y exportación de toda clase de bienes materiales, incluso recursos \n",
      "naturales, e inmateriales y la prestación de toda clase de servicios, relacionados directa o indirectamente con \n",
      "las siguientes actividades: (a) Agropecuarias, avícolas, ganaderas, pesqueras, tamberas y vitivinícolas; (b) \n",
      "Comunicaciones, espectáculos, editoriales y gráficas en cualquier soporte; (c) Industrias manufactureras de \n",
      "todo tipo; (d) Culturales y educativas; (e) Desarrollo de tecnologías, investigación e innovación y software; (f) \n",
      "Gastronómicas, hoteleras y turísticas; (g) Inmobiliarias y constructoras; (h) Inversoras, financieras y fideicomisos; (i) \n",
      "Petroleras, gasíferas, forestales, mineras y energéticas en todas sus formas; (j) Salud, y (k) Transporte. La sociedad \n",
      "tiene plena capacidad de derecho para realizar cualquier acto jurídico en el país o en el extranjero, realizar toda \n",
      "actividad lícita, adquirir derechos y contraer obligaciones. Para la ejecución de las actividades enumeradas en su \n",
      "objeto, la sociedad puede realizar inversiones y aportes de capitales a personas humanas y/o jurídicas, actuar como \n",
      "fiduciario y celebrar contratos de colaboración; comprar, vender y/o permutar toda clase de títulos y valores; tomar \n",
      "y otorgar créditos y realizar toda clase de operaciones financieras, excluidas las reguladas por la Ley de Entidades \n",
      "Financieras y toda otra que requiera el concurso y/o ahorro público.. 5.- 99 años. 6.- $ 22600. 7.- Administrador \n",
      "titular: RICARDO JOSE FRANCOLINO con domicilio especial en Argentina, Ciudad de Buenos Aires, Ciudad de \n",
      "Buenos Aires, CHACABUCO 1474 piso 1 4, CPA 1140 , Administrador suplente: DIEGO SEBASTIAN GALLIGANO, \n",
      "con domicilio especial en Argentina, Ciudad de Buenos Aires, Ciudad de Buenos Aires, CHACABUCO 1474 piso 1 \n",
      "\n",
      "\n",
      " \n",
      "4, CPA 1140; todos por plazo de 99 años . 8.- Prescinde del órgano de fiscalización Fiscalizador titular: ; ; . 9.- 31 \n",
      "de Octubre de cada año.\n",
      "Trámites a Distancia, Delegación Administrativa, Inspección General de Justicia\n",
      "\n",
      "----\n",
      "CASO 3\n",
      "\n",
      "LA CANASTA DE JUAN S.R.L.\n",
      "Esc.n° 151 del 24/10/2018 Reg 206 CABA, Socios: 1) Juan Manuel ROLDAN, 38 años, soltero, DNI 31.551.316, \n",
      "CUIT 20-31551316-3, domiciliado en Av. Francisco Beiró 4955 CABA; y 2) Irma Inés REYES, 56 años, viuda, DNI \n",
      "18.583.127, CUIT 27-18583127-8, domiciliada en la calle Chile 2610, Benavidez, Pdo. Tigre, Pcia Bs. As.; ambos \n",
      "argentinos, comerciantes. Denominación: LA CANASTA DE JUAN SRL. Sede: Av. Francisco Beiró 4955 CABA. \n",
      "Duración: 99 años. Objeto: La sociedad tiene por objeto realizar por cuenta propia, de terceros y/o asociada a \n",
      "terceros, en el país o en el extranjero, ya sea al por mayor y/o menor, a la elaboración, fabricación, venta, distribución \n",
      "\n",
      "\n",
      "\n",
      " \n",
      "y comercialización de todo tipo de productos de panadería, repostería y pastelería, y especialidades de confitería y \n",
      "afines, incluyendo bebidas y cualquier otro artículo de carácter gastronómico vinculado al objeto social, realizado \n",
      "por cuenta propia, mediante terceros y/o mediante concesiones y franquicias de y hacia terceros. Para el caso \n",
      "que así lo requiera, la sociedad, contratará profesionales con título habilitante. Capital Social: $ 100000 dividido \n",
      "en 100000 cuotas de $ 1 valor nominal c/u. Administración y representación legal: por el término de duración de \n",
      "la sociedad. Composición: Gerente: Juan Manuel ROLDAN; quien acepta el cargo y constituye domicilio especial \n",
      "en Av. Francisco Beiró 4955 CABA. Fiscalización: Se prescinde. Cierre de ejercicio: 31 de diciembre de cada año. \n",
      "Autorizado según instrumento público Esc. Nº 151 de fecha 24/10/2018 Reg. Nº 206\n",
      "Santiago Daniel Rivas - Matrícula: 5625 C.E.C.B.A.\n",
      "\n",
      "----\n",
      "CASO 4\n",
      "\n",
      "MONTAUK POINT S.R.L.\n",
      "Contrato: 8/2/19.1) Christopher Xenophon Shakalis, norteamericano, 59 años, DNI 94671054; y María Guadalupe \n",
      "Balaguer, argentina, 46 años, DNI 22808061; ambos conyuges, comerciantes y domiciliados en Boulogne Sur \n",
      "Mer 1096, UF 312, General Pacheco, Prov.Bs.As. 2) 99 añós. 3) Sede: Av. Presidente Manuel Quintana 455, PB, \n",
      "CABA. 4) Gastronomía: Dedicarse a la actividad gastronómica en todos sus aspectos, instalación, explotación de \n",
      "comercio dedicado a la gastronómica, de comidas rápidas, pudiendo comercializar en cualquiera de sus etapas, \n",
      "productos de la industria alimenticia, gastronómica, elaboración y semielaboración de comidas, helados, bebidas, \n",
      "servicios de catering, servicios para fiestas y eventos, como así también la realización de operaciones inmobiliarias, \n",
      "mediante la adquisición y arrendamiento de inmuebles, transferencias de fondos de comercio.Organización de \n",
      "todo tipo de eventos y cualquier actividad vinculada con la gastronomía, incluida la publicidad, musicalización y \n",
      "promoción de los mismos. Explotación de salón para fiestas o bailes. 5) $ 20000.6) Adm: 1 o mas gerentes socios \n",
      "o no indistinta por el plazo de duracion. 7) 31/12. Gerente: Christopher Xenophon Shakalis con domicilio especial \n",
      "en la sede.Autorizado por contrato ut supra\n",
      "Gerson Cesar Gonsales - T°: 124 F°: 881 C.P.A.C.F.\n",
      "\n",
      "----\n",
      "CASO 5\n",
      "\n",
      "SCHINOPSIS S.R.L.\n",
      "Carlos Marcelo Perez, 45 años, DNI 24967681, José Hilario Carrol 2434 Ciudad y Prov Santiago del Estero; Daniel \n",
      "Antonio Simonetti, 57 años, DNI 16976895, Garibaldi 219 Centro Prov Santiago del Estero; ambos argentinos, \n",
      "solteros, comerciantes 2) 23/12/2021 3) Uruguay 978 Piso 2 CABA 4) Realizar operaciones de compra venta depósito \n",
      "comercialización acopio importación, exportación, elaboración y producción de semillas, cereales oleaginosas \n",
      "hacienda, ganados, frutos del país y de todo otro producto derivado de la explotación agrícolaganadera o forestal \n",
      "o que tenga aplicación en ella pudiendo actuar en negocios derivados subsidiarios o complementarios de los \n",
      "anteriores establecer industrias frigoríficas para la exportación de carnes bovinos, caprinos, ovinos en estado crudo \n",
      "y/o elaborado. 5) $ 2.000.000 dividido en 2.000.000 cuotas y de un voto por cuota, Carlos Marcelo Perez suscribe \n",
      "1.300.000 cuotas, Daniel Antonio Simonetti suscribe 700.000 cuotas 6) 99 años 7) Gerente Carlos Marcelo Perez \n",
      "y fija domicilio especial en sede social 8) 31/12 Autorizado según instrumento privado Acta de fecha 23/12/2021\n",
      "Fernando José Berdichevsky - T°: 109 F°: 280 C.P.A.C.F.\n",
      "\n",
      "----\n",
      "CASO 6\n",
      "\n",
      "GRUPO LAS NACIONES S.A.S.\n",
      "CONSTITUCIÓN: 18/09/2019. 1.- PABLO BARBERO, 01/04/1987, Casado/a, Argentina, VENTA AL POR MENOR \n",
      "NO REALIZADA EN ESTABLECIMIENTOS N.C.P., PERU 1087 piso -- CIUDAD DE BUENOS AIRES, DNI \n",
      "Nº 32629804, CUIL/CUIT/CDI Nº 20326298043, DARIO BARBERO, 25/09/1963, Casado/a, Argentina, SERVICIOS \n",
      "DE CONTABILIDAD, AUDITORÍA Y ASESORÍA FISCAL, PERU 1087 piso -- CIUDAD DE BUENOS AIRES, DNI \n",
      "Nº 16432964, CUIL/CUIT/CDI Nº 20164329640, . 2.- “Grupo Las Naciones SAS”. 3.- PERU 1087 piso --, CABA. 4.- \n",
      "La sociedad tiene por objeto dedicarse, por cuenta propia o ajena o asociada con terceros, ya sea dentro o fuera \n",
      "del país, a la creación, producción, intercambio, fabricación, transformación, industrialización, comercialización, \n",
      "intermediación, representación, importación y exportación de toda clase de bienes materiales, incluso recursos \n",
      "naturales, e inmateriales y la prestación de toda clase de servicios, relacionados directa o indirectamente con \n",
      "las siguientes actividades: (a) Agropecuarias, avícolas, ganaderas, pesqueras, tamberas y vitivinícolas; (b) \n",
      "Comunicaciones, espectáculos, editoriales y gráficas en cualquier soporte; (c) Industrias manufactureras de \n",
      "todo tipo; (d) Culturales y educativas; (e) Desarrollo de tecnologías, investigación e innovación y software; (f) \n",
      "Gastronómicas, hoteleras y turísticas; (g) Inmobiliarias y constructoras; (h) Inversoras, financieras y fideicomisos; (i) \n",
      "Petroleras, gasíferas, forestales, mineras y energéticas en todas sus formas; (j) Salud, y (k) Transporte. La sociedad \n",
      "tiene plena capacidad de derecho para realizar cualquier acto jurídico en el país o en el extranjero, realizar toda \n",
      "actividad lícita, adquirir derechos y contraer obligaciones. Para la ejecución de las actividades enumeradas en su \n",
      "objeto, la sociedad puede realizar inversiones y aportes de capitales a personas humanas y/o jurídicas, actuar como \n",
      "fiduciario y celebrar contratos de colaboración; comprar, vender y/o permutar toda clase de títulos y valores; tomar \n",
      "y otorgar créditos y realizar toda clase de operaciones financieras, excluidas las reguladas por la Ley de Entidades \n",
      "Financieras y toda otra que requiera el concurso y/o ahorro público.. 5.- 99 años. 6.- $ 31250. 7.- Administrador \n",
      "titular: PABLO BARBERO con domicilio especial en Argentina, Ciudad de Buenos Aires, Ciudad de Buenos Aires, \n",
      "PERU 1087 piso --, CPA 1068 , Administrador suplente: DARIO BARBERO, con domicilio especial en Argentina, \n",
      "Ciudad de Buenos Aires, Ciudad de Buenos Aires, PERU 1087 piso --, CPA 1068; todos por plazo de 99 años . \n",
      "8.- Prescinde del órgano de fiscalización Fiscalizador titular: ; ; . 9.- 31 de Diciembre de cada año.\n",
      "Trámites a Distancia, Delegación Administrativa, Inspección General de Justicia\n",
      "\n",
      "----\n",
      "CASO 7\n",
      "\n",
      "SOLUCIONES TCM S.A.S.\n",
      "CONSTITUCIÓN: 26/08/2019. 1.- CRISTIAN JOSE SANCHEZ, 03/10/1981, Soltero/a, Argentina, SERVICIOS DE \n",
      "CONSULTORES EN TECNOLOGÍA DE LA INFORMACIÓN, BELGRANO 2531 piso AVELLANEDA, DNI Nº 29021743, \n",
      "CUIL/CUIT/CDI Nº  20290217432, . 2.- “SOLUCIONES TCM SAS”. 3.- VIAMONTE 308 piso 1/B, CABA. 4.- La \n",
      "sociedad tiene por objeto dedicarse, por cuenta propia o ajena o asociada con terceros, ya sea dentro o fuera \n",
      "del país, a la creación, producción, intercambio, fabricación, transformación, industrialización, comercialización, \n",
      "intermediación, representación, importación y exportación de toda clase de bienes materiales, incluso recursos \n",
      "naturales, e inmateriales y la prestación de toda clase de servicios, relacionados directa o indirectamente con \n",
      "las siguientes actividades: (a) Agropecuarias, avícolas, ganaderas, pesqueras, tamberas y vitivinícolas; (b) \n",
      "Comunicaciones, espectáculos, editoriales y gráficas en cualquier soporte; (c) Industrias manufactureras de \n",
      "todo tipo; (d) Culturales y educativas; (e) Desarrollo de tecnologías, investigación e innovación y software; (f) \n",
      "Gastronómicas, hoteleras y turísticas; (g) Inmobiliarias y constructoras; (h) Inversoras, financieras y fideicomisos; \n",
      "(i) Petroleras, gasíferas, forestales, mineras y energéticas en todas sus formas; (j) Salud, y (k) Transporte. La \n",
      "sociedad tiene plena capacidad de derecho para realizar cualquier acto jurídico en el país o en el extranjero, realizar \n",
      "toda actividad lícita, adquirir derechos y contraer obligaciones. Para la ejecución de las actividades enumeradas \n",
      "en su objeto, la sociedad puede realizar inversiones y aportes de capitales a personas humanas y/o jurídicas, \n",
      "actuar como fiduciario y celebrar contratos de colaboración; comprar, vender y/o permutar toda clase de títulos \n",
      "y valores; tomar y otorgar créditos y realizar toda clase de operaciones financieras, excluidas las reguladas por la \n",
      "Ley de Entidades Financieras y toda otra que requiera el concurso y/o ahorro público.. 5.- 99 años. 6.- $ 25000. \n",
      "7.- Administrador titular: CRISTIAN JOSE SANCHEZ con domicilio especial en Argentina, Ciudad de Buenos \n",
      "Aires, Ciudad de Buenos Aires, VIAMONTE 308 piso 1/B, CPA 1053 , Administrador suplente: LUIS ALBERTO \n",
      "FERNANDEZ, con domicilio especial en Argentina, Ciudad de Buenos Aires, Ciudad de Buenos Aires, VIAMONTE \n",
      "308 piso 1/B, CPA 1053; todos por plazo de 99 años . 8.- Prescinde del órgano de fiscalización Fiscalizador titular: \n",
      "; ; . 9.- 30 de Junio de cada año.\n",
      "Trámites a Distancia, Delegación Administrativa, Inspección General de Justicia\n",
      "\n",
      "----\n",
      "CASO 8\n",
      "\n",
      "TECNOSOLUTIONS 6 SERVICES S.R.L.\n",
      "Instrumento Privado del 04.09.19, Socios.SILVIA ESTER GUERRA, D.N.I. 14434556,17.04.61, jose Neglia 191, \n",
      "Temperley, Provincia de Buenos Aires y MANUEL ENRIQUE PURA, D.N.I. 13500958,16.07.60, General Guemes \n",
      "1172, Ezeiza, Provincia de Buenos Aires, ambos argentinos, solteros comerciantes. Duracion 99 años.OBJETO: La \n",
      "sociedad tiene por objeto dedicarse por cuenta propia de terceros y/o asociada a terceros, en cualquier parte del \n",
      "país no del exterior a la fabricación, ensamblado y comercialización de productos de seguridad..Capital $ 160.000 \n",
      "Gerente designado.Silvia Ester Guerra, por el termino de duracion de la sociedad.Cesion de cuotas sociales art \n",
      "152/53 L.S.C.se acepta incorporacion herederos.Cierre Ejercicio 31.08. Sede social y domicilio especial gerente \n",
      "designado tucuman 1658, 3 piso, oficina 27.C.A.B.A. Autorizado según instrumento privado constitucion de fecha \n",
      "04/09/2019\n",
      "Graciela Carmen Monti - T°: 29 F°: 918 C.P.A.C.F.\n",
      "\n",
      "----\n",
      "CASO 9\n",
      "SOCIEDADES ANÓNIMAS\n",
      "ANDES TRADER S.A.\n",
      "Por Esc. 10 del 01/02/2022 F° 39 Registro Notarial 1239 C.A.B.A., se constituyó ANDES TRADER S.A. Socios: \n",
      "Mariano MAGGIO MUGABURE, argentino, nacido el 05 de diciembre de 1.991, soltero, comerciante, DNI. \n",
      "35.994.674, C.U.I.T./L. 20-35994674-1, con domicilio en la calle Guido 955, Localidad y Partido de Lanús, Provincia \n",
      "de Buenos Aires, quien suscribe Mil (1.000) acciones, ordinarias, nominativas, no endosables, de valor nominal \n",
      "Cien pesos ($ 100) cada una de ellas y con derecho a un voto por acción, equivalentes a la suma de Cien mil Pesos \n",
      "($ 100.000) y Lucas Matías RODRIGUEZ, argentino, nacido el 13 de enero de 1.995, soltero, comerciante, titular \n",
      "del Documento Nacional de Identidad 38.881.093, C.U.I.T./L. 23-38881093-9, con domicilio en la calle Meeks \n",
      "315, Piso 3º, Departamento “B”, Partido de Lomas de Zamora, Provincia de Buenos Aires, suscribe Mil (1.000) \n",
      "acciones, ordinarias, nominativas, no endosables, de valor nominal Cien pesos ($ 100) cada una de ellas y con \n",
      "derecho a un voto por acción, equivalentes a la suma de Cien mil Pesos ($ 100.000. Duración: 30 años desde \n",
      "la inscripción en Registro Público de Comercio. Objeto: a) La sociedad tiene por objeto realizar por sí o por \n",
      "terceros o asociados a terceros, en el país o en el extranjero, las siguientes actividades: prestación de servicios \n",
      "de informática y computación; creación, análisis, desarrollo y comercialización de programas de informática y \n",
      "computación, servicios de programación, desarrollo y diseño de software y hardware; investigación operativa y \n",
      "análisis de sistemas, y prestación de servicios conexos. Todas las actividades que así lo requieran serán realizadas \n",
      "por profesionales con título habilitante. Quedan excluidas las operaciones contempladas en la Ley de Entidades \n",
      "Financieras. Capital: $ 200.000. Organo de Administracion: Presidente del Directorio: Mariano Maggio Mugabre \n",
      "y Director Suplente Lucas Matias Rodriguez, ambos domicilio especial en la sede social. Cierre de ejercicio: 31 \n",
      "de Diciembre. Sede social: Juana Manso 1.161, piso 1º, oficina “105”, de la Ciudad Autónoma de Buenos Aires \n",
      "Autorizado según instrumento publico Esc. 10 del 01/02/2022 F° 39 Registro Notarial 1239 C.A.B.A Martin Leandro \n",
      "Rodriguez- T°. 121 F°. 74 C.P.A.C.F\n",
      "Martin Leandro Rodriguez - T°: 121 F°: 74 C.P.A.C.F.\n",
      "\n",
      "----\n",
      "CASO 10\n",
      "\n",
      "\n",
      "\n",
      "\n",
      " \n",
      "PROCURANDO S.A.\n",
      "Por Esc. 210 del 09/09/2019, Registro 546, CABA, Emiliano Diego Álvarez Ostaszewski, argentino, 20/04/1981, \n",
      "soltero, comerciante, DNI 28.802.956, José León Suárez 5884, CABA y Hugo Norberto Ramos, argentino, \n",
      "17/06/1949, divorciado, comerciante, DNI 7.681.298, Tucumán 1638, 2° piso, departamento 11, Lanús Este, \n",
      "provincia de Buenos Aires, constituyeron “PROCURANDO S.A.”. Sede social: José León Suárez 5884, CABA. \n",
      "Plazo: 99 años. Objeto: La sociedad tendrá por objeto dedicarse por cuenta propia, de terceros o asociada a \n",
      "terceros, en el país o en el extranjero a la compraventa, distribución, importación y/o exportación, de materiales \n",
      "para la construcción de cualquier tipo, construcción de viviendas, edificios, obras públicas o privadas, fabricación \n",
      "de máquinas, instalación de estructuras metálicas o de hormigón, obras civiles, sea a través de construcciones \n",
      "directas o por licitación, proyectos y dirección de dichas obras, su administración y realización, compra y venta \n",
      "de propiedades inmuebles, ya sea en el mismo estado en que se adquirieron o después de darle una forma de \n",
      "mayor o menor valor a través de mejoras o subdivisiones, para alquilar o subalquilar, total o parcialmente. Toda \n",
      "actividad que en la materia, que en virtud de la Ley, haya sido reservada a profesionales con títulos habilitantes, \n",
      "será realizada por medio de éstos.- La sociedad tiene plena capacidad jurídica para adquirir derechos, contraer \n",
      "obligaciones y ejercer los actos que no sean prohibidos por las leyes o por este estatuto. La sociedad podrá \n",
      "realizar la financiación de las operaciones sociales, obrando como acreedor prendario, en los términos del artículo \n",
      "5° de la Ley 12.962, e hipotecario y realizar todas las operaciones necesarias de carácter financiero permitidas por \n",
      "la legislación vigente, siempre con dinero propio o de terceros. No realizará las comprendidas en la Ley 21.526 \n",
      "o cualquier otra que se dicte en lo sucesivo en su reemplazo o requiera la intermediación con el ahorro público. \n",
      "Capital $ 1.000.000. Directorio, 1 a 5 miembros titulares, 1 ejercicio. Prescinde sindicatura. Representación legal y \n",
      "uso de firma social: Presidente del Directorio. Presidente: Emiliano Diego Álvarez Ostaszewski. Director Suplente: \n",
      "Hugo Norberto Ramos, aceptan cargos, constituyen domicilio especial en sede social. Cierre ejercicio: 31/12.\n",
      "Autorizado según instrumento público Esc. Nº 210 de fecha 09/09/2019 Reg. Nº 546\n",
      "Fernando Daniel Prisco - Matrícula: 4048 C.E.C.B.A.\n",
      "\n",
      "----\n",
      "CASO 11\n",
      "SOCIEDADES ANÓNIMAS\n",
      "AGLOW S.A.\n",
      "AGLOW S.A Por Escritura 74\n",
      "del 03/09/2018, Fº 215, Registro 549, C.A.B.A. según Asamblea Gral Extraordinaria del 21/11/2017 se aumentó \n",
      "Capital de $ 580.000 a $ 2.155.000, con reforma parcial Art. 4º estatuto social. Autorizado según instrumento \n",
      "público Esc. Nº 74 de fecha 03/09/2018 Reg. Nº 549\n",
      "MARIA LUZ ALIAGA - Matrícula: 3604 C.E.C.B.A.\n",
      "\n",
      "----\n",
      "CASO 12\n",
      "\n",
      "MAP SOLUCIONES S.R.L.\n",
      "Constitución. Complementa edicto TI 89564/21 del 23/11/21. Por Esc 8 del 18/01/22 R° 100 CABA por vista en trámite \n",
      "9.320.924 se modifica objeto, reformando artículo 3 del estatuto: Comercialización de productos alimenticios, \n",
      "bebidas con o sin alcohol, colchones, camas, almohadas, sabanas y frazadas, productos de higiene y limpieza, \n",
      "\n",
      "\n",
      "\n",
      " \n",
      "electrodomésticos, y todo otro insumo relacionado con los mismos, ya sea con organismos del Estado Nacional, \n",
      "Provincial, Municipal o con entidades privadas. Toda actividad que en virtud de la materia haya sido reservada a \n",
      "profesionales con título habilitante será realizada por medio de estos. Autorizado según instrumento público Esc. \n",
      "Nº 8 de fecha 18/01/2022 Reg. Nº 100\n",
      "CECILIA ELVIRA VENTURA - Matrícula: 5023 C.E.C.B.A.\n",
      "\n",
      "----\n",
      "CASO 13\n",
      "\n",
      "MIYAS TRAVELS ARGENTINA S.R.L.\n",
      "Por escritura del 15/05/2019 se constituyo la sociedad. Socios: Samuel Patricio PIUTRIN TRARUPIL, chileno, \n",
      "13/12/87, casado, Pasaporte de la República Chile número PO4031643 y Hilda María VALLEJO CONCEPCION, \n",
      "dominicana, 10/12/89, casada, Pasaporte de la República Dominicana número RD4039693, ambos empresarios, \n",
      "domiciliados en Falmouth número 2560, Villa Barrio Inglés, Comuna de Temuco Región de La Araucania, República \n",
      "de Chile; Plazo: 99 años; Objeto: agencia de viaje y turismo; la intermediación en la reserva o locación de servicios \n",
      "en cualquier medio de transporte en el país o en el extranjero; rent a car; la intermediación en la contratación \n",
      "de servicios hoteleros en el país o en el extranjero; la organización de viajes de carácter individual o colectivos, \n",
      "excursiones, cruceros o similares, con o sin inclusión de todos los servicios propios de los denominados viajes \n",
      "“a forfait”, en el país o en el extranjero; la recepción de turistas o asistencia de turistas durante sus viajes y su \n",
      "permanencia en el país, la prestación a los mismos de los servicios de guías turísticos y el despacho de sus \n",
      "equipajes; venta de seguros de viaje, mediante la intermediación en el país o en el extranjero; la representación \n",
      "de otras agencias, tanto nacionales como extranjeras, a fin de prestar en su nombre cualquiera de estos servicios \n",
      "y todo lo que la naturaleza del giro permita; la realización de actividades similares o conexas a las mencionadas \n",
      "con anterioridad en beneficio del turismo; todas las actividades mencionadas la sociedad las puede realizar para \n",
      "sus propios clientes, para otras agencias del país o del exterior o para terceros; brindar servicios integrales de \n",
      "informática y servicios de publicidad respecto a su actividad. La sociedad podrá realizar la financiación de las \n",
      "operaciones sociales obrando como acreedor prendario y realizar todas las operaciones necesarias de carácter \n",
      "financiero permitidas por la legislación vigente, siempre con dinero propio. No realizará las comprendidas en \n",
      "la ley 21.526 o cualquier otra que se dicte en lo sucesivo en su reemplazo o requiera la intermediación con el \n",
      "ahorro público; Capital: $ 100.000; Cierre de ejercicio: 31/12; Gerentes: Samuel Patricio PIUTRIN TRARUPIL, María \n",
      "Cecilia FERRARAZZO y María Laura SILLS, todos con domicilio especial en la sede; Sede: Esmeralda 847, Piso 14 \n",
      "Departamento “A”, CABA. Autorizado según instrumento público Esc. Nº 132 de fecha 15/05/2019 Reg. Nº 1863\n",
      "Gerardo Daniel Ricoso - T°: 95 F°: 2 C.P.A.C.F.\n",
      "\n",
      "----\n",
      "CASO 14\n",
      "\n",
      "\n",
      "\n",
      " \n",
      "AG ADMINISTRACIÓN S.R.L.\n",
      "Constituida por escritura 14 de fecha 21/02/2022, al folio 55 del Registro 1404 CABA. 1) Ariel Germán GEROSA \n",
      "(CUIT 20-29150470-2), 30/10/1981, D.N.I 29.150.470, Administrador de Consorcios, 2) María Florencia SOTELO \n",
      "(CUIT 27-26425009-4), 07/02/1978, D.N.I 26.425.009, comerciante. Ambos argentinos, casados y con domicilio \n",
      "en Aristóbulo del Valle N°  1401, departamento 12, Vicente López, provincia de Bs. As. 2) 30 años. 3) Objeto: \n",
      "Dedicarse por cuenta propia o de terceros o asociada a terceros a las siguientes actividades: ADMINISTRACIÓN: \n",
      "Operar con cualquier tipo de entes creados o a crearse para actuar como administradora de Consorcios de \n",
      "emprendimientos en Propiedad Horizontal y/o Propiedad Horizontal Especial y/o cualquier otro régimen que rija \n",
      "en el futuro, realizar cobros y pagos de canon, alquileres, liquidación de expensas, contratación de personal \n",
      "a los fines de la actividad, prestación de servicios de Seguridad Privada, servicios de limpieza y conservación \n",
      "de espacios verdes, y yodo tipo de espacios comunes como veredas, pasillos, etc. Realización de operaciones \n",
      "previstas en las leyes y reglamentaciones de Propiedad Horizontal y Propiedad Horizontal Especial. Realizar \n",
      "toda clase de representaciones, mandatos, comisiones y consignaciones relacionadas con el objeto social. \n",
      "INMOBILIARIA: Adquisición, venta, fraccionamiento, loteos y cualquier forma de explotación, arrendamiento, \n",
      "permuta, fraccionamientos, loteos y cualquier forma de explotación, arrendamiento, permuta y administración \n",
      "de toda clase de bienes inmuebles urbanos y/o rurales propios o de terceros. CONSTRUCTORA: Construcción, \n",
      "ampliación y/o refacción de todo tipo de obras privadas para cualquier destino, sea a través de contrataciones \n",
      "directas o de licitaciones, para la venta y/o renta. Y la realización de todas las operaciones sobre inmuebles que \n",
      "autorizan las leyes incluso las mencionadas en administrativas.- 4) $ 200.000 dividido en 20.000 cuotas de $ 10 \n",
      "cada una y con derecho a 1 voto por cuota, suscripto 18.000 cuotas Sr. Gerosa y 2.000 cuotas Sra. Sotelo e \n",
      "integran el 25%. 5) Administración: 1 o más gerentes socios o no, con mandato durante la vigencia de la sociedad \n",
      "y con firma indistinta. Gerente: Ariel German GEROSA, domicilio especial en Av. Juan Bautista Alberdi N° 1534, \n",
      "7° piso, depto. “B”, CABA, CABA. 6) Cierre ejercicio: 31 de diciembre. 7) Sede social: Av. Juan Bautista Alberdi \n",
      "N° 1534, 7° piso, depto. “B”, CABA.\n",
      "Autorizado según instrumento público Esc. Nº 14 de fecha 21/02/2022 Reg. Nº 1404\n",
      "Mariana Sapuppo - Matrícula: 4903 C.E.C.B.A.\n",
      "\n",
      "----\n",
      "CASO 15\n",
      "\n",
      "SOCIEDADES DE RESPONSABILIDAD LIMITADA\n",
      "ASCENT CONSULTING S.R.L.\n",
      "Por instrumento privado del 08 de marzo de 2018 se constituyó la sociedad ASCENT CONSULTING S.R.L. 1) Socios: \n",
      "Martín Alejandro SOMMER, argentino, nacido 02/03/73, DNI 23292171, casado, empresario, domiciliado en Laprida \n",
      "2150, Piso 9º Departamento “D”, CABA, y Mauricio Miguel GONZÁLEZ BOTTO, uruguayo, nacido el 515/05/68, DNI \n",
      "93944315, divorciado, empresario, con domicilio en O`Higgings 1414, Piso 5º Departamento “5”, CABA; 2) Objeto: \n",
      "La sociedad tiene por objeto realizar por sí, por cuenta de terceros o asociada a terceros, en el país o en el exterior, \n",
      "las siguientes actividades: a) CONSULTORÍA Y ASESORAMIENTO: servicios de consultoría, asesoramiento, \n",
      "planeación estratégica, capacitación, y optimización de activos y recursos, planeación de inversiones y asesoría \n",
      "de riesgos, desarrollo de organización empresarial, sistemas de información y comunicaciones, de recursos \n",
      "humanos, de mercado, de infraestructura productiva, de servicios y productos; b) REPRESENTACIÓN: suscribir \n",
      "contratos de representación, mandato, agencia, gestión de negocios, comisión y consignación. Gerenciar y \n",
      "administrar todo tipo de servicios o productos prestados por empresas nacionales y extranjeras; c) INMOBILIARIA: \n",
      "Compra, venta, permuta, alquiler, arrendamiento y administración de bienes y propiedades inmuebles, inclusive las \n",
      "comprendidas bajo el régimen de Propiedad Horizontal, así como también toda clase de operaciones inmobiliarias, \n",
      "representaciones, mandatos y gestiones de negocios, sea ello en inmuebles rurales o urbanos; D) FINANCIERA: \n",
      "Otorgar préstamos a particulares o sociedades comerciales, operaciones de créditos en general con cualquiera \n",
      "de las garantías previstas en la legislación vigente o sin ella, negociación de títulos, acciones y otros valores \n",
      "mobiliarios, otorgar fianzas o avales a terceros, y realizar operaciones financieras en general. Quedan excluidas las \n",
      "\n",
      "\n",
      "\n",
      " \n",
      "operaciones de la Ley de Entidades Financieras y toda aquella que requiera el concurso del ahorro público. Cuando \n",
      "por razón de la materia las actividades lo requieran, serán realizadas por profesionales con título habilitante. A tal \n",
      "fin, la sociedad tiene plena capacidad jurídica para adquirir derechos, contraer obligaciones y ejercer los actos \n",
      "que no sean prohibidos por las leyes o por este estatuto; 3) Duración: 99 años desde la inscripción en el Registro \n",
      "Público de Comercio de la C.A.B.A.; 4) Capital Social: $ 50.000, representado por 5.000 cuotas de valor nominal \n",
      "$ 10 cada una; 5) Sede social: Austria 2660, Piso 2º Departamento “D”, CABA; 6) Cierre de ejercicio: 31 de mayo; 7) \n",
      "Administración y representación legal: a cargo de uno o más gerentes que podrán ser socios o no de la sociedad, \n",
      "los que ejercerán la gerencia en forma individual e indistinta, por el término de duración de la sociedad. En caso \n",
      "que la Sociedad tenga su capital social dividido entre dos socios con igual cantidad cuotas partes y de derechos \n",
      "políticos, se deberán designar dos gerentes, teniendo cada socio derecho a la elección exclusiva de un gerente \n",
      "que lo represente; 8) Gerente: Martín Alejandro SOMMER y Mauricio Miguel GONZÁLEZ BOTTO, con domicilio \n",
      "especial en Austria 2660, Piso 2º Departamento “D”, CABA.\n",
      "Autorizado según instrumento privado Estatuto de fecha 21/06/2019\n",
      "Martin Elias Caceres - T°: 102 F°: 447 C.P.A.C.F.\n",
      "\n",
      "----\n"
     ]
    }
   ],
   "source": [
    "for n,l in enumerate(anotados[(anotados['control']==0)&(anotados['Numbers']==1)].Letters):\n",
    "    print(f'CASO {n}')\n",
    "    print(l)\n",
    "    print('----')"
   ]
  },
  {
   "cell_type": "code",
   "execution_count": 167,
   "metadata": {},
   "outputs": [],
   "source": [
    "falsos_negativos_ls = anotados[(anotados['control']==0)&(anotados['Numbers']==1)].tokens.tolist()"
   ]
  },
  {
   "cell_type": "code",
   "execution_count": 168,
   "metadata": {},
   "outputs": [
    {
     "data": {
      "text/plain": [
       "(0.00015314096526708454, 0.00015285475819837302)"
      ]
     },
     "execution_count": 168,
     "metadata": {},
     "output_type": "execute_result"
    }
   ],
   "source": [
    "import re\n",
    "\n",
    "your_string = falsos_negativos_ls[-1]\n",
    "cleaned_string = re.sub(r'\\n\\n\\n\\n', '', your_string)\n",
    "get_proba(your_string), get_proba(cleaned_string)"
   ]
  },
  {
   "cell_type": "code",
   "execution_count": 169,
   "metadata": {},
   "outputs": [
    {
     "data": {
      "text/plain": [
       "338"
      ]
     },
     "execution_count": 169,
     "metadata": {},
     "output_type": "execute_result"
    }
   ],
   "source": [
    "len(your_string.split(' '))"
   ]
  },
  {
   "cell_type": "code",
   "execution_count": 171,
   "metadata": {},
   "outputs": [
    {
     "data": {
      "text/plain": [
       "0.00016642791160847992"
      ]
     },
     "execution_count": 171,
     "metadata": {},
     "output_type": "execute_result"
    }
   ],
   "source": [
    "get_proba(cleaned_string[40:])"
   ]
  },
  {
   "cell_type": "code",
   "execution_count": 170,
   "metadata": {},
   "outputs": [
    {
     "data": {
      "text/plain": [
       "'cent consulting s.r.l \\n instrumento privado 08 marzo 2018 constituyo sociedad ascent consulting s.r.l 1 socio \\n martin alejandro sommer argentino nacido 02/03/73 dni 23292171 casado empresario domiciliado laprida \\n 2150 piso 9o departamento d car mauricio miguel gonzalez botto uruguayo nacido 515/05/68 dni \\n 93944315 divorciado empresario domicilio o`higging 1414 piso 5o departamento 5 car 2 objeto \\n sociedad objeto tercero asociado tercero pais exterior \\n siguiente actividad consultoria asesoramiento servicio consultoria asesoramiento \\n planeacion estrategico capacitacion optimizacion activo recurso planeacion inversión asesoria \\n riesgo desarrollo organizacion empresarial sistema informacion comunicación recurso \\n humano mercado infraestructura productivo servicio producto b representacion suscribir \\n contrato representacion mandato agencia gestion negocio comision consignacion gerenciar \\n administrar tipo servicio producto prestado empresa nacional extranjero c inmobiliaria \\n compra venta permuta alquiler arrendamiento administracion bien propiedad inmuebl inclusivir \\n comprendido regimen propiedad horizontal clase operación inmobiliario \\n representación mandato gestión negocio inmueble rural urbano d financiero \\n otorgar prestamo particular sociedad comercial operación credito general cualquiera \\n garantia previsto legislacion vigente negociacion titulo acción valor \\n mobiliario otorgar fianza aval tercero operación financiero general quedar excluido  \\n operación ley entidad financiero requerir concurso ahorro publico \\n razon materia actividad requeír serar realizado profesional titulo habilitante \\n sociedad pleno capacidad juridico adquirir derecho contraer obligación ejercer acto \\n prohibir ley estatuto 3 duracion 99 ano inscripcion registro \\n publico comercio c.a.b.a 4 capital social 50000 representado 5000 cuota valor nominal \\n 10 5 sede social austria 2660 piso 2o departamento d car 6 cierre ejercicio 31 mayo 7 \\n administracion representacion legal cargo gerent podrar socio sociedad \\n ejercerar gerencia forma individual indistinto termino duracion sociedad caso \\n sociedad capital social dividido socio cantidad cuota parte derecho \\n politico deberar designar gerente tener socio derecho eleccion exclusivo gerente \\n represente 8) gerente martin alejandro sommer mauricio miguel gonzalez botto domicilio \\n especial austria 2660 piso 2o departamento d car \\n autorizado instrumento privado estatuto fecha 21/06/2019 \\n martin elia cacer tdeg 102 fdeg 447 c.p.a.c.f \\n'"
      ]
     },
     "execution_count": 170,
     "metadata": {},
     "output_type": "execute_result"
    }
   ],
   "source": [
    "cleaned_string[40:]"
   ]
  },
  {
   "cell_type": "code",
   "execution_count": 165,
   "metadata": {},
   "outputs": [
    {
     "data": {
      "text/plain": [
       "0.0001619480171939358"
      ]
     },
     "execution_count": 165,
     "metadata": {},
     "output_type": "execute_result"
    }
   ],
   "source": [
    "get_proba(cleaned_string[40:])"
   ]
  },
  {
   "cell_type": "code",
   "execution_count": 159,
   "metadata": {},
   "outputs": [
    {
     "name": "stdout",
     "output_type": "stream",
     "text": [
      "\n",
      "SOCIEDADES DE RESPONSABILIDAD LIMITADA\n",
      "ASCENT CONSULTING S.R.L.\n",
      "Por instrumento privado del 08 de marzo de 2018 se constituyó la sociedad ASCENT CONSULTING S.R.L. 1) Socios: \n",
      "Martín Alejandro SOMMER, argentino, nacido 02/03/73, DNI 23292171, casado, empresario, domiciliado en Laprida \n",
      "2150, Piso 9º Departamento “D”, CABA, y Mauricio Miguel GONZÁLEZ BOTTO, uruguayo, nacido el 515/05/68, DNI \n",
      "93944315, divorciado, empresario, con domicilio en O`Higgings 1414, Piso 5º Departamento “5”, CABA; 2) Objeto: \n",
      "La sociedad tiene por objeto realizar por sí, por cuenta de terceros o asociada a terceros, en el país o en el exterior, \n",
      "las siguientes actividades: a) CONSULTORÍA Y ASESORAMIENTO: servicios de consultoría, asesoramiento, \n",
      "planeación estratégica, capacitación, y optimización de activos y recursos, planeación de inversiones y asesoría \n",
      "de riesgos, desarrollo de organización empresarial, sistemas de información y comunicaciones, de recursos \n",
      "humanos, de mercado, de infraestructura productiva, de servicios y productos; b) REPRESENTACIÓN: suscribir \n",
      "contratos de representación, mandato, agencia, gestión de negocios, comisión y consignación. Gerenciar y \n",
      "administrar todo tipo de servicios o productos prestados por empresas nacionales y extranjeras; c) INMOBILIARIA: \n",
      "Compra, venta, permuta, alquiler, arrendamiento y administración de bienes y propiedades inmuebles, inclusive las \n",
      "comprendidas bajo el régimen de Propiedad Horizontal, así como también toda clase de operaciones inmobiliarias, \n",
      "representaciones, mandatos y gestiones de negocios, sea ello en inmuebles rurales o urbanos; D) FINANCIERA: \n",
      "Otorgar préstamos a particulares o sociedades comerciales, operaciones de créditos en general con cualquiera \n",
      "de las garantías previstas en la legislación vigente o sin ella, negociación de títulos, acciones y otros valores \n",
      "mobiliarios, otorgar fianzas o avales a terceros, y realizar operaciones financieras en general. Quedan excluidas las \n",
      "\n",
      "\n",
      "\n",
      " \n",
      "operaciones de la Ley de Entidades Financieras y toda aquella que requiera el concurso del ahorro público. Cuando \n",
      "por razón de la materia las actividades lo requieran, serán realizadas por profesionales con título habilitante. A tal \n",
      "fin, la sociedad tiene plena capacidad jurídica para adquirir derechos, contraer obligaciones y ejercer los actos \n",
      "que no sean prohibidos por las leyes o por este estatuto; 3) Duración: 99 años desde la inscripción en el Registro \n",
      "Público de Comercio de la C.A.B.A.; 4) Capital Social: $ 50.000, representado por 5.000 cuotas de valor nominal \n",
      "$ 10 cada una; 5) Sede social: Austria 2660, Piso 2º Departamento “D”, CABA; 6) Cierre de ejercicio: 31 de mayo; 7) \n",
      "Administración y representación legal: a cargo de uno o más gerentes que podrán ser socios o no de la sociedad, \n",
      "los que ejercerán la gerencia en forma individual e indistinta, por el término de duración de la sociedad. En caso \n",
      "que la Sociedad tenga su capital social dividido entre dos socios con igual cantidad cuotas partes y de derechos \n",
      "políticos, se deberán designar dos gerentes, teniendo cada socio derecho a la elección exclusiva de un gerente \n",
      "que lo represente; 8) Gerente: Martín Alejandro SOMMER y Mauricio Miguel GONZÁLEZ BOTTO, con domicilio \n",
      "especial en Austria 2660, Piso 2º Departamento “D”, CABA.\n",
      "Autorizado según instrumento privado Estatuto de fecha 21/06/2019\n",
      "Martin Elias Caceres - T°: 102 F°: 447 C.P.A.C.F.\n",
      "\n"
     ]
    }
   ],
   "source": [
    "print(your_string)"
   ]
  },
  {
   "cell_type": "code",
   "execution_count": 132,
   "metadata": {},
   "outputs": [],
   "source": [
    "check_ls = [ int(a==b) for a,b in zip( discretize_ls, anotados.Numbers.tolist())]\n",
    "# check_ls"
   ]
  },
  {
   "cell_type": "code",
   "execution_count": 117,
   "metadata": {},
   "outputs": [],
   "source": [
    "# anotados.Numbers.tolist()"
   ]
  },
  {
   "cell_type": "code",
   "execution_count": 114,
   "metadata": {},
   "outputs": [
    {
     "data": {
      "text/plain": [
       "700"
      ]
     },
     "execution_count": 114,
     "metadata": {},
     "output_type": "execute_result"
    }
   ],
   "source": [
    "len(discretize_ls)"
   ]
  },
  {
   "cell_type": "code",
   "execution_count": 112,
   "metadata": {},
   "outputs": [
    {
     "data": {
      "image/png": "[encoded data removed]",
      "text/plain": [
       "<Figure size 640x480 with 1 Axes>"
      ]
     },
     "metadata": {},
     "output_type": "display_data"
    }
   ],
   "source": [
    "def discretize(p):\n",
    "    if p<0.2:\n",
    "        return 0\n",
    "    elif p<0.8:\n",
    "        return -1\n",
    "    else:\n",
    "        return 1\n",
    "\n",
    "discretize_ls = [*map(discretize, proba_ls)]\n",
    "\n",
    "_, bins = pd.cut(discretize_ls, bins=3, retbins=True)\n",
    "plt.hist(discretize_ls, bins);"
   ]
  },
  {
   "cell_type": "code",
   "execution_count": 109,
   "metadata": {},
   "outputs": [
    {
     "data": {
      "image/png": "[encoded data removed]",
      "text/plain": [
       "<Figure size 640x480 with 1 Axes>"
      ]
     },
     "metadata": {},
     "output_type": "display_data"
    }
   ],
   "source": [
    "_, bins = pd.cut(proba_ls, bins=25, retbins=True)\n",
    "plt.hist(proba_ls, bins);"
   ]
  },
  {
   "cell_type": "code",
   "execution_count": null,
   "metadata": {},
   "outputs": [],
   "source": [
    "anotados"
   ]
  },
  {
   "cell_type": "code",
   "execution_count": null,
   "metadata": {},
   "outputs": [],
   "source": [
    "def modelo_clasificacion_1(text):\n",
    "\n",
    "\n",
    "\n",
    "# Load the spaCy model for Spanish\n",
    "nlp = spacy.load('es_core_news_sm')\n",
    "\n",
    "def preprocess(text):\n",
    "    # Step 1: Lowercasing\n",
    "    text = text.lower()\n",
    "    text = unidecode(text)\n",
    "    \n",
    "    # Step 2: Tokenization\n",
    "    doc = nlp(text)\n",
    "\n",
    "    # Step 3: Stopword removal\n",
    "    # tokens = [token.text for token in doc if token.text not in STOP_WORDS]\n",
    "    #tokens = [token.text for token in doc if token.text not in STOP_WORDS and token.text not in string.punctuation]\n",
    "    \n",
    "    # Step 4: Lemmatization\n",
    "    #lemmatized_tokens = [token.lemma_ for token in doc if token.text not in STOP_WORDS]\n",
    "    lemmatized_tokens = [token.lemma_ for token in doc if token.text not in STOP_WORDS and token.text not in string.punctuation]\n",
    "\n",
    "\n",
    "    return \" \".join(lemmatized_tokens)"
   ]
  },
  {
   "cell_type": "code",
   "execution_count": 91,
   "metadata": {},
   "outputs": [
    {
     "data": {
      "text/html": [
       "<div>\n",
       "<style scoped>\n",
       "    .dataframe tbody tr th:only-of-type {\n",
       "        vertical-align: middle;\n",
       "    }\n",
       "\n",
       "    .dataframe tbody tr th {\n",
       "        vertical-align: top;\n",
       "    }\n",
       "\n",
       "    .dataframe thead th {\n",
       "        text-align: right;\n",
       "    }\n",
       "</style>\n",
       "<table border=\"1\" class=\"dataframe\">\n",
       "  <thead>\n",
       "    <tr style=\"text-align: right;\">\n",
       "      <th></th>\n",
       "      <th>Letters</th>\n",
       "      <th>tokens</th>\n",
       "      <th>Numbers</th>\n",
       "    </tr>\n",
       "  </thead>\n",
       "  <tbody>\n",
       "    <tr>\n",
       "      <th>0</th>\n",
       "      <td>\\nFLORIAN S.A.\\n1) Daniel Mario Marquez DNI 10...</td>\n",
       "      <td>\\n floriar s.a \\n 1 daniel mario marquez dni 1...</td>\n",
       "      <td>1</td>\n",
       "    </tr>\n",
       "    <tr>\n",
       "      <th>1</th>\n",
       "      <td>\\nSOLUCIONES DE SEGURIDAD VIAL S.A.\\nPor Asamb...</td>\n",
       "      <td>\\n solución seguridad vial s.a \\n asamblea gen...</td>\n",
       "      <td>0</td>\n",
       "    </tr>\n",
       "    <tr>\n",
       "      <th>2</th>\n",
       "      <td>\\nAVAPYME S.A.S.\\nCONSTITUCIÓN: 17/10/2018. 1....</td>\n",
       "      <td>\\n avapymir s.a.s \\n constitucion 17/10/2018 1...</td>\n",
       "      <td>1</td>\n",
       "    </tr>\n",
       "    <tr>\n",
       "      <th>3</th>\n",
       "      <td>\\nSHABBA FARMA S.R.L.\\nEsc. 269 del 29-3-22 Re...</td>\n",
       "      <td>\\n shabba farmar s.r.l \\n esc 269 29-3-22 regi...</td>\n",
       "      <td>1</td>\n",
       "    </tr>\n",
       "    <tr>\n",
       "      <th>4</th>\n",
       "      <td>\\nGADA GROUP S.A.\\nCUIT 30-71583994-2. Por Act...</td>\n",
       "      <td>\\n gado group s.a \\n cuit 30-71583994-2 acta a...</td>\n",
       "      <td>0</td>\n",
       "    </tr>\n",
       "    <tr>\n",
       "      <th>...</th>\n",
       "      <td>...</td>\n",
       "      <td>...</td>\n",
       "      <td>...</td>\n",
       "    </tr>\n",
       "    <tr>\n",
       "      <th>695</th>\n",
       "      <td>\\n\\n\\n \\nESAOTE LATINOAMÉRICA S.A.U.\\nCUIT N° ...</td>\n",
       "      <td>\\n\\n\\n \\n esaote latinoamerico s.a.u \\n cuit n...</td>\n",
       "      <td>0</td>\n",
       "    </tr>\n",
       "    <tr>\n",
       "      <th>696</th>\n",
       "      <td>\\nARQ &amp; CO S.A.S.\\nCONSTITUCIÓN: 07/08/2019. 1...</td>\n",
       "      <td>\\n arq co s.a.s \\n constitucion 07/08/2019 1.-...</td>\n",
       "      <td>1</td>\n",
       "    </tr>\n",
       "    <tr>\n",
       "      <th>697</th>\n",
       "      <td>\\n\\n\\n \\nEVENTOS TURISTICOS Y RURALES S.R.L.\\n...</td>\n",
       "      <td>\\n\\n\\n \\n evento turistico rural s.r.l \\n 1 16...</td>\n",
       "      <td>1</td>\n",
       "    </tr>\n",
       "    <tr>\n",
       "      <th>698</th>\n",
       "      <td>\\nCALITEC S.R.L.\\nPor resolucion de reunion de...</td>\n",
       "      <td>\\n calitec s.r.l \\n resolucion reunion socio 3...</td>\n",
       "      <td>0</td>\n",
       "    </tr>\n",
       "    <tr>\n",
       "      <th>699</th>\n",
       "      <td>\\nTRUST STREAMING S.R.L.\\nConstitución de soci...</td>\n",
       "      <td>\\n trust streaming s.r.l \\n constitucion socie...</td>\n",
       "      <td>1</td>\n",
       "    </tr>\n",
       "  </tbody>\n",
       "</table>\n",
       "<p>700 rows × 3 columns</p>\n",
       "</div>"
      ],
      "text/plain": [
       "                                               Letters  \\\n",
       "0    \\nFLORIAN S.A.\\n1) Daniel Mario Marquez DNI 10...   \n",
       "1    \\nSOLUCIONES DE SEGURIDAD VIAL S.A.\\nPor Asamb...   \n",
       "2    \\nAVAPYME S.A.S.\\nCONSTITUCIÓN: 17/10/2018. 1....   \n",
       "3    \\nSHABBA FARMA S.R.L.\\nEsc. 269 del 29-3-22 Re...   \n",
       "4    \\nGADA GROUP S.A.\\nCUIT 30-71583994-2. Por Act...   \n",
       "..                                                 ...   \n",
       "695  \\n\\n\\n \\nESAOTE LATINOAMÉRICA S.A.U.\\nCUIT N° ...   \n",
       "696  \\nARQ & CO S.A.S.\\nCONSTITUCIÓN: 07/08/2019. 1...   \n",
       "697  \\n\\n\\n \\nEVENTOS TURISTICOS Y RURALES S.R.L.\\n...   \n",
       "698  \\nCALITEC S.R.L.\\nPor resolucion de reunion de...   \n",
       "699  \\nTRUST STREAMING S.R.L.\\nConstitución de soci...   \n",
       "\n",
       "                                                tokens Numbers  \n",
       "0    \\n floriar s.a \\n 1 daniel mario marquez dni 1...       1  \n",
       "1    \\n solución seguridad vial s.a \\n asamblea gen...       0  \n",
       "2    \\n avapymir s.a.s \\n constitucion 17/10/2018 1...       1  \n",
       "3    \\n shabba farmar s.r.l \\n esc 269 29-3-22 regi...       1  \n",
       "4    \\n gado group s.a \\n cuit 30-71583994-2 acta a...       0  \n",
       "..                                                 ...     ...  \n",
       "695  \\n\\n\\n \\n esaote latinoamerico s.a.u \\n cuit n...       0  \n",
       "696  \\n arq co s.a.s \\n constitucion 07/08/2019 1.-...       1  \n",
       "697  \\n\\n\\n \\n evento turistico rural s.r.l \\n 1 16...       1  \n",
       "698  \\n calitec s.r.l \\n resolucion reunion socio 3...       0  \n",
       "699  \\n trust streaming s.r.l \\n constitucion socie...       1  \n",
       "\n",
       "[700 rows x 3 columns]"
      ]
     },
     "execution_count": 91,
     "metadata": {},
     "output_type": "execute_result"
    }
   ],
   "source": [
    "anotados['predicted"
   ]
  },
  {
   "cell_type": "code",
   "execution_count": 90,
   "metadata": {},
   "outputs": [
    {
     "ename": "NameError",
     "evalue": "name 'Letters' is not defined",
     "output_type": "error",
     "traceback": [
      "\u001b[1;31m---------------------------------------------------------------------------\u001b[0m",
      "\u001b[1;31mNameError\u001b[0m                                 Traceback (most recent call last)",
      "Cell \u001b[1;32mIn[90], line 1\u001b[0m\n\u001b[1;32m----> 1\u001b[0m \u001b[43mLetters\u001b[49m\n",
      "\u001b[1;31mNameError\u001b[0m: name 'Letters' is not defined"
     ]
    }
   ],
   "source": [
    "Letters"
   ]
  },
  {
   "cell_type": "markdown",
   "metadata": {},
   "source": [
    "---"
   ]
  },
  {
   "cell_type": "code",
   "execution_count": null,
   "metadata": {},
   "outputs": [],
   "source": [
    "\n",
    "# Example text for prediction\n",
    "new_text = test[10][0]# \"Some new text that you want to classify.\"\n",
    "\n",
    "# Process the text with the loaded model\n",
    "doc = nlp(new_text)\n",
    "\n",
    "# Access the text classification scores for each category\n",
    "category_scores = doc.cats\n",
    "\n",
    "# Predicted category with the highest score\n",
    "predicted_category = max(category_scores, key=category_scores.get)\n",
    "\n",
    "print(f\"Predicted Category: {predicted_category}\")\n",
    "print(\"Category Scores:\", category_scores)"
   ]
  },
  {
   "cell_type": "code",
   "execution_count": 53,
   "metadata": {},
   "outputs": [],
   "source": [
    "# nlp.__dict__"
   ]
  },
  {
   "cell_type": "code",
   "execution_count": 128,
   "metadata": {},
   "outputs": [
    {
     "name": "stdout",
     "output_type": "stream",
     "text": [
      "3.5.2\n"
     ]
    }
   ],
   "source": [
    "print(spacy.__version__)\n"
   ]
  },
  {
   "cell_type": "code",
   "execution_count": 50,
   "metadata": {},
   "outputs": [],
   "source": [
    "# python -m spacy init fill-config base_config.cfg config.cfg\n"
   ]
  },
  {
   "cell_type": "code",
   "execution_count": 39,
   "metadata": {},
   "outputs": [
    {
     "data": {
      "text/plain": [
       "{'_rehearsal_model': None}"
      ]
     },
     "execution_count": 39,
     "metadata": {},
     "output_type": "execute_result"
    }
   ],
   "source": [
    "text_cat.__dict__"
   ]
  },
  {
   "cell_type": "code",
   "execution_count": 37,
   "metadata": {},
   "outputs": [
    {
     "ename": "AttributeError",
     "evalue": "'TextCategorizer' object has no attribute 'evaluate'",
     "output_type": "error",
     "traceback": [
      "\u001b[1;31m---------------------------------------------------------------------------\u001b[0m",
      "\u001b[1;31mAttributeError\u001b[0m                            Traceback (most recent call last)",
      "Cell \u001b[1;32mIn[37], line 1\u001b[0m\n\u001b[1;32m----> 1\u001b[0m evaluation_results \u001b[38;5;241m=\u001b[39m \u001b[43mtext_cat\u001b[49m\u001b[38;5;241;43m.\u001b[39;49m\u001b[43mevaluate\u001b[49m(test)\n\u001b[0;32m      2\u001b[0m \u001b[38;5;28mprint\u001b[39m(evaluation_results)\n",
      "\u001b[1;31mAttributeError\u001b[0m: 'TextCategorizer' object has no attribute 'evaluate'"
     ]
    }
   ],
   "source": [
    "evaluation_results = text_cat.evaluate(test)\n",
    "print(evaluation_results)"
   ]
  },
  {
   "cell_type": "code",
   "execution_count": 26,
   "metadata": {},
   "outputs": [
    {
     "data": {
      "text/plain": [
       "'C:\\\\Users\\\\juani\\\\Documents\\\\3_My_Jupiter_Notebooks\\\\0_github\\\\ner'"
      ]
     },
     "execution_count": 26,
     "metadata": {},
     "output_type": "execute_result"
    }
   ],
   "source": [
    "import os\n",
    "os.getcwd()"
   ]
  },
  {
   "cell_type": "code",
   "execution_count": 27,
   "metadata": {},
   "outputs": [],
   "source": [
    "# Save the trained model\n",
    "nlp.to_disk('C:\\\\Users\\\\juani\\\\Documents\\\\3_My_Jupiter_Notebooks\\\\0_github\\\\ner\\\\toy_classifier')"
   ]
  },
  {
   "cell_type": "code",
   "execution_count": 42,
   "metadata": {},
   "outputs": [
    {
     "data": {
      "text/plain": [
       "'\\n ltx argentino s.r.l \\n cuit 30712087303 cumplimiento rg igj 3/2020 comunicar fecha 30/12/21 jorge damaso hector \\n alcantar cedio 2400 cuota juan pedro alcantara b veronicar susana masle cedio 9000 cuota juan \\n pedro alcantara c veronicar susana masle cedio 600 cuota dolor delfino quedar capital social \\n 12000 representado 12000 cuota 1 valor nominal suscripto juan pedro alcantara \\n argentino dni 28643594 cuit 20286435948 casado nacido 08/01/81 domicilio av constituyent 7245 \\n benavidez tigre provincia aires 11400 cuota dolor delfino argentino dni 25288590 cuit \\n 27252885906 casado nacido 18/06/76 domicilio av constituyent 7245 benavidez tigre provincia \\n aires 600 cuota escritura fecha 30/12/21 jorge damaso hector alcantar renuncio cargo \\n gerente designar reemplazo gerente juan pedro alcantara aceptar cargo constituir \\n domicilio clemente zarraga 3561 car escritura fecha 30/12/21 reformo articulo 5 contrato \\n social quedar articulo quinto administracion sociedad estar cargo gerente titular \\n socio reunion socio podrar designar gerente suplente plazo \\n cubrir vacante poder surgir gerente titular suplente desempenarar \\n cargo indefinidamente ejercerar cargo sustituir gerente designado \\n reunion socio caso ausencia renuncia impedimento gerente titular gerente \\n suplente asumirar cargo gerente debera presentar garantia incluir bono titulo publico \\n suma dinero moneda nacional extranjero depositado entidad financiero depositaria valor \\n nombre sociedad aval garantia bancario garantia seguro responsabilidad civil \\n nombre sociedad tipo garantia previsto ley aplicable concederar \\n legislacion vigente autorizado instrumento publico esc 777 fecha 30/12/2021 reg \\n 2130 \\n damaso jo él maria uriburu monte tdeg 111 fdeg 622 c.p.a.c.f \\n'"
      ]
     },
     "execution_count": 42,
     "metadata": {},
     "output_type": "execute_result"
    }
   ],
   "source": [
    "test[0][0]"
   ]
  },
  {
   "cell_type": "code",
   "execution_count": 48,
   "metadata": {},
   "outputs": [
    {
     "name": "stdout",
     "output_type": "stream",
     "text": [
      "Predicted Category: estatuto\n",
      "Category Scores: {'estatuto': 0.5, 'otro': 0.5}\n"
     ]
    }
   ],
   "source": [
    "import spacy\n",
    "\n",
    "# Load the trained model\n",
    "nlp = spacy.load('C:\\\\Users\\\\juani\\\\Documents\\\\3_My_Jupiter_Notebooks\\\\0_github\\\\ner\\\\toy_classifier')\n",
    "\n",
    "# Example text for prediction\n",
    "new_text = test[10][0]# \"Some new text that you want to classify.\"\n",
    "\n",
    "# Process the text with the loaded model\n",
    "doc = nlp(new_text)\n",
    "\n",
    "# Access the text classification scores for each category\n",
    "category_scores = doc.cats\n",
    "\n",
    "# Predicted category with the highest score\n",
    "predicted_category = max(category_scores, key=category_scores.get)\n",
    "\n",
    "print(f\"Predicted Category: {predicted_category}\")\n",
    "print(\"Category Scores:\", category_scores)"
   ]
  },
  {
   "cell_type": "code",
   "execution_count": 47,
   "metadata": {},
   "outputs": [
    {
     "data": {
      "text/plain": [
       "{'estatuto': 0.5, 'otro': 0.5}"
      ]
     },
     "execution_count": 47,
     "metadata": {},
     "output_type": "execute_result"
    }
   ],
   "source": [
    "category_scores"
   ]
  }
 ],
 "metadata": {
  "accelerator": "GPU",
  "colab": {
   "gpuType": "T4",
   "provenance": [],
   "toc_visible": true
  },
  "kernelspec": {
   "display_name": "Python 3 (ipykernel)",
   "language": "python",
   "name": "python3"
  },
  "language_info": {
   "codemirror_mode": {
    "name": "ipython",
    "version": 3
   },
   "file_extension": ".py",
   "mimetype": "text/x-python",
   "name": "python",
   "nbconvert_exporter": "python",
   "pygments_lexer": "ipython3",
   "version": "3.10.4"
  }
 },
 "nbformat": 4,
 "nbformat_minor": 4
}
